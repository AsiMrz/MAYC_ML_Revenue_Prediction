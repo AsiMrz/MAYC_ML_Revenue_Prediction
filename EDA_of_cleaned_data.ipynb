{
  "nbformat": 4,
  "nbformat_minor": 0,
  "metadata": {
    "colab": {
      "name": "EDA-of-cleaned-data.ipynb",
      "provenance": [],
      "collapsed_sections": [],
      "toc_visible": true,
      "authorship_tag": "ABX9TyPGR8Xejd+ixXudfOG4DB+r",
      "include_colab_link": true
    },
    "kernelspec": {
      "name": "python3",
      "display_name": "Python 3"
    }
  },
  "cells": [
    {
      "cell_type": "markdown",
      "metadata": {
        "id": "view-in-github",
        "colab_type": "text"
      },
      "source": [
        "<a href=\"https://colab.research.google.com/github/AsiMrz/MAYC_ML_Revenue_Prediction/blob/EDA/EDA_of_cleaned_data.ipynb\" target=\"_parent\"><img src=\"https://colab.research.google.com/assets/colab-badge.svg\" alt=\"Open In Colab\"/></a>"
      ]
    },
    {
      "cell_type": "markdown",
      "metadata": {
        "id": "YfXHBYKNslCS",
        "colab_type": "text"
      },
      "source": [
        "#Mounting the Google Drive"
      ]
    },
    {
      "cell_type": "code",
      "metadata": {
        "id": "dFsXY-XSuFcB",
        "colab_type": "code",
        "outputId": "f81a9b09-701f-4cdf-e1c1-932dba11d518",
        "colab": {
          "base_uri": "https://localhost:8080/",
          "height": 121
        }
      },
      "source": [
        "#Mount the Google Drive to Google Colab\n",
        "from google.colab import drive\n",
        "drive.mount('/content/gdrive')"
      ],
      "execution_count": 1,
      "outputs": [
        {
          "output_type": "stream",
          "text": [
            "Go to this URL in a browser: https://accounts.google.com/o/oauth2/auth?client_id=947318989803-6bn6qk8qdgf4n4g3pfee6491hc0brc4i.apps.googleusercontent.com&redirect_uri=urn%3aietf%3awg%3aoauth%3a2.0%3aoob&response_type=code&scope=email%20https%3a%2f%2fwww.googleapis.com%2fauth%2fdocs.test%20https%3a%2f%2fwww.googleapis.com%2fauth%2fdrive%20https%3a%2f%2fwww.googleapis.com%2fauth%2fdrive.photos.readonly%20https%3a%2f%2fwww.googleapis.com%2fauth%2fpeopleapi.readonly\n",
            "\n",
            "Enter your authorization code:\n",
            "··········\n",
            "Mounted at /content/gdrive\n"
          ],
          "name": "stdout"
        }
      ]
    },
    {
      "cell_type": "code",
      "metadata": {
        "id": "mW813ge0uKYw",
        "colab_type": "code",
        "colab": {}
      },
      "source": [
        "root_path = '/content/gdrive/My Drive/DA-Data/Full_Data'"
      ],
      "execution_count": 0,
      "outputs": []
    },
    {
      "cell_type": "code",
      "metadata": {
        "id": "aUrly0YzugAC",
        "colab_type": "code",
        "outputId": "b97f9bfa-5182-4632-d6ef-e758b5f04f83",
        "colab": {
          "base_uri": "https://localhost:8080/",
          "height": 34
        }
      },
      "source": [
        "cd '/content/gdrive/My Drive/DA-Data/Full_Data'"
      ],
      "execution_count": 3,
      "outputs": [
        {
          "output_type": "stream",
          "text": [
            "/content/gdrive/My Drive/DA-Data/Full_Data\n"
          ],
          "name": "stdout"
        }
      ]
    },
    {
      "cell_type": "code",
      "metadata": {
        "id": "Ai7kgkVKuoXu",
        "colab_type": "code",
        "outputId": "3de35ea2-9b28-4dac-9998-6aa8abb489b1",
        "colab": {
          "base_uri": "https://localhost:8080/",
          "height": 34
        }
      },
      "source": [
        "ls"
      ],
      "execution_count": 4,
      "outputs": [
        {
          "output_type": "stream",
          "text": [
            "all_data.csv  fulldata.csv\n"
          ],
          "name": "stdout"
        }
      ]
    },
    {
      "cell_type": "markdown",
      "metadata": {
        "id": "ozZQoebCjScl",
        "colab_type": "text"
      },
      "source": [
        "#Importing libraries"
      ]
    },
    {
      "cell_type": "code",
      "metadata": {
        "id": "4EoKylSUroKp",
        "colab_type": "code",
        "outputId": "12a1cf14-4575-4735-fce9-af86bb7b6143",
        "colab": {
          "base_uri": "https://localhost:8080/",
          "height": 188
        }
      },
      "source": [
        "! pip install --upgrade ppscore"
      ],
      "execution_count": 6,
      "outputs": [
        {
          "output_type": "stream",
          "text": [
            "Collecting ppscore\n",
            "  Downloading https://files.pythonhosted.org/packages/4d/0f/32b991b05f392ca2f86587972f5d94d86ea7d6fdb659a607c52a67dbcfcd/ppscore-0.0.2.tar.gz\n",
            "Building wheels for collected packages: ppscore\n",
            "  Building wheel for ppscore (setup.py) ... \u001b[?25l\u001b[?25hdone\n",
            "  Created wheel for ppscore: filename=ppscore-0.0.2-py2.py3-none-any.whl size=9629 sha256=96b0e4436a29b2959b7f0b112a21841f92db1b08437ed31754e9cba599e54bd3\n",
            "  Stored in directory: /root/.cache/pip/wheels/29/32/a2/82782fc09f5cd68e401ff047201d38af8965fb94984db18aa5\n",
            "Successfully built ppscore\n",
            "Installing collected packages: ppscore\n",
            "Successfully installed ppscore-0.0.2\n"
          ],
          "name": "stdout"
        }
      ]
    },
    {
      "cell_type": "code",
      "metadata": {
        "id": "cSY5pHTIrl2c",
        "colab_type": "code",
        "colab": {}
      },
      "source": [
        "\n",
        "import gc, pickle\n",
        "from copy import deepcopy\n",
        "\n",
        "import numpy as np\n",
        "import pandas as pd\n",
        "import matplotlib.pyplot as plt\n",
        "import seaborn as sns\n",
        "from mlxtend.data import iris_data\n",
        "#from mlxtend.plotting import plot_decision_regions\n",
        "%matplotlib inline\n",
        "import warnings\n",
        "warnings.filterwarnings('ignore')\n",
        "#!pip3 install --upgrade seaborn cufflinks plotly\n",
        "from datetime import datetime\n",
        "import requests\n",
        "\n",
        "import plotly.graph_objects as go\n",
        "import ppscore as pps\n",
        "#import shap, optuna\n",
        "#from pdpbox import pdp\n",
        "\n",
        "from sklearn.preprocessing import LabelEncoder, MinMaxScaler\n",
        "from sklearn.metrics import mean_squared_error as mse\n",
        "from sklearn.metrics import mean_absolute_error as mae\n",
        "rmse = lambda true, pred: mse(true, pred) ** 0.5\n",
        "from sklearn.ensemble import RandomForestRegressor\n",
        "from sklearn.model_selection import GridSearchCV, RandomizedSearchCV, train_test_split, KFold\n",
        "from sklearn.decomposition import PCA\n"
      ],
      "execution_count": 0,
      "outputs": []
    },
    {
      "cell_type": "code",
      "metadata": {
        "id": "JMKc_4Q6p8-Y",
        "colab_type": "code",
        "colab": {}
      },
      "source": [
        "df = pd.read_csv(\"fulldata.csv\")"
      ],
      "execution_count": 0,
      "outputs": []
    },
    {
      "cell_type": "code",
      "metadata": {
        "id": "3rjr2JeHvXjD",
        "colab_type": "code",
        "outputId": "700d3cbf-08bd-4255-8a73-e27a053b3c54",
        "colab": {
          "base_uri": "https://localhost:8080/",
          "height": 316
        }
      },
      "source": [
        "df.head()"
      ],
      "execution_count": 10,
      "outputs": [
        {
          "output_type": "execute_result",
          "data": {
            "text/html": [
              "<div>\n",
              "<style scoped>\n",
              "    .dataframe tbody tr th:only-of-type {\n",
              "        vertical-align: middle;\n",
              "    }\n",
              "\n",
              "    .dataframe tbody tr th {\n",
              "        vertical-align: top;\n",
              "    }\n",
              "\n",
              "    .dataframe thead th {\n",
              "        text-align: right;\n",
              "    }\n",
              "</style>\n",
              "<table border=\"1\" class=\"dataframe\">\n",
              "  <thead>\n",
              "    <tr style=\"text-align: right;\">\n",
              "      <th></th>\n",
              "      <th>device.operatingSystem</th>\n",
              "      <th>date</th>\n",
              "      <th>totals.hits</th>\n",
              "      <th>totals.visits</th>\n",
              "      <th>geoNetwork.region</th>\n",
              "      <th>trafficSource.keyword</th>\n",
              "      <th>totals.pageviews</th>\n",
              "      <th>totals.totalTransactionRevenue</th>\n",
              "      <th>trafficSource.isTrueDirect</th>\n",
              "      <th>trafficSource.adwordsClickInfo.isVideoAd</th>\n",
              "      <th>channelGrouping</th>\n",
              "      <th>visitStartTime</th>\n",
              "      <th>geoNetwork.country</th>\n",
              "      <th>geoNetwork.city</th>\n",
              "      <th>totals.bounces</th>\n",
              "      <th>totals.sessionQualityDim</th>\n",
              "      <th>trafficSource.source</th>\n",
              "      <th>visitId</th>\n",
              "      <th>totals.transactions</th>\n",
              "      <th>dataset</th>\n",
              "      <th>visitNumber</th>\n",
              "      <th>geoNetwork.networkDomain</th>\n",
              "      <th>totals.transactionRevenue</th>\n",
              "      <th>geoNetwork.continent</th>\n",
              "      <th>totals.timeOnSite</th>\n",
              "      <th>geoNetwork.subContinent</th>\n",
              "      <th>totals.newVisits</th>\n",
              "      <th>fullVisitorId</th>\n",
              "      <th>device.browser</th>\n",
              "      <th>customDimension.value</th>\n",
              "      <th>device.deviceCategory</th>\n",
              "      <th>trafficSource.medium</th>\n",
              "      <th>trafficSource.adwordsClickInfo.adNetworkType</th>\n",
              "      <th>device.isMobile</th>\n",
              "      <th>trafficSource.adwordsClickInfo.page</th>\n",
              "      <th>geoNetwork.metro</th>\n",
              "    </tr>\n",
              "  </thead>\n",
              "  <tbody>\n",
              "    <tr>\n",
              "      <th>0</th>\n",
              "      <td>Windows</td>\n",
              "      <td>2017-10-16</td>\n",
              "      <td>1.0</td>\n",
              "      <td>1</td>\n",
              "      <td>not available in demo dataset</td>\n",
              "      <td>water bottle</td>\n",
              "      <td>1</td>\n",
              "      <td>0.0</td>\n",
              "      <td>False</td>\n",
              "      <td>True</td>\n",
              "      <td>Organic Search</td>\n",
              "      <td>1508198450</td>\n",
              "      <td>Germany</td>\n",
              "      <td>not available in demo dataset</td>\n",
              "      <td>1</td>\n",
              "      <td>1</td>\n",
              "      <td>google</td>\n",
              "      <td>1508198450</td>\n",
              "      <td>0</td>\n",
              "      <td>train</td>\n",
              "      <td>1</td>\n",
              "      <td>(not set)</td>\n",
              "      <td>0.0</td>\n",
              "      <td>Europe</td>\n",
              "      <td>0</td>\n",
              "      <td>Western Europe</td>\n",
              "      <td>1</td>\n",
              "      <td>3162355547410993243</td>\n",
              "      <td>Firefox</td>\n",
              "      <td>EMEA</td>\n",
              "      <td>desktop</td>\n",
              "      <td>organic</td>\n",
              "      <td>(not set)</td>\n",
              "      <td>False</td>\n",
              "      <td>0</td>\n",
              "      <td>(not set)</td>\n",
              "    </tr>\n",
              "    <tr>\n",
              "      <th>1</th>\n",
              "      <td>Chrome OS</td>\n",
              "      <td>2017-10-16</td>\n",
              "      <td>2.0</td>\n",
              "      <td>1</td>\n",
              "      <td>California</td>\n",
              "      <td>NaN</td>\n",
              "      <td>2</td>\n",
              "      <td>0.0</td>\n",
              "      <td>False</td>\n",
              "      <td>True</td>\n",
              "      <td>Referral</td>\n",
              "      <td>1508176307</td>\n",
              "      <td>United States</td>\n",
              "      <td>Cupertino</td>\n",
              "      <td>0</td>\n",
              "      <td>2</td>\n",
              "      <td>sites.google.com</td>\n",
              "      <td>1508176307</td>\n",
              "      <td>0</td>\n",
              "      <td>train</td>\n",
              "      <td>6</td>\n",
              "      <td>(not set)</td>\n",
              "      <td>0.0</td>\n",
              "      <td>Americas</td>\n",
              "      <td>28</td>\n",
              "      <td>Northern America</td>\n",
              "      <td>0</td>\n",
              "      <td>8934116514970143966</td>\n",
              "      <td>Chrome</td>\n",
              "      <td>North America</td>\n",
              "      <td>desktop</td>\n",
              "      <td>referral</td>\n",
              "      <td>(not set)</td>\n",
              "      <td>False</td>\n",
              "      <td>0</td>\n",
              "      <td>San Francisco-Oakland-San Jose CA</td>\n",
              "    </tr>\n",
              "    <tr>\n",
              "      <th>2</th>\n",
              "      <td>Android</td>\n",
              "      <td>2017-10-16</td>\n",
              "      <td>2.0</td>\n",
              "      <td>1</td>\n",
              "      <td>not available in demo dataset</td>\n",
              "      <td>NaN</td>\n",
              "      <td>2</td>\n",
              "      <td>0.0</td>\n",
              "      <td>True</td>\n",
              "      <td>True</td>\n",
              "      <td>Direct</td>\n",
              "      <td>1508201613</td>\n",
              "      <td>United States</td>\n",
              "      <td>not available in demo dataset</td>\n",
              "      <td>0</td>\n",
              "      <td>1</td>\n",
              "      <td>(direct)</td>\n",
              "      <td>1508201613</td>\n",
              "      <td>0</td>\n",
              "      <td>train</td>\n",
              "      <td>1</td>\n",
              "      <td>windjammercable.net</td>\n",
              "      <td>0.0</td>\n",
              "      <td>Americas</td>\n",
              "      <td>38</td>\n",
              "      <td>Northern America</td>\n",
              "      <td>1</td>\n",
              "      <td>7992466427990357681</td>\n",
              "      <td>Chrome</td>\n",
              "      <td>North America</td>\n",
              "      <td>mobile</td>\n",
              "      <td>(none)</td>\n",
              "      <td>(not set)</td>\n",
              "      <td>True</td>\n",
              "      <td>0</td>\n",
              "      <td>(not set)</td>\n",
              "    </tr>\n",
              "    <tr>\n",
              "      <th>3</th>\n",
              "      <td>Windows</td>\n",
              "      <td>2017-10-16</td>\n",
              "      <td>2.0</td>\n",
              "      <td>1</td>\n",
              "      <td>not available in demo dataset</td>\n",
              "      <td>(not provided)</td>\n",
              "      <td>2</td>\n",
              "      <td>0.0</td>\n",
              "      <td>False</td>\n",
              "      <td>True</td>\n",
              "      <td>Organic Search</td>\n",
              "      <td>1508169851</td>\n",
              "      <td>Turkey</td>\n",
              "      <td>not available in demo dataset</td>\n",
              "      <td>0</td>\n",
              "      <td>1</td>\n",
              "      <td>google</td>\n",
              "      <td>1508169851</td>\n",
              "      <td>0</td>\n",
              "      <td>train</td>\n",
              "      <td>1</td>\n",
              "      <td>unknown.unknown</td>\n",
              "      <td>0.0</td>\n",
              "      <td>Asia</td>\n",
              "      <td>1</td>\n",
              "      <td>Western Asia</td>\n",
              "      <td>1</td>\n",
              "      <td>9075655783635761930</td>\n",
              "      <td>Chrome</td>\n",
              "      <td>EMEA</td>\n",
              "      <td>desktop</td>\n",
              "      <td>organic</td>\n",
              "      <td>(not set)</td>\n",
              "      <td>False</td>\n",
              "      <td>0</td>\n",
              "      <td>(not set)</td>\n",
              "    </tr>\n",
              "    <tr>\n",
              "      <th>4</th>\n",
              "      <td>Windows</td>\n",
              "      <td>2017-10-16</td>\n",
              "      <td>2.0</td>\n",
              "      <td>1</td>\n",
              "      <td>not available in demo dataset</td>\n",
              "      <td>(not provided)</td>\n",
              "      <td>2</td>\n",
              "      <td>0.0</td>\n",
              "      <td>False</td>\n",
              "      <td>True</td>\n",
              "      <td>Organic Search</td>\n",
              "      <td>1508190552</td>\n",
              "      <td>Mexico</td>\n",
              "      <td>not available in demo dataset</td>\n",
              "      <td>0</td>\n",
              "      <td>1</td>\n",
              "      <td>google</td>\n",
              "      <td>1508190552</td>\n",
              "      <td>0</td>\n",
              "      <td>train</td>\n",
              "      <td>1</td>\n",
              "      <td>prod-infinitum.com.mx</td>\n",
              "      <td>0.0</td>\n",
              "      <td>Americas</td>\n",
              "      <td>52</td>\n",
              "      <td>Central America</td>\n",
              "      <td>1</td>\n",
              "      <td>6960673291025684308</td>\n",
              "      <td>Chrome</td>\n",
              "      <td>Central America</td>\n",
              "      <td>desktop</td>\n",
              "      <td>organic</td>\n",
              "      <td>(not set)</td>\n",
              "      <td>False</td>\n",
              "      <td>0</td>\n",
              "      <td>(not set)</td>\n",
              "    </tr>\n",
              "  </tbody>\n",
              "</table>\n",
              "</div>"
            ],
            "text/plain": [
              "  device.operatingSystem  ...                   geoNetwork.metro\n",
              "0                Windows  ...                          (not set)\n",
              "1              Chrome OS  ...  San Francisco-Oakland-San Jose CA\n",
              "2                Android  ...                          (not set)\n",
              "3                Windows  ...                          (not set)\n",
              "4                Windows  ...                          (not set)\n",
              "\n",
              "[5 rows x 36 columns]"
            ]
          },
          "metadata": {
            "tags": []
          },
          "execution_count": 10
        }
      ]
    },
    {
      "cell_type": "code",
      "metadata": {
        "id": "LOImh8gQff36",
        "colab_type": "code",
        "outputId": "adef44fc-8341-42ca-e5cb-d1d2a79da1d7",
        "colab": {
          "base_uri": "https://localhost:8080/",
          "height": 689
        }
      },
      "source": [
        "df.info()"
      ],
      "execution_count": 0,
      "outputs": [
        {
          "output_type": "stream",
          "text": [
            "<class 'pandas.core.frame.DataFrame'>\n",
            "RangeIndex: 2109926 entries, 0 to 2109925\n",
            "Data columns (total 33 columns):\n",
            " #   Column                                        Dtype  \n",
            "---  ------                                        -----  \n",
            " 0   geoNetwork.subContinent                       object \n",
            " 1   customDimension.value                         object \n",
            " 2   totals.transactionRevenue                     float64\n",
            " 3   fullVisitorId                                 float64\n",
            " 4   totals.bounces                                int64  \n",
            " 5   geoNetwork.region                             object \n",
            " 6   date                                          object \n",
            " 7   visitStartTime                                int64  \n",
            " 8   totals.sessionQualityDim                      int64  \n",
            " 9   trafficSource.adwordsClickInfo.isVideoAd      bool   \n",
            " 10  totals.timeOnSite                             int64  \n",
            " 11  device.deviceCategory                         object \n",
            " 12  geoNetwork.city                               object \n",
            " 13  trafficSource.source                          object \n",
            " 14  device.operatingSystem                        object \n",
            " 15  totals.transactions                           int64  \n",
            " 16  visitNumber                                   int64  \n",
            " 17  geoNetwork.metro                              object \n",
            " 18  totals.hits                                   float64\n",
            " 19  totals.newVisits                              int64  \n",
            " 20  trafficSource.isTrueDirect                    bool   \n",
            " 21  trafficSource.adwordsClickInfo.adNetworkType  object \n",
            " 22  trafficSource.medium                          object \n",
            " 23  totals.totalTransactionRevenue                float64\n",
            " 24  channelGrouping                               object \n",
            " 25  device.isMobile                               bool   \n",
            " 26  geoNetwork.continent                          object \n",
            " 27  geoNetwork.country                            object \n",
            " 28  visitId                                       int64  \n",
            " 29  device.browser                                object \n",
            " 30  dataset                                       object \n",
            " 31  geoNetwork.networkDomain                      object \n",
            " 32  totals.pageviews                              int64  \n",
            "dtypes: bool(3), float64(4), int64(9), object(17)\n",
            "memory usage: 489.0+ MB\n"
          ],
          "name": "stdout"
        }
      ]
    },
    {
      "cell_type": "markdown",
      "metadata": {
        "id": "Lv74QDxWq0vE",
        "colab_type": "text"
      },
      "source": [
        "#Predictive Power Score"
      ]
    },
    {
      "cell_type": "markdown",
      "metadata": {
        "id": "mWHNykmmwgZO",
        "colab_type": "text"
      },
      "source": [
        "The PPS is an asymmetric, data-type-agnostic score that can detect linear or non-linear relationships between two columns. The score ranges from 0 (no predictive power) to 1 (perfect predictive power). It can be used as an alternative to the correlation (matrix).\n",
        "Ref: https://www.kaggle.com/frtgnn/predictive-power-score-vs-correlation"
      ]
    },
    {
      "cell_type": "code",
      "metadata": {
        "id": "1unS8z4uq2O7",
        "colab_type": "code",
        "colab": {}
      },
      "source": [
        "pps_matrix = pps.matrix(df)"
      ],
      "execution_count": 0,
      "outputs": []
    },
    {
      "cell_type": "code",
      "metadata": {
        "id": "CJLZXCx3tqDL",
        "colab_type": "code",
        "outputId": "29049171-c6a5-4a93-e8c6-ef3fccba8ecf",
        "colab": {
          "base_uri": "https://localhost:8080/",
          "height": 542
        }
      },
      "source": [
        "# heatmap\n",
        "fig = go.Figure(\n",
        "    data = go.Heatmap(\n",
        "        z = pps_matrix.values,\n",
        "        x = pps_matrix.index,\n",
        "        y = pps_matrix.columns\n",
        "    )\n",
        ")\n",
        "fig.update_layout(title_text = 'Predictive Power Score Heatmap')\n",
        "fig.show()"
      ],
      "execution_count": 12,
      "outputs": [
        {
          "output_type": "display_data",
          "data": {
            "text/html": [
              "<html>\n",
              "<head><meta charset=\"utf-8\" /></head>\n",
              "<body>\n",
              "    <div>\n",
              "            <script src=\"https://cdnjs.cloudflare.com/ajax/libs/mathjax/2.7.5/MathJax.js?config=TeX-AMS-MML_SVG\"></script><script type=\"text/javascript\">if (window.MathJax) {MathJax.Hub.Config({SVG: {font: \"STIX-Web\"}});}</script>\n",
              "                <script type=\"text/javascript\">window.PlotlyConfig = {MathJaxConfig: 'local'};</script>\n",
              "        <script src=\"https://cdn.plot.ly/plotly-latest.min.js\"></script>    \n",
              "            <div id=\"0510aa78-b50b-459a-bb61-4e9e110c21d7\" class=\"plotly-graph-div\" style=\"height:525px; width:100%;\"></div>\n",
              "            <script type=\"text/javascript\">\n",
              "                \n",
              "                    window.PLOTLYENV=window.PLOTLYENV || {};\n",
              "                    \n",
              "                if (document.getElementById(\"0510aa78-b50b-459a-bb61-4e9e110c21d7\")) {\n",
              "                    Plotly.newPlot(\n",
              "                        '0510aa78-b50b-459a-bb61-4e9e110c21d7',\n",
              "                        [{\"type\": \"heatmap\", \"x\": [\"device.operatingSystem\", \"date\", \"totals.hits\", \"totals.visits\", \"geoNetwork.region\", \"trafficSource.keyword\", \"totals.pageviews\", \"totals.totalTransactionRevenue\", \"trafficSource.isTrueDirect\", \"trafficSource.adwordsClickInfo.isVideoAd\", \"channelGrouping\", \"visitStartTime\", \"geoNetwork.country\", \"geoNetwork.city\", \"totals.bounces\", \"totals.sessionQualityDim\", \"trafficSource.source\", \"visitId\", \"totals.transactions\", \"dataset\", \"visitNumber\", \"geoNetwork.networkDomain\", \"totals.transactionRevenue\", \"geoNetwork.continent\", \"totals.timeOnSite\", \"geoNetwork.subContinent\", \"totals.newVisits\", \"fullVisitorId\", \"device.browser\", \"customDimension.value\", \"device.deviceCategory\", \"trafficSource.medium\", \"trafficSource.adwordsClickInfo.adNetworkType\", \"device.isMobile\", \"trafficSource.adwordsClickInfo.page\", \"geoNetwork.metro\"], \"y\": [\"device.operatingSystem\", \"date\", \"totals.hits\", \"totals.visits\", \"geoNetwork.region\", \"trafficSource.keyword\", \"totals.pageviews\", \"totals.totalTransactionRevenue\", \"trafficSource.isTrueDirect\", \"trafficSource.adwordsClickInfo.isVideoAd\", \"channelGrouping\", \"visitStartTime\", \"geoNetwork.country\", \"geoNetwork.city\", \"totals.bounces\", \"totals.sessionQualityDim\", \"trafficSource.source\", \"visitId\", \"totals.transactions\", \"dataset\", \"visitNumber\", \"geoNetwork.networkDomain\", \"totals.transactionRevenue\", \"geoNetwork.continent\", \"totals.timeOnSite\", \"geoNetwork.subContinent\", \"totals.newVisits\", \"fullVisitorId\", \"device.browser\", \"customDimension.value\", \"device.deviceCategory\", \"trafficSource.medium\", \"trafficSource.adwordsClickInfo.adNetworkType\", \"device.isMobile\", \"trafficSource.adwordsClickInfo.page\", \"geoNetwork.metro\"], \"z\": [[1.0, 0.11659033823480926, 0.08769914381496763, 0.0, 0.18529165868239378, 0.10313607542586407, 0.08639624164455458, 0.008986792530430004, 0.10300718483806598, 0.040123457026052314, 0.1638644074360565, 0.10136778507907925, 0.17305893446519957, 0.19367103785107823, 0.044940692763088104, 0.07986020650243396, 0.1422239566524224, 0.10136778507907925, 0.014841219183114724, 0.0, 0.10262932397337221, 0.21012795081176763, 0.009352953026311893, 0.149069895875511, 0.09559463941011358, 0.17358864372513189, 0.11145406243581864, 0.0, 0.2295300372384671, 0.15332874289197293, 0.26614595882901954, 0.16907281181991526, 0.04068313805491309, 0.21660395892962409, 0.03976952129208112, 0.16482185863242602], [0.00022734532469202977, 1.0, 0.00024643593066080735, 3.15076471417328e-07, 0.000255071439257241, 0.0018588785764985312, 0.00014392457198008328, 0.0, 7.239788320195626e-05, 7.468737051857005e-05, 0.000502473950404812, 0.9156376968301828, 0.00035057086739482174, 0.00032393996949274274, 3.277798589105141e-05, 0.00014679696266354058, 0.003038903904511435, 0.9156376968301828, 0.0, 0.00013175095293560513, 2.6269398961743493e-05, 0.0008029338164102237, 0.0, 7.150137322411342e-05, 0.0007111905333811101, 9.6399885387762e-05, 2.3815419901193756e-05, 0.0, 0.0005005102352575414, 3.6453157716331834e-05, 9.856885197827173e-05, 0.0002141241749534367, 0.0002032114766563543, 0.00011166246466231297, 7.529140426789995e-05, 4.7871620607955356e-06], [0.0, 0.0, 1.0, 0.0, 0.0, 0.0, 0.8313099318976942, 0.0, 0.0, 0.0, 0.0, 0.0, 0.0, 0.0, 0.08455606291042883, 0.037247312184913506, 0.0, 0.0, 0.0, 0.0, 0.0, 0.0, 0.0, 0.0, 0.2245763777109231, 0.0, 0.0, 0.0, 0.0, 0.0, 0.0, 0.0, 0.0, 0.0, 0.0, 0.0], [1.0, 1.0, 1.0, 1.0, 1.0, 1.0, 1.0, 1.0, 1.0, 1.0, 1.0, 1.0, 1.0, 1.0, 1.0, 1.0, 1.0, 1.0, 1.0, 1.0, 1.0, 1.0, 1.0, 1.0, 1.0, 1.0, 1.0, 1.0, 1.0, 1.0, 1.0, 1.0, 1.0, 1.0, 1.0, 1.0], [0.0417898422409842, 0.0, 0.017402481943354576, 1.4105984500524206e-07, 1.0, 0.0020790947403089705, 0.012716942833968023, 0.005476461483440822, 1.4105984500524206e-07, 1.4105984500524206e-07, 0.09773225085291298, 0.0, 0.06676323614890606, 0.9050209264799299, 1.4105984500524206e-07, 0.029523168686911443, 0.018434254948264315, 0.0, 0.0037172782689201232, 1.4105984500524206e-07, 0.016021616729070123, 0.13256868116394005, 0.004148807179116888, 0.0027756266319219655, 0.017803806919348766, 0.0030934196980719722, 1.4105984500524206e-07, 0.0, 0.0, 1.4105984500524206e-07, 1.4105984500524206e-07, 0.0002669098645927792, 1.4105984500524206e-07, 1.4105984500524206e-07, 0.0, 0.4979235979251728], [0.029445439917967352, 0.15061737209808504, 0.003761875788111298, 1.244976542922104e-07, 0.030429286899853306, 1.0, 0.0, 0.0007948985502919561, 1.244976542922104e-07, 0.12014363197905767, 0.7509150541651453, 0.11950507405291788, 0.03633726098717089, 0.030863994495039036, 1.244976542922104e-07, 0.00880063300474675, 0.5895759623230121, 0.11950507405291788, 1.244976542922104e-07, 1.244976542922104e-07, 0.0, 0.025588959886674197, 0.0007282061994680967, 0.0, 0.0, 0.007988900641022714, 1.244976542922104e-07, 0.0, 0.08718119627148842, 1.244976542922104e-07, 1.244976542922104e-07, 0.7393495033423617, 0.14683533727431927, 1.244976542922104e-07, 0.12471710739046776, 0.007565897726898196], [0.0, 0.0, 0.8459221641017742, 0.0, 0.0, 0.0, 1.0, 0.0, 0.0, 0.0, 0.0, 0.0, 0.0, 0.0, 0.13597547272439925, 0.06979266859334787, 0.0, 0.0, 0.0, 0.0, 0.0, 0.0, 0.0, 0.0, 0.29895465480431227, 0.0, 0.0, 0.0, 0.0, 0.0, 0.0, 0.0, 0.0, 0.0, 0.0, 0.0], [0.0, 0.0, 0.0, 0.0, 0.0, 0.0, 0.0, 1.0, 0.0, 0.0, 0.0, 0.0, 0.0, 0.0, 0.0, 0.0, 0.0, 0.0, 0.0, 0.0, 0.0, 0.0, 0.8264840226706522, 0.0, 0.0, 0.0, 0.0, 0.0, 0.0, 0.0, 0.0, 0.0, 0.0, 0.0, 0.0, 0.0], [0.004785462388158511, 0.0864467726380777, 0.022550464688189716, 1.1113620551111457e-07, 0.09133061891282393, 0.32533322751941496, 0.018382562939644964, 0.02050177888781475, 1.0, 1.1113620551111457e-07, 0.6066504364979198, 0.08568077542637043, 0.010288570759816169, 0.10741234875378994, 1.1113620551111457e-07, 0.07400165525639141, 0.5330209253987226, 0.08568077542637043, 0.03822107822948936, 1.1113620551111457e-07, 0.6162687267422142, 0.07363144952286096, 0.023607517646498048, 0.0007882787035732783, 0.07977602994983078, 0.002055310994006134, 0.6172431897891274, 0.0, 0.0, 1.1113620551111457e-07, 1.1113620551111457e-07, 0.5334134362336543, 1.1113620551111457e-07, 1.1113620551111457e-07, 0.0, 0.04514765658469888], [5.372747876524313e-07, 0.0, 0.0, 5.372747876524313e-07, 0.03541391030556944, 0.9293207192722448, 0.0, 0.0, 5.372747876524313e-07, 1.0, 0.7419458062868487, 0.0, 0.0, 0.0, 5.372747876524313e-07, 0.0, 5.372747876524313e-07, 0.0, 5.372747876524313e-07, 5.372747876524313e-07, 0.0, 0.0, 0.0, 5.372747876524313e-07, 0.0, 5.372747876524313e-07, 5.372747876524313e-07, 0.0, 0.0, 5.372747876524313e-07, 5.372747876524313e-07, 0.8016700661861021, 1.0, 5.372747876524313e-07, 1.0, 0.0], [0.04378929024614646, 0.06659593350993553, 0.013924537560273785, 1.0916407027666535e-07, 0.13607442663614241, 0.6918624624188862, 0.0008363801832805714, 0.0082620742172973, 0.17268550333655583, 0.033534061061321126, 1.0, 0.048518995702045785, 0.1375753527140764, 0.13189335779814107, 1.0916407027666535e-07, 0.028689560875897406, 0.6852472137500537, 0.048518995702045785, 0.015795871256524954, 1.0916407027666535e-07, 0.03525109494127307, 0.10905676107816874, 0.007988302929838707, 0.06223818584543518, 0.03081697556318375, 0.11112446806935491, 1.0916407027666535e-07, 0.0, 0.07482690767771742, 0.1019655462800121, 1.0916407027666535e-07, 0.6267389711884631, 0.07561049138736653, 1.0916407027666535e-07, 0.03285466009443611, 0.07426644806528857], [0.002786138795368598, 0.9820238599948512, 0.0, 0.0, 0.00843632409488182, 0.17011338348276173, 0.0, 0.0, 0.0, 0.0, 0.015166159373299348, 1.0, 0.0, 0.006179028550479693, 0.0, 0.4881523349146071, 0.054377032007143056, 0.9994557981247688, 0.0, 0.28267803774512, 0.0, 0.003943968324623182, 0.0, 0.0, 0.0, 0.0048927088406278685, 0.00036451223410594036, 0.0, 0.005914537685919652, 0.002872125624493571, 0.0003425202908826641, 0.036300602557503, 0.0, 0.0005797309946882212, 0.0, 0.0], [0.002372282161687216, 0.0, 0.0, 1.1000880906445734e-07, 0.40490876958772803, 4.490317231898609e-05, 0.0, 0.0, 1.1000880906445734e-07, 1.1000880906445734e-07, 1.1000880906445734e-07, 0.0, 1.0, 0.39069349832178557, 1.1000880906445734e-07, 0.0, 0.010799456202063986, 0.0, 1.1000880906445734e-07, 1.1000880906445734e-07, 0.0, 0.49858357637011286, 0.0, 0.25735170457022366, 0.0, 0.4724445341212819, 1.1000880906445734e-07, 0.0, 0.014367157076562494, 0.33239162667436645, 1.1000880906445734e-07, 1.1000880906445734e-07, 1.1000880906445734e-07, 1.1000880906445734e-07, 1.1000880906445734e-07, 0.04358701812332778], [0.008390136536510362, 0.0, 0.0007774995711752514, 1.4105984500524206e-07, 0.6931037820584046, 0.0008361972086507883, 0.0005376705519151045, 0.0011023278975794343, 1.4105984500524206e-07, 1.4105984500524206e-07, 1.4105984500524206e-07, 0.0, 0.06942825519822156, 1.0, 1.4105984500524206e-07, 0.0058079584114470876, 0.0028928384587551975, 0.0, 1.4105984500524206e-07, 1.4105984500524206e-07, 0.002269731312751051, 0.10825236585547592, 0.0010554284199328634, 0.0027979492077328137, 0.0, 0.003138884317588866, 1.4105984500524206e-07, 0.0, 0.0, 1.4105984500524206e-07, 1.4105984500524206e-07, 1.4105984500524206e-07, 1.4105984500524206e-07, 1.4105984500524206e-07, 0.0, 0.30880430756647514], [0.33447623583351704, 0.2777533731654633, 0.9948657636369566, 0.0, 0.33788457267238936, 0.12054115821585787, 0.9945634309918407, 0.04331051259572464, 0.24264838351554174, 0.006152400662660617, 0.32172760325421235, 0.2728795418918807, 0.39515661662264917, 0.323263294140549, 1.0, 0.34134338772710465, 0.33689293533036013, 0.2728795418918807, 0.04521989407915739, 0.20135452743114698, 0.18110855986984042, 0.372337645428165, 0.04331051259572464, 0.3961612644282613, 0.9954695655884317, 0.4140089037407855, 0.23176757986811924, 0.0, 0.2829130690997737, 0.4185148419726356, 0.2667355176965159, 0.30899807169261906, 0.03800850342266228, 0.2667355176965159, 0.005883087009275714, 0.31934611258137835], [0.0, 0.0, 0.0, 0.0, 0.0, 0.0, 0.0, 0.0, 0.0, 0.0, 0.0, 0.0, 0.0, 0.0, 0.0, 1.0, 0.0, 0.0, 0.0, 0.0, 0.0, 0.0, 0.0, 0.0, 0.0, 0.0, 0.0, 0.0, 0.0, 0.0, 0.0, 0.0, 0.0, 0.0, 0.0, 0.0], [0.18246292724063257, 0.24063957694169508, 0.12449367042659736, 0.0, 0.21779292445737794, 0.517420913208819, 0.09763028760751984, 0.014210583971724606, 0.30641587808577464, 0.0, 0.7367862977969847, 0.21557728014594063, 0.24821408474496676, 0.21216260551463573, 0.02598362445823935, 0.2350284160534863, 1.0, 0.21557728014594063, 0.023400146015450186, 0.0, 0.11015530476751378, 0.21767086006246988, 0.010986152191648856, 0.13192597187201768, 0.12745397021022584, 0.1893280412006309, 0.1357807021001224, 0.0, 0.059418480835997066, 0.1787667389378148, 0.0, 0.8610753999905825, 0.0, 0.0, 0.0, 0.16922234421849403], [0.002786138667683291, 0.9820229004073326, 0.0, 0.0, 0.008436716974359992, 0.17010537002728843, 0.0, 0.0, 0.0, 0.0, 0.01516615802498078, 0.9994557453752804, 0.0, 0.006175795522851524, 0.0, 0.48815234605900537, 0.05435288450027076, 1.0, 0.0, 0.2826780373562183, 0.0, 0.003944426672615964, 0.0, 0.0, 0.0, 0.004892703407135324, 0.0003645105179206354, 0.0, 0.005914535880530258, 0.002872122214812478, 0.00034251965592779765, 0.03630060737593732, 0.0, 0.0005797303684406119, 0.0, 0.0], [1.4834278643910776e-06, 1.4834278643910776e-06, 0.029377830881728077, 1.4834278643910776e-06, 1.4834278643910776e-06, 2.5972069715588523e-06, 0.042501104335591525, 0.9501743241083173, 1.4834278643910776e-06, 1.4834278643910776e-06, 1.4834278643910776e-06, 0.0, 1.4834278643910776e-06, 0.0, 1.4834278643910776e-06, 0.20859383759456496, 0.0, 0.0, 1.0, 1.4834278643910776e-06, 1.4834278643910776e-06, 0.0, 0.9505163026501916, 1.4834278643910776e-06, 0.0, 1.4834278643910776e-06, 1.4834278643910776e-06, 0.0, 1.4834278643910776e-06, 1.4834278643910776e-06, 1.4834278643910776e-06, 1.4834278643910776e-06, 1.4834278643910776e-06, 1.4834278643910776e-06, 1.4834278643910776e-06, 0.0], [1.4546616225312854e-07, 0.9892413916657062, 0.0, 1.4546616225312854e-07, 0.002073917933558041, 0.5610635255780649, 0.0, 0.0, 1.4546616225312854e-07, 1.4546616225312854e-07, 1.4546616225312854e-07, 1.0, 0.0, 0.009631211947188936, 1.4546616225312854e-07, 0.04230460706140903, 0.024932917640098595, 1.0, 1.4546616225312854e-07, 1.0, 0.0019128884375043452, 0.02227398742514058, 0.0, 0.0009962598810064566, 0.01795580100671305, 0.00028891635034663133, 1.4546616225312854e-07, 0.0, 0.0, 1.4546616225312854e-07, 1.4546616225312854e-07, 1.4546616225312854e-07, 1.4546616225312854e-07, 1.4546616225312854e-07, 1.4546616225312854e-07, 0.000456679993604145], [0.0, 0.0, 0.0, 0.0, 0.0, 0.0, 0.0, 0.0, 0.0, 0.0, 0.0, 0.0, 0.0, 0.0, 0.0, 0.0, 0.0, 0.0, 0.0, 0.0, 1.0, 0.0, 0.0, 0.0, 0.0, 0.0, 0.0, 0.0, 0.0, 0.0, 0.0, 0.0, 0.0, 0.0, 0.0, 0.0], [0.06949000714302815, 0.004015764118812163, 0.0, 0.0, 0.07882648345154229, 0.0, 0.0, 0.0, 0.0, 0.0, 0.06231429494912288, 0.0, 0.1696205778513895, 0.07356012203507362, 0.0, 0.0, 0.0685977981998571, 0.0, 0.0, 0.0, 0.0010764708573802863, 1.0, 0.0, 0.09585767749606759, 0.0, 0.1110607117602395, 0.0, 0.0, 0.04255244625058115, 0.10555744429918669, 0.0, 0.06456938943196257, 0.0, 0.0, 0.0, 0.005424492319852793], [0.0, 0.0, 0.0, 0.0, 0.0, 0.0, 0.0, 0.8217776214901275, 0.0, 0.0, 0.0, 0.0, 0.0, 0.0, 0.0, 0.0, 0.0, 0.0, 0.0, 0.0, 0.0, 0.0, 1.0, 0.0, 0.0, 0.0, 0.0, 0.0, 0.0, 0.0, 0.0, 0.0, 0.0, 0.0, 0.0, 0.0], [0.01674642748296037, 0.05927748661825092, 0.0, 0.0, 0.44998544260731904, 0.002196583922204348, 0.0, 0.0, 0.0, 0.0, 0.1629843306703625, 0.11168412082926649, 0.991045206481461, 0.4389674895245811, 0.0, 0.0, 0.17599959674419044, 0.11168412082926649, 0.0, 0.0, 0.0008968070081800195, 0.6064675983770971, 0.0, 1.0, 0.008340485124918348, 1.0, 0.0, 0.0, 0.09395874721418505, 0.7876024468827473, 0.0, 0.16403424963967783, 0.0, 0.0, 0.0, 0.0623966400274813], [0.0, 0.0, 0.1947416891875271, 0.0, 0.0, 0.0, 0.20659798003557495, 0.0, 0.0, 0.0, 0.0, 0.0, 0.0, 0.0, 0.0, 0.0, 0.0, 0.0, 0.0, 0.0, 0.0, 0.0, 0.0, 0.0, 1.0, 0.0, 0.0, 0.0, 0.0, 0.0, 0.0, 0.0, 0.0, 0.0, 0.0, 0.0], [0.006141083071314055, 0.0, 0.0, 1.0800023619598979e-07, 0.42319626570671637, 8.387338412025697e-05, 0.0, 0.0, 1.0800023619598979e-07, 1.0800023619598979e-07, 0.057385427422499156, 0.0, 0.9919457709320775, 0.4130101128374041, 1.0800023619598979e-07, 0.0, 0.08079227981129697, 0.0, 1.0800023619598979e-07, 1.0800023619598979e-07, 0.0, 0.521123190859141, 0.0, 0.3316674221585491, 0.0, 1.0, 1.0800023619598979e-07, 0.0, 0.01801402747352091, 0.4498750531624861, 1.0800023619598979e-07, 1.0800023619598979e-07, 1.0800023619598979e-07, 1.0800023619598979e-07, 1.0800023619598979e-07, 0.04979622669466639], [0.0012264777132018436, 0.0, 0.04137766398872438, 1.650545688097307e-07, 0.02004484432748761, 0.023050542382182657, 0.02585064577672786, 0.028593845609914674, 0.5479060711228835, 1.650545688097307e-07, 0.22071671212651453, 0.0, 0.0, 0.09296254000976535, 1.650545688097307e-07, 0.1338228746380896, 0.031597081742027, 0.0, 0.04749462664073861, 1.650545688097307e-07, 1.0, 0.03319777914344076, 0.0295512068852474, 1.650545688097307e-07, 0.06826190969213994, 0.0, 1.0, 0.0, 0.0022382863842179725, 1.650545688097307e-07, 1.650545688097307e-07, 1.650545688097307e-07, 1.650545688097307e-07, 1.650545688097307e-07, 0.0, 0.02387604316520501], [0.0, 0.0, 0.0, 0.0, 0.0, 0.0, 0.0, 0.0, 0.0, 0.0, 0.0, 0.0, 0.0, 0.0, 0.0, 0.0, 0.0, 0.0, 0.0, 0.0, 0.0, 0.0, 0.0, 0.0, 0.0, 0.0, 0.0, 1.0, 0.0, 0.0, 0.0, 0.0, 0.0, 0.0, 0.0, 0.0], [0.396221646806957, 0.007750556158892593, 0.0, 1.1595957464469846e-07, 0.02227306154653173, 0.026578209961588797, 0.0, 0.0, 1.1595957464469846e-07, 1.1595957464469846e-07, 1.1595957464469846e-07, 0.0, 0.027331139359057097, 0.024599041862126036, 1.1595957464469846e-07, 0.0, 0.020526774777276005, 0.0, 1.1595957464469846e-07, 1.1595957464469846e-07, 0.0, 0.029685720413301253, 0.00035050829766178473, 1.1595957464469846e-07, 0.0, 0.011341385105159961, 1.1595957464469846e-07, 0.0, 1.0, 1.1595957464469846e-07, 0.0983700782225634, 1.1595957464469846e-07, 1.1595957464469846e-07, 1.1595957464469846e-07, 9.469759076927945e-05, 0.0], [0.01882089142649, 0.033791263898282846, 0.0, 1.0800023619598979e-07, 0.4511493939799451, 0.00138775552324635, 0.0, 0.0, 1.0800023619598979e-07, 1.0800023619598979e-07, 0.1422230671332497, 0.07317622933711743, 0.999714166758927, 0.42912980025968583, 1.0800023619598979e-07, 0.0, 0.16341655401059202, 0.07317622933711743, 1.0800023619598979e-07, 1.0800023619598979e-07, 0.0, 0.5655873611186338, 0.0, 0.607119947722099, 0.0, 0.8197944934466153, 1.0800023619598979e-07, 0.0, 0.07710890075107175, 1.0, 1.0800023619598979e-07, 0.14041118972085956, 1.0800023619598979e-07, 1.0800023619598979e-07, 1.0800023619598979e-07, 0.05495829853957782], [0.8630733004239428, 0.10921424460385433, 0.0017027424554360983, 1.1351650991202716e-07, 0.025511809434388927, 0.17687046483435567, 1.1351650991202716e-07, 0.0, 1.1351650991202716e-07, 0.09869956962736197, 0.0859036789446502, 0.04987087725954468, 0.03147061958262527, 0.0540154211809683, 1.1351650991202716e-07, 0.0005677922734195161, 0.030368049383708677, 0.04987087725954468, 1.1351650991202716e-07, 1.1351650991202716e-07, 0.0, 0.11715773983740403, 0.0, 0.02898819599281766, 0.008897682843472508, 0.024443489613482593, 1.1351650991202716e-07, 0.0, 0.37763057829573465, 1.1351650991202716e-07, 1.0, 0.11111387373357683, 0.0710976566307209, 0.8694769179530152, 0.09796945888357195, 0.027246909452275484], [0.18111632621355073, 0.24389657806734913, 0.13554152146681875, 0.0, 0.23095374065908028, 0.6975504626660324, 0.10584492956659132, 0.013835729468350131, 0.29299795823801317, 0.053344314148638966, 0.8219887860366316, 0.2320081939517984, 0.31495481934028147, 0.22347929825583282, 0.14032487260479412, 0.2210046159065819, 0.9195626010835491, 0.2320081939517984, 0.02215668563292429, 0.022749648833173004, 0.11348424288073841, 0.2733440070569593, 0.010690976228112312, 0.27104956503621064, 0.13797053278930071, 0.30449267299467886, 0.13955837114076053, 0.0, 0.07420481808099441, 0.2830496775592847, 0.0, 1.0, 0.053344314148638966, 0.0, 0.053344314148638966, 0.17260004056620945], [5.372747876524313e-07, 0.0, 0.0, 5.372747876524313e-07, 0.039575338902092125, 0.9328786597038697, 0.0, 0.0, 5.372747876524313e-07, 0.5544110197723441, 0.7425267476180721, 0.0, 5.372747876524313e-07, 0.0, 5.372747876524313e-07, 5.372747876524313e-07, 5.372747876524313e-07, 0.0, 5.372747876524313e-07, 5.372747876524313e-07, 5.372747876524313e-07, 0.0, 0.0, 5.372747876524313e-07, 0.0, 5.372747876524313e-07, 5.372747876524313e-07, 0.0, 5.372747876524313e-07, 5.372747876524313e-07, 5.372747876524313e-07, 0.4436986540677799, 1.0, 5.372747876524313e-07, 0.5513723606054889, 0.0], [0.9909084414772438, 0.14154584899338807, 0.004265827452022318, 1.1351650991202716e-07, 0.04013643816213731, 0.21327428109017527, 1.1351650991202716e-07, 0.0, 1.1351650991202716e-07, 0.1210979722984741, 0.14425033283346, 0.10778172491954903, 0.04255486527236839, 0.06199713653242929, 1.1351650991202716e-07, 0.0, 0.033998962396896114, 0.10778172491954903, 1.1351650991202716e-07, 1.1351650991202716e-07, 0.0, 0.12978817788579966, 0.002054248627957452, 0.032662043263381665, 0.015467242315304296, 0.03406709236058192, 1.1351650991202716e-07, 0.0, 0.45913343207714974, 1.1351650991202716e-07, 1.0, 0.13361470337651407, 0.10203833715951574, 1.0, 0.1210979722984741, 0.031753009653035756], [5.372747876524313e-07, 0.0, 0.0, 5.372747876524313e-07, 0.041147205491159314, 0.9162611532369016, 0.0, 0.0, 5.372747876524313e-07, 0.984873002183909, 0.7287302964668737, 0.0, 5.372747876524313e-07, 0.0, 5.372747876524313e-07, 5.372747876524313e-07, 5.372747876524313e-07, 0.0, 5.372747876524313e-07, 5.372747876524313e-07, 5.372747876524313e-07, 0.0, 0.0, 5.372747876524313e-07, 0.0, 5.372747876524313e-07, 5.372747876524313e-07, 0.0, 5.372747876524313e-07, 5.372747876524313e-07, 5.372747876524313e-07, 0.7874085666953431, 0.984873002183909, 5.372747876524313e-07, 1.0, 0.0], [1.6830287741046687e-07, 0.0, 0.006468152512521033, 1.6830287741046687e-07, 0.8890069251161812, 0.003350101179454824, 0.0, 0.011444879711501923, 1.6830287741046687e-07, 1.6830287741046687e-07, 1.6830287741046687e-07, 0.0, 1.6830287741046687e-07, 0.9692041785995124, 1.6830287741046687e-07, 0.03259623255035353, 0.029968305164183598, 0.0, 1.6830287741046687e-07, 1.6830287741046687e-07, 0.0, 0.07219368261165736, 0.008172113918090078, 1.6830287741046687e-07, 0.0037525236289126834, 1.6830287741046687e-07, 1.6830287741046687e-07, 0.0, 1.6830287741046687e-07, 1.6830287741046687e-07, 1.6830287741046687e-07, 1.6830287741046687e-07, 1.6830287741046687e-07, 1.6830287741046687e-07, 0.0, 1.0]]}],\n",
              "                        {\"template\": {\"data\": {\"bar\": [{\"error_x\": {\"color\": \"#2a3f5f\"}, \"error_y\": {\"color\": \"#2a3f5f\"}, \"marker\": {\"line\": {\"color\": \"#E5ECF6\", \"width\": 0.5}}, \"type\": \"bar\"}], \"barpolar\": [{\"marker\": {\"line\": {\"color\": \"#E5ECF6\", \"width\": 0.5}}, \"type\": \"barpolar\"}], \"carpet\": [{\"aaxis\": {\"endlinecolor\": \"#2a3f5f\", \"gridcolor\": \"white\", \"linecolor\": \"white\", \"minorgridcolor\": \"white\", \"startlinecolor\": \"#2a3f5f\"}, \"baxis\": {\"endlinecolor\": \"#2a3f5f\", \"gridcolor\": \"white\", \"linecolor\": \"white\", \"minorgridcolor\": \"white\", \"startlinecolor\": \"#2a3f5f\"}, \"type\": \"carpet\"}], \"choropleth\": [{\"colorbar\": {\"outlinewidth\": 0, \"ticks\": \"\"}, \"type\": \"choropleth\"}], \"contour\": [{\"colorbar\": {\"outlinewidth\": 0, \"ticks\": \"\"}, \"colorscale\": [[0.0, \"#0d0887\"], [0.1111111111111111, \"#46039f\"], [0.2222222222222222, \"#7201a8\"], [0.3333333333333333, \"#9c179e\"], [0.4444444444444444, \"#bd3786\"], [0.5555555555555556, \"#d8576b\"], [0.6666666666666666, \"#ed7953\"], [0.7777777777777778, \"#fb9f3a\"], [0.8888888888888888, \"#fdca26\"], [1.0, \"#f0f921\"]], \"type\": \"contour\"}], \"contourcarpet\": [{\"colorbar\": {\"outlinewidth\": 0, \"ticks\": \"\"}, \"type\": \"contourcarpet\"}], \"heatmap\": [{\"colorbar\": {\"outlinewidth\": 0, \"ticks\": \"\"}, \"colorscale\": [[0.0, \"#0d0887\"], [0.1111111111111111, \"#46039f\"], [0.2222222222222222, \"#7201a8\"], [0.3333333333333333, \"#9c179e\"], [0.4444444444444444, \"#bd3786\"], [0.5555555555555556, \"#d8576b\"], [0.6666666666666666, \"#ed7953\"], [0.7777777777777778, \"#fb9f3a\"], [0.8888888888888888, \"#fdca26\"], [1.0, \"#f0f921\"]], \"type\": \"heatmap\"}], \"heatmapgl\": [{\"colorbar\": {\"outlinewidth\": 0, \"ticks\": \"\"}, \"colorscale\": [[0.0, \"#0d0887\"], [0.1111111111111111, \"#46039f\"], [0.2222222222222222, \"#7201a8\"], [0.3333333333333333, \"#9c179e\"], [0.4444444444444444, \"#bd3786\"], [0.5555555555555556, \"#d8576b\"], [0.6666666666666666, \"#ed7953\"], [0.7777777777777778, \"#fb9f3a\"], [0.8888888888888888, \"#fdca26\"], [1.0, \"#f0f921\"]], \"type\": \"heatmapgl\"}], \"histogram\": [{\"marker\": {\"colorbar\": {\"outlinewidth\": 0, \"ticks\": \"\"}}, \"type\": \"histogram\"}], \"histogram2d\": [{\"colorbar\": {\"outlinewidth\": 0, \"ticks\": \"\"}, \"colorscale\": [[0.0, \"#0d0887\"], [0.1111111111111111, \"#46039f\"], [0.2222222222222222, \"#7201a8\"], [0.3333333333333333, \"#9c179e\"], [0.4444444444444444, \"#bd3786\"], [0.5555555555555556, \"#d8576b\"], [0.6666666666666666, \"#ed7953\"], [0.7777777777777778, \"#fb9f3a\"], [0.8888888888888888, \"#fdca26\"], [1.0, \"#f0f921\"]], \"type\": \"histogram2d\"}], \"histogram2dcontour\": [{\"colorbar\": {\"outlinewidth\": 0, \"ticks\": \"\"}, \"colorscale\": [[0.0, \"#0d0887\"], [0.1111111111111111, \"#46039f\"], [0.2222222222222222, \"#7201a8\"], [0.3333333333333333, \"#9c179e\"], [0.4444444444444444, \"#bd3786\"], [0.5555555555555556, \"#d8576b\"], [0.6666666666666666, \"#ed7953\"], [0.7777777777777778, \"#fb9f3a\"], [0.8888888888888888, \"#fdca26\"], [1.0, \"#f0f921\"]], \"type\": \"histogram2dcontour\"}], \"mesh3d\": [{\"colorbar\": {\"outlinewidth\": 0, \"ticks\": \"\"}, \"type\": \"mesh3d\"}], \"parcoords\": [{\"line\": {\"colorbar\": {\"outlinewidth\": 0, \"ticks\": \"\"}}, \"type\": \"parcoords\"}], \"pie\": [{\"automargin\": true, \"type\": \"pie\"}], \"scatter\": [{\"marker\": {\"colorbar\": {\"outlinewidth\": 0, \"ticks\": \"\"}}, \"type\": \"scatter\"}], \"scatter3d\": [{\"line\": {\"colorbar\": {\"outlinewidth\": 0, \"ticks\": \"\"}}, \"marker\": {\"colorbar\": {\"outlinewidth\": 0, \"ticks\": \"\"}}, \"type\": \"scatter3d\"}], \"scattercarpet\": [{\"marker\": {\"colorbar\": {\"outlinewidth\": 0, \"ticks\": \"\"}}, \"type\": \"scattercarpet\"}], \"scattergeo\": [{\"marker\": {\"colorbar\": {\"outlinewidth\": 0, \"ticks\": \"\"}}, \"type\": \"scattergeo\"}], \"scattergl\": [{\"marker\": {\"colorbar\": {\"outlinewidth\": 0, \"ticks\": \"\"}}, \"type\": \"scattergl\"}], \"scattermapbox\": [{\"marker\": {\"colorbar\": {\"outlinewidth\": 0, \"ticks\": \"\"}}, \"type\": \"scattermapbox\"}], \"scatterpolar\": [{\"marker\": {\"colorbar\": {\"outlinewidth\": 0, \"ticks\": \"\"}}, \"type\": \"scatterpolar\"}], \"scatterpolargl\": [{\"marker\": {\"colorbar\": {\"outlinewidth\": 0, \"ticks\": \"\"}}, \"type\": \"scatterpolargl\"}], \"scatterternary\": [{\"marker\": {\"colorbar\": {\"outlinewidth\": 0, \"ticks\": \"\"}}, \"type\": \"scatterternary\"}], \"surface\": [{\"colorbar\": {\"outlinewidth\": 0, \"ticks\": \"\"}, \"colorscale\": [[0.0, \"#0d0887\"], [0.1111111111111111, \"#46039f\"], [0.2222222222222222, \"#7201a8\"], [0.3333333333333333, \"#9c179e\"], [0.4444444444444444, \"#bd3786\"], [0.5555555555555556, \"#d8576b\"], [0.6666666666666666, \"#ed7953\"], [0.7777777777777778, \"#fb9f3a\"], [0.8888888888888888, \"#fdca26\"], [1.0, \"#f0f921\"]], \"type\": \"surface\"}], \"table\": [{\"cells\": {\"fill\": {\"color\": \"#EBF0F8\"}, \"line\": {\"color\": \"white\"}}, \"header\": {\"fill\": {\"color\": \"#C8D4E3\"}, \"line\": {\"color\": \"white\"}}, \"type\": \"table\"}]}, \"layout\": {\"annotationdefaults\": {\"arrowcolor\": \"#2a3f5f\", \"arrowhead\": 0, \"arrowwidth\": 1}, \"coloraxis\": {\"colorbar\": {\"outlinewidth\": 0, \"ticks\": \"\"}}, \"colorscale\": {\"diverging\": [[0, \"#8e0152\"], [0.1, \"#c51b7d\"], [0.2, \"#de77ae\"], [0.3, \"#f1b6da\"], [0.4, \"#fde0ef\"], [0.5, \"#f7f7f7\"], [0.6, \"#e6f5d0\"], [0.7, \"#b8e186\"], [0.8, \"#7fbc41\"], [0.9, \"#4d9221\"], [1, \"#276419\"]], \"sequential\": [[0.0, \"#0d0887\"], [0.1111111111111111, \"#46039f\"], [0.2222222222222222, \"#7201a8\"], [0.3333333333333333, \"#9c179e\"], [0.4444444444444444, \"#bd3786\"], [0.5555555555555556, \"#d8576b\"], [0.6666666666666666, \"#ed7953\"], [0.7777777777777778, \"#fb9f3a\"], [0.8888888888888888, \"#fdca26\"], [1.0, \"#f0f921\"]], \"sequentialminus\": [[0.0, \"#0d0887\"], [0.1111111111111111, \"#46039f\"], [0.2222222222222222, \"#7201a8\"], [0.3333333333333333, \"#9c179e\"], [0.4444444444444444, \"#bd3786\"], [0.5555555555555556, \"#d8576b\"], [0.6666666666666666, \"#ed7953\"], [0.7777777777777778, \"#fb9f3a\"], [0.8888888888888888, \"#fdca26\"], [1.0, \"#f0f921\"]]}, \"colorway\": [\"#636efa\", \"#EF553B\", \"#00cc96\", \"#ab63fa\", \"#FFA15A\", \"#19d3f3\", \"#FF6692\", \"#B6E880\", \"#FF97FF\", \"#FECB52\"], \"font\": {\"color\": \"#2a3f5f\"}, \"geo\": {\"bgcolor\": \"white\", \"lakecolor\": \"white\", \"landcolor\": \"#E5ECF6\", \"showlakes\": true, \"showland\": true, \"subunitcolor\": \"white\"}, \"hoverlabel\": {\"align\": \"left\"}, \"hovermode\": \"closest\", \"mapbox\": {\"style\": \"light\"}, \"paper_bgcolor\": \"white\", \"plot_bgcolor\": \"#E5ECF6\", \"polar\": {\"angularaxis\": {\"gridcolor\": \"white\", \"linecolor\": \"white\", \"ticks\": \"\"}, \"bgcolor\": \"#E5ECF6\", \"radialaxis\": {\"gridcolor\": \"white\", \"linecolor\": \"white\", \"ticks\": \"\"}}, \"scene\": {\"xaxis\": {\"backgroundcolor\": \"#E5ECF6\", \"gridcolor\": \"white\", \"gridwidth\": 2, \"linecolor\": \"white\", \"showbackground\": true, \"ticks\": \"\", \"zerolinecolor\": \"white\"}, \"yaxis\": {\"backgroundcolor\": \"#E5ECF6\", \"gridcolor\": \"white\", \"gridwidth\": 2, \"linecolor\": \"white\", \"showbackground\": true, \"ticks\": \"\", \"zerolinecolor\": \"white\"}, \"zaxis\": {\"backgroundcolor\": \"#E5ECF6\", \"gridcolor\": \"white\", \"gridwidth\": 2, \"linecolor\": \"white\", \"showbackground\": true, \"ticks\": \"\", \"zerolinecolor\": \"white\"}}, \"shapedefaults\": {\"line\": {\"color\": \"#2a3f5f\"}}, \"ternary\": {\"aaxis\": {\"gridcolor\": \"white\", \"linecolor\": \"white\", \"ticks\": \"\"}, \"baxis\": {\"gridcolor\": \"white\", \"linecolor\": \"white\", \"ticks\": \"\"}, \"bgcolor\": \"#E5ECF6\", \"caxis\": {\"gridcolor\": \"white\", \"linecolor\": \"white\", \"ticks\": \"\"}}, \"title\": {\"x\": 0.05}, \"xaxis\": {\"automargin\": true, \"gridcolor\": \"white\", \"linecolor\": \"white\", \"ticks\": \"\", \"title\": {\"standoff\": 15}, \"zerolinecolor\": \"white\", \"zerolinewidth\": 2}, \"yaxis\": {\"automargin\": true, \"gridcolor\": \"white\", \"linecolor\": \"white\", \"ticks\": \"\", \"title\": {\"standoff\": 15}, \"zerolinecolor\": \"white\", \"zerolinewidth\": 2}}}, \"title\": {\"text\": \"Predictive Power Score Heatmap\"}},\n",
              "                        {\"responsive\": true}\n",
              "                    ).then(function(){\n",
              "                            \n",
              "var gd = document.getElementById('0510aa78-b50b-459a-bb61-4e9e110c21d7');\n",
              "var x = new MutationObserver(function (mutations, observer) {{\n",
              "        var display = window.getComputedStyle(gd).display;\n",
              "        if (!display || display === 'none') {{\n",
              "            console.log([gd, 'removed!']);\n",
              "            Plotly.purge(gd);\n",
              "            observer.disconnect();\n",
              "        }}\n",
              "}});\n",
              "\n",
              "// Listen for the removal of the full notebook cells\n",
              "var notebookContainer = gd.closest('#notebook-container');\n",
              "if (notebookContainer) {{\n",
              "    x.observe(notebookContainer, {childList: true});\n",
              "}}\n",
              "\n",
              "// Listen for the clearing of the current output cell\n",
              "var outputEl = gd.closest('.output');\n",
              "if (outputEl) {{\n",
              "    x.observe(outputEl, {childList: true});\n",
              "}}\n",
              "\n",
              "                        })\n",
              "                };\n",
              "                \n",
              "            </script>\n",
              "        </div>\n",
              "</body>\n",
              "</html>"
            ]
          },
          "metadata": {
            "tags": []
          }
        }
      ]
    },
    {
      "cell_type": "code",
      "metadata": {
        "id": "Dk1gsrT3ue0k",
        "colab_type": "code",
        "colab": {}
      },
      "source": [
        "total transaction---device operational system\n",
        "total transaction--- channel grupping\n",
        "total new visits---isTrudirect\n",
        "traffic source medium? --- isTruDirect& channelGrouping & adNetworkType\n",
        "channelGrouping --- newVisits& isTrueDirect & AdNetworkType & Medium\n",
        "country &continent--value?\n",
        "Networkdomain? --- Medium & continent & country\n",
        "totalpageviews-- hits&"
      ],
      "execution_count": 0,
      "outputs": []
    }
  ]
}