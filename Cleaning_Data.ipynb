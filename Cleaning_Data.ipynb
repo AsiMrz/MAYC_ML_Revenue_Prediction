{
  "nbformat": 4,
  "nbformat_minor": 0,
  "metadata": {
    "kernelspec": {
      "display_name": "Python 3",
      "language": "python",
      "name": "python3"
    },
    "language_info": {
      "codemirror_mode": {
        "name": "ipython",
        "version": 3
      },
      "file_extension": ".py",
      "mimetype": "text/x-python",
      "name": "python",
      "nbconvert_exporter": "python",
      "pygments_lexer": "ipython3",
      "version": "3.7.4"
    },
    "toc": {
      "base_numbering": 1,
      "nav_menu": {},
      "number_sections": true,
      "sideBar": true,
      "skip_h1_title": false,
      "title_cell": "Table of Contents",
      "title_sidebar": "Contents",
      "toc_cell": false,
      "toc_position": {},
      "toc_section_display": true,
      "toc_window_display": false
    },
    "colab": {
      "name": "Cleaning_Data.ipynb",
      "provenance": [],
      "toc_visible": true
    }
  },
  "cells": [
    {
      "cell_type": "markdown",
      "metadata": {
        "id": "KqQ1jL9hrnA3",
        "colab_type": "text"
      },
      "source": [
        "## Getting the Data"
      ]
    },
    {
      "cell_type": "code",
      "metadata": {
        "id": "470v_G6Orh5K",
        "colab_type": "code",
        "colab": {
          "base_uri": "https://localhost:8080/",
          "height": 122
        },
        "outputId": "e2fffd56-04da-44aa-8b9d-8ca8e8aba25f"
      },
      "source": [
        "#Mount the Google Drive to Google Colab\n",
        "#1. get the library\n",
        "from google.colab import drive\n",
        "drive.mount('/content/gdrive')"
      ],
      "execution_count": 1,
      "outputs": [
        {
          "output_type": "stream",
          "text": [
            "Go to this URL in a browser: https://accounts.google.com/o/oauth2/auth?client_id=947318989803-6bn6qk8qdgf4n4g3pfee6491hc0brc4i.apps.googleusercontent.com&redirect_uri=urn%3aietf%3awg%3aoauth%3a2.0%3aoob&response_type=code&scope=email%20https%3a%2f%2fwww.googleapis.com%2fauth%2fdocs.test%20https%3a%2f%2fwww.googleapis.com%2fauth%2fdrive%20https%3a%2f%2fwww.googleapis.com%2fauth%2fdrive.photos.readonly%20https%3a%2f%2fwww.googleapis.com%2fauth%2fpeopleapi.readonly\n",
            "\n",
            "Enter your authorization code:\n",
            "··········\n",
            "Mounted at /content/gdrive\n"
          ],
          "name": "stdout"
        }
      ]
    },
    {
      "cell_type": "code",
      "metadata": {
        "id": "4OGCsS5brmY_",
        "colab_type": "code",
        "colab": {}
      },
      "source": [
        "#rooth_path directs the cd to the right folder in the Google Drive\n",
        "root_path = '/content/gdrive/My Drive/ReDi_DA_Project/preprocessed_ga_revenue_data'"
      ],
      "execution_count": 0,
      "outputs": []
    },
    {
      "cell_type": "code",
      "metadata": {
        "id": "MPHK3IN5szEA",
        "colab_type": "code",
        "colab": {
          "base_uri": "https://localhost:8080/",
          "height": 34
        },
        "outputId": "16761e5d-b99d-486b-c1ba-72bbeb31d921"
      },
      "source": [
        "cd '/content/gdrive/My Drive/ReDi_DA_Project/preprocessed_ga_revenue_data'"
      ],
      "execution_count": 2,
      "outputs": [
        {
          "output_type": "stream",
          "text": [
            "/content/gdrive/My Drive/ReDi_DA_Project/preprocessed_ga_revenue_data\n"
          ],
          "name": "stdout"
        }
      ]
    },
    {
      "cell_type": "code",
      "metadata": {
        "id": "S4JryMYhqygR",
        "colab_type": "code",
        "colab": {}
      },
      "source": [
        "# download the libraries\n",
        "import pandas as pd\n",
        "from pandas import Series,DataFrame\n",
        "import warnings\n",
        "import os\n",
        "warnings.filterwarnings('ignore')\n",
        "#!pip3 install --upgrade seaborn cufflinks plotly\n",
        "import numpy as np\n",
        "import matplotlib.pyplot as plt\n",
        "import seaborn as sns\n",
        "from datetime import datetime\n",
        "import json\n",
        "import random\n",
        "from pandas.io.json import json_normalize\n",
        "%matplotlib inline"
      ],
      "execution_count": 0,
      "outputs": []
    },
    {
      "cell_type": "code",
      "metadata": {
        "id": "mkbqIBv8qygg",
        "colab_type": "code",
        "colab": {}
      },
      "source": [
        "# load training data set info a df\n",
        "df_train = pd.read_pickle('train_flat_no_hits.pkl')\n",
        "#df_test = pd.read_pickle('test_flat_no_hits.pkl')"
      ],
      "execution_count": 0,
      "outputs": []
    },
    {
      "cell_type": "code",
      "metadata": {
        "id": "V3tdVdFVqygy",
        "colab_type": "code",
        "colab": {
          "base_uri": "https://localhost:8080/",
          "height": 326
        },
        "outputId": "1bef8a09-2c48-45a8-bce4-93e70efb2d7a"
      },
      "source": [
        "df_train.head()"
      ],
      "execution_count": 5,
      "outputs": [
        {
          "output_type": "execute_result",
          "data": {
            "text/html": [
              "<div>\n",
              "<style scoped>\n",
              "    .dataframe tbody tr th:only-of-type {\n",
              "        vertical-align: middle;\n",
              "    }\n",
              "\n",
              "    .dataframe tbody tr th {\n",
              "        vertical-align: top;\n",
              "    }\n",
              "\n",
              "    .dataframe thead th {\n",
              "        text-align: right;\n",
              "    }\n",
              "</style>\n",
              "<table border=\"1\" class=\"dataframe\">\n",
              "  <thead>\n",
              "    <tr style=\"text-align: right;\">\n",
              "      <th></th>\n",
              "      <th>channelGrouping</th>\n",
              "      <th>date</th>\n",
              "      <th>fullVisitorId</th>\n",
              "      <th>socialEngagementType</th>\n",
              "      <th>visitId</th>\n",
              "      <th>visitNumber</th>\n",
              "      <th>visitStartTime</th>\n",
              "      <th>device.browser</th>\n",
              "      <th>device.browserVersion</th>\n",
              "      <th>device.browserSize</th>\n",
              "      <th>device.operatingSystem</th>\n",
              "      <th>device.operatingSystemVersion</th>\n",
              "      <th>device.isMobile</th>\n",
              "      <th>device.mobileDeviceBranding</th>\n",
              "      <th>device.mobileDeviceModel</th>\n",
              "      <th>device.mobileInputSelector</th>\n",
              "      <th>device.mobileDeviceInfo</th>\n",
              "      <th>device.mobileDeviceMarketingName</th>\n",
              "      <th>device.flashVersion</th>\n",
              "      <th>device.language</th>\n",
              "      <th>device.screenColors</th>\n",
              "      <th>device.screenResolution</th>\n",
              "      <th>device.deviceCategory</th>\n",
              "      <th>geoNetwork.continent</th>\n",
              "      <th>geoNetwork.subContinent</th>\n",
              "      <th>geoNetwork.country</th>\n",
              "      <th>geoNetwork.region</th>\n",
              "      <th>geoNetwork.metro</th>\n",
              "      <th>geoNetwork.city</th>\n",
              "      <th>geoNetwork.cityId</th>\n",
              "      <th>geoNetwork.networkDomain</th>\n",
              "      <th>geoNetwork.latitude</th>\n",
              "      <th>geoNetwork.longitude</th>\n",
              "      <th>geoNetwork.networkLocation</th>\n",
              "      <th>totals.visits</th>\n",
              "      <th>totals.hits</th>\n",
              "      <th>totals.pageviews</th>\n",
              "      <th>totals.bounces</th>\n",
              "      <th>totals.newVisits</th>\n",
              "      <th>totals.sessionQualityDim</th>\n",
              "      <th>totals.timeOnSite</th>\n",
              "      <th>totals.transactions</th>\n",
              "      <th>totals.transactionRevenue</th>\n",
              "      <th>totals.totalTransactionRevenue</th>\n",
              "      <th>trafficSource.campaign</th>\n",
              "      <th>trafficSource.source</th>\n",
              "      <th>trafficSource.medium</th>\n",
              "      <th>trafficSource.keyword</th>\n",
              "      <th>trafficSource.adwordsClickInfo.criteriaParameters</th>\n",
              "      <th>trafficSource.referralPath</th>\n",
              "      <th>trafficSource.isTrueDirect</th>\n",
              "      <th>trafficSource.adContent</th>\n",
              "      <th>trafficSource.adwordsClickInfo.page</th>\n",
              "      <th>trafficSource.adwordsClickInfo.slot</th>\n",
              "      <th>trafficSource.adwordsClickInfo.gclId</th>\n",
              "      <th>trafficSource.adwordsClickInfo.adNetworkType</th>\n",
              "      <th>trafficSource.adwordsClickInfo.isVideoAd</th>\n",
              "      <th>trafficSource.campaignCode</th>\n",
              "      <th>customDimension.index</th>\n",
              "      <th>customDimension.value</th>\n",
              "    </tr>\n",
              "  </thead>\n",
              "  <tbody>\n",
              "    <tr>\n",
              "      <th>0</th>\n",
              "      <td>Organic Search</td>\n",
              "      <td>20171016</td>\n",
              "      <td>3162355547410993243</td>\n",
              "      <td>Not Socially Engaged</td>\n",
              "      <td>1508198450</td>\n",
              "      <td>1</td>\n",
              "      <td>1508198450</td>\n",
              "      <td>Firefox</td>\n",
              "      <td>not available in demo dataset</td>\n",
              "      <td>not available in demo dataset</td>\n",
              "      <td>Windows</td>\n",
              "      <td>not available in demo dataset</td>\n",
              "      <td>False</td>\n",
              "      <td>not available in demo dataset</td>\n",
              "      <td>not available in demo dataset</td>\n",
              "      <td>not available in demo dataset</td>\n",
              "      <td>not available in demo dataset</td>\n",
              "      <td>not available in demo dataset</td>\n",
              "      <td>not available in demo dataset</td>\n",
              "      <td>not available in demo dataset</td>\n",
              "      <td>not available in demo dataset</td>\n",
              "      <td>not available in demo dataset</td>\n",
              "      <td>desktop</td>\n",
              "      <td>Europe</td>\n",
              "      <td>Western Europe</td>\n",
              "      <td>Germany</td>\n",
              "      <td>not available in demo dataset</td>\n",
              "      <td>not available in demo dataset</td>\n",
              "      <td>not available in demo dataset</td>\n",
              "      <td>not available in demo dataset</td>\n",
              "      <td>(not set)</td>\n",
              "      <td>not available in demo dataset</td>\n",
              "      <td>not available in demo dataset</td>\n",
              "      <td>not available in demo dataset</td>\n",
              "      <td>1</td>\n",
              "      <td>1</td>\n",
              "      <td>1</td>\n",
              "      <td>1</td>\n",
              "      <td>1</td>\n",
              "      <td>1</td>\n",
              "      <td>NaN</td>\n",
              "      <td>NaN</td>\n",
              "      <td>NaN</td>\n",
              "      <td>NaN</td>\n",
              "      <td>(not set)</td>\n",
              "      <td>google</td>\n",
              "      <td>organic</td>\n",
              "      <td>water bottle</td>\n",
              "      <td>not available in demo dataset</td>\n",
              "      <td>NaN</td>\n",
              "      <td>NaN</td>\n",
              "      <td>NaN</td>\n",
              "      <td>NaN</td>\n",
              "      <td>NaN</td>\n",
              "      <td>NaN</td>\n",
              "      <td>NaN</td>\n",
              "      <td>NaN</td>\n",
              "      <td>NaN</td>\n",
              "      <td>4</td>\n",
              "      <td>EMEA</td>\n",
              "    </tr>\n",
              "    <tr>\n",
              "      <th>1</th>\n",
              "      <td>Referral</td>\n",
              "      <td>20171016</td>\n",
              "      <td>8934116514970143966</td>\n",
              "      <td>Not Socially Engaged</td>\n",
              "      <td>1508176307</td>\n",
              "      <td>6</td>\n",
              "      <td>1508176307</td>\n",
              "      <td>Chrome</td>\n",
              "      <td>not available in demo dataset</td>\n",
              "      <td>not available in demo dataset</td>\n",
              "      <td>Chrome OS</td>\n",
              "      <td>not available in demo dataset</td>\n",
              "      <td>False</td>\n",
              "      <td>not available in demo dataset</td>\n",
              "      <td>not available in demo dataset</td>\n",
              "      <td>not available in demo dataset</td>\n",
              "      <td>not available in demo dataset</td>\n",
              "      <td>not available in demo dataset</td>\n",
              "      <td>not available in demo dataset</td>\n",
              "      <td>not available in demo dataset</td>\n",
              "      <td>not available in demo dataset</td>\n",
              "      <td>not available in demo dataset</td>\n",
              "      <td>desktop</td>\n",
              "      <td>Americas</td>\n",
              "      <td>Northern America</td>\n",
              "      <td>United States</td>\n",
              "      <td>California</td>\n",
              "      <td>San Francisco-Oakland-San Jose CA</td>\n",
              "      <td>Cupertino</td>\n",
              "      <td>not available in demo dataset</td>\n",
              "      <td>(not set)</td>\n",
              "      <td>not available in demo dataset</td>\n",
              "      <td>not available in demo dataset</td>\n",
              "      <td>not available in demo dataset</td>\n",
              "      <td>1</td>\n",
              "      <td>2</td>\n",
              "      <td>2</td>\n",
              "      <td>NaN</td>\n",
              "      <td>NaN</td>\n",
              "      <td>2</td>\n",
              "      <td>28</td>\n",
              "      <td>NaN</td>\n",
              "      <td>NaN</td>\n",
              "      <td>NaN</td>\n",
              "      <td>(not set)</td>\n",
              "      <td>sites.google.com</td>\n",
              "      <td>referral</td>\n",
              "      <td>NaN</td>\n",
              "      <td>not available in demo dataset</td>\n",
              "      <td>/a/google.com/transportation/mtv-services/bike...</td>\n",
              "      <td>NaN</td>\n",
              "      <td>NaN</td>\n",
              "      <td>NaN</td>\n",
              "      <td>NaN</td>\n",
              "      <td>NaN</td>\n",
              "      <td>NaN</td>\n",
              "      <td>NaN</td>\n",
              "      <td>NaN</td>\n",
              "      <td>4</td>\n",
              "      <td>North America</td>\n",
              "    </tr>\n",
              "    <tr>\n",
              "      <th>2</th>\n",
              "      <td>Direct</td>\n",
              "      <td>20171016</td>\n",
              "      <td>7992466427990357681</td>\n",
              "      <td>Not Socially Engaged</td>\n",
              "      <td>1508201613</td>\n",
              "      <td>1</td>\n",
              "      <td>1508201613</td>\n",
              "      <td>Chrome</td>\n",
              "      <td>not available in demo dataset</td>\n",
              "      <td>not available in demo dataset</td>\n",
              "      <td>Android</td>\n",
              "      <td>not available in demo dataset</td>\n",
              "      <td>True</td>\n",
              "      <td>not available in demo dataset</td>\n",
              "      <td>not available in demo dataset</td>\n",
              "      <td>not available in demo dataset</td>\n",
              "      <td>not available in demo dataset</td>\n",
              "      <td>not available in demo dataset</td>\n",
              "      <td>not available in demo dataset</td>\n",
              "      <td>not available in demo dataset</td>\n",
              "      <td>not available in demo dataset</td>\n",
              "      <td>not available in demo dataset</td>\n",
              "      <td>mobile</td>\n",
              "      <td>Americas</td>\n",
              "      <td>Northern America</td>\n",
              "      <td>United States</td>\n",
              "      <td>not available in demo dataset</td>\n",
              "      <td>not available in demo dataset</td>\n",
              "      <td>not available in demo dataset</td>\n",
              "      <td>not available in demo dataset</td>\n",
              "      <td>windjammercable.net</td>\n",
              "      <td>not available in demo dataset</td>\n",
              "      <td>not available in demo dataset</td>\n",
              "      <td>not available in demo dataset</td>\n",
              "      <td>1</td>\n",
              "      <td>2</td>\n",
              "      <td>2</td>\n",
              "      <td>NaN</td>\n",
              "      <td>1</td>\n",
              "      <td>1</td>\n",
              "      <td>38</td>\n",
              "      <td>NaN</td>\n",
              "      <td>NaN</td>\n",
              "      <td>NaN</td>\n",
              "      <td>(not set)</td>\n",
              "      <td>(direct)</td>\n",
              "      <td>(none)</td>\n",
              "      <td>NaN</td>\n",
              "      <td>not available in demo dataset</td>\n",
              "      <td>NaN</td>\n",
              "      <td>True</td>\n",
              "      <td>NaN</td>\n",
              "      <td>NaN</td>\n",
              "      <td>NaN</td>\n",
              "      <td>NaN</td>\n",
              "      <td>NaN</td>\n",
              "      <td>NaN</td>\n",
              "      <td>NaN</td>\n",
              "      <td>4</td>\n",
              "      <td>North America</td>\n",
              "    </tr>\n",
              "    <tr>\n",
              "      <th>3</th>\n",
              "      <td>Organic Search</td>\n",
              "      <td>20171016</td>\n",
              "      <td>9075655783635761930</td>\n",
              "      <td>Not Socially Engaged</td>\n",
              "      <td>1508169851</td>\n",
              "      <td>1</td>\n",
              "      <td>1508169851</td>\n",
              "      <td>Chrome</td>\n",
              "      <td>not available in demo dataset</td>\n",
              "      <td>not available in demo dataset</td>\n",
              "      <td>Windows</td>\n",
              "      <td>not available in demo dataset</td>\n",
              "      <td>False</td>\n",
              "      <td>not available in demo dataset</td>\n",
              "      <td>not available in demo dataset</td>\n",
              "      <td>not available in demo dataset</td>\n",
              "      <td>not available in demo dataset</td>\n",
              "      <td>not available in demo dataset</td>\n",
              "      <td>not available in demo dataset</td>\n",
              "      <td>not available in demo dataset</td>\n",
              "      <td>not available in demo dataset</td>\n",
              "      <td>not available in demo dataset</td>\n",
              "      <td>desktop</td>\n",
              "      <td>Asia</td>\n",
              "      <td>Western Asia</td>\n",
              "      <td>Turkey</td>\n",
              "      <td>not available in demo dataset</td>\n",
              "      <td>not available in demo dataset</td>\n",
              "      <td>not available in demo dataset</td>\n",
              "      <td>not available in demo dataset</td>\n",
              "      <td>unknown.unknown</td>\n",
              "      <td>not available in demo dataset</td>\n",
              "      <td>not available in demo dataset</td>\n",
              "      <td>not available in demo dataset</td>\n",
              "      <td>1</td>\n",
              "      <td>2</td>\n",
              "      <td>2</td>\n",
              "      <td>NaN</td>\n",
              "      <td>1</td>\n",
              "      <td>1</td>\n",
              "      <td>1</td>\n",
              "      <td>NaN</td>\n",
              "      <td>NaN</td>\n",
              "      <td>NaN</td>\n",
              "      <td>(not set)</td>\n",
              "      <td>google</td>\n",
              "      <td>organic</td>\n",
              "      <td>(not provided)</td>\n",
              "      <td>not available in demo dataset</td>\n",
              "      <td>NaN</td>\n",
              "      <td>NaN</td>\n",
              "      <td>NaN</td>\n",
              "      <td>NaN</td>\n",
              "      <td>NaN</td>\n",
              "      <td>NaN</td>\n",
              "      <td>NaN</td>\n",
              "      <td>NaN</td>\n",
              "      <td>NaN</td>\n",
              "      <td>4</td>\n",
              "      <td>EMEA</td>\n",
              "    </tr>\n",
              "    <tr>\n",
              "      <th>4</th>\n",
              "      <td>Organic Search</td>\n",
              "      <td>20171016</td>\n",
              "      <td>6960673291025684308</td>\n",
              "      <td>Not Socially Engaged</td>\n",
              "      <td>1508190552</td>\n",
              "      <td>1</td>\n",
              "      <td>1508190552</td>\n",
              "      <td>Chrome</td>\n",
              "      <td>not available in demo dataset</td>\n",
              "      <td>not available in demo dataset</td>\n",
              "      <td>Windows</td>\n",
              "      <td>not available in demo dataset</td>\n",
              "      <td>False</td>\n",
              "      <td>not available in demo dataset</td>\n",
              "      <td>not available in demo dataset</td>\n",
              "      <td>not available in demo dataset</td>\n",
              "      <td>not available in demo dataset</td>\n",
              "      <td>not available in demo dataset</td>\n",
              "      <td>not available in demo dataset</td>\n",
              "      <td>not available in demo dataset</td>\n",
              "      <td>not available in demo dataset</td>\n",
              "      <td>not available in demo dataset</td>\n",
              "      <td>desktop</td>\n",
              "      <td>Americas</td>\n",
              "      <td>Central America</td>\n",
              "      <td>Mexico</td>\n",
              "      <td>not available in demo dataset</td>\n",
              "      <td>not available in demo dataset</td>\n",
              "      <td>not available in demo dataset</td>\n",
              "      <td>not available in demo dataset</td>\n",
              "      <td>prod-infinitum.com.mx</td>\n",
              "      <td>not available in demo dataset</td>\n",
              "      <td>not available in demo dataset</td>\n",
              "      <td>not available in demo dataset</td>\n",
              "      <td>1</td>\n",
              "      <td>2</td>\n",
              "      <td>2</td>\n",
              "      <td>NaN</td>\n",
              "      <td>1</td>\n",
              "      <td>1</td>\n",
              "      <td>52</td>\n",
              "      <td>NaN</td>\n",
              "      <td>NaN</td>\n",
              "      <td>NaN</td>\n",
              "      <td>(not set)</td>\n",
              "      <td>google</td>\n",
              "      <td>organic</td>\n",
              "      <td>(not provided)</td>\n",
              "      <td>not available in demo dataset</td>\n",
              "      <td>NaN</td>\n",
              "      <td>NaN</td>\n",
              "      <td>NaN</td>\n",
              "      <td>NaN</td>\n",
              "      <td>NaN</td>\n",
              "      <td>NaN</td>\n",
              "      <td>NaN</td>\n",
              "      <td>NaN</td>\n",
              "      <td>NaN</td>\n",
              "      <td>4</td>\n",
              "      <td>Central America</td>\n",
              "    </tr>\n",
              "  </tbody>\n",
              "</table>\n",
              "</div>"
            ],
            "text/plain": [
              "  channelGrouping      date  ... customDimension.index customDimension.value\n",
              "0  Organic Search  20171016  ...                     4                  EMEA\n",
              "1        Referral  20171016  ...                     4         North America\n",
              "2          Direct  20171016  ...                     4         North America\n",
              "3  Organic Search  20171016  ...                     4                  EMEA\n",
              "4  Organic Search  20171016  ...                     4       Central America\n",
              "\n",
              "[5 rows x 60 columns]"
            ]
          },
          "metadata": {
            "tags": []
          },
          "execution_count": 5
        }
      ]
    },
    {
      "cell_type": "markdown",
      "metadata": {
        "id": "gxYJu6B5vUQJ",
        "colab_type": "text"
      },
      "source": [
        "## Convert date columns"
      ]
    },
    {
      "cell_type": "code",
      "metadata": {
        "id": "O7z8XQEfqyhg",
        "colab_type": "code",
        "colab": {}
      },
      "source": [
        "#convert date columns so that we can actually use it\n",
        "df_train['date'] = pd.to_datetime(df_train[\"date\"], format=\"%Y%m%d\") #convert to datetime\n",
        "df_train['year'] = df_train['date'].dt.year #for year\n",
        "df_train['day'] = df_train.date.dt.day_name() #for day\n",
        "df_train['week'] = df_train.date.dt.weekofyear #week\n",
        "df_train['month'] = df_train.date.dt.month_name() #month"
      ],
      "execution_count": 0,
      "outputs": []
    },
    {
      "cell_type": "markdown",
      "metadata": {
        "id": "vBlNDpIRwVR-",
        "colab_type": "text"
      },
      "source": [
        "## Convert Objective Variable in a Number"
      ]
    },
    {
      "cell_type": "code",
      "metadata": {
        "id": "5wTlNPjWqyi1",
        "colab_type": "code",
        "colab": {}
      },
      "source": [
        "df_train[\"totals.transactionRevenue\"] = df_train[\"totals.transactionRevenue\"].astype('float')"
      ],
      "execution_count": 0,
      "outputs": []
    },
    {
      "cell_type": "code",
      "metadata": {
        "id": "dqCuK_aPqyjI",
        "colab_type": "code",
        "colab": {}
      },
      "source": [
        "df_train[\"totals.transactionRevenue\"] = df_train[\"totals.transactionRevenue\"].fillna(0.0).astype(float)"
      ],
      "execution_count": 0,
      "outputs": []
    },
    {
      "cell_type": "code",
      "metadata": {
        "id": "-nTW43oRqyjf",
        "colab_type": "code",
        "colab": {},
        "outputId": "e04f2289-ae23-4801-ba97-f2c1ae6d4e1d"
      },
      "source": [
        "print(\"Transaction Revenue Mean Value: \", df_train['totals.transactionRevenue'].mean())\n",
        "print(\"Transaction Revenue median Value: \", df_train['totals.transactionRevenue'].median())"
      ],
      "execution_count": 0,
      "outputs": [
        {
          "output_type": "stream",
          "text": [
            "Transaction Revenue Mean Value:  1355906.3463473541\n",
            "Transaction Revenue median Value:  0.0\n"
          ],
          "name": "stdout"
        }
      ]
    },
    {
      "cell_type": "markdown",
      "metadata": {
        "id": "Bufqp-Ipwxjq",
        "colab_type": "text"
      },
      "source": [
        "We calculate the mean value and the median for the visitors that have made a succesfull purchase. "
      ]
    },
    {
      "cell_type": "code",
      "metadata": {
        "id": "u3gOTSJoqyjn",
        "colab_type": "code",
        "colab": {},
        "outputId": "9467525b-2b4e-432e-cf4b-6b7ff0f0ed8d"
      },
      "source": [
        "print(\"Transaction Revenue Mean Value: \", \n",
        "      df_train[df_train['totals.transactionRevenue'] > 0][\"totals.transactionRevenue\"].mean()) # mean value of above 0\n",
        "print(\"Transaction Revenue Median Value: \", \n",
        "      df_train[df_train['totals.transactionRevenue'] > 0][\"totals.transactionRevenue\"].median()) # median value of above 0"
      ],
      "execution_count": 0,
      "outputs": [
        {
          "output_type": "stream",
          "text": [
            "Transaction Revenue Mean Value:  125113156.53019337\n",
            "Transaction Revenue Median Value:  46060000.0\n"
          ],
          "name": "stdout"
        }
      ]
    },
    {
      "cell_type": "markdown",
      "metadata": {
        "id": "eWSh-K6DuoNu",
        "colab_type": "text"
      },
      "source": [
        "## Checking for Missing Values"
      ]
    },
    {
      "cell_type": "code",
      "metadata": {
        "id": "F6FLUUUj6W1C",
        "colab_type": "code",
        "colab": {}
      },
      "source": [
        "#checking missing values- sample\n",
        "df_train.isnull().sum().sort_values(ascending = False)\n",
        "#df_train.isna().sum().sort_values(ascending = False)"
      ],
      "execution_count": 0,
      "outputs": []
    },
    {
      "cell_type": "markdown",
      "metadata": {
        "id": "kwsPQpzI6ykq",
        "colab_type": "text"
      },
      "source": [
        "We start working with the whole data to grasp a better understanding about the missing data. To do that we define a function:"
      ]
    },
    {
      "cell_type": "code",
      "metadata": {
        "id": "4KN7rdYHqymI",
        "colab_type": "code",
        "colab": {}
      },
      "source": [
        "def values_missing(check):\n",
        "    total = check.isnull().sum().sort_values(ascending = False) # getting the sum of null values and ordering\n",
        "    percent = (check.isnull().sum() / check.isnull().count() * 100 ).sort_values(ascending = False) #getting the percent and order of null\n",
        "    df_train = pd.concat([total, percent], axis=1, keys=['Total', 'Percent']) # Concatenating the total and percent\n",
        "    print(\"Total and percent of missing values: \")\n",
        "    print (df_train[~(df_train['Total'] == 0)]) # Returning values of nulls different of 0\n",
        "    \n",
        "    return"
      ],
      "execution_count": 0,
      "outputs": []
    },
    {
      "cell_type": "code",
      "metadata": {
        "id": "K94cIUKRqymu",
        "colab_type": "code",
        "colab": {
          "base_uri": "https://localhost:8080/",
          "height": 374
        },
        "outputId": "cd06202d-82c5-4096-9ed8-124d2385bbc5"
      },
      "source": [
        "values_missing(df_train)"
      ],
      "execution_count": 12,
      "outputs": [
        {
          "output_type": "stream",
          "text": [
            "Total and percent of missing values: \n",
            "                                                Total    Percent\n",
            "trafficSource.campaignCode                    1708336  99.999941\n",
            "totals.totalTransactionRevenue                1689823  98.916256\n",
            "totals.transactions                           1689778  98.913622\n",
            "trafficSource.adContent                       1643600  96.210525\n",
            "trafficSource.adwordsClickInfo.slot           1633063  95.593727\n",
            "trafficSource.adwordsClickInfo.page           1633063  95.593727\n",
            "trafficSource.adwordsClickInfo.isVideoAd      1633063  95.593727\n",
            "trafficSource.adwordsClickInfo.adNetworkType  1633063  95.593727\n",
            "trafficSource.adwordsClickInfo.gclId          1632914  95.585005\n",
            "trafficSource.isTrueDirect                    1173819  68.711209\n",
            "trafficSource.referralPath                    1142073  66.852910\n",
            "trafficSource.keyword                         1052780  61.626014\n",
            "totals.timeOnSite                              874294  51.178076\n",
            "totals.bounces                                 836759  48.980910\n",
            "totals.sessionQualityDim                       835274  48.893983\n",
            "totals.newVisits                               400907  23.467676\n",
            "customDimension.index                          333235  19.506397\n",
            "customDimension.value                          333235  19.506397\n",
            "totals.pageviews                                  239   0.013990\n"
          ],
          "name": "stdout"
        }
      ]
    },
    {
      "cell_type": "markdown",
      "metadata": {
        "id": "my7bXI8T7enV",
        "colab_type": "text"
      },
      "source": [
        "Before replacing the missing data, we check the columns with unique values. The assumption is that:                                                     \n",
        "**Columns with 1 unique value for the whole group of records do not give any useful information for prediction porposes.**"
      ]
    },
    {
      "cell_type": "code",
      "metadata": {
        "id": "kBIfXdM0qynQ",
        "colab_type": "code",
        "colab": {
          "base_uri": "https://localhost:8080/",
          "height": 88
        },
        "outputId": "bd77d72d-74aa-4bf4-dbdd-3814aa057a4b"
      },
      "source": [
        "unique_columns = [col for col in df_train.columns if df_train[col].nunique() == 1] #Columns with just one value\n",
        "\n",
        "# print these columns and the name of columns \n",
        "print(\"numbers of columns: \", len(unique_columns), \"columns with 1 value\")\n",
        "print(\"label of columns: \\n\", unique_columns)"
      ],
      "execution_count": 13,
      "outputs": [
        {
          "output_type": "stream",
          "text": [
            "numbers of columns:  25 columns with 1 value\n",
            "label of columns: \n",
            " ['socialEngagementType', 'device.browserVersion', 'device.browserSize', 'device.operatingSystemVersion', 'device.mobileDeviceBranding', 'device.mobileDeviceModel', 'device.mobileInputSelector', 'device.mobileDeviceInfo', 'device.mobileDeviceMarketingName', 'device.flashVersion', 'device.language', 'device.screenColors', 'device.screenResolution', 'geoNetwork.cityId', 'geoNetwork.latitude', 'geoNetwork.longitude', 'geoNetwork.networkLocation', 'totals.visits', 'totals.bounces', 'totals.newVisits', 'trafficSource.adwordsClickInfo.criteriaParameters', 'trafficSource.isTrueDirect', 'trafficSource.adwordsClickInfo.isVideoAd', 'trafficSource.campaignCode', 'customDimension.index']\n"
          ],
          "name": "stdout"
        }
      ]
    },
    {
      "cell_type": "markdown",
      "metadata": {
        "id": "ttHIxMYX9VEu",
        "colab_type": "text"
      },
      "source": [
        "We found out that there are 25 columns with 1 value. We check the content in these  columns before decide if they are actually  useless."
      ]
    },
    {
      "cell_type": "code",
      "metadata": {
        "id": "8-gRzyTjqyng",
        "colab_type": "code",
        "colab": {}
      },
      "source": [
        "# i define a function to show the columns ans a sample of the data\n",
        "def see_data(data, data_type=object, limit=5): #seting the function with data,show 5 uniques if available \n",
        "    n = data.select_dtypes(include=data_type) #selecting the desired data type\n",
        "    for column in n.columns: #initializing the loop\n",
        "        print(\"______________________________________________________________\")\n",
        "        print(\"Name of column \", column, ': \\n', \"Uniques: \", data[column].unique()[:limit], \"\\n\",\n",
        "              \" | ## Total nulls: \", (round(data[column].isnull().sum() / len(data[column]) * 100,2)),\n",
        "              \" | ## Total unique values: \", df_train.nunique()[column]) #print the data and % of nulls)\n",
        "        print(\"_________________________________________________________\")\n",
        "        \n",
        "      "
      ],
      "execution_count": 0,
      "outputs": []
    },
    {
      "cell_type": "code",
      "metadata": {
        "id": "gkiB76BTqyns",
        "colab_type": "code",
        "colab": {}
      },
      "source": [
        "#see_data(df_train)"
      ],
      "execution_count": 0,
      "outputs": []
    },
    {
      "cell_type": "markdown",
      "metadata": {
        "id": "9Bp3qvW8qynz",
        "colab_type": "text"
      },
      "source": [
        "This is a list with the  columns that are either: \"not available in our dataset\" or those that have unique values\n",
        " - Name of column  socialEngagementType : \n",
        " Uniques:  ['Not Socially Engaged'] \n",
        " \n",
        "- device.browserVersion : \n",
        " Uniques:  ['not available in demo dataset']\n",
        "\n",
        "- device.operatingSystemVersion : \n",
        " Uniques:  ['not available in demo dataset']\n",
        " \n",
        "- Name of column  device.mobileDeviceBranding : \n",
        " Uniques:  ['not available in demo dataset']\n",
        " \n",
        "- Name of column  device.mobileDeviceBranding : \n",
        " Uniques:  ['not available in demo dataset']\n",
        " \n",
        "- Name of column  device.mobileDeviceModel : \n",
        " Uniques:  ['not available in demo dataset']\n",
        " \n",
        "- Name of column  device.mobileInputSelector : \n",
        " Uniques:  ['not available in demo dataset'] \n",
        " \n",
        "- Name of column  device.mobileDeviceInfo : \n",
        " Uniques:  ['not available in demo dataset'] \n",
        "\n",
        "- Name of column  device.mobileDeviceMarketingName : \n",
        " Uniques:  ['not available in demo dataset']\n",
        " \n",
        "- Name of column  device.flashVersion : \n",
        " Uniques:  ['not available in demo dataset']  \n",
        " \n",
        "- Name of column  device.language : \n",
        " Uniques:  ['not available in demo dataset'] \n",
        "\n",
        "- Name of column  device.screenColors : \n",
        " Uniques:  ['not available in demo dataset']\n",
        "\n",
        "- Name of column  device.screenResolution : \n",
        " Uniques:  ['not available in demo dataset']\n",
        " \n",
        "- Name of column  geoNetwork.cityId : \n",
        " Uniques:  ['not available in demo dataset'] \n",
        " \n",
        "- Name of column  geoNetwork.latitude : \n",
        " Uniques:  ['not available in demo dataset']  \n",
        "\n",
        "- Name of column  geoNetwork.longitude : \n",
        " Uniques:  ['not available in demo dataset'] \n",
        "\n",
        "- Name of column  geoNetwork.networkLocation : \n",
        " Uniques:  ['not available in demo dataset']\n",
        "\n",
        "- Name of column  totals.visits : \n",
        " Uniques:  ['1'] \n",
        " \n",
        "- Name of column  trafficSource.adwordsClickInfo.criteriaParameters : \n",
        " Uniques:  ['not available in demo dataset'] "
      ]
    },
    {
      "cell_type": "markdown",
      "metadata": {
        "id": "1w_1ontXqyn1",
        "colab_type": "text"
      },
      "source": [
        "'''\n",
        "This is a list of other columns that contain values that might be useless for prediction:\n",
        "- Name of column  trafficSource.adwordsClickInfo.gclId : \n",
        " Uniques:  [nan'Cj0KCQjwsZHPBRClARIsAC-VMPBHdNF2oMOgh6Xp6YhjXWSk11sDu3eCo4De_u6l4xafqgrPVPSGYdkaArkiEALw_wcB''CODVoMjJ9tYCFUIvgQod_dsKEA''Cj0KCQjwsZHPBRClARIsAC-VMPA4CVJtDhu1lYkB0AR1hje1goUMHQZNJMrsSWD57pLnv1KE_L7pCEcaAunKEALw_wcB''Cj0KCQjwsZHPBRClARIsAC-VMPDlLD6kS4tmqFGZjMUqyerwe0WDaULaAKNkj-gwuvPnLSPRyf9TN7IaArICEALw_wcB'] \n",
        "- Name of column  trafficSource.adwordsClickInfo.page : \n",
        " Uniques:  [nan '1' '3' '2' '5']\n",
        "- Name of column  trafficSource.referralPath : \n",
        " Uniques:  [nan '/a/google.com/transportation/mtv-services/bikes/bike2workmay2016''/offer/2145' '/a/google.com/nest-vision/dropcam-field-tester-program''/analytics/web/'] \n",
        "- Name of column  trafficSource.campaign : \n",
        " Uniques:  ['(not set)' '\"google + redesign/Accessories March 17\" All Users''AW - Dynamic Search Ads Whole Site' '1000557 | GA | US | en | Hybrid | GDN Text+Banner | AS' 'Data Share Promo'] \n",
        "- Name of column  trafficSource.adwordsClickInfo.slot : \n",
        " Uniques:  [nan 'Top' 'RHS' 'Google Display Network']\n",
        " \n",
        "- Name of column  trafficSource.adContent : \n",
        " Uniques:  [nan 'Placement Accessories 300 x 250' 'Google Merchandise Store''Bags 300x250' 'Display Ad created 3/11/14']  \n",
        "- Name of column  trafficSource.campaignCode : \n",
        " Uniques:  [nan '11251kjhkvahf']   \n",
        "\n",
        "'''"
      ]
    },
    {
      "cell_type": "markdown",
      "metadata": {
        "id": "mJg8HOJgAq-C",
        "colab_type": "text"
      },
      "source": [
        "### Columns to Drop"
      ]
    },
    {
      "cell_type": "markdown",
      "metadata": {
        "id": "7TZIeLBtqyn3",
        "colab_type": "text"
      },
      "source": [
        "After examining the values, These are the droped Columns:"
      ]
    },
    {
      "cell_type": "code",
      "metadata": {
        "id": "53RDyI2wqyn4",
        "colab_type": "code",
        "colab": {}
      },
      "source": [
        "drop_col_list = ['socialEngagementType', 'device.browserVersion', 'device.browserSize', 'device.operatingSystemVersion',\n",
        "                 'device.mobileDeviceBranding', 'device.mobileDeviceModel', 'device.mobileInputSelector', \n",
        "                 'device.mobileDeviceInfo', 'device.mobileDeviceMarketingName', 'device.flashVersion', 'device.language', \n",
        "                 'device.screenColors', 'device.screenResolution', 'geoNetwork.cityId', 'geoNetwork.latitude', \n",
        "                 'geoNetwork.longitude', 'geoNetwork.networkLocation', 'trafficSource.campaign', 'trafficSource.referralPath', \n",
        "                 'trafficSource.adwordsClickInfo.page','trafficSource.adwordsClickInfo.slot', \n",
        "                 'trafficSource.adwordsClickInfo.criteriaParameters', 'trafficSource.adContent', 'trafficSource.adwordsClickInfo.gclId', \n",
        "                 'trafficSource.campaignCode', 'customDimension.index']"
      ],
      "execution_count": 0,
      "outputs": []
    },
    {
      "cell_type": "code",
      "metadata": {
        "id": "dnBusDn8qyn-",
        "colab_type": "code",
        "colab": {}
      },
      "source": [
        "df_train.drop(drop_col_list, axis=1, inplace=True)  #to drop them"
      ],
      "execution_count": 0,
      "outputs": []
    },
    {
      "cell_type": "markdown",
      "metadata": {
        "id": "Y0mNCZOhqyoL",
        "colab_type": "text"
      },
      "source": [
        "Now we have 38 columns and we can see how many unique values there are on each of these columns."
      ]
    },
    {
      "cell_type": "code",
      "metadata": {
        "id": "C0ABoxq_qyoU",
        "colab_type": "code",
        "colab": {},
        "outputId": "5ee3a855-41bc-4d66-b686-954b519917cd"
      },
      "source": [
        "df_train.nunique()"
      ],
      "execution_count": 0,
      "outputs": [
        {
          "output_type": "execute_result",
          "data": {
            "text/plain": [
              "channelGrouping                                       8\n",
              "date                                                638\n",
              "fullVisitorId                                   1323730\n",
              "visitId                                         1665802\n",
              "visitNumber                                         457\n",
              "visitStartTime                                  1667423\n",
              "device.browser                                      129\n",
              "device.operatingSystem                               24\n",
              "device.isMobile                                       2\n",
              "device.deviceCategory                                 3\n",
              "geoNetwork.continent                                  6\n",
              "geoNetwork.subContinent                              23\n",
              "geoNetwork.country                                  228\n",
              "geoNetwork.region                                   483\n",
              "geoNetwork.metro                                    123\n",
              "geoNetwork.city                                     956\n",
              "geoNetwork.networkDomain                          41982\n",
              "totals.visits                                         1\n",
              "totals.hits                                         297\n",
              "totals.pageviews                                    230\n",
              "totals.bounces                                        1\n",
              "totals.newVisits                                      1\n",
              "totals.sessionQualityDim                            100\n",
              "totals.timeOnSite                                  4774\n",
              "totals.transactions                                  13\n",
              "totals.transactionRevenue                          7251\n",
              "totals.totalTransactionRevenue                     8506\n",
              "trafficSource.source                                345\n",
              "trafficSource.medium                                  7\n",
              "trafficSource.keyword                              4546\n",
              "trafficSource.isTrueDirect                            1\n",
              "trafficSource.adwordsClickInfo.adNetworkType          3\n",
              "trafficSource.adwordsClickInfo.isVideoAd              1\n",
              "customDimension.value                                 5\n",
              "year                                                  3\n",
              "day                                                   7\n",
              "week                                                 52\n",
              "month                                                12\n",
              "dtype: int64"
            ]
          },
          "metadata": {
            "tags": []
          },
          "execution_count": 42
        }
      ]
    },
    {
      "cell_type": "markdown",
      "metadata": {
        "id": "6BTEsQP5qyog",
        "colab_type": "text"
      },
      "source": [
        "These columns also have a lonely unique value, however these unique value is not applied to all the records in the column, therefore these columns might bring information as  dummie variables.\n",
        "- totals.visits\n",
        "- totals.bounces\n",
        "- totals.newVisits\n",
        "- trafficSource.isTrueDirect\n",
        "- trafficSource.adwordsClickInfo.isVideoAd"
      ]
    },
    {
      "cell_type": "markdown",
      "metadata": {
        "id": "1uTGYhtjCcVM",
        "colab_type": "text"
      },
      "source": [
        "### Missing Values"
      ]
    },
    {
      "cell_type": "markdown",
      "metadata": {
        "id": "SEiiDgBNqyoh",
        "colab_type": "text"
      },
      "source": [
        "Afer dropping useless columns, we start cleaning and filling missing data for the remaining columns"
      ]
    },
    {
      "cell_type": "code",
      "metadata": {
        "id": "BguU89BLqyoi",
        "colab_type": "code",
        "colab": {},
        "outputId": "f500a4d4-901e-421d-f1f8-fe7f72689e77"
      },
      "source": [
        "#to check our data type again\n",
        "df_train.info()"
      ],
      "execution_count": 0,
      "outputs": [
        {
          "output_type": "stream",
          "text": [
            "<class 'pandas.core.frame.DataFrame'>\n",
            "RangeIndex: 1708337 entries, 0 to 1708336\n",
            "Data columns (total 38 columns):\n",
            " #   Column                                        Dtype         \n",
            "---  ------                                        -----         \n",
            " 0   channelGrouping                               object        \n",
            " 1   date                                          datetime64[ns]\n",
            " 2   fullVisitorId                                 object        \n",
            " 3   visitId                                       int64         \n",
            " 4   visitNumber                                   int64         \n",
            " 5   visitStartTime                                int64         \n",
            " 6   device.browser                                object        \n",
            " 7   device.operatingSystem                        object        \n",
            " 8   device.isMobile                               bool          \n",
            " 9   device.deviceCategory                         object        \n",
            " 10  geoNetwork.continent                          object        \n",
            " 11  geoNetwork.subContinent                       object        \n",
            " 12  geoNetwork.country                            object        \n",
            " 13  geoNetwork.region                             object        \n",
            " 14  geoNetwork.metro                              object        \n",
            " 15  geoNetwork.city                               object        \n",
            " 16  geoNetwork.networkDomain                      object        \n",
            " 17  totals.visits                                 object        \n",
            " 18  totals.hits                                   object        \n",
            " 19  totals.pageviews                              object        \n",
            " 20  totals.bounces                                object        \n",
            " 21  totals.newVisits                              object        \n",
            " 22  totals.sessionQualityDim                      object        \n",
            " 23  totals.timeOnSite                             object        \n",
            " 24  totals.transactions                           object        \n",
            " 25  totals.transactionRevenue                     object        \n",
            " 26  totals.totalTransactionRevenue                object        \n",
            " 27  trafficSource.source                          object        \n",
            " 28  trafficSource.medium                          object        \n",
            " 29  trafficSource.keyword                         object        \n",
            " 30  trafficSource.isTrueDirect                    object        \n",
            " 31  trafficSource.adwordsClickInfo.adNetworkType  object        \n",
            " 32  trafficSource.adwordsClickInfo.isVideoAd      object        \n",
            " 33  customDimension.value                         object        \n",
            " 34  year                                          int64         \n",
            " 35  day                                           object        \n",
            " 36  week                                          int64         \n",
            " 37  month                                         object        \n",
            "dtypes: bool(1), datetime64[ns](1), int64(5), object(31)\n",
            "memory usage: 483.9+ MB\n"
          ],
          "name": "stdout"
        }
      ]
    },
    {
      "cell_type": "markdown",
      "metadata": {
        "id": "3xmcZT9RC_PC",
        "colab_type": "text"
      },
      "source": [
        "From the previous analysis, we observe that the columns with number_values are in `string` format. \n",
        "We should convert them to numeric values as `int64` or `float` for our analysis and predictions."
      ]
    },
    {
      "cell_type": "markdown",
      "metadata": {
        "id": "vrEwT1sYGAbb",
        "colab_type": "text"
      },
      "source": [
        "these columns are objects. \n",
        "- totals.visits `object`       \n",
        "- totals.hits `object`\n",
        "- totals.pageviews `object` \n",
        "- totals.bounces `object`\n",
        "- totals.newVisits `object`\n",
        "- totals.sessionQualityDim `object`\n",
        "- totals.timeOnSite `object`\n",
        "- totals.transactions `object`\n",
        "- totals.transactionRevenue `object`\n",
        "- totals.totalTransactionRevenue `object`\n",
        "\n"
      ]
    },
    {
      "cell_type": "markdown",
      "metadata": {
        "id": "8NYCi1gvEE0V",
        "colab_type": "text"
      },
      "source": [
        "### Filling Null Values"
      ]
    },
    {
      "cell_type": "code",
      "metadata": {
        "id": "D2C_0vrtqypE",
        "colab_type": "code",
        "colab": {}
      },
      "source": [
        "# can be infered from totals.transactionRevenue\n",
        "\n",
        "df_train['totals.pageviews'].fillna(1, inplace=True) #filling NA's with 1(since least for a visit to the site means 1 page seen)\n",
        "df_train['totals.newVisits'].fillna(0, inplace=True) #filling NA's with 0(0 is suitable for Nan here)\n",
        "df_train['totals.bounces'].fillna(0, inplace=True)   #filling NA's with 0(0 is suitable for Nan here)\n",
        "df_train[\"totals.transactionRevenue\"] = df_train[\"totals.transactionRevenue\"].fillna(0.0).astype(float) #filling NA with zero\n"
      ],
      "execution_count": 0,
      "outputs": []
    },
    {
      "cell_type": "code",
      "metadata": {
        "id": "J_hJOAdkqypL",
        "colab_type": "code",
        "colab": {}
      },
      "source": [
        "#To convert\n",
        "\n",
        "df_train['totals.pageviews'] = df_train['totals.pageviews'].astype(int) # setting numerical column as integer\n",
        "df_train['totals.newVisits'] = df_train['totals.newVisits'].astype(int) # setting numerical column as integer\n",
        "df_train['totals.bounces'] = df_train['totals.bounces'].astype(int)  # setting numerical column as integer\n",
        "df_train[\"totals.hits\"] = df_train[\"totals.hits\"].astype(float) # setting numerical to float\n",
        "df_train['totals.visits'] = df_train['totals.visits'].astype(int) # seting as int"
      ],
      "execution_count": 0,
      "outputs": []
    },
    {
      "cell_type": "markdown",
      "metadata": {
        "id": "kl-7ATRlEmHK",
        "colab_type": "text"
      },
      "source": [
        "We cannot decide on `totals.sessionQualityDim`,`totals.timeOnSite`.\n",
        "\n",
        "But it seems like  `totals.transactions` and `totals.totalTransactionRevenue` can be infered from `totals.transactionRevenue`\n",
        "\n"
      ]
    },
    {
      "cell_type": "code",
      "metadata": {
        "id": "s-9ZqOaMqypW",
        "colab_type": "code",
        "colab": {
          "base_uri": "https://localhost:8080/",
          "height": 204
        },
        "outputId": "6e6e1fe3-53e4-41fd-c072-445c2e070dd7"
      },
      "source": [
        "#Check again the data\n",
        "values_missing(df_train)"
      ],
      "execution_count": 21,
      "outputs": [
        {
          "output_type": "stream",
          "text": [
            "Total and percent of missing values: \n",
            "                                                Total    Percent\n",
            "totals.totalTransactionRevenue                1689823  98.916256\n",
            "totals.transactions                           1689778  98.913622\n",
            "trafficSource.adwordsClickInfo.isVideoAd      1633063  95.593727\n",
            "trafficSource.adwordsClickInfo.adNetworkType  1633063  95.593727\n",
            "trafficSource.isTrueDirect                    1173819  68.711209\n",
            "trafficSource.keyword                         1052780  61.626014\n",
            "totals.timeOnSite                              874294  51.178076\n",
            "totals.sessionQualityDim                       835274  48.893983\n",
            "customDimension.value                          333235  19.506397\n"
          ],
          "name": "stdout"
        }
      ]
    },
    {
      "cell_type": "code",
      "metadata": {
        "id": "gnkpzWBrHiWv",
        "colab_type": "code",
        "colab": {}
      },
      "source": [
        "# leave them for now and revisit them if need it."
      ],
      "execution_count": 0,
      "outputs": []
    },
    {
      "cell_type": "markdown",
      "metadata": {
        "id": "dSVtWUa0qyqt",
        "colab_type": "text"
      },
      "source": [
        "I paused here to focus on the ML pipeline. \n",
        "So far i have clean 80% of the dataset except for :\n",
        "\n",
        "Total and percent of missing values: \n",
        "                                                **Total**    **Percent**\n",
        "                                                \n",
        "totals.totalTransactionRevenue                1689823  98.916256\n",
        "\n",
        "totals.transactions                           1689778  98.913622\n",
        "\n",
        "trafficSource.adwordsClickInfo.isVideoAd      1633063  95.593727\n",
        "\n",
        "trafficSource.adwordsClickInfo.adNetworkType  1633063  95.593727\n",
        "\n",
        "trafficSource.isTrueDirect                    1173819  68.711209\n",
        "\n",
        "trafficSource.keyword                         1052780  61.626014\n",
        "\n",
        "totals.timeOnSite                              874294  51.178076\n",
        "\n",
        "totals.sessionQualityDim                       835274  48.893983\n",
        "\n",
        "customDimension.value                          333235  19.506397\n",
        "\n",
        "I will convert and fill trafficSource.adwordsClickInfo.isVideoAd and trafficSource.isTrueDirect\n",
        " i will drop trafficSource.adwordsClickInfo.adNetworkType,totals.timeOnSite,totals.sessionQualityDim and customDimension.value\n",
        " becasue they i can find similar values on other columns or i simply can't find a use for them or what to fill them with\n",
        "\n",
        "\n",
        " "
      ]
    },
    {
      "cell_type": "code",
      "metadata": {
        "id": "FolqKENNqyqu",
        "colab_type": "code",
        "colab": {}
      },
      "source": [
        "    df_train['trafficSource.isTrueDirect'].fillna(False, inplace=True) # filling boolean with False is its NAn\n",
        "    df_train['trafficSource.adwordsClickInfo.isVideoAd'].fillna(True, inplace=True) # filling boolean is its NAn"
      ],
      "execution_count": 0,
      "outputs": []
    },
    {
      "cell_type": "code",
      "metadata": {
        "id": "LYr0zAMyqyq2",
        "colab_type": "code",
        "colab": {}
      },
      "source": [
        "new_drop_col_list = ['trafficSource.adwordsClickInfo.adNetworkType','totals.timeOnSite','totals.sessionQualityDim',\n",
        "                 'customDimension.value','trafficSource.keyword']"
      ],
      "execution_count": 0,
      "outputs": []
    },
    {
      "cell_type": "code",
      "metadata": {
        "id": "ATBOAwFNqyq7",
        "colab_type": "code",
        "colab": {}
      },
      "source": [
        "df_train.drop(new_drop_col_list, axis=1, inplace=True)  #to drop them"
      ],
      "execution_count": 0,
      "outputs": []
    },
    {
      "cell_type": "code",
      "metadata": {
        "id": "IxUk6h-6qyrB",
        "colab_type": "code",
        "colab": {},
        "outputId": "1b3d6c91-7138-42fa-f3c0-5c773ee4a60b"
      },
      "source": [
        "df_train.head()"
      ],
      "execution_count": 0,
      "outputs": [
        {
          "output_type": "execute_result",
          "data": {
            "text/html": [
              "<div>\n",
              "<style scoped>\n",
              "    .dataframe tbody tr th:only-of-type {\n",
              "        vertical-align: middle;\n",
              "    }\n",
              "\n",
              "    .dataframe tbody tr th {\n",
              "        vertical-align: top;\n",
              "    }\n",
              "\n",
              "    .dataframe thead th {\n",
              "        text-align: right;\n",
              "    }\n",
              "</style>\n",
              "<table border=\"1\" class=\"dataframe\">\n",
              "  <thead>\n",
              "    <tr style=\"text-align: right;\">\n",
              "      <th></th>\n",
              "      <th>channelGrouping</th>\n",
              "      <th>date</th>\n",
              "      <th>fullVisitorId</th>\n",
              "      <th>visitId</th>\n",
              "      <th>visitNumber</th>\n",
              "      <th>visitStartTime</th>\n",
              "      <th>device.browser</th>\n",
              "      <th>device.operatingSystem</th>\n",
              "      <th>device.isMobile</th>\n",
              "      <th>device.deviceCategory</th>\n",
              "      <th>...</th>\n",
              "      <th>totals.transactionRevenue</th>\n",
              "      <th>totals.totalTransactionRevenue</th>\n",
              "      <th>trafficSource.source</th>\n",
              "      <th>trafficSource.medium</th>\n",
              "      <th>trafficSource.isTrueDirect</th>\n",
              "      <th>trafficSource.adwordsClickInfo.isVideoAd</th>\n",
              "      <th>year</th>\n",
              "      <th>day</th>\n",
              "      <th>week</th>\n",
              "      <th>month</th>\n",
              "    </tr>\n",
              "  </thead>\n",
              "  <tbody>\n",
              "    <tr>\n",
              "      <th>0</th>\n",
              "      <td>Organic Search</td>\n",
              "      <td>2017-10-16</td>\n",
              "      <td>3162355547410993243</td>\n",
              "      <td>1508198450</td>\n",
              "      <td>1</td>\n",
              "      <td>1508198450</td>\n",
              "      <td>Firefox</td>\n",
              "      <td>Windows</td>\n",
              "      <td>False</td>\n",
              "      <td>desktop</td>\n",
              "      <td>...</td>\n",
              "      <td>0.0</td>\n",
              "      <td>NaN</td>\n",
              "      <td>google</td>\n",
              "      <td>organic</td>\n",
              "      <td>False</td>\n",
              "      <td>True</td>\n",
              "      <td>2017</td>\n",
              "      <td>Monday</td>\n",
              "      <td>42</td>\n",
              "      <td>October</td>\n",
              "    </tr>\n",
              "    <tr>\n",
              "      <th>1</th>\n",
              "      <td>Referral</td>\n",
              "      <td>2017-10-16</td>\n",
              "      <td>8934116514970143966</td>\n",
              "      <td>1508176307</td>\n",
              "      <td>6</td>\n",
              "      <td>1508176307</td>\n",
              "      <td>Chrome</td>\n",
              "      <td>Chrome OS</td>\n",
              "      <td>False</td>\n",
              "      <td>desktop</td>\n",
              "      <td>...</td>\n",
              "      <td>0.0</td>\n",
              "      <td>NaN</td>\n",
              "      <td>sites.google.com</td>\n",
              "      <td>referral</td>\n",
              "      <td>False</td>\n",
              "      <td>True</td>\n",
              "      <td>2017</td>\n",
              "      <td>Monday</td>\n",
              "      <td>42</td>\n",
              "      <td>October</td>\n",
              "    </tr>\n",
              "    <tr>\n",
              "      <th>2</th>\n",
              "      <td>Direct</td>\n",
              "      <td>2017-10-16</td>\n",
              "      <td>7992466427990357681</td>\n",
              "      <td>1508201613</td>\n",
              "      <td>1</td>\n",
              "      <td>1508201613</td>\n",
              "      <td>Chrome</td>\n",
              "      <td>Android</td>\n",
              "      <td>True</td>\n",
              "      <td>mobile</td>\n",
              "      <td>...</td>\n",
              "      <td>0.0</td>\n",
              "      <td>NaN</td>\n",
              "      <td>(direct)</td>\n",
              "      <td>(none)</td>\n",
              "      <td>True</td>\n",
              "      <td>True</td>\n",
              "      <td>2017</td>\n",
              "      <td>Monday</td>\n",
              "      <td>42</td>\n",
              "      <td>October</td>\n",
              "    </tr>\n",
              "    <tr>\n",
              "      <th>3</th>\n",
              "      <td>Organic Search</td>\n",
              "      <td>2017-10-16</td>\n",
              "      <td>9075655783635761930</td>\n",
              "      <td>1508169851</td>\n",
              "      <td>1</td>\n",
              "      <td>1508169851</td>\n",
              "      <td>Chrome</td>\n",
              "      <td>Windows</td>\n",
              "      <td>False</td>\n",
              "      <td>desktop</td>\n",
              "      <td>...</td>\n",
              "      <td>0.0</td>\n",
              "      <td>NaN</td>\n",
              "      <td>google</td>\n",
              "      <td>organic</td>\n",
              "      <td>False</td>\n",
              "      <td>True</td>\n",
              "      <td>2017</td>\n",
              "      <td>Monday</td>\n",
              "      <td>42</td>\n",
              "      <td>October</td>\n",
              "    </tr>\n",
              "    <tr>\n",
              "      <th>4</th>\n",
              "      <td>Organic Search</td>\n",
              "      <td>2017-10-16</td>\n",
              "      <td>6960673291025684308</td>\n",
              "      <td>1508190552</td>\n",
              "      <td>1</td>\n",
              "      <td>1508190552</td>\n",
              "      <td>Chrome</td>\n",
              "      <td>Windows</td>\n",
              "      <td>False</td>\n",
              "      <td>desktop</td>\n",
              "      <td>...</td>\n",
              "      <td>0.0</td>\n",
              "      <td>NaN</td>\n",
              "      <td>google</td>\n",
              "      <td>organic</td>\n",
              "      <td>False</td>\n",
              "      <td>True</td>\n",
              "      <td>2017</td>\n",
              "      <td>Monday</td>\n",
              "      <td>42</td>\n",
              "      <td>October</td>\n",
              "    </tr>\n",
              "  </tbody>\n",
              "</table>\n",
              "<p>5 rows × 33 columns</p>\n",
              "</div>"
            ],
            "text/plain": [
              "  channelGrouping       date        fullVisitorId     visitId  visitNumber  \\\n",
              "0  Organic Search 2017-10-16  3162355547410993243  1508198450            1   \n",
              "1        Referral 2017-10-16  8934116514970143966  1508176307            6   \n",
              "2          Direct 2017-10-16  7992466427990357681  1508201613            1   \n",
              "3  Organic Search 2017-10-16  9075655783635761930  1508169851            1   \n",
              "4  Organic Search 2017-10-16  6960673291025684308  1508190552            1   \n",
              "\n",
              "   visitStartTime device.browser device.operatingSystem  device.isMobile  \\\n",
              "0      1508198450        Firefox                Windows            False   \n",
              "1      1508176307         Chrome              Chrome OS            False   \n",
              "2      1508201613         Chrome                Android             True   \n",
              "3      1508169851         Chrome                Windows            False   \n",
              "4      1508190552         Chrome                Windows            False   \n",
              "\n",
              "  device.deviceCategory  ... totals.transactionRevenue  \\\n",
              "0               desktop  ...                       0.0   \n",
              "1               desktop  ...                       0.0   \n",
              "2                mobile  ...                       0.0   \n",
              "3               desktop  ...                       0.0   \n",
              "4               desktop  ...                       0.0   \n",
              "\n",
              "  totals.totalTransactionRevenue trafficSource.source trafficSource.medium  \\\n",
              "0                            NaN               google              organic   \n",
              "1                            NaN     sites.google.com             referral   \n",
              "2                            NaN             (direct)               (none)   \n",
              "3                            NaN               google              organic   \n",
              "4                            NaN               google              organic   \n",
              "\n",
              "  trafficSource.isTrueDirect trafficSource.adwordsClickInfo.isVideoAd  year  \\\n",
              "0                      False                                     True  2017   \n",
              "1                      False                                     True  2017   \n",
              "2                       True                                     True  2017   \n",
              "3                      False                                     True  2017   \n",
              "4                      False                                     True  2017   \n",
              "\n",
              "      day  week    month  \n",
              "0  Monday    42  October  \n",
              "1  Monday    42  October  \n",
              "2  Monday    42  October  \n",
              "3  Monday    42  October  \n",
              "4  Monday    42  October  \n",
              "\n",
              "[5 rows x 33 columns]"
            ]
          },
          "metadata": {
            "tags": []
          },
          "execution_count": 20
        }
      ]
    },
    {
      "cell_type": "code",
      "metadata": {
        "id": "nYsdpMdqqyrH",
        "colab_type": "code",
        "colab": {},
        "outputId": "87a864d1-35f7-447b-a4c7-9bca28233162"
      },
      "source": [
        "values_missing(df_train)"
      ],
      "execution_count": 0,
      "outputs": [
        {
          "output_type": "stream",
          "text": [
            "Total and percent of missing values: \n",
            "                                  Total    Percent\n",
            "totals.totalTransactionRevenue  1689823  98.916256\n",
            "totals.transactions             1689778  98.913622\n"
          ],
          "name": "stdout"
        }
      ]
    },
    {
      "cell_type": "markdown",
      "metadata": {
        "id": "gnhACmclqyrM",
        "colab_type": "text"
      },
      "source": [
        "I still cannot decide on this 2 columns, what do i do with them. I know the totals.totalTransactionRevenue seems same with the target , i think ii will remove it to aviod overfitiing\n",
        "I aslo think i will fill totals.transactions with bcos if there was a value the number would have been available."
      ]
    },
    {
      "cell_type": "code",
      "metadata": {
        "id": "4liCCv8rqyrN",
        "colab_type": "code",
        "colab": {}
      },
      "source": [
        "df_train[\"totals.transactions\"] = df_train[\"totals.transactions\"].fillna(0).astype(int)"
      ],
      "execution_count": 0,
      "outputs": []
    },
    {
      "cell_type": "code",
      "metadata": {
        "id": "jAQ9XyseqyrT",
        "colab_type": "code",
        "colab": {}
      },
      "source": [
        "df_train.drop('totals.totalTransactionRevenue',axis=1, inplace=True)"
      ],
      "execution_count": 0,
      "outputs": []
    },
    {
      "cell_type": "code",
      "metadata": {
        "id": "WMxoyc5rqyrY",
        "colab_type": "code",
        "colab": {},
        "outputId": "438df310-efcf-4a03-992b-08e690d6e39d"
      },
      "source": [
        "df_train.isna().sum()"
      ],
      "execution_count": 0,
      "outputs": [
        {
          "output_type": "execute_result",
          "data": {
            "text/plain": [
              "channelGrouping                             0\n",
              "date                                        0\n",
              "fullVisitorId                               0\n",
              "visitId                                     0\n",
              "visitNumber                                 0\n",
              "visitStartTime                              0\n",
              "device.browser                              0\n",
              "device.operatingSystem                      0\n",
              "device.isMobile                             0\n",
              "device.deviceCategory                       0\n",
              "geoNetwork.continent                        0\n",
              "geoNetwork.subContinent                     0\n",
              "geoNetwork.country                          0\n",
              "geoNetwork.region                           0\n",
              "geoNetwork.metro                            0\n",
              "geoNetwork.city                             0\n",
              "geoNetwork.networkDomain                    0\n",
              "totals.visits                               0\n",
              "totals.hits                                 0\n",
              "totals.pageviews                            0\n",
              "totals.bounces                              0\n",
              "totals.newVisits                            0\n",
              "totals.transactions                         0\n",
              "totals.transactionRevenue                   0\n",
              "trafficSource.source                        0\n",
              "trafficSource.medium                        0\n",
              "trafficSource.isTrueDirect                  0\n",
              "trafficSource.adwordsClickInfo.isVideoAd    0\n",
              "year                                        0\n",
              "day                                         0\n",
              "week                                        0\n",
              "month                                       0\n",
              "dtype: int64"
            ]
          },
          "metadata": {
            "tags": []
          },
          "execution_count": 24
        }
      ]
    },
    {
      "cell_type": "code",
      "metadata": {
        "id": "xC5UCrVNqyrc",
        "colab_type": "code",
        "colab": {},
        "outputId": "45440fcf-716d-4225-b62d-d001d1f5ac0a"
      },
      "source": [
        "df_train.isnull().sum()"
      ],
      "execution_count": 0,
      "outputs": [
        {
          "output_type": "execute_result",
          "data": {
            "text/plain": [
              "channelGrouping                             0\n",
              "date                                        0\n",
              "fullVisitorId                               0\n",
              "visitId                                     0\n",
              "visitNumber                                 0\n",
              "visitStartTime                              0\n",
              "device.browser                              0\n",
              "device.operatingSystem                      0\n",
              "device.isMobile                             0\n",
              "device.deviceCategory                       0\n",
              "geoNetwork.continent                        0\n",
              "geoNetwork.subContinent                     0\n",
              "geoNetwork.country                          0\n",
              "geoNetwork.region                           0\n",
              "geoNetwork.metro                            0\n",
              "geoNetwork.city                             0\n",
              "geoNetwork.networkDomain                    0\n",
              "totals.visits                               0\n",
              "totals.hits                                 0\n",
              "totals.pageviews                            0\n",
              "totals.bounces                              0\n",
              "totals.newVisits                            0\n",
              "totals.transactions                         0\n",
              "totals.transactionRevenue                   0\n",
              "trafficSource.source                        0\n",
              "trafficSource.medium                        0\n",
              "trafficSource.isTrueDirect                  0\n",
              "trafficSource.adwordsClickInfo.isVideoAd    0\n",
              "year                                        0\n",
              "day                                         0\n",
              "week                                        0\n",
              "month                                       0\n",
              "dtype: int64"
            ]
          },
          "metadata": {
            "tags": []
          },
          "execution_count": 25
        }
      ]
    },
    {
      "cell_type": "markdown",
      "metadata": {
        "id": "c7wMujQeqyrg",
        "colab_type": "text"
      },
      "source": [
        "OK now my data is clean. i will save the data set before i process with feature selection."
      ]
    },
    {
      "cell_type": "code",
      "metadata": {
        "id": "gP9mFWmeqyrh",
        "colab_type": "code",
        "colab": {}
      },
      "source": [
        "Cleaned_train = df_train"
      ],
      "execution_count": 0,
      "outputs": []
    },
    {
      "cell_type": "code",
      "metadata": {
        "id": "lVWyDx03qyrn",
        "colab_type": "code",
        "colab": {},
        "outputId": "55e68b51-49fb-4ce2-92b4-2904585042ef"
      },
      "source": [
        "Cleaned_train.head()"
      ],
      "execution_count": 0,
      "outputs": [
        {
          "output_type": "execute_result",
          "data": {
            "text/html": [
              "<div>\n",
              "<style scoped>\n",
              "    .dataframe tbody tr th:only-of-type {\n",
              "        vertical-align: middle;\n",
              "    }\n",
              "\n",
              "    .dataframe tbody tr th {\n",
              "        vertical-align: top;\n",
              "    }\n",
              "\n",
              "    .dataframe thead th {\n",
              "        text-align: right;\n",
              "    }\n",
              "</style>\n",
              "<table border=\"1\" class=\"dataframe\">\n",
              "  <thead>\n",
              "    <tr style=\"text-align: right;\">\n",
              "      <th></th>\n",
              "      <th>channelGrouping</th>\n",
              "      <th>date</th>\n",
              "      <th>fullVisitorId</th>\n",
              "      <th>visitId</th>\n",
              "      <th>visitNumber</th>\n",
              "      <th>visitStartTime</th>\n",
              "      <th>device.browser</th>\n",
              "      <th>device.operatingSystem</th>\n",
              "      <th>device.isMobile</th>\n",
              "      <th>device.deviceCategory</th>\n",
              "      <th>...</th>\n",
              "      <th>totals.transactions</th>\n",
              "      <th>totals.transactionRevenue</th>\n",
              "      <th>trafficSource.source</th>\n",
              "      <th>trafficSource.medium</th>\n",
              "      <th>trafficSource.isTrueDirect</th>\n",
              "      <th>trafficSource.adwordsClickInfo.isVideoAd</th>\n",
              "      <th>year</th>\n",
              "      <th>day</th>\n",
              "      <th>week</th>\n",
              "      <th>month</th>\n",
              "    </tr>\n",
              "  </thead>\n",
              "  <tbody>\n",
              "    <tr>\n",
              "      <th>0</th>\n",
              "      <td>Organic Search</td>\n",
              "      <td>2017-10-16</td>\n",
              "      <td>3162355547410993243</td>\n",
              "      <td>1508198450</td>\n",
              "      <td>1</td>\n",
              "      <td>1508198450</td>\n",
              "      <td>Firefox</td>\n",
              "      <td>Windows</td>\n",
              "      <td>False</td>\n",
              "      <td>desktop</td>\n",
              "      <td>...</td>\n",
              "      <td>0</td>\n",
              "      <td>0.0</td>\n",
              "      <td>google</td>\n",
              "      <td>organic</td>\n",
              "      <td>False</td>\n",
              "      <td>True</td>\n",
              "      <td>2017</td>\n",
              "      <td>Monday</td>\n",
              "      <td>42</td>\n",
              "      <td>October</td>\n",
              "    </tr>\n",
              "    <tr>\n",
              "      <th>1</th>\n",
              "      <td>Referral</td>\n",
              "      <td>2017-10-16</td>\n",
              "      <td>8934116514970143966</td>\n",
              "      <td>1508176307</td>\n",
              "      <td>6</td>\n",
              "      <td>1508176307</td>\n",
              "      <td>Chrome</td>\n",
              "      <td>Chrome OS</td>\n",
              "      <td>False</td>\n",
              "      <td>desktop</td>\n",
              "      <td>...</td>\n",
              "      <td>0</td>\n",
              "      <td>0.0</td>\n",
              "      <td>sites.google.com</td>\n",
              "      <td>referral</td>\n",
              "      <td>False</td>\n",
              "      <td>True</td>\n",
              "      <td>2017</td>\n",
              "      <td>Monday</td>\n",
              "      <td>42</td>\n",
              "      <td>October</td>\n",
              "    </tr>\n",
              "    <tr>\n",
              "      <th>2</th>\n",
              "      <td>Direct</td>\n",
              "      <td>2017-10-16</td>\n",
              "      <td>7992466427990357681</td>\n",
              "      <td>1508201613</td>\n",
              "      <td>1</td>\n",
              "      <td>1508201613</td>\n",
              "      <td>Chrome</td>\n",
              "      <td>Android</td>\n",
              "      <td>True</td>\n",
              "      <td>mobile</td>\n",
              "      <td>...</td>\n",
              "      <td>0</td>\n",
              "      <td>0.0</td>\n",
              "      <td>(direct)</td>\n",
              "      <td>(none)</td>\n",
              "      <td>True</td>\n",
              "      <td>True</td>\n",
              "      <td>2017</td>\n",
              "      <td>Monday</td>\n",
              "      <td>42</td>\n",
              "      <td>October</td>\n",
              "    </tr>\n",
              "    <tr>\n",
              "      <th>3</th>\n",
              "      <td>Organic Search</td>\n",
              "      <td>2017-10-16</td>\n",
              "      <td>9075655783635761930</td>\n",
              "      <td>1508169851</td>\n",
              "      <td>1</td>\n",
              "      <td>1508169851</td>\n",
              "      <td>Chrome</td>\n",
              "      <td>Windows</td>\n",
              "      <td>False</td>\n",
              "      <td>desktop</td>\n",
              "      <td>...</td>\n",
              "      <td>0</td>\n",
              "      <td>0.0</td>\n",
              "      <td>google</td>\n",
              "      <td>organic</td>\n",
              "      <td>False</td>\n",
              "      <td>True</td>\n",
              "      <td>2017</td>\n",
              "      <td>Monday</td>\n",
              "      <td>42</td>\n",
              "      <td>October</td>\n",
              "    </tr>\n",
              "    <tr>\n",
              "      <th>4</th>\n",
              "      <td>Organic Search</td>\n",
              "      <td>2017-10-16</td>\n",
              "      <td>6960673291025684308</td>\n",
              "      <td>1508190552</td>\n",
              "      <td>1</td>\n",
              "      <td>1508190552</td>\n",
              "      <td>Chrome</td>\n",
              "      <td>Windows</td>\n",
              "      <td>False</td>\n",
              "      <td>desktop</td>\n",
              "      <td>...</td>\n",
              "      <td>0</td>\n",
              "      <td>0.0</td>\n",
              "      <td>google</td>\n",
              "      <td>organic</td>\n",
              "      <td>False</td>\n",
              "      <td>True</td>\n",
              "      <td>2017</td>\n",
              "      <td>Monday</td>\n",
              "      <td>42</td>\n",
              "      <td>October</td>\n",
              "    </tr>\n",
              "  </tbody>\n",
              "</table>\n",
              "<p>5 rows × 32 columns</p>\n",
              "</div>"
            ],
            "text/plain": [
              "  channelGrouping       date        fullVisitorId     visitId  visitNumber  \\\n",
              "0  Organic Search 2017-10-16  3162355547410993243  1508198450            1   \n",
              "1        Referral 2017-10-16  8934116514970143966  1508176307            6   \n",
              "2          Direct 2017-10-16  7992466427990357681  1508201613            1   \n",
              "3  Organic Search 2017-10-16  9075655783635761930  1508169851            1   \n",
              "4  Organic Search 2017-10-16  6960673291025684308  1508190552            1   \n",
              "\n",
              "   visitStartTime device.browser device.operatingSystem  device.isMobile  \\\n",
              "0      1508198450        Firefox                Windows            False   \n",
              "1      1508176307         Chrome              Chrome OS            False   \n",
              "2      1508201613         Chrome                Android             True   \n",
              "3      1508169851         Chrome                Windows            False   \n",
              "4      1508190552         Chrome                Windows            False   \n",
              "\n",
              "  device.deviceCategory  ... totals.transactions totals.transactionRevenue  \\\n",
              "0               desktop  ...                   0                       0.0   \n",
              "1               desktop  ...                   0                       0.0   \n",
              "2                mobile  ...                   0                       0.0   \n",
              "3               desktop  ...                   0                       0.0   \n",
              "4               desktop  ...                   0                       0.0   \n",
              "\n",
              "  trafficSource.source trafficSource.medium trafficSource.isTrueDirect  \\\n",
              "0               google              organic                      False   \n",
              "1     sites.google.com             referral                      False   \n",
              "2             (direct)               (none)                       True   \n",
              "3               google              organic                      False   \n",
              "4               google              organic                      False   \n",
              "\n",
              "  trafficSource.adwordsClickInfo.isVideoAd  year     day  week    month  \n",
              "0                                     True  2017  Monday    42  October  \n",
              "1                                     True  2017  Monday    42  October  \n",
              "2                                     True  2017  Monday    42  October  \n",
              "3                                     True  2017  Monday    42  October  \n",
              "4                                     True  2017  Monday    42  October  \n",
              "\n",
              "[5 rows x 32 columns]"
            ]
          },
          "metadata": {
            "tags": []
          },
          "execution_count": 27
        }
      ]
    },
    {
      "cell_type": "code",
      "metadata": {
        "id": "bePEXQG2qyrx",
        "colab_type": "code",
        "colab": {},
        "outputId": "347cfeb7-6b81-4781-d8a9-ce31d2853b53"
      },
      "source": [
        "Cleaned_train.info()"
      ],
      "execution_count": 0,
      "outputs": [
        {
          "output_type": "stream",
          "text": [
            "<class 'pandas.core.frame.DataFrame'>\n",
            "RangeIndex: 1708337 entries, 0 to 1708336\n",
            "Data columns (total 32 columns):\n",
            " #   Column                                    Dtype         \n",
            "---  ------                                    -----         \n",
            " 0   channelGrouping                           object        \n",
            " 1   date                                      datetime64[ns]\n",
            " 2   fullVisitorId                             object        \n",
            " 3   visitId                                   int64         \n",
            " 4   visitNumber                               int64         \n",
            " 5   visitStartTime                            int64         \n",
            " 6   device.browser                            object        \n",
            " 7   device.operatingSystem                    object        \n",
            " 8   device.isMobile                           bool          \n",
            " 9   device.deviceCategory                     object        \n",
            " 10  geoNetwork.continent                      object        \n",
            " 11  geoNetwork.subContinent                   object        \n",
            " 12  geoNetwork.country                        object        \n",
            " 13  geoNetwork.region                         object        \n",
            " 14  geoNetwork.metro                          object        \n",
            " 15  geoNetwork.city                           object        \n",
            " 16  geoNetwork.networkDomain                  object        \n",
            " 17  totals.visits                             int32         \n",
            " 18  totals.hits                               float64       \n",
            " 19  totals.pageviews                          int32         \n",
            " 20  totals.bounces                            int32         \n",
            " 21  totals.newVisits                          int32         \n",
            " 22  totals.transactions                       int32         \n",
            " 23  totals.transactionRevenue                 float64       \n",
            " 24  trafficSource.source                      object        \n",
            " 25  trafficSource.medium                      object        \n",
            " 26  trafficSource.isTrueDirect                bool          \n",
            " 27  trafficSource.adwordsClickInfo.isVideoAd  bool          \n",
            " 28  year                                      int64         \n",
            " 29  day                                       object        \n",
            " 30  week                                      int64         \n",
            " 31  month                                     object        \n",
            "dtypes: bool(3), datetime64[ns](1), float64(2), int32(5), int64(5), object(16)\n",
            "memory usage: 350.3+ MB\n"
          ],
          "name": "stdout"
        }
      ]
    },
    {
      "cell_type": "code",
      "metadata": {
        "id": "kkuKHwMhqyr3",
        "colab_type": "code",
        "colab": {}
      },
      "source": [
        "Cleaned_train.to_csv('/Users/chris/Desktop/chris_files.csv/Cleaned_train.csv',index=False)"
      ],
      "execution_count": 0,
      "outputs": []
    },
    {
      "cell_type": "markdown",
      "metadata": {
        "id": "pxq516U9qyr8",
        "colab_type": "text"
      },
      "source": [
        "NOW TO FEATURES SELECTION::::"
      ]
    },
    {
      "cell_type": "markdown",
      "metadata": {
        "id": "N0-J_NTgqyr9",
        "colab_type": "text"
      },
      "source": [
        "using corellation matrix- heatmap"
      ]
    },
    {
      "cell_type": "code",
      "metadata": {
        "id": "w-arFge_qyr-",
        "colab_type": "code",
        "colab": {},
        "outputId": "c3da53b1-afb5-47c9-8169-3eb899342206"
      },
      "source": [
        "corrmat = Cleaned_train.corr()\n",
        "top_corr_feature = corrmat.index\n",
        "\n",
        "plt.figure(figsize = (20,20))\n",
        "#plot heatmap\n",
        "\n",
        "sns.heatmap(df_train[top_corr_feature].corr(),annot =True,cmap='CMRmap')\n"
      ],
      "execution_count": 0,
      "outputs": [
        {
          "output_type": "execute_result",
          "data": {
            "text/plain": [
              "<matplotlib.axes._subplots.AxesSubplot at 0x16ba721c7c8>"
            ]
          },
          "metadata": {
            "tags": []
          },
          "execution_count": 31
        },
        {
          "output_type": "display_data",
          "data": {
            "image/png": "[encoded data removed]",
            "text/plain": [
              "<Figure size 1440x1440 with 2 Axes>"
            ]
          },
          "metadata": {
            "tags": [],
            "needs_background": "light"
          }
        }
      ]
    },
    {
      "cell_type": "markdown",
      "metadata": {
        "id": "AGHJOe0HqysD",
        "colab_type": "text"
      },
      "source": [
        "please interprete........................................."
      ]
    },
    {
      "cell_type": "code",
      "metadata": {
        "id": "zJHQzFggqysE",
        "colab_type": "code",
        "colab": {}
      },
      "source": [
        ""
      ],
      "execution_count": 0,
      "outputs": []
    }
  ]
}