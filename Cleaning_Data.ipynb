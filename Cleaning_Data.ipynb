{
  "nbformat": 4,
  "nbformat_minor": 0,
  "metadata": {
    "kernelspec": {
      "display_name": "Python 3",
      "language": "python",
      "name": "python3"
    },
    "language_info": {
      "codemirror_mode": {
        "name": "ipython",
        "version": 3
      },
      "file_extension": ".py",
      "mimetype": "text/x-python",
      "name": "python",
      "nbconvert_exporter": "python",
      "pygments_lexer": "ipython3",
      "version": "3.7.4"
    },
    "toc": {
      "base_numbering": 1,
      "nav_menu": {},
      "number_sections": true,
      "sideBar": true,
      "skip_h1_title": false,
      "title_cell": "Table of Contents",
      "title_sidebar": "Contents",
      "toc_cell": false,
      "toc_position": {},
      "toc_section_display": true,
      "toc_window_display": false
    },
    "colab": {
      "name": "Cleaning_Data.ipynb",
      "provenance": [],
      "toc_visible": true
    }
  },
  "cells": [
    {
      "cell_type": "markdown",
      "metadata": {
        "id": "KqQ1jL9hrnA3",
        "colab_type": "text"
      },
      "source": [
        "## Getting the Data"
      ]
    },
    {
      "cell_type": "code",
      "metadata": {
        "id": "470v_G6Orh5K",
        "colab_type": "code",
        "colab": {
          "base_uri": "https://localhost:8080/",
          "height": 122
        },
        "outputId": "e2fffd56-04da-44aa-8b9d-8ca8e8aba25f"
      },
      "source": [
        "#Mount the Google Drive to Google Colab\n",
        "#1. get the library\n",
        "from google.colab import drive\n",
        "drive.mount('/content/gdrive')"
      ],
      "execution_count": 1,
      "outputs": [
        {
          "output_type": "stream",
          "text": [
            "Go to this URL in a browser: https://accounts.google.com/o/oauth2/auth?client_id=947318989803-6bn6qk8qdgf4n4g3pfee6491hc0brc4i.apps.googleusercontent.com&redirect_uri=urn%3aietf%3awg%3aoauth%3a2.0%3aoob&response_type=code&scope=email%20https%3a%2f%2fwww.googleapis.com%2fauth%2fdocs.test%20https%3a%2f%2fwww.googleapis.com%2fauth%2fdrive%20https%3a%2f%2fwww.googleapis.com%2fauth%2fdrive.photos.readonly%20https%3a%2f%2fwww.googleapis.com%2fauth%2fpeopleapi.readonly\n",
            "\n",
            "Enter your authorization code:\n",
            "··········\n",
            "Mounted at /content/gdrive\n"
          ],
          "name": "stdout"
        }
      ]
    },
    {
      "cell_type": "code",
      "metadata": {
        "id": "4OGCsS5brmY_",
        "colab_type": "code",
        "colab": {}
      },
      "source": [
        "#rooth_path directs the cd to the right folder in the Google Drive\n",
        "root_path = '/content/gdrive/My Drive/ReDi_DA_Project/preprocessed_ga_revenue_data'"
      ],
      "execution_count": 0,
      "outputs": []
    },
    {
      "cell_type": "code",
      "metadata": {
        "id": "MPHK3IN5szEA",
        "colab_type": "code",
        "colab": {
          "base_uri": "https://localhost:8080/",
          "height": 34
        },
        "outputId": "16761e5d-b99d-486b-c1ba-72bbeb31d921"
      },
      "source": [
        "cd '/content/gdrive/My Drive/ReDi_DA_Project/preprocessed_ga_revenue_data'"
      ],
      "execution_count": 2,
      "outputs": [
        {
          "output_type": "stream",
          "text": [
            "/content/gdrive/My Drive/ReDi_DA_Project/preprocessed_ga_revenue_data\n"
          ],
          "name": "stdout"
        }
      ]
    },
    {
      "cell_type": "code",
      "metadata": {
        "id": "S4JryMYhqygR",
        "colab_type": "code",
        "colab": {}
      },
      "source": [
        "# download the libraries\n",
        "import pandas as pd\n",
        "from pandas import Series,DataFrame\n",
        "import warnings\n",
        "import os\n",
        "warnings.filterwarnings('ignore')\n",
        "#!pip3 install --upgrade seaborn cufflinks plotly\n",
        "import numpy as np\n",
        "import matplotlib.pyplot as plt\n",
        "import seaborn as sns\n",
        "from datetime import datetime\n",
        "import json\n",
        "import random\n",
        "from pandas.io.json import json_normalize\n",
        "%matplotlib inline"
      ],
      "execution_count": 0,
      "outputs": []
    },
    {
      "cell_type": "code",
      "metadata": {
        "id": "mkbqIBv8qygg",
        "colab_type": "code",
        "colab": {}
      },
      "source": [
        "# load training data set info a df\n",
        "df_train = pd.read_pickle('train_flat_no_hits.pkl')\n",
        "#df_test = pd.read_pickle('test_flat_no_hits.pkl')"
      ],
      "execution_count": 0,
      "outputs": []
    },
    {
      "cell_type": "code",
      "metadata": {
        "id": "V3tdVdFVqygy",
        "colab_type": "code",
        "colab": {
          "base_uri": "https://localhost:8080/",
          "height": 326
        },
        "outputId": "1bef8a09-2c48-45a8-bce4-93e70efb2d7a"
      },
      "source": [
        "df_train.head()"
      ],
      "execution_count": 5,
      "outputs": [
        {
          "output_type": "execute_result",
          "data": {
            "text/html": [
              "<div>\n",
              "<style scoped>\n",
              "    .dataframe tbody tr th:only-of-type {\n",
              "        vertical-align: middle;\n",
              "    }\n",
              "\n",
              "    .dataframe tbody tr th {\n",
              "        vertical-align: top;\n",
              "    }\n",
              "\n",
              "    .dataframe thead th {\n",
              "        text-align: right;\n",
              "    }\n",
              "</style>\n",
              "<table border=\"1\" class=\"dataframe\">\n",
              "  <thead>\n",
              "    <tr style=\"text-align: right;\">\n",
              "      <th></th>\n",
              "      <th>channelGrouping</th>\n",
              "      <th>date</th>\n",
              "      <th>fullVisitorId</th>\n",
              "      <th>socialEngagementType</th>\n",
              "      <th>visitId</th>\n",
              "      <th>visitNumber</th>\n",
              "      <th>visitStartTime</th>\n",
              "      <th>device.browser</th>\n",
              "      <th>device.browserVersion</th>\n",
              "      <th>device.browserSize</th>\n",
              "      <th>device.operatingSystem</th>\n",
              "      <th>device.operatingSystemVersion</th>\n",
              "      <th>device.isMobile</th>\n",
              "      <th>device.mobileDeviceBranding</th>\n",
              "      <th>device.mobileDeviceModel</th>\n",
              "      <th>device.mobileInputSelector</th>\n",
              "      <th>device.mobileDeviceInfo</th>\n",
              "      <th>device.mobileDeviceMarketingName</th>\n",
              "      <th>device.flashVersion</th>\n",
              "      <th>device.language</th>\n",
              "      <th>device.screenColors</th>\n",
              "      <th>device.screenResolution</th>\n",
              "      <th>device.deviceCategory</th>\n",
              "      <th>geoNetwork.continent</th>\n",
              "      <th>geoNetwork.subContinent</th>\n",
              "      <th>geoNetwork.country</th>\n",
              "      <th>geoNetwork.region</th>\n",
              "      <th>geoNetwork.metro</th>\n",
              "      <th>geoNetwork.city</th>\n",
              "      <th>geoNetwork.cityId</th>\n",
              "      <th>geoNetwork.networkDomain</th>\n",
              "      <th>geoNetwork.latitude</th>\n",
              "      <th>geoNetwork.longitude</th>\n",
              "      <th>geoNetwork.networkLocation</th>\n",
              "      <th>totals.visits</th>\n",
              "      <th>totals.hits</th>\n",
              "      <th>totals.pageviews</th>\n",
              "      <th>totals.bounces</th>\n",
              "      <th>totals.newVisits</th>\n",
              "      <th>totals.sessionQualityDim</th>\n",
              "      <th>totals.timeOnSite</th>\n",
              "      <th>totals.transactions</th>\n",
              "      <th>totals.transactionRevenue</th>\n",
              "      <th>totals.totalTransactionRevenue</th>\n",
              "      <th>trafficSource.campaign</th>\n",
              "      <th>trafficSource.source</th>\n",
              "      <th>trafficSource.medium</th>\n",
              "      <th>trafficSource.keyword</th>\n",
              "      <th>trafficSource.adwordsClickInfo.criteriaParameters</th>\n",
              "      <th>trafficSource.referralPath</th>\n",
              "      <th>trafficSource.isTrueDirect</th>\n",
              "      <th>trafficSource.adContent</th>\n",
              "      <th>trafficSource.adwordsClickInfo.page</th>\n",
              "      <th>trafficSource.adwordsClickInfo.slot</th>\n",
              "      <th>trafficSource.adwordsClickInfo.gclId</th>\n",
              "      <th>trafficSource.adwordsClickInfo.adNetworkType</th>\n",
              "      <th>trafficSource.adwordsClickInfo.isVideoAd</th>\n",
              "      <th>trafficSource.campaignCode</th>\n",
              "      <th>customDimension.index</th>\n",
              "      <th>customDimension.value</th>\n",
              "    </tr>\n",
              "  </thead>\n",
              "  <tbody>\n",
              "    <tr>\n",
              "      <th>0</th>\n",
              "      <td>Organic Search</td>\n",
              "      <td>20171016</td>\n",
              "      <td>3162355547410993243</td>\n",
              "      <td>Not Socially Engaged</td>\n",
              "      <td>1508198450</td>\n",
              "      <td>1</td>\n",
              "      <td>1508198450</td>\n",
              "      <td>Firefox</td>\n",
              "      <td>not available in demo dataset</td>\n",
              "      <td>not available in demo dataset</td>\n",
              "      <td>Windows</td>\n",
              "      <td>not available in demo dataset</td>\n",
              "      <td>False</td>\n",
              "      <td>not available in demo dataset</td>\n",
              "      <td>not available in demo dataset</td>\n",
              "      <td>not available in demo dataset</td>\n",
              "      <td>not available in demo dataset</td>\n",
              "      <td>not available in demo dataset</td>\n",
              "      <td>not available in demo dataset</td>\n",
              "      <td>not available in demo dataset</td>\n",
              "      <td>not available in demo dataset</td>\n",
              "      <td>not available in demo dataset</td>\n",
              "      <td>desktop</td>\n",
              "      <td>Europe</td>\n",
              "      <td>Western Europe</td>\n",
              "      <td>Germany</td>\n",
              "      <td>not available in demo dataset</td>\n",
              "      <td>not available in demo dataset</td>\n",
              "      <td>not available in demo dataset</td>\n",
              "      <td>not available in demo dataset</td>\n",
              "      <td>(not set)</td>\n",
              "      <td>not available in demo dataset</td>\n",
              "      <td>not available in demo dataset</td>\n",
              "      <td>not available in demo dataset</td>\n",
              "      <td>1</td>\n",
              "      <td>1</td>\n",
              "      <td>1</td>\n",
              "      <td>1</td>\n",
              "      <td>1</td>\n",
              "      <td>1</td>\n",
              "      <td>NaN</td>\n",
              "      <td>NaN</td>\n",
              "      <td>NaN</td>\n",
              "      <td>NaN</td>\n",
              "      <td>(not set)</td>\n",
              "      <td>google</td>\n",
              "      <td>organic</td>\n",
              "      <td>water bottle</td>\n",
              "      <td>not available in demo dataset</td>\n",
              "      <td>NaN</td>\n",
              "      <td>NaN</td>\n",
              "      <td>NaN</td>\n",
              "      <td>NaN</td>\n",
              "      <td>NaN</td>\n",
              "      <td>NaN</td>\n",
              "      <td>NaN</td>\n",
              "      <td>NaN</td>\n",
              "      <td>NaN</td>\n",
              "      <td>4</td>\n",
              "      <td>EMEA</td>\n",
              "    </tr>\n",
              "    <tr>\n",
              "      <th>1</th>\n",
              "      <td>Referral</td>\n",
              "      <td>20171016</td>\n",
              "      <td>8934116514970143966</td>\n",
              "      <td>Not Socially Engaged</td>\n",
              "      <td>1508176307</td>\n",
              "      <td>6</td>\n",
              "      <td>1508176307</td>\n",
              "      <td>Chrome</td>\n",
              "      <td>not available in demo dataset</td>\n",
              "      <td>not available in demo dataset</td>\n",
              "      <td>Chrome OS</td>\n",
              "      <td>not available in demo dataset</td>\n",
              "      <td>False</td>\n",
              "      <td>not available in demo dataset</td>\n",
              "      <td>not available in demo dataset</td>\n",
              "      <td>not available in demo dataset</td>\n",
              "      <td>not available in demo dataset</td>\n",
              "      <td>not available in demo dataset</td>\n",
              "      <td>not available in demo dataset</td>\n",
              "      <td>not available in demo dataset</td>\n",
              "      <td>not available in demo dataset</td>\n",
              "      <td>not available in demo dataset</td>\n",
              "      <td>desktop</td>\n",
              "      <td>Americas</td>\n",
              "      <td>Northern America</td>\n",
              "      <td>United States</td>\n",
              "      <td>California</td>\n",
              "      <td>San Francisco-Oakland-San Jose CA</td>\n",
              "      <td>Cupertino</td>\n",
              "      <td>not available in demo dataset</td>\n",
              "      <td>(not set)</td>\n",
              "      <td>not available in demo dataset</td>\n",
              "      <td>not available in demo dataset</td>\n",
              "      <td>not available in demo dataset</td>\n",
              "      <td>1</td>\n",
              "      <td>2</td>\n",
              "      <td>2</td>\n",
              "      <td>NaN</td>\n",
              "      <td>NaN</td>\n",
              "      <td>2</td>\n",
              "      <td>28</td>\n",
              "      <td>NaN</td>\n",
              "      <td>NaN</td>\n",
              "      <td>NaN</td>\n",
              "      <td>(not set)</td>\n",
              "      <td>sites.google.com</td>\n",
              "      <td>referral</td>\n",
              "      <td>NaN</td>\n",
              "      <td>not available in demo dataset</td>\n",
              "      <td>/a/google.com/transportation/mtv-services/bike...</td>\n",
              "      <td>NaN</td>\n",
              "      <td>NaN</td>\n",
              "      <td>NaN</td>\n",
              "      <td>NaN</td>\n",
              "      <td>NaN</td>\n",
              "      <td>NaN</td>\n",
              "      <td>NaN</td>\n",
              "      <td>NaN</td>\n",
              "      <td>4</td>\n",
              "      <td>North America</td>\n",
              "    </tr>\n",
              "    <tr>\n",
              "      <th>2</th>\n",
              "      <td>Direct</td>\n",
              "      <td>20171016</td>\n",
              "      <td>7992466427990357681</td>\n",
              "      <td>Not Socially Engaged</td>\n",
              "      <td>1508201613</td>\n",
              "      <td>1</td>\n",
              "      <td>1508201613</td>\n",
              "      <td>Chrome</td>\n",
              "      <td>not available in demo dataset</td>\n",
              "      <td>not available in demo dataset</td>\n",
              "      <td>Android</td>\n",
              "      <td>not available in demo dataset</td>\n",
              "      <td>True</td>\n",
              "      <td>not available in demo dataset</td>\n",
              "      <td>not available in demo dataset</td>\n",
              "      <td>not available in demo dataset</td>\n",
              "      <td>not available in demo dataset</td>\n",
              "      <td>not available in demo dataset</td>\n",
              "      <td>not available in demo dataset</td>\n",
              "      <td>not available in demo dataset</td>\n",
              "      <td>not available in demo dataset</td>\n",
              "      <td>not available in demo dataset</td>\n",
              "      <td>mobile</td>\n",
              "      <td>Americas</td>\n",
              "      <td>Northern America</td>\n",
              "      <td>United States</td>\n",
              "      <td>not available in demo dataset</td>\n",
              "      <td>not available in demo dataset</td>\n",
              "      <td>not available in demo dataset</td>\n",
              "      <td>not available in demo dataset</td>\n",
              "      <td>windjammercable.net</td>\n",
              "      <td>not available in demo dataset</td>\n",
              "      <td>not available in demo dataset</td>\n",
              "      <td>not available in demo dataset</td>\n",
              "      <td>1</td>\n",
              "      <td>2</td>\n",
              "      <td>2</td>\n",
              "      <td>NaN</td>\n",
              "      <td>1</td>\n",
              "      <td>1</td>\n",
              "      <td>38</td>\n",
              "      <td>NaN</td>\n",
              "      <td>NaN</td>\n",
              "      <td>NaN</td>\n",
              "      <td>(not set)</td>\n",
              "      <td>(direct)</td>\n",
              "      <td>(none)</td>\n",
              "      <td>NaN</td>\n",
              "      <td>not available in demo dataset</td>\n",
              "      <td>NaN</td>\n",
              "      <td>True</td>\n",
              "      <td>NaN</td>\n",
              "      <td>NaN</td>\n",
              "      <td>NaN</td>\n",
              "      <td>NaN</td>\n",
              "      <td>NaN</td>\n",
              "      <td>NaN</td>\n",
              "      <td>NaN</td>\n",
              "      <td>4</td>\n",
              "      <td>North America</td>\n",
              "    </tr>\n",
              "    <tr>\n",
              "      <th>3</th>\n",
              "      <td>Organic Search</td>\n",
              "      <td>20171016</td>\n",
              "      <td>9075655783635761930</td>\n",
              "      <td>Not Socially Engaged</td>\n",
              "      <td>1508169851</td>\n",
              "      <td>1</td>\n",
              "      <td>1508169851</td>\n",
              "      <td>Chrome</td>\n",
              "      <td>not available in demo dataset</td>\n",
              "      <td>not available in demo dataset</td>\n",
              "      <td>Windows</td>\n",
              "      <td>not available in demo dataset</td>\n",
              "      <td>False</td>\n",
              "      <td>not available in demo dataset</td>\n",
              "      <td>not available in demo dataset</td>\n",
              "      <td>not available in demo dataset</td>\n",
              "      <td>not available in demo dataset</td>\n",
              "      <td>not available in demo dataset</td>\n",
              "      <td>not available in demo dataset</td>\n",
              "      <td>not available in demo dataset</td>\n",
              "      <td>not available in demo dataset</td>\n",
              "      <td>not available in demo dataset</td>\n",
              "      <td>desktop</td>\n",
              "      <td>Asia</td>\n",
              "      <td>Western Asia</td>\n",
              "      <td>Turkey</td>\n",
              "      <td>not available in demo dataset</td>\n",
              "      <td>not available in demo dataset</td>\n",
              "      <td>not available in demo dataset</td>\n",
              "      <td>not available in demo dataset</td>\n",
              "      <td>unknown.unknown</td>\n",
              "      <td>not available in demo dataset</td>\n",
              "      <td>not available in demo dataset</td>\n",
              "      <td>not available in demo dataset</td>\n",
              "      <td>1</td>\n",
              "      <td>2</td>\n",
              "      <td>2</td>\n",
              "      <td>NaN</td>\n",
              "      <td>1</td>\n",
              "      <td>1</td>\n",
              "      <td>1</td>\n",
              "      <td>NaN</td>\n",
              "      <td>NaN</td>\n",
              "      <td>NaN</td>\n",
              "      <td>(not set)</td>\n",
              "      <td>google</td>\n",
              "      <td>organic</td>\n",
              "      <td>(not provided)</td>\n",
              "      <td>not available in demo dataset</td>\n",
              "      <td>NaN</td>\n",
              "      <td>NaN</td>\n",
              "      <td>NaN</td>\n",
              "      <td>NaN</td>\n",
              "      <td>NaN</td>\n",
              "      <td>NaN</td>\n",
              "      <td>NaN</td>\n",
              "      <td>NaN</td>\n",
              "      <td>NaN</td>\n",
              "      <td>4</td>\n",
              "      <td>EMEA</td>\n",
              "    </tr>\n",
              "    <tr>\n",
              "      <th>4</th>\n",
              "      <td>Organic Search</td>\n",
              "      <td>20171016</td>\n",
              "      <td>6960673291025684308</td>\n",
              "      <td>Not Socially Engaged</td>\n",
              "      <td>1508190552</td>\n",
              "      <td>1</td>\n",
              "      <td>1508190552</td>\n",
              "      <td>Chrome</td>\n",
              "      <td>not available in demo dataset</td>\n",
              "      <td>not available in demo dataset</td>\n",
              "      <td>Windows</td>\n",
              "      <td>not available in demo dataset</td>\n",
              "      <td>False</td>\n",
              "      <td>not available in demo dataset</td>\n",
              "      <td>not available in demo dataset</td>\n",
              "      <td>not available in demo dataset</td>\n",
              "      <td>not available in demo dataset</td>\n",
              "      <td>not available in demo dataset</td>\n",
              "      <td>not available in demo dataset</td>\n",
              "      <td>not available in demo dataset</td>\n",
              "      <td>not available in demo dataset</td>\n",
              "      <td>not available in demo dataset</td>\n",
              "      <td>desktop</td>\n",
              "      <td>Americas</td>\n",
              "      <td>Central America</td>\n",
              "      <td>Mexico</td>\n",
              "      <td>not available in demo dataset</td>\n",
              "      <td>not available in demo dataset</td>\n",
              "      <td>not available in demo dataset</td>\n",
              "      <td>not available in demo dataset</td>\n",
              "      <td>prod-infinitum.com.mx</td>\n",
              "      <td>not available in demo dataset</td>\n",
              "      <td>not available in demo dataset</td>\n",
              "      <td>not available in demo dataset</td>\n",
              "      <td>1</td>\n",
              "      <td>2</td>\n",
              "      <td>2</td>\n",
              "      <td>NaN</td>\n",
              "      <td>1</td>\n",
              "      <td>1</td>\n",
              "      <td>52</td>\n",
              "      <td>NaN</td>\n",
              "      <td>NaN</td>\n",
              "      <td>NaN</td>\n",
              "      <td>(not set)</td>\n",
              "      <td>google</td>\n",
              "      <td>organic</td>\n",
              "      <td>(not provided)</td>\n",
              "      <td>not available in demo dataset</td>\n",
              "      <td>NaN</td>\n",
              "      <td>NaN</td>\n",
              "      <td>NaN</td>\n",
              "      <td>NaN</td>\n",
              "      <td>NaN</td>\n",
              "      <td>NaN</td>\n",
              "      <td>NaN</td>\n",
              "      <td>NaN</td>\n",
              "      <td>NaN</td>\n",
              "      <td>4</td>\n",
              "      <td>Central America</td>\n",
              "    </tr>\n",
              "  </tbody>\n",
              "</table>\n",
              "</div>"
            ],
            "text/plain": [
              "  channelGrouping      date  ... customDimension.index customDimension.value\n",
              "0  Organic Search  20171016  ...                     4                  EMEA\n",
              "1        Referral  20171016  ...                     4         North America\n",
              "2          Direct  20171016  ...                     4         North America\n",
              "3  Organic Search  20171016  ...                     4                  EMEA\n",
              "4  Organic Search  20171016  ...                     4       Central America\n",
              "\n",
              "[5 rows x 60 columns]"
            ]
          },
          "metadata": {
            "tags": []
          },
          "execution_count": 5
        }
      ]
    },
    {
      "cell_type": "markdown",
      "metadata": {
        "id": "gxYJu6B5vUQJ",
        "colab_type": "text"
      },
      "source": [
        "## Convert date columns"
      ]
    },
    {
      "cell_type": "code",
      "metadata": {
        "id": "O7z8XQEfqyhg",
        "colab_type": "code",
        "colab": {}
      },
      "source": [
        "#convert date columns so that we can actually use it\n",
        "df_train['date'] = pd.to_datetime(df_train[\"date\"], format=\"%Y%m%d\") #convert to datetime\n",
        "df_train['year'] = df_train['date'].dt.year #for year\n",
        "df_train['day'] = df_train.date.dt.day_name() #for day\n",
        "df_train['week'] = df_train.date.dt.weekofyear #week\n",
        "df_train['month'] = df_train.date.dt.month_name() #month"
      ],
      "execution_count": 0,
      "outputs": []
    },
    {
      "cell_type": "markdown",
      "metadata": {
        "id": "vBlNDpIRwVR-",
        "colab_type": "text"
      },
      "source": [
        "## Convert Objective Variable in a Number"
      ]
    },
    {
      "cell_type": "code",
      "metadata": {
        "id": "5wTlNPjWqyi1",
        "colab_type": "code",
        "colab": {}
      },
      "source": [
        "df_train[\"totals.transactionRevenue\"] = df_train[\"totals.transactionRevenue\"].astype('float')"
      ],
      "execution_count": 0,
      "outputs": []
    },
    {
      "cell_type": "code",
      "metadata": {
        "id": "dqCuK_aPqyjI",
        "colab_type": "code",
        "colab": {}
      },
      "source": [
        "df_train[\"totals.transactionRevenue\"] = df_train[\"totals.transactionRevenue\"].fillna(0.0).astype(float)"
      ],
      "execution_count": 0,
      "outputs": []
    },
    {
      "cell_type": "code",
      "metadata": {
        "id": "-nTW43oRqyjf",
        "colab_type": "code",
        "colab": {},
        "outputId": "e04f2289-ae23-4801-ba97-f2c1ae6d4e1d"
      },
      "source": [
        "print(\"Transaction Revenue Mean Value: \", df_train['totals.transactionRevenue'].mean())\n",
        "print(\"Transaction Revenue median Value: \", df_train['totals.transactionRevenue'].median())"
      ],
      "execution_count": 0,
      "outputs": [
        {
          "output_type": "stream",
          "text": [
            "Transaction Revenue Mean Value:  1355906.3463473541\n",
            "Transaction Revenue median Value:  0.0\n"
          ],
          "name": "stdout"
        }
      ]
    },
    {
      "cell_type": "markdown",
      "metadata": {
        "id": "Bufqp-Ipwxjq",
        "colab_type": "text"
      },
      "source": [
        "We calculate the mean value and the median for the visitors that have made a succesfull purchase. "
      ]
    },
    {
      "cell_type": "code",
      "metadata": {
        "id": "u3gOTSJoqyjn",
        "colab_type": "code",
        "colab": {},
        "outputId": "9467525b-2b4e-432e-cf4b-6b7ff0f0ed8d"
      },
      "source": [
        "print(\"Transaction Revenue Mean Value: \", \n",
        "      df_train[df_train['totals.transactionRevenue'] > 0][\"totals.transactionRevenue\"].mean()) # mean value of above 0\n",
        "print(\"Transaction Revenue Median Value: \", \n",
        "      df_train[df_train['totals.transactionRevenue'] > 0][\"totals.transactionRevenue\"].median()) # median value of above 0"
      ],
      "execution_count": 0,
      "outputs": [
        {
          "output_type": "stream",
          "text": [
            "Transaction Revenue Mean Value:  125113156.53019337\n",
            "Transaction Revenue Median Value:  46060000.0\n"
          ],
          "name": "stdout"
        }
      ]
    },
    {
      "cell_type": "markdown",
      "metadata": {
        "id": "eWSh-K6DuoNu",
        "colab_type": "text"
      },
      "source": [
        "## Checking for Missing Values"
      ]
    },
    {
      "cell_type": "code",
      "metadata": {
        "id": "F6FLUUUj6W1C",
        "colab_type": "code",
        "colab": {}
      },
      "source": [
        "#checking missing values- sample\n",
        "df_train.isnull().sum().sort_values(ascending = False)\n",
        "#df_train.isna().sum().sort_values(ascending = False)"
      ],
      "execution_count": 0,
      "outputs": []
    },
    {
      "cell_type": "markdown",
      "metadata": {
        "id": "kwsPQpzI6ykq",
        "colab_type": "text"
      },
      "source": [
        "We start working with the whole data to grasp a better understanding about the missing data. To do that we define a function:"
      ]
    },
    {
      "cell_type": "code",
      "metadata": {
        "id": "4KN7rdYHqymI",
        "colab_type": "code",
        "colab": {}
      },
      "source": [
        "def values_missing(check):\n",
        "    total = check.isnull().sum().sort_values(ascending = False) # getting the sum of null values and ordering\n",
        "    percent = (check.isnull().sum() / check.isnull().count() * 100 ).sort_values(ascending = False) #getting the percent and order of null\n",
        "    df_train = pd.concat([total, percent], axis=1, keys=['Total', 'Percent']) # Concatenating the total and percent\n",
        "    print(\"Total and percent of missing values: \")\n",
        "    print (df_train[~(df_train['Total'] == 0)]) # Returning values of nulls different of 0\n",
        "    \n",
        "    return"
      ],
      "execution_count": 0,
      "outputs": []
    },
    {
      "cell_type": "code",
      "metadata": {
        "id": "K94cIUKRqymu",
        "colab_type": "code",
        "colab": {
          "base_uri": "https://localhost:8080/",
          "height": 374
        },
        "outputId": "cd06202d-82c5-4096-9ed8-124d2385bbc5"
      },
      "source": [
        "values_missing(df_train)"
      ],
      "execution_count": 12,
      "outputs": [
        {
          "output_type": "stream",
          "text": [
            "Total and percent of missing values: \n",
            "                                                Total    Percent\n",
            "trafficSource.campaignCode                    1708336  99.999941\n",
            "totals.totalTransactionRevenue                1689823  98.916256\n",
            "totals.transactions                           1689778  98.913622\n",
            "trafficSource.adContent                       1643600  96.210525\n",
            "trafficSource.adwordsClickInfo.slot           1633063  95.593727\n",
            "trafficSource.adwordsClickInfo.page           1633063  95.593727\n",
            "trafficSource.adwordsClickInfo.isVideoAd      1633063  95.593727\n",
            "trafficSource.adwordsClickInfo.adNetworkType  1633063  95.593727\n",
            "trafficSource.adwordsClickInfo.gclId          1632914  95.585005\n",
            "trafficSource.isTrueDirect                    1173819  68.711209\n",
            "trafficSource.referralPath                    1142073  66.852910\n",
            "trafficSource.keyword                         1052780  61.626014\n",
            "totals.timeOnSite                              874294  51.178076\n",
            "totals.bounces                                 836759  48.980910\n",
            "totals.sessionQualityDim                       835274  48.893983\n",
            "totals.newVisits                               400907  23.467676\n",
            "customDimension.index                          333235  19.506397\n",
            "customDimension.value                          333235  19.506397\n",
            "totals.pageviews                                  239   0.013990\n"
          ],
          "name": "stdout"
        }
      ]
    },
    {
      "cell_type": "markdown",
      "metadata": {
        "id": "my7bXI8T7enV",
        "colab_type": "text"
      },
      "source": [
        "Before replacing the missing data, we check the columns with unique values. The assumption is that:                                                     \n",
        "**Columns with 1 unique value for the whole group of records do not give any useful information for prediction porposes.**"
      ]
    },
    {
      "cell_type": "code",
      "metadata": {
        "id": "kBIfXdM0qynQ",
        "colab_type": "code",
        "colab": {
          "base_uri": "https://localhost:8080/",
          "height": 88
        },
        "outputId": "bd77d72d-74aa-4bf4-dbdd-3814aa057a4b"
      },
      "source": [
        "unique_columns = [col for col in df_train.columns if df_train[col].nunique() == 1] #Columns with just one value\n",
        "\n",
        "# print these columns and the name of columns \n",
        "print(\"numbers of columns: \", len(unique_columns), \"columns with 1 value\")\n",
        "print(\"label of columns: \\n\", unique_columns)"
      ],
      "execution_count": 13,
      "outputs": [
        {
          "output_type": "stream",
          "text": [
            "numbers of columns:  25 columns with 1 value\n",
            "label of columns: \n",
            " ['socialEngagementType', 'device.browserVersion', 'device.browserSize', 'device.operatingSystemVersion', 'device.mobileDeviceBranding', 'device.mobileDeviceModel', 'device.mobileInputSelector', 'device.mobileDeviceInfo', 'device.mobileDeviceMarketingName', 'device.flashVersion', 'device.language', 'device.screenColors', 'device.screenResolution', 'geoNetwork.cityId', 'geoNetwork.latitude', 'geoNetwork.longitude', 'geoNetwork.networkLocation', 'totals.visits', 'totals.bounces', 'totals.newVisits', 'trafficSource.adwordsClickInfo.criteriaParameters', 'trafficSource.isTrueDirect', 'trafficSource.adwordsClickInfo.isVideoAd', 'trafficSource.campaignCode', 'customDimension.index']\n"
          ],
          "name": "stdout"
        }
      ]
    },
    {
      "cell_type": "markdown",
      "metadata": {
        "id": "ttHIxMYX9VEu",
        "colab_type": "text"
      },
      "source": [
        "We found out that there are 25 columns with 1 value. We check the content in these  columns before decide if they are actually  useless."
      ]
    },
    {
      "cell_type": "code",
      "metadata": {
        "id": "8-gRzyTjqyng",
        "colab_type": "code",
        "colab": {}
      },
      "source": [
        "# i define a function to show the columns ans a sample of the data\n",
        "def see_data(data, data_type=object, limit=5): #seting the function with data,show 5 uniques if available \n",
        "    n = data.select_dtypes(include=data_type) #selecting the desired data type\n",
        "    for column in n.columns: #initializing the loop\n",
        "        print(\"______________________________________________________________\")\n",
        "        print(\"Name of column \", column, ': \\n', \"Uniques: \", data[column].unique()[:limit], \"\\n\",\n",
        "              \" | ## Total nulls: \", (round(data[column].isnull().sum() / len(data[column]) * 100,2)),\n",
        "              \" | ## Total unique values: \", df_train.nunique()[column]) #print the data and % of nulls)\n",
        "        print(\"_________________________________________________________\")\n",
        "        \n",
        "      "
      ],
      "execution_count": 0,
      "outputs": []
    },
    {
      "cell_type": "code",
      "metadata": {
        "id": "gkiB76BTqyns",
        "colab_type": "code",
        "colab": {}
      },
      "source": [
        "#see_data(df_train)"
      ],
      "execution_count": 0,
      "outputs": []
    },
    {
      "cell_type": "markdown",
      "metadata": {
        "id": "9Bp3qvW8qynz",
        "colab_type": "text"
      },
      "source": [
        "This is a list with the  columns that are either: \"not available in our dataset\" or those that have unique values\n",
        " - Name of column  socialEngagementType : \n",
        " Uniques:  ['Not Socially Engaged'] \n",
        " \n",
        "- device.browserVersion : \n",
        " Uniques:  ['not available in demo dataset']\n",
        "\n",
        "- device.operatingSystemVersion : \n",
        " Uniques:  ['not available in demo dataset']\n",
        " \n",
        "- Name of column  device.mobileDeviceBranding : \n",
        " Uniques:  ['not available in demo dataset']\n",
        " \n",
        "- Name of column  device.mobileDeviceBranding : \n",
        " Uniques:  ['not available in demo dataset']\n",
        " \n",
        "- Name of column  device.mobileDeviceModel : \n",
        " Uniques:  ['not available in demo dataset']\n",
        " \n",
        "- Name of column  device.mobileInputSelector : \n",
        " Uniques:  ['not available in demo dataset'] \n",
        " \n",
        "- Name of column  device.mobileDeviceInfo : \n",
        " Uniques:  ['not available in demo dataset'] \n",
        "\n",
        "- Name of column  device.mobileDeviceMarketingName : \n",
        " Uniques:  ['not available in demo dataset']\n",
        " \n",
        "- Name of column  device.flashVersion : \n",
        " Uniques:  ['not available in demo dataset']  \n",
        " \n",
        "- Name of column  device.language : \n",
        " Uniques:  ['not available in demo dataset'] \n",
        "\n",
        "- Name of column  device.screenColors : \n",
        " Uniques:  ['not available in demo dataset']\n",
        "\n",
        "- Name of column  device.screenResolution : \n",
        " Uniques:  ['not available in demo dataset']\n",
        " \n",
        "- Name of column  geoNetwork.cityId : \n",
        " Uniques:  ['not available in demo dataset'] \n",
        " \n",
        "- Name of column  geoNetwork.latitude : \n",
        " Uniques:  ['not available in demo dataset']  \n",
        "\n",
        "- Name of column  geoNetwork.longitude : \n",
        " Uniques:  ['not available in demo dataset'] \n",
        "\n",
        "- Name of column  geoNetwork.networkLocation : \n",
        " Uniques:  ['not available in demo dataset']\n",
        "\n",
        "- Name of column  totals.visits : \n",
        " Uniques:  ['1'] \n",
        " \n",
        "- Name of column  trafficSource.adwordsClickInfo.criteriaParameters : \n",
        " Uniques:  ['not available in demo dataset'] "
      ]
    },
    {
      "cell_type": "markdown",
      "metadata": {
        "id": "1w_1ontXqyn1",
        "colab_type": "text"
      },
      "source": [
        "'''\n",
        "This is a list of other columns that contain values that might be useless for prediction:\n",
        "- Name of column  trafficSource.adwordsClickInfo.gclId : \n",
        " Uniques:  [nan'Cj0KCQjwsZHPBRClARIsAC-VMPBHdNF2oMOgh6Xp6YhjXWSk11sDu3eCo4De_u6l4xafqgrPVPSGYdkaArkiEALw_wcB''CODVoMjJ9tYCFUIvgQod_dsKEA''Cj0KCQjwsZHPBRClARIsAC-VMPA4CVJtDhu1lYkB0AR1hje1goUMHQZNJMrsSWD57pLnv1KE_L7pCEcaAunKEALw_wcB''Cj0KCQjwsZHPBRClARIsAC-VMPDlLD6kS4tmqFGZjMUqyerwe0WDaULaAKNkj-gwuvPnLSPRyf9TN7IaArICEALw_wcB'] \n",
        "- Name of column  trafficSource.adwordsClickInfo.page : \n",
        " Uniques:  [nan '1' '3' '2' '5']\n",
        "- Name of column  trafficSource.referralPath : \n",
        " Uniques:  [nan '/a/google.com/transportation/mtv-services/bikes/bike2workmay2016''/offer/2145' '/a/google.com/nest-vision/dropcam-field-tester-program''/analytics/web/'] \n",
        "- Name of column  trafficSource.campaign : \n",
        " Uniques:  ['(not set)' '\"google + redesign/Accessories March 17\" All Users''AW - Dynamic Search Ads Whole Site' '1000557 | GA | US | en | Hybrid | GDN Text+Banner | AS' 'Data Share Promo'] \n",
        "- Name of column  trafficSource.adwordsClickInfo.slot : \n",
        " Uniques:  [nan 'Top' 'RHS' 'Google Display Network']\n",
        " \n",
        "- Name of column  trafficSource.adContent : \n",
        " Uniques:  [nan 'Placement Accessories 300 x 250' 'Google Merchandise Store''Bags 300x250' 'Display Ad created 3/11/14']  \n",
        "- Name of column  trafficSource.campaignCode : \n",
        " Uniques:  [nan '11251kjhkvahf']   \n",
        "\n",
        "'''"
      ]
    },
    {
      "cell_type": "markdown",
      "metadata": {
        "id": "mJg8HOJgAq-C",
        "colab_type": "text"
      },
      "source": [
        "### Columns to Drop"
      ]
    },
    {
      "cell_type": "markdown",
      "metadata": {
        "id": "7TZIeLBtqyn3",
        "colab_type": "text"
      },
      "source": [
        "After examining the values, These are the droped Columns:"
      ]
    },
    {
      "cell_type": "code",
      "metadata": {
        "id": "53RDyI2wqyn4",
        "colab_type": "code",
        "colab": {}
      },
      "source": [
        "drop_col_list = ['socialEngagementType', 'device.browserVersion', 'device.browserSize', 'device.operatingSystemVersion',\n",
        "                 'device.mobileDeviceBranding', 'device.mobileDeviceModel', 'device.mobileInputSelector', \n",
        "                 'device.mobileDeviceInfo', 'device.mobileDeviceMarketingName', 'device.flashVersion', 'device.language', \n",
        "                 'device.screenColors', 'device.screenResolution', 'geoNetwork.cityId', 'geoNetwork.latitude', \n",
        "                 'geoNetwork.longitude', 'geoNetwork.networkLocation', 'trafficSource.campaign', 'trafficSource.referralPath', \n",
        "                 'trafficSource.adwordsClickInfo.page','trafficSource.adwordsClickInfo.slot', \n",
        "                 'trafficSource.adwordsClickInfo.criteriaParameters', 'trafficSource.adContent', 'trafficSource.adwordsClickInfo.gclId', \n",
        "                 'trafficSource.campaignCode', 'customDimension.index','totals.visits']"
      ],
      "execution_count": 0,
      "outputs": []
    },
    {
      "cell_type": "code",
      "metadata": {
        "id": "dnBusDn8qyn-",
        "colab_type": "code",
        "colab": {}
      },
      "source": [
        "df_train.drop(drop_col_list, axis=1, inplace=True)  #to drop them"
      ],
      "execution_count": 0,
      "outputs": []
    },
    {
      "cell_type": "markdown",
      "metadata": {
        "id": "Y0mNCZOhqyoL",
        "colab_type": "text"
      },
      "source": [
        "Now we have 38 columns and we can see how many unique values there are on each of these columns."
      ]
    },
    {
      "cell_type": "code",
      "metadata": {
        "id": "C0ABoxq_qyoU",
        "colab_type": "code",
        "colab": {},
        "outputId": "5ee3a855-41bc-4d66-b686-954b519917cd"
      },
      "source": [
        "df_train.nunique()"
      ],
      "execution_count": 0,
      "outputs": [
        {
          "output_type": "execute_result",
          "data": {
            "text/plain": [
              "channelGrouping                                       8\n",
              "date                                                638\n",
              "fullVisitorId                                   1323730\n",
              "visitId                                         1665802\n",
              "visitNumber                                         457\n",
              "visitStartTime                                  1667423\n",
              "device.browser                                      129\n",
              "device.operatingSystem                               24\n",
              "device.isMobile                                       2\n",
              "device.deviceCategory                                 3\n",
              "geoNetwork.continent                                  6\n",
              "geoNetwork.subContinent                              23\n",
              "geoNetwork.country                                  228\n",
              "geoNetwork.region                                   483\n",
              "geoNetwork.metro                                    123\n",
              "geoNetwork.city                                     956\n",
              "geoNetwork.networkDomain                          41982\n",
              "totals.visits                                         1\n",
              "totals.hits                                         297\n",
              "totals.pageviews                                    230\n",
              "totals.bounces                                        1\n",
              "totals.newVisits                                      1\n",
              "totals.sessionQualityDim                            100\n",
              "totals.timeOnSite                                  4774\n",
              "totals.transactions                                  13\n",
              "totals.transactionRevenue                          7251\n",
              "totals.totalTransactionRevenue                     8506\n",
              "trafficSource.source                                345\n",
              "trafficSource.medium                                  7\n",
              "trafficSource.keyword                              4546\n",
              "trafficSource.isTrueDirect                            1\n",
              "trafficSource.adwordsClickInfo.adNetworkType          3\n",
              "trafficSource.adwordsClickInfo.isVideoAd              1\n",
              "customDimension.value                                 5\n",
              "year                                                  3\n",
              "day                                                   7\n",
              "week                                                 52\n",
              "month                                                12\n",
              "dtype: int64"
            ]
          },
          "metadata": {
            "tags": []
          },
          "execution_count": 42
        }
      ]
    },
    {
      "cell_type": "markdown",
      "metadata": {
        "id": "6BTEsQP5qyog",
        "colab_type": "text"
      },
      "source": [
        "These columns also have a lonely unique value, however these unique value is not applied to all the records in the column, therefore these columns might bring information as  dummie variables.\n",
        "- totals.visits\n",
        "- totals.bounces\n",
        "- totals.newVisits\n",
        "- trafficSource.isTrueDirect\n",
        "- trafficSource.adwordsClickInfo.isVideoAd"
      ]
    },
    {
      "cell_type": "markdown",
      "metadata": {
        "id": "1uTGYhtjCcVM",
        "colab_type": "text"
      },
      "source": [
        "### Missing Values"
      ]
    },
    {
      "cell_type": "markdown",
      "metadata": {
        "id": "SEiiDgBNqyoh",
        "colab_type": "text"
      },
      "source": [
        "Afer dropping useless columns, we start cleaning and filling missing data for the remaining columns"
      ]
    },
    {
      "cell_type": "code",
      "metadata": {
        "id": "BguU89BLqyoi",
        "colab_type": "code",
        "colab": {},
        "outputId": "f500a4d4-901e-421d-f1f8-fe7f72689e77"
      },
      "source": [
        "#to check our data type again\n",
        "df_train.info()"
      ],
      "execution_count": 0,
      "outputs": [
        {
          "output_type": "stream",
          "text": [
            "<class 'pandas.core.frame.DataFrame'>\n",
            "RangeIndex: 1708337 entries, 0 to 1708336\n",
            "Data columns (total 38 columns):\n",
            " #   Column                                        Dtype         \n",
            "---  ------                                        -----         \n",
            " 0   channelGrouping                               object        \n",
            " 1   date                                          datetime64[ns]\n",
            " 2   fullVisitorId                                 object        \n",
            " 3   visitId                                       int64         \n",
            " 4   visitNumber                                   int64         \n",
            " 5   visitStartTime                                int64         \n",
            " 6   device.browser                                object        \n",
            " 7   device.operatingSystem                        object        \n",
            " 8   device.isMobile                               bool          \n",
            " 9   device.deviceCategory                         object        \n",
            " 10  geoNetwork.continent                          object        \n",
            " 11  geoNetwork.subContinent                       object        \n",
            " 12  geoNetwork.country                            object        \n",
            " 13  geoNetwork.region                             object        \n",
            " 14  geoNetwork.metro                              object        \n",
            " 15  geoNetwork.city                               object        \n",
            " 16  geoNetwork.networkDomain                      object        \n",
            " 17  totals.visits                                 object        \n",
            " 18  totals.hits                                   object        \n",
            " 19  totals.pageviews                              object        \n",
            " 20  totals.bounces                                object        \n",
            " 21  totals.newVisits                              object        \n",
            " 22  totals.sessionQualityDim                      object        \n",
            " 23  totals.timeOnSite                             object        \n",
            " 24  totals.transactions                           object        \n",
            " 25  totals.transactionRevenue                     object        \n",
            " 26  totals.totalTransactionRevenue                object        \n",
            " 27  trafficSource.source                          object        \n",
            " 28  trafficSource.medium                          object        \n",
            " 29  trafficSource.keyword                         object        \n",
            " 30  trafficSource.isTrueDirect                    object        \n",
            " 31  trafficSource.adwordsClickInfo.adNetworkType  object        \n",
            " 32  trafficSource.adwordsClickInfo.isVideoAd      object        \n",
            " 33  customDimension.value                         object        \n",
            " 34  year                                          int64         \n",
            " 35  day                                           object        \n",
            " 36  week                                          int64         \n",
            " 37  month                                         object        \n",
            "dtypes: bool(1), datetime64[ns](1), int64(5), object(31)\n",
            "memory usage: 483.9+ MB\n"
          ],
          "name": "stdout"
        }
      ]
    },
    {
      "cell_type": "markdown",
      "metadata": {
        "id": "3xmcZT9RC_PC",
        "colab_type": "text"
      },
      "source": [
        "From the previous analysis, we observe that the columns with number_values are in `string` format. \n",
        "We should convert them to numeric values as `int64` or `float` for our analysis and predictions."
      ]
    },
    {
      "cell_type": "markdown",
      "metadata": {
        "id": "vrEwT1sYGAbb",
        "colab_type": "text"
      },
      "source": [
        "these columns are objects. \n",
        "- totals.visits `object`       \n",
        "- totals.hits `object`\n",
        "- totals.pageviews `object` \n",
        "- totals.bounces `object`\n",
        "- totals.newVisits `object`\n",
        "- totals.sessionQualityDim `object`\n",
        "- totals.timeOnSite `object`\n",
        "- totals.transactions `object`\n",
        "- totals.transactionRevenue `object`\n",
        "- totals.totalTransactionRevenue `object`\n",
        "\n"
      ]
    },
    {
      "cell_type": "markdown",
      "metadata": {
        "id": "8NYCi1gvEE0V",
        "colab_type": "text"
      },
      "source": [
        "### Filling Null Values"
      ]
    },
    {
      "cell_type": "code",
      "metadata": {
        "id": "D2C_0vrtqypE",
        "colab_type": "code",
        "colab": {}
      },
      "source": [
        "# can be infered from totals.transactionRevenue\n",
        "\n",
        "df_train['totals.pageviews'].fillna(1, inplace=True) #filling NA's with 1(since least for a visit to the site means 1 page seen)\n",
        "df_train['totals.newVisits'].fillna(0, inplace=True) #filling NA's with 0(0 is suitable for Nan here)\n",
        "df_train['totals.bounces'].fillna(0, inplace=True)   #filling NA's with 0(0 is suitable for Nan here)\n",
        "df_train['totals.timeOnSite'].fillna(0, inplace=True) #filling NA's with 0(0 is suitable for Nan here)\n",
        "df_train['totals.sessionQualityDim'].fillna(0, inplace=True) #filling NA's with 0(0 is suitable for Nan here)\n",
        "df_train[\"totals.transactionRevenue\"] = df_train[\"totals.transactionRevenue\"].fillna(0.0).astype(float) #filling NA with zero\n"
      ],
      "execution_count": 0,
      "outputs": []
    },
    {
      "cell_type": "code",
      "metadata": {
        "id": "J_hJOAdkqypL",
        "colab_type": "code",
        "colab": {}
      },
      "source": [
        "#To convert\n",
        "\n",
        "df_train['totals.pageviews'] = df_train['totals.pageviews'].astype(int) # setting numerical column as integer\n",
        "df_train['totals.newVisits'] = df_train['totals.newVisits'].astype(int) # setting numerical column as integer\n",
        "df_train['totals.bounces'] = df_train['totals.bounces'].astype(int)  # setting numerical column as integer\n",
        "df_train[\"totals.timeOnSite\"] = df_train[\"totals.timeOnSite\"].astype(int) # setting numerical column as integer\n",
        "df_train[\"totals.sessionQualityDim\"] = df_train[\"totals.sessionQualityDim\"].astype(float) # setting numerical to float\n",
        "df_train[\"totals.hits\"] = df_train[\"totals.hits\"].astype(float) # setting numerical to float"
      ],
      "execution_count": 0,
      "outputs": []
    },
    {
      "cell_type": "markdown",
      "metadata": {
        "id": "kl-7ATRlEmHK",
        "colab_type": "text"
      },
      "source": [
        "We cannot decide on `totals.sessionQualityDim`.\n",
        "\n",
        "But it seems like  `totals.transactions` and `totals.totalTransactionRevenue` can be infered from `totals.transactionRevenue`\n",
        "\n"
      ]
    },
    {
      "cell_type": "code",
      "metadata": {
        "id": "s-9ZqOaMqypW",
        "colab_type": "code",
        "colab": {
          "base_uri": "https://localhost:8080/",
          "height": 204
        },
        "outputId": "6e6e1fe3-53e4-41fd-c072-445c2e070dd7"
      },
      "source": [
        "#Check again the data\n",
        "values_missing(df_train)"
      ],
      "execution_count": 21,
      "outputs": [
        {
          "output_type": "stream",
          "text": [
            "Total and percent of missing values: \n",
            "                                                Total    Percent\n",
            "totals.totalTransactionRevenue                1689823  98.916256\n",
            "totals.transactions                           1689778  98.913622\n",
            "trafficSource.adwordsClickInfo.isVideoAd      1633063  95.593727\n",
            "trafficSource.adwordsClickInfo.adNetworkType  1633063  95.593727\n",
            "trafficSource.isTrueDirect                    1173819  68.711209\n",
            "trafficSource.keyword                         1052780  61.626014\n",
            "totals.timeOnSite                              874294  51.178076\n",
            "totals.sessionQualityDim                       835274  48.893983\n",
            "customDimension.value                          333235  19.506397\n"
          ],
          "name": "stdout"
        }
      ]
    },
    {
      "cell_type": "markdown",
      "metadata": {
        "id": "dSVtWUa0qyqt",
        "colab_type": "text"
      },
      "source": [
        "*Chris* paused here to focus on the ML pipeline. \n",
        "So far *he* has clean 80% of the dataset. "
      ]
    },
    {
      "cell_type": "code",
      "metadata": {
        "id": "gnkpzWBrHiWv",
        "colab_type": "code",
        "colab": {}
      },
      "source": [
        "# leave them for now and revisit them if need it."
      ],
      "execution_count": 0,
      "outputs": []
    },
    {
      "cell_type": "markdown",
      "metadata": {
        "id": "Wukhf3vxK5no",
        "colab_type": "text"
      },
      "source": [
        "Converting and fill `trafficSource.adwordsClickInfo.isVideoAd` and `trafficSource.isTrueDirect`\n",
        " \n",
        "Dropping `trafficSource.adwordsClickInfo.adNetworkType`,`totals.timeOnSite`,`totals.sessionQualityDim` and `customDimension.value`\n",
        " becasue they i can find similar values on other columns or i simply can't find a use for them or what to fill them with\n"
      ]
    },
    {
      "cell_type": "code",
      "metadata": {
        "id": "tUATTyubTbwg",
        "colab_type": "code",
        "colab": {
          "base_uri": "https://localhost:8080/",
          "height": 51
        },
        "outputId": "d36ea7e5-8fd4-4c74-e718-7a7d14dc8fe3"
      },
      "source": [
        "df_train['trafficSource.isTrueDirect'].value_counts()"
      ],
      "execution_count": 25,
      "outputs": [
        {
          "output_type": "execute_result",
          "data": {
            "text/plain": [
              "True    534518\n",
              "Name: trafficSource.isTrueDirect, dtype: int64"
            ]
          },
          "metadata": {
            "tags": []
          },
          "execution_count": 25
        }
      ]
    },
    {
      "cell_type": "code",
      "metadata": {
        "id": "2VSYnWOyUJBh",
        "colab_type": "code",
        "colab": {
          "base_uri": "https://localhost:8080/",
          "height": 51
        },
        "outputId": "12eb0c3e-991d-48a2-efb6-5246837622bb"
      },
      "source": [
        "df_train['trafficSource.adwordsClickInfo.isVideoAd'].value_counts()"
      ],
      "execution_count": 27,
      "outputs": [
        {
          "output_type": "execute_result",
          "data": {
            "text/plain": [
              "False    75274\n",
              "Name: trafficSource.adwordsClickInfo.isVideoAd, dtype: int64"
            ]
          },
          "metadata": {
            "tags": []
          },
          "execution_count": 27
        }
      ]
    },
    {
      "cell_type": "code",
      "metadata": {
        "id": "FolqKENNqyqu",
        "colab_type": "code",
        "colab": {}
      },
      "source": [
        "df_train['trafficSource.isTrueDirect'].fillna(False, inplace=True) # filling boolean with False is its NAn\n",
        "    \n",
        "df_train['trafficSource.adwordsClickInfo.isVideoAd'].fillna(True, inplace=True) # filling boolean is its NAn"
      ],
      "execution_count": 0,
      "outputs": []
    },
    {
      "cell_type": "markdown",
      "metadata": {
        "id": "hyfU9GxWWxgo",
        "colab_type": "text"
      },
      "source": [
        "### List of Dropped Columns"
      ]
    },
    {
      "cell_type": "code",
      "metadata": {
        "id": "tCa7n_6we1X_",
        "colab_type": "code",
        "colab": {
          "base_uri": "https://localhost:8080/",
          "height": 765
        },
        "outputId": "85577e42-148a-4d52-f991-2f10988004dd"
      },
      "source": [
        "df_train.info()"
      ],
      "execution_count": 70,
      "outputs": [
        {
          "output_type": "stream",
          "text": [
            "<class 'pandas.core.frame.DataFrame'>\n",
            "RangeIndex: 1708337 entries, 0 to 1708336\n",
            "Data columns (total 37 columns):\n",
            " #   Column                                        Dtype         \n",
            "---  ------                                        -----         \n",
            " 0   channelGrouping                               object        \n",
            " 1   date                                          datetime64[ns]\n",
            " 2   fullVisitorId                                 object        \n",
            " 3   visitId                                       int64         \n",
            " 4   visitNumber                                   int64         \n",
            " 5   visitStartTime                                int64         \n",
            " 6   device.browser                                object        \n",
            " 7   device.operatingSystem                        object        \n",
            " 8   device.isMobile                               bool          \n",
            " 9   device.deviceCategory                         object        \n",
            " 10  geoNetwork.continent                          object        \n",
            " 11  geoNetwork.subContinent                       object        \n",
            " 12  geoNetwork.country                            object        \n",
            " 13  geoNetwork.region                             object        \n",
            " 14  geoNetwork.metro                              object        \n",
            " 15  geoNetwork.city                               object        \n",
            " 16  geoNetwork.networkDomain                      object        \n",
            " 17  totals.hits                                   float64       \n",
            " 18  totals.pageviews                              int64         \n",
            " 19  totals.bounces                                int64         \n",
            " 20  totals.newVisits                              int64         \n",
            " 21  totals.sessionQualityDim                      float64       \n",
            " 22  totals.timeOnSite                             int64         \n",
            " 23  totals.transactions                           int64         \n",
            " 24  totals.transactionRevenue                     float64       \n",
            " 25  totals.totalTransactionRevenue                object        \n",
            " 26  trafficSource.source                          object        \n",
            " 27  trafficSource.medium                          object        \n",
            " 28  trafficSource.keyword                         object        \n",
            " 29  trafficSource.isTrueDirect                    bool          \n",
            " 30  trafficSource.adwordsClickInfo.adNetworkType  object        \n",
            " 31  trafficSource.adwordsClickInfo.isVideoAd      bool          \n",
            " 32  customDimension.value                         object        \n",
            " 33  year                                          int64         \n",
            " 34  day                                           object        \n",
            " 35  week                                          int64         \n",
            " 36  month                                         object        \n",
            "dtypes: bool(3), datetime64[ns](1), float64(3), int64(10), object(20)\n",
            "memory usage: 448.0+ MB\n"
          ],
          "name": "stdout"
        }
      ]
    },
    {
      "cell_type": "code",
      "metadata": {
        "id": "LYr0zAMyqyq2",
        "colab_type": "code",
        "colab": {}
      },
      "source": [
        "chris_drop_col_list = ['trafficSource.adwordsClickInfo.adNetworkType','totals.timeOnSite','totals.sessionQualityDim',\n",
        "                 'customDimension.value','trafficSource.keyword']"
      ],
      "execution_count": 0,
      "outputs": []
    },
    {
      "cell_type": "code",
      "metadata": {
        "id": "k3LDrmBQXSCv",
        "colab_type": "code",
        "colab": {
          "base_uri": "https://localhost:8080/",
          "height": 162
        },
        "outputId": "26015709-a9bb-42a5-9f1c-5544a54b766b"
      },
      "source": [
        "df_train[chris_drop_col_list].agg(['count', 'size', 'nunique'])"
      ],
      "execution_count": 34,
      "outputs": [
        {
          "output_type": "execute_result",
          "data": {
            "text/html": [
              "<div>\n",
              "<style scoped>\n",
              "    .dataframe tbody tr th:only-of-type {\n",
              "        vertical-align: middle;\n",
              "    }\n",
              "\n",
              "    .dataframe tbody tr th {\n",
              "        vertical-align: top;\n",
              "    }\n",
              "\n",
              "    .dataframe thead th {\n",
              "        text-align: right;\n",
              "    }\n",
              "</style>\n",
              "<table border=\"1\" class=\"dataframe\">\n",
              "  <thead>\n",
              "    <tr style=\"text-align: right;\">\n",
              "      <th></th>\n",
              "      <th>trafficSource.adwordsClickInfo.adNetworkType</th>\n",
              "      <th>totals.timeOnSite</th>\n",
              "      <th>totals.sessionQualityDim</th>\n",
              "      <th>customDimension.value</th>\n",
              "      <th>trafficSource.keyword</th>\n",
              "    </tr>\n",
              "  </thead>\n",
              "  <tbody>\n",
              "    <tr>\n",
              "      <th>count</th>\n",
              "      <td>75274</td>\n",
              "      <td>834043</td>\n",
              "      <td>873063</td>\n",
              "      <td>1375102</td>\n",
              "      <td>655557</td>\n",
              "    </tr>\n",
              "    <tr>\n",
              "      <th>size</th>\n",
              "      <td>1708337</td>\n",
              "      <td>1708337</td>\n",
              "      <td>1708337</td>\n",
              "      <td>1708337</td>\n",
              "      <td>1708337</td>\n",
              "    </tr>\n",
              "    <tr>\n",
              "      <th>nunique</th>\n",
              "      <td>3</td>\n",
              "      <td>4774</td>\n",
              "      <td>100</td>\n",
              "      <td>5</td>\n",
              "      <td>4546</td>\n",
              "    </tr>\n",
              "  </tbody>\n",
              "</table>\n",
              "</div>"
            ],
            "text/plain": [
              "         trafficSource.adwordsClickInfo.adNetworkType  ...  trafficSource.keyword\n",
              "count                                           75274  ...                 655557\n",
              "size                                          1708337  ...                1708337\n",
              "nunique                                             3  ...                   4546\n",
              "\n",
              "[3 rows x 5 columns]"
            ]
          },
          "metadata": {
            "tags": []
          },
          "execution_count": 34
        }
      ]
    },
    {
      "cell_type": "markdown",
      "metadata": {
        "id": "9l4LmFb7gQ26",
        "colab_type": "text"
      },
      "source": [
        "#### adNetworkType"
      ]
    },
    {
      "cell_type": "code",
      "metadata": {
        "id": "342igIfPbqsH",
        "colab_type": "code",
        "colab": {
          "base_uri": "https://localhost:8080/",
          "height": 85
        },
        "outputId": "25b39b95-141a-44c0-ebb9-0901d3f79df4"
      },
      "source": [
        "df_train['trafficSource.adwordsClickInfo.adNetworkType'].value_counts()"
      ],
      "execution_count": 50,
      "outputs": [
        {
          "output_type": "execute_result",
          "data": {
            "text/plain": [
              "Content            42223\n",
              "Google Search      33043\n",
              "Search partners        8\n",
              "Name: trafficSource.adwordsClickInfo.adNetworkType, dtype: int64"
            ]
          },
          "metadata": {
            "tags": []
          },
          "execution_count": 50
        }
      ]
    },
    {
      "cell_type": "markdown",
      "metadata": {
        "id": "Kw4AP7_Idhlz",
        "colab_type": "text"
      },
      "source": [
        "`'trafficSource.adwordsClickInfo.adNetworkType'` should not be dropped because give information about the origin of the add used to acces the store. The null values should be replaced by an unknown value. that could mean the visit comes without the use of adds."
      ]
    },
    {
      "cell_type": "code",
      "metadata": {
        "id": "cCxRy5ijgMSQ",
        "colab_type": "code",
        "colab": {}
      },
      "source": [
        "df_train['trafficSource.adwordsClickInfo.adNetworkType'].fillna('Unknown', inplace=True)\n",
        " # filling missing values with Unknown"
      ],
      "execution_count": 0,
      "outputs": []
    },
    {
      "cell_type": "markdown",
      "metadata": {
        "id": "QiuqOG3JgYto",
        "colab_type": "text"
      },
      "source": [
        "#### customDimension.value"
      ]
    },
    {
      "cell_type": "markdown",
      "metadata": {
        "id": "e5-sWIv8f73o",
        "colab_type": "text"
      },
      "source": [
        "The time on site might be irrelevant to predict transaction revenue, however should be assess. The categorical variable should be turn into integers and the NULL into zeros."
      ]
    },
    {
      "cell_type": "code",
      "metadata": {
        "id": "j9Ims4NreWBk",
        "colab_type": "code",
        "colab": {
          "base_uri": "https://localhost:8080/",
          "height": 119
        },
        "outputId": "a67c470f-cfff-4841-f6d1-6046035d5737"
      },
      "source": [
        "df_train['customDimension.value'].value_counts()"
      ],
      "execution_count": 71,
      "outputs": [
        {
          "output_type": "execute_result",
          "data": {
            "text/plain": [
              "North America      768223\n",
              "EMEA               313991\n",
              "APAC               222071\n",
              "South America       45553\n",
              "Central America     25264\n",
              "Name: customDimension.value, dtype: int64"
            ]
          },
          "metadata": {
            "tags": []
          },
          "execution_count": 71
        }
      ]
    },
    {
      "cell_type": "code",
      "metadata": {
        "id": "nOoynhvFhsKZ",
        "colab_type": "code",
        "colab": {
          "base_uri": "https://localhost:8080/",
          "height": 136
        },
        "outputId": "8f6b8647-fe88-4d37-9c54-1c8b418633ae"
      },
      "source": [
        "df_train['geoNetwork.continent'].value_counts()"
      ],
      "execution_count": 72,
      "outputs": [
        {
          "output_type": "execute_result",
          "data": {
            "text/plain": [
              "Americas     877403\n",
              "Asia         396719\n",
              "Europe       368037\n",
              "Africa        35481\n",
              "Oceania       28180\n",
              "(not set)      2517\n",
              "Name: geoNetwork.continent, dtype: int64"
            ]
          },
          "metadata": {
            "tags": []
          },
          "execution_count": 72
        }
      ]
    },
    {
      "cell_type": "code",
      "metadata": {
        "id": "Xcru8tu4qZx4",
        "colab_type": "code",
        "colab": {
          "base_uri": "https://localhost:8080/",
          "height": 731
        },
        "outputId": "19877e8a-bb6e-4432-e49f-5da62332c6e4"
      },
      "source": [
        "df_train.groupby(['customDimension.value','geoNetwork.continent'])[['fullVisitorId']].count()"
      ],
      "execution_count": 74,
      "outputs": [
        {
          "output_type": "execute_result",
          "data": {
            "text/html": [
              "<div>\n",
              "<style scoped>\n",
              "    .dataframe tbody tr th:only-of-type {\n",
              "        vertical-align: middle;\n",
              "    }\n",
              "\n",
              "    .dataframe tbody tr th {\n",
              "        vertical-align: top;\n",
              "    }\n",
              "\n",
              "    .dataframe thead th {\n",
              "        text-align: right;\n",
              "    }\n",
              "</style>\n",
              "<table border=\"1\" class=\"dataframe\">\n",
              "  <thead>\n",
              "    <tr style=\"text-align: right;\">\n",
              "      <th></th>\n",
              "      <th></th>\n",
              "      <th>fullVisitorId</th>\n",
              "    </tr>\n",
              "    <tr>\n",
              "      <th>customDimension.value</th>\n",
              "      <th>geoNetwork.continent</th>\n",
              "      <th></th>\n",
              "    </tr>\n",
              "  </thead>\n",
              "  <tbody>\n",
              "    <tr>\n",
              "      <th rowspan=\"6\" valign=\"top\">APAC</th>\n",
              "      <th>(not set)</th>\n",
              "      <td>4</td>\n",
              "    </tr>\n",
              "    <tr>\n",
              "      <th>Africa</th>\n",
              "      <td>1</td>\n",
              "    </tr>\n",
              "    <tr>\n",
              "      <th>Americas</th>\n",
              "      <td>26</td>\n",
              "    </tr>\n",
              "    <tr>\n",
              "      <th>Asia</th>\n",
              "      <td>198385</td>\n",
              "    </tr>\n",
              "    <tr>\n",
              "      <th>Europe</th>\n",
              "      <td>6</td>\n",
              "    </tr>\n",
              "    <tr>\n",
              "      <th>Oceania</th>\n",
              "      <td>23649</td>\n",
              "    </tr>\n",
              "    <tr>\n",
              "      <th rowspan=\"2\" valign=\"top\">Central America</th>\n",
              "      <th>Americas</th>\n",
              "      <td>25263</td>\n",
              "    </tr>\n",
              "    <tr>\n",
              "      <th>Europe</th>\n",
              "      <td>1</td>\n",
              "    </tr>\n",
              "    <tr>\n",
              "      <th rowspan=\"5\" valign=\"top\">EMEA</th>\n",
              "      <th>(not set)</th>\n",
              "      <td>2</td>\n",
              "    </tr>\n",
              "    <tr>\n",
              "      <th>Africa</th>\n",
              "      <td>2</td>\n",
              "    </tr>\n",
              "    <tr>\n",
              "      <th>Americas</th>\n",
              "      <td>28</td>\n",
              "    </tr>\n",
              "    <tr>\n",
              "      <th>Asia</th>\n",
              "      <td>29176</td>\n",
              "    </tr>\n",
              "    <tr>\n",
              "      <th>Europe</th>\n",
              "      <td>284783</td>\n",
              "    </tr>\n",
              "    <tr>\n",
              "      <th rowspan=\"6\" valign=\"top\">North America</th>\n",
              "      <th>(not set)</th>\n",
              "      <td>7</td>\n",
              "    </tr>\n",
              "    <tr>\n",
              "      <th>Africa</th>\n",
              "      <td>3</td>\n",
              "    </tr>\n",
              "    <tr>\n",
              "      <th>Americas</th>\n",
              "      <td>768066</td>\n",
              "    </tr>\n",
              "    <tr>\n",
              "      <th>Asia</th>\n",
              "      <td>107</td>\n",
              "    </tr>\n",
              "    <tr>\n",
              "      <th>Europe</th>\n",
              "      <td>38</td>\n",
              "    </tr>\n",
              "    <tr>\n",
              "      <th>Oceania</th>\n",
              "      <td>2</td>\n",
              "    </tr>\n",
              "    <tr>\n",
              "      <th rowspan=\"2\" valign=\"top\">South America</th>\n",
              "      <th>Americas</th>\n",
              "      <td>45552</td>\n",
              "    </tr>\n",
              "    <tr>\n",
              "      <th>Europe</th>\n",
              "      <td>1</td>\n",
              "    </tr>\n",
              "  </tbody>\n",
              "</table>\n",
              "</div>"
            ],
            "text/plain": [
              "                                            fullVisitorId\n",
              "customDimension.value geoNetwork.continent               \n",
              "APAC                  (not set)                         4\n",
              "                      Africa                            1\n",
              "                      Americas                         26\n",
              "                      Asia                         198385\n",
              "                      Europe                            6\n",
              "                      Oceania                       23649\n",
              "Central America       Americas                      25263\n",
              "                      Europe                            1\n",
              "EMEA                  (not set)                         2\n",
              "                      Africa                            2\n",
              "                      Americas                         28\n",
              "                      Asia                          29176\n",
              "                      Europe                       284783\n",
              "North America         (not set)                         7\n",
              "                      Africa                            3\n",
              "                      Americas                     768066\n",
              "                      Asia                            107\n",
              "                      Europe                           38\n",
              "                      Oceania                           2\n",
              "South America         Americas                      45552\n",
              "                      Europe                            1"
            ]
          },
          "metadata": {
            "tags": []
          },
          "execution_count": 74
        }
      ]
    },
    {
      "cell_type": "markdown",
      "metadata": {
        "id": "QW0Q5LSDr9GV",
        "colab_type": "text"
      },
      "source": [
        "it seems that both `customDimension.value` AND `geoNetwork.continent` give us geographical region about where the visitor is located. We should not dropped `customDimension.value` till now wich of this two contributes more for the prediction. Instead we can give a 'not set' label to all those NULL values in this variable."
      ]
    },
    {
      "cell_type": "code",
      "metadata": {
        "id": "zUfD70sEs8vF",
        "colab_type": "code",
        "colab": {}
      },
      "source": [
        "df_train['customDimension.value'].fillna('(not set)', inplace=True)\n",
        " # filling missing values with Unknown"
      ],
      "execution_count": 0,
      "outputs": []
    },
    {
      "cell_type": "markdown",
      "metadata": {
        "id": "nSZl_flrtY_x",
        "colab_type": "text"
      },
      "source": [
        "#### trafficSource.keyword"
      ]
    },
    {
      "cell_type": "code",
      "metadata": {
        "id": "uOGCgyFetjQT",
        "colab_type": "code",
        "colab": {
          "base_uri": "https://localhost:8080/",
          "height": 221
        },
        "outputId": "3ce2816b-0980-4ae2-8251-ad513dd296b8"
      },
      "source": [
        "df_train['trafficSource.keyword'].value_counts()"
      ],
      "execution_count": 76,
      "outputs": [
        {
          "output_type": "execute_result",
          "data": {
            "text/plain": [
              "(not provided)                     568933\n",
              "(User vertical targeting)           25918\n",
              "(automatic matching)                18464\n",
              "6qEhsCssdK0z36ri                    10870\n",
              "(Remarketing/Content targeting)      5826\n",
              "                                    ...  \n",
              "googal compny ragstior obline           1\n",
              "acheter goodie google au usa            1\n",
              "sign in google                          1\n",
              "buy tshirt online india                 1\n",
              "युतुब आनलाइन                            1\n",
              "Name: trafficSource.keyword, Length: 4546, dtype: int64"
            ]
          },
          "metadata": {
            "tags": []
          },
          "execution_count": 76
        }
      ]
    },
    {
      "cell_type": "markdown",
      "metadata": {
        "id": "4MgNc18Awr11",
        "colab_type": "text"
      },
      "source": [
        "the keyword may be a good predictor, however we should take care about the high cardinality on this variable. The NULL values can again be filled with an 'unknown' category "
      ]
    },
    {
      "cell_type": "code",
      "metadata": {
        "id": "3A8zo3MvzTxD",
        "colab_type": "code",
        "colab": {
          "base_uri": "https://localhost:8080/",
          "height": 221
        },
        "outputId": "c39de1d7-68be-4d1a-b5df-54cf6ccdaa79"
      },
      "source": [
        "df_train['trafficSource.keyword'].fillna('Unknown', inplace=True)\n",
        " # filling missing values with Unknown\n",
        "df_train['trafficSource.keyword'].value_counts()"
      ],
      "execution_count": 78,
      "outputs": [
        {
          "output_type": "execute_result",
          "data": {
            "text/plain": [
              "Unknown                          1052780\n",
              "(not provided)                    568933\n",
              "(User vertical targeting)          25918\n",
              "(automatic matching)               18464\n",
              "6qEhsCssdK0z36ri                   10870\n",
              "                                  ...   \n",
              "googal compny ragstior obline          1\n",
              "acheter goodie google au usa           1\n",
              "sign in google                         1\n",
              "buy tshirt online india                1\n",
              "युतुब आनलाइन                           1\n",
              "Name: trafficSource.keyword, Length: 4547, dtype: int64"
            ]
          },
          "metadata": {
            "tags": []
          },
          "execution_count": 78
        }
      ]
    },
    {
      "cell_type": "code",
      "metadata": {
        "id": "IxUk6h-6qyrB",
        "colab_type": "code",
        "colab": {
          "base_uri": "https://localhost:8080/",
          "height": 326
        },
        "outputId": "585107f2-4039-4bfd-dcba-4c811e2f2310"
      },
      "source": [
        "df_train.head()"
      ],
      "execution_count": 79,
      "outputs": [
        {
          "output_type": "execute_result",
          "data": {
            "text/html": [
              "<div>\n",
              "<style scoped>\n",
              "    .dataframe tbody tr th:only-of-type {\n",
              "        vertical-align: middle;\n",
              "    }\n",
              "\n",
              "    .dataframe tbody tr th {\n",
              "        vertical-align: top;\n",
              "    }\n",
              "\n",
              "    .dataframe thead th {\n",
              "        text-align: right;\n",
              "    }\n",
              "</style>\n",
              "<table border=\"1\" class=\"dataframe\">\n",
              "  <thead>\n",
              "    <tr style=\"text-align: right;\">\n",
              "      <th></th>\n",
              "      <th>channelGrouping</th>\n",
              "      <th>date</th>\n",
              "      <th>fullVisitorId</th>\n",
              "      <th>visitId</th>\n",
              "      <th>visitNumber</th>\n",
              "      <th>visitStartTime</th>\n",
              "      <th>device.browser</th>\n",
              "      <th>device.operatingSystem</th>\n",
              "      <th>device.isMobile</th>\n",
              "      <th>device.deviceCategory</th>\n",
              "      <th>geoNetwork.continent</th>\n",
              "      <th>geoNetwork.subContinent</th>\n",
              "      <th>geoNetwork.country</th>\n",
              "      <th>geoNetwork.region</th>\n",
              "      <th>geoNetwork.metro</th>\n",
              "      <th>geoNetwork.city</th>\n",
              "      <th>geoNetwork.networkDomain</th>\n",
              "      <th>totals.hits</th>\n",
              "      <th>totals.pageviews</th>\n",
              "      <th>totals.bounces</th>\n",
              "      <th>totals.newVisits</th>\n",
              "      <th>totals.sessionQualityDim</th>\n",
              "      <th>totals.timeOnSite</th>\n",
              "      <th>totals.transactions</th>\n",
              "      <th>totals.transactionRevenue</th>\n",
              "      <th>totals.totalTransactionRevenue</th>\n",
              "      <th>trafficSource.source</th>\n",
              "      <th>trafficSource.medium</th>\n",
              "      <th>trafficSource.keyword</th>\n",
              "      <th>trafficSource.isTrueDirect</th>\n",
              "      <th>trafficSource.adwordsClickInfo.adNetworkType</th>\n",
              "      <th>trafficSource.adwordsClickInfo.isVideoAd</th>\n",
              "      <th>customDimension.value</th>\n",
              "      <th>year</th>\n",
              "      <th>day</th>\n",
              "      <th>week</th>\n",
              "      <th>month</th>\n",
              "    </tr>\n",
              "  </thead>\n",
              "  <tbody>\n",
              "    <tr>\n",
              "      <th>0</th>\n",
              "      <td>Organic Search</td>\n",
              "      <td>2017-10-16</td>\n",
              "      <td>3162355547410993243</td>\n",
              "      <td>1508198450</td>\n",
              "      <td>1</td>\n",
              "      <td>1508198450</td>\n",
              "      <td>Firefox</td>\n",
              "      <td>Windows</td>\n",
              "      <td>False</td>\n",
              "      <td>desktop</td>\n",
              "      <td>Europe</td>\n",
              "      <td>Western Europe</td>\n",
              "      <td>Germany</td>\n",
              "      <td>not available in demo dataset</td>\n",
              "      <td>not available in demo dataset</td>\n",
              "      <td>not available in demo dataset</td>\n",
              "      <td>(not set)</td>\n",
              "      <td>1.0</td>\n",
              "      <td>1</td>\n",
              "      <td>1</td>\n",
              "      <td>1</td>\n",
              "      <td>1.0</td>\n",
              "      <td>0</td>\n",
              "      <td>0</td>\n",
              "      <td>0.0</td>\n",
              "      <td>NaN</td>\n",
              "      <td>google</td>\n",
              "      <td>organic</td>\n",
              "      <td>water bottle</td>\n",
              "      <td>False</td>\n",
              "      <td>Unknown</td>\n",
              "      <td>True</td>\n",
              "      <td>EMEA</td>\n",
              "      <td>2017</td>\n",
              "      <td>Monday</td>\n",
              "      <td>42</td>\n",
              "      <td>October</td>\n",
              "    </tr>\n",
              "    <tr>\n",
              "      <th>1</th>\n",
              "      <td>Referral</td>\n",
              "      <td>2017-10-16</td>\n",
              "      <td>8934116514970143966</td>\n",
              "      <td>1508176307</td>\n",
              "      <td>6</td>\n",
              "      <td>1508176307</td>\n",
              "      <td>Chrome</td>\n",
              "      <td>Chrome OS</td>\n",
              "      <td>False</td>\n",
              "      <td>desktop</td>\n",
              "      <td>Americas</td>\n",
              "      <td>Northern America</td>\n",
              "      <td>United States</td>\n",
              "      <td>California</td>\n",
              "      <td>San Francisco-Oakland-San Jose CA</td>\n",
              "      <td>Cupertino</td>\n",
              "      <td>(not set)</td>\n",
              "      <td>2.0</td>\n",
              "      <td>2</td>\n",
              "      <td>0</td>\n",
              "      <td>0</td>\n",
              "      <td>2.0</td>\n",
              "      <td>28</td>\n",
              "      <td>0</td>\n",
              "      <td>0.0</td>\n",
              "      <td>NaN</td>\n",
              "      <td>sites.google.com</td>\n",
              "      <td>referral</td>\n",
              "      <td>Unknown</td>\n",
              "      <td>False</td>\n",
              "      <td>Unknown</td>\n",
              "      <td>True</td>\n",
              "      <td>North America</td>\n",
              "      <td>2017</td>\n",
              "      <td>Monday</td>\n",
              "      <td>42</td>\n",
              "      <td>October</td>\n",
              "    </tr>\n",
              "    <tr>\n",
              "      <th>2</th>\n",
              "      <td>Direct</td>\n",
              "      <td>2017-10-16</td>\n",
              "      <td>7992466427990357681</td>\n",
              "      <td>1508201613</td>\n",
              "      <td>1</td>\n",
              "      <td>1508201613</td>\n",
              "      <td>Chrome</td>\n",
              "      <td>Android</td>\n",
              "      <td>True</td>\n",
              "      <td>mobile</td>\n",
              "      <td>Americas</td>\n",
              "      <td>Northern America</td>\n",
              "      <td>United States</td>\n",
              "      <td>not available in demo dataset</td>\n",
              "      <td>not available in demo dataset</td>\n",
              "      <td>not available in demo dataset</td>\n",
              "      <td>windjammercable.net</td>\n",
              "      <td>2.0</td>\n",
              "      <td>2</td>\n",
              "      <td>0</td>\n",
              "      <td>1</td>\n",
              "      <td>1.0</td>\n",
              "      <td>38</td>\n",
              "      <td>0</td>\n",
              "      <td>0.0</td>\n",
              "      <td>NaN</td>\n",
              "      <td>(direct)</td>\n",
              "      <td>(none)</td>\n",
              "      <td>Unknown</td>\n",
              "      <td>True</td>\n",
              "      <td>Unknown</td>\n",
              "      <td>True</td>\n",
              "      <td>North America</td>\n",
              "      <td>2017</td>\n",
              "      <td>Monday</td>\n",
              "      <td>42</td>\n",
              "      <td>October</td>\n",
              "    </tr>\n",
              "    <tr>\n",
              "      <th>3</th>\n",
              "      <td>Organic Search</td>\n",
              "      <td>2017-10-16</td>\n",
              "      <td>9075655783635761930</td>\n",
              "      <td>1508169851</td>\n",
              "      <td>1</td>\n",
              "      <td>1508169851</td>\n",
              "      <td>Chrome</td>\n",
              "      <td>Windows</td>\n",
              "      <td>False</td>\n",
              "      <td>desktop</td>\n",
              "      <td>Asia</td>\n",
              "      <td>Western Asia</td>\n",
              "      <td>Turkey</td>\n",
              "      <td>not available in demo dataset</td>\n",
              "      <td>not available in demo dataset</td>\n",
              "      <td>not available in demo dataset</td>\n",
              "      <td>unknown.unknown</td>\n",
              "      <td>2.0</td>\n",
              "      <td>2</td>\n",
              "      <td>0</td>\n",
              "      <td>1</td>\n",
              "      <td>1.0</td>\n",
              "      <td>1</td>\n",
              "      <td>0</td>\n",
              "      <td>0.0</td>\n",
              "      <td>NaN</td>\n",
              "      <td>google</td>\n",
              "      <td>organic</td>\n",
              "      <td>(not provided)</td>\n",
              "      <td>False</td>\n",
              "      <td>Unknown</td>\n",
              "      <td>True</td>\n",
              "      <td>EMEA</td>\n",
              "      <td>2017</td>\n",
              "      <td>Monday</td>\n",
              "      <td>42</td>\n",
              "      <td>October</td>\n",
              "    </tr>\n",
              "    <tr>\n",
              "      <th>4</th>\n",
              "      <td>Organic Search</td>\n",
              "      <td>2017-10-16</td>\n",
              "      <td>6960673291025684308</td>\n",
              "      <td>1508190552</td>\n",
              "      <td>1</td>\n",
              "      <td>1508190552</td>\n",
              "      <td>Chrome</td>\n",
              "      <td>Windows</td>\n",
              "      <td>False</td>\n",
              "      <td>desktop</td>\n",
              "      <td>Americas</td>\n",
              "      <td>Central America</td>\n",
              "      <td>Mexico</td>\n",
              "      <td>not available in demo dataset</td>\n",
              "      <td>not available in demo dataset</td>\n",
              "      <td>not available in demo dataset</td>\n",
              "      <td>prod-infinitum.com.mx</td>\n",
              "      <td>2.0</td>\n",
              "      <td>2</td>\n",
              "      <td>0</td>\n",
              "      <td>1</td>\n",
              "      <td>1.0</td>\n",
              "      <td>52</td>\n",
              "      <td>0</td>\n",
              "      <td>0.0</td>\n",
              "      <td>NaN</td>\n",
              "      <td>google</td>\n",
              "      <td>organic</td>\n",
              "      <td>(not provided)</td>\n",
              "      <td>False</td>\n",
              "      <td>Unknown</td>\n",
              "      <td>True</td>\n",
              "      <td>Central America</td>\n",
              "      <td>2017</td>\n",
              "      <td>Monday</td>\n",
              "      <td>42</td>\n",
              "      <td>October</td>\n",
              "    </tr>\n",
              "  </tbody>\n",
              "</table>\n",
              "</div>"
            ],
            "text/plain": [
              "  channelGrouping       date        fullVisitorId  ...     day  week    month\n",
              "0  Organic Search 2017-10-16  3162355547410993243  ...  Monday    42  October\n",
              "1        Referral 2017-10-16  8934116514970143966  ...  Monday    42  October\n",
              "2          Direct 2017-10-16  7992466427990357681  ...  Monday    42  October\n",
              "3  Organic Search 2017-10-16  9075655783635761930  ...  Monday    42  October\n",
              "4  Organic Search 2017-10-16  6960673291025684308  ...  Monday    42  October\n",
              "\n",
              "[5 rows x 37 columns]"
            ]
          },
          "metadata": {
            "tags": []
          },
          "execution_count": 79
        }
      ]
    },
    {
      "cell_type": "code",
      "metadata": {
        "id": "nYsdpMdqqyrH",
        "colab_type": "code",
        "colab": {
          "base_uri": "https://localhost:8080/",
          "height": 68
        },
        "outputId": "39eabc39-cc2f-473a-8dbd-1dba559fb1a6"
      },
      "source": [
        "values_missing(df_train)"
      ],
      "execution_count": 80,
      "outputs": [
        {
          "output_type": "stream",
          "text": [
            "Total and percent of missing values: \n",
            "                                  Total    Percent\n",
            "totals.totalTransactionRevenue  1689823  98.916256\n"
          ],
          "name": "stdout"
        }
      ]
    },
    {
      "cell_type": "markdown",
      "metadata": {
        "id": "gnhACmclqyrM",
        "colab_type": "text"
      },
      "source": [
        "\n",
        "`totals.transactions` null values is replaced with zeros.\n",
        "\n",
        "Because no transactions is the same as 0 transactions."
      ]
    },
    {
      "cell_type": "code",
      "metadata": {
        "id": "4liCCv8rqyrN",
        "colab_type": "code",
        "colab": {}
      },
      "source": [
        "df_train[\"totals.transactions\"] = df_train[\"totals.transactions\"].fillna(0).astype(int)"
      ],
      "execution_count": 0,
      "outputs": []
    },
    {
      "cell_type": "markdown",
      "metadata": {
        "id": "2KskO0WNVJgY",
        "colab_type": "text"
      },
      "source": [
        "`totals.totalTransactionRevenue` is extremly alike with the target. It might be removed to aviod overfitiing!!\n"
      ]
    },
    {
      "cell_type": "code",
      "metadata": {
        "id": "jAQ9XyseqyrT",
        "colab_type": "code",
        "colab": {}
      },
      "source": [
        "df_train.drop('totals.totalTransactionRevenue',axis=1, inplace=True)"
      ],
      "execution_count": 0,
      "outputs": []
    },
    {
      "cell_type": "code",
      "metadata": {
        "id": "WMxoyc5rqyrY",
        "colab_type": "code",
        "colab": {
          "base_uri": "https://localhost:8080/",
          "height": 646
        },
        "outputId": "e0e51677-17d0-4f86-a396-a62f554685b7"
      },
      "source": [
        "df_train.isna().sum()"
      ],
      "execution_count": 83,
      "outputs": [
        {
          "output_type": "execute_result",
          "data": {
            "text/plain": [
              "channelGrouping                                 0\n",
              "date                                            0\n",
              "fullVisitorId                                   0\n",
              "visitId                                         0\n",
              "visitNumber                                     0\n",
              "visitStartTime                                  0\n",
              "device.browser                                  0\n",
              "device.operatingSystem                          0\n",
              "device.isMobile                                 0\n",
              "device.deviceCategory                           0\n",
              "geoNetwork.continent                            0\n",
              "geoNetwork.subContinent                         0\n",
              "geoNetwork.country                              0\n",
              "geoNetwork.region                               0\n",
              "geoNetwork.metro                                0\n",
              "geoNetwork.city                                 0\n",
              "geoNetwork.networkDomain                        0\n",
              "totals.hits                                     0\n",
              "totals.pageviews                                0\n",
              "totals.bounces                                  0\n",
              "totals.newVisits                                0\n",
              "totals.sessionQualityDim                        0\n",
              "totals.timeOnSite                               0\n",
              "totals.transactions                             0\n",
              "totals.transactionRevenue                       0\n",
              "trafficSource.source                            0\n",
              "trafficSource.medium                            0\n",
              "trafficSource.keyword                           0\n",
              "trafficSource.isTrueDirect                      0\n",
              "trafficSource.adwordsClickInfo.adNetworkType    0\n",
              "trafficSource.adwordsClickInfo.isVideoAd        0\n",
              "customDimension.value                           0\n",
              "year                                            0\n",
              "day                                             0\n",
              "week                                            0\n",
              "month                                           0\n",
              "dtype: int64"
            ]
          },
          "metadata": {
            "tags": []
          },
          "execution_count": 83
        }
      ]
    },
    {
      "cell_type": "markdown",
      "metadata": {
        "id": "c7wMujQeqyrg",
        "colab_type": "text"
      },
      "source": [
        "OK now my data is clean. i will save the data set before i process with feature selection."
      ]
    },
    {
      "cell_type": "code",
      "metadata": {
        "id": "gP9mFWmeqyrh",
        "colab_type": "code",
        "colab": {}
      },
      "source": [
        "Cleaned_train = df_train"
      ],
      "execution_count": 0,
      "outputs": []
    },
    {
      "cell_type": "code",
      "metadata": {
        "id": "bePEXQG2qyrx",
        "colab_type": "code",
        "colab": {
          "base_uri": "https://localhost:8080/",
          "height": 748
        },
        "outputId": "9688db6a-c857-4416-bd06-a2cf6eb32715"
      },
      "source": [
        "Cleaned_train.info()"
      ],
      "execution_count": 85,
      "outputs": [
        {
          "output_type": "stream",
          "text": [
            "<class 'pandas.core.frame.DataFrame'>\n",
            "RangeIndex: 1708337 entries, 0 to 1708336\n",
            "Data columns (total 36 columns):\n",
            " #   Column                                        Dtype         \n",
            "---  ------                                        -----         \n",
            " 0   channelGrouping                               object        \n",
            " 1   date                                          datetime64[ns]\n",
            " 2   fullVisitorId                                 object        \n",
            " 3   visitId                                       int64         \n",
            " 4   visitNumber                                   int64         \n",
            " 5   visitStartTime                                int64         \n",
            " 6   device.browser                                object        \n",
            " 7   device.operatingSystem                        object        \n",
            " 8   device.isMobile                               bool          \n",
            " 9   device.deviceCategory                         object        \n",
            " 10  geoNetwork.continent                          object        \n",
            " 11  geoNetwork.subContinent                       object        \n",
            " 12  geoNetwork.country                            object        \n",
            " 13  geoNetwork.region                             object        \n",
            " 14  geoNetwork.metro                              object        \n",
            " 15  geoNetwork.city                               object        \n",
            " 16  geoNetwork.networkDomain                      object        \n",
            " 17  totals.hits                                   float64       \n",
            " 18  totals.pageviews                              int64         \n",
            " 19  totals.bounces                                int64         \n",
            " 20  totals.newVisits                              int64         \n",
            " 21  totals.sessionQualityDim                      float64       \n",
            " 22  totals.timeOnSite                             int64         \n",
            " 23  totals.transactions                           int64         \n",
            " 24  totals.transactionRevenue                     float64       \n",
            " 25  trafficSource.source                          object        \n",
            " 26  trafficSource.medium                          object        \n",
            " 27  trafficSource.keyword                         object        \n",
            " 28  trafficSource.isTrueDirect                    bool          \n",
            " 29  trafficSource.adwordsClickInfo.adNetworkType  object        \n",
            " 30  trafficSource.adwordsClickInfo.isVideoAd      bool          \n",
            " 31  customDimension.value                         object        \n",
            " 32  year                                          int64         \n",
            " 33  day                                           object        \n",
            " 34  week                                          int64         \n",
            " 35  month                                         object        \n",
            "dtypes: bool(3), datetime64[ns](1), float64(3), int64(10), object(19)\n",
            "memory usage: 435.0+ MB\n"
          ],
          "name": "stdout"
        }
      ]
    },
    {
      "cell_type": "code",
      "metadata": {
        "id": "kkuKHwMhqyr3",
        "colab_type": "code",
        "colab": {}
      },
      "source": [
        "Cleaned_train.to_csv('/Users/chris/Desktop/chris_files.csv/Cleaned_train.csv',index=False)"
      ],
      "execution_count": 0,
      "outputs": []
    },
    {
      "cell_type": "code",
      "metadata": {
        "id": "mUtO6y0QPZXN",
        "colab_type": "code",
        "colab": {
          "base_uri": "https://localhost:8080/",
          "height": 34
        },
        "outputId": "dcdbceb3-e9dc-4b41-8263-6a912d7b95e9"
      },
      "source": [
        "root_path"
      ],
      "execution_count": 23,
      "outputs": [
        {
          "output_type": "execute_result",
          "data": {
            "text/plain": [
              "'/content/gdrive/My Drive/ReDi_DA_Project/preprocessed_ga_revenue_data'"
            ]
          },
          "metadata": {
            "tags": []
          },
          "execution_count": 23
        }
      ]
    }
  ]
}