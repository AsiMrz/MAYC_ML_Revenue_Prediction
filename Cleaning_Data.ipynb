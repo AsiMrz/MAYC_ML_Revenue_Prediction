{
  "nbformat": 4,
  "nbformat_minor": 0,
  "metadata": {
    "kernelspec": {
      "display_name": "Python 3",
      "language": "python",
      "name": "python3"
    },
    "language_info": {
      "codemirror_mode": {
        "name": "ipython",
        "version": 3
      },
      "file_extension": ".py",
      "mimetype": "text/x-python",
      "name": "python",
      "nbconvert_exporter": "python",
      "pygments_lexer": "ipython3",
      "version": "3.7.4"
    },
    "toc": {
      "base_numbering": 1,
      "nav_menu": {},
      "number_sections": true,
      "sideBar": true,
      "skip_h1_title": false,
      "title_cell": "Table of Contents",
      "title_sidebar": "Contents",
      "toc_cell": false,
      "toc_position": {},
      "toc_section_display": true,
      "toc_window_display": false
    },
    "colab": {
      "name": "Cleaning_Data.ipynb",
      "provenance": [],
      "toc_visible": true,
      "include_colab_link": true
    }
  },
  "cells": [
    {
      "cell_type": "markdown",
      "metadata": {
        "id": "view-in-github",
        "colab_type": "text"
      },
      "source": [
        "<a href=\"https://colab.research.google.com/github/yeialgov/MAYC_ML_Revenue_Prediction/blob/patch-1/Cleaning_Data.ipynb\" target=\"_parent\"><img src=\"https://colab.research.google.com/assets/colab-badge.svg\" alt=\"Open In Colab\"/></a>"
      ]
    },
    {
      "cell_type": "markdown",
      "metadata": {
        "id": "KqQ1jL9hrnA3",
        "colab_type": "text"
      },
      "source": [
        "## Getting the Data"
      ]
    },
    {
      "cell_type": "code",
      "metadata": {
        "id": "470v_G6Orh5K",
        "colab_type": "code",
        "outputId": "700483b0-1682-499d-dad7-7901303ab42c",
        "colab": {
          "base_uri": "https://localhost:8080/",
          "height": 122
        }
      },
      "source": [
        "#Mount the Google Drive to Google Colab\n",
        "#1. get the library\n",
        "from google.colab import drive\n",
        "drive.mount('/content/gdrive')"
      ],
      "execution_count": 1,
      "outputs": [
        {
          "output_type": "stream",
          "text": [
            "Go to this URL in a browser: https://accounts.google.com/o/oauth2/auth?client_id=947318989803-6bn6qk8qdgf4n4g3pfee6491hc0brc4i.apps.googleusercontent.com&redirect_uri=urn%3aietf%3awg%3aoauth%3a2.0%3aoob&response_type=code&scope=email%20https%3a%2f%2fwww.googleapis.com%2fauth%2fdocs.test%20https%3a%2f%2fwww.googleapis.com%2fauth%2fdrive%20https%3a%2f%2fwww.googleapis.com%2fauth%2fdrive.photos.readonly%20https%3a%2f%2fwww.googleapis.com%2fauth%2fpeopleapi.readonly\n",
            "\n",
            "Enter your authorization code:\n",
            "··········\n",
            "Mounted at /content/gdrive\n"
          ],
          "name": "stdout"
        }
      ]
    },
    {
      "cell_type": "code",
      "metadata": {
        "id": "4OGCsS5brmY_",
        "colab_type": "code",
        "colab": {}
      },
      "source": [
        "#rooth_path directs the cd to the right folder in the Google Drive\n",
        "#root_path = '/content/gdrive/My Drive/ReDi_DA_Project/preprocessed_ga_revenue_data'"
      ],
      "execution_count": 0,
      "outputs": []
    },
    {
      "cell_type": "code",
      "metadata": {
        "id": "MPHK3IN5szEA",
        "colab_type": "code",
        "outputId": "ef5281e0-afe6-4517-c33d-4b80cad36b2a",
        "colab": {
          "base_uri": "https://localhost:8080/",
          "height": 34
        }
      },
      "source": [
        "cd '/content/gdrive/My Drive/ReDi_DA_Project/preprocessed_ga_revenue_data'"
      ],
      "execution_count": 1,
      "outputs": [
        {
          "output_type": "stream",
          "text": [
            "/content/gdrive/My Drive/ReDi_DA_Project/preprocessed_ga_revenue_data\n"
          ],
          "name": "stdout"
        }
      ]
    },
    {
      "cell_type": "code",
      "metadata": {
        "id": "S4JryMYhqygR",
        "colab_type": "code",
        "colab": {}
      },
      "source": [
        "# download the libraries\n",
        "import pandas as pd\n",
        "import warnings\n",
        "import os\n",
        "warnings.filterwarnings('ignore')\n",
        "#!pip3 install --upgrade seaborn cufflinks plotly\n",
        "from copy import deepcopy\n",
        "import numpy as np\n",
        "import matplotlib.pyplot as plt\n",
        "import seaborn as sns\n",
        "from datetime import datetime\n",
        "import random\n",
        "%matplotlib inline"
      ],
      "execution_count": 0,
      "outputs": []
    },
    {
      "cell_type": "code",
      "metadata": {
        "id": "mkbqIBv8qygg",
        "colab_type": "code",
        "colab": {}
      },
      "source": [
        "# load training data set info a df\n",
        "traindata = pd.read_pickle('train_flat_no_hits.pkl')\n",
        "testdata = pd.read_pickle('test_flat_no_hits.pkl')"
      ],
      "execution_count": 0,
      "outputs": []
    },
    {
      "cell_type": "code",
      "metadata": {
        "id": "-vbQgI7PNcx0",
        "colab_type": "code",
        "colab": {}
      },
      "source": [
        "# add a marker so that you know which dataset is which\n",
        "traindata['dataset'] = 'train'\n",
        "testdata['dataset'] = 'test'\n",
        "traindata.drop('trafficSource.campaignCode',axis=1,inplace= True) #the test doesnt have trafficSource.campaignCode column, \n",
        "#so i droped it from the train set\n",
        "col_order = list(set(traindata.columns.tolist() + testdata.columns.tolist()))\n",
        "traindata = deepcopy(traindata[col_order])\n",
        "testdata = deepcopy(testdata[col_order])\n",
        "# append the two together\n",
        "all_data = traindata[col_order].append(testdata)"
      ],
      "execution_count": 0,
      "outputs": []
    },
    {
      "cell_type": "code",
      "metadata": {
        "collapsed": true,
        "colab_type": "code",
        "outputId": "ea51a6d8-33b8-4e3c-8437-a84afd427fd5",
        "id": "bmEa5BRxOMSb",
        "colab": {}
      },
      "source": [
        "# make sure the columns are in the same order in both train and test.\n",
        "# the deepcopy is just to have a copy of the original even after joining them\n",
        "col_order = list(set(traindata.columns.tolist() + testdata.columns.tolist()))\n",
        "traindata = deepcopy(traindata[col_order])\n",
        "testdata = deepcopy(testdata[col_order])"
      ],
      "execution_count": 0,
      "outputs": [
        {
          "output_type": "error",
          "ename": "KeyError",
          "evalue": "\"['trafficSource.campaignCode'] not in index\"",
          "traceback": [
            "\u001b[1;31m---------------------------------------------------------------------------\u001b[0m",
            "\u001b[1;31mKeyError\u001b[0m                                  Traceback (most recent call last)",
            "\u001b[1;32m<ipython-input-6-372976850aa0>\u001b[0m in \u001b[0;36m<module>\u001b[1;34m\u001b[0m\n\u001b[0;32m      3\u001b[0m \u001b[0mcol_order\u001b[0m \u001b[1;33m=\u001b[0m \u001b[0mlist\u001b[0m\u001b[1;33m(\u001b[0m\u001b[0mset\u001b[0m\u001b[1;33m(\u001b[0m\u001b[0mtraindata\u001b[0m\u001b[1;33m.\u001b[0m\u001b[0mcolumns\u001b[0m\u001b[1;33m.\u001b[0m\u001b[0mtolist\u001b[0m\u001b[1;33m(\u001b[0m\u001b[1;33m)\u001b[0m \u001b[1;33m+\u001b[0m \u001b[0mtestdata\u001b[0m\u001b[1;33m.\u001b[0m\u001b[0mcolumns\u001b[0m\u001b[1;33m.\u001b[0m\u001b[0mtolist\u001b[0m\u001b[1;33m(\u001b[0m\u001b[1;33m)\u001b[0m\u001b[1;33m)\u001b[0m\u001b[1;33m)\u001b[0m\u001b[1;33m\u001b[0m\u001b[1;33m\u001b[0m\u001b[0m\n\u001b[0;32m      4\u001b[0m \u001b[0mtraindata\u001b[0m \u001b[1;33m=\u001b[0m \u001b[0mdeepcopy\u001b[0m\u001b[1;33m(\u001b[0m\u001b[0mtraindata\u001b[0m\u001b[1;33m[\u001b[0m\u001b[0mcol_order\u001b[0m\u001b[1;33m]\u001b[0m\u001b[1;33m)\u001b[0m\u001b[1;33m\u001b[0m\u001b[1;33m\u001b[0m\u001b[0m\n\u001b[1;32m----> 5\u001b[1;33m \u001b[0mtestdata\u001b[0m \u001b[1;33m=\u001b[0m \u001b[0mdeepcopy\u001b[0m\u001b[1;33m(\u001b[0m\u001b[0mtestdata\u001b[0m\u001b[1;33m[\u001b[0m\u001b[0mcol_order\u001b[0m\u001b[1;33m]\u001b[0m\u001b[1;33m)\u001b[0m\u001b[1;33m\u001b[0m\u001b[1;33m\u001b[0m\u001b[0m\n\u001b[0m",
            "\u001b[1;32m~\\Anaconda3\\lib\\site-packages\\pandas\\core\\frame.py\u001b[0m in \u001b[0;36m__getitem__\u001b[1;34m(self, key)\u001b[0m\n\u001b[0;32m   2804\u001b[0m             \u001b[1;32mif\u001b[0m \u001b[0mis_iterator\u001b[0m\u001b[1;33m(\u001b[0m\u001b[0mkey\u001b[0m\u001b[1;33m)\u001b[0m\u001b[1;33m:\u001b[0m\u001b[1;33m\u001b[0m\u001b[1;33m\u001b[0m\u001b[0m\n\u001b[0;32m   2805\u001b[0m                 \u001b[0mkey\u001b[0m \u001b[1;33m=\u001b[0m \u001b[0mlist\u001b[0m\u001b[1;33m(\u001b[0m\u001b[0mkey\u001b[0m\u001b[1;33m)\u001b[0m\u001b[1;33m\u001b[0m\u001b[1;33m\u001b[0m\u001b[0m\n\u001b[1;32m-> 2806\u001b[1;33m             \u001b[0mindexer\u001b[0m \u001b[1;33m=\u001b[0m \u001b[0mself\u001b[0m\u001b[1;33m.\u001b[0m\u001b[0mloc\u001b[0m\u001b[1;33m.\u001b[0m\u001b[0m_get_listlike_indexer\u001b[0m\u001b[1;33m(\u001b[0m\u001b[0mkey\u001b[0m\u001b[1;33m,\u001b[0m \u001b[0maxis\u001b[0m\u001b[1;33m=\u001b[0m\u001b[1;36m1\u001b[0m\u001b[1;33m,\u001b[0m \u001b[0mraise_missing\u001b[0m\u001b[1;33m=\u001b[0m\u001b[1;32mTrue\u001b[0m\u001b[1;33m)\u001b[0m\u001b[1;33m[\u001b[0m\u001b[1;36m1\u001b[0m\u001b[1;33m]\u001b[0m\u001b[1;33m\u001b[0m\u001b[1;33m\u001b[0m\u001b[0m\n\u001b[0m\u001b[0;32m   2807\u001b[0m \u001b[1;33m\u001b[0m\u001b[0m\n\u001b[0;32m   2808\u001b[0m         \u001b[1;31m# take() does not accept boolean indexers\u001b[0m\u001b[1;33m\u001b[0m\u001b[1;33m\u001b[0m\u001b[1;33m\u001b[0m\u001b[0m\n",
            "\u001b[1;32m~\\Anaconda3\\lib\\site-packages\\pandas\\core\\indexing.py\u001b[0m in \u001b[0;36m_get_listlike_indexer\u001b[1;34m(self, key, axis, raise_missing)\u001b[0m\n\u001b[0;32m   1550\u001b[0m \u001b[1;33m\u001b[0m\u001b[0m\n\u001b[0;32m   1551\u001b[0m         self._validate_read_indexer(\n\u001b[1;32m-> 1552\u001b[1;33m             \u001b[0mkeyarr\u001b[0m\u001b[1;33m,\u001b[0m \u001b[0mindexer\u001b[0m\u001b[1;33m,\u001b[0m \u001b[0mo\u001b[0m\u001b[1;33m.\u001b[0m\u001b[0m_get_axis_number\u001b[0m\u001b[1;33m(\u001b[0m\u001b[0maxis\u001b[0m\u001b[1;33m)\u001b[0m\u001b[1;33m,\u001b[0m \u001b[0mraise_missing\u001b[0m\u001b[1;33m=\u001b[0m\u001b[0mraise_missing\u001b[0m\u001b[1;33m\u001b[0m\u001b[1;33m\u001b[0m\u001b[0m\n\u001b[0m\u001b[0;32m   1553\u001b[0m         )\n\u001b[0;32m   1554\u001b[0m         \u001b[1;32mreturn\u001b[0m \u001b[0mkeyarr\u001b[0m\u001b[1;33m,\u001b[0m \u001b[0mindexer\u001b[0m\u001b[1;33m\u001b[0m\u001b[1;33m\u001b[0m\u001b[0m\n",
            "\u001b[1;32m~\\Anaconda3\\lib\\site-packages\\pandas\\core\\indexing.py\u001b[0m in \u001b[0;36m_validate_read_indexer\u001b[1;34m(self, key, indexer, axis, raise_missing)\u001b[0m\n\u001b[0;32m   1643\u001b[0m             \u001b[1;32mif\u001b[0m \u001b[1;32mnot\u001b[0m \u001b[1;33m(\u001b[0m\u001b[0mself\u001b[0m\u001b[1;33m.\u001b[0m\u001b[0mname\u001b[0m \u001b[1;33m==\u001b[0m \u001b[1;34m\"loc\"\u001b[0m \u001b[1;32mand\u001b[0m \u001b[1;32mnot\u001b[0m \u001b[0mraise_missing\u001b[0m\u001b[1;33m)\u001b[0m\u001b[1;33m:\u001b[0m\u001b[1;33m\u001b[0m\u001b[1;33m\u001b[0m\u001b[0m\n\u001b[0;32m   1644\u001b[0m                 \u001b[0mnot_found\u001b[0m \u001b[1;33m=\u001b[0m \u001b[0mlist\u001b[0m\u001b[1;33m(\u001b[0m\u001b[0mset\u001b[0m\u001b[1;33m(\u001b[0m\u001b[0mkey\u001b[0m\u001b[1;33m)\u001b[0m \u001b[1;33m-\u001b[0m \u001b[0mset\u001b[0m\u001b[1;33m(\u001b[0m\u001b[0max\u001b[0m\u001b[1;33m)\u001b[0m\u001b[1;33m)\u001b[0m\u001b[1;33m\u001b[0m\u001b[1;33m\u001b[0m\u001b[0m\n\u001b[1;32m-> 1645\u001b[1;33m                 \u001b[1;32mraise\u001b[0m \u001b[0mKeyError\u001b[0m\u001b[1;33m(\u001b[0m\u001b[1;34mf\"{not_found} not in index\"\u001b[0m\u001b[1;33m)\u001b[0m\u001b[1;33m\u001b[0m\u001b[1;33m\u001b[0m\u001b[0m\n\u001b[0m\u001b[0;32m   1646\u001b[0m \u001b[1;33m\u001b[0m\u001b[0m\n\u001b[0;32m   1647\u001b[0m             \u001b[1;31m# we skip the warning on Categorical/Interval\u001b[0m\u001b[1;33m\u001b[0m\u001b[1;33m\u001b[0m\u001b[1;33m\u001b[0m\u001b[0m\n",
            "\u001b[1;31mKeyError\u001b[0m: \"['trafficSource.campaignCode'] not in index\""
          ]
        }
      ]
    },
    {
      "cell_type": "code",
      "metadata": {
        "collapsed": true,
        "colab_type": "code",
        "outputId": "ea51a6d8-33b8-4e3c-8437-a84afd427fd5",
        "id": "LSeLiDogOKqR",
        "colab": {}
      },
      "source": [
        "# make sure the columns are in the same order in both train and test.\n",
        "# the deepcopy is just to have a copy of the original even after joining them\n",
        "col_order = list(set(traindata.columns.tolist() + testdata.columns.tolist()))\n",
        "traindata = deepcopy(traindata[col_order])\n",
        "testdata = deepcopy(testdata[col_order])"
      ],
      "execution_count": 0,
      "outputs": [
        {
          "output_type": "error",
          "ename": "KeyError",
          "evalue": "\"['trafficSource.campaignCode'] not in index\"",
          "traceback": [
            "\u001b[1;31m---------------------------------------------------------------------------\u001b[0m",
            "\u001b[1;31mKeyError\u001b[0m                                  Traceback (most recent call last)",
            "\u001b[1;32m<ipython-input-6-372976850aa0>\u001b[0m in \u001b[0;36m<module>\u001b[1;34m\u001b[0m\n\u001b[0;32m      3\u001b[0m \u001b[0mcol_order\u001b[0m \u001b[1;33m=\u001b[0m \u001b[0mlist\u001b[0m\u001b[1;33m(\u001b[0m\u001b[0mset\u001b[0m\u001b[1;33m(\u001b[0m\u001b[0mtraindata\u001b[0m\u001b[1;33m.\u001b[0m\u001b[0mcolumns\u001b[0m\u001b[1;33m.\u001b[0m\u001b[0mtolist\u001b[0m\u001b[1;33m(\u001b[0m\u001b[1;33m)\u001b[0m \u001b[1;33m+\u001b[0m \u001b[0mtestdata\u001b[0m\u001b[1;33m.\u001b[0m\u001b[0mcolumns\u001b[0m\u001b[1;33m.\u001b[0m\u001b[0mtolist\u001b[0m\u001b[1;33m(\u001b[0m\u001b[1;33m)\u001b[0m\u001b[1;33m)\u001b[0m\u001b[1;33m)\u001b[0m\u001b[1;33m\u001b[0m\u001b[1;33m\u001b[0m\u001b[0m\n\u001b[0;32m      4\u001b[0m \u001b[0mtraindata\u001b[0m \u001b[1;33m=\u001b[0m \u001b[0mdeepcopy\u001b[0m\u001b[1;33m(\u001b[0m\u001b[0mtraindata\u001b[0m\u001b[1;33m[\u001b[0m\u001b[0mcol_order\u001b[0m\u001b[1;33m]\u001b[0m\u001b[1;33m)\u001b[0m\u001b[1;33m\u001b[0m\u001b[1;33m\u001b[0m\u001b[0m\n\u001b[1;32m----> 5\u001b[1;33m \u001b[0mtestdata\u001b[0m \u001b[1;33m=\u001b[0m \u001b[0mdeepcopy\u001b[0m\u001b[1;33m(\u001b[0m\u001b[0mtestdata\u001b[0m\u001b[1;33m[\u001b[0m\u001b[0mcol_order\u001b[0m\u001b[1;33m]\u001b[0m\u001b[1;33m)\u001b[0m\u001b[1;33m\u001b[0m\u001b[1;33m\u001b[0m\u001b[0m\n\u001b[0m",
            "\u001b[1;32m~\\Anaconda3\\lib\\site-packages\\pandas\\core\\frame.py\u001b[0m in \u001b[0;36m__getitem__\u001b[1;34m(self, key)\u001b[0m\n\u001b[0;32m   2804\u001b[0m             \u001b[1;32mif\u001b[0m \u001b[0mis_iterator\u001b[0m\u001b[1;33m(\u001b[0m\u001b[0mkey\u001b[0m\u001b[1;33m)\u001b[0m\u001b[1;33m:\u001b[0m\u001b[1;33m\u001b[0m\u001b[1;33m\u001b[0m\u001b[0m\n\u001b[0;32m   2805\u001b[0m                 \u001b[0mkey\u001b[0m \u001b[1;33m=\u001b[0m \u001b[0mlist\u001b[0m\u001b[1;33m(\u001b[0m\u001b[0mkey\u001b[0m\u001b[1;33m)\u001b[0m\u001b[1;33m\u001b[0m\u001b[1;33m\u001b[0m\u001b[0m\n\u001b[1;32m-> 2806\u001b[1;33m             \u001b[0mindexer\u001b[0m \u001b[1;33m=\u001b[0m \u001b[0mself\u001b[0m\u001b[1;33m.\u001b[0m\u001b[0mloc\u001b[0m\u001b[1;33m.\u001b[0m\u001b[0m_get_listlike_indexer\u001b[0m\u001b[1;33m(\u001b[0m\u001b[0mkey\u001b[0m\u001b[1;33m,\u001b[0m \u001b[0maxis\u001b[0m\u001b[1;33m=\u001b[0m\u001b[1;36m1\u001b[0m\u001b[1;33m,\u001b[0m \u001b[0mraise_missing\u001b[0m\u001b[1;33m=\u001b[0m\u001b[1;32mTrue\u001b[0m\u001b[1;33m)\u001b[0m\u001b[1;33m[\u001b[0m\u001b[1;36m1\u001b[0m\u001b[1;33m]\u001b[0m\u001b[1;33m\u001b[0m\u001b[1;33m\u001b[0m\u001b[0m\n\u001b[0m\u001b[0;32m   2807\u001b[0m \u001b[1;33m\u001b[0m\u001b[0m\n\u001b[0;32m   2808\u001b[0m         \u001b[1;31m# take() does not accept boolean indexers\u001b[0m\u001b[1;33m\u001b[0m\u001b[1;33m\u001b[0m\u001b[1;33m\u001b[0m\u001b[0m\n",
            "\u001b[1;32m~\\Anaconda3\\lib\\site-packages\\pandas\\core\\indexing.py\u001b[0m in \u001b[0;36m_get_listlike_indexer\u001b[1;34m(self, key, axis, raise_missing)\u001b[0m\n\u001b[0;32m   1550\u001b[0m \u001b[1;33m\u001b[0m\u001b[0m\n\u001b[0;32m   1551\u001b[0m         self._validate_read_indexer(\n\u001b[1;32m-> 1552\u001b[1;33m             \u001b[0mkeyarr\u001b[0m\u001b[1;33m,\u001b[0m \u001b[0mindexer\u001b[0m\u001b[1;33m,\u001b[0m \u001b[0mo\u001b[0m\u001b[1;33m.\u001b[0m\u001b[0m_get_axis_number\u001b[0m\u001b[1;33m(\u001b[0m\u001b[0maxis\u001b[0m\u001b[1;33m)\u001b[0m\u001b[1;33m,\u001b[0m \u001b[0mraise_missing\u001b[0m\u001b[1;33m=\u001b[0m\u001b[0mraise_missing\u001b[0m\u001b[1;33m\u001b[0m\u001b[1;33m\u001b[0m\u001b[0m\n\u001b[0m\u001b[0;32m   1553\u001b[0m         )\n\u001b[0;32m   1554\u001b[0m         \u001b[1;32mreturn\u001b[0m \u001b[0mkeyarr\u001b[0m\u001b[1;33m,\u001b[0m \u001b[0mindexer\u001b[0m\u001b[1;33m\u001b[0m\u001b[1;33m\u001b[0m\u001b[0m\n",
            "\u001b[1;32m~\\Anaconda3\\lib\\site-packages\\pandas\\core\\indexing.py\u001b[0m in \u001b[0;36m_validate_read_indexer\u001b[1;34m(self, key, indexer, axis, raise_missing)\u001b[0m\n\u001b[0;32m   1643\u001b[0m             \u001b[1;32mif\u001b[0m \u001b[1;32mnot\u001b[0m \u001b[1;33m(\u001b[0m\u001b[0mself\u001b[0m\u001b[1;33m.\u001b[0m\u001b[0mname\u001b[0m \u001b[1;33m==\u001b[0m \u001b[1;34m\"loc\"\u001b[0m \u001b[1;32mand\u001b[0m \u001b[1;32mnot\u001b[0m \u001b[0mraise_missing\u001b[0m\u001b[1;33m)\u001b[0m\u001b[1;33m:\u001b[0m\u001b[1;33m\u001b[0m\u001b[1;33m\u001b[0m\u001b[0m\n\u001b[0;32m   1644\u001b[0m                 \u001b[0mnot_found\u001b[0m \u001b[1;33m=\u001b[0m \u001b[0mlist\u001b[0m\u001b[1;33m(\u001b[0m\u001b[0mset\u001b[0m\u001b[1;33m(\u001b[0m\u001b[0mkey\u001b[0m\u001b[1;33m)\u001b[0m \u001b[1;33m-\u001b[0m \u001b[0mset\u001b[0m\u001b[1;33m(\u001b[0m\u001b[0max\u001b[0m\u001b[1;33m)\u001b[0m\u001b[1;33m)\u001b[0m\u001b[1;33m\u001b[0m\u001b[1;33m\u001b[0m\u001b[0m\n\u001b[1;32m-> 1645\u001b[1;33m                 \u001b[1;32mraise\u001b[0m \u001b[0mKeyError\u001b[0m\u001b[1;33m(\u001b[0m\u001b[1;34mf\"{not_found} not in index\"\u001b[0m\u001b[1;33m)\u001b[0m\u001b[1;33m\u001b[0m\u001b[1;33m\u001b[0m\u001b[0m\n\u001b[0m\u001b[0;32m   1646\u001b[0m \u001b[1;33m\u001b[0m\u001b[0m\n\u001b[0;32m   1647\u001b[0m             \u001b[1;31m# we skip the warning on Categorical/Interval\u001b[0m\u001b[1;33m\u001b[0m\u001b[1;33m\u001b[0m\u001b[1;33m\u001b[0m\u001b[0m\n",
            "\u001b[1;31mKeyError\u001b[0m: \"['trafficSource.campaignCode'] not in index\""
          ]
        }
      ]
    },
    {
      "cell_type": "code",
      "metadata": {
        "collapsed": true,
        "colab_type": "code",
        "outputId": "ea51a6d8-33b8-4e3c-8437-a84afd427fd5",
        "id": "5SxDrbcgOGwy",
        "colab": {}
      },
      "source": [
        "# make sure the columns are in the same order in both train and test.\n",
        "# the deepcopy is just to have a copy of the original even after joining them\n",
        "col_order = list(set(traindata.columns.tolist() + testdata.columns.tolist()))\n",
        "traindata = deepcopy(traindata[col_order])\n",
        "testdata = deepcopy(testdata[col_order])"
      ],
      "execution_count": 0,
      "outputs": [
        {
          "output_type": "error",
          "ename": "KeyError",
          "evalue": "\"['trafficSource.campaignCode'] not in index\"",
          "traceback": [
            "\u001b[1;31m---------------------------------------------------------------------------\u001b[0m",
            "\u001b[1;31mKeyError\u001b[0m                                  Traceback (most recent call last)",
            "\u001b[1;32m<ipython-input-6-372976850aa0>\u001b[0m in \u001b[0;36m<module>\u001b[1;34m\u001b[0m\n\u001b[0;32m      3\u001b[0m \u001b[0mcol_order\u001b[0m \u001b[1;33m=\u001b[0m \u001b[0mlist\u001b[0m\u001b[1;33m(\u001b[0m\u001b[0mset\u001b[0m\u001b[1;33m(\u001b[0m\u001b[0mtraindata\u001b[0m\u001b[1;33m.\u001b[0m\u001b[0mcolumns\u001b[0m\u001b[1;33m.\u001b[0m\u001b[0mtolist\u001b[0m\u001b[1;33m(\u001b[0m\u001b[1;33m)\u001b[0m \u001b[1;33m+\u001b[0m \u001b[0mtestdata\u001b[0m\u001b[1;33m.\u001b[0m\u001b[0mcolumns\u001b[0m\u001b[1;33m.\u001b[0m\u001b[0mtolist\u001b[0m\u001b[1;33m(\u001b[0m\u001b[1;33m)\u001b[0m\u001b[1;33m)\u001b[0m\u001b[1;33m)\u001b[0m\u001b[1;33m\u001b[0m\u001b[1;33m\u001b[0m\u001b[0m\n\u001b[0;32m      4\u001b[0m \u001b[0mtraindata\u001b[0m \u001b[1;33m=\u001b[0m \u001b[0mdeepcopy\u001b[0m\u001b[1;33m(\u001b[0m\u001b[0mtraindata\u001b[0m\u001b[1;33m[\u001b[0m\u001b[0mcol_order\u001b[0m\u001b[1;33m]\u001b[0m\u001b[1;33m)\u001b[0m\u001b[1;33m\u001b[0m\u001b[1;33m\u001b[0m\u001b[0m\n\u001b[1;32m----> 5\u001b[1;33m \u001b[0mtestdata\u001b[0m \u001b[1;33m=\u001b[0m \u001b[0mdeepcopy\u001b[0m\u001b[1;33m(\u001b[0m\u001b[0mtestdata\u001b[0m\u001b[1;33m[\u001b[0m\u001b[0mcol_order\u001b[0m\u001b[1;33m]\u001b[0m\u001b[1;33m)\u001b[0m\u001b[1;33m\u001b[0m\u001b[1;33m\u001b[0m\u001b[0m\n\u001b[0m",
            "\u001b[1;32m~\\Anaconda3\\lib\\site-packages\\pandas\\core\\frame.py\u001b[0m in \u001b[0;36m__getitem__\u001b[1;34m(self, key)\u001b[0m\n\u001b[0;32m   2804\u001b[0m             \u001b[1;32mif\u001b[0m \u001b[0mis_iterator\u001b[0m\u001b[1;33m(\u001b[0m\u001b[0mkey\u001b[0m\u001b[1;33m)\u001b[0m\u001b[1;33m:\u001b[0m\u001b[1;33m\u001b[0m\u001b[1;33m\u001b[0m\u001b[0m\n\u001b[0;32m   2805\u001b[0m                 \u001b[0mkey\u001b[0m \u001b[1;33m=\u001b[0m \u001b[0mlist\u001b[0m\u001b[1;33m(\u001b[0m\u001b[0mkey\u001b[0m\u001b[1;33m)\u001b[0m\u001b[1;33m\u001b[0m\u001b[1;33m\u001b[0m\u001b[0m\n\u001b[1;32m-> 2806\u001b[1;33m             \u001b[0mindexer\u001b[0m \u001b[1;33m=\u001b[0m \u001b[0mself\u001b[0m\u001b[1;33m.\u001b[0m\u001b[0mloc\u001b[0m\u001b[1;33m.\u001b[0m\u001b[0m_get_listlike_indexer\u001b[0m\u001b[1;33m(\u001b[0m\u001b[0mkey\u001b[0m\u001b[1;33m,\u001b[0m \u001b[0maxis\u001b[0m\u001b[1;33m=\u001b[0m\u001b[1;36m1\u001b[0m\u001b[1;33m,\u001b[0m \u001b[0mraise_missing\u001b[0m\u001b[1;33m=\u001b[0m\u001b[1;32mTrue\u001b[0m\u001b[1;33m)\u001b[0m\u001b[1;33m[\u001b[0m\u001b[1;36m1\u001b[0m\u001b[1;33m]\u001b[0m\u001b[1;33m\u001b[0m\u001b[1;33m\u001b[0m\u001b[0m\n\u001b[0m\u001b[0;32m   2807\u001b[0m \u001b[1;33m\u001b[0m\u001b[0m\n\u001b[0;32m   2808\u001b[0m         \u001b[1;31m# take() does not accept boolean indexers\u001b[0m\u001b[1;33m\u001b[0m\u001b[1;33m\u001b[0m\u001b[1;33m\u001b[0m\u001b[0m\n",
            "\u001b[1;32m~\\Anaconda3\\lib\\site-packages\\pandas\\core\\indexing.py\u001b[0m in \u001b[0;36m_get_listlike_indexer\u001b[1;34m(self, key, axis, raise_missing)\u001b[0m\n\u001b[0;32m   1550\u001b[0m \u001b[1;33m\u001b[0m\u001b[0m\n\u001b[0;32m   1551\u001b[0m         self._validate_read_indexer(\n\u001b[1;32m-> 1552\u001b[1;33m             \u001b[0mkeyarr\u001b[0m\u001b[1;33m,\u001b[0m \u001b[0mindexer\u001b[0m\u001b[1;33m,\u001b[0m \u001b[0mo\u001b[0m\u001b[1;33m.\u001b[0m\u001b[0m_get_axis_number\u001b[0m\u001b[1;33m(\u001b[0m\u001b[0maxis\u001b[0m\u001b[1;33m)\u001b[0m\u001b[1;33m,\u001b[0m \u001b[0mraise_missing\u001b[0m\u001b[1;33m=\u001b[0m\u001b[0mraise_missing\u001b[0m\u001b[1;33m\u001b[0m\u001b[1;33m\u001b[0m\u001b[0m\n\u001b[0m\u001b[0;32m   1553\u001b[0m         )\n\u001b[0;32m   1554\u001b[0m         \u001b[1;32mreturn\u001b[0m \u001b[0mkeyarr\u001b[0m\u001b[1;33m,\u001b[0m \u001b[0mindexer\u001b[0m\u001b[1;33m\u001b[0m\u001b[1;33m\u001b[0m\u001b[0m\n",
            "\u001b[1;32m~\\Anaconda3\\lib\\site-packages\\pandas\\core\\indexing.py\u001b[0m in \u001b[0;36m_validate_read_indexer\u001b[1;34m(self, key, indexer, axis, raise_missing)\u001b[0m\n\u001b[0;32m   1643\u001b[0m             \u001b[1;32mif\u001b[0m \u001b[1;32mnot\u001b[0m \u001b[1;33m(\u001b[0m\u001b[0mself\u001b[0m\u001b[1;33m.\u001b[0m\u001b[0mname\u001b[0m \u001b[1;33m==\u001b[0m \u001b[1;34m\"loc\"\u001b[0m \u001b[1;32mand\u001b[0m \u001b[1;32mnot\u001b[0m \u001b[0mraise_missing\u001b[0m\u001b[1;33m)\u001b[0m\u001b[1;33m:\u001b[0m\u001b[1;33m\u001b[0m\u001b[1;33m\u001b[0m\u001b[0m\n\u001b[0;32m   1644\u001b[0m                 \u001b[0mnot_found\u001b[0m \u001b[1;33m=\u001b[0m \u001b[0mlist\u001b[0m\u001b[1;33m(\u001b[0m\u001b[0mset\u001b[0m\u001b[1;33m(\u001b[0m\u001b[0mkey\u001b[0m\u001b[1;33m)\u001b[0m \u001b[1;33m-\u001b[0m \u001b[0mset\u001b[0m\u001b[1;33m(\u001b[0m\u001b[0max\u001b[0m\u001b[1;33m)\u001b[0m\u001b[1;33m)\u001b[0m\u001b[1;33m\u001b[0m\u001b[1;33m\u001b[0m\u001b[0m\n\u001b[1;32m-> 1645\u001b[1;33m                 \u001b[1;32mraise\u001b[0m \u001b[0mKeyError\u001b[0m\u001b[1;33m(\u001b[0m\u001b[1;34mf\"{not_found} not in index\"\u001b[0m\u001b[1;33m)\u001b[0m\u001b[1;33m\u001b[0m\u001b[1;33m\u001b[0m\u001b[0m\n\u001b[0m\u001b[0;32m   1646\u001b[0m \u001b[1;33m\u001b[0m\u001b[0m\n\u001b[0;32m   1647\u001b[0m             \u001b[1;31m# we skip the warning on Categorical/Interval\u001b[0m\u001b[1;33m\u001b[0m\u001b[1;33m\u001b[0m\u001b[1;33m\u001b[0m\u001b[0m\n",
            "\u001b[1;31mKeyError\u001b[0m: \"['trafficSource.campaignCode'] not in index\""
          ]
        }
      ]
    },
    {
      "cell_type": "code",
      "metadata": {
        "collapsed": true,
        "colab_type": "code",
        "outputId": "ea51a6d8-33b8-4e3c-8437-a84afd427fd5",
        "id": "d56wGKbNOFlG",
        "colab": {}
      },
      "source": [
        "# make sure the columns are in the same order in both train and test.\n",
        "# the deepcopy is just to have a copy of the original even after joining them\n",
        "col_order = list(set(traindata.columns.tolist() + testdata.columns.tolist()))\n",
        "traindata = deepcopy(traindata[col_order])\n",
        "testdata = deepcopy(testdata[col_order])"
      ],
      "execution_count": 0,
      "outputs": [
        {
          "output_type": "error",
          "ename": "KeyError",
          "evalue": "\"['trafficSource.campaignCode'] not in index\"",
          "traceback": [
            "\u001b[1;31m---------------------------------------------------------------------------\u001b[0m",
            "\u001b[1;31mKeyError\u001b[0m                                  Traceback (most recent call last)",
            "\u001b[1;32m<ipython-input-6-372976850aa0>\u001b[0m in \u001b[0;36m<module>\u001b[1;34m\u001b[0m\n\u001b[0;32m      3\u001b[0m \u001b[0mcol_order\u001b[0m \u001b[1;33m=\u001b[0m \u001b[0mlist\u001b[0m\u001b[1;33m(\u001b[0m\u001b[0mset\u001b[0m\u001b[1;33m(\u001b[0m\u001b[0mtraindata\u001b[0m\u001b[1;33m.\u001b[0m\u001b[0mcolumns\u001b[0m\u001b[1;33m.\u001b[0m\u001b[0mtolist\u001b[0m\u001b[1;33m(\u001b[0m\u001b[1;33m)\u001b[0m \u001b[1;33m+\u001b[0m \u001b[0mtestdata\u001b[0m\u001b[1;33m.\u001b[0m\u001b[0mcolumns\u001b[0m\u001b[1;33m.\u001b[0m\u001b[0mtolist\u001b[0m\u001b[1;33m(\u001b[0m\u001b[1;33m)\u001b[0m\u001b[1;33m)\u001b[0m\u001b[1;33m)\u001b[0m\u001b[1;33m\u001b[0m\u001b[1;33m\u001b[0m\u001b[0m\n\u001b[0;32m      4\u001b[0m \u001b[0mtraindata\u001b[0m \u001b[1;33m=\u001b[0m \u001b[0mdeepcopy\u001b[0m\u001b[1;33m(\u001b[0m\u001b[0mtraindata\u001b[0m\u001b[1;33m[\u001b[0m\u001b[0mcol_order\u001b[0m\u001b[1;33m]\u001b[0m\u001b[1;33m)\u001b[0m\u001b[1;33m\u001b[0m\u001b[1;33m\u001b[0m\u001b[0m\n\u001b[1;32m----> 5\u001b[1;33m \u001b[0mtestdata\u001b[0m \u001b[1;33m=\u001b[0m \u001b[0mdeepcopy\u001b[0m\u001b[1;33m(\u001b[0m\u001b[0mtestdata\u001b[0m\u001b[1;33m[\u001b[0m\u001b[0mcol_order\u001b[0m\u001b[1;33m]\u001b[0m\u001b[1;33m)\u001b[0m\u001b[1;33m\u001b[0m\u001b[1;33m\u001b[0m\u001b[0m\n\u001b[0m",
            "\u001b[1;32m~\\Anaconda3\\lib\\site-packages\\pandas\\core\\frame.py\u001b[0m in \u001b[0;36m__getitem__\u001b[1;34m(self, key)\u001b[0m\n\u001b[0;32m   2804\u001b[0m             \u001b[1;32mif\u001b[0m \u001b[0mis_iterator\u001b[0m\u001b[1;33m(\u001b[0m\u001b[0mkey\u001b[0m\u001b[1;33m)\u001b[0m\u001b[1;33m:\u001b[0m\u001b[1;33m\u001b[0m\u001b[1;33m\u001b[0m\u001b[0m\n\u001b[0;32m   2805\u001b[0m                 \u001b[0mkey\u001b[0m \u001b[1;33m=\u001b[0m \u001b[0mlist\u001b[0m\u001b[1;33m(\u001b[0m\u001b[0mkey\u001b[0m\u001b[1;33m)\u001b[0m\u001b[1;33m\u001b[0m\u001b[1;33m\u001b[0m\u001b[0m\n\u001b[1;32m-> 2806\u001b[1;33m             \u001b[0mindexer\u001b[0m \u001b[1;33m=\u001b[0m \u001b[0mself\u001b[0m\u001b[1;33m.\u001b[0m\u001b[0mloc\u001b[0m\u001b[1;33m.\u001b[0m\u001b[0m_get_listlike_indexer\u001b[0m\u001b[1;33m(\u001b[0m\u001b[0mkey\u001b[0m\u001b[1;33m,\u001b[0m \u001b[0maxis\u001b[0m\u001b[1;33m=\u001b[0m\u001b[1;36m1\u001b[0m\u001b[1;33m,\u001b[0m \u001b[0mraise_missing\u001b[0m\u001b[1;33m=\u001b[0m\u001b[1;32mTrue\u001b[0m\u001b[1;33m)\u001b[0m\u001b[1;33m[\u001b[0m\u001b[1;36m1\u001b[0m\u001b[1;33m]\u001b[0m\u001b[1;33m\u001b[0m\u001b[1;33m\u001b[0m\u001b[0m\n\u001b[0m\u001b[0;32m   2807\u001b[0m \u001b[1;33m\u001b[0m\u001b[0m\n\u001b[0;32m   2808\u001b[0m         \u001b[1;31m# take() does not accept boolean indexers\u001b[0m\u001b[1;33m\u001b[0m\u001b[1;33m\u001b[0m\u001b[1;33m\u001b[0m\u001b[0m\n",
            "\u001b[1;32m~\\Anaconda3\\lib\\site-packages\\pandas\\core\\indexing.py\u001b[0m in \u001b[0;36m_get_listlike_indexer\u001b[1;34m(self, key, axis, raise_missing)\u001b[0m\n\u001b[0;32m   1550\u001b[0m \u001b[1;33m\u001b[0m\u001b[0m\n\u001b[0;32m   1551\u001b[0m         self._validate_read_indexer(\n\u001b[1;32m-> 1552\u001b[1;33m             \u001b[0mkeyarr\u001b[0m\u001b[1;33m,\u001b[0m \u001b[0mindexer\u001b[0m\u001b[1;33m,\u001b[0m \u001b[0mo\u001b[0m\u001b[1;33m.\u001b[0m\u001b[0m_get_axis_number\u001b[0m\u001b[1;33m(\u001b[0m\u001b[0maxis\u001b[0m\u001b[1;33m)\u001b[0m\u001b[1;33m,\u001b[0m \u001b[0mraise_missing\u001b[0m\u001b[1;33m=\u001b[0m\u001b[0mraise_missing\u001b[0m\u001b[1;33m\u001b[0m\u001b[1;33m\u001b[0m\u001b[0m\n\u001b[0m\u001b[0;32m   1553\u001b[0m         )\n\u001b[0;32m   1554\u001b[0m         \u001b[1;32mreturn\u001b[0m \u001b[0mkeyarr\u001b[0m\u001b[1;33m,\u001b[0m \u001b[0mindexer\u001b[0m\u001b[1;33m\u001b[0m\u001b[1;33m\u001b[0m\u001b[0m\n",
            "\u001b[1;32m~\\Anaconda3\\lib\\site-packages\\pandas\\core\\indexing.py\u001b[0m in \u001b[0;36m_validate_read_indexer\u001b[1;34m(self, key, indexer, axis, raise_missing)\u001b[0m\n\u001b[0;32m   1643\u001b[0m             \u001b[1;32mif\u001b[0m \u001b[1;32mnot\u001b[0m \u001b[1;33m(\u001b[0m\u001b[0mself\u001b[0m\u001b[1;33m.\u001b[0m\u001b[0mname\u001b[0m \u001b[1;33m==\u001b[0m \u001b[1;34m\"loc\"\u001b[0m \u001b[1;32mand\u001b[0m \u001b[1;32mnot\u001b[0m \u001b[0mraise_missing\u001b[0m\u001b[1;33m)\u001b[0m\u001b[1;33m:\u001b[0m\u001b[1;33m\u001b[0m\u001b[1;33m\u001b[0m\u001b[0m\n\u001b[0;32m   1644\u001b[0m                 \u001b[0mnot_found\u001b[0m \u001b[1;33m=\u001b[0m \u001b[0mlist\u001b[0m\u001b[1;33m(\u001b[0m\u001b[0mset\u001b[0m\u001b[1;33m(\u001b[0m\u001b[0mkey\u001b[0m\u001b[1;33m)\u001b[0m \u001b[1;33m-\u001b[0m \u001b[0mset\u001b[0m\u001b[1;33m(\u001b[0m\u001b[0max\u001b[0m\u001b[1;33m)\u001b[0m\u001b[1;33m)\u001b[0m\u001b[1;33m\u001b[0m\u001b[1;33m\u001b[0m\u001b[0m\n\u001b[1;32m-> 1645\u001b[1;33m                 \u001b[1;32mraise\u001b[0m \u001b[0mKeyError\u001b[0m\u001b[1;33m(\u001b[0m\u001b[1;34mf\"{not_found} not in index\"\u001b[0m\u001b[1;33m)\u001b[0m\u001b[1;33m\u001b[0m\u001b[1;33m\u001b[0m\u001b[0m\n\u001b[0m\u001b[0;32m   1646\u001b[0m \u001b[1;33m\u001b[0m\u001b[0m\n\u001b[0;32m   1647\u001b[0m             \u001b[1;31m# we skip the warning on Categorical/Interval\u001b[0m\u001b[1;33m\u001b[0m\u001b[1;33m\u001b[0m\u001b[1;33m\u001b[0m\u001b[0m\n",
            "\u001b[1;31mKeyError\u001b[0m: \"['trafficSource.campaignCode'] not in index\""
          ]
        }
      ]
    },
    {
      "cell_type": "code",
      "metadata": {
        "collapsed": true,
        "colab_type": "code",
        "outputId": "ea51a6d8-33b8-4e3c-8437-a84afd427fd5",
        "id": "wkXruonrOFIx",
        "colab": {}
      },
      "source": [
        "# make sure the columns are in the same order in both train and test.\n",
        "# the deepcopy is just to have a copy of the original even after joining them\n",
        "col_order = list(set(traindata.columns.tolist() + testdata.columns.tolist()))\n",
        "traindata = deepcopy(traindata[col_order])\n",
        "testdata = deepcopy(testdata[col_order])"
      ],
      "execution_count": 0,
      "outputs": [
        {
          "output_type": "error",
          "ename": "KeyError",
          "evalue": "\"['trafficSource.campaignCode'] not in index\"",
          "traceback": [
            "\u001b[1;31m---------------------------------------------------------------------------\u001b[0m",
            "\u001b[1;31mKeyError\u001b[0m                                  Traceback (most recent call last)",
            "\u001b[1;32m<ipython-input-6-372976850aa0>\u001b[0m in \u001b[0;36m<module>\u001b[1;34m\u001b[0m\n\u001b[0;32m      3\u001b[0m \u001b[0mcol_order\u001b[0m \u001b[1;33m=\u001b[0m \u001b[0mlist\u001b[0m\u001b[1;33m(\u001b[0m\u001b[0mset\u001b[0m\u001b[1;33m(\u001b[0m\u001b[0mtraindata\u001b[0m\u001b[1;33m.\u001b[0m\u001b[0mcolumns\u001b[0m\u001b[1;33m.\u001b[0m\u001b[0mtolist\u001b[0m\u001b[1;33m(\u001b[0m\u001b[1;33m)\u001b[0m \u001b[1;33m+\u001b[0m \u001b[0mtestdata\u001b[0m\u001b[1;33m.\u001b[0m\u001b[0mcolumns\u001b[0m\u001b[1;33m.\u001b[0m\u001b[0mtolist\u001b[0m\u001b[1;33m(\u001b[0m\u001b[1;33m)\u001b[0m\u001b[1;33m)\u001b[0m\u001b[1;33m)\u001b[0m\u001b[1;33m\u001b[0m\u001b[1;33m\u001b[0m\u001b[0m\n\u001b[0;32m      4\u001b[0m \u001b[0mtraindata\u001b[0m \u001b[1;33m=\u001b[0m \u001b[0mdeepcopy\u001b[0m\u001b[1;33m(\u001b[0m\u001b[0mtraindata\u001b[0m\u001b[1;33m[\u001b[0m\u001b[0mcol_order\u001b[0m\u001b[1;33m]\u001b[0m\u001b[1;33m)\u001b[0m\u001b[1;33m\u001b[0m\u001b[1;33m\u001b[0m\u001b[0m\n\u001b[1;32m----> 5\u001b[1;33m \u001b[0mtestdata\u001b[0m \u001b[1;33m=\u001b[0m \u001b[0mdeepcopy\u001b[0m\u001b[1;33m(\u001b[0m\u001b[0mtestdata\u001b[0m\u001b[1;33m[\u001b[0m\u001b[0mcol_order\u001b[0m\u001b[1;33m]\u001b[0m\u001b[1;33m)\u001b[0m\u001b[1;33m\u001b[0m\u001b[1;33m\u001b[0m\u001b[0m\n\u001b[0m",
            "\u001b[1;32m~\\Anaconda3\\lib\\site-packages\\pandas\\core\\frame.py\u001b[0m in \u001b[0;36m__getitem__\u001b[1;34m(self, key)\u001b[0m\n\u001b[0;32m   2804\u001b[0m             \u001b[1;32mif\u001b[0m \u001b[0mis_iterator\u001b[0m\u001b[1;33m(\u001b[0m\u001b[0mkey\u001b[0m\u001b[1;33m)\u001b[0m\u001b[1;33m:\u001b[0m\u001b[1;33m\u001b[0m\u001b[1;33m\u001b[0m\u001b[0m\n\u001b[0;32m   2805\u001b[0m                 \u001b[0mkey\u001b[0m \u001b[1;33m=\u001b[0m \u001b[0mlist\u001b[0m\u001b[1;33m(\u001b[0m\u001b[0mkey\u001b[0m\u001b[1;33m)\u001b[0m\u001b[1;33m\u001b[0m\u001b[1;33m\u001b[0m\u001b[0m\n\u001b[1;32m-> 2806\u001b[1;33m             \u001b[0mindexer\u001b[0m \u001b[1;33m=\u001b[0m \u001b[0mself\u001b[0m\u001b[1;33m.\u001b[0m\u001b[0mloc\u001b[0m\u001b[1;33m.\u001b[0m\u001b[0m_get_listlike_indexer\u001b[0m\u001b[1;33m(\u001b[0m\u001b[0mkey\u001b[0m\u001b[1;33m,\u001b[0m \u001b[0maxis\u001b[0m\u001b[1;33m=\u001b[0m\u001b[1;36m1\u001b[0m\u001b[1;33m,\u001b[0m \u001b[0mraise_missing\u001b[0m\u001b[1;33m=\u001b[0m\u001b[1;32mTrue\u001b[0m\u001b[1;33m)\u001b[0m\u001b[1;33m[\u001b[0m\u001b[1;36m1\u001b[0m\u001b[1;33m]\u001b[0m\u001b[1;33m\u001b[0m\u001b[1;33m\u001b[0m\u001b[0m\n\u001b[0m\u001b[0;32m   2807\u001b[0m \u001b[1;33m\u001b[0m\u001b[0m\n\u001b[0;32m   2808\u001b[0m         \u001b[1;31m# take() does not accept boolean indexers\u001b[0m\u001b[1;33m\u001b[0m\u001b[1;33m\u001b[0m\u001b[1;33m\u001b[0m\u001b[0m\n",
            "\u001b[1;32m~\\Anaconda3\\lib\\site-packages\\pandas\\core\\indexing.py\u001b[0m in \u001b[0;36m_get_listlike_indexer\u001b[1;34m(self, key, axis, raise_missing)\u001b[0m\n\u001b[0;32m   1550\u001b[0m \u001b[1;33m\u001b[0m\u001b[0m\n\u001b[0;32m   1551\u001b[0m         self._validate_read_indexer(\n\u001b[1;32m-> 1552\u001b[1;33m             \u001b[0mkeyarr\u001b[0m\u001b[1;33m,\u001b[0m \u001b[0mindexer\u001b[0m\u001b[1;33m,\u001b[0m \u001b[0mo\u001b[0m\u001b[1;33m.\u001b[0m\u001b[0m_get_axis_number\u001b[0m\u001b[1;33m(\u001b[0m\u001b[0maxis\u001b[0m\u001b[1;33m)\u001b[0m\u001b[1;33m,\u001b[0m \u001b[0mraise_missing\u001b[0m\u001b[1;33m=\u001b[0m\u001b[0mraise_missing\u001b[0m\u001b[1;33m\u001b[0m\u001b[1;33m\u001b[0m\u001b[0m\n\u001b[0m\u001b[0;32m   1553\u001b[0m         )\n\u001b[0;32m   1554\u001b[0m         \u001b[1;32mreturn\u001b[0m \u001b[0mkeyarr\u001b[0m\u001b[1;33m,\u001b[0m \u001b[0mindexer\u001b[0m\u001b[1;33m\u001b[0m\u001b[1;33m\u001b[0m\u001b[0m\n",
            "\u001b[1;32m~\\Anaconda3\\lib\\site-packages\\pandas\\core\\indexing.py\u001b[0m in \u001b[0;36m_validate_read_indexer\u001b[1;34m(self, key, indexer, axis, raise_missing)\u001b[0m\n\u001b[0;32m   1643\u001b[0m             \u001b[1;32mif\u001b[0m \u001b[1;32mnot\u001b[0m \u001b[1;33m(\u001b[0m\u001b[0mself\u001b[0m\u001b[1;33m.\u001b[0m\u001b[0mname\u001b[0m \u001b[1;33m==\u001b[0m \u001b[1;34m\"loc\"\u001b[0m \u001b[1;32mand\u001b[0m \u001b[1;32mnot\u001b[0m \u001b[0mraise_missing\u001b[0m\u001b[1;33m)\u001b[0m\u001b[1;33m:\u001b[0m\u001b[1;33m\u001b[0m\u001b[1;33m\u001b[0m\u001b[0m\n\u001b[0;32m   1644\u001b[0m                 \u001b[0mnot_found\u001b[0m \u001b[1;33m=\u001b[0m \u001b[0mlist\u001b[0m\u001b[1;33m(\u001b[0m\u001b[0mset\u001b[0m\u001b[1;33m(\u001b[0m\u001b[0mkey\u001b[0m\u001b[1;33m)\u001b[0m \u001b[1;33m-\u001b[0m \u001b[0mset\u001b[0m\u001b[1;33m(\u001b[0m\u001b[0max\u001b[0m\u001b[1;33m)\u001b[0m\u001b[1;33m)\u001b[0m\u001b[1;33m\u001b[0m\u001b[1;33m\u001b[0m\u001b[0m\n\u001b[1;32m-> 1645\u001b[1;33m                 \u001b[1;32mraise\u001b[0m \u001b[0mKeyError\u001b[0m\u001b[1;33m(\u001b[0m\u001b[1;34mf\"{not_found} not in index\"\u001b[0m\u001b[1;33m)\u001b[0m\u001b[1;33m\u001b[0m\u001b[1;33m\u001b[0m\u001b[0m\n\u001b[0m\u001b[0;32m   1646\u001b[0m \u001b[1;33m\u001b[0m\u001b[0m\n\u001b[0;32m   1647\u001b[0m             \u001b[1;31m# we skip the warning on Categorical/Interval\u001b[0m\u001b[1;33m\u001b[0m\u001b[1;33m\u001b[0m\u001b[1;33m\u001b[0m\u001b[0m\n",
            "\u001b[1;31mKeyError\u001b[0m: \"['trafficSource.campaignCode'] not in index\""
          ]
        }
      ]
    },
    {
      "cell_type": "code",
      "metadata": {
        "collapsed": true,
        "colab_type": "code",
        "outputId": "ea51a6d8-33b8-4e3c-8437-a84afd427fd5",
        "id": "eH1V1UpSOEXZ",
        "colab": {}
      },
      "source": [
        "# make sure the columns are in the same order in both train and test.\n",
        "# the deepcopy is just to have a copy of the original even after joining them\n",
        "col_order = list(set(traindata.columns.tolist() + testdata.columns.tolist()))\n",
        "traindata = deepcopy(traindata[col_order])\n",
        "testdata = deepcopy(testdata[col_order])"
      ],
      "execution_count": 0,
      "outputs": [
        {
          "output_type": "error",
          "ename": "KeyError",
          "evalue": "\"['trafficSource.campaignCode'] not in index\"",
          "traceback": [
            "\u001b[1;31m---------------------------------------------------------------------------\u001b[0m",
            "\u001b[1;31mKeyError\u001b[0m                                  Traceback (most recent call last)",
            "\u001b[1;32m<ipython-input-6-372976850aa0>\u001b[0m in \u001b[0;36m<module>\u001b[1;34m\u001b[0m\n\u001b[0;32m      3\u001b[0m \u001b[0mcol_order\u001b[0m \u001b[1;33m=\u001b[0m \u001b[0mlist\u001b[0m\u001b[1;33m(\u001b[0m\u001b[0mset\u001b[0m\u001b[1;33m(\u001b[0m\u001b[0mtraindata\u001b[0m\u001b[1;33m.\u001b[0m\u001b[0mcolumns\u001b[0m\u001b[1;33m.\u001b[0m\u001b[0mtolist\u001b[0m\u001b[1;33m(\u001b[0m\u001b[1;33m)\u001b[0m \u001b[1;33m+\u001b[0m \u001b[0mtestdata\u001b[0m\u001b[1;33m.\u001b[0m\u001b[0mcolumns\u001b[0m\u001b[1;33m.\u001b[0m\u001b[0mtolist\u001b[0m\u001b[1;33m(\u001b[0m\u001b[1;33m)\u001b[0m\u001b[1;33m)\u001b[0m\u001b[1;33m)\u001b[0m\u001b[1;33m\u001b[0m\u001b[1;33m\u001b[0m\u001b[0m\n\u001b[0;32m      4\u001b[0m \u001b[0mtraindata\u001b[0m \u001b[1;33m=\u001b[0m \u001b[0mdeepcopy\u001b[0m\u001b[1;33m(\u001b[0m\u001b[0mtraindata\u001b[0m\u001b[1;33m[\u001b[0m\u001b[0mcol_order\u001b[0m\u001b[1;33m]\u001b[0m\u001b[1;33m)\u001b[0m\u001b[1;33m\u001b[0m\u001b[1;33m\u001b[0m\u001b[0m\n\u001b[1;32m----> 5\u001b[1;33m \u001b[0mtestdata\u001b[0m \u001b[1;33m=\u001b[0m \u001b[0mdeepcopy\u001b[0m\u001b[1;33m(\u001b[0m\u001b[0mtestdata\u001b[0m\u001b[1;33m[\u001b[0m\u001b[0mcol_order\u001b[0m\u001b[1;33m]\u001b[0m\u001b[1;33m)\u001b[0m\u001b[1;33m\u001b[0m\u001b[1;33m\u001b[0m\u001b[0m\n\u001b[0m",
            "\u001b[1;32m~\\Anaconda3\\lib\\site-packages\\pandas\\core\\frame.py\u001b[0m in \u001b[0;36m__getitem__\u001b[1;34m(self, key)\u001b[0m\n\u001b[0;32m   2804\u001b[0m             \u001b[1;32mif\u001b[0m \u001b[0mis_iterator\u001b[0m\u001b[1;33m(\u001b[0m\u001b[0mkey\u001b[0m\u001b[1;33m)\u001b[0m\u001b[1;33m:\u001b[0m\u001b[1;33m\u001b[0m\u001b[1;33m\u001b[0m\u001b[0m\n\u001b[0;32m   2805\u001b[0m                 \u001b[0mkey\u001b[0m \u001b[1;33m=\u001b[0m \u001b[0mlist\u001b[0m\u001b[1;33m(\u001b[0m\u001b[0mkey\u001b[0m\u001b[1;33m)\u001b[0m\u001b[1;33m\u001b[0m\u001b[1;33m\u001b[0m\u001b[0m\n\u001b[1;32m-> 2806\u001b[1;33m             \u001b[0mindexer\u001b[0m \u001b[1;33m=\u001b[0m \u001b[0mself\u001b[0m\u001b[1;33m.\u001b[0m\u001b[0mloc\u001b[0m\u001b[1;33m.\u001b[0m\u001b[0m_get_listlike_indexer\u001b[0m\u001b[1;33m(\u001b[0m\u001b[0mkey\u001b[0m\u001b[1;33m,\u001b[0m \u001b[0maxis\u001b[0m\u001b[1;33m=\u001b[0m\u001b[1;36m1\u001b[0m\u001b[1;33m,\u001b[0m \u001b[0mraise_missing\u001b[0m\u001b[1;33m=\u001b[0m\u001b[1;32mTrue\u001b[0m\u001b[1;33m)\u001b[0m\u001b[1;33m[\u001b[0m\u001b[1;36m1\u001b[0m\u001b[1;33m]\u001b[0m\u001b[1;33m\u001b[0m\u001b[1;33m\u001b[0m\u001b[0m\n\u001b[0m\u001b[0;32m   2807\u001b[0m \u001b[1;33m\u001b[0m\u001b[0m\n\u001b[0;32m   2808\u001b[0m         \u001b[1;31m# take() does not accept boolean indexers\u001b[0m\u001b[1;33m\u001b[0m\u001b[1;33m\u001b[0m\u001b[1;33m\u001b[0m\u001b[0m\n",
            "\u001b[1;32m~\\Anaconda3\\lib\\site-packages\\pandas\\core\\indexing.py\u001b[0m in \u001b[0;36m_get_listlike_indexer\u001b[1;34m(self, key, axis, raise_missing)\u001b[0m\n\u001b[0;32m   1550\u001b[0m \u001b[1;33m\u001b[0m\u001b[0m\n\u001b[0;32m   1551\u001b[0m         self._validate_read_indexer(\n\u001b[1;32m-> 1552\u001b[1;33m             \u001b[0mkeyarr\u001b[0m\u001b[1;33m,\u001b[0m \u001b[0mindexer\u001b[0m\u001b[1;33m,\u001b[0m \u001b[0mo\u001b[0m\u001b[1;33m.\u001b[0m\u001b[0m_get_axis_number\u001b[0m\u001b[1;33m(\u001b[0m\u001b[0maxis\u001b[0m\u001b[1;33m)\u001b[0m\u001b[1;33m,\u001b[0m \u001b[0mraise_missing\u001b[0m\u001b[1;33m=\u001b[0m\u001b[0mraise_missing\u001b[0m\u001b[1;33m\u001b[0m\u001b[1;33m\u001b[0m\u001b[0m\n\u001b[0m\u001b[0;32m   1553\u001b[0m         )\n\u001b[0;32m   1554\u001b[0m         \u001b[1;32mreturn\u001b[0m \u001b[0mkeyarr\u001b[0m\u001b[1;33m,\u001b[0m \u001b[0mindexer\u001b[0m\u001b[1;33m\u001b[0m\u001b[1;33m\u001b[0m\u001b[0m\n",
            "\u001b[1;32m~\\Anaconda3\\lib\\site-packages\\pandas\\core\\indexing.py\u001b[0m in \u001b[0;36m_validate_read_indexer\u001b[1;34m(self, key, indexer, axis, raise_missing)\u001b[0m\n\u001b[0;32m   1643\u001b[0m             \u001b[1;32mif\u001b[0m \u001b[1;32mnot\u001b[0m \u001b[1;33m(\u001b[0m\u001b[0mself\u001b[0m\u001b[1;33m.\u001b[0m\u001b[0mname\u001b[0m \u001b[1;33m==\u001b[0m \u001b[1;34m\"loc\"\u001b[0m \u001b[1;32mand\u001b[0m \u001b[1;32mnot\u001b[0m \u001b[0mraise_missing\u001b[0m\u001b[1;33m)\u001b[0m\u001b[1;33m:\u001b[0m\u001b[1;33m\u001b[0m\u001b[1;33m\u001b[0m\u001b[0m\n\u001b[0;32m   1644\u001b[0m                 \u001b[0mnot_found\u001b[0m \u001b[1;33m=\u001b[0m \u001b[0mlist\u001b[0m\u001b[1;33m(\u001b[0m\u001b[0mset\u001b[0m\u001b[1;33m(\u001b[0m\u001b[0mkey\u001b[0m\u001b[1;33m)\u001b[0m \u001b[1;33m-\u001b[0m \u001b[0mset\u001b[0m\u001b[1;33m(\u001b[0m\u001b[0max\u001b[0m\u001b[1;33m)\u001b[0m\u001b[1;33m)\u001b[0m\u001b[1;33m\u001b[0m\u001b[1;33m\u001b[0m\u001b[0m\n\u001b[1;32m-> 1645\u001b[1;33m                 \u001b[1;32mraise\u001b[0m \u001b[0mKeyError\u001b[0m\u001b[1;33m(\u001b[0m\u001b[1;34mf\"{not_found} not in index\"\u001b[0m\u001b[1;33m)\u001b[0m\u001b[1;33m\u001b[0m\u001b[1;33m\u001b[0m\u001b[0m\n\u001b[0m\u001b[0;32m   1646\u001b[0m \u001b[1;33m\u001b[0m\u001b[0m\n\u001b[0;32m   1647\u001b[0m             \u001b[1;31m# we skip the warning on Categorical/Interval\u001b[0m\u001b[1;33m\u001b[0m\u001b[1;33m\u001b[0m\u001b[1;33m\u001b[0m\u001b[0m\n",
            "\u001b[1;31mKeyError\u001b[0m: \"['trafficSource.campaignCode'] not in index\""
          ]
        }
      ]
    },
    {
      "cell_type": "code",
      "metadata": {
        "collapsed": true,
        "id": "4ZhF9EflNcyT",
        "colab_type": "code",
        "outputId": "ea51a6d8-33b8-4e3c-8437-a84afd427fd5",
        "colab": {}
      },
      "source": [
        "# make sure the columns are in the same order in both train and test.\n",
        "# the deepcopy is just to have a copy of the original even after joining them\n",
        "col_order = list(set(traindata.columns.tolist() + testdata.columns.tolist()))\n",
        "traindata = deepcopy(traindata[col_order])\n",
        "testdata = deepcopy(testdata[col_order])"
      ],
      "execution_count": 0,
      "outputs": [
        {
          "output_type": "error",
          "ename": "KeyError",
          "evalue": "\"['trafficSource.campaignCode'] not in index\"",
          "traceback": [
            "\u001b[1;31m---------------------------------------------------------------------------\u001b[0m",
            "\u001b[1;31mKeyError\u001b[0m                                  Traceback (most recent call last)",
            "\u001b[1;32m<ipython-input-6-372976850aa0>\u001b[0m in \u001b[0;36m<module>\u001b[1;34m\u001b[0m\n\u001b[0;32m      3\u001b[0m \u001b[0mcol_order\u001b[0m \u001b[1;33m=\u001b[0m \u001b[0mlist\u001b[0m\u001b[1;33m(\u001b[0m\u001b[0mset\u001b[0m\u001b[1;33m(\u001b[0m\u001b[0mtraindata\u001b[0m\u001b[1;33m.\u001b[0m\u001b[0mcolumns\u001b[0m\u001b[1;33m.\u001b[0m\u001b[0mtolist\u001b[0m\u001b[1;33m(\u001b[0m\u001b[1;33m)\u001b[0m \u001b[1;33m+\u001b[0m \u001b[0mtestdata\u001b[0m\u001b[1;33m.\u001b[0m\u001b[0mcolumns\u001b[0m\u001b[1;33m.\u001b[0m\u001b[0mtolist\u001b[0m\u001b[1;33m(\u001b[0m\u001b[1;33m)\u001b[0m\u001b[1;33m)\u001b[0m\u001b[1;33m)\u001b[0m\u001b[1;33m\u001b[0m\u001b[1;33m\u001b[0m\u001b[0m\n\u001b[0;32m      4\u001b[0m \u001b[0mtraindata\u001b[0m \u001b[1;33m=\u001b[0m \u001b[0mdeepcopy\u001b[0m\u001b[1;33m(\u001b[0m\u001b[0mtraindata\u001b[0m\u001b[1;33m[\u001b[0m\u001b[0mcol_order\u001b[0m\u001b[1;33m]\u001b[0m\u001b[1;33m)\u001b[0m\u001b[1;33m\u001b[0m\u001b[1;33m\u001b[0m\u001b[0m\n\u001b[1;32m----> 5\u001b[1;33m \u001b[0mtestdata\u001b[0m \u001b[1;33m=\u001b[0m \u001b[0mdeepcopy\u001b[0m\u001b[1;33m(\u001b[0m\u001b[0mtestdata\u001b[0m\u001b[1;33m[\u001b[0m\u001b[0mcol_order\u001b[0m\u001b[1;33m]\u001b[0m\u001b[1;33m)\u001b[0m\u001b[1;33m\u001b[0m\u001b[1;33m\u001b[0m\u001b[0m\n\u001b[0m",
            "\u001b[1;32m~\\Anaconda3\\lib\\site-packages\\pandas\\core\\frame.py\u001b[0m in \u001b[0;36m__getitem__\u001b[1;34m(self, key)\u001b[0m\n\u001b[0;32m   2804\u001b[0m             \u001b[1;32mif\u001b[0m \u001b[0mis_iterator\u001b[0m\u001b[1;33m(\u001b[0m\u001b[0mkey\u001b[0m\u001b[1;33m)\u001b[0m\u001b[1;33m:\u001b[0m\u001b[1;33m\u001b[0m\u001b[1;33m\u001b[0m\u001b[0m\n\u001b[0;32m   2805\u001b[0m                 \u001b[0mkey\u001b[0m \u001b[1;33m=\u001b[0m \u001b[0mlist\u001b[0m\u001b[1;33m(\u001b[0m\u001b[0mkey\u001b[0m\u001b[1;33m)\u001b[0m\u001b[1;33m\u001b[0m\u001b[1;33m\u001b[0m\u001b[0m\n\u001b[1;32m-> 2806\u001b[1;33m             \u001b[0mindexer\u001b[0m \u001b[1;33m=\u001b[0m \u001b[0mself\u001b[0m\u001b[1;33m.\u001b[0m\u001b[0mloc\u001b[0m\u001b[1;33m.\u001b[0m\u001b[0m_get_listlike_indexer\u001b[0m\u001b[1;33m(\u001b[0m\u001b[0mkey\u001b[0m\u001b[1;33m,\u001b[0m \u001b[0maxis\u001b[0m\u001b[1;33m=\u001b[0m\u001b[1;36m1\u001b[0m\u001b[1;33m,\u001b[0m \u001b[0mraise_missing\u001b[0m\u001b[1;33m=\u001b[0m\u001b[1;32mTrue\u001b[0m\u001b[1;33m)\u001b[0m\u001b[1;33m[\u001b[0m\u001b[1;36m1\u001b[0m\u001b[1;33m]\u001b[0m\u001b[1;33m\u001b[0m\u001b[1;33m\u001b[0m\u001b[0m\n\u001b[0m\u001b[0;32m   2807\u001b[0m \u001b[1;33m\u001b[0m\u001b[0m\n\u001b[0;32m   2808\u001b[0m         \u001b[1;31m# take() does not accept boolean indexers\u001b[0m\u001b[1;33m\u001b[0m\u001b[1;33m\u001b[0m\u001b[1;33m\u001b[0m\u001b[0m\n",
            "\u001b[1;32m~\\Anaconda3\\lib\\site-packages\\pandas\\core\\indexing.py\u001b[0m in \u001b[0;36m_get_listlike_indexer\u001b[1;34m(self, key, axis, raise_missing)\u001b[0m\n\u001b[0;32m   1550\u001b[0m \u001b[1;33m\u001b[0m\u001b[0m\n\u001b[0;32m   1551\u001b[0m         self._validate_read_indexer(\n\u001b[1;32m-> 1552\u001b[1;33m             \u001b[0mkeyarr\u001b[0m\u001b[1;33m,\u001b[0m \u001b[0mindexer\u001b[0m\u001b[1;33m,\u001b[0m \u001b[0mo\u001b[0m\u001b[1;33m.\u001b[0m\u001b[0m_get_axis_number\u001b[0m\u001b[1;33m(\u001b[0m\u001b[0maxis\u001b[0m\u001b[1;33m)\u001b[0m\u001b[1;33m,\u001b[0m \u001b[0mraise_missing\u001b[0m\u001b[1;33m=\u001b[0m\u001b[0mraise_missing\u001b[0m\u001b[1;33m\u001b[0m\u001b[1;33m\u001b[0m\u001b[0m\n\u001b[0m\u001b[0;32m   1553\u001b[0m         )\n\u001b[0;32m   1554\u001b[0m         \u001b[1;32mreturn\u001b[0m \u001b[0mkeyarr\u001b[0m\u001b[1;33m,\u001b[0m \u001b[0mindexer\u001b[0m\u001b[1;33m\u001b[0m\u001b[1;33m\u001b[0m\u001b[0m\n",
            "\u001b[1;32m~\\Anaconda3\\lib\\site-packages\\pandas\\core\\indexing.py\u001b[0m in \u001b[0;36m_validate_read_indexer\u001b[1;34m(self, key, indexer, axis, raise_missing)\u001b[0m\n\u001b[0;32m   1643\u001b[0m             \u001b[1;32mif\u001b[0m \u001b[1;32mnot\u001b[0m \u001b[1;33m(\u001b[0m\u001b[0mself\u001b[0m\u001b[1;33m.\u001b[0m\u001b[0mname\u001b[0m \u001b[1;33m==\u001b[0m \u001b[1;34m\"loc\"\u001b[0m \u001b[1;32mand\u001b[0m \u001b[1;32mnot\u001b[0m \u001b[0mraise_missing\u001b[0m\u001b[1;33m)\u001b[0m\u001b[1;33m:\u001b[0m\u001b[1;33m\u001b[0m\u001b[1;33m\u001b[0m\u001b[0m\n\u001b[0;32m   1644\u001b[0m                 \u001b[0mnot_found\u001b[0m \u001b[1;33m=\u001b[0m \u001b[0mlist\u001b[0m\u001b[1;33m(\u001b[0m\u001b[0mset\u001b[0m\u001b[1;33m(\u001b[0m\u001b[0mkey\u001b[0m\u001b[1;33m)\u001b[0m \u001b[1;33m-\u001b[0m \u001b[0mset\u001b[0m\u001b[1;33m(\u001b[0m\u001b[0max\u001b[0m\u001b[1;33m)\u001b[0m\u001b[1;33m)\u001b[0m\u001b[1;33m\u001b[0m\u001b[1;33m\u001b[0m\u001b[0m\n\u001b[1;32m-> 1645\u001b[1;33m                 \u001b[1;32mraise\u001b[0m \u001b[0mKeyError\u001b[0m\u001b[1;33m(\u001b[0m\u001b[1;34mf\"{not_found} not in index\"\u001b[0m\u001b[1;33m)\u001b[0m\u001b[1;33m\u001b[0m\u001b[1;33m\u001b[0m\u001b[0m\n\u001b[0m\u001b[0;32m   1646\u001b[0m \u001b[1;33m\u001b[0m\u001b[0m\n\u001b[0;32m   1647\u001b[0m             \u001b[1;31m# we skip the warning on Categorical/Interval\u001b[0m\u001b[1;33m\u001b[0m\u001b[1;33m\u001b[0m\u001b[1;33m\u001b[0m\u001b[0m\n",
            "\u001b[1;31mKeyError\u001b[0m: \"['trafficSource.campaignCode'] not in index\""
          ]
        }
      ]
    },
    {
      "cell_type": "code",
      "metadata": {
        "id": "V3tdVdFVqygy",
        "colab_type": "code",
        "outputId": "d7bc6f50-d3dd-4cd5-91ae-5d7e995b53fb",
        "colab": {
          "base_uri": "https://localhost:8080/",
          "height": 326
        }
      },
      "source": [
        "all_data.head()"
      ],
      "execution_count": 10,
      "outputs": [
        {
          "output_type": "execute_result",
          "data": {
            "text/html": [
              "<div>\n",
              "<style scoped>\n",
              "    .dataframe tbody tr th:only-of-type {\n",
              "        vertical-align: middle;\n",
              "    }\n",
              "\n",
              "    .dataframe tbody tr th {\n",
              "        vertical-align: top;\n",
              "    }\n",
              "\n",
              "    .dataframe thead th {\n",
              "        text-align: right;\n",
              "    }\n",
              "</style>\n",
              "<table border=\"1\" class=\"dataframe\">\n",
              "  <thead>\n",
              "    <tr style=\"text-align: right;\">\n",
              "      <th></th>\n",
              "      <th>trafficSource.adwordsClickInfo.slot</th>\n",
              "      <th>visitNumber</th>\n",
              "      <th>visitId</th>\n",
              "      <th>fullVisitorId</th>\n",
              "      <th>channelGrouping</th>\n",
              "      <th>customDimension.value</th>\n",
              "      <th>device.flashVersion</th>\n",
              "      <th>trafficSource.isTrueDirect</th>\n",
              "      <th>trafficSource.adwordsClickInfo.page</th>\n",
              "      <th>totals.totalTransactionRevenue</th>\n",
              "      <th>geoNetwork.region</th>\n",
              "      <th>trafficSource.adwordsClickInfo.isVideoAd</th>\n",
              "      <th>geoNetwork.city</th>\n",
              "      <th>trafficSource.adwordsClickInfo.gclId</th>\n",
              "      <th>device.mobileDeviceMarketingName</th>\n",
              "      <th>totals.newVisits</th>\n",
              "      <th>socialEngagementType</th>\n",
              "      <th>totals.sessionQualityDim</th>\n",
              "      <th>device.operatingSystemVersion</th>\n",
              "      <th>device.screenColors</th>\n",
              "      <th>device.language</th>\n",
              "      <th>trafficSource.referralPath</th>\n",
              "      <th>geoNetwork.cityId</th>\n",
              "      <th>dataset</th>\n",
              "      <th>totals.timeOnSite</th>\n",
              "      <th>trafficSource.source</th>\n",
              "      <th>device.mobileDeviceBranding</th>\n",
              "      <th>device.mobileInputSelector</th>\n",
              "      <th>device.browserSize</th>\n",
              "      <th>totals.transactions</th>\n",
              "      <th>geoNetwork.metro</th>\n",
              "      <th>device.operatingSystem</th>\n",
              "      <th>totals.visits</th>\n",
              "      <th>geoNetwork.networkLocation</th>\n",
              "      <th>customDimension.index</th>\n",
              "      <th>device.isMobile</th>\n",
              "      <th>trafficSource.medium</th>\n",
              "      <th>totals.hits</th>\n",
              "      <th>totals.transactionRevenue</th>\n",
              "      <th>device.mobileDeviceInfo</th>\n",
              "      <th>geoNetwork.latitude</th>\n",
              "      <th>trafficSource.keyword</th>\n",
              "      <th>visitStartTime</th>\n",
              "      <th>device.browser</th>\n",
              "      <th>device.browserVersion</th>\n",
              "      <th>trafficSource.adwordsClickInfo.criteriaParameters</th>\n",
              "      <th>device.mobileDeviceModel</th>\n",
              "      <th>geoNetwork.country</th>\n",
              "      <th>totals.bounces</th>\n",
              "      <th>geoNetwork.subContinent</th>\n",
              "      <th>geoNetwork.networkDomain</th>\n",
              "      <th>geoNetwork.continent</th>\n",
              "      <th>totals.pageviews</th>\n",
              "      <th>geoNetwork.longitude</th>\n",
              "      <th>trafficSource.adwordsClickInfo.adNetworkType</th>\n",
              "      <th>trafficSource.campaign</th>\n",
              "      <th>date</th>\n",
              "      <th>device.screenResolution</th>\n",
              "      <th>trafficSource.adContent</th>\n",
              "      <th>device.deviceCategory</th>\n",
              "    </tr>\n",
              "  </thead>\n",
              "  <tbody>\n",
              "    <tr>\n",
              "      <th>0</th>\n",
              "      <td>NaN</td>\n",
              "      <td>1</td>\n",
              "      <td>1508198450</td>\n",
              "      <td>3162355547410993243</td>\n",
              "      <td>Organic Search</td>\n",
              "      <td>EMEA</td>\n",
              "      <td>not available in demo dataset</td>\n",
              "      <td>NaN</td>\n",
              "      <td>NaN</td>\n",
              "      <td>NaN</td>\n",
              "      <td>not available in demo dataset</td>\n",
              "      <td>NaN</td>\n",
              "      <td>not available in demo dataset</td>\n",
              "      <td>NaN</td>\n",
              "      <td>not available in demo dataset</td>\n",
              "      <td>1</td>\n",
              "      <td>Not Socially Engaged</td>\n",
              "      <td>1</td>\n",
              "      <td>not available in demo dataset</td>\n",
              "      <td>not available in demo dataset</td>\n",
              "      <td>not available in demo dataset</td>\n",
              "      <td>NaN</td>\n",
              "      <td>not available in demo dataset</td>\n",
              "      <td>train</td>\n",
              "      <td>NaN</td>\n",
              "      <td>google</td>\n",
              "      <td>not available in demo dataset</td>\n",
              "      <td>not available in demo dataset</td>\n",
              "      <td>not available in demo dataset</td>\n",
              "      <td>NaN</td>\n",
              "      <td>not available in demo dataset</td>\n",
              "      <td>Windows</td>\n",
              "      <td>1</td>\n",
              "      <td>not available in demo dataset</td>\n",
              "      <td>4</td>\n",
              "      <td>False</td>\n",
              "      <td>organic</td>\n",
              "      <td>1</td>\n",
              "      <td>NaN</td>\n",
              "      <td>not available in demo dataset</td>\n",
              "      <td>not available in demo dataset</td>\n",
              "      <td>water bottle</td>\n",
              "      <td>1508198450</td>\n",
              "      <td>Firefox</td>\n",
              "      <td>not available in demo dataset</td>\n",
              "      <td>not available in demo dataset</td>\n",
              "      <td>not available in demo dataset</td>\n",
              "      <td>Germany</td>\n",
              "      <td>1</td>\n",
              "      <td>Western Europe</td>\n",
              "      <td>(not set)</td>\n",
              "      <td>Europe</td>\n",
              "      <td>1</td>\n",
              "      <td>not available in demo dataset</td>\n",
              "      <td>NaN</td>\n",
              "      <td>(not set)</td>\n",
              "      <td>20171016</td>\n",
              "      <td>not available in demo dataset</td>\n",
              "      <td>NaN</td>\n",
              "      <td>desktop</td>\n",
              "    </tr>\n",
              "    <tr>\n",
              "      <th>1</th>\n",
              "      <td>NaN</td>\n",
              "      <td>6</td>\n",
              "      <td>1508176307</td>\n",
              "      <td>8934116514970143966</td>\n",
              "      <td>Referral</td>\n",
              "      <td>North America</td>\n",
              "      <td>not available in demo dataset</td>\n",
              "      <td>NaN</td>\n",
              "      <td>NaN</td>\n",
              "      <td>NaN</td>\n",
              "      <td>California</td>\n",
              "      <td>NaN</td>\n",
              "      <td>Cupertino</td>\n",
              "      <td>NaN</td>\n",
              "      <td>not available in demo dataset</td>\n",
              "      <td>NaN</td>\n",
              "      <td>Not Socially Engaged</td>\n",
              "      <td>2</td>\n",
              "      <td>not available in demo dataset</td>\n",
              "      <td>not available in demo dataset</td>\n",
              "      <td>not available in demo dataset</td>\n",
              "      <td>/a/google.com/transportation/mtv-services/bike...</td>\n",
              "      <td>not available in demo dataset</td>\n",
              "      <td>train</td>\n",
              "      <td>28</td>\n",
              "      <td>sites.google.com</td>\n",
              "      <td>not available in demo dataset</td>\n",
              "      <td>not available in demo dataset</td>\n",
              "      <td>not available in demo dataset</td>\n",
              "      <td>NaN</td>\n",
              "      <td>San Francisco-Oakland-San Jose CA</td>\n",
              "      <td>Chrome OS</td>\n",
              "      <td>1</td>\n",
              "      <td>not available in demo dataset</td>\n",
              "      <td>4</td>\n",
              "      <td>False</td>\n",
              "      <td>referral</td>\n",
              "      <td>2</td>\n",
              "      <td>NaN</td>\n",
              "      <td>not available in demo dataset</td>\n",
              "      <td>not available in demo dataset</td>\n",
              "      <td>NaN</td>\n",
              "      <td>1508176307</td>\n",
              "      <td>Chrome</td>\n",
              "      <td>not available in demo dataset</td>\n",
              "      <td>not available in demo dataset</td>\n",
              "      <td>not available in demo dataset</td>\n",
              "      <td>United States</td>\n",
              "      <td>NaN</td>\n",
              "      <td>Northern America</td>\n",
              "      <td>(not set)</td>\n",
              "      <td>Americas</td>\n",
              "      <td>2</td>\n",
              "      <td>not available in demo dataset</td>\n",
              "      <td>NaN</td>\n",
              "      <td>(not set)</td>\n",
              "      <td>20171016</td>\n",
              "      <td>not available in demo dataset</td>\n",
              "      <td>NaN</td>\n",
              "      <td>desktop</td>\n",
              "    </tr>\n",
              "    <tr>\n",
              "      <th>2</th>\n",
              "      <td>NaN</td>\n",
              "      <td>1</td>\n",
              "      <td>1508201613</td>\n",
              "      <td>7992466427990357681</td>\n",
              "      <td>Direct</td>\n",
              "      <td>North America</td>\n",
              "      <td>not available in demo dataset</td>\n",
              "      <td>True</td>\n",
              "      <td>NaN</td>\n",
              "      <td>NaN</td>\n",
              "      <td>not available in demo dataset</td>\n",
              "      <td>NaN</td>\n",
              "      <td>not available in demo dataset</td>\n",
              "      <td>NaN</td>\n",
              "      <td>not available in demo dataset</td>\n",
              "      <td>1</td>\n",
              "      <td>Not Socially Engaged</td>\n",
              "      <td>1</td>\n",
              "      <td>not available in demo dataset</td>\n",
              "      <td>not available in demo dataset</td>\n",
              "      <td>not available in demo dataset</td>\n",
              "      <td>NaN</td>\n",
              "      <td>not available in demo dataset</td>\n",
              "      <td>train</td>\n",
              "      <td>38</td>\n",
              "      <td>(direct)</td>\n",
              "      <td>not available in demo dataset</td>\n",
              "      <td>not available in demo dataset</td>\n",
              "      <td>not available in demo dataset</td>\n",
              "      <td>NaN</td>\n",
              "      <td>not available in demo dataset</td>\n",
              "      <td>Android</td>\n",
              "      <td>1</td>\n",
              "      <td>not available in demo dataset</td>\n",
              "      <td>4</td>\n",
              "      <td>True</td>\n",
              "      <td>(none)</td>\n",
              "      <td>2</td>\n",
              "      <td>NaN</td>\n",
              "      <td>not available in demo dataset</td>\n",
              "      <td>not available in demo dataset</td>\n",
              "      <td>NaN</td>\n",
              "      <td>1508201613</td>\n",
              "      <td>Chrome</td>\n",
              "      <td>not available in demo dataset</td>\n",
              "      <td>not available in demo dataset</td>\n",
              "      <td>not available in demo dataset</td>\n",
              "      <td>United States</td>\n",
              "      <td>NaN</td>\n",
              "      <td>Northern America</td>\n",
              "      <td>windjammercable.net</td>\n",
              "      <td>Americas</td>\n",
              "      <td>2</td>\n",
              "      <td>not available in demo dataset</td>\n",
              "      <td>NaN</td>\n",
              "      <td>(not set)</td>\n",
              "      <td>20171016</td>\n",
              "      <td>not available in demo dataset</td>\n",
              "      <td>NaN</td>\n",
              "      <td>mobile</td>\n",
              "    </tr>\n",
              "    <tr>\n",
              "      <th>3</th>\n",
              "      <td>NaN</td>\n",
              "      <td>1</td>\n",
              "      <td>1508169851</td>\n",
              "      <td>9075655783635761930</td>\n",
              "      <td>Organic Search</td>\n",
              "      <td>EMEA</td>\n",
              "      <td>not available in demo dataset</td>\n",
              "      <td>NaN</td>\n",
              "      <td>NaN</td>\n",
              "      <td>NaN</td>\n",
              "      <td>not available in demo dataset</td>\n",
              "      <td>NaN</td>\n",
              "      <td>not available in demo dataset</td>\n",
              "      <td>NaN</td>\n",
              "      <td>not available in demo dataset</td>\n",
              "      <td>1</td>\n",
              "      <td>Not Socially Engaged</td>\n",
              "      <td>1</td>\n",
              "      <td>not available in demo dataset</td>\n",
              "      <td>not available in demo dataset</td>\n",
              "      <td>not available in demo dataset</td>\n",
              "      <td>NaN</td>\n",
              "      <td>not available in demo dataset</td>\n",
              "      <td>train</td>\n",
              "      <td>1</td>\n",
              "      <td>google</td>\n",
              "      <td>not available in demo dataset</td>\n",
              "      <td>not available in demo dataset</td>\n",
              "      <td>not available in demo dataset</td>\n",
              "      <td>NaN</td>\n",
              "      <td>not available in demo dataset</td>\n",
              "      <td>Windows</td>\n",
              "      <td>1</td>\n",
              "      <td>not available in demo dataset</td>\n",
              "      <td>4</td>\n",
              "      <td>False</td>\n",
              "      <td>organic</td>\n",
              "      <td>2</td>\n",
              "      <td>NaN</td>\n",
              "      <td>not available in demo dataset</td>\n",
              "      <td>not available in demo dataset</td>\n",
              "      <td>(not provided)</td>\n",
              "      <td>1508169851</td>\n",
              "      <td>Chrome</td>\n",
              "      <td>not available in demo dataset</td>\n",
              "      <td>not available in demo dataset</td>\n",
              "      <td>not available in demo dataset</td>\n",
              "      <td>Turkey</td>\n",
              "      <td>NaN</td>\n",
              "      <td>Western Asia</td>\n",
              "      <td>unknown.unknown</td>\n",
              "      <td>Asia</td>\n",
              "      <td>2</td>\n",
              "      <td>not available in demo dataset</td>\n",
              "      <td>NaN</td>\n",
              "      <td>(not set)</td>\n",
              "      <td>20171016</td>\n",
              "      <td>not available in demo dataset</td>\n",
              "      <td>NaN</td>\n",
              "      <td>desktop</td>\n",
              "    </tr>\n",
              "    <tr>\n",
              "      <th>4</th>\n",
              "      <td>NaN</td>\n",
              "      <td>1</td>\n",
              "      <td>1508190552</td>\n",
              "      <td>6960673291025684308</td>\n",
              "      <td>Organic Search</td>\n",
              "      <td>Central America</td>\n",
              "      <td>not available in demo dataset</td>\n",
              "      <td>NaN</td>\n",
              "      <td>NaN</td>\n",
              "      <td>NaN</td>\n",
              "      <td>not available in demo dataset</td>\n",
              "      <td>NaN</td>\n",
              "      <td>not available in demo dataset</td>\n",
              "      <td>NaN</td>\n",
              "      <td>not available in demo dataset</td>\n",
              "      <td>1</td>\n",
              "      <td>Not Socially Engaged</td>\n",
              "      <td>1</td>\n",
              "      <td>not available in demo dataset</td>\n",
              "      <td>not available in demo dataset</td>\n",
              "      <td>not available in demo dataset</td>\n",
              "      <td>NaN</td>\n",
              "      <td>not available in demo dataset</td>\n",
              "      <td>train</td>\n",
              "      <td>52</td>\n",
              "      <td>google</td>\n",
              "      <td>not available in demo dataset</td>\n",
              "      <td>not available in demo dataset</td>\n",
              "      <td>not available in demo dataset</td>\n",
              "      <td>NaN</td>\n",
              "      <td>not available in demo dataset</td>\n",
              "      <td>Windows</td>\n",
              "      <td>1</td>\n",
              "      <td>not available in demo dataset</td>\n",
              "      <td>4</td>\n",
              "      <td>False</td>\n",
              "      <td>organic</td>\n",
              "      <td>2</td>\n",
              "      <td>NaN</td>\n",
              "      <td>not available in demo dataset</td>\n",
              "      <td>not available in demo dataset</td>\n",
              "      <td>(not provided)</td>\n",
              "      <td>1508190552</td>\n",
              "      <td>Chrome</td>\n",
              "      <td>not available in demo dataset</td>\n",
              "      <td>not available in demo dataset</td>\n",
              "      <td>not available in demo dataset</td>\n",
              "      <td>Mexico</td>\n",
              "      <td>NaN</td>\n",
              "      <td>Central America</td>\n",
              "      <td>prod-infinitum.com.mx</td>\n",
              "      <td>Americas</td>\n",
              "      <td>2</td>\n",
              "      <td>not available in demo dataset</td>\n",
              "      <td>NaN</td>\n",
              "      <td>(not set)</td>\n",
              "      <td>20171016</td>\n",
              "      <td>not available in demo dataset</td>\n",
              "      <td>NaN</td>\n",
              "      <td>desktop</td>\n",
              "    </tr>\n",
              "  </tbody>\n",
              "</table>\n",
              "</div>"
            ],
            "text/plain": [
              "  trafficSource.adwordsClickInfo.slot  ...  device.deviceCategory\n",
              "0                                 NaN  ...                desktop\n",
              "1                                 NaN  ...                desktop\n",
              "2                                 NaN  ...                 mobile\n",
              "3                                 NaN  ...                desktop\n",
              "4                                 NaN  ...                desktop\n",
              "\n",
              "[5 rows x 60 columns]"
            ]
          },
          "metadata": {
            "tags": []
          },
          "execution_count": 10
        }
      ]
    },
    {
      "cell_type": "markdown",
      "metadata": {
        "id": "gxYJu6B5vUQJ",
        "colab_type": "text"
      },
      "source": [
        "## Convert date columns"
      ]
    },
    {
      "cell_type": "code",
      "metadata": {
        "id": "O7z8XQEfqyhg",
        "colab_type": "code",
        "colab": {}
      },
      "source": [
        "#convert date columns so that we can actually use it\n",
        "all_data['date'] = pd.to_datetime(all_data[\"date\"], format=\"%Y%m%d\") #convert to datetime\n",
        "all_data['year'] = all_data['date'].dt.year #for year\n",
        "all_data['day'] = all_data.date.dt.day_name() #for day\n",
        "all_data['week'] = all_data.date.dt.weekofyear #week\n",
        "all_data['month'] = all_data.date.dt.month_name() #month"
      ],
      "execution_count": 0,
      "outputs": []
    },
    {
      "cell_type": "markdown",
      "metadata": {
        "id": "vBlNDpIRwVR-",
        "colab_type": "text"
      },
      "source": [
        "## Convert Objective Variable in a Number"
      ]
    },
    {
      "cell_type": "code",
      "metadata": {
        "id": "5wTlNPjWqyi1",
        "colab_type": "code",
        "colab": {}
      },
      "source": [
        "all_data[\"totals.totalTransactionRevenue\"] = all_data[\"totals.totalTransactionRevenue\"].astype('float')"
      ],
      "execution_count": 0,
      "outputs": []
    },
    {
      "cell_type": "code",
      "metadata": {
        "id": "dqCuK_aPqyjI",
        "colab_type": "code",
        "colab": {}
      },
      "source": [
        "all_data[\"totals.totalTransactionRevenue\"] = all_data[\"totals.totalTransactionRevenue\"].fillna(0.0).astype(float)\n",
        "all_data[\"totals.totalTransactionRevenue\"] = np.log1p(all_data[\"totals.totalTransactionRevenue\"].values)"
      ],
      "execution_count": 0,
      "outputs": []
    },
    {
      "cell_type": "code",
      "metadata": {
        "id": "-nTW43oRqyjf",
        "colab_type": "code",
        "outputId": "3030610d-1c04-4633-cb13-8871337c0941",
        "colab": {
          "base_uri": "https://localhost:8080/",
          "height": 51
        }
      },
      "source": [
        "print(\"Transaction Revenue Mean Value: \", all_data['totals.totalTransactionRevenue'].mean())\n",
        "print(\"Transaction Revenue median Value: \", all_data['totals.totalTransactionRevenue'].median())"
      ],
      "execution_count": 17,
      "outputs": [
        {
          "output_type": "stream",
          "text": [
            "Transaction Revenue Mean Value:  0.1964776089319636\n",
            "Transaction Revenue median Value:  0.0\n"
          ],
          "name": "stdout"
        }
      ]
    },
    {
      "cell_type": "markdown",
      "metadata": {
        "id": "Bufqp-Ipwxjq",
        "colab_type": "text"
      },
      "source": [
        "We calculate the mean value and the median for the visitors that have made a succesfull purchase. "
      ]
    },
    {
      "cell_type": "code",
      "metadata": {
        "id": "u3gOTSJoqyjn",
        "colab_type": "code",
        "outputId": "8007f84c-733a-42d2-e8dd-0ee1958396df",
        "colab": {
          "base_uri": "https://localhost:8080/",
          "height": 51
        }
      },
      "source": [
        "print(\"Transaction Revenue Mean Value: \", \n",
        "      all_data[all_data['totals.totalTransactionRevenue'] > 0][\"totals.totalTransactionRevenue\"].mean()) # mean value of above 0\n",
        "print(\"Transaction Revenue Median Value: \", \n",
        "      all_data[all_data['totals.totalTransactionRevenue'] > 0][\"totals.totalTransactionRevenue\"].median()) # median value of above 0"
      ],
      "execution_count": 19,
      "outputs": [
        {
          "output_type": "stream",
          "text": [
            "Transaction Revenue Mean Value:  17.939813722666706\n",
            "Transaction Revenue Median Value:  17.78183235574278\n"
          ],
          "name": "stdout"
        }
      ]
    },
    {
      "cell_type": "markdown",
      "metadata": {
        "id": "eWSh-K6DuoNu",
        "colab_type": "text"
      },
      "source": [
        "## Checking for Missing Values"
      ]
    },
    {
      "cell_type": "code",
      "metadata": {
        "id": "F6FLUUUj6W1C",
        "colab_type": "code",
        "colab": {
          "base_uri": "https://localhost:8080/",
          "height": 221
        },
        "outputId": "a43cbf61-47c2-40e0-f4f7-5930bf5dedea"
      },
      "source": [
        "#checking missing values- sample\n",
        "all_data.isnull().sum().sort_values(ascending = False)\n",
        "#df_train.isna().sum().sort_values(ascending = False)"
      ],
      "execution_count": 20,
      "outputs": [
        {
          "output_type": "execute_result",
          "data": {
            "text/plain": [
              "totals.transactions                             2085062\n",
              "trafficSource.adwordsClickInfo.adNetworkType    2024047\n",
              "trafficSource.adwordsClickInfo.isVideoAd        2024047\n",
              "trafficSource.adwordsClickInfo.page             2024047\n",
              "trafficSource.adwordsClickInfo.slot             2024047\n",
              "                                                 ...   \n",
              "device.isMobile                                       0\n",
              "geoNetwork.networkLocation                            0\n",
              "totals.visits                                         0\n",
              "week                                                  0\n",
              "device.operatingSystem                                0\n",
              "Length: 64, dtype: int64"
            ]
          },
          "metadata": {
            "tags": []
          },
          "execution_count": 20
        }
      ]
    },
    {
      "cell_type": "markdown",
      "metadata": {
        "id": "kwsPQpzI6ykq",
        "colab_type": "text"
      },
      "source": [
        "We start working with the whole data to grasp a better understanding about the missing data. To do that we define a function:"
      ]
    },
    {
      "cell_type": "code",
      "metadata": {
        "id": "4KN7rdYHqymI",
        "colab_type": "code",
        "colab": {}
      },
      "source": [
        "def values_missing(check):\n",
        "    total = check.isnull().sum().sort_values(ascending = False) # getting the sum of null values and ordering\n",
        "    percent = (check.isnull().sum() / check.isnull().count() * 100 ).sort_values(ascending = False) #getting the percent and order of null\n",
        "    all_data = pd.concat([total, percent], axis=1, keys=['Total', 'Percent']) # Concatenating the total and percent\n",
        "    print(\"Total and percent of missing values: \")\n",
        "    print (all_data[~(all_data['Total'] == 0)]) # Returning values of nulls different of 0\n",
        "    \n",
        "    return"
      ],
      "execution_count": 0,
      "outputs": []
    },
    {
      "cell_type": "code",
      "metadata": {
        "id": "K94cIUKRqymu",
        "colab_type": "code",
        "outputId": "8c70b4f7-2f4e-4cad-c695-95e112842b96",
        "colab": {
          "base_uri": "https://localhost:8080/",
          "height": 340
        }
      },
      "source": [
        "values_missing(all_data)"
      ],
      "execution_count": 22,
      "outputs": [
        {
          "output_type": "stream",
          "text": [
            "Total and percent of missing values: \n",
            "                                                Total    Percent\n",
            "totals.transactions                           2085062  98.821570\n",
            "trafficSource.adwordsClickInfo.adNetworkType  2024047  95.929762\n",
            "trafficSource.adwordsClickInfo.isVideoAd      2024047  95.929762\n",
            "trafficSource.adwordsClickInfo.page           2024047  95.929762\n",
            "trafficSource.adwordsClickInfo.slot           2024047  95.929762\n",
            "trafficSource.adwordsClickInfo.gclId          2023891  95.922369\n",
            "trafficSource.adContent                       1643600  77.898467\n",
            "trafficSource.isTrueDirect                    1426999  67.632656\n",
            "trafficSource.referralPath                    1142073  54.128581\n",
            "trafficSource.keyword                         1093006  51.803049\n",
            "totals.timeOnSite                             1057980  50.142991\n",
            "totals.bounces                                1055670  50.033508\n",
            "totals.sessionQualityDim                       835274  39.587834\n",
            "totals.newVisits                               516431  24.476261\n",
            "customDimension.value                          393816  18.664920\n",
            "customDimension.index                          393816  18.664920\n",
            "totals.pageviews                                  340   0.016114\n"
          ],
          "name": "stdout"
        }
      ]
    },
    {
      "cell_type": "markdown",
      "metadata": {
        "id": "my7bXI8T7enV",
        "colab_type": "text"
      },
      "source": [
        "Before replacing the missing data, we check the columns with unique values. The assumption is that:                                                     \n",
        "**Columns with 1 unique value for the whole group of records do not give any useful information for prediction porposes.**"
      ]
    },
    {
      "cell_type": "code",
      "metadata": {
        "id": "kBIfXdM0qynQ",
        "colab_type": "code",
        "outputId": "8fb1756d-fbb7-45e9-e86e-b2132904f6e6",
        "colab": {
          "base_uri": "https://localhost:8080/"
        }
      },
      "source": [
        "unique_columns = [col for col in df_train.columns if df_train[col].nunique() == 1] #Columns with just one value\n",
        "\n",
        "# print these columns and the name of columns \n",
        "print(\"numbers of columns: \", len(unique_columns), \"columns with 1 value\")\n",
        "print(\"label of columns: \\n\", unique_columns)"
      ],
      "execution_count": 0,
      "outputs": [
        {
          "output_type": "stream",
          "text": [
            "numbers of columns:  25 columns with 1 value\n",
            "label of columns: \n",
            " ['socialEngagementType', 'device.browserVersion', 'device.browserSize', 'device.operatingSystemVersion', 'device.mobileDeviceBranding', 'device.mobileDeviceModel', 'device.mobileInputSelector', 'device.mobileDeviceInfo', 'device.mobileDeviceMarketingName', 'device.flashVersion', 'device.language', 'device.screenColors', 'device.screenResolution', 'geoNetwork.cityId', 'geoNetwork.latitude', 'geoNetwork.longitude', 'geoNetwork.networkLocation', 'totals.visits', 'totals.bounces', 'totals.newVisits', 'trafficSource.adwordsClickInfo.criteriaParameters', 'trafficSource.isTrueDirect', 'trafficSource.adwordsClickInfo.isVideoAd', 'trafficSource.campaignCode', 'customDimension.index']\n"
          ],
          "name": "stdout"
        }
      ]
    },
    {
      "cell_type": "markdown",
      "metadata": {
        "id": "ttHIxMYX9VEu",
        "colab_type": "text"
      },
      "source": [
        "We found out that there are 25 columns with 1 value. We check the content in these  columns before decide if they are actually  useless."
      ]
    },
    {
      "cell_type": "code",
      "metadata": {
        "id": "8-gRzyTjqyng",
        "colab_type": "code",
        "colab": {}
      },
      "source": [
        "# i define a function to show the columns ans a sample of the data\n",
        "def see_data(data, data_type=object, limit=5): #seting the function with data,show 5 uniques if available \n",
        "    n = data.select_dtypes(include=data_type) #selecting the desired data type\n",
        "    for column in n.columns: #initializing the loop\n",
        "        print(\"______________________________________________________________\")\n",
        "        print(\"Name of column \", column, ': \\n', \"Uniques: \", data[column].unique()[:limit], \"\\n\",\n",
        "              \" | ## Total nulls: \", (round(data[column].isnull().sum() / len(data[column]) * 100,2)),\n",
        "              \" | ## Total unique values: \", df_train.nunique()[column]) #print the data and % of nulls)\n",
        "        print(\"_________________________________________________________\")\n",
        "        \n",
        "      "
      ],
      "execution_count": 0,
      "outputs": []
    },
    {
      "cell_type": "code",
      "metadata": {
        "id": "gkiB76BTqyns",
        "colab_type": "code",
        "colab": {}
      },
      "source": [
        "#see_data(df_train)"
      ],
      "execution_count": 0,
      "outputs": []
    },
    {
      "cell_type": "markdown",
      "metadata": {
        "id": "9Bp3qvW8qynz",
        "colab_type": "text"
      },
      "source": [
        "This is a list with the  columns that are either: \"not available in our dataset\" or those that have unique values\n",
        " - Name of column  socialEngagementType : \n",
        " Uniques:  ['Not Socially Engaged'] \n",
        " \n",
        "- device.browserVersion : \n",
        " Uniques:  ['not available in demo dataset']\n",
        "\n",
        "- device.operatingSystemVersion : \n",
        " Uniques:  ['not available in demo dataset']\n",
        " \n",
        "- Name of column  device.mobileDeviceBranding : \n",
        " Uniques:  ['not available in demo dataset']\n",
        " \n",
        "- Name of column  device.mobileDeviceBranding : \n",
        " Uniques:  ['not available in demo dataset']\n",
        " \n",
        "- Name of column  device.mobileDeviceModel : \n",
        " Uniques:  ['not available in demo dataset']\n",
        " \n",
        "- Name of column  device.mobileInputSelector : \n",
        " Uniques:  ['not available in demo dataset'] \n",
        " \n",
        "- Name of column  device.mobileDeviceInfo : \n",
        " Uniques:  ['not available in demo dataset'] \n",
        "\n",
        "- Name of column  device.mobileDeviceMarketingName : \n",
        " Uniques:  ['not available in demo dataset']\n",
        " \n",
        "- Name of column  device.flashVersion : \n",
        " Uniques:  ['not available in demo dataset']  \n",
        " \n",
        "- Name of column  device.language : \n",
        " Uniques:  ['not available in demo dataset'] \n",
        "\n",
        "- Name of column  device.screenColors : \n",
        " Uniques:  ['not available in demo dataset']\n",
        "\n",
        "- Name of column  device.screenResolution : \n",
        " Uniques:  ['not available in demo dataset']\n",
        " \n",
        "- Name of column  geoNetwork.cityId : \n",
        " Uniques:  ['not available in demo dataset'] \n",
        " \n",
        "- Name of column  geoNetwork.latitude : \n",
        " Uniques:  ['not available in demo dataset']  \n",
        "\n",
        "- Name of column  geoNetwork.longitude : \n",
        " Uniques:  ['not available in demo dataset'] \n",
        "\n",
        "- Name of column  geoNetwork.networkLocation : \n",
        " Uniques:  ['not available in demo dataset']\n",
        "\n",
        "- Name of column  totals.visits : \n",
        " Uniques:  ['1'] \n",
        " \n",
        "- Name of column  trafficSource.adwordsClickInfo.criteriaParameters : \n",
        " Uniques:  ['not available in demo dataset'] "
      ]
    },
    {
      "cell_type": "markdown",
      "metadata": {
        "id": "1w_1ontXqyn1",
        "colab_type": "text"
      },
      "source": [
        "'''\n",
        "This is a list of other columns that contain values that might be useless for prediction:\n",
        "- Name of column  trafficSource.adwordsClickInfo.gclId : \n",
        " Uniques:  [nan'Cj0KCQjwsZHPBRClARIsAC-VMPBHdNF2oMOgh6Xp6YhjXWSk11sDu3eCo4De_u6l4xafqgrPVPSGYdkaArkiEALw_wcB''CODVoMjJ9tYCFUIvgQod_dsKEA''Cj0KCQjwsZHPBRClARIsAC-VMPA4CVJtDhu1lYkB0AR1hje1goUMHQZNJMrsSWD57pLnv1KE_L7pCEcaAunKEALw_wcB''Cj0KCQjwsZHPBRClARIsAC-VMPDlLD6kS4tmqFGZjMUqyerwe0WDaULaAKNkj-gwuvPnLSPRyf9TN7IaArICEALw_wcB'] \n",
        "- Name of column  trafficSource.adwordsClickInfo.page : \n",
        " Uniques:  [nan '1' '3' '2' '5']\n",
        "- Name of column  trafficSource.referralPath : \n",
        " Uniques:  [nan '/a/google.com/transportation/mtv-services/bikes/bike2workmay2016''/offer/2145' '/a/google.com/nest-vision/dropcam-field-tester-program''/analytics/web/'] \n",
        "- Name of column  trafficSource.campaign : \n",
        " Uniques:  ['(not set)' '\"google + redesign/Accessories March 17\" All Users''AW - Dynamic Search Ads Whole Site' '1000557 | GA | US | en | Hybrid | GDN Text+Banner | AS' 'Data Share Promo'] \n",
        "- Name of column  trafficSource.adwordsClickInfo.slot : \n",
        " Uniques:  [nan 'Top' 'RHS' 'Google Display Network']\n",
        " \n",
        "- Name of column  trafficSource.adContent : \n",
        " Uniques:  [nan 'Placement Accessories 300 x 250' 'Google Merchandise Store''Bags 300x250' 'Display Ad created 3/11/14']  \n",
        "- Name of column  trafficSource.campaignCode : \n",
        " Uniques:  [nan '11251kjhkvahf']   \n",
        "\n",
        "'''"
      ]
    },
    {
      "cell_type": "markdown",
      "metadata": {
        "id": "mJg8HOJgAq-C",
        "colab_type": "text"
      },
      "source": [
        "### Columns to Drop"
      ]
    },
    {
      "cell_type": "markdown",
      "metadata": {
        "id": "7TZIeLBtqyn3",
        "colab_type": "text"
      },
      "source": [
        "After examining the values, These are the droped Columns:"
      ]
    },
    {
      "cell_type": "code",
      "metadata": {
        "id": "53RDyI2wqyn4",
        "colab_type": "code",
        "colab": {}
      },
      "source": [
        "drop_col_list = ['socialEngagementType', 'device.browserVersion', 'device.browserSize', 'device.operatingSystemVersion',\n",
        "                 'device.mobileDeviceBranding', 'device.mobileDeviceModel', 'device.mobileInputSelector', \n",
        "                 'device.mobileDeviceInfo', 'device.mobileDeviceMarketingName', 'device.flashVersion', 'device.language', \n",
        "                 'device.screenColors', 'device.screenResolution', 'geoNetwork.cityId', 'geoNetwork.latitude', \n",
        "                 'geoNetwork.longitude', 'geoNetwork.networkLocation', 'trafficSource.campaign', 'trafficSource.referralPath', \n",
        "                 'trafficSource.adwordsClickInfo.page','trafficSource.adwordsClickInfo.slot', \n",
        "                 'trafficSource.adwordsClickInfo.criteriaParameters', 'trafficSource.adContent', 'trafficSource.adwordsClickInfo.gclId', \n",
        "                 'trafficSource.campaignCode', 'customDimension.index','totals.visits']"
      ],
      "execution_count": 0,
      "outputs": []
    },
    {
      "cell_type": "code",
      "metadata": {
        "id": "dnBusDn8qyn-",
        "colab_type": "code",
        "colab": {}
      },
      "source": [
        "df_train.drop(drop_col_list, axis=1, inplace=True)  #to drop them"
      ],
      "execution_count": 0,
      "outputs": []
    },
    {
      "cell_type": "markdown",
      "metadata": {
        "id": "Y0mNCZOhqyoL",
        "colab_type": "text"
      },
      "source": [
        "Now we have 38 columns and we can see how many unique values there are on each of these columns."
      ]
    },
    {
      "cell_type": "code",
      "metadata": {
        "id": "C0ABoxq_qyoU",
        "colab_type": "code",
        "outputId": "64be39ab-63aa-4240-c7d3-eb6e8a6073cf",
        "colab": {
          "base_uri": "https://localhost:8080/"
        }
      },
      "source": [
        "df_train.nunique()"
      ],
      "execution_count": 0,
      "outputs": [
        {
          "output_type": "execute_result",
          "data": {
            "text/plain": [
              "channelGrouping                                       8\n",
              "date                                                638\n",
              "fullVisitorId                                   1323730\n",
              "visitId                                         1665802\n",
              "visitNumber                                         457\n",
              "visitStartTime                                  1667423\n",
              "device.browser                                      129\n",
              "device.operatingSystem                               24\n",
              "device.isMobile                                       2\n",
              "device.deviceCategory                                 3\n",
              "geoNetwork.continent                                  6\n",
              "geoNetwork.subContinent                              23\n",
              "geoNetwork.country                                  228\n",
              "geoNetwork.region                                   483\n",
              "geoNetwork.metro                                    123\n",
              "geoNetwork.city                                     956\n",
              "geoNetwork.networkDomain                          41982\n",
              "totals.hits                                         297\n",
              "totals.pageviews                                    230\n",
              "totals.bounces                                        1\n",
              "totals.newVisits                                      1\n",
              "totals.sessionQualityDim                            100\n",
              "totals.timeOnSite                                  4774\n",
              "totals.transactions                                  13\n",
              "totals.transactionRevenue                          7252\n",
              "totals.totalTransactionRevenue                     8506\n",
              "trafficSource.source                                345\n",
              "trafficSource.medium                                  7\n",
              "trafficSource.keyword                              4546\n",
              "trafficSource.isTrueDirect                            1\n",
              "trafficSource.adwordsClickInfo.adNetworkType          3\n",
              "trafficSource.adwordsClickInfo.isVideoAd              1\n",
              "customDimension.value                                 5\n",
              "year                                                  3\n",
              "day                                                   7\n",
              "week                                                 52\n",
              "month                                                12\n",
              "dtype: int64"
            ]
          },
          "metadata": {
            "tags": []
          },
          "execution_count": 12
        }
      ]
    },
    {
      "cell_type": "markdown",
      "metadata": {
        "id": "6BTEsQP5qyog",
        "colab_type": "text"
      },
      "source": [
        "These columns also have a lonely unique value, however these unique value is not applied to all the records in the column, therefore these columns might bring information as  dummie variables.\n",
        "- totals.visits\n",
        "- totals.bounces\n",
        "- totals.newVisits\n",
        "- trafficSource.isTrueDirect\n",
        "- trafficSource.adwordsClickInfo.isVideoAd"
      ]
    },
    {
      "cell_type": "markdown",
      "metadata": {
        "id": "1uTGYhtjCcVM",
        "colab_type": "text"
      },
      "source": [
        "### Missing Values"
      ]
    },
    {
      "cell_type": "markdown",
      "metadata": {
        "id": "SEiiDgBNqyoh",
        "colab_type": "text"
      },
      "source": [
        "Afer dropping useless columns, we start cleaning and filling missing data for the remaining columns"
      ]
    },
    {
      "cell_type": "code",
      "metadata": {
        "id": "BguU89BLqyoi",
        "colab_type": "code",
        "outputId": "f500a4d4-901e-421d-f1f8-fe7f72689e77",
        "colab": {}
      },
      "source": [
        "#to check our data type again\n",
        "df_train.info()"
      ],
      "execution_count": 0,
      "outputs": [
        {
          "output_type": "stream",
          "text": [
            "<class 'pandas.core.frame.DataFrame'>\n",
            "RangeIndex: 1708337 entries, 0 to 1708336\n",
            "Data columns (total 38 columns):\n",
            " #   Column                                        Dtype         \n",
            "---  ------                                        -----         \n",
            " 0   channelGrouping                               object        \n",
            " 1   date                                          datetime64[ns]\n",
            " 2   fullVisitorId                                 object        \n",
            " 3   visitId                                       int64         \n",
            " 4   visitNumber                                   int64         \n",
            " 5   visitStartTime                                int64         \n",
            " 6   device.browser                                object        \n",
            " 7   device.operatingSystem                        object        \n",
            " 8   device.isMobile                               bool          \n",
            " 9   device.deviceCategory                         object        \n",
            " 10  geoNetwork.continent                          object        \n",
            " 11  geoNetwork.subContinent                       object        \n",
            " 12  geoNetwork.country                            object        \n",
            " 13  geoNetwork.region                             object        \n",
            " 14  geoNetwork.metro                              object        \n",
            " 15  geoNetwork.city                               object        \n",
            " 16  geoNetwork.networkDomain                      object        \n",
            " 17  totals.visits                                 object        \n",
            " 18  totals.hits                                   object        \n",
            " 19  totals.pageviews                              object        \n",
            " 20  totals.bounces                                object        \n",
            " 21  totals.newVisits                              object        \n",
            " 22  totals.sessionQualityDim                      object        \n",
            " 23  totals.timeOnSite                             object        \n",
            " 24  totals.transactions                           object        \n",
            " 25  totals.transactionRevenue                     object        \n",
            " 26  totals.totalTransactionRevenue                object        \n",
            " 27  trafficSource.source                          object        \n",
            " 28  trafficSource.medium                          object        \n",
            " 29  trafficSource.keyword                         object        \n",
            " 30  trafficSource.isTrueDirect                    object        \n",
            " 31  trafficSource.adwordsClickInfo.adNetworkType  object        \n",
            " 32  trafficSource.adwordsClickInfo.isVideoAd      object        \n",
            " 33  customDimension.value                         object        \n",
            " 34  year                                          int64         \n",
            " 35  day                                           object        \n",
            " 36  week                                          int64         \n",
            " 37  month                                         object        \n",
            "dtypes: bool(1), datetime64[ns](1), int64(5), object(31)\n",
            "memory usage: 483.9+ MB\n"
          ],
          "name": "stdout"
        }
      ]
    },
    {
      "cell_type": "markdown",
      "metadata": {
        "id": "3xmcZT9RC_PC",
        "colab_type": "text"
      },
      "source": [
        "From the previous analysis, we observe that the columns with number_values are in `string` format. \n",
        "We should convert them to numeric values as `int64` or `float` for our analysis and predictions."
      ]
    },
    {
      "cell_type": "markdown",
      "metadata": {
        "id": "vrEwT1sYGAbb",
        "colab_type": "text"
      },
      "source": [
        "these columns are objects. \n",
        "- totals.visits `object`       \n",
        "- totals.hits `object`\n",
        "- totals.pageviews `object` \n",
        "- totals.bounces `object`\n",
        "- totals.newVisits `object`\n",
        "- totals.sessionQualityDim `object`\n",
        "- totals.timeOnSite `object`\n",
        "- totals.transactions `object`\n",
        "- totals.transactionRevenue `object`\n",
        "- totals.totalTransactionRevenue `object`\n",
        "\n"
      ]
    },
    {
      "cell_type": "markdown",
      "metadata": {
        "id": "8NYCi1gvEE0V",
        "colab_type": "text"
      },
      "source": [
        "### Filling Null Values"
      ]
    },
    {
      "cell_type": "code",
      "metadata": {
        "id": "D2C_0vrtqypE",
        "colab_type": "code",
        "colab": {}
      },
      "source": [
        "# can be infered from totals.transactionRevenue\n",
        "\n",
        "df_train['totals.pageviews'].fillna(1, inplace=True) #filling NA's with 1(since least for a visit to the site means 1 page seen)\n",
        "df_train['totals.newVisits'].fillna(0, inplace=True) #filling NA's with 0(0 is suitable for Nan here)\n",
        "df_train['totals.bounces'].fillna(0, inplace=True)   #filling NA's with 0(0 is suitable for Nan here)\n",
        "df_train['totals.timeOnSite'].fillna(0, inplace=True) #filling NA's with 0(0 is suitable for Nan here)\n",
        "df_train['totals.sessionQualityDim'].fillna(0, inplace=True) #filling NA's with 0(0 is suitable for Nan here)\n",
        "df_train[\"totals.transactionRevenue\"] = df_train[\"totals.transactionRevenue\"].fillna(0.0).astype(float) #filling NA with zero\n"
      ],
      "execution_count": 0,
      "outputs": []
    },
    {
      "cell_type": "code",
      "metadata": {
        "id": "J_hJOAdkqypL",
        "colab_type": "code",
        "colab": {}
      },
      "source": [
        "#To convert\n",
        "\n",
        "df_train['totals.pageviews'] = df_train['totals.pageviews'].astype(int) # setting numerical column as integer\n",
        "df_train['totals.newVisits'] = df_train['totals.newVisits'].astype(int) # setting numerical column as integer\n",
        "df_train['totals.bounces'] = df_train['totals.bounces'].astype(int)  # setting numerical column as integer\n",
        "df_train[\"totals.timeOnSite\"] = df_train[\"totals.timeOnSite\"].astype(int) # setting numerical column as integer\n",
        "df_train[\"totals.sessionQualityDim\"] = df_train[\"totals.sessionQualityDim\"].astype(float) # setting numerical to float\n",
        "df_train[\"totals.hits\"] = df_train[\"totals.hits\"].astype(float) # setting numerical to float"
      ],
      "execution_count": 0,
      "outputs": []
    },
    {
      "cell_type": "markdown",
      "metadata": {
        "id": "kl-7ATRlEmHK",
        "colab_type": "text"
      },
      "source": [
        "We cannot decide on `totals.sessionQualityDim`.\n",
        "\n",
        "But it seems like  `totals.transactions` and `totals.totalTransactionRevenue` can be infered from `totals.transactionRevenue`\n",
        "\n"
      ]
    },
    {
      "cell_type": "code",
      "metadata": {
        "id": "s-9ZqOaMqypW",
        "colab_type": "code",
        "outputId": "efd09242-a9da-448f-9f6c-6db14f4d8a5b",
        "colab": {
          "base_uri": "https://localhost:8080/",
          "height": 170
        }
      },
      "source": [
        "#Check again the data\n",
        "values_missing(df_train)"
      ],
      "execution_count": 0,
      "outputs": [
        {
          "output_type": "stream",
          "text": [
            "Total and percent of missing values: \n",
            "                                                Total    Percent\n",
            "totals.totalTransactionRevenue                1689823  98.916256\n",
            "totals.transactions                           1689778  98.913622\n",
            "trafficSource.adwordsClickInfo.isVideoAd      1633063  95.593727\n",
            "trafficSource.adwordsClickInfo.adNetworkType  1633063  95.593727\n",
            "trafficSource.isTrueDirect                    1173819  68.711209\n",
            "trafficSource.keyword                         1052780  61.626014\n",
            "customDimension.value                          333235  19.506397\n"
          ],
          "name": "stdout"
        }
      ]
    },
    {
      "cell_type": "markdown",
      "metadata": {
        "id": "dSVtWUa0qyqt",
        "colab_type": "text"
      },
      "source": [
        "*Chris* paused here to focus on the ML pipeline. \n",
        "So far *he* has clean 80% of the dataset. "
      ]
    },
    {
      "cell_type": "code",
      "metadata": {
        "id": "gnkpzWBrHiWv",
        "colab_type": "code",
        "colab": {}
      },
      "source": [
        "# leave them for now and revisit them if need it."
      ],
      "execution_count": 0,
      "outputs": []
    },
    {
      "cell_type": "markdown",
      "metadata": {
        "id": "Wukhf3vxK5no",
        "colab_type": "text"
      },
      "source": [
        "Converting and fill `trafficSource.adwordsClickInfo.isVideoAd` and `trafficSource.isTrueDirect`\n",
        " \n",
        "Dropping `trafficSource.adwordsClickInfo.adNetworkType`,`totals.timeOnSite`,`totals.sessionQualityDim` and `customDimension.value`\n",
        " becasue they i can find similar values on other columns or i simply can't find a use for them or what to fill them with\n"
      ]
    },
    {
      "cell_type": "code",
      "metadata": {
        "id": "tUATTyubTbwg",
        "colab_type": "code",
        "outputId": "04b6c906-cb84-4dc6-9803-103487b41d74",
        "colab": {
          "base_uri": "https://localhost:8080/",
          "height": 51
        }
      },
      "source": [
        "df_train['trafficSource.isTrueDirect'].value_counts()"
      ],
      "execution_count": 0,
      "outputs": [
        {
          "output_type": "execute_result",
          "data": {
            "text/plain": [
              "True    534518\n",
              "Name: trafficSource.isTrueDirect, dtype: int64"
            ]
          },
          "metadata": {
            "tags": []
          },
          "execution_count": 18
        }
      ]
    },
    {
      "cell_type": "code",
      "metadata": {
        "id": "2VSYnWOyUJBh",
        "colab_type": "code",
        "outputId": "12eb0c3e-991d-48a2-efb6-5246837622bb",
        "colab": {
          "base_uri": "https://localhost:8080/",
          "height": 51
        }
      },
      "source": [
        "df_train['trafficSource.adwordsClickInfo.isVideoAd'].value_counts()"
      ],
      "execution_count": 0,
      "outputs": [
        {
          "output_type": "execute_result",
          "data": {
            "text/plain": [
              "False    75274\n",
              "Name: trafficSource.adwordsClickInfo.isVideoAd, dtype: int64"
            ]
          },
          "metadata": {
            "tags": []
          },
          "execution_count": 27
        }
      ]
    },
    {
      "cell_type": "code",
      "metadata": {
        "id": "FolqKENNqyqu",
        "colab_type": "code",
        "colab": {}
      },
      "source": [
        "df_train['trafficSource.isTrueDirect'].fillna(False, inplace=True) # filling boolean with False is its NAn\n",
        "    \n",
        "df_train['trafficSource.adwordsClickInfo.isVideoAd'].fillna(True, inplace=True) # filling boolean is its NAn"
      ],
      "execution_count": 0,
      "outputs": []
    },
    {
      "cell_type": "markdown",
      "metadata": {
        "id": "hyfU9GxWWxgo",
        "colab_type": "text"
      },
      "source": [
        "### List of Dropped Columns"
      ]
    },
    {
      "cell_type": "code",
      "metadata": {
        "id": "tCa7n_6we1X_",
        "colab_type": "code",
        "outputId": "85577e42-148a-4d52-f991-2f10988004dd",
        "colab": {
          "base_uri": "https://localhost:8080/",
          "height": 765
        }
      },
      "source": [
        "df_train.info()"
      ],
      "execution_count": 0,
      "outputs": [
        {
          "output_type": "stream",
          "text": [
            "<class 'pandas.core.frame.DataFrame'>\n",
            "RangeIndex: 1708337 entries, 0 to 1708336\n",
            "Data columns (total 37 columns):\n",
            " #   Column                                        Dtype         \n",
            "---  ------                                        -----         \n",
            " 0   channelGrouping                               object        \n",
            " 1   date                                          datetime64[ns]\n",
            " 2   fullVisitorId                                 object        \n",
            " 3   visitId                                       int64         \n",
            " 4   visitNumber                                   int64         \n",
            " 5   visitStartTime                                int64         \n",
            " 6   device.browser                                object        \n",
            " 7   device.operatingSystem                        object        \n",
            " 8   device.isMobile                               bool          \n",
            " 9   device.deviceCategory                         object        \n",
            " 10  geoNetwork.continent                          object        \n",
            " 11  geoNetwork.subContinent                       object        \n",
            " 12  geoNetwork.country                            object        \n",
            " 13  geoNetwork.region                             object        \n",
            " 14  geoNetwork.metro                              object        \n",
            " 15  geoNetwork.city                               object        \n",
            " 16  geoNetwork.networkDomain                      object        \n",
            " 17  totals.hits                                   float64       \n",
            " 18  totals.pageviews                              int64         \n",
            " 19  totals.bounces                                int64         \n",
            " 20  totals.newVisits                              int64         \n",
            " 21  totals.sessionQualityDim                      float64       \n",
            " 22  totals.timeOnSite                             int64         \n",
            " 23  totals.transactions                           int64         \n",
            " 24  totals.transactionRevenue                     float64       \n",
            " 25  totals.totalTransactionRevenue                object        \n",
            " 26  trafficSource.source                          object        \n",
            " 27  trafficSource.medium                          object        \n",
            " 28  trafficSource.keyword                         object        \n",
            " 29  trafficSource.isTrueDirect                    bool          \n",
            " 30  trafficSource.adwordsClickInfo.adNetworkType  object        \n",
            " 31  trafficSource.adwordsClickInfo.isVideoAd      bool          \n",
            " 32  customDimension.value                         object        \n",
            " 33  year                                          int64         \n",
            " 34  day                                           object        \n",
            " 35  week                                          int64         \n",
            " 36  month                                         object        \n",
            "dtypes: bool(3), datetime64[ns](1), float64(3), int64(10), object(20)\n",
            "memory usage: 448.0+ MB\n"
          ],
          "name": "stdout"
        }
      ]
    },
    {
      "cell_type": "code",
      "metadata": {
        "id": "LYr0zAMyqyq2",
        "colab_type": "code",
        "colab": {}
      },
      "source": [
        "chris_drop_col_list = ['trafficSource.adwordsClickInfo.adNetworkType','totals.timeOnSite','totals.sessionQualityDim',\n",
        "                 'customDimension.value','trafficSource.keyword']"
      ],
      "execution_count": 0,
      "outputs": []
    },
    {
      "cell_type": "code",
      "metadata": {
        "id": "k3LDrmBQXSCv",
        "colab_type": "code",
        "outputId": "26015709-a9bb-42a5-9f1c-5544a54b766b",
        "colab": {
          "base_uri": "https://localhost:8080/",
          "height": 162
        }
      },
      "source": [
        "df_train[chris_drop_col_list].agg(['count', 'size', 'nunique'])"
      ],
      "execution_count": 0,
      "outputs": [
        {
          "output_type": "execute_result",
          "data": {
            "text/html": [
              "<div>\n",
              "<style scoped>\n",
              "    .dataframe tbody tr th:only-of-type {\n",
              "        vertical-align: middle;\n",
              "    }\n",
              "\n",
              "    .dataframe tbody tr th {\n",
              "        vertical-align: top;\n",
              "    }\n",
              "\n",
              "    .dataframe thead th {\n",
              "        text-align: right;\n",
              "    }\n",
              "</style>\n",
              "<table border=\"1\" class=\"dataframe\">\n",
              "  <thead>\n",
              "    <tr style=\"text-align: right;\">\n",
              "      <th></th>\n",
              "      <th>trafficSource.adwordsClickInfo.adNetworkType</th>\n",
              "      <th>totals.timeOnSite</th>\n",
              "      <th>totals.sessionQualityDim</th>\n",
              "      <th>customDimension.value</th>\n",
              "      <th>trafficSource.keyword</th>\n",
              "    </tr>\n",
              "  </thead>\n",
              "  <tbody>\n",
              "    <tr>\n",
              "      <th>count</th>\n",
              "      <td>75274</td>\n",
              "      <td>834043</td>\n",
              "      <td>873063</td>\n",
              "      <td>1375102</td>\n",
              "      <td>655557</td>\n",
              "    </tr>\n",
              "    <tr>\n",
              "      <th>size</th>\n",
              "      <td>1708337</td>\n",
              "      <td>1708337</td>\n",
              "      <td>1708337</td>\n",
              "      <td>1708337</td>\n",
              "      <td>1708337</td>\n",
              "    </tr>\n",
              "    <tr>\n",
              "      <th>nunique</th>\n",
              "      <td>3</td>\n",
              "      <td>4774</td>\n",
              "      <td>100</td>\n",
              "      <td>5</td>\n",
              "      <td>4546</td>\n",
              "    </tr>\n",
              "  </tbody>\n",
              "</table>\n",
              "</div>"
            ],
            "text/plain": [
              "         trafficSource.adwordsClickInfo.adNetworkType  ...  trafficSource.keyword\n",
              "count                                           75274  ...                 655557\n",
              "size                                          1708337  ...                1708337\n",
              "nunique                                             3  ...                   4546\n",
              "\n",
              "[3 rows x 5 columns]"
            ]
          },
          "metadata": {
            "tags": []
          },
          "execution_count": 34
        }
      ]
    },
    {
      "cell_type": "markdown",
      "metadata": {
        "id": "9l4LmFb7gQ26",
        "colab_type": "text"
      },
      "source": [
        "#### adNetworkType"
      ]
    },
    {
      "cell_type": "code",
      "metadata": {
        "id": "342igIfPbqsH",
        "colab_type": "code",
        "outputId": "db1070a3-6654-46a1-aa35-0fb62b29feaf",
        "colab": {
          "base_uri": "https://localhost:8080/",
          "height": 85
        }
      },
      "source": [
        "df_train['trafficSource.adwordsClickInfo.adNetworkType'].value_counts()"
      ],
      "execution_count": 0,
      "outputs": [
        {
          "output_type": "execute_result",
          "data": {
            "text/plain": [
              "Content            42223\n",
              "Google Search      33043\n",
              "Search partners        8\n",
              "Name: trafficSource.adwordsClickInfo.adNetworkType, dtype: int64"
            ]
          },
          "metadata": {
            "tags": []
          },
          "execution_count": 20
        }
      ]
    },
    {
      "cell_type": "markdown",
      "metadata": {
        "id": "Kw4AP7_Idhlz",
        "colab_type": "text"
      },
      "source": [
        "`'trafficSource.adwordsClickInfo.adNetworkType'` should not be dropped because give information about the origin of the add used to acces the store. The null values should be replaced by an unknown value. that could mean the visit comes without the use of adds."
      ]
    },
    {
      "cell_type": "code",
      "metadata": {
        "id": "cCxRy5ijgMSQ",
        "colab_type": "code",
        "colab": {}
      },
      "source": [
        "df_train['trafficSource.adwordsClickInfo.adNetworkType'].fillna('Unknown', inplace=True)\n",
        " # filling missing values with Unknown"
      ],
      "execution_count": 0,
      "outputs": []
    },
    {
      "cell_type": "markdown",
      "metadata": {
        "id": "QiuqOG3JgYto",
        "colab_type": "text"
      },
      "source": [
        "#### customDimension.value"
      ]
    },
    {
      "cell_type": "markdown",
      "metadata": {
        "id": "e5-sWIv8f73o",
        "colab_type": "text"
      },
      "source": [
        "The time on site might be irrelevant to predict transaction revenue, however should be assess. The categorical variable should be turn into integers and the NULL into zeros."
      ]
    },
    {
      "cell_type": "code",
      "metadata": {
        "id": "j9Ims4NreWBk",
        "colab_type": "code",
        "outputId": "32758ce9-b38a-48a5-cf12-8be7bc308302",
        "colab": {
          "base_uri": "https://localhost:8080/",
          "height": 119
        }
      },
      "source": [
        "df_train['customDimension.value'].value_counts()"
      ],
      "execution_count": 0,
      "outputs": [
        {
          "output_type": "execute_result",
          "data": {
            "text/plain": [
              "North America      768223\n",
              "EMEA               313991\n",
              "APAC               222071\n",
              "South America       45553\n",
              "Central America     25264\n",
              "Name: customDimension.value, dtype: int64"
            ]
          },
          "metadata": {
            "tags": []
          },
          "execution_count": 22
        }
      ]
    },
    {
      "cell_type": "code",
      "metadata": {
        "id": "nOoynhvFhsKZ",
        "colab_type": "code",
        "outputId": "8f6b8647-fe88-4d37-9c54-1c8b418633ae",
        "colab": {
          "base_uri": "https://localhost:8080/",
          "height": 136
        }
      },
      "source": [
        "df_train['geoNetwork.continent'].value_counts()"
      ],
      "execution_count": 0,
      "outputs": [
        {
          "output_type": "execute_result",
          "data": {
            "text/plain": [
              "Americas     877403\n",
              "Asia         396719\n",
              "Europe       368037\n",
              "Africa        35481\n",
              "Oceania       28180\n",
              "(not set)      2517\n",
              "Name: geoNetwork.continent, dtype: int64"
            ]
          },
          "metadata": {
            "tags": []
          },
          "execution_count": 72
        }
      ]
    },
    {
      "cell_type": "code",
      "metadata": {
        "id": "Xcru8tu4qZx4",
        "colab_type": "code",
        "outputId": "19877e8a-bb6e-4432-e49f-5da62332c6e4",
        "colab": {
          "base_uri": "https://localhost:8080/",
          "height": 731
        }
      },
      "source": [
        "df_train.groupby(['customDimension.value','geoNetwork.continent'])[['fullVisitorId']].count()"
      ],
      "execution_count": 0,
      "outputs": [
        {
          "output_type": "execute_result",
          "data": {
            "text/html": [
              "<div>\n",
              "<style scoped>\n",
              "    .dataframe tbody tr th:only-of-type {\n",
              "        vertical-align: middle;\n",
              "    }\n",
              "\n",
              "    .dataframe tbody tr th {\n",
              "        vertical-align: top;\n",
              "    }\n",
              "\n",
              "    .dataframe thead th {\n",
              "        text-align: right;\n",
              "    }\n",
              "</style>\n",
              "<table border=\"1\" class=\"dataframe\">\n",
              "  <thead>\n",
              "    <tr style=\"text-align: right;\">\n",
              "      <th></th>\n",
              "      <th></th>\n",
              "      <th>fullVisitorId</th>\n",
              "    </tr>\n",
              "    <tr>\n",
              "      <th>customDimension.value</th>\n",
              "      <th>geoNetwork.continent</th>\n",
              "      <th></th>\n",
              "    </tr>\n",
              "  </thead>\n",
              "  <tbody>\n",
              "    <tr>\n",
              "      <th rowspan=\"6\" valign=\"top\">APAC</th>\n",
              "      <th>(not set)</th>\n",
              "      <td>4</td>\n",
              "    </tr>\n",
              "    <tr>\n",
              "      <th>Africa</th>\n",
              "      <td>1</td>\n",
              "    </tr>\n",
              "    <tr>\n",
              "      <th>Americas</th>\n",
              "      <td>26</td>\n",
              "    </tr>\n",
              "    <tr>\n",
              "      <th>Asia</th>\n",
              "      <td>198385</td>\n",
              "    </tr>\n",
              "    <tr>\n",
              "      <th>Europe</th>\n",
              "      <td>6</td>\n",
              "    </tr>\n",
              "    <tr>\n",
              "      <th>Oceania</th>\n",
              "      <td>23649</td>\n",
              "    </tr>\n",
              "    <tr>\n",
              "      <th rowspan=\"2\" valign=\"top\">Central America</th>\n",
              "      <th>Americas</th>\n",
              "      <td>25263</td>\n",
              "    </tr>\n",
              "    <tr>\n",
              "      <th>Europe</th>\n",
              "      <td>1</td>\n",
              "    </tr>\n",
              "    <tr>\n",
              "      <th rowspan=\"5\" valign=\"top\">EMEA</th>\n",
              "      <th>(not set)</th>\n",
              "      <td>2</td>\n",
              "    </tr>\n",
              "    <tr>\n",
              "      <th>Africa</th>\n",
              "      <td>2</td>\n",
              "    </tr>\n",
              "    <tr>\n",
              "      <th>Americas</th>\n",
              "      <td>28</td>\n",
              "    </tr>\n",
              "    <tr>\n",
              "      <th>Asia</th>\n",
              "      <td>29176</td>\n",
              "    </tr>\n",
              "    <tr>\n",
              "      <th>Europe</th>\n",
              "      <td>284783</td>\n",
              "    </tr>\n",
              "    <tr>\n",
              "      <th rowspan=\"6\" valign=\"top\">North America</th>\n",
              "      <th>(not set)</th>\n",
              "      <td>7</td>\n",
              "    </tr>\n",
              "    <tr>\n",
              "      <th>Africa</th>\n",
              "      <td>3</td>\n",
              "    </tr>\n",
              "    <tr>\n",
              "      <th>Americas</th>\n",
              "      <td>768066</td>\n",
              "    </tr>\n",
              "    <tr>\n",
              "      <th>Asia</th>\n",
              "      <td>107</td>\n",
              "    </tr>\n",
              "    <tr>\n",
              "      <th>Europe</th>\n",
              "      <td>38</td>\n",
              "    </tr>\n",
              "    <tr>\n",
              "      <th>Oceania</th>\n",
              "      <td>2</td>\n",
              "    </tr>\n",
              "    <tr>\n",
              "      <th rowspan=\"2\" valign=\"top\">South America</th>\n",
              "      <th>Americas</th>\n",
              "      <td>45552</td>\n",
              "    </tr>\n",
              "    <tr>\n",
              "      <th>Europe</th>\n",
              "      <td>1</td>\n",
              "    </tr>\n",
              "  </tbody>\n",
              "</table>\n",
              "</div>"
            ],
            "text/plain": [
              "                                            fullVisitorId\n",
              "customDimension.value geoNetwork.continent               \n",
              "APAC                  (not set)                         4\n",
              "                      Africa                            1\n",
              "                      Americas                         26\n",
              "                      Asia                         198385\n",
              "                      Europe                            6\n",
              "                      Oceania                       23649\n",
              "Central America       Americas                      25263\n",
              "                      Europe                            1\n",
              "EMEA                  (not set)                         2\n",
              "                      Africa                            2\n",
              "                      Americas                         28\n",
              "                      Asia                          29176\n",
              "                      Europe                       284783\n",
              "North America         (not set)                         7\n",
              "                      Africa                            3\n",
              "                      Americas                     768066\n",
              "                      Asia                            107\n",
              "                      Europe                           38\n",
              "                      Oceania                           2\n",
              "South America         Americas                      45552\n",
              "                      Europe                            1"
            ]
          },
          "metadata": {
            "tags": []
          },
          "execution_count": 74
        }
      ]
    },
    {
      "cell_type": "markdown",
      "metadata": {
        "id": "QW0Q5LSDr9GV",
        "colab_type": "text"
      },
      "source": [
        "it seems that both `customDimension.value` AND `geoNetwork.continent` give us geographical region about where the visitor is located. We should not dropped `customDimension.value` till now wich of this two contributes more for the prediction. Instead we can give a 'not set' label to all those NULL values in this variable."
      ]
    },
    {
      "cell_type": "code",
      "metadata": {
        "id": "zUfD70sEs8vF",
        "colab_type": "code",
        "colab": {}
      },
      "source": [
        "df_train['customDimension.value'].fillna('(not set)', inplace=True)\n",
        " # filling missing values with Unknown"
      ],
      "execution_count": 0,
      "outputs": []
    },
    {
      "cell_type": "markdown",
      "metadata": {
        "id": "nSZl_flrtY_x",
        "colab_type": "text"
      },
      "source": [
        "#### trafficSource.keyword"
      ]
    },
    {
      "cell_type": "code",
      "metadata": {
        "id": "uOGCgyFetjQT",
        "colab_type": "code",
        "outputId": "3ce2816b-0980-4ae2-8251-ad513dd296b8",
        "colab": {
          "base_uri": "https://localhost:8080/",
          "height": 221
        }
      },
      "source": [
        "df_train['trafficSource.keyword'].value_counts()"
      ],
      "execution_count": 0,
      "outputs": [
        {
          "output_type": "execute_result",
          "data": {
            "text/plain": [
              "(not provided)                     568933\n",
              "(User vertical targeting)           25918\n",
              "(automatic matching)                18464\n",
              "6qEhsCssdK0z36ri                    10870\n",
              "(Remarketing/Content targeting)      5826\n",
              "                                    ...  \n",
              "googal compny ragstior obline           1\n",
              "acheter goodie google au usa            1\n",
              "sign in google                          1\n",
              "buy tshirt online india                 1\n",
              "युतुब आनलाइन                            1\n",
              "Name: trafficSource.keyword, Length: 4546, dtype: int64"
            ]
          },
          "metadata": {
            "tags": []
          },
          "execution_count": 76
        }
      ]
    },
    {
      "cell_type": "markdown",
      "metadata": {
        "id": "4MgNc18Awr11",
        "colab_type": "text"
      },
      "source": [
        "the keyword may be a good predictor, however we should take care about the high cardinality on this variable. The NULL values can again be filled with an 'unknown' category "
      ]
    },
    {
      "cell_type": "code",
      "metadata": {
        "id": "3A8zo3MvzTxD",
        "colab_type": "code",
        "outputId": "42abb6cd-1c9b-441d-957f-02c6baadcffc",
        "colab": {
          "base_uri": "https://localhost:8080/",
          "height": 221
        }
      },
      "source": [
        "df_train['trafficSource.keyword'].fillna('Unknown', inplace=True)\n",
        " # filling missing values with Unknown\n",
        "df_train['trafficSource.keyword'].value_counts()"
      ],
      "execution_count": 0,
      "outputs": [
        {
          "output_type": "execute_result",
          "data": {
            "text/plain": [
              "Unknown                      1052780\n",
              "(not provided)                568933\n",
              "(User vertical targeting)      25918\n",
              "(automatic matching)           18464\n",
              "6qEhsCssdK0z36ri               10870\n",
              "                              ...   \n",
              "www youtube in                     1\n",
              "google g                           1\n",
              "yubtube                            1\n",
              "buy google print shirt             1\n",
              "www.googel.com ng gift             1\n",
              "Name: trafficSource.keyword, Length: 4547, dtype: int64"
            ]
          },
          "metadata": {
            "tags": []
          },
          "execution_count": 24
        }
      ]
    },
    {
      "cell_type": "code",
      "metadata": {
        "id": "IxUk6h-6qyrB",
        "colab_type": "code",
        "outputId": "585107f2-4039-4bfd-dcba-4c811e2f2310",
        "colab": {
          "base_uri": "https://localhost:8080/",
          "height": 326
        }
      },
      "source": [
        "df_train.head()"
      ],
      "execution_count": 0,
      "outputs": [
        {
          "output_type": "execute_result",
          "data": {
            "text/html": [
              "<div>\n",
              "<style scoped>\n",
              "    .dataframe tbody tr th:only-of-type {\n",
              "        vertical-align: middle;\n",
              "    }\n",
              "\n",
              "    .dataframe tbody tr th {\n",
              "        vertical-align: top;\n",
              "    }\n",
              "\n",
              "    .dataframe thead th {\n",
              "        text-align: right;\n",
              "    }\n",
              "</style>\n",
              "<table border=\"1\" class=\"dataframe\">\n",
              "  <thead>\n",
              "    <tr style=\"text-align: right;\">\n",
              "      <th></th>\n",
              "      <th>channelGrouping</th>\n",
              "      <th>date</th>\n",
              "      <th>fullVisitorId</th>\n",
              "      <th>visitId</th>\n",
              "      <th>visitNumber</th>\n",
              "      <th>visitStartTime</th>\n",
              "      <th>device.browser</th>\n",
              "      <th>device.operatingSystem</th>\n",
              "      <th>device.isMobile</th>\n",
              "      <th>device.deviceCategory</th>\n",
              "      <th>geoNetwork.continent</th>\n",
              "      <th>geoNetwork.subContinent</th>\n",
              "      <th>geoNetwork.country</th>\n",
              "      <th>geoNetwork.region</th>\n",
              "      <th>geoNetwork.metro</th>\n",
              "      <th>geoNetwork.city</th>\n",
              "      <th>geoNetwork.networkDomain</th>\n",
              "      <th>totals.hits</th>\n",
              "      <th>totals.pageviews</th>\n",
              "      <th>totals.bounces</th>\n",
              "      <th>totals.newVisits</th>\n",
              "      <th>totals.sessionQualityDim</th>\n",
              "      <th>totals.timeOnSite</th>\n",
              "      <th>totals.transactions</th>\n",
              "      <th>totals.transactionRevenue</th>\n",
              "      <th>totals.totalTransactionRevenue</th>\n",
              "      <th>trafficSource.source</th>\n",
              "      <th>trafficSource.medium</th>\n",
              "      <th>trafficSource.keyword</th>\n",
              "      <th>trafficSource.isTrueDirect</th>\n",
              "      <th>trafficSource.adwordsClickInfo.adNetworkType</th>\n",
              "      <th>trafficSource.adwordsClickInfo.isVideoAd</th>\n",
              "      <th>customDimension.value</th>\n",
              "      <th>year</th>\n",
              "      <th>day</th>\n",
              "      <th>week</th>\n",
              "      <th>month</th>\n",
              "    </tr>\n",
              "  </thead>\n",
              "  <tbody>\n",
              "    <tr>\n",
              "      <th>0</th>\n",
              "      <td>Organic Search</td>\n",
              "      <td>2017-10-16</td>\n",
              "      <td>3162355547410993243</td>\n",
              "      <td>1508198450</td>\n",
              "      <td>1</td>\n",
              "      <td>1508198450</td>\n",
              "      <td>Firefox</td>\n",
              "      <td>Windows</td>\n",
              "      <td>False</td>\n",
              "      <td>desktop</td>\n",
              "      <td>Europe</td>\n",
              "      <td>Western Europe</td>\n",
              "      <td>Germany</td>\n",
              "      <td>not available in demo dataset</td>\n",
              "      <td>not available in demo dataset</td>\n",
              "      <td>not available in demo dataset</td>\n",
              "      <td>(not set)</td>\n",
              "      <td>1.0</td>\n",
              "      <td>1</td>\n",
              "      <td>1</td>\n",
              "      <td>1</td>\n",
              "      <td>1.0</td>\n",
              "      <td>0</td>\n",
              "      <td>0</td>\n",
              "      <td>0.0</td>\n",
              "      <td>NaN</td>\n",
              "      <td>google</td>\n",
              "      <td>organic</td>\n",
              "      <td>water bottle</td>\n",
              "      <td>False</td>\n",
              "      <td>Unknown</td>\n",
              "      <td>True</td>\n",
              "      <td>EMEA</td>\n",
              "      <td>2017</td>\n",
              "      <td>Monday</td>\n",
              "      <td>42</td>\n",
              "      <td>October</td>\n",
              "    </tr>\n",
              "    <tr>\n",
              "      <th>1</th>\n",
              "      <td>Referral</td>\n",
              "      <td>2017-10-16</td>\n",
              "      <td>8934116514970143966</td>\n",
              "      <td>1508176307</td>\n",
              "      <td>6</td>\n",
              "      <td>1508176307</td>\n",
              "      <td>Chrome</td>\n",
              "      <td>Chrome OS</td>\n",
              "      <td>False</td>\n",
              "      <td>desktop</td>\n",
              "      <td>Americas</td>\n",
              "      <td>Northern America</td>\n",
              "      <td>United States</td>\n",
              "      <td>California</td>\n",
              "      <td>San Francisco-Oakland-San Jose CA</td>\n",
              "      <td>Cupertino</td>\n",
              "      <td>(not set)</td>\n",
              "      <td>2.0</td>\n",
              "      <td>2</td>\n",
              "      <td>0</td>\n",
              "      <td>0</td>\n",
              "      <td>2.0</td>\n",
              "      <td>28</td>\n",
              "      <td>0</td>\n",
              "      <td>0.0</td>\n",
              "      <td>NaN</td>\n",
              "      <td>sites.google.com</td>\n",
              "      <td>referral</td>\n",
              "      <td>Unknown</td>\n",
              "      <td>False</td>\n",
              "      <td>Unknown</td>\n",
              "      <td>True</td>\n",
              "      <td>North America</td>\n",
              "      <td>2017</td>\n",
              "      <td>Monday</td>\n",
              "      <td>42</td>\n",
              "      <td>October</td>\n",
              "    </tr>\n",
              "    <tr>\n",
              "      <th>2</th>\n",
              "      <td>Direct</td>\n",
              "      <td>2017-10-16</td>\n",
              "      <td>7992466427990357681</td>\n",
              "      <td>1508201613</td>\n",
              "      <td>1</td>\n",
              "      <td>1508201613</td>\n",
              "      <td>Chrome</td>\n",
              "      <td>Android</td>\n",
              "      <td>True</td>\n",
              "      <td>mobile</td>\n",
              "      <td>Americas</td>\n",
              "      <td>Northern America</td>\n",
              "      <td>United States</td>\n",
              "      <td>not available in demo dataset</td>\n",
              "      <td>not available in demo dataset</td>\n",
              "      <td>not available in demo dataset</td>\n",
              "      <td>windjammercable.net</td>\n",
              "      <td>2.0</td>\n",
              "      <td>2</td>\n",
              "      <td>0</td>\n",
              "      <td>1</td>\n",
              "      <td>1.0</td>\n",
              "      <td>38</td>\n",
              "      <td>0</td>\n",
              "      <td>0.0</td>\n",
              "      <td>NaN</td>\n",
              "      <td>(direct)</td>\n",
              "      <td>(none)</td>\n",
              "      <td>Unknown</td>\n",
              "      <td>True</td>\n",
              "      <td>Unknown</td>\n",
              "      <td>True</td>\n",
              "      <td>North America</td>\n",
              "      <td>2017</td>\n",
              "      <td>Monday</td>\n",
              "      <td>42</td>\n",
              "      <td>October</td>\n",
              "    </tr>\n",
              "    <tr>\n",
              "      <th>3</th>\n",
              "      <td>Organic Search</td>\n",
              "      <td>2017-10-16</td>\n",
              "      <td>9075655783635761930</td>\n",
              "      <td>1508169851</td>\n",
              "      <td>1</td>\n",
              "      <td>1508169851</td>\n",
              "      <td>Chrome</td>\n",
              "      <td>Windows</td>\n",
              "      <td>False</td>\n",
              "      <td>desktop</td>\n",
              "      <td>Asia</td>\n",
              "      <td>Western Asia</td>\n",
              "      <td>Turkey</td>\n",
              "      <td>not available in demo dataset</td>\n",
              "      <td>not available in demo dataset</td>\n",
              "      <td>not available in demo dataset</td>\n",
              "      <td>unknown.unknown</td>\n",
              "      <td>2.0</td>\n",
              "      <td>2</td>\n",
              "      <td>0</td>\n",
              "      <td>1</td>\n",
              "      <td>1.0</td>\n",
              "      <td>1</td>\n",
              "      <td>0</td>\n",
              "      <td>0.0</td>\n",
              "      <td>NaN</td>\n",
              "      <td>google</td>\n",
              "      <td>organic</td>\n",
              "      <td>(not provided)</td>\n",
              "      <td>False</td>\n",
              "      <td>Unknown</td>\n",
              "      <td>True</td>\n",
              "      <td>EMEA</td>\n",
              "      <td>2017</td>\n",
              "      <td>Monday</td>\n",
              "      <td>42</td>\n",
              "      <td>October</td>\n",
              "    </tr>\n",
              "    <tr>\n",
              "      <th>4</th>\n",
              "      <td>Organic Search</td>\n",
              "      <td>2017-10-16</td>\n",
              "      <td>6960673291025684308</td>\n",
              "      <td>1508190552</td>\n",
              "      <td>1</td>\n",
              "      <td>1508190552</td>\n",
              "      <td>Chrome</td>\n",
              "      <td>Windows</td>\n",
              "      <td>False</td>\n",
              "      <td>desktop</td>\n",
              "      <td>Americas</td>\n",
              "      <td>Central America</td>\n",
              "      <td>Mexico</td>\n",
              "      <td>not available in demo dataset</td>\n",
              "      <td>not available in demo dataset</td>\n",
              "      <td>not available in demo dataset</td>\n",
              "      <td>prod-infinitum.com.mx</td>\n",
              "      <td>2.0</td>\n",
              "      <td>2</td>\n",
              "      <td>0</td>\n",
              "      <td>1</td>\n",
              "      <td>1.0</td>\n",
              "      <td>52</td>\n",
              "      <td>0</td>\n",
              "      <td>0.0</td>\n",
              "      <td>NaN</td>\n",
              "      <td>google</td>\n",
              "      <td>organic</td>\n",
              "      <td>(not provided)</td>\n",
              "      <td>False</td>\n",
              "      <td>Unknown</td>\n",
              "      <td>True</td>\n",
              "      <td>Central America</td>\n",
              "      <td>2017</td>\n",
              "      <td>Monday</td>\n",
              "      <td>42</td>\n",
              "      <td>October</td>\n",
              "    </tr>\n",
              "  </tbody>\n",
              "</table>\n",
              "</div>"
            ],
            "text/plain": [
              "  channelGrouping       date        fullVisitorId  ...     day  week    month\n",
              "0  Organic Search 2017-10-16  3162355547410993243  ...  Monday    42  October\n",
              "1        Referral 2017-10-16  8934116514970143966  ...  Monday    42  October\n",
              "2          Direct 2017-10-16  7992466427990357681  ...  Monday    42  October\n",
              "3  Organic Search 2017-10-16  9075655783635761930  ...  Monday    42  October\n",
              "4  Organic Search 2017-10-16  6960673291025684308  ...  Monday    42  October\n",
              "\n",
              "[5 rows x 37 columns]"
            ]
          },
          "metadata": {
            "tags": []
          },
          "execution_count": 79
        }
      ]
    },
    {
      "cell_type": "markdown",
      "metadata": {
        "id": "Gmk-OqAhWENl",
        "colab_type": "text"
      },
      "source": [
        "#### Totals.transactions"
      ]
    },
    {
      "cell_type": "code",
      "metadata": {
        "id": "nYsdpMdqqyrH",
        "colab_type": "code",
        "outputId": "c6b810ae-d964-4835-cceb-5174401d5f0a",
        "colab": {
          "base_uri": "https://localhost:8080/",
          "height": 85
        }
      },
      "source": [
        "values_missing(df_train)"
      ],
      "execution_count": 0,
      "outputs": [
        {
          "output_type": "stream",
          "text": [
            "Total and percent of missing values: \n",
            "                                  Total    Percent\n",
            "totals.totalTransactionRevenue  1689823  98.916256\n",
            "totals.transactions             1689778  98.913622\n"
          ],
          "name": "stdout"
        }
      ]
    },
    {
      "cell_type": "markdown",
      "metadata": {
        "id": "gnhACmclqyrM",
        "colab_type": "text"
      },
      "source": [
        "\n",
        "`totals.transactions` null values is replaced with zeros.\n",
        "\n",
        "Because no transactions is the same as 0 transactions."
      ]
    },
    {
      "cell_type": "code",
      "metadata": {
        "id": "4liCCv8rqyrN",
        "colab_type": "code",
        "colab": {}
      },
      "source": [
        "df_train[\"totals.transactions\"] = df_train[\"totals.transactions\"].fillna(0).astype(int)"
      ],
      "execution_count": 0,
      "outputs": []
    },
    {
      "cell_type": "markdown",
      "metadata": {
        "id": "2KskO0WNVJgY",
        "colab_type": "text"
      },
      "source": [
        "`totals.totalTransactionRevenue` is extremly alike with the target. It might be removed to aviod overfitiing!!\n"
      ]
    },
    {
      "cell_type": "markdown",
      "metadata": {
        "id": "LZXaKM61WbOB",
        "colab_type": "text"
      },
      "source": [
        "#### Total.totalTransactionRevenue"
      ]
    },
    {
      "cell_type": "code",
      "metadata": {
        "id": "jAQ9XyseqyrT",
        "colab_type": "code",
        "colab": {}
      },
      "source": [
        "df_train.drop('totals.totalTransactionRevenue',axis=1, inplace=True)"
      ],
      "execution_count": 0,
      "outputs": []
    },
    {
      "cell_type": "markdown",
      "metadata": {
        "id": "8MmJ1w5bWuKZ",
        "colab_type": "text"
      },
      "source": [
        "## Verification after Filling NULL Values"
      ]
    },
    {
      "cell_type": "code",
      "metadata": {
        "id": "VNFfMElfW2__",
        "colab_type": "code",
        "outputId": "2fc16321-e916-4049-edc8-4bbc38c4cf51",
        "colab": {
          "base_uri": "https://localhost:8080/",
          "height": 85
        }
      },
      "source": [
        "values_missing(df_train)"
      ],
      "execution_count": 0,
      "outputs": [
        {
          "output_type": "stream",
          "text": [
            "Total and percent of missing values: \n",
            "Empty DataFrame\n",
            "Columns: [Total, Percent]\n",
            "Index: []\n"
          ],
          "name": "stdout"
        }
      ]
    },
    {
      "cell_type": "code",
      "metadata": {
        "id": "WMxoyc5rqyrY",
        "colab_type": "code",
        "outputId": "e0e51677-17d0-4f86-a396-a62f554685b7",
        "colab": {
          "base_uri": "https://localhost:8080/",
          "height": 646
        }
      },
      "source": [
        "df_train.isna().sum()"
      ],
      "execution_count": 0,
      "outputs": [
        {
          "output_type": "execute_result",
          "data": {
            "text/plain": [
              "channelGrouping                                 0\n",
              "date                                            0\n",
              "fullVisitorId                                   0\n",
              "visitId                                         0\n",
              "visitNumber                                     0\n",
              "visitStartTime                                  0\n",
              "device.browser                                  0\n",
              "device.operatingSystem                          0\n",
              "device.isMobile                                 0\n",
              "device.deviceCategory                           0\n",
              "geoNetwork.continent                            0\n",
              "geoNetwork.subContinent                         0\n",
              "geoNetwork.country                              0\n",
              "geoNetwork.region                               0\n",
              "geoNetwork.metro                                0\n",
              "geoNetwork.city                                 0\n",
              "geoNetwork.networkDomain                        0\n",
              "totals.hits                                     0\n",
              "totals.pageviews                                0\n",
              "totals.bounces                                  0\n",
              "totals.newVisits                                0\n",
              "totals.sessionQualityDim                        0\n",
              "totals.timeOnSite                               0\n",
              "totals.transactions                             0\n",
              "totals.transactionRevenue                       0\n",
              "trafficSource.source                            0\n",
              "trafficSource.medium                            0\n",
              "trafficSource.keyword                           0\n",
              "trafficSource.isTrueDirect                      0\n",
              "trafficSource.adwordsClickInfo.adNetworkType    0\n",
              "trafficSource.adwordsClickInfo.isVideoAd        0\n",
              "customDimension.value                           0\n",
              "year                                            0\n",
              "day                                             0\n",
              "week                                            0\n",
              "month                                           0\n",
              "dtype: int64"
            ]
          },
          "metadata": {
            "tags": []
          },
          "execution_count": 83
        }
      ]
    },
    {
      "cell_type": "markdown",
      "metadata": {
        "id": "yefCQ1DZXQ0d",
        "colab_type": "text"
      },
      "source": [
        "## Clean DataSet"
      ]
    },
    {
      "cell_type": "markdown",
      "metadata": {
        "id": "c7wMujQeqyrg",
        "colab_type": "text"
      },
      "source": [
        "OK now my data is clean. i will save the data set before i process with feature selection."
      ]
    },
    {
      "cell_type": "code",
      "metadata": {
        "id": "gP9mFWmeqyrh",
        "colab_type": "code",
        "colab": {}
      },
      "source": [
        "Cleaned_train = df_train"
      ],
      "execution_count": 0,
      "outputs": []
    },
    {
      "cell_type": "code",
      "metadata": {
        "id": "bePEXQG2qyrx",
        "colab_type": "code",
        "outputId": "aaf3a258-2ba6-4fc2-c8ce-970ebc209a70",
        "colab": {
          "base_uri": "https://localhost:8080/",
          "height": 748
        }
      },
      "source": [
        "Cleaned_train.info()"
      ],
      "execution_count": 0,
      "outputs": [
        {
          "output_type": "stream",
          "text": [
            "<class 'pandas.core.frame.DataFrame'>\n",
            "RangeIndex: 1708337 entries, 0 to 1708336\n",
            "Data columns (total 36 columns):\n",
            " #   Column                                        Dtype         \n",
            "---  ------                                        -----         \n",
            " 0   channelGrouping                               object        \n",
            " 1   date                                          datetime64[ns]\n",
            " 2   fullVisitorId                                 object        \n",
            " 3   visitId                                       int64         \n",
            " 4   visitNumber                                   int64         \n",
            " 5   visitStartTime                                int64         \n",
            " 6   device.browser                                object        \n",
            " 7   device.operatingSystem                        object        \n",
            " 8   device.isMobile                               bool          \n",
            " 9   device.deviceCategory                         object        \n",
            " 10  geoNetwork.continent                          object        \n",
            " 11  geoNetwork.subContinent                       object        \n",
            " 12  geoNetwork.country                            object        \n",
            " 13  geoNetwork.region                             object        \n",
            " 14  geoNetwork.metro                              object        \n",
            " 15  geoNetwork.city                               object        \n",
            " 16  geoNetwork.networkDomain                      object        \n",
            " 17  totals.hits                                   float64       \n",
            " 18  totals.pageviews                              int64         \n",
            " 19  totals.bounces                                int64         \n",
            " 20  totals.newVisits                              int64         \n",
            " 21  totals.sessionQualityDim                      float64       \n",
            " 22  totals.timeOnSite                             int64         \n",
            " 23  totals.transactions                           int64         \n",
            " 24  totals.transactionRevenue                     float64       \n",
            " 25  trafficSource.source                          object        \n",
            " 26  trafficSource.medium                          object        \n",
            " 27  trafficSource.keyword                         object        \n",
            " 28  trafficSource.isTrueDirect                    bool          \n",
            " 29  trafficSource.adwordsClickInfo.adNetworkType  object        \n",
            " 30  trafficSource.adwordsClickInfo.isVideoAd      bool          \n",
            " 31  customDimension.value                         object        \n",
            " 32  year                                          int64         \n",
            " 33  day                                           object        \n",
            " 34  week                                          int64         \n",
            " 35  month                                         object        \n",
            "dtypes: bool(3), datetime64[ns](1), float64(3), int64(10), object(19)\n",
            "memory usage: 435.0+ MB\n"
          ],
          "name": "stdout"
        }
      ]
    },
    {
      "cell_type": "markdown",
      "metadata": {
        "id": "ctr_73CvTAkb",
        "colab_type": "text"
      },
      "source": [
        "This is the step where we save the cleaned csv. the address is for my drive, that has to be changed in the code of each of us."
      ]
    },
    {
      "cell_type": "code",
      "metadata": {
        "id": "kkuKHwMhqyr3",
        "colab_type": "code",
        "colab": {}
      },
      "source": [
        "Cleaned_train.to_csv('/content/gdrive/My Drive/ReDi_DA_Project/Datasets_Clean/Cleaned_train.csv',index=False)"
      ],
      "execution_count": 0,
      "outputs": []
    }
  ]
}