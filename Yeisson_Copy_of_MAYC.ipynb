{
  "nbformat": 4,
  "nbformat_minor": 0,
  "metadata": {
    "colab": {
      "name": "Yeisson Copy of MAYC.ipynb",
      "provenance": [],
      "collapsed_sections": [],
      "include_colab_link": true
    },
    "kernelspec": {
      "name": "python3",
      "display_name": "Python 3"
    }
  },
  "cells": [
    {
      "cell_type": "markdown",
      "metadata": {
        "id": "view-in-github",
        "colab_type": "text"
      },
      "source": [
        "<a href=\"https://colab.research.google.com/github/yeialgov/MAYC_ML_Revenue_Prediction/blob/EDA/Yeisson_Copy_of_MAYC.ipynb\" target=\"_parent\"><img src=\"https://colab.research.google.com/assets/colab-badge.svg\" alt=\"Open In Colab\"/></a>"
      ]
    },
    {
      "cell_type": "markdown",
      "metadata": {
        "id": "aMJBVgfZE2C2",
        "colab_type": "text"
      },
      "source": [
        "### Importing kaggle data "
      ]
    },
    {
      "cell_type": "code",
      "metadata": {
        "id": "cXKq7JcL7z1T",
        "colab_type": "code",
        "outputId": "f1edde0d-19e0-40ee-86b9-e97fe69e26e9",
        "colab": {
          "base_uri": "https://localhost:8080/",
          "height": 122
        }
      },
      "source": [
        "#Mount the Google Drive to Google Colab\n",
        "#1. get the library\n",
        "from google.colab import drive\n",
        "drive.mount('/content/gdrive')"
      ],
      "execution_count": 0,
      "outputs": [
        {
          "output_type": "stream",
          "text": [
            "Go to this URL in a browser: https://accounts.google.com/o/oauth2/auth?client_id=947318989803-6bn6qk8qdgf4n4g3pfee6491hc0brc4i.apps.googleusercontent.com&redirect_uri=urn%3aietf%3awg%3aoauth%3a2.0%3aoob&response_type=code&scope=email%20https%3a%2f%2fwww.googleapis.com%2fauth%2fdocs.test%20https%3a%2f%2fwww.googleapis.com%2fauth%2fdrive%20https%3a%2f%2fwww.googleapis.com%2fauth%2fdrive.photos.readonly%20https%3a%2f%2fwww.googleapis.com%2fauth%2fpeopleapi.readonly\n",
            "\n",
            "Enter your authorization code:\n",
            "··········\n",
            "Mounted at /content/gdrive\n"
          ],
          "name": "stdout"
        }
      ]
    },
    {
      "cell_type": "code",
      "metadata": {
        "id": "vsW-sJ5HB7Cd",
        "colab_type": "code",
        "colab": {}
      },
      "source": [
        "root_path = '/content/gdrive/My Drive/ReDi_DA_Project'"
      ],
      "execution_count": 0,
      "outputs": []
    },
    {
      "cell_type": "code",
      "metadata": {
        "id": "oMGWjCqNHtBC",
        "colab_type": "code",
        "outputId": "bb853d6c-a7fd-4831-acd2-1e8b4edf34d6",
        "colab": {
          "base_uri": "https://localhost:8080/",
          "height": 34
        }
      },
      "source": [
        "cd '/content/gdrive/My Drive/ReDi_DA_Project'"
      ],
      "execution_count": 7,
      "outputs": [
        {
          "output_type": "stream",
          "text": [
            "/content/gdrive/My Drive/ReDi_DA_Project\n"
          ],
          "name": "stdout"
        }
      ]
    },
    {
      "cell_type": "code",
      "metadata": {
        "id": "glmgJxUmGknv",
        "colab_type": "code",
        "outputId": "4c62bc2d-fb09-4697-d947-6fe59ef4e096",
        "colab": {
          "base_uri": "https://localhost:8080/",
          "height": 51
        }
      },
      "source": [
        "#for checking the Data\n",
        "ls -alFh"
      ],
      "execution_count": 8,
      "outputs": [
        {
          "output_type": "stream",
          "text": [
            "total 98M\n",
            "-r-------- 1 root root 98M May  4 09:14 preprocessed_ga_revenue_data.zip\n"
          ],
          "name": "stdout"
        }
      ]
    },
    {
      "cell_type": "code",
      "metadata": {
        "id": "pG-J76beHTPm",
        "colab_type": "code",
        "outputId": "5d25ad0b-8c3f-40f3-f536-c519f3c40278",
        "colab": {
          "base_uri": "https://localhost:8080/",
          "height": 187
        }
      },
      "source": [
        "#! unzip train.csv.zip\n",
        "! unzip preprocessed_ga_revenue_data.zip"
      ],
      "execution_count": 9,
      "outputs": [
        {
          "output_type": "stream",
          "text": [
            "Archive:  preprocessed_ga_revenue_data.zip\n",
            "   creating: preprocessed_ga_revenue_data/\n",
            "  inflating: preprocessed_ga_revenue_data/train_flat_no_hits.pkl  \n",
            "  inflating: __MACOSX/preprocessed_ga_revenue_data/._train_flat_no_hits.pkl  \n",
            "  inflating: preprocessed_ga_revenue_data/test_flat_no_hits.pkl  \n",
            "  inflating: __MACOSX/preprocessed_ga_revenue_data/._test_flat_no_hits.pkl  \n",
            "  inflating: preprocessed_ga_revenue_data/train_hits_flat.pkl  \n",
            "  inflating: __MACOSX/preprocessed_ga_revenue_data/._train_hits_flat.pkl  \n",
            "  inflating: preprocessed_ga_revenue_data/test_hits_flat.pkl  \n",
            "  inflating: __MACOSX/preprocessed_ga_revenue_data/._test_hits_flat.pkl  \n"
          ],
          "name": "stdout"
        }
      ]
    },
    {
      "cell_type": "code",
      "metadata": {
        "id": "Gco0XcXuI1O3",
        "colab_type": "code",
        "outputId": "2fc028f2-d89b-4a14-d67b-49ac89704a20",
        "colab": {
          "base_uri": "https://localhost:8080/",
          "height": 34
        }
      },
      "source": [
        "ls"
      ],
      "execution_count": 10,
      "outputs": [
        {
          "output_type": "stream",
          "text": [
            "\u001b[0m\u001b[01;34m__MACOSX\u001b[0m/  \u001b[01;34mpreprocessed_ga_revenue_data\u001b[0m/  preprocessed_ga_revenue_data.zip\n"
          ],
          "name": "stdout"
        }
      ]
    },
    {
      "cell_type": "code",
      "metadata": {
        "id": "83zb5iTdKonJ",
        "colab_type": "code",
        "outputId": "6b63d257-bc04-4715-e971-38c7f030bb79",
        "colab": {
          "base_uri": "https://localhost:8080/",
          "height": 34
        }
      },
      "source": [
        "cd preprocessed_ga_revenue_data"
      ],
      "execution_count": 11,
      "outputs": [
        {
          "output_type": "stream",
          "text": [
            "/content/gdrive/My Drive/ReDi_DA_Project/preprocessed_ga_revenue_data\n"
          ],
          "name": "stdout"
        }
      ]
    },
    {
      "cell_type": "code",
      "metadata": {
        "id": "D1Y71P-cKvQe",
        "colab_type": "code",
        "outputId": "600bc803-4bc0-4cf3-e62e-e19027d5b0a8",
        "colab": {
          "base_uri": "https://localhost:8080/",
          "height": 51
        }
      },
      "source": [
        "ls"
      ],
      "execution_count": 12,
      "outputs": [
        {
          "output_type": "stream",
          "text": [
            "test_flat_no_hits.pkl  train_flat_no_hits.pkl\n",
            "test_hits_flat.pkl     train_hits_flat.pkl\n"
          ],
          "name": "stdout"
        }
      ]
    },
    {
      "cell_type": "markdown",
      "metadata": {
        "id": "qIY8bJlm7fBf",
        "colab_type": "text"
      },
      "source": [
        "# Creating dfs"
      ]
    },
    {
      "cell_type": "code",
      "metadata": {
        "id": "57CymKKY46KP",
        "colab_type": "code",
        "colab": {}
      },
      "source": [
        "# download the libraries\n",
        "import pandas as pd\n",
        "import warnings\n",
        "warnings.filterwarnings('ignore')\n",
        "#!pip3 install --upgrade seaborn cufflinks plotly\n",
        "import numpy as np\n",
        "import matplotlib.pyplot as plt\n",
        "import seaborn as sns\n",
        "from datetime import datetime\n",
        "%matplotlib inline\n",
        "#?\n",
        "import requests"
      ],
      "execution_count": 0,
      "outputs": []
    },
    {
      "cell_type": "code",
      "metadata": {
        "id": "ey73bHcIj6Mw",
        "colab_type": "code",
        "colab": {}
      },
      "source": [
        "# load training data set info a df\n",
        "#df_train=pd.read_csv(filepath_or_buffer='/content/gdrive/My Drive/DA-Data/Kaggel_test.csv')\n",
        "df_train = pd.read_pickle('train_flat_no_hits.pkl')\n",
        "#df_test = pd.read_pickle('test_flat_no_hits.pkl')"
      ],
      "execution_count": 0,
      "outputs": []
    },
    {
      "cell_type": "code",
      "metadata": {
        "id": "ecNVxuXI4rz5",
        "colab_type": "code",
        "outputId": "4284d0bd-5ad8-4075-eb3c-41b0d1aaf3c2",
        "colab": {
          "base_uri": "https://localhost:8080/",
          "height": 1000
        }
      },
      "source": [
        "df_train.info()"
      ],
      "execution_count": 15,
      "outputs": [
        {
          "output_type": "stream",
          "text": [
            "<class 'pandas.core.frame.DataFrame'>\n",
            "RangeIndex: 1708337 entries, 0 to 1708336\n",
            "Data columns (total 60 columns):\n",
            " #   Column                                             Dtype \n",
            "---  ------                                             ----- \n",
            " 0   channelGrouping                                    object\n",
            " 1   date                                               int64 \n",
            " 2   fullVisitorId                                      object\n",
            " 3   socialEngagementType                               object\n",
            " 4   visitId                                            int64 \n",
            " 5   visitNumber                                        int64 \n",
            " 6   visitStartTime                                     int64 \n",
            " 7   device.browser                                     object\n",
            " 8   device.browserVersion                              object\n",
            " 9   device.browserSize                                 object\n",
            " 10  device.operatingSystem                             object\n",
            " 11  device.operatingSystemVersion                      object\n",
            " 12  device.isMobile                                    bool  \n",
            " 13  device.mobileDeviceBranding                        object\n",
            " 14  device.mobileDeviceModel                           object\n",
            " 15  device.mobileInputSelector                         object\n",
            " 16  device.mobileDeviceInfo                            object\n",
            " 17  device.mobileDeviceMarketingName                   object\n",
            " 18  device.flashVersion                                object\n",
            " 19  device.language                                    object\n",
            " 20  device.screenColors                                object\n",
            " 21  device.screenResolution                            object\n",
            " 22  device.deviceCategory                              object\n",
            " 23  geoNetwork.continent                               object\n",
            " 24  geoNetwork.subContinent                            object\n",
            " 25  geoNetwork.country                                 object\n",
            " 26  geoNetwork.region                                  object\n",
            " 27  geoNetwork.metro                                   object\n",
            " 28  geoNetwork.city                                    object\n",
            " 29  geoNetwork.cityId                                  object\n",
            " 30  geoNetwork.networkDomain                           object\n",
            " 31  geoNetwork.latitude                                object\n",
            " 32  geoNetwork.longitude                               object\n",
            " 33  geoNetwork.networkLocation                         object\n",
            " 34  totals.visits                                      object\n",
            " 35  totals.hits                                        object\n",
            " 36  totals.pageviews                                   object\n",
            " 37  totals.bounces                                     object\n",
            " 38  totals.newVisits                                   object\n",
            " 39  totals.sessionQualityDim                           object\n",
            " 40  totals.timeOnSite                                  object\n",
            " 41  totals.transactions                                object\n",
            " 42  totals.transactionRevenue                          object\n",
            " 43  totals.totalTransactionRevenue                     object\n",
            " 44  trafficSource.campaign                             object\n",
            " 45  trafficSource.source                               object\n",
            " 46  trafficSource.medium                               object\n",
            " 47  trafficSource.keyword                              object\n",
            " 48  trafficSource.adwordsClickInfo.criteriaParameters  object\n",
            " 49  trafficSource.referralPath                         object\n",
            " 50  trafficSource.isTrueDirect                         object\n",
            " 51  trafficSource.adContent                            object\n",
            " 52  trafficSource.adwordsClickInfo.page                object\n",
            " 53  trafficSource.adwordsClickInfo.slot                object\n",
            " 54  trafficSource.adwordsClickInfo.gclId               object\n",
            " 55  trafficSource.adwordsClickInfo.adNetworkType       object\n",
            " 56  trafficSource.adwordsClickInfo.isVideoAd           object\n",
            " 57  trafficSource.campaignCode                         object\n",
            " 58  customDimension.index                              object\n",
            " 59  customDimension.value                              object\n",
            "dtypes: bool(1), int64(4), object(55)\n",
            "memory usage: 770.6+ MB\n"
          ],
          "name": "stdout"
        }
      ]
    },
    {
      "cell_type": "code",
      "metadata": {
        "id": "w_Ttlzio6gwn",
        "colab_type": "code",
        "outputId": "9b717f1f-2d73-4daf-8aea-03c0b26c78d4",
        "colab": {
          "base_uri": "https://localhost:8080/",
          "height": 326
        }
      },
      "source": [
        "df_train.head(5)"
      ],
      "execution_count": 16,
      "outputs": [
        {
          "output_type": "execute_result",
          "data": {
            "text/html": [
              "<div>\n",
              "<style scoped>\n",
              "    .dataframe tbody tr th:only-of-type {\n",
              "        vertical-align: middle;\n",
              "    }\n",
              "\n",
              "    .dataframe tbody tr th {\n",
              "        vertical-align: top;\n",
              "    }\n",
              "\n",
              "    .dataframe thead th {\n",
              "        text-align: right;\n",
              "    }\n",
              "</style>\n",
              "<table border=\"1\" class=\"dataframe\">\n",
              "  <thead>\n",
              "    <tr style=\"text-align: right;\">\n",
              "      <th></th>\n",
              "      <th>channelGrouping</th>\n",
              "      <th>date</th>\n",
              "      <th>fullVisitorId</th>\n",
              "      <th>socialEngagementType</th>\n",
              "      <th>visitId</th>\n",
              "      <th>visitNumber</th>\n",
              "      <th>visitStartTime</th>\n",
              "      <th>device.browser</th>\n",
              "      <th>device.browserVersion</th>\n",
              "      <th>device.browserSize</th>\n",
              "      <th>device.operatingSystem</th>\n",
              "      <th>device.operatingSystemVersion</th>\n",
              "      <th>device.isMobile</th>\n",
              "      <th>device.mobileDeviceBranding</th>\n",
              "      <th>device.mobileDeviceModel</th>\n",
              "      <th>device.mobileInputSelector</th>\n",
              "      <th>device.mobileDeviceInfo</th>\n",
              "      <th>device.mobileDeviceMarketingName</th>\n",
              "      <th>device.flashVersion</th>\n",
              "      <th>device.language</th>\n",
              "      <th>device.screenColors</th>\n",
              "      <th>device.screenResolution</th>\n",
              "      <th>device.deviceCategory</th>\n",
              "      <th>geoNetwork.continent</th>\n",
              "      <th>geoNetwork.subContinent</th>\n",
              "      <th>geoNetwork.country</th>\n",
              "      <th>geoNetwork.region</th>\n",
              "      <th>geoNetwork.metro</th>\n",
              "      <th>geoNetwork.city</th>\n",
              "      <th>geoNetwork.cityId</th>\n",
              "      <th>geoNetwork.networkDomain</th>\n",
              "      <th>geoNetwork.latitude</th>\n",
              "      <th>geoNetwork.longitude</th>\n",
              "      <th>geoNetwork.networkLocation</th>\n",
              "      <th>totals.visits</th>\n",
              "      <th>totals.hits</th>\n",
              "      <th>totals.pageviews</th>\n",
              "      <th>totals.bounces</th>\n",
              "      <th>totals.newVisits</th>\n",
              "      <th>totals.sessionQualityDim</th>\n",
              "      <th>totals.timeOnSite</th>\n",
              "      <th>totals.transactions</th>\n",
              "      <th>totals.transactionRevenue</th>\n",
              "      <th>totals.totalTransactionRevenue</th>\n",
              "      <th>trafficSource.campaign</th>\n",
              "      <th>trafficSource.source</th>\n",
              "      <th>trafficSource.medium</th>\n",
              "      <th>trafficSource.keyword</th>\n",
              "      <th>trafficSource.adwordsClickInfo.criteriaParameters</th>\n",
              "      <th>trafficSource.referralPath</th>\n",
              "      <th>trafficSource.isTrueDirect</th>\n",
              "      <th>trafficSource.adContent</th>\n",
              "      <th>trafficSource.adwordsClickInfo.page</th>\n",
              "      <th>trafficSource.adwordsClickInfo.slot</th>\n",
              "      <th>trafficSource.adwordsClickInfo.gclId</th>\n",
              "      <th>trafficSource.adwordsClickInfo.adNetworkType</th>\n",
              "      <th>trafficSource.adwordsClickInfo.isVideoAd</th>\n",
              "      <th>trafficSource.campaignCode</th>\n",
              "      <th>customDimension.index</th>\n",
              "      <th>customDimension.value</th>\n",
              "    </tr>\n",
              "  </thead>\n",
              "  <tbody>\n",
              "    <tr>\n",
              "      <th>0</th>\n",
              "      <td>Organic Search</td>\n",
              "      <td>20171016</td>\n",
              "      <td>3162355547410993243</td>\n",
              "      <td>Not Socially Engaged</td>\n",
              "      <td>1508198450</td>\n",
              "      <td>1</td>\n",
              "      <td>1508198450</td>\n",
              "      <td>Firefox</td>\n",
              "      <td>not available in demo dataset</td>\n",
              "      <td>not available in demo dataset</td>\n",
              "      <td>Windows</td>\n",
              "      <td>not available in demo dataset</td>\n",
              "      <td>False</td>\n",
              "      <td>not available in demo dataset</td>\n",
              "      <td>not available in demo dataset</td>\n",
              "      <td>not available in demo dataset</td>\n",
              "      <td>not available in demo dataset</td>\n",
              "      <td>not available in demo dataset</td>\n",
              "      <td>not available in demo dataset</td>\n",
              "      <td>not available in demo dataset</td>\n",
              "      <td>not available in demo dataset</td>\n",
              "      <td>not available in demo dataset</td>\n",
              "      <td>desktop</td>\n",
              "      <td>Europe</td>\n",
              "      <td>Western Europe</td>\n",
              "      <td>Germany</td>\n",
              "      <td>not available in demo dataset</td>\n",
              "      <td>not available in demo dataset</td>\n",
              "      <td>not available in demo dataset</td>\n",
              "      <td>not available in demo dataset</td>\n",
              "      <td>(not set)</td>\n",
              "      <td>not available in demo dataset</td>\n",
              "      <td>not available in demo dataset</td>\n",
              "      <td>not available in demo dataset</td>\n",
              "      <td>1</td>\n",
              "      <td>1</td>\n",
              "      <td>1</td>\n",
              "      <td>1</td>\n",
              "      <td>1</td>\n",
              "      <td>1</td>\n",
              "      <td>NaN</td>\n",
              "      <td>NaN</td>\n",
              "      <td>NaN</td>\n",
              "      <td>NaN</td>\n",
              "      <td>(not set)</td>\n",
              "      <td>google</td>\n",
              "      <td>organic</td>\n",
              "      <td>water bottle</td>\n",
              "      <td>not available in demo dataset</td>\n",
              "      <td>NaN</td>\n",
              "      <td>NaN</td>\n",
              "      <td>NaN</td>\n",
              "      <td>NaN</td>\n",
              "      <td>NaN</td>\n",
              "      <td>NaN</td>\n",
              "      <td>NaN</td>\n",
              "      <td>NaN</td>\n",
              "      <td>NaN</td>\n",
              "      <td>4</td>\n",
              "      <td>EMEA</td>\n",
              "    </tr>\n",
              "    <tr>\n",
              "      <th>1</th>\n",
              "      <td>Referral</td>\n",
              "      <td>20171016</td>\n",
              "      <td>8934116514970143966</td>\n",
              "      <td>Not Socially Engaged</td>\n",
              "      <td>1508176307</td>\n",
              "      <td>6</td>\n",
              "      <td>1508176307</td>\n",
              "      <td>Chrome</td>\n",
              "      <td>not available in demo dataset</td>\n",
              "      <td>not available in demo dataset</td>\n",
              "      <td>Chrome OS</td>\n",
              "      <td>not available in demo dataset</td>\n",
              "      <td>False</td>\n",
              "      <td>not available in demo dataset</td>\n",
              "      <td>not available in demo dataset</td>\n",
              "      <td>not available in demo dataset</td>\n",
              "      <td>not available in demo dataset</td>\n",
              "      <td>not available in demo dataset</td>\n",
              "      <td>not available in demo dataset</td>\n",
              "      <td>not available in demo dataset</td>\n",
              "      <td>not available in demo dataset</td>\n",
              "      <td>not available in demo dataset</td>\n",
              "      <td>desktop</td>\n",
              "      <td>Americas</td>\n",
              "      <td>Northern America</td>\n",
              "      <td>United States</td>\n",
              "      <td>California</td>\n",
              "      <td>San Francisco-Oakland-San Jose CA</td>\n",
              "      <td>Cupertino</td>\n",
              "      <td>not available in demo dataset</td>\n",
              "      <td>(not set)</td>\n",
              "      <td>not available in demo dataset</td>\n",
              "      <td>not available in demo dataset</td>\n",
              "      <td>not available in demo dataset</td>\n",
              "      <td>1</td>\n",
              "      <td>2</td>\n",
              "      <td>2</td>\n",
              "      <td>NaN</td>\n",
              "      <td>NaN</td>\n",
              "      <td>2</td>\n",
              "      <td>28</td>\n",
              "      <td>NaN</td>\n",
              "      <td>NaN</td>\n",
              "      <td>NaN</td>\n",
              "      <td>(not set)</td>\n",
              "      <td>sites.google.com</td>\n",
              "      <td>referral</td>\n",
              "      <td>NaN</td>\n",
              "      <td>not available in demo dataset</td>\n",
              "      <td>/a/google.com/transportation/mtv-services/bike...</td>\n",
              "      <td>NaN</td>\n",
              "      <td>NaN</td>\n",
              "      <td>NaN</td>\n",
              "      <td>NaN</td>\n",
              "      <td>NaN</td>\n",
              "      <td>NaN</td>\n",
              "      <td>NaN</td>\n",
              "      <td>NaN</td>\n",
              "      <td>4</td>\n",
              "      <td>North America</td>\n",
              "    </tr>\n",
              "    <tr>\n",
              "      <th>2</th>\n",
              "      <td>Direct</td>\n",
              "      <td>20171016</td>\n",
              "      <td>7992466427990357681</td>\n",
              "      <td>Not Socially Engaged</td>\n",
              "      <td>1508201613</td>\n",
              "      <td>1</td>\n",
              "      <td>1508201613</td>\n",
              "      <td>Chrome</td>\n",
              "      <td>not available in demo dataset</td>\n",
              "      <td>not available in demo dataset</td>\n",
              "      <td>Android</td>\n",
              "      <td>not available in demo dataset</td>\n",
              "      <td>True</td>\n",
              "      <td>not available in demo dataset</td>\n",
              "      <td>not available in demo dataset</td>\n",
              "      <td>not available in demo dataset</td>\n",
              "      <td>not available in demo dataset</td>\n",
              "      <td>not available in demo dataset</td>\n",
              "      <td>not available in demo dataset</td>\n",
              "      <td>not available in demo dataset</td>\n",
              "      <td>not available in demo dataset</td>\n",
              "      <td>not available in demo dataset</td>\n",
              "      <td>mobile</td>\n",
              "      <td>Americas</td>\n",
              "      <td>Northern America</td>\n",
              "      <td>United States</td>\n",
              "      <td>not available in demo dataset</td>\n",
              "      <td>not available in demo dataset</td>\n",
              "      <td>not available in demo dataset</td>\n",
              "      <td>not available in demo dataset</td>\n",
              "      <td>windjammercable.net</td>\n",
              "      <td>not available in demo dataset</td>\n",
              "      <td>not available in demo dataset</td>\n",
              "      <td>not available in demo dataset</td>\n",
              "      <td>1</td>\n",
              "      <td>2</td>\n",
              "      <td>2</td>\n",
              "      <td>NaN</td>\n",
              "      <td>1</td>\n",
              "      <td>1</td>\n",
              "      <td>38</td>\n",
              "      <td>NaN</td>\n",
              "      <td>NaN</td>\n",
              "      <td>NaN</td>\n",
              "      <td>(not set)</td>\n",
              "      <td>(direct)</td>\n",
              "      <td>(none)</td>\n",
              "      <td>NaN</td>\n",
              "      <td>not available in demo dataset</td>\n",
              "      <td>NaN</td>\n",
              "      <td>True</td>\n",
              "      <td>NaN</td>\n",
              "      <td>NaN</td>\n",
              "      <td>NaN</td>\n",
              "      <td>NaN</td>\n",
              "      <td>NaN</td>\n",
              "      <td>NaN</td>\n",
              "      <td>NaN</td>\n",
              "      <td>4</td>\n",
              "      <td>North America</td>\n",
              "    </tr>\n",
              "    <tr>\n",
              "      <th>3</th>\n",
              "      <td>Organic Search</td>\n",
              "      <td>20171016</td>\n",
              "      <td>9075655783635761930</td>\n",
              "      <td>Not Socially Engaged</td>\n",
              "      <td>1508169851</td>\n",
              "      <td>1</td>\n",
              "      <td>1508169851</td>\n",
              "      <td>Chrome</td>\n",
              "      <td>not available in demo dataset</td>\n",
              "      <td>not available in demo dataset</td>\n",
              "      <td>Windows</td>\n",
              "      <td>not available in demo dataset</td>\n",
              "      <td>False</td>\n",
              "      <td>not available in demo dataset</td>\n",
              "      <td>not available in demo dataset</td>\n",
              "      <td>not available in demo dataset</td>\n",
              "      <td>not available in demo dataset</td>\n",
              "      <td>not available in demo dataset</td>\n",
              "      <td>not available in demo dataset</td>\n",
              "      <td>not available in demo dataset</td>\n",
              "      <td>not available in demo dataset</td>\n",
              "      <td>not available in demo dataset</td>\n",
              "      <td>desktop</td>\n",
              "      <td>Asia</td>\n",
              "      <td>Western Asia</td>\n",
              "      <td>Turkey</td>\n",
              "      <td>not available in demo dataset</td>\n",
              "      <td>not available in demo dataset</td>\n",
              "      <td>not available in demo dataset</td>\n",
              "      <td>not available in demo dataset</td>\n",
              "      <td>unknown.unknown</td>\n",
              "      <td>not available in demo dataset</td>\n",
              "      <td>not available in demo dataset</td>\n",
              "      <td>not available in demo dataset</td>\n",
              "      <td>1</td>\n",
              "      <td>2</td>\n",
              "      <td>2</td>\n",
              "      <td>NaN</td>\n",
              "      <td>1</td>\n",
              "      <td>1</td>\n",
              "      <td>1</td>\n",
              "      <td>NaN</td>\n",
              "      <td>NaN</td>\n",
              "      <td>NaN</td>\n",
              "      <td>(not set)</td>\n",
              "      <td>google</td>\n",
              "      <td>organic</td>\n",
              "      <td>(not provided)</td>\n",
              "      <td>not available in demo dataset</td>\n",
              "      <td>NaN</td>\n",
              "      <td>NaN</td>\n",
              "      <td>NaN</td>\n",
              "      <td>NaN</td>\n",
              "      <td>NaN</td>\n",
              "      <td>NaN</td>\n",
              "      <td>NaN</td>\n",
              "      <td>NaN</td>\n",
              "      <td>NaN</td>\n",
              "      <td>4</td>\n",
              "      <td>EMEA</td>\n",
              "    </tr>\n",
              "    <tr>\n",
              "      <th>4</th>\n",
              "      <td>Organic Search</td>\n",
              "      <td>20171016</td>\n",
              "      <td>6960673291025684308</td>\n",
              "      <td>Not Socially Engaged</td>\n",
              "      <td>1508190552</td>\n",
              "      <td>1</td>\n",
              "      <td>1508190552</td>\n",
              "      <td>Chrome</td>\n",
              "      <td>not available in demo dataset</td>\n",
              "      <td>not available in demo dataset</td>\n",
              "      <td>Windows</td>\n",
              "      <td>not available in demo dataset</td>\n",
              "      <td>False</td>\n",
              "      <td>not available in demo dataset</td>\n",
              "      <td>not available in demo dataset</td>\n",
              "      <td>not available in demo dataset</td>\n",
              "      <td>not available in demo dataset</td>\n",
              "      <td>not available in demo dataset</td>\n",
              "      <td>not available in demo dataset</td>\n",
              "      <td>not available in demo dataset</td>\n",
              "      <td>not available in demo dataset</td>\n",
              "      <td>not available in demo dataset</td>\n",
              "      <td>desktop</td>\n",
              "      <td>Americas</td>\n",
              "      <td>Central America</td>\n",
              "      <td>Mexico</td>\n",
              "      <td>not available in demo dataset</td>\n",
              "      <td>not available in demo dataset</td>\n",
              "      <td>not available in demo dataset</td>\n",
              "      <td>not available in demo dataset</td>\n",
              "      <td>prod-infinitum.com.mx</td>\n",
              "      <td>not available in demo dataset</td>\n",
              "      <td>not available in demo dataset</td>\n",
              "      <td>not available in demo dataset</td>\n",
              "      <td>1</td>\n",
              "      <td>2</td>\n",
              "      <td>2</td>\n",
              "      <td>NaN</td>\n",
              "      <td>1</td>\n",
              "      <td>1</td>\n",
              "      <td>52</td>\n",
              "      <td>NaN</td>\n",
              "      <td>NaN</td>\n",
              "      <td>NaN</td>\n",
              "      <td>(not set)</td>\n",
              "      <td>google</td>\n",
              "      <td>organic</td>\n",
              "      <td>(not provided)</td>\n",
              "      <td>not available in demo dataset</td>\n",
              "      <td>NaN</td>\n",
              "      <td>NaN</td>\n",
              "      <td>NaN</td>\n",
              "      <td>NaN</td>\n",
              "      <td>NaN</td>\n",
              "      <td>NaN</td>\n",
              "      <td>NaN</td>\n",
              "      <td>NaN</td>\n",
              "      <td>NaN</td>\n",
              "      <td>4</td>\n",
              "      <td>Central America</td>\n",
              "    </tr>\n",
              "  </tbody>\n",
              "</table>\n",
              "</div>"
            ],
            "text/plain": [
              "  channelGrouping      date  ... customDimension.index customDimension.value\n",
              "0  Organic Search  20171016  ...                     4                  EMEA\n",
              "1        Referral  20171016  ...                     4         North America\n",
              "2          Direct  20171016  ...                     4         North America\n",
              "3  Organic Search  20171016  ...                     4                  EMEA\n",
              "4  Organic Search  20171016  ...                     4       Central America\n",
              "\n",
              "[5 rows x 60 columns]"
            ]
          },
          "metadata": {
            "tags": []
          },
          "execution_count": 16
        }
      ]
    },
    {
      "cell_type": "code",
      "metadata": {
        "id": "iH6iEn3bNt29",
        "colab_type": "code",
        "outputId": "f2224005-55ef-48cd-9c41-180ca7144fe5",
        "colab": {
          "base_uri": "https://localhost:8080/",
          "height": 221
        }
      },
      "source": [
        "df_train['totals.transactionRevenue'].value_counts()"
      ],
      "execution_count": 0,
      "outputs": [
        {
          "output_type": "execute_result",
          "data": {
            "text/plain": [
              "16990000      308\n",
              "19990000      248\n",
              "39980000      220\n",
              "18990000      219\n",
              "21990000      211\n",
              "             ... \n",
              "1199840000      1\n",
              "20290000        1\n",
              "333340000       1\n",
              "827100000       1\n",
              "300060000       1\n",
              "Name: totals.transactionRevenue, Length: 7251, dtype: int64"
            ]
          },
          "metadata": {
            "tags": []
          },
          "execution_count": 55
        }
      ]
    },
    {
      "cell_type": "code",
      "metadata": {
        "id": "MA2DPQQ-NElP",
        "colab_type": "code",
        "outputId": "79e047dd-23eb-4221-8e44-218316563510",
        "colab": {
          "base_uri": "https://localhost:8080/",
          "height": 51
        }
      },
      "source": [
        "df_train.channelGrouping.unique()"
      ],
      "execution_count": 17,
      "outputs": [
        {
          "output_type": "execute_result",
          "data": {
            "text/plain": [
              "array(['Organic Search', 'Referral', 'Direct', 'Paid Search', 'Display',\n",
              "       'Affiliates', 'Social', '(Other)'], dtype=object)"
            ]
          },
          "metadata": {
            "tags": []
          },
          "execution_count": 17
        }
      ]
    },
    {
      "cell_type": "markdown",
      "metadata": {
        "id": "7l8hXtRH-KuX",
        "colab_type": "text"
      },
      "source": [
        "**fullVisitorId**- A unique identifier for each user of the Google Merchandise Store.\n",
        "**channelGrouping **- The channel via which the user came to the Store.\n",
        "\n",
        "\n",
        "**geoNetwork** - This section contains information about the geography of the user.\n",
        "**socialEngagementType** - Engagement type, either \"Socially Engaged\" or \"Not Socially Engaged\".\n",
        "\n",
        "\n",
        "visitId - An identifier for this session. This is part of the value usually stored as the _utmb cookie. This is only unique to the user. *For a completely unique ID, you should use a combination of fullVisitorId and visitId*.\n",
        "visitNumber - The session number for this user. If this is the first session, then this is set to 1.\n",
        "visitStartTime - The timestamp (expressed as POSIX time).\n",
        "\n",
        "\n",
        "totals - This set of columns mostly includes high-level aggregate data."
      ]
    },
    {
      "cell_type": "code",
      "metadata": {
        "id": "n9Dm9zaW_cXD",
        "colab_type": "code",
        "outputId": "da94c229-a33e-488e-9b67-3af98fbf16a8",
        "colab": {
          "base_uri": "https://localhost:8080/",
          "height": 1000
        }
      },
      "source": [
        "df_train.info()"
      ],
      "execution_count": 0,
      "outputs": [
        {
          "output_type": "stream",
          "text": [
            "<class 'pandas.core.frame.DataFrame'>\n",
            "RangeIndex: 1708337 entries, 0 to 1708336\n",
            "Data columns (total 60 columns):\n",
            " #   Column                                             Dtype \n",
            "---  ------                                             ----- \n",
            " 0   channelGrouping                                    object\n",
            " 1   date                                               int64 \n",
            " 2   fullVisitorId                                      object\n",
            " 3   socialEngagementType                               object\n",
            " 4   visitId                                            int64 \n",
            " 5   visitNumber                                        int64 \n",
            " 6   visitStartTime                                     int64 \n",
            " 7   device.browser                                     object\n",
            " 8   device.browserVersion                              object\n",
            " 9   device.browserSize                                 object\n",
            " 10  device.operatingSystem                             object\n",
            " 11  device.operatingSystemVersion                      object\n",
            " 12  device.isMobile                                    bool  \n",
            " 13  device.mobileDeviceBranding                        object\n",
            " 14  device.mobileDeviceModel                           object\n",
            " 15  device.mobileInputSelector                         object\n",
            " 16  device.mobileDeviceInfo                            object\n",
            " 17  device.mobileDeviceMarketingName                   object\n",
            " 18  device.flashVersion                                object\n",
            " 19  device.language                                    object\n",
            " 20  device.screenColors                                object\n",
            " 21  device.screenResolution                            object\n",
            " 22  device.deviceCategory                              object\n",
            " 23  geoNetwork.continent                               object\n",
            " 24  geoNetwork.subContinent                            object\n",
            " 25  geoNetwork.country                                 object\n",
            " 26  geoNetwork.region                                  object\n",
            " 27  geoNetwork.metro                                   object\n",
            " 28  geoNetwork.city                                    object\n",
            " 29  geoNetwork.cityId                                  object\n",
            " 30  geoNetwork.networkDomain                           object\n",
            " 31  geoNetwork.latitude                                object\n",
            " 32  geoNetwork.longitude                               object\n",
            " 33  geoNetwork.networkLocation                         object\n",
            " 34  totals.visits                                      object\n",
            " 35  totals.hits                                        object\n",
            " 36  totals.pageviews                                   object\n",
            " 37  totals.bounces                                     object\n",
            " 38  totals.newVisits                                   object\n",
            " 39  totals.sessionQualityDim                           object\n",
            " 40  totals.timeOnSite                                  object\n",
            " 41  totals.transactions                                object\n",
            " 42  totals.transactionRevenue                          object\n",
            " 43  totals.totalTransactionRevenue                     object\n",
            " 44  trafficSource.campaign                             object\n",
            " 45  trafficSource.source                               object\n",
            " 46  trafficSource.medium                               object\n",
            " 47  trafficSource.keyword                              object\n",
            " 48  trafficSource.adwordsClickInfo.criteriaParameters  object\n",
            " 49  trafficSource.referralPath                         object\n",
            " 50  trafficSource.isTrueDirect                         object\n",
            " 51  trafficSource.adContent                            object\n",
            " 52  trafficSource.adwordsClickInfo.page                object\n",
            " 53  trafficSource.adwordsClickInfo.slot                object\n",
            " 54  trafficSource.adwordsClickInfo.gclId               object\n",
            " 55  trafficSource.adwordsClickInfo.adNetworkType       object\n",
            " 56  trafficSource.adwordsClickInfo.isVideoAd           object\n",
            " 57  trafficSource.campaignCode                         object\n",
            " 58  customDimension.index                              object\n",
            " 59  customDimension.value                              object\n",
            "dtypes: bool(1), int64(4), object(55)\n",
            "memory usage: 770.6+ MB\n"
          ],
          "name": "stdout"
        }
      ]
    },
    {
      "cell_type": "markdown",
      "metadata": {
        "id": "uKym2llYAZEB",
        "colab_type": "text"
      },
      "source": [
        "# Question:\n",
        "not available in demo dataset?"
      ]
    },
    {
      "cell_type": "code",
      "metadata": {
        "id": "9NeoZELw_zKA",
        "colab_type": "code",
        "outputId": "9e906ba2-2af7-4277-aa62-b1869235bef7",
        "colab": {
          "base_uri": "https://localhost:8080/",
          "height": 34
        }
      },
      "source": [
        "#**device **- The specifications for the device used to access the Store.\n",
        "df_train['device.browser'][:10].unique()"
      ],
      "execution_count": 25,
      "outputs": [
        {
          "output_type": "execute_result",
          "data": {
            "text/plain": [
              "array(['Firefox', 'Chrome', 'Safari'], dtype=object)"
            ]
          },
          "metadata": {
            "tags": []
          },
          "execution_count": 25
        }
      ]
    },
    {
      "cell_type": "markdown",
      "metadata": {
        "id": "iC5xYW9uAoPA",
        "colab_type": "text"
      },
      "source": [
        "# Question:\n",
        "meaning of each?"
      ]
    },
    {
      "cell_type": "code",
      "metadata": {
        "id": "gw5F6CaaAFev",
        "colab_type": "code",
        "outputId": "3c609feb-d32d-4ef0-99ea-a0144709a6b3",
        "colab": {
          "base_uri": "https://localhost:8080/",
          "height": 129
        }
      },
      "source": [
        "#**totals** - This section contains aggregate values across the session.\n",
        "df_train.totals[:10].unique()"
      ],
      "execution_count": 28,
      "outputs": [
        {
          "output_type": "error",
          "ename": "SyntaxError",
          "evalue": "ignored",
          "traceback": [
            "\u001b[0;36m  File \u001b[0;32m\"<ipython-input-28-7daaeba90c40>\"\u001b[0;36m, line \u001b[0;32m1\u001b[0m\n\u001b[0;31m    df_train.totals.[:10].unique()\u001b[0m\n\u001b[0m                    ^\u001b[0m\n\u001b[0;31mSyntaxError\u001b[0m\u001b[0;31m:\u001b[0m invalid syntax\n"
          ]
        }
      ]
    },
    {
      "cell_type": "code",
      "metadata": {
        "id": "hecvqQK4BDCL",
        "colab_type": "code",
        "outputId": "8e84b531-2b90-4dba-e124-a8a02e9fbb36",
        "colab": {
          "base_uri": "https://localhost:8080/",
          "height": 282
        }
      },
      "source": [
        "df_train.geoNetwork[:10].unique()"
      ],
      "execution_count": 22,
      "outputs": [
        {
          "output_type": "error",
          "ename": "AttributeError",
          "evalue": "ignored",
          "traceback": [
            "\u001b[0;31m---------------------------------------------------------------------------\u001b[0m",
            "\u001b[0;31mAttributeError\u001b[0m                            Traceback (most recent call last)",
            "\u001b[0;32m<ipython-input-22-40023f5fbd5e>\u001b[0m in \u001b[0;36m<module>\u001b[0;34m()\u001b[0m\n\u001b[0;32m----> 1\u001b[0;31m \u001b[0mdf_train\u001b[0m\u001b[0;34m.\u001b[0m\u001b[0mgeoNetwork\u001b[0m\u001b[0;34m[\u001b[0m\u001b[0;34m:\u001b[0m\u001b[0;36m10\u001b[0m\u001b[0;34m]\u001b[0m\u001b[0;34m.\u001b[0m\u001b[0munique\u001b[0m\u001b[0;34m(\u001b[0m\u001b[0;34m)\u001b[0m\u001b[0;34m\u001b[0m\u001b[0;34m\u001b[0m\u001b[0m\n\u001b[0m",
            "\u001b[0;32m/usr/local/lib/python3.6/dist-packages/pandas/core/generic.py\u001b[0m in \u001b[0;36m__getattr__\u001b[0;34m(self, name)\u001b[0m\n\u001b[1;32m   5272\u001b[0m             \u001b[0;32mif\u001b[0m \u001b[0mself\u001b[0m\u001b[0;34m.\u001b[0m\u001b[0m_info_axis\u001b[0m\u001b[0;34m.\u001b[0m\u001b[0m_can_hold_identifiers_and_holds_name\u001b[0m\u001b[0;34m(\u001b[0m\u001b[0mname\u001b[0m\u001b[0;34m)\u001b[0m\u001b[0;34m:\u001b[0m\u001b[0;34m\u001b[0m\u001b[0;34m\u001b[0m\u001b[0m\n\u001b[1;32m   5273\u001b[0m                 \u001b[0;32mreturn\u001b[0m \u001b[0mself\u001b[0m\u001b[0;34m[\u001b[0m\u001b[0mname\u001b[0m\u001b[0;34m]\u001b[0m\u001b[0;34m\u001b[0m\u001b[0;34m\u001b[0m\u001b[0m\n\u001b[0;32m-> 5274\u001b[0;31m             \u001b[0;32mreturn\u001b[0m \u001b[0mobject\u001b[0m\u001b[0;34m.\u001b[0m\u001b[0m__getattribute__\u001b[0m\u001b[0;34m(\u001b[0m\u001b[0mself\u001b[0m\u001b[0;34m,\u001b[0m \u001b[0mname\u001b[0m\u001b[0;34m)\u001b[0m\u001b[0;34m\u001b[0m\u001b[0;34m\u001b[0m\u001b[0m\n\u001b[0m\u001b[1;32m   5275\u001b[0m \u001b[0;34m\u001b[0m\u001b[0m\n\u001b[1;32m   5276\u001b[0m     \u001b[0;32mdef\u001b[0m \u001b[0m__setattr__\u001b[0m\u001b[0;34m(\u001b[0m\u001b[0mself\u001b[0m\u001b[0;34m,\u001b[0m \u001b[0mname\u001b[0m\u001b[0;34m:\u001b[0m \u001b[0mstr\u001b[0m\u001b[0;34m,\u001b[0m \u001b[0mvalue\u001b[0m\u001b[0;34m)\u001b[0m \u001b[0;34m->\u001b[0m \u001b[0;32mNone\u001b[0m\u001b[0;34m:\u001b[0m\u001b[0;34m\u001b[0m\u001b[0;34m\u001b[0m\u001b[0m\n",
            "\u001b[0;31mAttributeError\u001b[0m: 'DataFrame' object has no attribute 'geoNetwork'"
          ]
        }
      ]
    },
    {
      "cell_type": "code",
      "metadata": {
        "id": "Fww5O-wMB6ne",
        "colab_type": "code",
        "outputId": "a0e84538-afe3-4268-e6a6-c6c243332fdf",
        "colab": {
          "base_uri": "https://localhost:8080/",
          "height": 34
        }
      },
      "source": [
        "df_train.socialEngagementType.unique()"
      ],
      "execution_count": 29,
      "outputs": [
        {
          "output_type": "execute_result",
          "data": {
            "text/plain": [
              "array(['Not Socially Engaged'], dtype=object)"
            ]
          },
          "metadata": {
            "tags": []
          },
          "execution_count": 29
        }
      ]
    },
    {
      "cell_type": "markdown",
      "metadata": {
        "id": "n4TfSZzDCbto",
        "colab_type": "text"
      },
      "source": [
        "# Qusetion:\n",
        "How can I use it?"
      ]
    },
    {
      "cell_type": "code",
      "metadata": {
        "id": "iYfjnJWLCPad",
        "colab_type": "code",
        "outputId": "10983c35-5bcc-46c6-b4cc-d10f5d7c9780",
        "colab": {
          "base_uri": "https://localhost:8080/",
          "height": 88
        }
      },
      "source": [
        "#trafficSource - This section contains information about the Traffic Source from which the session originated.\n",
        "df_train.trafficSource[:10].unique()\n"
      ],
      "execution_count": 0,
      "outputs": [
        {
          "output_type": "execute_result",
          "data": {
            "text/plain": [
              "array(['{\"campaign\": \"(not set)\", \"source\": \"google\", \"medium\": \"organic\", \"keyword\": \"(not provided)\", \"adwordsClickInfo\": {\"criteriaParameters\": \"not available in demo dataset\"}, \"isTrueDirect\": true}',\n",
              "       '{\"campaign\": \"(not set)\", \"source\": \"google\", \"medium\": \"organic\", \"keyword\": \"(not provided)\", \"adwordsClickInfo\": {\"criteriaParameters\": \"not available in demo dataset\"}}'],\n",
              "      dtype=object)"
            ]
          },
          "metadata": {
            "tags": []
          },
          "execution_count": 32
        }
      ]
    },
    {
      "cell_type": "code",
      "metadata": {
        "id": "-KyI1CglDDWu",
        "colab_type": "code",
        "colab": {}
      },
      "source": [
        "#hits - This row and nested fields are populated for any and all types of hits. Provides a record of all page visits.\n",
        "df_train.hits[:10].unique()"
      ],
      "execution_count": 0,
      "outputs": []
    },
    {
      "cell_type": "code",
      "metadata": {
        "id": "qVNwJ082DE00",
        "colab_type": "code",
        "colab": {}
      },
      "source": [
        "#customDimensions - This section contains any user-level or session-level custom dimensions that are set for a session. This is a repeated field and has an entry for each dimension that is set.\n"
      ],
      "execution_count": 0,
      "outputs": []
    },
    {
      "cell_type": "markdown",
      "metadata": {
        "id": "9bkaHdUuEy49",
        "colab_type": "text"
      },
      "source": [
        "# Question:"
      ]
    },
    {
      "cell_type": "code",
      "metadata": {
        "id": "cPZVByD9EO_N",
        "colab_type": "code",
        "outputId": "97ba352c-8f0a-4ac7-93bb-8fe16cb8c318",
        "colab": {
          "base_uri": "https://localhost:8080/",
          "height": 163
        }
      },
      "source": [
        "#**date** - The date on which the user visited the Store.\n",
        "date_aggregated.describe()"
      ],
      "execution_count": 23,
      "outputs": [
        {
          "output_type": "error",
          "ename": "NameError",
          "evalue": "ignored",
          "traceback": [
            "\u001b[0;31m---------------------------------------------------------------------------\u001b[0m",
            "\u001b[0;31mNameError\u001b[0m                                 Traceback (most recent call last)",
            "\u001b[0;32m<ipython-input-23-056c30690b7f>\u001b[0m in \u001b[0;36m<module>\u001b[0;34m()\u001b[0m\n\u001b[0;32m----> 1\u001b[0;31m \u001b[0mdate_aggregated\u001b[0m\u001b[0;34m.\u001b[0m\u001b[0mdescribe\u001b[0m\u001b[0;34m(\u001b[0m\u001b[0;34m)\u001b[0m\u001b[0;34m\u001b[0m\u001b[0;34m\u001b[0m\u001b[0m\n\u001b[0m",
            "\u001b[0;31mNameError\u001b[0m: name 'date_aggregated' is not defined"
          ]
        }
      ]
    },
    {
      "cell_type": "code",
      "metadata": {
        "id": "85Ah_adg-7ql",
        "colab_type": "code",
        "colab": {}
      },
      "source": [
        "#which are the popular channels the user came to the Store with?"
      ],
      "execution_count": 0,
      "outputs": []
    },
    {
      "cell_type": "markdown",
      "metadata": {
        "id": "y0b7mBpZAmOK",
        "colab_type": "text"
      },
      "source": [
        "# What the columns mean"
      ]
    },
    {
      "cell_type": "markdown",
      "metadata": {
        "id": "jypnD-j5AtwW",
        "colab_type": "text"
      },
      "source": [
        "Each row in the dataset is one visit to the store. \n",
        "We are predicting the log of the total revenue per user.\n",
        "Be aware that not all rows in test.csv will correspond to a row in the submission, but all unique fullVisitorIds will correspond to a row in the submission."
      ]
    },
    {
      "cell_type": "markdown",
      "metadata": {
        "id": "Zt_cFgHbNnw1",
        "colab_type": "text"
      },
      "source": [
        "# Separating JSON written columns"
      ]
    },
    {
      "cell_type": "code",
      "metadata": {
        "id": "dDq5WjWu8mTz",
        "colab_type": "code",
        "colab": {}
      },
      "source": [
        "TODO rewrite it \n",
        "# j_columns = ['device', 'geoNetwork', 'totals', 'trafficSource'] # Columns that have json format\n",
        "# #Code to transform the json format columns in table\n",
        "# def json_to_load(data_Ml):\n",
        "#     data_Ml = pd.read_csv('trainML.csv',converters={column: json.loads for column in j_columns})\n",
        "#     for column in j_columns:\n",
        "#         df_j_columns = json_normalize(data_Ml[column])\n",
        "#         # here will be set the name using the category and subcategory of json columns\n",
        "#         df_j_columns.columns = [f\"{column}.{subcolumn}\" for subcolumn in df_j_columns.columns]\n",
        "#         #let drop the original columns\n",
        "#         data_Ml = data_Ml.drop(column, axis=1).merge(df_j_columns,right_index=True, left_index=True)\n",
        "#     return data_Ml"
      ],
      "execution_count": 0,
      "outputs": []
    },
    {
      "cell_type": "markdown",
      "metadata": {
        "id": "BPSHMUQUJNCE",
        "colab_type": "text"
      },
      "source": [
        "# Yeisson EDA of geograpfical info"
      ]
    },
    {
      "cell_type": "code",
      "metadata": {
        "id": "02bnKvgn4qB4",
        "colab_type": "code",
        "colab": {
          "base_uri": "https://localhost:8080/",
          "height": 1000
        },
        "outputId": "94e58875-9ab9-485d-bd6c-38a844f619f2"
      },
      "source": [
        "df_train.info()\n"
      ],
      "execution_count": 30,
      "outputs": [
        {
          "output_type": "stream",
          "text": [
            "<class 'pandas.core.frame.DataFrame'>\n",
            "RangeIndex: 1708337 entries, 0 to 1708336\n",
            "Data columns (total 60 columns):\n",
            " #   Column                                             Dtype \n",
            "---  ------                                             ----- \n",
            " 0   channelGrouping                                    object\n",
            " 1   date                                               int64 \n",
            " 2   fullVisitorId                                      object\n",
            " 3   socialEngagementType                               object\n",
            " 4   visitId                                            int64 \n",
            " 5   visitNumber                                        int64 \n",
            " 6   visitStartTime                                     int64 \n",
            " 7   device.browser                                     object\n",
            " 8   device.browserVersion                              object\n",
            " 9   device.browserSize                                 object\n",
            " 10  device.operatingSystem                             object\n",
            " 11  device.operatingSystemVersion                      object\n",
            " 12  device.isMobile                                    bool  \n",
            " 13  device.mobileDeviceBranding                        object\n",
            " 14  device.mobileDeviceModel                           object\n",
            " 15  device.mobileInputSelector                         object\n",
            " 16  device.mobileDeviceInfo                            object\n",
            " 17  device.mobileDeviceMarketingName                   object\n",
            " 18  device.flashVersion                                object\n",
            " 19  device.language                                    object\n",
            " 20  device.screenColors                                object\n",
            " 21  device.screenResolution                            object\n",
            " 22  device.deviceCategory                              object\n",
            " 23  geoNetwork.continent                               object\n",
            " 24  geoNetwork.subContinent                            object\n",
            " 25  geoNetwork.country                                 object\n",
            " 26  geoNetwork.region                                  object\n",
            " 27  geoNetwork.metro                                   object\n",
            " 28  geoNetwork.city                                    object\n",
            " 29  geoNetwork.cityId                                  object\n",
            " 30  geoNetwork.networkDomain                           object\n",
            " 31  geoNetwork.latitude                                object\n",
            " 32  geoNetwork.longitude                               object\n",
            " 33  geoNetwork.networkLocation                         object\n",
            " 34  totals.visits                                      object\n",
            " 35  totals.hits                                        object\n",
            " 36  totals.pageviews                                   object\n",
            " 37  totals.bounces                                     object\n",
            " 38  totals.newVisits                                   object\n",
            " 39  totals.sessionQualityDim                           object\n",
            " 40  totals.timeOnSite                                  object\n",
            " 41  totals.transactions                                object\n",
            " 42  totals.transactionRevenue                          object\n",
            " 43  totals.totalTransactionRevenue                     object\n",
            " 44  trafficSource.campaign                             object\n",
            " 45  trafficSource.source                               object\n",
            " 46  trafficSource.medium                               object\n",
            " 47  trafficSource.keyword                              object\n",
            " 48  trafficSource.adwordsClickInfo.criteriaParameters  object\n",
            " 49  trafficSource.referralPath                         object\n",
            " 50  trafficSource.isTrueDirect                         object\n",
            " 51  trafficSource.adContent                            object\n",
            " 52  trafficSource.adwordsClickInfo.page                object\n",
            " 53  trafficSource.adwordsClickInfo.slot                object\n",
            " 54  trafficSource.adwordsClickInfo.gclId               object\n",
            " 55  trafficSource.adwordsClickInfo.adNetworkType       object\n",
            " 56  trafficSource.adwordsClickInfo.isVideoAd           object\n",
            " 57  trafficSource.campaignCode                         object\n",
            " 58  customDimension.index                              object\n",
            " 59  customDimension.value                              object\n",
            "dtypes: bool(1), int64(4), object(55)\n",
            "memory usage: 770.6+ MB\n"
          ],
          "name": "stdout"
        }
      ]
    },
    {
      "cell_type": "code",
      "metadata": {
        "id": "Rc-TWMogTLhE",
        "colab_type": "code",
        "colab": {
          "base_uri": "https://localhost:8080/",
          "height": 162
        },
        "outputId": "3b3c3eca-b029-42b3-f609-ae17e217e871"
      },
      "source": [
        "df_train.agg(['count', 'size', 'nunique'])\n"
      ],
      "execution_count": 79,
      "outputs": [
        {
          "output_type": "execute_result",
          "data": {
            "text/html": [
              "<div>\n",
              "<style scoped>\n",
              "    .dataframe tbody tr th:only-of-type {\n",
              "        vertical-align: middle;\n",
              "    }\n",
              "\n",
              "    .dataframe tbody tr th {\n",
              "        vertical-align: top;\n",
              "    }\n",
              "\n",
              "    .dataframe thead th {\n",
              "        text-align: right;\n",
              "    }\n",
              "</style>\n",
              "<table border=\"1\" class=\"dataframe\">\n",
              "  <thead>\n",
              "    <tr style=\"text-align: right;\">\n",
              "      <th></th>\n",
              "      <th>channelGrouping</th>\n",
              "      <th>date</th>\n",
              "      <th>fullVisitorId</th>\n",
              "      <th>socialEngagementType</th>\n",
              "      <th>visitId</th>\n",
              "      <th>visitNumber</th>\n",
              "      <th>visitStartTime</th>\n",
              "      <th>device.browser</th>\n",
              "      <th>device.browserVersion</th>\n",
              "      <th>device.browserSize</th>\n",
              "      <th>device.operatingSystem</th>\n",
              "      <th>device.operatingSystemVersion</th>\n",
              "      <th>device.isMobile</th>\n",
              "      <th>device.mobileDeviceBranding</th>\n",
              "      <th>device.mobileDeviceModel</th>\n",
              "      <th>device.mobileInputSelector</th>\n",
              "      <th>device.mobileDeviceInfo</th>\n",
              "      <th>device.mobileDeviceMarketingName</th>\n",
              "      <th>device.flashVersion</th>\n",
              "      <th>device.language</th>\n",
              "      <th>device.screenColors</th>\n",
              "      <th>device.screenResolution</th>\n",
              "      <th>device.deviceCategory</th>\n",
              "      <th>geoNetwork.continent</th>\n",
              "      <th>geoNetwork.subContinent</th>\n",
              "      <th>geoNetwork.country</th>\n",
              "      <th>geoNetwork.region</th>\n",
              "      <th>geoNetwork.metro</th>\n",
              "      <th>geoNetwork.city</th>\n",
              "      <th>geoNetwork.cityId</th>\n",
              "      <th>geoNetwork.networkDomain</th>\n",
              "      <th>geoNetwork.latitude</th>\n",
              "      <th>geoNetwork.longitude</th>\n",
              "      <th>geoNetwork.networkLocation</th>\n",
              "      <th>totals.visits</th>\n",
              "      <th>totals.hits</th>\n",
              "      <th>totals.pageviews</th>\n",
              "      <th>totals.bounces</th>\n",
              "      <th>totals.newVisits</th>\n",
              "      <th>totals.sessionQualityDim</th>\n",
              "      <th>totals.timeOnSite</th>\n",
              "      <th>totals.transactions</th>\n",
              "      <th>totals.transactionRevenue</th>\n",
              "      <th>totals.totalTransactionRevenue</th>\n",
              "      <th>trafficSource.campaign</th>\n",
              "      <th>trafficSource.source</th>\n",
              "      <th>trafficSource.medium</th>\n",
              "      <th>trafficSource.keyword</th>\n",
              "      <th>trafficSource.adwordsClickInfo.criteriaParameters</th>\n",
              "      <th>trafficSource.referralPath</th>\n",
              "      <th>trafficSource.isTrueDirect</th>\n",
              "      <th>trafficSource.adContent</th>\n",
              "      <th>trafficSource.adwordsClickInfo.page</th>\n",
              "      <th>trafficSource.adwordsClickInfo.slot</th>\n",
              "      <th>trafficSource.adwordsClickInfo.gclId</th>\n",
              "      <th>trafficSource.adwordsClickInfo.adNetworkType</th>\n",
              "      <th>trafficSource.adwordsClickInfo.isVideoAd</th>\n",
              "      <th>trafficSource.campaignCode</th>\n",
              "      <th>customDimension.index</th>\n",
              "      <th>customDimension.value</th>\n",
              "    </tr>\n",
              "  </thead>\n",
              "  <tbody>\n",
              "    <tr>\n",
              "      <th>count</th>\n",
              "      <td>1708337</td>\n",
              "      <td>1708337</td>\n",
              "      <td>1708337</td>\n",
              "      <td>1708337</td>\n",
              "      <td>1708337</td>\n",
              "      <td>1708337</td>\n",
              "      <td>1708337</td>\n",
              "      <td>1708337</td>\n",
              "      <td>1708337</td>\n",
              "      <td>1708337</td>\n",
              "      <td>1708337</td>\n",
              "      <td>1708337</td>\n",
              "      <td>1708337</td>\n",
              "      <td>1708337</td>\n",
              "      <td>1708337</td>\n",
              "      <td>1708337</td>\n",
              "      <td>1708337</td>\n",
              "      <td>1708337</td>\n",
              "      <td>1708337</td>\n",
              "      <td>1708337</td>\n",
              "      <td>1708337</td>\n",
              "      <td>1708337</td>\n",
              "      <td>1708337</td>\n",
              "      <td>1708337</td>\n",
              "      <td>1708337</td>\n",
              "      <td>1708337</td>\n",
              "      <td>1708337</td>\n",
              "      <td>1708337</td>\n",
              "      <td>1708337</td>\n",
              "      <td>1708337</td>\n",
              "      <td>1708337</td>\n",
              "      <td>1708337</td>\n",
              "      <td>1708337</td>\n",
              "      <td>1708337</td>\n",
              "      <td>1708337</td>\n",
              "      <td>1708337</td>\n",
              "      <td>1708098</td>\n",
              "      <td>871578</td>\n",
              "      <td>1307430</td>\n",
              "      <td>873063</td>\n",
              "      <td>834043</td>\n",
              "      <td>18559</td>\n",
              "      <td>18514</td>\n",
              "      <td>18514</td>\n",
              "      <td>1708337</td>\n",
              "      <td>1708337</td>\n",
              "      <td>1708337</td>\n",
              "      <td>655557</td>\n",
              "      <td>1708337</td>\n",
              "      <td>566264</td>\n",
              "      <td>534518</td>\n",
              "      <td>64737</td>\n",
              "      <td>75274</td>\n",
              "      <td>75274</td>\n",
              "      <td>75423</td>\n",
              "      <td>75274</td>\n",
              "      <td>75274</td>\n",
              "      <td>1</td>\n",
              "      <td>1375102</td>\n",
              "      <td>1375102</td>\n",
              "    </tr>\n",
              "    <tr>\n",
              "      <th>size</th>\n",
              "      <td>1708337</td>\n",
              "      <td>1708337</td>\n",
              "      <td>1708337</td>\n",
              "      <td>1708337</td>\n",
              "      <td>1708337</td>\n",
              "      <td>1708337</td>\n",
              "      <td>1708337</td>\n",
              "      <td>1708337</td>\n",
              "      <td>1708337</td>\n",
              "      <td>1708337</td>\n",
              "      <td>1708337</td>\n",
              "      <td>1708337</td>\n",
              "      <td>1708337</td>\n",
              "      <td>1708337</td>\n",
              "      <td>1708337</td>\n",
              "      <td>1708337</td>\n",
              "      <td>1708337</td>\n",
              "      <td>1708337</td>\n",
              "      <td>1708337</td>\n",
              "      <td>1708337</td>\n",
              "      <td>1708337</td>\n",
              "      <td>1708337</td>\n",
              "      <td>1708337</td>\n",
              "      <td>1708337</td>\n",
              "      <td>1708337</td>\n",
              "      <td>1708337</td>\n",
              "      <td>1708337</td>\n",
              "      <td>1708337</td>\n",
              "      <td>1708337</td>\n",
              "      <td>1708337</td>\n",
              "      <td>1708337</td>\n",
              "      <td>1708337</td>\n",
              "      <td>1708337</td>\n",
              "      <td>1708337</td>\n",
              "      <td>1708337</td>\n",
              "      <td>1708337</td>\n",
              "      <td>1708337</td>\n",
              "      <td>1708337</td>\n",
              "      <td>1708337</td>\n",
              "      <td>1708337</td>\n",
              "      <td>1708337</td>\n",
              "      <td>1708337</td>\n",
              "      <td>1708337</td>\n",
              "      <td>1708337</td>\n",
              "      <td>1708337</td>\n",
              "      <td>1708337</td>\n",
              "      <td>1708337</td>\n",
              "      <td>1708337</td>\n",
              "      <td>1708337</td>\n",
              "      <td>1708337</td>\n",
              "      <td>1708337</td>\n",
              "      <td>1708337</td>\n",
              "      <td>1708337</td>\n",
              "      <td>1708337</td>\n",
              "      <td>1708337</td>\n",
              "      <td>1708337</td>\n",
              "      <td>1708337</td>\n",
              "      <td>1708337</td>\n",
              "      <td>1708337</td>\n",
              "      <td>1708337</td>\n",
              "    </tr>\n",
              "    <tr>\n",
              "      <th>nunique</th>\n",
              "      <td>8</td>\n",
              "      <td>638</td>\n",
              "      <td>1323730</td>\n",
              "      <td>1</td>\n",
              "      <td>1665802</td>\n",
              "      <td>457</td>\n",
              "      <td>1667423</td>\n",
              "      <td>129</td>\n",
              "      <td>1</td>\n",
              "      <td>1</td>\n",
              "      <td>24</td>\n",
              "      <td>1</td>\n",
              "      <td>2</td>\n",
              "      <td>1</td>\n",
              "      <td>1</td>\n",
              "      <td>1</td>\n",
              "      <td>1</td>\n",
              "      <td>1</td>\n",
              "      <td>1</td>\n",
              "      <td>1</td>\n",
              "      <td>1</td>\n",
              "      <td>1</td>\n",
              "      <td>3</td>\n",
              "      <td>6</td>\n",
              "      <td>23</td>\n",
              "      <td>228</td>\n",
              "      <td>483</td>\n",
              "      <td>123</td>\n",
              "      <td>956</td>\n",
              "      <td>1</td>\n",
              "      <td>41982</td>\n",
              "      <td>1</td>\n",
              "      <td>1</td>\n",
              "      <td>1</td>\n",
              "      <td>1</td>\n",
              "      <td>297</td>\n",
              "      <td>230</td>\n",
              "      <td>1</td>\n",
              "      <td>1</td>\n",
              "      <td>100</td>\n",
              "      <td>4774</td>\n",
              "      <td>13</td>\n",
              "      <td>7251</td>\n",
              "      <td>8506</td>\n",
              "      <td>33</td>\n",
              "      <td>345</td>\n",
              "      <td>7</td>\n",
              "      <td>4546</td>\n",
              "      <td>1</td>\n",
              "      <td>3196</td>\n",
              "      <td>1</td>\n",
              "      <td>76</td>\n",
              "      <td>11</td>\n",
              "      <td>3</td>\n",
              "      <td>59008</td>\n",
              "      <td>3</td>\n",
              "      <td>1</td>\n",
              "      <td>1</td>\n",
              "      <td>1</td>\n",
              "      <td>5</td>\n",
              "    </tr>\n",
              "  </tbody>\n",
              "</table>\n",
              "</div>"
            ],
            "text/plain": [
              "         channelGrouping     date  ...  customDimension.index  customDimension.value\n",
              "count            1708337  1708337  ...                1375102                1375102\n",
              "size             1708337  1708337  ...                1708337                1708337\n",
              "nunique                8      638  ...                      1                      5\n",
              "\n",
              "[3 rows x 60 columns]"
            ]
          },
          "metadata": {
            "tags": []
          },
          "execution_count": 79
        }
      ]
    },
    {
      "cell_type": "code",
      "metadata": {
        "id": "BM45F92LVWA6",
        "colab_type": "code",
        "colab": {}
      },
      "source": [
        "Geo_columns=['geoNetwork.continent',\t'geoNetwork.subContinent',\t'geoNetwork.country',\t'geoNetwork.region',\t'geoNetwork.metro',\t'geoNetwork.city',\t'geoNetwork.cityId'\t,'geoNetwork.networkDomain',\t'geoNetwork.latitude',\t'geoNetwork.longitude','geoNetwork.networkLocation']"
      ],
      "execution_count": 0,
      "outputs": []
    },
    {
      "cell_type": "code",
      "metadata": {
        "id": "xDmo_tOTV9Dn",
        "colab_type": "code",
        "colab": {
          "base_uri": "https://localhost:8080/",
          "height": 162
        },
        "outputId": "f79092db-e2ba-4d05-c423-7fcda8aac3c2"
      },
      "source": [
        "df_train[Geo_columns].agg(['count', 'size', 'nunique'])"
      ],
      "execution_count": 81,
      "outputs": [
        {
          "output_type": "execute_result",
          "data": {
            "text/html": [
              "<div>\n",
              "<style scoped>\n",
              "    .dataframe tbody tr th:only-of-type {\n",
              "        vertical-align: middle;\n",
              "    }\n",
              "\n",
              "    .dataframe tbody tr th {\n",
              "        vertical-align: top;\n",
              "    }\n",
              "\n",
              "    .dataframe thead th {\n",
              "        text-align: right;\n",
              "    }\n",
              "</style>\n",
              "<table border=\"1\" class=\"dataframe\">\n",
              "  <thead>\n",
              "    <tr style=\"text-align: right;\">\n",
              "      <th></th>\n",
              "      <th>geoNetwork.continent</th>\n",
              "      <th>geoNetwork.subContinent</th>\n",
              "      <th>geoNetwork.country</th>\n",
              "      <th>geoNetwork.region</th>\n",
              "      <th>geoNetwork.metro</th>\n",
              "      <th>geoNetwork.city</th>\n",
              "      <th>geoNetwork.cityId</th>\n",
              "      <th>geoNetwork.networkDomain</th>\n",
              "      <th>geoNetwork.latitude</th>\n",
              "      <th>geoNetwork.longitude</th>\n",
              "      <th>geoNetwork.networkLocation</th>\n",
              "    </tr>\n",
              "  </thead>\n",
              "  <tbody>\n",
              "    <tr>\n",
              "      <th>count</th>\n",
              "      <td>1708337</td>\n",
              "      <td>1708337</td>\n",
              "      <td>1708337</td>\n",
              "      <td>1708337</td>\n",
              "      <td>1708337</td>\n",
              "      <td>1708337</td>\n",
              "      <td>1708337</td>\n",
              "      <td>1708337</td>\n",
              "      <td>1708337</td>\n",
              "      <td>1708337</td>\n",
              "      <td>1708337</td>\n",
              "    </tr>\n",
              "    <tr>\n",
              "      <th>size</th>\n",
              "      <td>1708337</td>\n",
              "      <td>1708337</td>\n",
              "      <td>1708337</td>\n",
              "      <td>1708337</td>\n",
              "      <td>1708337</td>\n",
              "      <td>1708337</td>\n",
              "      <td>1708337</td>\n",
              "      <td>1708337</td>\n",
              "      <td>1708337</td>\n",
              "      <td>1708337</td>\n",
              "      <td>1708337</td>\n",
              "    </tr>\n",
              "    <tr>\n",
              "      <th>nunique</th>\n",
              "      <td>6</td>\n",
              "      <td>23</td>\n",
              "      <td>228</td>\n",
              "      <td>483</td>\n",
              "      <td>123</td>\n",
              "      <td>956</td>\n",
              "      <td>1</td>\n",
              "      <td>41982</td>\n",
              "      <td>1</td>\n",
              "      <td>1</td>\n",
              "      <td>1</td>\n",
              "    </tr>\n",
              "  </tbody>\n",
              "</table>\n",
              "</div>"
            ],
            "text/plain": [
              "         geoNetwork.continent  ...  geoNetwork.networkLocation\n",
              "count                 1708337  ...                     1708337\n",
              "size                  1708337  ...                     1708337\n",
              "nunique                     6  ...                           1\n",
              "\n",
              "[3 rows x 11 columns]"
            ]
          },
          "metadata": {
            "tags": []
          },
          "execution_count": 81
        }
      ]
    },
    {
      "cell_type": "code",
      "metadata": {
        "id": "4X3Xx9xiWSV5",
        "colab_type": "code",
        "colab": {}
      },
      "source": [
        "#update the Geo_column list without the not available values\n",
        "Geo_columns=['geoNetwork.continent',\t'geoNetwork.subContinent',\t'geoNetwork.country',\t'geoNetwork.region',\t'geoNetwork.metro',\t'geoNetwork.city',\t'geoNetwork.networkDomain']"
      ],
      "execution_count": 0,
      "outputs": []
    },
    {
      "cell_type": "code",
      "metadata": {
        "id": "PioxnqrJaMzl",
        "colab_type": "code",
        "colab": {
          "base_uri": "https://localhost:8080/",
          "height": 162
        },
        "outputId": "496ad327-19e8-4b13-c175-2b2af7bac03f"
      },
      "source": [
        "df_train[Geo_columns].agg(['count', 'size', 'nunique'])"
      ],
      "execution_count": 86,
      "outputs": [
        {
          "output_type": "execute_result",
          "data": {
            "text/html": [
              "<div>\n",
              "<style scoped>\n",
              "    .dataframe tbody tr th:only-of-type {\n",
              "        vertical-align: middle;\n",
              "    }\n",
              "\n",
              "    .dataframe tbody tr th {\n",
              "        vertical-align: top;\n",
              "    }\n",
              "\n",
              "    .dataframe thead th {\n",
              "        text-align: right;\n",
              "    }\n",
              "</style>\n",
              "<table border=\"1\" class=\"dataframe\">\n",
              "  <thead>\n",
              "    <tr style=\"text-align: right;\">\n",
              "      <th></th>\n",
              "      <th>geoNetwork.continent</th>\n",
              "      <th>geoNetwork.subContinent</th>\n",
              "      <th>geoNetwork.country</th>\n",
              "      <th>geoNetwork.region</th>\n",
              "      <th>geoNetwork.metro</th>\n",
              "      <th>geoNetwork.city</th>\n",
              "      <th>geoNetwork.networkDomain</th>\n",
              "    </tr>\n",
              "  </thead>\n",
              "  <tbody>\n",
              "    <tr>\n",
              "      <th>count</th>\n",
              "      <td>1708337</td>\n",
              "      <td>1708337</td>\n",
              "      <td>1708337</td>\n",
              "      <td>1708337</td>\n",
              "      <td>1708337</td>\n",
              "      <td>1708337</td>\n",
              "      <td>1708337</td>\n",
              "    </tr>\n",
              "    <tr>\n",
              "      <th>size</th>\n",
              "      <td>1708337</td>\n",
              "      <td>1708337</td>\n",
              "      <td>1708337</td>\n",
              "      <td>1708337</td>\n",
              "      <td>1708337</td>\n",
              "      <td>1708337</td>\n",
              "      <td>1708337</td>\n",
              "    </tr>\n",
              "    <tr>\n",
              "      <th>nunique</th>\n",
              "      <td>6</td>\n",
              "      <td>23</td>\n",
              "      <td>228</td>\n",
              "      <td>483</td>\n",
              "      <td>123</td>\n",
              "      <td>956</td>\n",
              "      <td>41982</td>\n",
              "    </tr>\n",
              "  </tbody>\n",
              "</table>\n",
              "</div>"
            ],
            "text/plain": [
              "         geoNetwork.continent  ...  geoNetwork.networkDomain\n",
              "count                 1708337  ...                   1708337\n",
              "size                  1708337  ...                   1708337\n",
              "nunique                     6  ...                     41982\n",
              "\n",
              "[3 rows x 7 columns]"
            ]
          },
          "metadata": {
            "tags": []
          },
          "execution_count": 86
        }
      ]
    },
    {
      "cell_type": "code",
      "metadata": {
        "id": "TpSEPc5-4XKw",
        "colab_type": "code",
        "colab": {
          "base_uri": "https://localhost:8080/",
          "height": 153
        },
        "outputId": "83500148-da46-4211-cfa6-12224230171a"
      },
      "source": [
        "df_train.groupby(['geoNetwork.continent'])[['totals.transactionRevenue',]].count()"
      ],
      "execution_count": 50,
      "outputs": [
        {
          "output_type": "execute_result",
          "data": {
            "text/plain": [
              "geoNetwork.continent\n",
              "(not set)        7\n",
              "Africa          12\n",
              "Americas     18150\n",
              "Asia           190\n",
              "Europe         126\n",
              "Oceania         29\n",
              "Name: totals.transactionRevenue, dtype: int64"
            ]
          },
          "metadata": {
            "tags": []
          },
          "execution_count": 50
        }
      ]
    },
    {
      "cell_type": "code",
      "metadata": {
        "id": "bJLftli0Mb2I",
        "colab_type": "code",
        "colab": {
          "base_uri": "https://localhost:8080/",
          "height": 450
        },
        "outputId": "d14317a0-7f74-4d58-c1c5-6f048e70721c"
      },
      "source": [
        "A=df_train.groupby(['geoNetwork.networkDomain'])[['totals.transactionRevenue']].count()\n",
        "A=A[A['totals.transactionRevenue']>0]\n",
        "A.sort_values(by='totals.transactionRevenue', ascending=False, inplace=True)\n",
        "A"
      ],
      "execution_count": 91,
      "outputs": [
        {
          "output_type": "execute_result",
          "data": {
            "text/html": [
              "<div>\n",
              "<style scoped>\n",
              "    .dataframe tbody tr th:only-of-type {\n",
              "        vertical-align: middle;\n",
              "    }\n",
              "\n",
              "    .dataframe tbody tr th {\n",
              "        vertical-align: top;\n",
              "    }\n",
              "\n",
              "    .dataframe thead th {\n",
              "        text-align: right;\n",
              "    }\n",
              "</style>\n",
              "<table border=\"1\" class=\"dataframe\">\n",
              "  <thead>\n",
              "    <tr style=\"text-align: right;\">\n",
              "      <th></th>\n",
              "      <th>totals.transactionRevenue</th>\n",
              "    </tr>\n",
              "    <tr>\n",
              "      <th>geoNetwork.networkDomain</th>\n",
              "      <th></th>\n",
              "    </tr>\n",
              "  </thead>\n",
              "  <tbody>\n",
              "    <tr>\n",
              "      <th>(not set)</th>\n",
              "      <td>10867</td>\n",
              "    </tr>\n",
              "    <tr>\n",
              "      <th>comcast.net</th>\n",
              "      <td>1505</td>\n",
              "    </tr>\n",
              "    <tr>\n",
              "      <th>verizon.net</th>\n",
              "      <td>755</td>\n",
              "    </tr>\n",
              "    <tr>\n",
              "      <th>unknown.unknown</th>\n",
              "      <td>665</td>\n",
              "    </tr>\n",
              "    <tr>\n",
              "      <th>rr.com</th>\n",
              "      <td>588</td>\n",
              "    </tr>\n",
              "    <tr>\n",
              "      <th>...</th>\n",
              "      <td>...</td>\n",
              "    </tr>\n",
              "    <tr>\n",
              "      <th>mtco.com</th>\n",
              "      <td>1</td>\n",
              "    </tr>\n",
              "    <tr>\n",
              "      <th>mtnsat.com</th>\n",
              "      <td>1</td>\n",
              "    </tr>\n",
              "    <tr>\n",
              "      <th>mtroyal.ca</th>\n",
              "      <td>1</td>\n",
              "    </tr>\n",
              "    <tr>\n",
              "      <th>mtsallstream.net</th>\n",
              "      <td>1</td>\n",
              "    </tr>\n",
              "    <tr>\n",
              "      <th>pmgroup-global.com</th>\n",
              "      <td>1</td>\n",
              "    </tr>\n",
              "  </tbody>\n",
              "</table>\n",
              "<p>996 rows × 1 columns</p>\n",
              "</div>"
            ],
            "text/plain": [
              "                          totals.transactionRevenue\n",
              "geoNetwork.networkDomain                           \n",
              "(not set)                                     10867\n",
              "comcast.net                                    1505\n",
              "verizon.net                                     755\n",
              "unknown.unknown                                 665\n",
              "rr.com                                          588\n",
              "...                                             ...\n",
              "mtco.com                                          1\n",
              "mtnsat.com                                        1\n",
              "mtroyal.ca                                        1\n",
              "mtsallstream.net                                  1\n",
              "pmgroup-global.com                                1\n",
              "\n",
              "[996 rows x 1 columns]"
            ]
          },
          "metadata": {
            "tags": []
          },
          "execution_count": 91
        }
      ]
    },
    {
      "cell_type": "code",
      "metadata": {
        "id": "1FE9Xw0hc27p",
        "colab_type": "code",
        "colab": {
          "base_uri": "https://localhost:8080/",
          "height": 450
        },
        "outputId": "37771769-22e0-4827-8d85-8d87ca51c898"
      },
      "source": [
        "B=df_train.groupby(['geoNetwork.networkDomain'])[['totals.transactionRevenue']].sum()\n",
        "B=B[B['totals.transactionRevenue']>0]\n",
        "B.sort_values(by='totals.transactionRevenue', ascending=False, inplace=True)\n",
        "B"
      ],
      "execution_count": 92,
      "outputs": [
        {
          "output_type": "execute_result",
          "data": {
            "text/html": [
              "<div>\n",
              "<style scoped>\n",
              "    .dataframe tbody tr th:only-of-type {\n",
              "        vertical-align: middle;\n",
              "    }\n",
              "\n",
              "    .dataframe tbody tr th {\n",
              "        vertical-align: top;\n",
              "    }\n",
              "\n",
              "    .dataframe thead th {\n",
              "        text-align: right;\n",
              "    }\n",
              "</style>\n",
              "<table border=\"1\" class=\"dataframe\">\n",
              "  <thead>\n",
              "    <tr style=\"text-align: right;\">\n",
              "      <th></th>\n",
              "      <th>totals.transactionRevenue</th>\n",
              "    </tr>\n",
              "    <tr>\n",
              "      <th>geoNetwork.networkDomain</th>\n",
              "      <th></th>\n",
              "    </tr>\n",
              "  </thead>\n",
              "  <tbody>\n",
              "    <tr>\n",
              "      <th>(not set)</th>\n",
              "      <td>1.305843e+12</td>\n",
              "    </tr>\n",
              "    <tr>\n",
              "      <th>comcastbusiness.net</th>\n",
              "      <td>2.079817e+11</td>\n",
              "    </tr>\n",
              "    <tr>\n",
              "      <th>comcast.net</th>\n",
              "      <td>1.773147e+11</td>\n",
              "    </tr>\n",
              "    <tr>\n",
              "      <th>verizon.net</th>\n",
              "      <td>7.967340e+10</td>\n",
              "    </tr>\n",
              "    <tr>\n",
              "      <th>unknown.unknown</th>\n",
              "      <td>5.825398e+10</td>\n",
              "    </tr>\n",
              "    <tr>\n",
              "      <th>...</th>\n",
              "      <td>...</td>\n",
              "    </tr>\n",
              "    <tr>\n",
              "      <th>netfirms.com</th>\n",
              "      <td>1.990000e+06</td>\n",
              "    </tr>\n",
              "    <tr>\n",
              "      <th>hsn.net</th>\n",
              "      <td>1.990000e+06</td>\n",
              "    </tr>\n",
              "    <tr>\n",
              "      <th>dvois.com</th>\n",
              "      <td>1.500000e+06</td>\n",
              "    </tr>\n",
              "    <tr>\n",
              "      <th>fsu.edu</th>\n",
              "      <td>1.500000e+06</td>\n",
              "    </tr>\n",
              "    <tr>\n",
              "      <th>16clouds.com</th>\n",
              "      <td>1.500000e+06</td>\n",
              "    </tr>\n",
              "  </tbody>\n",
              "</table>\n",
              "<p>996 rows × 1 columns</p>\n",
              "</div>"
            ],
            "text/plain": [
              "                          totals.transactionRevenue\n",
              "geoNetwork.networkDomain                           \n",
              "(not set)                              1.305843e+12\n",
              "comcastbusiness.net                    2.079817e+11\n",
              "comcast.net                            1.773147e+11\n",
              "verizon.net                            7.967340e+10\n",
              "unknown.unknown                        5.825398e+10\n",
              "...                                             ...\n",
              "netfirms.com                           1.990000e+06\n",
              "hsn.net                                1.990000e+06\n",
              "dvois.com                              1.500000e+06\n",
              "fsu.edu                                1.500000e+06\n",
              "16clouds.com                           1.500000e+06\n",
              "\n",
              "[996 rows x 1 columns]"
            ]
          },
          "metadata": {
            "tags": []
          },
          "execution_count": 92
        }
      ]
    },
    {
      "cell_type": "markdown",
      "metadata": {
        "id": "7_HU-Ajmbmze",
        "colab_type": "text"
      },
      "source": [
        "## Domain Insight:\n",
        "- From the 41982 unique domains register only 996 has had at least one transaction.\n",
        "- the not set domain aggregate a big number of finished transactions"
      ]
    },
    {
      "cell_type": "code",
      "metadata": {
        "id": "GnSrQHyqE9pv",
        "colab_type": "code",
        "colab": {
          "base_uri": "https://localhost:8080/",
          "height": 266
        },
        "outputId": "b76caedb-82d4-47e4-acff-9b0c7bdd789c"
      },
      "source": [
        "#transform the objective variable into a numerical variable\n",
        "df_train[\"totals.transactionRevenue\"] = df_train[\"totals.transactionRevenue\"].astype('float')\n",
        "df_train.groupby(['geoNetwork.continent'])[['totals.transactionRevenue',]].sum()"
      ],
      "execution_count": 61,
      "outputs": [
        {
          "output_type": "execute_result",
          "data": {
            "text/html": [
              "<div>\n",
              "<style scoped>\n",
              "    .dataframe tbody tr th:only-of-type {\n",
              "        vertical-align: middle;\n",
              "    }\n",
              "\n",
              "    .dataframe tbody tr th {\n",
              "        vertical-align: top;\n",
              "    }\n",
              "\n",
              "    .dataframe thead th {\n",
              "        text-align: right;\n",
              "    }\n",
              "</style>\n",
              "<table border=\"1\" class=\"dataframe\">\n",
              "  <thead>\n",
              "    <tr style=\"text-align: right;\">\n",
              "      <th></th>\n",
              "      <th>totals.transactionRevenue</th>\n",
              "    </tr>\n",
              "    <tr>\n",
              "      <th>geoNetwork.continent</th>\n",
              "      <th></th>\n",
              "    </tr>\n",
              "  </thead>\n",
              "  <tbody>\n",
              "    <tr>\n",
              "      <th>(not set)</th>\n",
              "      <td>7.952200e+08</td>\n",
              "    </tr>\n",
              "    <tr>\n",
              "      <th>Africa</th>\n",
              "      <td>9.025990e+09</td>\n",
              "    </tr>\n",
              "    <tr>\n",
              "      <th>Americas</th>\n",
              "      <td>2.265098e+12</td>\n",
              "    </tr>\n",
              "    <tr>\n",
              "      <th>Asia</th>\n",
              "      <td>2.339772e+10</td>\n",
              "    </tr>\n",
              "    <tr>\n",
              "      <th>Europe</th>\n",
              "      <td>1.124745e+10</td>\n",
              "    </tr>\n",
              "    <tr>\n",
              "      <th>Oceania</th>\n",
              "      <td>6.781100e+09</td>\n",
              "    </tr>\n",
              "  </tbody>\n",
              "</table>\n",
              "</div>"
            ],
            "text/plain": [
              "                      totals.transactionRevenue\n",
              "geoNetwork.continent                           \n",
              "(not set)                          7.952200e+08\n",
              "Africa                             9.025990e+09\n",
              "Americas                           2.265098e+12\n",
              "Asia                               2.339772e+10\n",
              "Europe                             1.124745e+10\n",
              "Oceania                            6.781100e+09"
            ]
          },
          "metadata": {
            "tags": []
          },
          "execution_count": 61
        }
      ]
    }
  ]
}