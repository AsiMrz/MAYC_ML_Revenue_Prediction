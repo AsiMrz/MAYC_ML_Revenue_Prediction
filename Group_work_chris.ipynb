{
 "cells": [
  {
   "cell_type": "code",
   "execution_count": 1,
   "metadata": {},
   "outputs": [],
   "source": [
    "# download the libraries\n",
    "import pandas as pd\n",
    "from pandas import Series,DataFrame\n",
    "import warnings\n",
    "import os\n",
    "warnings.filterwarnings('ignore')\n",
    "#!pip3 install --upgrade seaborn cufflinks plotly\n",
    "import numpy as np\n",
    "import matplotlib.pyplot as plt\n",
    "import seaborn as sns\n",
    "from datetime import datetime\n",
    "import json\n",
    "import random\n",
    "from pandas.io.json import json_normalize\n",
    "%matplotlib inline"
   ]
  },
  {
   "cell_type": "code",
   "execution_count": null,
   "metadata": {},
   "outputs": [],
   "source": []
  },
  {
   "cell_type": "code",
   "execution_count": 2,
   "metadata": {},
   "outputs": [],
   "source": [
    "df_train = pd.read_pickle('train_flat_no_hits.pkl')"
   ]
  },
  {
   "cell_type": "code",
   "execution_count": 3,
   "metadata": {},
   "outputs": [
    {
     "data": {
      "text/html": [
       "<div>\n",
       "<style scoped>\n",
       "    .dataframe tbody tr th:only-of-type {\n",
       "        vertical-align: middle;\n",
       "    }\n",
       "\n",
       "    .dataframe tbody tr th {\n",
       "        vertical-align: top;\n",
       "    }\n",
       "\n",
       "    .dataframe thead th {\n",
       "        text-align: right;\n",
       "    }\n",
       "</style>\n",
       "<table border=\"1\" class=\"dataframe\">\n",
       "  <thead>\n",
       "    <tr style=\"text-align: right;\">\n",
       "      <th></th>\n",
       "      <th>channelGrouping</th>\n",
       "      <th>date</th>\n",
       "      <th>fullVisitorId</th>\n",
       "      <th>socialEngagementType</th>\n",
       "      <th>visitId</th>\n",
       "      <th>visitNumber</th>\n",
       "      <th>visitStartTime</th>\n",
       "      <th>device.browser</th>\n",
       "      <th>device.browserVersion</th>\n",
       "      <th>device.browserSize</th>\n",
       "      <th>...</th>\n",
       "      <th>trafficSource.isTrueDirect</th>\n",
       "      <th>trafficSource.adContent</th>\n",
       "      <th>trafficSource.adwordsClickInfo.page</th>\n",
       "      <th>trafficSource.adwordsClickInfo.slot</th>\n",
       "      <th>trafficSource.adwordsClickInfo.gclId</th>\n",
       "      <th>trafficSource.adwordsClickInfo.adNetworkType</th>\n",
       "      <th>trafficSource.adwordsClickInfo.isVideoAd</th>\n",
       "      <th>trafficSource.campaignCode</th>\n",
       "      <th>customDimension.index</th>\n",
       "      <th>customDimension.value</th>\n",
       "    </tr>\n",
       "  </thead>\n",
       "  <tbody>\n",
       "    <tr>\n",
       "      <th>0</th>\n",
       "      <td>Organic Search</td>\n",
       "      <td>20171016</td>\n",
       "      <td>3162355547410993243</td>\n",
       "      <td>Not Socially Engaged</td>\n",
       "      <td>1508198450</td>\n",
       "      <td>1</td>\n",
       "      <td>1508198450</td>\n",
       "      <td>Firefox</td>\n",
       "      <td>not available in demo dataset</td>\n",
       "      <td>not available in demo dataset</td>\n",
       "      <td>...</td>\n",
       "      <td>NaN</td>\n",
       "      <td>NaN</td>\n",
       "      <td>NaN</td>\n",
       "      <td>NaN</td>\n",
       "      <td>NaN</td>\n",
       "      <td>NaN</td>\n",
       "      <td>NaN</td>\n",
       "      <td>NaN</td>\n",
       "      <td>4</td>\n",
       "      <td>EMEA</td>\n",
       "    </tr>\n",
       "    <tr>\n",
       "      <th>1</th>\n",
       "      <td>Referral</td>\n",
       "      <td>20171016</td>\n",
       "      <td>8934116514970143966</td>\n",
       "      <td>Not Socially Engaged</td>\n",
       "      <td>1508176307</td>\n",
       "      <td>6</td>\n",
       "      <td>1508176307</td>\n",
       "      <td>Chrome</td>\n",
       "      <td>not available in demo dataset</td>\n",
       "      <td>not available in demo dataset</td>\n",
       "      <td>...</td>\n",
       "      <td>NaN</td>\n",
       "      <td>NaN</td>\n",
       "      <td>NaN</td>\n",
       "      <td>NaN</td>\n",
       "      <td>NaN</td>\n",
       "      <td>NaN</td>\n",
       "      <td>NaN</td>\n",
       "      <td>NaN</td>\n",
       "      <td>4</td>\n",
       "      <td>North America</td>\n",
       "    </tr>\n",
       "    <tr>\n",
       "      <th>2</th>\n",
       "      <td>Direct</td>\n",
       "      <td>20171016</td>\n",
       "      <td>7992466427990357681</td>\n",
       "      <td>Not Socially Engaged</td>\n",
       "      <td>1508201613</td>\n",
       "      <td>1</td>\n",
       "      <td>1508201613</td>\n",
       "      <td>Chrome</td>\n",
       "      <td>not available in demo dataset</td>\n",
       "      <td>not available in demo dataset</td>\n",
       "      <td>...</td>\n",
       "      <td>True</td>\n",
       "      <td>NaN</td>\n",
       "      <td>NaN</td>\n",
       "      <td>NaN</td>\n",
       "      <td>NaN</td>\n",
       "      <td>NaN</td>\n",
       "      <td>NaN</td>\n",
       "      <td>NaN</td>\n",
       "      <td>4</td>\n",
       "      <td>North America</td>\n",
       "    </tr>\n",
       "    <tr>\n",
       "      <th>3</th>\n",
       "      <td>Organic Search</td>\n",
       "      <td>20171016</td>\n",
       "      <td>9075655783635761930</td>\n",
       "      <td>Not Socially Engaged</td>\n",
       "      <td>1508169851</td>\n",
       "      <td>1</td>\n",
       "      <td>1508169851</td>\n",
       "      <td>Chrome</td>\n",
       "      <td>not available in demo dataset</td>\n",
       "      <td>not available in demo dataset</td>\n",
       "      <td>...</td>\n",
       "      <td>NaN</td>\n",
       "      <td>NaN</td>\n",
       "      <td>NaN</td>\n",
       "      <td>NaN</td>\n",
       "      <td>NaN</td>\n",
       "      <td>NaN</td>\n",
       "      <td>NaN</td>\n",
       "      <td>NaN</td>\n",
       "      <td>4</td>\n",
       "      <td>EMEA</td>\n",
       "    </tr>\n",
       "    <tr>\n",
       "      <th>4</th>\n",
       "      <td>Organic Search</td>\n",
       "      <td>20171016</td>\n",
       "      <td>6960673291025684308</td>\n",
       "      <td>Not Socially Engaged</td>\n",
       "      <td>1508190552</td>\n",
       "      <td>1</td>\n",
       "      <td>1508190552</td>\n",
       "      <td>Chrome</td>\n",
       "      <td>not available in demo dataset</td>\n",
       "      <td>not available in demo dataset</td>\n",
       "      <td>...</td>\n",
       "      <td>NaN</td>\n",
       "      <td>NaN</td>\n",
       "      <td>NaN</td>\n",
       "      <td>NaN</td>\n",
       "      <td>NaN</td>\n",
       "      <td>NaN</td>\n",
       "      <td>NaN</td>\n",
       "      <td>NaN</td>\n",
       "      <td>4</td>\n",
       "      <td>Central America</td>\n",
       "    </tr>\n",
       "  </tbody>\n",
       "</table>\n",
       "<p>5 rows × 60 columns</p>\n",
       "</div>"
      ],
      "text/plain": [
       "  channelGrouping      date        fullVisitorId  socialEngagementType  \\\n",
       "0  Organic Search  20171016  3162355547410993243  Not Socially Engaged   \n",
       "1        Referral  20171016  8934116514970143966  Not Socially Engaged   \n",
       "2          Direct  20171016  7992466427990357681  Not Socially Engaged   \n",
       "3  Organic Search  20171016  9075655783635761930  Not Socially Engaged   \n",
       "4  Organic Search  20171016  6960673291025684308  Not Socially Engaged   \n",
       "\n",
       "      visitId  visitNumber  visitStartTime device.browser  \\\n",
       "0  1508198450            1      1508198450        Firefox   \n",
       "1  1508176307            6      1508176307         Chrome   \n",
       "2  1508201613            1      1508201613         Chrome   \n",
       "3  1508169851            1      1508169851         Chrome   \n",
       "4  1508190552            1      1508190552         Chrome   \n",
       "\n",
       "           device.browserVersion             device.browserSize  ...  \\\n",
       "0  not available in demo dataset  not available in demo dataset  ...   \n",
       "1  not available in demo dataset  not available in demo dataset  ...   \n",
       "2  not available in demo dataset  not available in demo dataset  ...   \n",
       "3  not available in demo dataset  not available in demo dataset  ...   \n",
       "4  not available in demo dataset  not available in demo dataset  ...   \n",
       "\n",
       "  trafficSource.isTrueDirect trafficSource.adContent  \\\n",
       "0                        NaN                     NaN   \n",
       "1                        NaN                     NaN   \n",
       "2                       True                     NaN   \n",
       "3                        NaN                     NaN   \n",
       "4                        NaN                     NaN   \n",
       "\n",
       "   trafficSource.adwordsClickInfo.page trafficSource.adwordsClickInfo.slot  \\\n",
       "0                                  NaN                                 NaN   \n",
       "1                                  NaN                                 NaN   \n",
       "2                                  NaN                                 NaN   \n",
       "3                                  NaN                                 NaN   \n",
       "4                                  NaN                                 NaN   \n",
       "\n",
       "  trafficSource.adwordsClickInfo.gclId  \\\n",
       "0                                  NaN   \n",
       "1                                  NaN   \n",
       "2                                  NaN   \n",
       "3                                  NaN   \n",
       "4                                  NaN   \n",
       "\n",
       "  trafficSource.adwordsClickInfo.adNetworkType  \\\n",
       "0                                          NaN   \n",
       "1                                          NaN   \n",
       "2                                          NaN   \n",
       "3                                          NaN   \n",
       "4                                          NaN   \n",
       "\n",
       "  trafficSource.adwordsClickInfo.isVideoAd trafficSource.campaignCode  \\\n",
       "0                                      NaN                        NaN   \n",
       "1                                      NaN                        NaN   \n",
       "2                                      NaN                        NaN   \n",
       "3                                      NaN                        NaN   \n",
       "4                                      NaN                        NaN   \n",
       "\n",
       "  customDimension.index customDimension.value  \n",
       "0                     4                  EMEA  \n",
       "1                     4         North America  \n",
       "2                     4         North America  \n",
       "3                     4                  EMEA  \n",
       "4                     4       Central America  \n",
       "\n",
       "[5 rows x 60 columns]"
      ]
     },
     "execution_count": 3,
     "metadata": {},
     "output_type": "execute_result"
    }
   ],
   "source": [
    "df_train.head()"
   ]
  },
  {
   "cell_type": "code",
   "execution_count": 5,
   "metadata": {},
   "outputs": [
    {
     "data": {
      "text/plain": [
       "trafficSource.campaignCode                           1708336\n",
       "totals.transactionRevenue                            1689823\n",
       "totals.totalTransactionRevenue                       1689823\n",
       "totals.transactions                                  1689778\n",
       "trafficSource.adContent                              1643600\n",
       "trafficSource.adwordsClickInfo.isVideoAd             1633063\n",
       "trafficSource.adwordsClickInfo.adNetworkType         1633063\n",
       "trafficSource.adwordsClickInfo.slot                  1633063\n",
       "trafficSource.adwordsClickInfo.page                  1633063\n",
       "trafficSource.adwordsClickInfo.gclId                 1632914\n",
       "trafficSource.isTrueDirect                           1173819\n",
       "trafficSource.referralPath                           1142073\n",
       "trafficSource.keyword                                1052780\n",
       "totals.timeOnSite                                     874294\n",
       "totals.bounces                                        836759\n",
       "totals.sessionQualityDim                              835274\n",
       "totals.newVisits                                      400907\n",
       "customDimension.index                                 333235\n",
       "customDimension.value                                 333235\n",
       "totals.pageviews                                         239\n",
       "device.language                                            0\n",
       "date                                                       0\n",
       "device.mobileDeviceMarketingName                           0\n",
       "device.mobileDeviceInfo                                    0\n",
       "device.mobileInputSelector                                 0\n",
       "device.mobileDeviceModel                                   0\n",
       "device.mobileDeviceBranding                                0\n",
       "device.isMobile                                            0\n",
       "device.operatingSystemVersion                              0\n",
       "device.operatingSystem                                     0\n",
       "visitId                                                    0\n",
       "device.browserSize                                         0\n",
       "device.browserVersion                                      0\n",
       "device.browser                                             0\n",
       "visitStartTime                                             0\n",
       "visitNumber                                                0\n",
       "fullVisitorId                                              0\n",
       "socialEngagementType                                       0\n",
       "device.flashVersion                                        0\n",
       "geoNetwork.cityId                                          0\n",
       "device.screenColors                                        0\n",
       "device.screenResolution                                    0\n",
       "trafficSource.adwordsClickInfo.criteriaParameters          0\n",
       "trafficSource.medium                                       0\n",
       "trafficSource.source                                       0\n",
       "trafficSource.campaign                                     0\n",
       "totals.hits                                                0\n",
       "totals.visits                                              0\n",
       "geoNetwork.networkLocation                                 0\n",
       "geoNetwork.longitude                                       0\n",
       "geoNetwork.latitude                                        0\n",
       "geoNetwork.networkDomain                                   0\n",
       "geoNetwork.city                                            0\n",
       "geoNetwork.metro                                           0\n",
       "geoNetwork.region                                          0\n",
       "geoNetwork.country                                         0\n",
       "geoNetwork.subContinent                                    0\n",
       "geoNetwork.continent                                       0\n",
       "device.deviceCategory                                      0\n",
       "channelGrouping                                            0\n",
       "dtype: int64"
      ]
     },
     "execution_count": 5,
     "metadata": {},
     "output_type": "execute_result"
    }
   ],
   "source": [
    "df_train.isnull().sum().sort_values(ascending = False)"
   ]
  },
  {
   "cell_type": "code",
   "execution_count": 4,
   "metadata": {},
   "outputs": [],
   "source": [
    "df_train['date'] = pd.to_datetime(df_train[\"date\"], format=\"%Y%m%d\") #convert to datetime\n",
    "df_train['year'] = df_train['date'].dt.year #for year\n",
    "df_train['day'] = df_train.date.dt.day_name() #for day\n",
    "df_train['week'] = df_train.date.dt.weekofyear #week\n",
    "df_train['month'] = df_train.date.dt.month_name() #month"
   ]
  },
  {
   "cell_type": "code",
   "execution_count": 5,
   "metadata": {},
   "outputs": [
    {
     "data": {
      "text/html": [
       "<div>\n",
       "<style scoped>\n",
       "    .dataframe tbody tr th:only-of-type {\n",
       "        vertical-align: middle;\n",
       "    }\n",
       "\n",
       "    .dataframe tbody tr th {\n",
       "        vertical-align: top;\n",
       "    }\n",
       "\n",
       "    .dataframe thead th {\n",
       "        text-align: right;\n",
       "    }\n",
       "</style>\n",
       "<table border=\"1\" class=\"dataframe\">\n",
       "  <thead>\n",
       "    <tr style=\"text-align: right;\">\n",
       "      <th></th>\n",
       "      <th>channelGrouping</th>\n",
       "      <th>date</th>\n",
       "      <th>fullVisitorId</th>\n",
       "      <th>socialEngagementType</th>\n",
       "      <th>visitId</th>\n",
       "      <th>visitNumber</th>\n",
       "      <th>visitStartTime</th>\n",
       "      <th>device.browser</th>\n",
       "      <th>device.browserVersion</th>\n",
       "      <th>device.browserSize</th>\n",
       "      <th>...</th>\n",
       "      <th>trafficSource.adwordsClickInfo.gclId</th>\n",
       "      <th>trafficSource.adwordsClickInfo.adNetworkType</th>\n",
       "      <th>trafficSource.adwordsClickInfo.isVideoAd</th>\n",
       "      <th>trafficSource.campaignCode</th>\n",
       "      <th>customDimension.index</th>\n",
       "      <th>customDimension.value</th>\n",
       "      <th>year</th>\n",
       "      <th>day</th>\n",
       "      <th>week</th>\n",
       "      <th>month</th>\n",
       "    </tr>\n",
       "  </thead>\n",
       "  <tbody>\n",
       "    <tr>\n",
       "      <th>0</th>\n",
       "      <td>Organic Search</td>\n",
       "      <td>2017-10-16</td>\n",
       "      <td>3162355547410993243</td>\n",
       "      <td>Not Socially Engaged</td>\n",
       "      <td>1508198450</td>\n",
       "      <td>1</td>\n",
       "      <td>1508198450</td>\n",
       "      <td>Firefox</td>\n",
       "      <td>not available in demo dataset</td>\n",
       "      <td>not available in demo dataset</td>\n",
       "      <td>...</td>\n",
       "      <td>NaN</td>\n",
       "      <td>NaN</td>\n",
       "      <td>NaN</td>\n",
       "      <td>NaN</td>\n",
       "      <td>4</td>\n",
       "      <td>EMEA</td>\n",
       "      <td>2017</td>\n",
       "      <td>Monday</td>\n",
       "      <td>42</td>\n",
       "      <td>October</td>\n",
       "    </tr>\n",
       "    <tr>\n",
       "      <th>1</th>\n",
       "      <td>Referral</td>\n",
       "      <td>2017-10-16</td>\n",
       "      <td>8934116514970143966</td>\n",
       "      <td>Not Socially Engaged</td>\n",
       "      <td>1508176307</td>\n",
       "      <td>6</td>\n",
       "      <td>1508176307</td>\n",
       "      <td>Chrome</td>\n",
       "      <td>not available in demo dataset</td>\n",
       "      <td>not available in demo dataset</td>\n",
       "      <td>...</td>\n",
       "      <td>NaN</td>\n",
       "      <td>NaN</td>\n",
       "      <td>NaN</td>\n",
       "      <td>NaN</td>\n",
       "      <td>4</td>\n",
       "      <td>North America</td>\n",
       "      <td>2017</td>\n",
       "      <td>Monday</td>\n",
       "      <td>42</td>\n",
       "      <td>October</td>\n",
       "    </tr>\n",
       "    <tr>\n",
       "      <th>2</th>\n",
       "      <td>Direct</td>\n",
       "      <td>2017-10-16</td>\n",
       "      <td>7992466427990357681</td>\n",
       "      <td>Not Socially Engaged</td>\n",
       "      <td>1508201613</td>\n",
       "      <td>1</td>\n",
       "      <td>1508201613</td>\n",
       "      <td>Chrome</td>\n",
       "      <td>not available in demo dataset</td>\n",
       "      <td>not available in demo dataset</td>\n",
       "      <td>...</td>\n",
       "      <td>NaN</td>\n",
       "      <td>NaN</td>\n",
       "      <td>NaN</td>\n",
       "      <td>NaN</td>\n",
       "      <td>4</td>\n",
       "      <td>North America</td>\n",
       "      <td>2017</td>\n",
       "      <td>Monday</td>\n",
       "      <td>42</td>\n",
       "      <td>October</td>\n",
       "    </tr>\n",
       "    <tr>\n",
       "      <th>3</th>\n",
       "      <td>Organic Search</td>\n",
       "      <td>2017-10-16</td>\n",
       "      <td>9075655783635761930</td>\n",
       "      <td>Not Socially Engaged</td>\n",
       "      <td>1508169851</td>\n",
       "      <td>1</td>\n",
       "      <td>1508169851</td>\n",
       "      <td>Chrome</td>\n",
       "      <td>not available in demo dataset</td>\n",
       "      <td>not available in demo dataset</td>\n",
       "      <td>...</td>\n",
       "      <td>NaN</td>\n",
       "      <td>NaN</td>\n",
       "      <td>NaN</td>\n",
       "      <td>NaN</td>\n",
       "      <td>4</td>\n",
       "      <td>EMEA</td>\n",
       "      <td>2017</td>\n",
       "      <td>Monday</td>\n",
       "      <td>42</td>\n",
       "      <td>October</td>\n",
       "    </tr>\n",
       "    <tr>\n",
       "      <th>4</th>\n",
       "      <td>Organic Search</td>\n",
       "      <td>2017-10-16</td>\n",
       "      <td>6960673291025684308</td>\n",
       "      <td>Not Socially Engaged</td>\n",
       "      <td>1508190552</td>\n",
       "      <td>1</td>\n",
       "      <td>1508190552</td>\n",
       "      <td>Chrome</td>\n",
       "      <td>not available in demo dataset</td>\n",
       "      <td>not available in demo dataset</td>\n",
       "      <td>...</td>\n",
       "      <td>NaN</td>\n",
       "      <td>NaN</td>\n",
       "      <td>NaN</td>\n",
       "      <td>NaN</td>\n",
       "      <td>4</td>\n",
       "      <td>Central America</td>\n",
       "      <td>2017</td>\n",
       "      <td>Monday</td>\n",
       "      <td>42</td>\n",
       "      <td>October</td>\n",
       "    </tr>\n",
       "  </tbody>\n",
       "</table>\n",
       "<p>5 rows × 64 columns</p>\n",
       "</div>"
      ],
      "text/plain": [
       "  channelGrouping       date        fullVisitorId  socialEngagementType  \\\n",
       "0  Organic Search 2017-10-16  3162355547410993243  Not Socially Engaged   \n",
       "1        Referral 2017-10-16  8934116514970143966  Not Socially Engaged   \n",
       "2          Direct 2017-10-16  7992466427990357681  Not Socially Engaged   \n",
       "3  Organic Search 2017-10-16  9075655783635761930  Not Socially Engaged   \n",
       "4  Organic Search 2017-10-16  6960673291025684308  Not Socially Engaged   \n",
       "\n",
       "      visitId  visitNumber  visitStartTime device.browser  \\\n",
       "0  1508198450            1      1508198450        Firefox   \n",
       "1  1508176307            6      1508176307         Chrome   \n",
       "2  1508201613            1      1508201613         Chrome   \n",
       "3  1508169851            1      1508169851         Chrome   \n",
       "4  1508190552            1      1508190552         Chrome   \n",
       "\n",
       "           device.browserVersion             device.browserSize  ...  \\\n",
       "0  not available in demo dataset  not available in demo dataset  ...   \n",
       "1  not available in demo dataset  not available in demo dataset  ...   \n",
       "2  not available in demo dataset  not available in demo dataset  ...   \n",
       "3  not available in demo dataset  not available in demo dataset  ...   \n",
       "4  not available in demo dataset  not available in demo dataset  ...   \n",
       "\n",
       "  trafficSource.adwordsClickInfo.gclId  \\\n",
       "0                                  NaN   \n",
       "1                                  NaN   \n",
       "2                                  NaN   \n",
       "3                                  NaN   \n",
       "4                                  NaN   \n",
       "\n",
       "  trafficSource.adwordsClickInfo.adNetworkType  \\\n",
       "0                                          NaN   \n",
       "1                                          NaN   \n",
       "2                                          NaN   \n",
       "3                                          NaN   \n",
       "4                                          NaN   \n",
       "\n",
       "   trafficSource.adwordsClickInfo.isVideoAd trafficSource.campaignCode  \\\n",
       "0                                       NaN                        NaN   \n",
       "1                                       NaN                        NaN   \n",
       "2                                       NaN                        NaN   \n",
       "3                                       NaN                        NaN   \n",
       "4                                       NaN                        NaN   \n",
       "\n",
       "  customDimension.index customDimension.value  year     day week    month  \n",
       "0                     4                  EMEA  2017  Monday   42  October  \n",
       "1                     4         North America  2017  Monday   42  October  \n",
       "2                     4         North America  2017  Monday   42  October  \n",
       "3                     4                  EMEA  2017  Monday   42  October  \n",
       "4                     4       Central America  2017  Monday   42  October  \n",
       "\n",
       "[5 rows x 64 columns]"
      ]
     },
     "execution_count": 5,
     "metadata": {},
     "output_type": "execute_result"
    }
   ],
   "source": [
    "df_train.head()"
   ]
  },
  {
   "cell_type": "code",
   "execution_count": 134,
   "metadata": {
    "scrolled": true
   },
   "outputs": [
    {
     "name": "stdout",
     "output_type": "stream",
     "text": [
      "<class 'pandas.core.frame.DataFrame'>\n",
      "RangeIndex: 1708337 entries, 0 to 1708336\n",
      "Data columns (total 60 columns):\n",
      " #   Column                                             Dtype         \n",
      "---  ------                                             -----         \n",
      " 0   channelGrouping                                    object        \n",
      " 1   date                                               datetime64[ns]\n",
      " 2   fullVisitorId                                      object        \n",
      " 3   socialEngagementType                               object        \n",
      " 4   visitId                                            int64         \n",
      " 5   visitNumber                                        int64         \n",
      " 6   visitStartTime                                     int64         \n",
      " 7   device.browser                                     object        \n",
      " 8   device.browserVersion                              object        \n",
      " 9   device.browserSize                                 object        \n",
      " 10  device.operatingSystem                             object        \n",
      " 11  device.operatingSystemVersion                      object        \n",
      " 12  device.isMobile                                    bool          \n",
      " 13  device.mobileDeviceBranding                        object        \n",
      " 14  device.mobileDeviceModel                           object        \n",
      " 15  device.mobileInputSelector                         object        \n",
      " 16  device.mobileDeviceInfo                            object        \n",
      " 17  device.mobileDeviceMarketingName                   object        \n",
      " 18  device.flashVersion                                object        \n",
      " 19  device.language                                    object        \n",
      " 20  device.screenColors                                object        \n",
      " 21  device.screenResolution                            object        \n",
      " 22  device.deviceCategory                              object        \n",
      " 23  geoNetwork.continent                               object        \n",
      " 24  geoNetwork.subContinent                            object        \n",
      " 25  geoNetwork.country                                 object        \n",
      " 26  geoNetwork.region                                  object        \n",
      " 27  geoNetwork.metro                                   object        \n",
      " 28  geoNetwork.city                                    object        \n",
      " 29  geoNetwork.cityId                                  object        \n",
      " 30  geoNetwork.networkDomain                           object        \n",
      " 31  geoNetwork.latitude                                object        \n",
      " 32  geoNetwork.longitude                               object        \n",
      " 33  geoNetwork.networkLocation                         object        \n",
      " 34  totals.visits                                      object        \n",
      " 35  totals.hits                                        object        \n",
      " 36  totals.pageviews                                   object        \n",
      " 37  totals.bounces                                     object        \n",
      " 38  totals.newVisits                                   object        \n",
      " 39  totals.sessionQualityDim                           object        \n",
      " 40  totals.timeOnSite                                  object        \n",
      " 41  totals.transactions                                object        \n",
      " 42  totals.transactionRevenue                          object        \n",
      " 43  totals.totalTransactionRevenue                     object        \n",
      " 44  trafficSource.campaign                             object        \n",
      " 45  trafficSource.source                               object        \n",
      " 46  trafficSource.medium                               object        \n",
      " 47  trafficSource.keyword                              object        \n",
      " 48  trafficSource.adwordsClickInfo.criteriaParameters  object        \n",
      " 49  trafficSource.referralPath                         object        \n",
      " 50  trafficSource.isTrueDirect                         object        \n",
      " 51  trafficSource.adContent                            object        \n",
      " 52  trafficSource.adwordsClickInfo.page                object        \n",
      " 53  trafficSource.adwordsClickInfo.slot                object        \n",
      " 54  trafficSource.adwordsClickInfo.gclId               object        \n",
      " 55  trafficSource.adwordsClickInfo.adNetworkType       object        \n",
      " 56  trafficSource.adwordsClickInfo.isVideoAd           object        \n",
      " 57  trafficSource.campaignCode                         object        \n",
      " 58  customDimension.index                              object        \n",
      " 59  customDimension.value                              object        \n",
      "dtypes: bool(1), datetime64[ns](1), int64(3), object(55)\n",
      "memory usage: 770.6+ MB\n"
     ]
    }
   ],
   "source": [
    "df_train.info()"
   ]
  },
  {
   "cell_type": "code",
   "execution_count": 26,
   "metadata": {
    "scrolled": false
   },
   "outputs": [
    {
     "data": {
      "text/plain": [
       "0                  Firefox\n",
       "1                   Chrome\n",
       "2                   Chrome\n",
       "3                   Chrome\n",
       "4                   Chrome\n",
       "                ...       \n",
       "1708332             Chrome\n",
       "1708333             Chrome\n",
       "1708334    Android Webview\n",
       "1708335             Chrome\n",
       "1708336             Chrome\n",
       "Name: device.browser, Length: 1708337, dtype: object"
      ]
     },
     "execution_count": 26,
     "metadata": {},
     "output_type": "execute_result"
    }
   ],
   "source": [
    "df_train['device.browser']"
   ]
  },
  {
   "cell_type": "code",
   "execution_count": 21,
   "metadata": {},
   "outputs": [
    {
     "data": {
      "text/plain": [
       "trafficSource.campaignCode        1708336\n",
       "totals.transactionRevenue         1689823\n",
       "totals.totalTransactionRevenue    1689823\n",
       "totals.transactions               1689778\n",
       "trafficSource.adContent           1643600\n",
       "                                   ...   \n",
       "geoNetwork.metro                        0\n",
       "geoNetwork.region                       0\n",
       "geoNetwork.country                      0\n",
       "geoNetwork.subContinent                 0\n",
       "channelGrouping                         0\n",
       "Length: 64, dtype: int64"
      ]
     },
     "execution_count": 21,
     "metadata": {},
     "output_type": "execute_result"
    }
   ],
   "source": [
    "df_train.isna().sum().sort_values(ascending = False)"
   ]
  },
  {
   "cell_type": "code",
   "execution_count": 22,
   "metadata": {
    "scrolled": true
   },
   "outputs": [
    {
     "data": {
      "text/plain": [
       "16990000     308\n",
       "19990000     248\n",
       "39980000     220\n",
       "18990000     219\n",
       "21990000     211\n",
       "            ... \n",
       "171150000      1\n",
       "106660000      1\n",
       "242970000      1\n",
       "18450000       1\n",
       "824680000      1\n",
       "Name: totals.transactionRevenue, Length: 7251, dtype: int64"
      ]
     },
     "execution_count": 22,
     "metadata": {},
     "output_type": "execute_result"
    }
   ],
   "source": [
    "df_train['totals.transactionRevenue'].value_counts()"
   ]
  },
  {
   "cell_type": "code",
   "execution_count": 6,
   "metadata": {},
   "outputs": [],
   "source": [
    "df_train[\"totals.transactionRevenue\"] = df_train[\"totals.transactionRevenue\"].astype('float')"
   ]
  },
  {
   "cell_type": "code",
   "execution_count": 10,
   "metadata": {},
   "outputs": [
    {
     "data": {
      "text/plain": [
       "0          0.0\n",
       "1          0.0\n",
       "2          0.0\n",
       "3          0.0\n",
       "4          0.0\n",
       "          ... \n",
       "1708332    0.0\n",
       "1708333    0.0\n",
       "1708334    0.0\n",
       "1708335    0.0\n",
       "1708336    0.0\n",
       "Name: totals.transactionRevenue, Length: 1708337, dtype: float64"
      ]
     },
     "execution_count": 10,
     "metadata": {},
     "output_type": "execute_result"
    }
   ],
   "source": [
    "df_train[\"totals.transactionRevenue\"]"
   ]
  },
  {
   "cell_type": "code",
   "execution_count": 9,
   "metadata": {},
   "outputs": [],
   "source": [
    "df_train[\"totals.transactionRevenue\"] = df_train[\"totals.transactionRevenue\"].fillna(0.0).astype(float)"
   ]
  },
  {
   "cell_type": "code",
   "execution_count": 12,
   "metadata": {},
   "outputs": [
    {
     "data": {
      "text/plain": [
       "0"
      ]
     },
     "execution_count": 12,
     "metadata": {},
     "output_type": "execute_result"
    }
   ],
   "source": [
    "df_train[\"totals.transactionRevenue\"].isna().sum()"
   ]
  },
  {
   "cell_type": "code",
   "execution_count": 13,
   "metadata": {},
   "outputs": [
    {
     "data": {
      "text/plain": [
       "0"
      ]
     },
     "execution_count": 13,
     "metadata": {},
     "output_type": "execute_result"
    }
   ],
   "source": [
    "df_train[\"totals.transactionRevenue\"].isnull().sum()"
   ]
  },
  {
   "cell_type": "code",
   "execution_count": 15,
   "metadata": {},
   "outputs": [
    {
     "name": "stdout",
     "output_type": "stream",
     "text": [
      "Transaction Revenue Mean Value:  1355906.3463473541\n",
      "Transaction Revenue median Value:  0.0\n"
     ]
    }
   ],
   "source": [
    "print(\"Transaction Revenue Mean Value: \", df_train['totals.transactionRevenue'].mean())\n",
    "print(\"Transaction Revenue median Value: \", df_train['totals.transactionRevenue'].median())"
   ]
  },
  {
   "cell_type": "code",
   "execution_count": 21,
   "metadata": {},
   "outputs": [
    {
     "name": "stdout",
     "output_type": "stream",
     "text": [
      "Transaction Revenue Mean Value:  125113156.53019337\n",
      "Transaction Revenue Median Value:  46060000.0\n"
     ]
    }
   ],
   "source": [
    "print(\"Transaction Revenue Mean Value: \", \n",
    "      df_train[df_train['totals.transactionRevenue'] > 0][\"totals.transactionRevenue\"].mean()) # mean value of above 0\n",
    "print(\"Transaction Revenue Median Value: \", \n",
    "      df_train[df_train['totals.transactionRevenue'] > 0][\"totals.transactionRevenue\"].median()) # median value of above 0"
   ]
  },
  {
   "cell_type": "code",
   "execution_count": 20,
   "metadata": {},
   "outputs": [
    {
     "data": {
      "text/plain": [
       "<matplotlib.axes._subplots.AxesSubplot at 0x1d16f792848>"
      ]
     },
     "execution_count": 20,
     "metadata": {},
     "output_type": "execute_result"
    },
    {
     "data": {
      "image/png": "[encoded data removed]",
      "text/plain": [
       "<Figure size 432x288 with 1 Axes>"
      ]
     },
     "metadata": {
      "needs_background": "light"
     },
     "output_type": "display_data"
    }
   ],
   "source": [
    "sns.boxplot(df_train[\"totals.transactionRevenue\"])"
   ]
  },
  {
   "cell_type": "code",
   "execution_count": 22,
   "metadata": {},
   "outputs": [
    {
     "data": {
      "text/plain": [
       "Chrome                                                  1173056\n",
       "Safari                                                   312165\n",
       "Firefox                                                   63845\n",
       "Internet Explorer                                         35474\n",
       "Android Webview                                           34266\n",
       "                                                         ...   \n",
       ";__CT_JOB_ID__:a24a8978-e5e8-4dc9-af66-c4ed89ea25d7;          1\n",
       "starmaker                                                     1\n",
       "wncrmxukofqljsgvzahiybpdet                                    1\n",
       ";__CT_JOB_ID__:7e575295-571e-4e82-9254-7f2c8bbb9183;          1\n",
       ";__CT_JOB_ID__:65da7e5f-0f05-4b5d-8d31-1f4d470a2b82;          1\n",
       "Name: device.browser, Length: 129, dtype: int64"
      ]
     },
     "execution_count": 22,
     "metadata": {},
     "output_type": "execute_result"
    }
   ],
   "source": [
    "df_train['device.browser'].value_counts() #users per device browser"
   ]
  },
  {
   "cell_type": "code",
   "execution_count": 23,
   "metadata": {},
   "outputs": [
    {
     "data": {
      "text/plain": [
       "Chrome               1173056\n",
       "Safari                312165\n",
       "Firefox                63845\n",
       "Internet Explorer      35474\n",
       "Android Webview        34266\n",
       "Edge                   20543\n",
       "Samsung Internet       15792\n",
       "Opera Mini             15018\n",
       "Safari (in-app)        14207\n",
       "Opera                   9585\n",
       "Name: device.browser, dtype: int64"
      ]
     },
     "execution_count": 23,
     "metadata": {},
     "output_type": "execute_result"
    }
   ],
   "source": [
    "df_train['device.browser'].value_counts()[:10] #users per device browser - Top 10"
   ]
  },
  {
   "cell_type": "code",
   "execution_count": 39,
   "metadata": {},
   "outputs": [],
   "source": [
    "browser_show = df_train['device.browser'].value_counts()[:10].reset_index()"
   ]
  },
  {
   "cell_type": "code",
   "execution_count": 40,
   "metadata": {},
   "outputs": [
    {
     "data": {
      "text/html": [
       "<div>\n",
       "<style scoped>\n",
       "    .dataframe tbody tr th:only-of-type {\n",
       "        vertical-align: middle;\n",
       "    }\n",
       "\n",
       "    .dataframe tbody tr th {\n",
       "        vertical-align: top;\n",
       "    }\n",
       "\n",
       "    .dataframe thead th {\n",
       "        text-align: right;\n",
       "    }\n",
       "</style>\n",
       "<table border=\"1\" class=\"dataframe\">\n",
       "  <thead>\n",
       "    <tr style=\"text-align: right;\">\n",
       "      <th></th>\n",
       "      <th>index</th>\n",
       "      <th>device.browser</th>\n",
       "    </tr>\n",
       "  </thead>\n",
       "  <tbody>\n",
       "    <tr>\n",
       "      <th>0</th>\n",
       "      <td>Chrome</td>\n",
       "      <td>1173056</td>\n",
       "    </tr>\n",
       "    <tr>\n",
       "      <th>1</th>\n",
       "      <td>Safari</td>\n",
       "      <td>312165</td>\n",
       "    </tr>\n",
       "    <tr>\n",
       "      <th>2</th>\n",
       "      <td>Firefox</td>\n",
       "      <td>63845</td>\n",
       "    </tr>\n",
       "    <tr>\n",
       "      <th>3</th>\n",
       "      <td>Internet Explorer</td>\n",
       "      <td>35474</td>\n",
       "    </tr>\n",
       "    <tr>\n",
       "      <th>4</th>\n",
       "      <td>Android Webview</td>\n",
       "      <td>34266</td>\n",
       "    </tr>\n",
       "    <tr>\n",
       "      <th>5</th>\n",
       "      <td>Edge</td>\n",
       "      <td>20543</td>\n",
       "    </tr>\n",
       "    <tr>\n",
       "      <th>6</th>\n",
       "      <td>Samsung Internet</td>\n",
       "      <td>15792</td>\n",
       "    </tr>\n",
       "    <tr>\n",
       "      <th>7</th>\n",
       "      <td>Opera Mini</td>\n",
       "      <td>15018</td>\n",
       "    </tr>\n",
       "    <tr>\n",
       "      <th>8</th>\n",
       "      <td>Safari (in-app)</td>\n",
       "      <td>14207</td>\n",
       "    </tr>\n",
       "    <tr>\n",
       "      <th>9</th>\n",
       "      <td>Opera</td>\n",
       "      <td>9585</td>\n",
       "    </tr>\n",
       "  </tbody>\n",
       "</table>\n",
       "</div>"
      ],
      "text/plain": [
       "               index  device.browser\n",
       "0             Chrome         1173056\n",
       "1             Safari          312165\n",
       "2            Firefox           63845\n",
       "3  Internet Explorer           35474\n",
       "4    Android Webview           34266\n",
       "5               Edge           20543\n",
       "6   Samsung Internet           15792\n",
       "7         Opera Mini           15018\n",
       "8    Safari (in-app)           14207\n",
       "9              Opera            9585"
      ]
     },
     "execution_count": 40,
     "metadata": {},
     "output_type": "execute_result"
    }
   ],
   "source": [
    "browser_show"
   ]
  },
  {
   "cell_type": "code",
   "execution_count": 42,
   "metadata": {},
   "outputs": [
    {
     "data": {
      "text/plain": [
       "<matplotlib.axes._subplots.AxesSubplot at 0x1d1531cef48>"
      ]
     },
     "execution_count": 42,
     "metadata": {},
     "output_type": "execute_result"
    },
    {
     "data": {
      "image/png": "[encoded data removed]",
      "text/plain": [
       "<Figure size 432x288 with 1 Axes>"
      ]
     },
     "metadata": {
      "needs_background": "light"
     },
     "output_type": "display_data"
    }
   ],
   "source": [
    "sns.barplot(x ='index', y= 'device.browser', data = browser_show)"
   ]
  },
  {
   "cell_type": "code",
   "execution_count": 43,
   "metadata": {
    "scrolled": true
   },
   "outputs": [
    {
     "data": {
      "image/png": "[encoded data removed]",
      "text/plain": [
       "<Figure size 1008x432 with 1 Axes>"
      ]
     },
     "metadata": {
      "needs_background": "light"
     },
     "output_type": "display_data"
    }
   ],
   "source": [
    "\n",
    "plt.figure(figsize=(14,6))\n",
    "\n",
    "# Let explore the browser used by users\n",
    "sns.countplot(df_train[df_train['device.browser']\\\n",
    "                       .isin(df_train['device.browser']\\\n",
    "                             .value_counts()[:10].index.values)]['device.browser'], palette=\"hls\") # It's a module to count the category's\n",
    "plt.title(\"TOP 10 Most Frequent Browsers\", fontsize=20) # Adding Title and seting the size\n",
    "plt.xlabel(\"Browser Names\", fontsize=16) # Adding x label and seting the size\n",
    "plt.ylabel(\"Count\", fontsize=16) # Adding y label and seting the size\n",
    "plt.xticks(rotation=45) # Adjust the xticks, rotating the labels\n",
    "\n",
    "plt.show() #use plt.show to render the graph that we did above"
   ]
  },
  {
   "cell_type": "code",
   "execution_count": 67,
   "metadata": {},
   "outputs": [
    {
     "data": {
      "text/html": [
       "<div>\n",
       "<style scoped>\n",
       "    .dataframe tbody tr th:only-of-type {\n",
       "        vertical-align: middle;\n",
       "    }\n",
       "\n",
       "    .dataframe tbody tr th {\n",
       "        vertical-align: top;\n",
       "    }\n",
       "\n",
       "    .dataframe thead th {\n",
       "        text-align: right;\n",
       "    }\n",
       "</style>\n",
       "<table border=\"1\" class=\"dataframe\">\n",
       "  <thead>\n",
       "    <tr style=\"text-align: right;\">\n",
       "      <th></th>\n",
       "      <th>day</th>\n",
       "      <th>visitId</th>\n",
       "    </tr>\n",
       "  </thead>\n",
       "  <tbody>\n",
       "    <tr>\n",
       "      <th>0</th>\n",
       "      <td>Friday</td>\n",
       "      <td>239216</td>\n",
       "    </tr>\n",
       "    <tr>\n",
       "      <th>1</th>\n",
       "      <td>Monday</td>\n",
       "      <td>264168</td>\n",
       "    </tr>\n",
       "    <tr>\n",
       "      <th>2</th>\n",
       "      <td>Saturday</td>\n",
       "      <td>183999</td>\n",
       "    </tr>\n",
       "    <tr>\n",
       "      <th>3</th>\n",
       "      <td>Sunday</td>\n",
       "      <td>191115</td>\n",
       "    </tr>\n",
       "    <tr>\n",
       "      <th>4</th>\n",
       "      <td>Thursday</td>\n",
       "      <td>268463</td>\n",
       "    </tr>\n",
       "    <tr>\n",
       "      <th>5</th>\n",
       "      <td>Tuesday</td>\n",
       "      <td>279675</td>\n",
       "    </tr>\n",
       "    <tr>\n",
       "      <th>6</th>\n",
       "      <td>Wednesday</td>\n",
       "      <td>281701</td>\n",
       "    </tr>\n",
       "  </tbody>\n",
       "</table>\n",
       "</div>"
      ],
      "text/plain": [
       "         day  visitId\n",
       "0     Friday   239216\n",
       "1     Monday   264168\n",
       "2   Saturday   183999\n",
       "3     Sunday   191115\n",
       "4   Thursday   268463\n",
       "5    Tuesday   279675\n",
       "6  Wednesday   281701"
      ]
     },
     "execution_count": 67,
     "metadata": {},
     "output_type": "execute_result"
    }
   ],
   "source": [
    "by_day = df_train.groupby(['day'])['visitId'].count().reset_index()\n",
    "by_day"
   ]
  },
  {
   "cell_type": "code",
   "execution_count": 76,
   "metadata": {},
   "outputs": [
    {
     "data": {
      "text/html": [
       "<div>\n",
       "<style scoped>\n",
       "    .dataframe tbody tr th:only-of-type {\n",
       "        vertical-align: middle;\n",
       "    }\n",
       "\n",
       "    .dataframe tbody tr th {\n",
       "        vertical-align: top;\n",
       "    }\n",
       "\n",
       "    .dataframe thead th {\n",
       "        text-align: right;\n",
       "    }\n",
       "</style>\n",
       "<table border=\"1\" class=\"dataframe\">\n",
       "  <thead>\n",
       "    <tr style=\"text-align: right;\">\n",
       "      <th></th>\n",
       "      <th>month</th>\n",
       "      <th>visitId</th>\n",
       "    </tr>\n",
       "  </thead>\n",
       "  <tbody>\n",
       "    <tr>\n",
       "      <th>0</th>\n",
       "      <td>April</td>\n",
       "      <td>149727</td>\n",
       "    </tr>\n",
       "    <tr>\n",
       "      <th>1</th>\n",
       "      <td>August</td>\n",
       "      <td>159561</td>\n",
       "    </tr>\n",
       "    <tr>\n",
       "      <th>2</th>\n",
       "      <td>December</td>\n",
       "      <td>176228</td>\n",
       "    </tr>\n",
       "    <tr>\n",
       "      <th>3</th>\n",
       "      <td>February</td>\n",
       "      <td>145196</td>\n",
       "    </tr>\n",
       "    <tr>\n",
       "      <th>4</th>\n",
       "      <td>January</td>\n",
       "      <td>148084</td>\n",
       "    </tr>\n",
       "    <tr>\n",
       "      <th>5</th>\n",
       "      <td>July</td>\n",
       "      <td>71812</td>\n",
       "    </tr>\n",
       "    <tr>\n",
       "      <th>6</th>\n",
       "      <td>June</td>\n",
       "      <td>63578</td>\n",
       "    </tr>\n",
       "    <tr>\n",
       "      <th>7</th>\n",
       "      <td>March</td>\n",
       "      <td>164020</td>\n",
       "    </tr>\n",
       "    <tr>\n",
       "      <th>8</th>\n",
       "      <td>May</td>\n",
       "      <td>65371</td>\n",
       "    </tr>\n",
       "    <tr>\n",
       "      <th>9</th>\n",
       "      <td>November</td>\n",
       "      <td>207661</td>\n",
       "    </tr>\n",
       "    <tr>\n",
       "      <th>10</th>\n",
       "      <td>October</td>\n",
       "      <td>198792</td>\n",
       "    </tr>\n",
       "    <tr>\n",
       "      <th>11</th>\n",
       "      <td>September</td>\n",
       "      <td>158307</td>\n",
       "    </tr>\n",
       "  </tbody>\n",
       "</table>\n",
       "</div>"
      ],
      "text/plain": [
       "        month  visitId\n",
       "0       April   149727\n",
       "1      August   159561\n",
       "2    December   176228\n",
       "3    February   145196\n",
       "4     January   148084\n",
       "5        July    71812\n",
       "6        June    63578\n",
       "7       March   164020\n",
       "8         May    65371\n",
       "9    November   207661\n",
       "10    October   198792\n",
       "11  September   158307"
      ]
     },
     "execution_count": 76,
     "metadata": {},
     "output_type": "execute_result"
    }
   ],
   "source": [
    "by_month = df_train.groupby(['month'])['visitId'].count().reset_index()\n",
    "by_month"
   ]
  },
  {
   "cell_type": "code",
   "execution_count": 70,
   "metadata": {},
   "outputs": [
    {
     "data": {
      "text/html": [
       "<div>\n",
       "<style scoped>\n",
       "    .dataframe tbody tr th:only-of-type {\n",
       "        vertical-align: middle;\n",
       "    }\n",
       "\n",
       "    .dataframe tbody tr th {\n",
       "        vertical-align: top;\n",
       "    }\n",
       "\n",
       "    .dataframe thead th {\n",
       "        text-align: right;\n",
       "    }\n",
       "</style>\n",
       "<table border=\"1\" class=\"dataframe\">\n",
       "  <thead>\n",
       "    <tr style=\"text-align: right;\">\n",
       "      <th></th>\n",
       "      <th>week</th>\n",
       "      <th>visitId</th>\n",
       "    </tr>\n",
       "  </thead>\n",
       "  <tbody>\n",
       "    <tr>\n",
       "      <th>0</th>\n",
       "      <td>50</td>\n",
       "      <td>53842</td>\n",
       "    </tr>\n",
       "    <tr>\n",
       "      <th>1</th>\n",
       "      <td>48</td>\n",
       "      <td>50163</td>\n",
       "    </tr>\n",
       "    <tr>\n",
       "      <th>2</th>\n",
       "      <td>46</td>\n",
       "      <td>49175</td>\n",
       "    </tr>\n",
       "    <tr>\n",
       "      <th>3</th>\n",
       "      <td>45</td>\n",
       "      <td>48982</td>\n",
       "    </tr>\n",
       "    <tr>\n",
       "      <th>4</th>\n",
       "      <td>40</td>\n",
       "      <td>48555</td>\n",
       "    </tr>\n",
       "    <tr>\n",
       "      <th>5</th>\n",
       "      <td>43</td>\n",
       "      <td>47509</td>\n",
       "    </tr>\n",
       "    <tr>\n",
       "      <th>6</th>\n",
       "      <td>47</td>\n",
       "      <td>45931</td>\n",
       "    </tr>\n",
       "    <tr>\n",
       "      <th>7</th>\n",
       "      <td>42</td>\n",
       "      <td>45577</td>\n",
       "    </tr>\n",
       "    <tr>\n",
       "      <th>8</th>\n",
       "      <td>44</td>\n",
       "      <td>44981</td>\n",
       "    </tr>\n",
       "    <tr>\n",
       "      <th>9</th>\n",
       "      <td>49</td>\n",
       "      <td>41914</td>\n",
       "    </tr>\n",
       "  </tbody>\n",
       "</table>\n",
       "</div>"
      ],
      "text/plain": [
       "   week  visitId\n",
       "0    50    53842\n",
       "1    48    50163\n",
       "2    46    49175\n",
       "3    45    48982\n",
       "4    40    48555\n",
       "5    43    47509\n",
       "6    47    45931\n",
       "7    42    45577\n",
       "8    44    44981\n",
       "9    49    41914"
      ]
     },
     "execution_count": 70,
     "metadata": {},
     "output_type": "execute_result"
    }
   ],
   "source": [
    "by_week = df_train.groupby(['week'])['visitId'].count().sort_values(ascending = False)\n",
    "by_week\n",
    "by_week_top_10 = by_week.head(10).reset_index()\n",
    "by_week_top_10"
   ]
  },
  {
   "cell_type": "code",
   "execution_count": 78,
   "metadata": {},
   "outputs": [
    {
     "data": {
      "text/html": [
       "<div>\n",
       "<style scoped>\n",
       "    .dataframe tbody tr th:only-of-type {\n",
       "        vertical-align: middle;\n",
       "    }\n",
       "\n",
       "    .dataframe tbody tr th {\n",
       "        vertical-align: top;\n",
       "    }\n",
       "\n",
       "    .dataframe thead th {\n",
       "        text-align: right;\n",
       "    }\n",
       "</style>\n",
       "<table border=\"1\" class=\"dataframe\">\n",
       "  <thead>\n",
       "    <tr style=\"text-align: right;\">\n",
       "      <th></th>\n",
       "      <th>year</th>\n",
       "      <th>visitId</th>\n",
       "    </tr>\n",
       "  </thead>\n",
       "  <tbody>\n",
       "    <tr>\n",
       "      <th>0</th>\n",
       "      <td>2016</td>\n",
       "      <td>436393</td>\n",
       "    </tr>\n",
       "    <tr>\n",
       "      <th>1</th>\n",
       "      <td>2017</td>\n",
       "      <td>928860</td>\n",
       "    </tr>\n",
       "    <tr>\n",
       "      <th>2</th>\n",
       "      <td>2018</td>\n",
       "      <td>343084</td>\n",
       "    </tr>\n",
       "  </tbody>\n",
       "</table>\n",
       "</div>"
      ],
      "text/plain": [
       "   year  visitId\n",
       "0  2016   436393\n",
       "1  2017   928860\n",
       "2  2018   343084"
      ]
     },
     "execution_count": 78,
     "metadata": {},
     "output_type": "execute_result"
    }
   ],
   "source": [
    "by_year = df_train.groupby(['year'])['visitId'].count().reset_index()\n",
    "by_year"
   ]
  },
  {
   "cell_type": "code",
   "execution_count": 72,
   "metadata": {},
   "outputs": [
    {
     "data": {
      "text/plain": [
       "<matplotlib.axes._subplots.AxesSubplot at 0x1d15409d448>"
      ]
     },
     "execution_count": 72,
     "metadata": {},
     "output_type": "execute_result"
    },
    {
     "data": {
      "image/png": "[encoded data removed]",
      "text/plain": [
       "<Figure size 432x288 with 1 Axes>"
      ]
     },
     "metadata": {
      "needs_background": "light"
     },
     "output_type": "display_data"
    }
   ],
   "source": [
    "sns.barplot(x ='day', y= 'visitId', data = by_day)"
   ]
  },
  {
   "cell_type": "code",
   "execution_count": 73,
   "metadata": {},
   "outputs": [
    {
     "data": {
      "text/plain": [
       "<matplotlib.axes._subplots.AxesSubplot at 0x1d384a6cf08>"
      ]
     },
     "execution_count": 73,
     "metadata": {},
     "output_type": "execute_result"
    },
    {
     "data": {
      "image/png": "[encoded data removed]",
      "text/plain": [
       "<Figure size 432x288 with 1 Axes>"
      ]
     },
     "metadata": {
      "needs_background": "light"
     },
     "output_type": "display_data"
    }
   ],
   "source": [
    "sns.barplot(x ='week', y= 'visitId', data = by_week_top_10)"
   ]
  },
  {
   "cell_type": "code",
   "execution_count": 77,
   "metadata": {},
   "outputs": [
    {
     "data": {
      "text/plain": [
       "<matplotlib.axes._subplots.AxesSubplot at 0x1d384bfdfc8>"
      ]
     },
     "execution_count": 77,
     "metadata": {},
     "output_type": "execute_result"
    },
    {
     "data": {
      "image/png": "[encoded data removed]",
      "text/plain": [
       "<Figure size 432x288 with 1 Axes>"
      ]
     },
     "metadata": {
      "needs_background": "light"
     },
     "output_type": "display_data"
    }
   ],
   "source": [
    "sns.barplot(x ='month', y= 'visitId', data = by_month)"
   ]
  },
  {
   "cell_type": "code",
   "execution_count": 79,
   "metadata": {},
   "outputs": [
    {
     "data": {
      "text/plain": [
       "<matplotlib.axes._subplots.AxesSubplot at 0x1d384cf59c8>"
      ]
     },
     "execution_count": 79,
     "metadata": {},
     "output_type": "execute_result"
    },
    {
     "data": {
      "image/png": "[encoded data removed]",
      "text/plain": [
       "<Figure size 432x288 with 1 Axes>"
      ]
     },
     "metadata": {
      "needs_background": "light"
     },
     "output_type": "display_data"
    }
   ],
   "source": [
    "sns.barplot(x ='year', y= 'visitId', data = by_year)"
   ]
  },
  {
   "cell_type": "code",
   "execution_count": null,
   "metadata": {},
   "outputs": [],
   "source": []
  }
 ],
 "metadata": {
  "kernelspec": {
   "display_name": "Python 3",
   "language": "python",
   "name": "python3"
  },
  "language_info": {
   "codemirror_mode": {
    "name": "ipython",
    "version": 3
   },
   "file_extension": ".py",
   "mimetype": "text/x-python",
   "name": "python",
   "nbconvert_exporter": "python",
   "pygments_lexer": "ipython3",
   "version": "3.7.4"
  },
  "toc": {
   "base_numbering": 1,
   "nav_menu": {},
   "number_sections": true,
   "sideBar": true,
   "skip_h1_title": false,
   "title_cell": "Table of Contents",
   "title_sidebar": "Contents",
   "toc_cell": false,
   "toc_position": {},
   "toc_section_display": true,
   "toc_window_display": false
  }
 },
 "nbformat": 4,
 "nbformat_minor": 2
}
