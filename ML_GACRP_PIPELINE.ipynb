{
  "nbformat": 4,
  "nbformat_minor": 0,
  "metadata": {
    "kernelspec": {
      "display_name": "Python 3",
      "language": "python",
      "name": "python3"
    },
    "toc": {
      "base_numbering": 1,
      "nav_menu": {},
      "number_sections": true,
      "sideBar": true,
      "skip_h1_title": false,
      "title_cell": "Table of Contents",
      "title_sidebar": "Contents",
      "toc_cell": false,
      "toc_position": {},
      "toc_section_display": true,
      "toc_window_display": false
    },
    "colab": {
      "name": "ML_GACRP_PIPELINE.ipynb",
      "provenance": [],
      "toc_visible": true,
      "include_colab_link": true
    }
  },
  "cells": [
    {
      "cell_type": "markdown",
      "metadata": {
        "id": "view-in-github",
        "colab_type": "text"
      },
      "source": [
        "<a href=\"https://colab.research.google.com/github/yeialgov/MAYC_ML_Revenue_Prediction/blob/patch-1/ML_GACRP_PIPELINE.ipynb\" target=\"_parent\"><img src=\"https://colab.research.google.com/assets/colab-badge.svg\" alt=\"Open In Colab\"/></a>"
      ]
    },
    {
      "cell_type": "code",
      "metadata": {
        "id": "Q7NUxl3iMn1H",
        "colab_type": "code",
        "colab": {}
      },
      "source": [
        "# download the libraries\n",
        "import pandas as pd\n",
        "from pandas import Series,DataFrame\n",
        "import warnings\n",
        "from copy import deepcopy\n",
        "import os\n",
        "warnings.filterwarnings('ignore')\n",
        "import numpy as np\n",
        "import matplotlib.pyplot as plt\n",
        "import seaborn as sns\n",
        "from datetime import datetime\n",
        "from sklearn.preprocessing import LabelEncoder\n",
        "import random\n",
        "%matplotlib inline"
      ],
      "execution_count": 0,
      "outputs": []
    },
    {
      "cell_type": "markdown",
      "metadata": {
        "id": "C_rtWx5Y7qVw",
        "colab_type": "text"
      },
      "source": [
        "# Getting the data"
      ]
    },
    {
      "cell_type": "code",
      "metadata": {
        "id": "odFQDYPTNLMc",
        "colab_type": "code",
        "colab": {
          "base_uri": "https://localhost:8080/",
          "height": 122
        },
        "outputId": "3110729a-2f27-4aaf-a648-8defebdb72dd"
      },
      "source": [
        "from google.colab import drive\n",
        "drive.mount('/content/gdrive')"
      ],
      "execution_count": 4,
      "outputs": [
        {
          "output_type": "stream",
          "text": [
            "Go to this URL in a browser: https://accounts.google.com/o/oauth2/auth?client_id=947318989803-6bn6qk8qdgf4n4g3pfee6491hc0brc4i.apps.googleusercontent.com&redirect_uri=urn%3aietf%3awg%3aoauth%3a2.0%3aoob&response_type=code&scope=email%20https%3a%2f%2fwww.googleapis.com%2fauth%2fdocs.test%20https%3a%2f%2fwww.googleapis.com%2fauth%2fdrive%20https%3a%2f%2fwww.googleapis.com%2fauth%2fdrive.photos.readonly%20https%3a%2f%2fwww.googleapis.com%2fauth%2fpeopleapi.readonly\n",
            "\n",
            "Enter your authorization code:\n",
            "··········\n",
            "Mounted at /content/gdrive\n"
          ],
          "name": "stdout"
        }
      ]
    },
    {
      "cell_type": "code",
      "metadata": {
        "id": "1meGr2fGNX0J",
        "colab_type": "code",
        "colab": {
          "base_uri": "https://localhost:8080/",
          "height": 34
        },
        "outputId": "86d9fedf-a356-4eed-965d-69d44460feac"
      },
      "source": [
        "cd '/content/gdrive/My Drive/ReDi_DA_Project/preprocessed_ga_revenue_data'"
      ],
      "execution_count": 5,
      "outputs": [
        {
          "output_type": "stream",
          "text": [
            "/content/gdrive/My Drive/ReDi_DA_Project/preprocessed_ga_revenue_data\n"
          ],
          "name": "stdout"
        }
      ]
    },
    {
      "cell_type": "code",
      "metadata": {
        "id": "3sXQ6JnRMn1Y",
        "colab_type": "code",
        "colab": {}
      },
      "source": [
        "# load both of the datasets\n",
        "traindata = pd.read_pickle('train_flat_no_hits.pkl')\n",
        "testdata = pd.read_pickle('test_flat_no_hits.pkl')\n"
      ],
      "execution_count": 0,
      "outputs": []
    },
    {
      "cell_type": "code",
      "metadata": {
        "id": "ioRX0ChxMn1q",
        "colab_type": "code",
        "colab": {}
      },
      "source": [
        "# add a marker so that you know which dataset is which\n",
        "traindata['dataset'] = 'train'\n",
        "testdata['dataset'] = 'test'\n"
      ],
      "execution_count": 0,
      "outputs": []
    },
    {
      "cell_type": "code",
      "metadata": {
        "id": "zhrCQriyMn2H",
        "colab_type": "code",
        "colab": {}
      },
      "source": [
        "traindata.drop('trafficSource.campaignCode',axis=1,inplace= True) #the test doesnt have trafficSource.campaignCode column, \n",
        "#so i droped it from the train set"
      ],
      "execution_count": 0,
      "outputs": []
    },
    {
      "cell_type": "code",
      "metadata": {
        "id": "qJX1bExTMn2o",
        "colab_type": "code",
        "colab": {}
      },
      "source": [
        "# make sure the columns are in the same order in both train and test.\n",
        "# the deepcopy is just to have a copy of the original even after joining them\n",
        "col_order = list(set(traindata.columns.tolist() + testdata.columns.tolist()))\n",
        "traindata = deepcopy(traindata[col_order])\n",
        "testdata = deepcopy(testdata[col_order])\n"
      ],
      "execution_count": 0,
      "outputs": []
    },
    {
      "cell_type": "code",
      "metadata": {
        "id": "6FZbTG3eMn22",
        "colab_type": "code",
        "colab": {}
      },
      "source": [
        "# append the two together\n",
        "all_data = traindata[col_order].append(testdata)"
      ],
      "execution_count": 0,
      "outputs": []
    },
    {
      "cell_type": "code",
      "metadata": {
        "id": "0wb5sML-Mn3D",
        "colab_type": "code",
        "colab": {
          "base_uri": "https://localhost:8080/",
          "height": 326
        },
        "outputId": "f0d2d3e6-4fda-4f08-b9eb-6aca22e78bf9"
      },
      "source": [
        "all_data.head()"
      ],
      "execution_count": 10,
      "outputs": [
        {
          "output_type": "execute_result",
          "data": {
            "text/html": [
              "<div>\n",
              "<style scoped>\n",
              "    .dataframe tbody tr th:only-of-type {\n",
              "        vertical-align: middle;\n",
              "    }\n",
              "\n",
              "    .dataframe tbody tr th {\n",
              "        vertical-align: top;\n",
              "    }\n",
              "\n",
              "    .dataframe thead th {\n",
              "        text-align: right;\n",
              "    }\n",
              "</style>\n",
              "<table border=\"1\" class=\"dataframe\">\n",
              "  <thead>\n",
              "    <tr style=\"text-align: right;\">\n",
              "      <th></th>\n",
              "      <th>totals.transactionRevenue</th>\n",
              "      <th>geoNetwork.subContinent</th>\n",
              "      <th>device.browserVersion</th>\n",
              "      <th>geoNetwork.region</th>\n",
              "      <th>totals.pageviews</th>\n",
              "      <th>fullVisitorId</th>\n",
              "      <th>trafficSource.isTrueDirect</th>\n",
              "      <th>device.mobileDeviceModel</th>\n",
              "      <th>device.language</th>\n",
              "      <th>trafficSource.adwordsClickInfo.page</th>\n",
              "      <th>trafficSource.adwordsClickInfo.gclId</th>\n",
              "      <th>device.mobileDeviceInfo</th>\n",
              "      <th>geoNetwork.continent</th>\n",
              "      <th>totals.sessionQualityDim</th>\n",
              "      <th>trafficSource.adwordsClickInfo.slot</th>\n",
              "      <th>totals.visits</th>\n",
              "      <th>visitStartTime</th>\n",
              "      <th>totals.transactions</th>\n",
              "      <th>device.flashVersion</th>\n",
              "      <th>geoNetwork.country</th>\n",
              "      <th>totals.hits</th>\n",
              "      <th>device.mobileInputSelector</th>\n",
              "      <th>device.operatingSystemVersion</th>\n",
              "      <th>trafficSource.medium</th>\n",
              "      <th>trafficSource.referralPath</th>\n",
              "      <th>trafficSource.adwordsClickInfo.isVideoAd</th>\n",
              "      <th>date</th>\n",
              "      <th>totals.timeOnSite</th>\n",
              "      <th>customDimension.value</th>\n",
              "      <th>socialEngagementType</th>\n",
              "      <th>trafficSource.adwordsClickInfo.criteriaParameters</th>\n",
              "      <th>geoNetwork.cityId</th>\n",
              "      <th>totals.totalTransactionRevenue</th>\n",
              "      <th>device.deviceCategory</th>\n",
              "      <th>totals.newVisits</th>\n",
              "      <th>customDimension.index</th>\n",
              "      <th>geoNetwork.latitude</th>\n",
              "      <th>channelGrouping</th>\n",
              "      <th>geoNetwork.metro</th>\n",
              "      <th>geoNetwork.city</th>\n",
              "      <th>device.operatingSystem</th>\n",
              "      <th>trafficSource.adContent</th>\n",
              "      <th>visitNumber</th>\n",
              "      <th>device.browser</th>\n",
              "      <th>dataset</th>\n",
              "      <th>trafficSource.keyword</th>\n",
              "      <th>device.mobileDeviceMarketingName</th>\n",
              "      <th>device.mobileDeviceBranding</th>\n",
              "      <th>device.screenColors</th>\n",
              "      <th>geoNetwork.longitude</th>\n",
              "      <th>geoNetwork.networkDomain</th>\n",
              "      <th>trafficSource.campaign</th>\n",
              "      <th>visitId</th>\n",
              "      <th>device.browserSize</th>\n",
              "      <th>device.screenResolution</th>\n",
              "      <th>totals.bounces</th>\n",
              "      <th>geoNetwork.networkLocation</th>\n",
              "      <th>trafficSource.source</th>\n",
              "      <th>trafficSource.adwordsClickInfo.adNetworkType</th>\n",
              "      <th>device.isMobile</th>\n",
              "    </tr>\n",
              "  </thead>\n",
              "  <tbody>\n",
              "    <tr>\n",
              "      <th>0</th>\n",
              "      <td>NaN</td>\n",
              "      <td>Western Europe</td>\n",
              "      <td>not available in demo dataset</td>\n",
              "      <td>not available in demo dataset</td>\n",
              "      <td>1</td>\n",
              "      <td>3162355547410993243</td>\n",
              "      <td>NaN</td>\n",
              "      <td>not available in demo dataset</td>\n",
              "      <td>not available in demo dataset</td>\n",
              "      <td>NaN</td>\n",
              "      <td>NaN</td>\n",
              "      <td>not available in demo dataset</td>\n",
              "      <td>Europe</td>\n",
              "      <td>1</td>\n",
              "      <td>NaN</td>\n",
              "      <td>1</td>\n",
              "      <td>1508198450</td>\n",
              "      <td>NaN</td>\n",
              "      <td>not available in demo dataset</td>\n",
              "      <td>Germany</td>\n",
              "      <td>1</td>\n",
              "      <td>not available in demo dataset</td>\n",
              "      <td>not available in demo dataset</td>\n",
              "      <td>organic</td>\n",
              "      <td>NaN</td>\n",
              "      <td>NaN</td>\n",
              "      <td>20171016</td>\n",
              "      <td>NaN</td>\n",
              "      <td>EMEA</td>\n",
              "      <td>Not Socially Engaged</td>\n",
              "      <td>not available in demo dataset</td>\n",
              "      <td>not available in demo dataset</td>\n",
              "      <td>NaN</td>\n",
              "      <td>desktop</td>\n",
              "      <td>1</td>\n",
              "      <td>4</td>\n",
              "      <td>not available in demo dataset</td>\n",
              "      <td>Organic Search</td>\n",
              "      <td>not available in demo dataset</td>\n",
              "      <td>not available in demo dataset</td>\n",
              "      <td>Windows</td>\n",
              "      <td>NaN</td>\n",
              "      <td>1</td>\n",
              "      <td>Firefox</td>\n",
              "      <td>train</td>\n",
              "      <td>water bottle</td>\n",
              "      <td>not available in demo dataset</td>\n",
              "      <td>not available in demo dataset</td>\n",
              "      <td>not available in demo dataset</td>\n",
              "      <td>not available in demo dataset</td>\n",
              "      <td>(not set)</td>\n",
              "      <td>(not set)</td>\n",
              "      <td>1508198450</td>\n",
              "      <td>not available in demo dataset</td>\n",
              "      <td>not available in demo dataset</td>\n",
              "      <td>1</td>\n",
              "      <td>not available in demo dataset</td>\n",
              "      <td>google</td>\n",
              "      <td>NaN</td>\n",
              "      <td>False</td>\n",
              "    </tr>\n",
              "    <tr>\n",
              "      <th>1</th>\n",
              "      <td>NaN</td>\n",
              "      <td>Northern America</td>\n",
              "      <td>not available in demo dataset</td>\n",
              "      <td>California</td>\n",
              "      <td>2</td>\n",
              "      <td>8934116514970143966</td>\n",
              "      <td>NaN</td>\n",
              "      <td>not available in demo dataset</td>\n",
              "      <td>not available in demo dataset</td>\n",
              "      <td>NaN</td>\n",
              "      <td>NaN</td>\n",
              "      <td>not available in demo dataset</td>\n",
              "      <td>Americas</td>\n",
              "      <td>2</td>\n",
              "      <td>NaN</td>\n",
              "      <td>1</td>\n",
              "      <td>1508176307</td>\n",
              "      <td>NaN</td>\n",
              "      <td>not available in demo dataset</td>\n",
              "      <td>United States</td>\n",
              "      <td>2</td>\n",
              "      <td>not available in demo dataset</td>\n",
              "      <td>not available in demo dataset</td>\n",
              "      <td>referral</td>\n",
              "      <td>/a/google.com/transportation/mtv-services/bike...</td>\n",
              "      <td>NaN</td>\n",
              "      <td>20171016</td>\n",
              "      <td>28</td>\n",
              "      <td>North America</td>\n",
              "      <td>Not Socially Engaged</td>\n",
              "      <td>not available in demo dataset</td>\n",
              "      <td>not available in demo dataset</td>\n",
              "      <td>NaN</td>\n",
              "      <td>desktop</td>\n",
              "      <td>NaN</td>\n",
              "      <td>4</td>\n",
              "      <td>not available in demo dataset</td>\n",
              "      <td>Referral</td>\n",
              "      <td>San Francisco-Oakland-San Jose CA</td>\n",
              "      <td>Cupertino</td>\n",
              "      <td>Chrome OS</td>\n",
              "      <td>NaN</td>\n",
              "      <td>6</td>\n",
              "      <td>Chrome</td>\n",
              "      <td>train</td>\n",
              "      <td>NaN</td>\n",
              "      <td>not available in demo dataset</td>\n",
              "      <td>not available in demo dataset</td>\n",
              "      <td>not available in demo dataset</td>\n",
              "      <td>not available in demo dataset</td>\n",
              "      <td>(not set)</td>\n",
              "      <td>(not set)</td>\n",
              "      <td>1508176307</td>\n",
              "      <td>not available in demo dataset</td>\n",
              "      <td>not available in demo dataset</td>\n",
              "      <td>NaN</td>\n",
              "      <td>not available in demo dataset</td>\n",
              "      <td>sites.google.com</td>\n",
              "      <td>NaN</td>\n",
              "      <td>False</td>\n",
              "    </tr>\n",
              "    <tr>\n",
              "      <th>2</th>\n",
              "      <td>NaN</td>\n",
              "      <td>Northern America</td>\n",
              "      <td>not available in demo dataset</td>\n",
              "      <td>not available in demo dataset</td>\n",
              "      <td>2</td>\n",
              "      <td>7992466427990357681</td>\n",
              "      <td>True</td>\n",
              "      <td>not available in demo dataset</td>\n",
              "      <td>not available in demo dataset</td>\n",
              "      <td>NaN</td>\n",
              "      <td>NaN</td>\n",
              "      <td>not available in demo dataset</td>\n",
              "      <td>Americas</td>\n",
              "      <td>1</td>\n",
              "      <td>NaN</td>\n",
              "      <td>1</td>\n",
              "      <td>1508201613</td>\n",
              "      <td>NaN</td>\n",
              "      <td>not available in demo dataset</td>\n",
              "      <td>United States</td>\n",
              "      <td>2</td>\n",
              "      <td>not available in demo dataset</td>\n",
              "      <td>not available in demo dataset</td>\n",
              "      <td>(none)</td>\n",
              "      <td>NaN</td>\n",
              "      <td>NaN</td>\n",
              "      <td>20171016</td>\n",
              "      <td>38</td>\n",
              "      <td>North America</td>\n",
              "      <td>Not Socially Engaged</td>\n",
              "      <td>not available in demo dataset</td>\n",
              "      <td>not available in demo dataset</td>\n",
              "      <td>NaN</td>\n",
              "      <td>mobile</td>\n",
              "      <td>1</td>\n",
              "      <td>4</td>\n",
              "      <td>not available in demo dataset</td>\n",
              "      <td>Direct</td>\n",
              "      <td>not available in demo dataset</td>\n",
              "      <td>not available in demo dataset</td>\n",
              "      <td>Android</td>\n",
              "      <td>NaN</td>\n",
              "      <td>1</td>\n",
              "      <td>Chrome</td>\n",
              "      <td>train</td>\n",
              "      <td>NaN</td>\n",
              "      <td>not available in demo dataset</td>\n",
              "      <td>not available in demo dataset</td>\n",
              "      <td>not available in demo dataset</td>\n",
              "      <td>not available in demo dataset</td>\n",
              "      <td>windjammercable.net</td>\n",
              "      <td>(not set)</td>\n",
              "      <td>1508201613</td>\n",
              "      <td>not available in demo dataset</td>\n",
              "      <td>not available in demo dataset</td>\n",
              "      <td>NaN</td>\n",
              "      <td>not available in demo dataset</td>\n",
              "      <td>(direct)</td>\n",
              "      <td>NaN</td>\n",
              "      <td>True</td>\n",
              "    </tr>\n",
              "    <tr>\n",
              "      <th>3</th>\n",
              "      <td>NaN</td>\n",
              "      <td>Western Asia</td>\n",
              "      <td>not available in demo dataset</td>\n",
              "      <td>not available in demo dataset</td>\n",
              "      <td>2</td>\n",
              "      <td>9075655783635761930</td>\n",
              "      <td>NaN</td>\n",
              "      <td>not available in demo dataset</td>\n",
              "      <td>not available in demo dataset</td>\n",
              "      <td>NaN</td>\n",
              "      <td>NaN</td>\n",
              "      <td>not available in demo dataset</td>\n",
              "      <td>Asia</td>\n",
              "      <td>1</td>\n",
              "      <td>NaN</td>\n",
              "      <td>1</td>\n",
              "      <td>1508169851</td>\n",
              "      <td>NaN</td>\n",
              "      <td>not available in demo dataset</td>\n",
              "      <td>Turkey</td>\n",
              "      <td>2</td>\n",
              "      <td>not available in demo dataset</td>\n",
              "      <td>not available in demo dataset</td>\n",
              "      <td>organic</td>\n",
              "      <td>NaN</td>\n",
              "      <td>NaN</td>\n",
              "      <td>20171016</td>\n",
              "      <td>1</td>\n",
              "      <td>EMEA</td>\n",
              "      <td>Not Socially Engaged</td>\n",
              "      <td>not available in demo dataset</td>\n",
              "      <td>not available in demo dataset</td>\n",
              "      <td>NaN</td>\n",
              "      <td>desktop</td>\n",
              "      <td>1</td>\n",
              "      <td>4</td>\n",
              "      <td>not available in demo dataset</td>\n",
              "      <td>Organic Search</td>\n",
              "      <td>not available in demo dataset</td>\n",
              "      <td>not available in demo dataset</td>\n",
              "      <td>Windows</td>\n",
              "      <td>NaN</td>\n",
              "      <td>1</td>\n",
              "      <td>Chrome</td>\n",
              "      <td>train</td>\n",
              "      <td>(not provided)</td>\n",
              "      <td>not available in demo dataset</td>\n",
              "      <td>not available in demo dataset</td>\n",
              "      <td>not available in demo dataset</td>\n",
              "      <td>not available in demo dataset</td>\n",
              "      <td>unknown.unknown</td>\n",
              "      <td>(not set)</td>\n",
              "      <td>1508169851</td>\n",
              "      <td>not available in demo dataset</td>\n",
              "      <td>not available in demo dataset</td>\n",
              "      <td>NaN</td>\n",
              "      <td>not available in demo dataset</td>\n",
              "      <td>google</td>\n",
              "      <td>NaN</td>\n",
              "      <td>False</td>\n",
              "    </tr>\n",
              "    <tr>\n",
              "      <th>4</th>\n",
              "      <td>NaN</td>\n",
              "      <td>Central America</td>\n",
              "      <td>not available in demo dataset</td>\n",
              "      <td>not available in demo dataset</td>\n",
              "      <td>2</td>\n",
              "      <td>6960673291025684308</td>\n",
              "      <td>NaN</td>\n",
              "      <td>not available in demo dataset</td>\n",
              "      <td>not available in demo dataset</td>\n",
              "      <td>NaN</td>\n",
              "      <td>NaN</td>\n",
              "      <td>not available in demo dataset</td>\n",
              "      <td>Americas</td>\n",
              "      <td>1</td>\n",
              "      <td>NaN</td>\n",
              "      <td>1</td>\n",
              "      <td>1508190552</td>\n",
              "      <td>NaN</td>\n",
              "      <td>not available in demo dataset</td>\n",
              "      <td>Mexico</td>\n",
              "      <td>2</td>\n",
              "      <td>not available in demo dataset</td>\n",
              "      <td>not available in demo dataset</td>\n",
              "      <td>organic</td>\n",
              "      <td>NaN</td>\n",
              "      <td>NaN</td>\n",
              "      <td>20171016</td>\n",
              "      <td>52</td>\n",
              "      <td>Central America</td>\n",
              "      <td>Not Socially Engaged</td>\n",
              "      <td>not available in demo dataset</td>\n",
              "      <td>not available in demo dataset</td>\n",
              "      <td>NaN</td>\n",
              "      <td>desktop</td>\n",
              "      <td>1</td>\n",
              "      <td>4</td>\n",
              "      <td>not available in demo dataset</td>\n",
              "      <td>Organic Search</td>\n",
              "      <td>not available in demo dataset</td>\n",
              "      <td>not available in demo dataset</td>\n",
              "      <td>Windows</td>\n",
              "      <td>NaN</td>\n",
              "      <td>1</td>\n",
              "      <td>Chrome</td>\n",
              "      <td>train</td>\n",
              "      <td>(not provided)</td>\n",
              "      <td>not available in demo dataset</td>\n",
              "      <td>not available in demo dataset</td>\n",
              "      <td>not available in demo dataset</td>\n",
              "      <td>not available in demo dataset</td>\n",
              "      <td>prod-infinitum.com.mx</td>\n",
              "      <td>(not set)</td>\n",
              "      <td>1508190552</td>\n",
              "      <td>not available in demo dataset</td>\n",
              "      <td>not available in demo dataset</td>\n",
              "      <td>NaN</td>\n",
              "      <td>not available in demo dataset</td>\n",
              "      <td>google</td>\n",
              "      <td>NaN</td>\n",
              "      <td>False</td>\n",
              "    </tr>\n",
              "  </tbody>\n",
              "</table>\n",
              "</div>"
            ],
            "text/plain": [
              "  totals.transactionRevenue  ... device.isMobile\n",
              "0                       NaN  ...           False\n",
              "1                       NaN  ...           False\n",
              "2                       NaN  ...            True\n",
              "3                       NaN  ...           False\n",
              "4                       NaN  ...           False\n",
              "\n",
              "[5 rows x 60 columns]"
            ]
          },
          "metadata": {
            "tags": []
          },
          "execution_count": 10
        }
      ]
    },
    {
      "cell_type": "code",
      "metadata": {
        "id": "MXLgBTmEMn3L",
        "colab_type": "code",
        "colab": {},
        "outputId": "aab650bc-17ae-446e-8952-53a5965a9847"
      },
      "source": [
        "all_data.info()"
      ],
      "execution_count": 0,
      "outputs": [
        {
          "output_type": "stream",
          "text": [
            "<class 'pandas.core.frame.DataFrame'>\n",
            "Int64Index: 2109926 entries, 0 to 401588\n",
            "Data columns (total 60 columns):\n",
            " #   Column                                             Dtype \n",
            "---  ------                                             ----- \n",
            " 0   device.browser                                     object\n",
            " 1   totals.transactionRevenue                          object\n",
            " 2   trafficSource.adwordsClickInfo.gclId               object\n",
            " 3   totals.hits                                        object\n",
            " 4   totals.timeOnSite                                  object\n",
            " 5   trafficSource.adwordsClickInfo.criteriaParameters  object\n",
            " 6   trafficSource.medium                               object\n",
            " 7   trafficSource.adwordsClickInfo.page                object\n",
            " 8   device.language                                    object\n",
            " 9   geoNetwork.metro                                   object\n",
            " 10  totals.sessionQualityDim                           object\n",
            " 11  device.mobileInputSelector                         object\n",
            " 12  totals.visits                                      object\n",
            " 13  totals.pageviews                                   object\n",
            " 14  customDimension.value                              object\n",
            " 15  totals.totalTransactionRevenue                     object\n",
            " 16  date                                               int64 \n",
            " 17  visitId                                            int64 \n",
            " 18  geoNetwork.cityId                                  object\n",
            " 19  trafficSource.isTrueDirect                         object\n",
            " 20  visitNumber                                        int64 \n",
            " 21  device.screenResolution                            object\n",
            " 22  geoNetwork.region                                  object\n",
            " 23  device.deviceCategory                              object\n",
            " 24  device.mobileDeviceModel                           object\n",
            " 25  geoNetwork.city                                    object\n",
            " 26  device.mobileDeviceBranding                        object\n",
            " 27  geoNetwork.longitude                               object\n",
            " 28  device.mobileDeviceInfo                            object\n",
            " 29  channelGrouping                                    object\n",
            " 30  trafficSource.adwordsClickInfo.adNetworkType       object\n",
            " 31  fullVisitorId                                      object\n",
            " 32  device.browserSize                                 object\n",
            " 33  trafficSource.keyword                              object\n",
            " 34  device.isMobile                                    bool  \n",
            " 35  device.mobileDeviceMarketingName                   object\n",
            " 36  device.flashVersion                                object\n",
            " 37  geoNetwork.networkDomain                           object\n",
            " 38  totals.newVisits                                   object\n",
            " 39  geoNetwork.subContinent                            object\n",
            " 40  socialEngagementType                               object\n",
            " 41  trafficSource.adwordsClickInfo.isVideoAd           object\n",
            " 42  visitStartTime                                     int64 \n",
            " 43  device.operatingSystem                             object\n",
            " 44  geoNetwork.continent                               object\n",
            " 45  dataset                                            object\n",
            " 46  geoNetwork.networkLocation                         object\n",
            " 47  geoNetwork.country                                 object\n",
            " 48  trafficSource.adwordsClickInfo.slot                object\n",
            " 49  totals.bounces                                     object\n",
            " 50  device.browserVersion                              object\n",
            " 51  geoNetwork.latitude                                object\n",
            " 52  totals.transactions                                object\n",
            " 53  trafficSource.source                               object\n",
            " 54  device.screenColors                                object\n",
            " 55  customDimension.index                              object\n",
            " 56  trafficSource.adContent                            object\n",
            " 57  device.operatingSystemVersion                      object\n",
            " 58  trafficSource.campaign                             object\n",
            " 59  trafficSource.referralPath                         object\n",
            "dtypes: bool(1), int64(4), object(55)\n",
            "memory usage: 967.9+ MB\n"
          ],
          "name": "stdout"
        }
      ]
    },
    {
      "cell_type": "code",
      "metadata": {
        "id": "gi9Nvks_Mn3Y",
        "colab_type": "code",
        "colab": {}
      },
      "source": [
        "def values_missing(check):\n",
        "    total = check.isnull().sum().sort_values(ascending = False) # getting the sum of null values and ordering\n",
        "    percent = (check.isnull().sum() / check.isnull().count() * 100 ).sort_values(ascending = False) #getting the percent and order of null\n",
        "    df_train = pd.concat([total, percent], axis=1, keys=['Total', 'Percent']) # Concatenating the total and percent\n",
        "    print(\"Total and percent of missing values: \")\n",
        "    print (df_train[~(df_train['Total'] == 0)]) # Returning values of nulls different of 0\n",
        "    \n",
        "    return"
      ],
      "execution_count": 0,
      "outputs": []
    },
    {
      "cell_type": "code",
      "metadata": {
        "id": "PNGMCalLMn3h",
        "colab_type": "code",
        "colab": {},
        "outputId": "98aa20a0-cf84-4bb6-a2aa-b00b871bdd71"
      },
      "source": [
        "values_missing(all_data)"
      ],
      "execution_count": 0,
      "outputs": [
        {
          "output_type": "stream",
          "text": [
            "Total and percent of missing values: \n",
            "                                                Total    Percent\n",
            "totals.totalTransactionRevenue                2086818  98.904796\n",
            "totals.transactionRevenue                     2086818  98.904796\n",
            "totals.transactions                           2085062  98.821570\n",
            "trafficSource.adwordsClickInfo.slot           2024047  95.929762\n",
            "trafficSource.adwordsClickInfo.isVideoAd      2024047  95.929762\n",
            "trafficSource.adwordsClickInfo.adNetworkType  2024047  95.929762\n",
            "trafficSource.adwordsClickInfo.page           2024047  95.929762\n",
            "trafficSource.adwordsClickInfo.gclId          2023891  95.922369\n",
            "trafficSource.adContent                       1643600  77.898467\n",
            "trafficSource.isTrueDirect                    1426999  67.632656\n",
            "trafficSource.referralPath                    1142073  54.128581\n",
            "trafficSource.keyword                         1093006  51.803049\n",
            "totals.timeOnSite                             1057980  50.142991\n",
            "totals.bounces                                1055670  50.033508\n",
            "totals.sessionQualityDim                       835274  39.587834\n",
            "totals.newVisits                               516431  24.476261\n",
            "customDimension.index                          393816  18.664920\n",
            "customDimension.value                          393816  18.664920\n",
            "totals.pageviews                                  340   0.016114\n"
          ],
          "name": "stdout"
        }
      ]
    },
    {
      "cell_type": "code",
      "metadata": {
        "id": "4zJ3sCPfMn3t",
        "colab_type": "code",
        "colab": {}
      },
      "source": [
        "def see_data(data, data_type=object, limit=5): #seting the function with data,show 5 uniques if available \n",
        "    n = data.select_dtypes(include=data_type) #selecting the desired data type\n",
        "    for column in n.columns: #initializing the loop\n",
        "        print(\"______________________________________________________________\")\n",
        "        print(\"Name of column \", column, ': \\n', \"Uniques: \", data[column].unique()[:limit], \"\\n\",\n",
        "              \" | >> Total nulls: \", (round(data[column].isnull().sum() / len(data[column]) * 100,1)),\n",
        "              \" | >> Total unique values: \", all_data.nunique()[column]) #print the data and % of nulls)\n",
        "        print(\"_________________________________________________________\")"
      ],
      "execution_count": 0,
      "outputs": []
    },
    {
      "cell_type": "code",
      "metadata": {
        "id": "ljLGh6-iMn36",
        "colab_type": "code",
        "colab": {},
        "outputId": "bbf3bb8b-deaa-440f-d5ae-311105381bce"
      },
      "source": [
        "#see_data(traindata)"
      ],
      "execution_count": 0,
      "outputs": [
        {
          "output_type": "stream",
          "text": [
            "______________________________________________________________\n",
            "Name of column  device.browser : \n",
            " Uniques:  ['Firefox' 'Chrome' 'Safari' 'UC Browser' 'Internet Explorer'] \n",
            "  | >> Total nulls:  0.0  | >> Total unique values:  161\n",
            "_________________________________________________________\n",
            "______________________________________________________________\n",
            "Name of column  totals.transactionRevenue : \n",
            " Uniques:  [nan '15190000' '8000000' '57300000' '18230000'] \n",
            "  | >> Total nulls:  98.9  | >> Total unique values:  8219\n",
            "_________________________________________________________\n",
            "______________________________________________________________\n",
            "Name of column  trafficSource.adwordsClickInfo.gclId : \n",
            " Uniques:  [nan\n",
            " 'Cj0KCQjwsZHPBRClARIsAC-VMPBHdNF2oMOgh6Xp6YhjXWSk11sDu3eCo4De_u6l4xafqgrPVPSGYdkaArkiEALw_wcB'\n",
            " 'CODVoMjJ9tYCFUIvgQod_dsKEA'\n",
            " 'Cj0KCQjwsZHPBRClARIsAC-VMPA4CVJtDhu1lYkB0AR1hje1goUMHQZNJMrsSWD57pLnv1KE_L7pCEcaAunKEALw_wcB'\n",
            " 'Cj0KCQjwsZHPBRClARIsAC-VMPDlLD6kS4tmqFGZjMUqyerwe0WDaULaAKNkj-gwuvPnLSPRyf9TN7IaArICEALw_wcB'] \n",
            "  | >> Total nulls:  95.6  | >> Total unique values:  67994\n",
            "_________________________________________________________\n",
            "______________________________________________________________\n",
            "Name of column  totals.hits : \n",
            " Uniques:  ['1' '2' '3' '4' '5'] \n",
            "  | >> Total nulls:  0.0  | >> Total unique values:  308\n",
            "_________________________________________________________\n",
            "______________________________________________________________\n",
            "Name of column  totals.timeOnSite : \n",
            " Uniques:  [nan '28' '38' '1' '52'] \n",
            "  | >> Total nulls:  51.2  | >> Total unique values:  5002\n",
            "_________________________________________________________\n",
            "______________________________________________________________\n",
            "Name of column  trafficSource.adwordsClickInfo.criteriaParameters : \n",
            " Uniques:  ['not available in demo dataset'] \n",
            "  | >> Total nulls:  0.0  | >> Total unique values:  1\n",
            "_________________________________________________________\n",
            "______________________________________________________________\n",
            "Name of column  trafficSource.medium : \n",
            " Uniques:  ['organic' 'referral' '(none)' 'cpc' 'affiliate'] \n",
            "  | >> Total nulls:  0.0  | >> Total unique values:  7\n",
            "_________________________________________________________\n",
            "______________________________________________________________\n",
            "Name of column  trafficSource.adwordsClickInfo.page : \n",
            " Uniques:  [nan '1' '3' '2' '5'] \n",
            "  | >> Total nulls:  95.6  | >> Total unique values:  11\n",
            "_________________________________________________________\n",
            "______________________________________________________________\n",
            "Name of column  device.language : \n",
            " Uniques:  ['not available in demo dataset'] \n",
            "  | >> Total nulls:  0.0  | >> Total unique values:  1\n",
            "_________________________________________________________\n",
            "______________________________________________________________\n",
            "Name of column  geoNetwork.metro : \n",
            " Uniques:  ['not available in demo dataset' 'San Francisco-Oakland-San Jose CA'\n",
            " 'London' '(not set)' 'JP_KANTO'] \n",
            "  | >> Total nulls:  0.0  | >> Total unique values:  130\n",
            "_________________________________________________________\n",
            "______________________________________________________________\n",
            "Name of column  totals.sessionQualityDim : \n",
            " Uniques:  ['1' '2' '3' '4' '6'] \n",
            "  | >> Total nulls:  48.9  | >> Total unique values:  100\n",
            "_________________________________________________________\n",
            "______________________________________________________________\n",
            "Name of column  device.mobileInputSelector : \n",
            " Uniques:  ['not available in demo dataset'] \n",
            "  | >> Total nulls:  0.0  | >> Total unique values:  1\n",
            "_________________________________________________________\n",
            "______________________________________________________________\n",
            "Name of column  totals.visits : \n",
            " Uniques:  ['1'] \n",
            "  | >> Total nulls:  0.0  | >> Total unique values:  1\n",
            "_________________________________________________________\n",
            "______________________________________________________________\n",
            "Name of column  totals.pageviews : \n",
            " Uniques:  ['1' '2' '3' '4' '5'] \n",
            "  | >> Total nulls:  0.0  | >> Total unique values:  241\n",
            "_________________________________________________________\n",
            "______________________________________________________________\n",
            "Name of column  customDimension.value : \n",
            " Uniques:  ['EMEA' 'North America' 'Central America' nan 'APAC'] \n",
            "  | >> Total nulls:  19.5  | >> Total unique values:  5\n",
            "_________________________________________________________\n",
            "______________________________________________________________\n",
            "Name of column  totals.totalTransactionRevenue : \n",
            " Uniques:  [nan '17190000' '13000000' '65300000' '25230000'] \n",
            "  | >> Total nulls:  98.9  | >> Total unique values:  9728\n",
            "_________________________________________________________\n",
            "______________________________________________________________\n",
            "Name of column  geoNetwork.cityId : \n",
            " Uniques:  ['not available in demo dataset'] \n",
            "  | >> Total nulls:  0.0  | >> Total unique values:  1\n",
            "_________________________________________________________\n",
            "______________________________________________________________\n",
            "Name of column  trafficSource.isTrueDirect : \n",
            " Uniques:  [nan True] \n",
            "  | >> Total nulls:  68.7  | >> Total unique values:  1\n",
            "_________________________________________________________\n",
            "______________________________________________________________\n",
            "Name of column  device.screenResolution : \n",
            " Uniques:  ['not available in demo dataset'] \n",
            "  | >> Total nulls:  0.0  | >> Total unique values:  1\n",
            "_________________________________________________________\n",
            "______________________________________________________________\n",
            "Name of column  geoNetwork.region : \n",
            " Uniques:  ['not available in demo dataset' 'California' 'England' 'Mexico City'\n",
            " 'Nevada'] \n",
            "  | >> Total nulls:  0.0  | >> Total unique values:  518\n",
            "_________________________________________________________\n",
            "______________________________________________________________\n",
            "Name of column  device.deviceCategory : \n",
            " Uniques:  ['desktop' 'mobile' 'tablet'] \n",
            "  | >> Total nulls:  0.0  | >> Total unique values:  3\n",
            "_________________________________________________________\n",
            "______________________________________________________________\n",
            "Name of column  device.mobileDeviceModel : \n",
            " Uniques:  ['not available in demo dataset'] \n",
            "  | >> Total nulls:  0.0  | >> Total unique values:  1\n",
            "_________________________________________________________\n",
            "______________________________________________________________\n",
            "Name of column  geoNetwork.city : \n",
            " Uniques:  ['not available in demo dataset' 'Cupertino' 'San Francisco' 'London'\n",
            " 'Mexico City'] \n",
            "  | >> Total nulls:  0.0  | >> Total unique values:  1097\n",
            "_________________________________________________________\n",
            "______________________________________________________________\n",
            "Name of column  device.mobileDeviceBranding : \n",
            " Uniques:  ['not available in demo dataset'] \n",
            "  | >> Total nulls:  0.0  | >> Total unique values:  1\n",
            "_________________________________________________________\n",
            "______________________________________________________________\n",
            "Name of column  geoNetwork.longitude : \n",
            " Uniques:  ['not available in demo dataset'] \n",
            "  | >> Total nulls:  0.0  | >> Total unique values:  1\n",
            "_________________________________________________________\n",
            "______________________________________________________________\n",
            "Name of column  device.mobileDeviceInfo : \n",
            " Uniques:  ['not available in demo dataset'] \n",
            "  | >> Total nulls:  0.0  | >> Total unique values:  1\n",
            "_________________________________________________________\n",
            "______________________________________________________________\n",
            "Name of column  channelGrouping : \n",
            " Uniques:  ['Organic Search' 'Referral' 'Direct' 'Paid Search' 'Display'] \n",
            "  | >> Total nulls:  0.0  | >> Total unique values:  8\n",
            "_________________________________________________________\n",
            "______________________________________________________________\n",
            "Name of column  trafficSource.adwordsClickInfo.adNetworkType : \n",
            " Uniques:  [nan 'Google Search' 'Content' 'Search partners'] \n",
            "  | >> Total nulls:  95.6  | >> Total unique values:  3\n",
            "_________________________________________________________\n",
            "______________________________________________________________\n",
            "Name of column  fullVisitorId : \n",
            " Uniques:  ['3162355547410993243' '8934116514970143966' '7992466427990357681'\n",
            " '9075655783635761930' '6960673291025684308'] \n",
            "  | >> Total nulls:  0.0  | >> Total unique values:  1617501\n",
            "_________________________________________________________\n",
            "______________________________________________________________\n",
            "Name of column  device.browserSize : \n",
            " Uniques:  ['not available in demo dataset'] \n",
            "  | >> Total nulls:  0.0  | >> Total unique values:  1\n",
            "_________________________________________________________\n",
            "______________________________________________________________\n",
            "Name of column  trafficSource.keyword : \n",
            " Uniques:  ['water bottle' nan '(not provided)' '(Remarketing/Content targeting)'\n",
            " '6qEhsCssdK0z36ri'] \n",
            "  | >> Total nulls:  61.6  | >> Total unique values:  4996\n",
            "_________________________________________________________\n",
            "______________________________________________________________\n",
            "Name of column  device.mobileDeviceMarketingName : \n",
            " Uniques:  ['not available in demo dataset'] \n",
            "  | >> Total nulls:  0.0  | >> Total unique values:  1\n",
            "_________________________________________________________\n",
            "______________________________________________________________\n",
            "Name of column  device.flashVersion : \n",
            " Uniques:  ['not available in demo dataset'] \n",
            "  | >> Total nulls:  0.0  | >> Total unique values:  1\n",
            "_________________________________________________________\n",
            "______________________________________________________________\n",
            "Name of column  geoNetwork.networkDomain : \n",
            " Uniques:  ['(not set)' 'windjammercable.net' 'unknown.unknown'\n",
            " 'prod-infinitum.com.mx' 'fullrate.ninja'] \n",
            "  | >> Total nulls:  0.0  | >> Total unique values:  48405\n",
            "_________________________________________________________\n",
            "______________________________________________________________\n",
            "Name of column  totals.newVisits : \n",
            " Uniques:  ['1' nan] \n",
            "  | >> Total nulls:  23.5  | >> Total unique values:  1\n",
            "_________________________________________________________\n",
            "______________________________________________________________\n",
            "Name of column  geoNetwork.subContinent : \n",
            " Uniques:  ['Western Europe' 'Northern America' 'Western Asia' 'Central America'\n",
            " 'Northern Europe'] \n",
            "  | >> Total nulls:  0.0  | >> Total unique values:  23\n",
            "_________________________________________________________\n",
            "______________________________________________________________\n",
            "Name of column  socialEngagementType : \n",
            " Uniques:  ['Not Socially Engaged'] \n",
            "  | >> Total nulls:  0.0  | >> Total unique values:  1\n",
            "_________________________________________________________\n",
            "______________________________________________________________\n",
            "Name of column  trafficSource.adwordsClickInfo.isVideoAd : \n",
            " Uniques:  [nan False] \n",
            "  | >> Total nulls:  95.6  | >> Total unique values:  1\n",
            "_________________________________________________________\n",
            "______________________________________________________________\n",
            "Name of column  device.operatingSystem : \n",
            " Uniques:  ['Windows' 'Chrome OS' 'Android' 'Macintosh' 'iOS'] \n",
            "  | >> Total nulls:  0.0  | >> Total unique values:  26\n",
            "_________________________________________________________\n",
            "______________________________________________________________\n",
            "Name of column  geoNetwork.continent : \n",
            " Uniques:  ['Europe' 'Americas' 'Asia' 'Oceania' '(not set)'] \n",
            "  | >> Total nulls:  0.0  | >> Total unique values:  6\n",
            "_________________________________________________________\n",
            "______________________________________________________________\n",
            "Name of column  dataset : \n",
            " Uniques:  ['train'] \n",
            "  | >> Total nulls:  0.0  | >> Total unique values:  2\n",
            "_________________________________________________________\n",
            "______________________________________________________________\n",
            "Name of column  geoNetwork.networkLocation : \n",
            " Uniques:  ['not available in demo dataset'] \n",
            "  | >> Total nulls:  0.0  | >> Total unique values:  1\n",
            "_________________________________________________________\n",
            "______________________________________________________________\n",
            "Name of column  geoNetwork.country : \n",
            " Uniques:  ['Germany' 'United States' 'Turkey' 'Mexico' 'United Kingdom'] \n",
            "  | >> Total nulls:  0.0  | >> Total unique values:  229\n",
            "_________________________________________________________\n",
            "______________________________________________________________\n",
            "Name of column  trafficSource.adwordsClickInfo.slot : \n",
            " Uniques:  [nan 'Top' 'RHS' 'Google Display Network'] \n",
            "  | >> Total nulls:  95.6  | >> Total unique values:  5\n",
            "_________________________________________________________\n",
            "______________________________________________________________\n",
            "Name of column  totals.bounces : \n",
            " Uniques:  ['1' nan] \n",
            "  | >> Total nulls:  49.0  | >> Total unique values:  1\n",
            "_________________________________________________________\n",
            "______________________________________________________________\n",
            "Name of column  device.browserVersion : \n",
            " Uniques:  ['not available in demo dataset'] \n",
            "  | >> Total nulls:  0.0  | >> Total unique values:  1\n",
            "_________________________________________________________\n",
            "______________________________________________________________\n",
            "Name of column  geoNetwork.latitude : \n",
            " Uniques:  ['not available in demo dataset'] \n",
            "  | >> Total nulls:  0.0  | >> Total unique values:  1\n",
            "_________________________________________________________\n",
            "______________________________________________________________\n",
            "Name of column  totals.transactions : \n",
            " Uniques:  [nan '1' '2' '3' '4'] \n",
            "  | >> Total nulls:  98.9  | >> Total unique values:  14\n",
            "_________________________________________________________\n",
            "______________________________________________________________\n",
            "Name of column  trafficSource.source : \n",
            " Uniques:  ['google' 'sites.google.com' '(direct)' 'analytics.google.com'\n",
            " 'blog.golang.org'] \n",
            "  | >> Total nulls:  0.0  | >> Total unique values:  391\n",
            "_________________________________________________________\n",
            "______________________________________________________________\n",
            "Name of column  device.screenColors : \n",
            " Uniques:  ['not available in demo dataset'] \n",
            "  | >> Total nulls:  0.0  | >> Total unique values:  1\n",
            "_________________________________________________________\n",
            "______________________________________________________________\n",
            "Name of column  customDimension.index : \n",
            " Uniques:  ['4' nan] \n",
            "  | >> Total nulls:  19.5  | >> Total unique values:  1\n",
            "_________________________________________________________\n",
            "______________________________________________________________\n",
            "Name of column  trafficSource.adContent : \n",
            " Uniques:  [nan 'Placement Accessories 300 x 250' 'Google Merchandise Store'\n",
            " 'Bags 300x250' 'Display Ad created 3/11/14'] \n",
            "  | >> Total nulls:  96.2  | >> Total unique values:  100\n",
            "_________________________________________________________\n",
            "______________________________________________________________\n",
            "Name of column  device.operatingSystemVersion : \n",
            " Uniques:  ['not available in demo dataset'] \n",
            "  | >> Total nulls:  0.0  | >> Total unique values:  1\n",
            "_________________________________________________________\n",
            "______________________________________________________________\n",
            "Name of column  trafficSource.campaign : \n",
            " Uniques:  ['(not set)' '\"google + redesign/Accessories March 17\" All Users'\n",
            " 'AW - Dynamic Search Ads Whole Site'\n",
            " '1000557 | GA | US | en | Hybrid | GDN Text+Banner | AS'\n",
            " 'Data Share Promo'] \n",
            "  | >> Total nulls:  0.0  | >> Total unique values:  42\n",
            "_________________________________________________________\n",
            "______________________________________________________________\n",
            "Name of column  trafficSource.referralPath : \n",
            " Uniques:  [nan '/a/google.com/transportation/mtv-services/bikes/bike2workmay2016'\n",
            " '/offer/2145' '/a/google.com/nest-vision/dropcam-field-tester-program'\n",
            " '/analytics/web/'] \n",
            "  | >> Total nulls:  66.9  | >> Total unique values:  3757\n",
            "_________________________________________________________\n"
          ],
          "name": "stdout"
        }
      ]
    },
    {
      "cell_type": "code",
      "metadata": {
        "id": "XIh71NzKMn4G",
        "colab_type": "code",
        "colab": {}
      },
      "source": [
        "drop_col_list = ['socialEngagementType', 'device.browserVersion', 'device.browserSize', 'device.operatingSystemVersion',\n",
        "                 'device.mobileDeviceBranding', 'device.mobileDeviceModel', 'device.mobileInputSelector', \n",
        "                 'device.mobileDeviceInfo', 'device.mobileDeviceMarketingName', 'device.flashVersion', 'device.language', \n",
        "                 'device.screenColors', 'device.screenResolution', 'geoNetwork.cityId', 'geoNetwork.latitude', \n",
        "                 'geoNetwork.longitude', 'geoNetwork.networkLocation', 'trafficSource.campaign', 'trafficSource.referralPath', \n",
        "                 'trafficSource.adwordsClickInfo.page','trafficSource.adwordsClickInfo.slot', \n",
        "                 'trafficSource.adwordsClickInfo.criteriaParameters', 'trafficSource.adContent', 'trafficSource.adwordsClickInfo.gclId', \n",
        "                 'customDimension.index','totals.visits','trafficSource.keyword']"
      ],
      "execution_count": 0,
      "outputs": []
    },
    {
      "cell_type": "code",
      "metadata": {
        "id": "Bkg0lyIcMn4O",
        "colab_type": "code",
        "colab": {}
      },
      "source": [
        "all_data.drop(drop_col_list, axis=1, inplace=True)  #to drop them"
      ],
      "execution_count": 0,
      "outputs": []
    },
    {
      "cell_type": "code",
      "metadata": {
        "id": "7bS3_dlVMn4W",
        "colab_type": "code",
        "colab": {}
      },
      "source": [
        "all_data['totals.pageviews'].fillna(1, inplace=True) #filling NA's with 1(since least for a visit to the site means 1 page seen)\n",
        "all_data['totals.newVisits'].fillna(0, inplace=True) #filling NA's with 0(0 is suitable for Nan here)\n",
        "all_data['totals.bounces'].fillna(0, inplace=True)   #filling NA's with 0(0 is suitable for Nan here)\n",
        "all_data[\"totals.transactionRevenue\"] = all_data[\"totals.transactionRevenue\"].fillna(0.0).astype(float) #filling NA with zero\n",
        "all_data[\"totals.totalTransactionRevenue\"] = all_data[\"totals.totalTransactionRevenue\"].fillna(0.0).astype(float) #filling NA with zero\n",
        "all_data[\"totals.transactionRevenue\"] = all_data[\"totals.transactionRevenue\"].fillna(0.0).astype(float) #filling NA with zero\n",
        "all_data[\"totals.transactions\"] = all_data[\"totals.transactions\"].fillna(0).astype(int) #filling NA with zero\n",
        "all_data['trafficSource.isTrueDirect'].fillna(False, inplace=True) # filling boolean with False is its NAn\n",
        "all_data['trafficSource.adwordsClickInfo.isVideoAd'].fillna(True, inplace=True) # filling boolean is its NAn\n",
        "all_data['customDimension.value'].fillna('(not set)', inplace=True) # filling NA with '(not set)'\n",
        "all_data['trafficSource.adwordsClickInfo.adNetworkType'].fillna('(not set)', inplace=True) # filling NA with '(not set)'\n",
        "all_data['totals.timeOnSite'].fillna(0, inplace=True) #filling NA's with 0(0 is suitable for Nan here)\n",
        "all_data['totals.sessionQualityDim'].fillna(0, inplace=True) #filling NA's with 0(0 is suitable for Nan here)\n",
        "#To convert\n",
        "all_data['totals.pageviews'] = all_data['totals.pageviews'].astype(int) # setting numerical column as integer\n",
        "all_data['totals.newVisits'] = all_data['totals.newVisits'].astype(int) # setting numerical column as integer\n",
        "all_data['totals.bounces'] = all_data['totals.bounces'].astype(int)  # setting numerical column as integer\n",
        "all_data[\"totals.hits\"] = all_data[\"totals.hits\"].astype(float) # setting numerical to float\n",
        "all_data['totals.sessionQualityDim'] = all_data['totals.sessionQualityDim'].astype(int)\n",
        "all_data['totals.timeOnSite'] = all_data['totals.timeOnSite'].astype(int)\n",
        "all_data['date'] = pd.to_datetime(all_data[\"date\"], format=\"%Y%m%d\") #convert to datetime"
      ],
      "execution_count": 0,
      "outputs": []
    },
    {
      "cell_type": "code",
      "metadata": {
        "id": "gRctIK7PMn4e",
        "colab_type": "code",
        "colab": {}
      },
      "source": [
        "#all_data['geoNetwork.metro'].replace({\"not available in demo dataset\": \"(not set)\"}, inplace=True)"
      ],
      "execution_count": 0,
      "outputs": []
    },
    {
      "cell_type": "code",
      "metadata": {
        "id": "TdBiwu7sMn4o",
        "colab_type": "code",
        "colab": {
          "base_uri": "https://localhost:8080/",
          "height": 34
        },
        "outputId": "4a369081-774b-4b7b-ed48-6e245aa6d228"
      },
      "source": [
        "all_data.isnull().sum().sum()"
      ],
      "execution_count": 14,
      "outputs": [
        {
          "output_type": "execute_result",
          "data": {
            "text/plain": [
              "0"
            ]
          },
          "metadata": {
            "tags": []
          },
          "execution_count": 14
        }
      ]
    },
    {
      "cell_type": "code",
      "metadata": {
        "id": "L3uwVOjkSDK_",
        "colab_type": "code",
        "colab": {
          "base_uri": "https://localhost:8080/",
          "height": 697
        },
        "outputId": "7fc57aac-1721-453c-97e0-a6eb9ef06858"
      },
      "source": [
        "all_data.info()"
      ],
      "execution_count": 15,
      "outputs": [
        {
          "output_type": "stream",
          "text": [
            "<class 'pandas.core.frame.DataFrame'>\n",
            "Int64Index: 2109926 entries, 0 to 401588\n",
            "Data columns (total 33 columns):\n",
            " #   Column                                        Dtype         \n",
            "---  ------                                        -----         \n",
            " 0   trafficSource.source                          object        \n",
            " 1   customDimension.value                         object        \n",
            " 2   geoNetwork.city                               object        \n",
            " 3   totals.transactionRevenue                     float64       \n",
            " 4   geoNetwork.country                            object        \n",
            " 5   totals.newVisits                              int64         \n",
            " 6   totals.pageviews                              int64         \n",
            " 7   visitNumber                                   int64         \n",
            " 8   trafficSource.isTrueDirect                    bool          \n",
            " 9   dataset                                       object        \n",
            " 10  geoNetwork.continent                          object        \n",
            " 11  channelGrouping                               object        \n",
            " 12  totals.bounces                                int64         \n",
            " 13  totals.hits                                   float64       \n",
            " 14  trafficSource.adwordsClickInfo.adNetworkType  object        \n",
            " 15  device.operatingSystem                        object        \n",
            " 16  date                                          datetime64[ns]\n",
            " 17  trafficSource.adwordsClickInfo.isVideoAd      bool          \n",
            " 18  totals.timeOnSite                             int64         \n",
            " 19  totals.transactions                           int64         \n",
            " 20  totals.sessionQualityDim                      int64         \n",
            " 21  device.browser                                object        \n",
            " 22  visitStartTime                                int64         \n",
            " 23  visitId                                       int64         \n",
            " 24  fullVisitorId                                 object        \n",
            " 25  geoNetwork.metro                              object        \n",
            " 26  geoNetwork.subContinent                       object        \n",
            " 27  geoNetwork.region                             object        \n",
            " 28  device.deviceCategory                         object        \n",
            " 29  device.isMobile                               bool          \n",
            " 30  geoNetwork.networkDomain                      object        \n",
            " 31  totals.totalTransactionRevenue                float64       \n",
            " 32  trafficSource.medium                          object        \n",
            "dtypes: bool(3), datetime64[ns](1), float64(3), int64(9), object(17)\n",
            "memory usage: 505.1+ MB\n"
          ],
          "name": "stdout"
        }
      ]
    },
    {
      "cell_type": "code",
      "metadata": {
        "id": "RZHqyCiEMn5E",
        "colab_type": "code",
        "colab": {}
      },
      "source": [
        "'''\n",
        "columns to hotcode\n",
        "\n",
        "channelGrouping                               object  unique values:  8\n",
        "date                                          int64  - convert to date time\n",
        "fullVisitorId                                 object - organisers insist to be left as str\n",
        "device.browser                                object - unique values:  129\n",
        "device.operatingSystem                        object - unique values:  24\n",
        "device.isMobile                               bool   - unique values:  2\n",
        "device.deviceCategory                         object - unique values:  3\n",
        "geoNetwork.continent                          object - unique values:  6\n",
        "geoNetwork.subContinent                       object - unique values:  23\n",
        "geoNetwork.country                            object - unique values:  228\n",
        "geoNetwork.region                             object - unique values:  284\n",
        "geoNetwork.metro                              object - unique values:  123\n",
        "geoNetwork.city                               object - unique values:  956\n",
        "geoNetwork.networkDomain                      object - unique values:  41982\n",
        "totals.sessionQualityDim                      object - convert to interger\n",
        "totals.timeOnSite                             object - convert to interger\n",
        "trafficSource.source                          object - unique values:  345\n",
        "trafficSource.medium                          object - unique values:  7\n",
        "trafficSource.isTrueDirect                    bool   - unique values:  2 \n",
        "trafficSource.adwordsClickInfo.adNetworkType  object - unique values:  3\n",
        "trafficSource.adwordsClickInfo.isVideoAd      bool   - unique values:  2 \n",
        "customDimension.value                         object - unique values:  5\n",
        "'''"
      ],
      "execution_count": 0,
      "outputs": []
    },
    {
      "cell_type": "markdown",
      "metadata": {
        "id": "IX-_z2KKTzdX",
        "colab_type": "text"
      },
      "source": [
        "# Model to search the visitors who made transactions"
      ]
    },
    {
      "cell_type": "code",
      "metadata": {
        "id": "ZvuMz0A4Vaa_",
        "colab_type": "code",
        "colab": {}
      },
      "source": [
        "def is_transaction(n):\n",
        "  if n == 0    :    return 0\n",
        "  else         :    return 1\n",
        "\n",
        "all_data['is_transaction']=all_data['totals.transactions'].apply(is_transaction)"
      ],
      "execution_count": 0,
      "outputs": []
    },
    {
      "cell_type": "code",
      "metadata": {
        "id": "eS1z0ILdXM2m",
        "colab_type": "code",
        "colab": {
          "base_uri": "https://localhost:8080/",
          "height": 68
        },
        "outputId": "49b6c4aa-cb92-4df9-e57a-d7857bd9a142"
      },
      "source": [
        "all_data['is_transaction'].value_counts()\n"
      ],
      "execution_count": 28,
      "outputs": [
        {
          "output_type": "execute_result",
          "data": {
            "text/plain": [
              "0    2085062\n",
              "1      24864\n",
              "Name: is_transaction, dtype: int64"
            ]
          },
          "metadata": {
            "tags": []
          },
          "execution_count": 28
        }
      ]
    },
    {
      "cell_type": "code",
      "metadata": {
        "id": "iEYlXnzRPzJ-",
        "colab_type": "code",
        "colab": {}
      },
      "source": [
        "TARGET = 'is_transaction'\n",
        "CAT_COLS = all_data.columns[all_data.dtypes == object].tolist()\n",
        "CONT_COLS = [c for c in all_data.columns if c not in CAT_COLS and c != TARGET]\n"
      ],
      "execution_count": 0,
      "outputs": []
    },
    {
      "cell_type": "code",
      "metadata": {
        "id": "iZNZ1D0x9B-O",
        "colab_type": "code",
        "colab": {
          "base_uri": "https://localhost:8080/",
          "height": 306
        },
        "outputId": "8a455759-fc5e-48d0-b524-0a733d9f0827"
      },
      "source": [
        "CAT_COLS"
      ],
      "execution_count": 36,
      "outputs": [
        {
          "output_type": "execute_result",
          "data": {
            "text/plain": [
              "['trafficSource.source',\n",
              " 'customDimension.value',\n",
              " 'geoNetwork.city',\n",
              " 'geoNetwork.country',\n",
              " 'dataset',\n",
              " 'geoNetwork.continent',\n",
              " 'channelGrouping',\n",
              " 'trafficSource.adwordsClickInfo.adNetworkType',\n",
              " 'device.operatingSystem',\n",
              " 'device.browser',\n",
              " 'fullVisitorId',\n",
              " 'geoNetwork.metro',\n",
              " 'geoNetwork.subContinent',\n",
              " 'geoNetwork.region',\n",
              " 'device.deviceCategory',\n",
              " 'geoNetwork.networkDomain',\n",
              " 'trafficSource.medium']"
            ]
          },
          "metadata": {
            "tags": []
          },
          "execution_count": 36
        }
      ]
    },
    {
      "cell_type": "code",
      "metadata": {
        "id": "9Qh6ZwLQgG8B",
        "colab_type": "code",
        "colab": {}
      },
      "source": [
        "\n",
        "CONT_COLS.remove('totals.transactions')"
      ],
      "execution_count": 0,
      "outputs": []
    },
    {
      "cell_type": "code",
      "metadata": {
        "id": "nFiAD5oqgUkz",
        "colab_type": "code",
        "colab": {
          "base_uri": "https://localhost:8080/",
          "height": 34
        },
        "outputId": "5874b620-8bf1-4e44-f738-8d35761abde4"
      },
      "source": [
        "all_data = deepcopy(all_data[CAT_COLS + CONT_COLS + [TARGET]])\n",
        "\n",
        "all_data.shape"
      ],
      "execution_count": 22,
      "outputs": [
        {
          "output_type": "execute_result",
          "data": {
            "text/plain": [
              "(2109926, 33)"
            ]
          },
          "metadata": {
            "tags": []
          },
          "execution_count": 22
        }
      ]
    },
    {
      "cell_type": "code",
      "metadata": {
        "id": "2kspgESEMn5N",
        "colab_type": "code",
        "colab": {}
      },
      "source": [
        "#cat_cols = ['device.browser', 'totals.hits','trafficSource.medium', 'geoNetwork.metro', 'customDimension.value',\n",
        " #           'visitId','trafficSource.isTrueDirect','geoNetwork.region','device.deviceCategory', 'geoNetwork.city', \n",
        "  #          'channelGrouping','trafficSource.adwordsClickInfo.adNetworkType', 'fullVisitorId',\n",
        "   #         'device.isMobile', 'geoNetwork.networkDomain','geoNetwork.subContinent', 'trafficSource.adwordsClickInfo.isVideoAd',\n",
        "    #        'device.operatingSystem', 'geoNetwork.continent','geoNetwork.country','trafficSource.source']\n",
        "   "
      ],
      "execution_count": 0,
      "outputs": []
    },
    {
      "cell_type": "code",
      "metadata": {
        "id": "sWWEfZa_Mn58",
        "colab_type": "code",
        "colab": {}
      },
      "source": [
        "leb = LabelEncoder()\n",
        "for col in CAT_COLS:\n",
        "    all_data[col] = leb.fit_transform(all_data[col])"
      ],
      "execution_count": 0,
      "outputs": []
    },
    {
      "cell_type": "code",
      "metadata": {
        "id": "pLdu3ej6Mn6E",
        "colab_type": "code",
        "colab": {
          "base_uri": "https://localhost:8080/",
          "height": 68
        },
        "outputId": "b2576241-832b-426a-88a0-f3dcaa99a15b"
      },
      "source": [
        "all_data['dataset'].value_counts()"
      ],
      "execution_count": 25,
      "outputs": [
        {
          "output_type": "execute_result",
          "data": {
            "text/plain": [
              "1    1708337\n",
              "0     401589\n",
              "Name: dataset, dtype: int64"
            ]
          },
          "metadata": {
            "tags": []
          },
          "execution_count": 25
        }
      ]
    },
    {
      "cell_type": "code",
      "metadata": {
        "id": "l639Tc9E-eDh",
        "colab_type": "code",
        "colab": {
          "base_uri": "https://localhost:8080/",
          "height": 34
        },
        "outputId": "71ee61d3-6490-41ef-de1e-ec7e35027725"
      },
      "source": [
        "train = all_data[all_data['dataset']==1]\n",
        "test = all_data[all_data['dataset']==0]\n",
        "train.drop('dataset',axis=1,inplace=True)\n",
        "test.drop('dataset',axis=1, inplace=True)"
      ],
      "execution_count": 33,
      "outputs": [
        {
          "output_type": "execute_result",
          "data": {
            "text/plain": [
              "(401589, 32)"
            ]
          },
          "metadata": {
            "tags": []
          },
          "execution_count": 33
        }
      ]
    },
    {
      "cell_type": "code",
      "metadata": {
        "id": "caB2qeZSMn6N",
        "colab_type": "code",
        "colab": {}
      },
      "source": [
        "\n",
        "from sklearn.model_selection import train_test_split\n",
        "from sklearn.ensemble import RandomForestRegressor\n",
        "from sklearn.ensemble import RandomForestClassifier, GradientBoostingClassifier\n",
        "from sklearn.metrics import accuracy_score as accuracy\n",
        "from sklearn.metrics import r2_score as r2\n",
        "from sklearn.metrics import mean_squared_error as mse\n",
        "from sklearn.metrics import mean_absolute_error as mae\n",
        "rmse = lambda true, pred: mse(true, pred) ** 0.5"
      ],
      "execution_count": 0,
      "outputs": []
    },
    {
      "cell_type": "code",
      "metadata": {
        "id": "mUyIk1LdBXSJ",
        "colab_type": "code",
        "colab": {}
      },
      "source": [
        "#CAT_COLS.remove('dataset')\n",
        "CONT_COLS.remove('date')"
      ],
      "execution_count": 0,
      "outputs": []
    },
    {
      "cell_type": "code",
      "metadata": {
        "id": "6OeFnTYlfRou",
        "colab_type": "code",
        "colab": {}
      },
      "source": [
        "x_train = train[CAT_COLS + CONT_COLS]\n",
        "x_test = test[CAT_COLS + CONT_COLS]\n",
        "y_train = train[[TARGET]]\n",
        "y_test = test[[TARGET]]"
      ],
      "execution_count": 0,
      "outputs": []
    },
    {
      "cell_type": "code",
      "metadata": {
        "id": "jipCBJ2-CvHo",
        "colab_type": "code",
        "colab": {
          "base_uri": "https://localhost:8080/",
          "height": 34
        },
        "outputId": "d271ede1-3407-4eb3-9f78-dc97aeb8aa19"
      },
      "source": [
        "x_train.shape, x_test.shape, y_train.shape, y_test.shape"
      ],
      "execution_count": 48,
      "outputs": [
        {
          "output_type": "execute_result",
          "data": {
            "text/plain": [
              "((1708337, 30), (401589, 30), (1708337, 1), (401589, 1))"
            ]
          },
          "metadata": {
            "tags": []
          },
          "execution_count": 48
        }
      ]
    },
    {
      "cell_type": "code",
      "metadata": {
        "id": "JEeG3gCSMn6l",
        "colab_type": "code",
        "colab": {}
      },
      "source": [
        "model = RandomForestClassifier( \n",
        "    n_estimators=50, # Hyperparameter 1\n",
        "    max_depth=2,      # Hyperparameter 2\n",
        "    random_state=0\n",
        ")"
      ],
      "execution_count": 0,
      "outputs": []
    },
    {
      "cell_type": "code",
      "metadata": {
        "id": "1upqCb_YDz3S",
        "colab_type": "code",
        "colab": {}
      },
      "source": [
        "trained_model = model.fit(x_train, y_train)"
      ],
      "execution_count": 0,
      "outputs": []
    },
    {
      "cell_type": "code",
      "metadata": {
        "id": "azVfGsAvElRD",
        "colab_type": "code",
        "colab": {}
      },
      "source": [
        "def get_error(pred, true):\n",
        "    print(f'RMSE:       {rmse(true, pred)}')\n",
        "    print(f'MAE:        {mae(true, pred)}')\n",
        "    print(f'r2:         {r2(true, pred)}')\n",
        "    print(f'accuracy:   {accuracy(true, pred)}')"
      ],
      "execution_count": 0,
      "outputs": []
    },
    {
      "cell_type": "code",
      "metadata": {
        "id": "V3ljtR_BFD0m",
        "colab_type": "code",
        "colab": {
          "base_uri": "https://localhost:8080/",
          "height": 85
        },
        "outputId": "190630f8-c6fa-4331-9398-e89623e4e013"
      },
      "source": [
        "get_error(pred = trained_model.predict(x_test),\n",
        "          true = y_test)"
      ],
      "execution_count": 61,
      "outputs": [
        {
          "output_type": "stream",
          "text": [
            "RMSE:       0.06527307918539964\n",
            "MAE:        0.004260574866343451\n",
            "r2:         0.724299539549079\n",
            "accuracy:   0.9957394251336565\n"
          ],
          "name": "stdout"
        }
      ]
    }
  ]
}