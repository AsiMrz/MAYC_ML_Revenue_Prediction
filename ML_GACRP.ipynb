{
  "nbformat": 4,
  "nbformat_minor": 0,
  "metadata": {
    "kernelspec": {
      "display_name": "Python 3",
      "language": "python",
      "name": "python3"
    },
    "language_info": {
      "codemirror_mode": {
        "name": "ipython",
        "version": 3
      },
      "file_extension": ".py",
      "mimetype": "text/x-python",
      "name": "python",
      "nbconvert_exporter": "python",
      "pygments_lexer": "ipython3",
      "version": "3.7.4"
    },
    "toc": {
      "base_numbering": 1,
      "nav_menu": {},
      "number_sections": true,
      "sideBar": true,
      "skip_h1_title": false,
      "title_cell": "Table of Contents",
      "title_sidebar": "Contents",
      "toc_cell": false,
      "toc_position": {},
      "toc_section_display": true,
      "toc_window_display": false
    },
    "colab": {
      "name": "ML_GACRP.ipynb",
      "provenance": [],
      "include_colab_link": true
    }
  },
  "cells": [
    {
      "cell_type": "markdown",
      "metadata": {
        "id": "view-in-github",
        "colab_type": "text"
      },
      "source": [
        "<a href=\"https://colab.research.google.com/github/AsiMrz/MAYC_ML_Revenue_Prediction/blob/EDA/ML_GACRP.ipynb\" target=\"_parent\"><img src=\"https://colab.research.google.com/assets/colab-badge.svg\" alt=\"Open In Colab\"/></a>"
      ]
    },
    {
      "cell_type": "code",
      "metadata": {
        "id": "iv98Q7AIbwVh",
        "colab_type": "code",
        "colab": {}
      },
      "source": [
        "# download the libraries\n",
        "import pandas as pd\n",
        "from pandas import Series,DataFrame\n",
        "import warnings\n",
        "import os\n",
        "warnings.filterwarnings('ignore')\n",
        "#!pip3 install --upgrade seaborn cufflinks plotly\n",
        "import numpy as np\n",
        "import matplotlib.pyplot as plt\n",
        "import seaborn as sns\n",
        "from datetime import datetime\n",
        "import json\n",
        "import random\n",
        "from pandas.io.json import json_normalize\n",
        "%matplotlib inline"
      ],
      "execution_count": 0,
      "outputs": []
    },
    {
      "cell_type": "code",
      "metadata": {
        "id": "buECVb-nbwVo",
        "colab_type": "code",
        "colab": {}
      },
      "source": [
        ""
      ],
      "execution_count": 0,
      "outputs": []
    },
    {
      "cell_type": "code",
      "metadata": {
        "id": "HxWM7rMCbwVt",
        "colab_type": "code",
        "colab": {}
      },
      "source": [
        "df_train = pd.read_pickle('train_flat_no_hits.pkl')"
      ],
      "execution_count": 0,
      "outputs": []
    },
    {
      "cell_type": "code",
      "metadata": {
        "id": "8q-fbXBqbwVx",
        "colab_type": "code",
        "colab": {},
        "outputId": "ed2de3b1-47ae-40f8-adec-7040706cc39d"
      },
      "source": [
        "df_train.head()"
      ],
      "execution_count": 0,
      "outputs": [
        {
          "output_type": "execute_result",
          "data": {
            "text/html": [
              "<div>\n",
              "<style scoped>\n",
              "    .dataframe tbody tr th:only-of-type {\n",
              "        vertical-align: middle;\n",
              "    }\n",
              "\n",
              "    .dataframe tbody tr th {\n",
              "        vertical-align: top;\n",
              "    }\n",
              "\n",
              "    .dataframe thead th {\n",
              "        text-align: right;\n",
              "    }\n",
              "</style>\n",
              "<table border=\"1\" class=\"dataframe\">\n",
              "  <thead>\n",
              "    <tr style=\"text-align: right;\">\n",
              "      <th></th>\n",
              "      <th>channelGrouping</th>\n",
              "      <th>date</th>\n",
              "      <th>fullVisitorId</th>\n",
              "      <th>socialEngagementType</th>\n",
              "      <th>visitId</th>\n",
              "      <th>visitNumber</th>\n",
              "      <th>visitStartTime</th>\n",
              "      <th>device.browser</th>\n",
              "      <th>device.browserVersion</th>\n",
              "      <th>device.browserSize</th>\n",
              "      <th>...</th>\n",
              "      <th>trafficSource.isTrueDirect</th>\n",
              "      <th>trafficSource.adContent</th>\n",
              "      <th>trafficSource.adwordsClickInfo.page</th>\n",
              "      <th>trafficSource.adwordsClickInfo.slot</th>\n",
              "      <th>trafficSource.adwordsClickInfo.gclId</th>\n",
              "      <th>trafficSource.adwordsClickInfo.adNetworkType</th>\n",
              "      <th>trafficSource.adwordsClickInfo.isVideoAd</th>\n",
              "      <th>trafficSource.campaignCode</th>\n",
              "      <th>customDimension.index</th>\n",
              "      <th>customDimension.value</th>\n",
              "    </tr>\n",
              "  </thead>\n",
              "  <tbody>\n",
              "    <tr>\n",
              "      <th>0</th>\n",
              "      <td>Organic Search</td>\n",
              "      <td>20171016</td>\n",
              "      <td>3162355547410993243</td>\n",
              "      <td>Not Socially Engaged</td>\n",
              "      <td>1508198450</td>\n",
              "      <td>1</td>\n",
              "      <td>1508198450</td>\n",
              "      <td>Firefox</td>\n",
              "      <td>not available in demo dataset</td>\n",
              "      <td>not available in demo dataset</td>\n",
              "      <td>...</td>\n",
              "      <td>NaN</td>\n",
              "      <td>NaN</td>\n",
              "      <td>NaN</td>\n",
              "      <td>NaN</td>\n",
              "      <td>NaN</td>\n",
              "      <td>NaN</td>\n",
              "      <td>NaN</td>\n",
              "      <td>NaN</td>\n",
              "      <td>4</td>\n",
              "      <td>EMEA</td>\n",
              "    </tr>\n",
              "    <tr>\n",
              "      <th>1</th>\n",
              "      <td>Referral</td>\n",
              "      <td>20171016</td>\n",
              "      <td>8934116514970143966</td>\n",
              "      <td>Not Socially Engaged</td>\n",
              "      <td>1508176307</td>\n",
              "      <td>6</td>\n",
              "      <td>1508176307</td>\n",
              "      <td>Chrome</td>\n",
              "      <td>not available in demo dataset</td>\n",
              "      <td>not available in demo dataset</td>\n",
              "      <td>...</td>\n",
              "      <td>NaN</td>\n",
              "      <td>NaN</td>\n",
              "      <td>NaN</td>\n",
              "      <td>NaN</td>\n",
              "      <td>NaN</td>\n",
              "      <td>NaN</td>\n",
              "      <td>NaN</td>\n",
              "      <td>NaN</td>\n",
              "      <td>4</td>\n",
              "      <td>North America</td>\n",
              "    </tr>\n",
              "    <tr>\n",
              "      <th>2</th>\n",
              "      <td>Direct</td>\n",
              "      <td>20171016</td>\n",
              "      <td>7992466427990357681</td>\n",
              "      <td>Not Socially Engaged</td>\n",
              "      <td>1508201613</td>\n",
              "      <td>1</td>\n",
              "      <td>1508201613</td>\n",
              "      <td>Chrome</td>\n",
              "      <td>not available in demo dataset</td>\n",
              "      <td>not available in demo dataset</td>\n",
              "      <td>...</td>\n",
              "      <td>True</td>\n",
              "      <td>NaN</td>\n",
              "      <td>NaN</td>\n",
              "      <td>NaN</td>\n",
              "      <td>NaN</td>\n",
              "      <td>NaN</td>\n",
              "      <td>NaN</td>\n",
              "      <td>NaN</td>\n",
              "      <td>4</td>\n",
              "      <td>North America</td>\n",
              "    </tr>\n",
              "    <tr>\n",
              "      <th>3</th>\n",
              "      <td>Organic Search</td>\n",
              "      <td>20171016</td>\n",
              "      <td>9075655783635761930</td>\n",
              "      <td>Not Socially Engaged</td>\n",
              "      <td>1508169851</td>\n",
              "      <td>1</td>\n",
              "      <td>1508169851</td>\n",
              "      <td>Chrome</td>\n",
              "      <td>not available in demo dataset</td>\n",
              "      <td>not available in demo dataset</td>\n",
              "      <td>...</td>\n",
              "      <td>NaN</td>\n",
              "      <td>NaN</td>\n",
              "      <td>NaN</td>\n",
              "      <td>NaN</td>\n",
              "      <td>NaN</td>\n",
              "      <td>NaN</td>\n",
              "      <td>NaN</td>\n",
              "      <td>NaN</td>\n",
              "      <td>4</td>\n",
              "      <td>EMEA</td>\n",
              "    </tr>\n",
              "    <tr>\n",
              "      <th>4</th>\n",
              "      <td>Organic Search</td>\n",
              "      <td>20171016</td>\n",
              "      <td>6960673291025684308</td>\n",
              "      <td>Not Socially Engaged</td>\n",
              "      <td>1508190552</td>\n",
              "      <td>1</td>\n",
              "      <td>1508190552</td>\n",
              "      <td>Chrome</td>\n",
              "      <td>not available in demo dataset</td>\n",
              "      <td>not available in demo dataset</td>\n",
              "      <td>...</td>\n",
              "      <td>NaN</td>\n",
              "      <td>NaN</td>\n",
              "      <td>NaN</td>\n",
              "      <td>NaN</td>\n",
              "      <td>NaN</td>\n",
              "      <td>NaN</td>\n",
              "      <td>NaN</td>\n",
              "      <td>NaN</td>\n",
              "      <td>4</td>\n",
              "      <td>Central America</td>\n",
              "    </tr>\n",
              "  </tbody>\n",
              "</table>\n",
              "<p>5 rows × 60 columns</p>\n",
              "</div>"
            ],
            "text/plain": [
              "  channelGrouping      date        fullVisitorId  socialEngagementType  \\\n",
              "0  Organic Search  20171016  3162355547410993243  Not Socially Engaged   \n",
              "1        Referral  20171016  8934116514970143966  Not Socially Engaged   \n",
              "2          Direct  20171016  7992466427990357681  Not Socially Engaged   \n",
              "3  Organic Search  20171016  9075655783635761930  Not Socially Engaged   \n",
              "4  Organic Search  20171016  6960673291025684308  Not Socially Engaged   \n",
              "\n",
              "      visitId  visitNumber  visitStartTime device.browser  \\\n",
              "0  1508198450            1      1508198450        Firefox   \n",
              "1  1508176307            6      1508176307         Chrome   \n",
              "2  1508201613            1      1508201613         Chrome   \n",
              "3  1508169851            1      1508169851         Chrome   \n",
              "4  1508190552            1      1508190552         Chrome   \n",
              "\n",
              "           device.browserVersion             device.browserSize  ...  \\\n",
              "0  not available in demo dataset  not available in demo dataset  ...   \n",
              "1  not available in demo dataset  not available in demo dataset  ...   \n",
              "2  not available in demo dataset  not available in demo dataset  ...   \n",
              "3  not available in demo dataset  not available in demo dataset  ...   \n",
              "4  not available in demo dataset  not available in demo dataset  ...   \n",
              "\n",
              "  trafficSource.isTrueDirect trafficSource.adContent  \\\n",
              "0                        NaN                     NaN   \n",
              "1                        NaN                     NaN   \n",
              "2                       True                     NaN   \n",
              "3                        NaN                     NaN   \n",
              "4                        NaN                     NaN   \n",
              "\n",
              "   trafficSource.adwordsClickInfo.page trafficSource.adwordsClickInfo.slot  \\\n",
              "0                                  NaN                                 NaN   \n",
              "1                                  NaN                                 NaN   \n",
              "2                                  NaN                                 NaN   \n",
              "3                                  NaN                                 NaN   \n",
              "4                                  NaN                                 NaN   \n",
              "\n",
              "  trafficSource.adwordsClickInfo.gclId  \\\n",
              "0                                  NaN   \n",
              "1                                  NaN   \n",
              "2                                  NaN   \n",
              "3                                  NaN   \n",
              "4                                  NaN   \n",
              "\n",
              "  trafficSource.adwordsClickInfo.adNetworkType  \\\n",
              "0                                          NaN   \n",
              "1                                          NaN   \n",
              "2                                          NaN   \n",
              "3                                          NaN   \n",
              "4                                          NaN   \n",
              "\n",
              "  trafficSource.adwordsClickInfo.isVideoAd trafficSource.campaignCode  \\\n",
              "0                                      NaN                        NaN   \n",
              "1                                      NaN                        NaN   \n",
              "2                                      NaN                        NaN   \n",
              "3                                      NaN                        NaN   \n",
              "4                                      NaN                        NaN   \n",
              "\n",
              "  customDimension.index customDimension.value  \n",
              "0                     4                  EMEA  \n",
              "1                     4         North America  \n",
              "2                     4         North America  \n",
              "3                     4                  EMEA  \n",
              "4                     4       Central America  \n",
              "\n",
              "[5 rows x 60 columns]"
            ]
          },
          "metadata": {
            "tags": []
          },
          "execution_count": 3
        }
      ]
    },
    {
      "cell_type": "code",
      "metadata": {
        "id": "b5_VEcMebwV3",
        "colab_type": "code",
        "colab": {}
      },
      "source": [
        "#checking missing values- sample"
      ],
      "execution_count": 0,
      "outputs": []
    },
    {
      "cell_type": "code",
      "metadata": {
        "id": "kH9jTlNRbwV7",
        "colab_type": "code",
        "colab": {},
        "outputId": "5432c0b7-bc16-43bf-8d01-17ff02ad191c"
      },
      "source": [
        "df_train.isnull().sum().sort_values(ascending = False)"
      ],
      "execution_count": 0,
      "outputs": [
        {
          "output_type": "execute_result",
          "data": {
            "text/plain": [
              "trafficSource.campaignCode                           1708336\n",
              "totals.transactionRevenue                            1689823\n",
              "totals.totalTransactionRevenue                       1689823\n",
              "totals.transactions                                  1689778\n",
              "trafficSource.adContent                              1643600\n",
              "trafficSource.adwordsClickInfo.isVideoAd             1633063\n",
              "trafficSource.adwordsClickInfo.adNetworkType         1633063\n",
              "trafficSource.adwordsClickInfo.slot                  1633063\n",
              "trafficSource.adwordsClickInfo.page                  1633063\n",
              "trafficSource.adwordsClickInfo.gclId                 1632914\n",
              "trafficSource.isTrueDirect                           1173819\n",
              "trafficSource.referralPath                           1142073\n",
              "trafficSource.keyword                                1052780\n",
              "totals.timeOnSite                                     874294\n",
              "totals.bounces                                        836759\n",
              "totals.sessionQualityDim                              835274\n",
              "totals.newVisits                                      400907\n",
              "customDimension.index                                 333235\n",
              "customDimension.value                                 333235\n",
              "totals.pageviews                                         239\n",
              "device.language                                            0\n",
              "date                                                       0\n",
              "device.mobileDeviceMarketingName                           0\n",
              "device.mobileDeviceInfo                                    0\n",
              "device.mobileInputSelector                                 0\n",
              "device.mobileDeviceModel                                   0\n",
              "device.mobileDeviceBranding                                0\n",
              "device.isMobile                                            0\n",
              "device.operatingSystemVersion                              0\n",
              "device.operatingSystem                                     0\n",
              "visitId                                                    0\n",
              "device.browserSize                                         0\n",
              "device.browserVersion                                      0\n",
              "device.browser                                             0\n",
              "visitStartTime                                             0\n",
              "visitNumber                                                0\n",
              "fullVisitorId                                              0\n",
              "socialEngagementType                                       0\n",
              "device.flashVersion                                        0\n",
              "geoNetwork.cityId                                          0\n",
              "device.screenColors                                        0\n",
              "device.screenResolution                                    0\n",
              "trafficSource.adwordsClickInfo.criteriaParameters          0\n",
              "trafficSource.medium                                       0\n",
              "trafficSource.source                                       0\n",
              "trafficSource.campaign                                     0\n",
              "totals.hits                                                0\n",
              "totals.visits                                              0\n",
              "geoNetwork.networkLocation                                 0\n",
              "geoNetwork.longitude                                       0\n",
              "geoNetwork.latitude                                        0\n",
              "geoNetwork.networkDomain                                   0\n",
              "geoNetwork.city                                            0\n",
              "geoNetwork.metro                                           0\n",
              "geoNetwork.region                                          0\n",
              "geoNetwork.country                                         0\n",
              "geoNetwork.subContinent                                    0\n",
              "geoNetwork.continent                                       0\n",
              "device.deviceCategory                                      0\n",
              "channelGrouping                                            0\n",
              "dtype: int64"
            ]
          },
          "metadata": {
            "tags": []
          },
          "execution_count": 5
        }
      ]
    },
    {
      "cell_type": "code",
      "metadata": {
        "id": "TWVx1gjMbwWA",
        "colab_type": "code",
        "colab": {}
      },
      "source": [
        "#convert date columns so that we can actually use it"
      ],
      "execution_count": 0,
      "outputs": []
    },
    {
      "cell_type": "code",
      "metadata": {
        "id": "mMTsSj0QbwWG",
        "colab_type": "code",
        "colab": {}
      },
      "source": [
        "df_train['date'] = pd.to_datetime(df_train[\"date\"], format=\"%Y%m%d\") #convert to datetime\n",
        "df_train['year'] = df_train['date'].dt.year #for year\n",
        "df_train['day'] = df_train.date.dt.day_name() #for day\n",
        "df_train['week'] = df_train.date.dt.weekofyear #week\n",
        "df_train['month'] = df_train.date.dt.month_name() #month"
      ],
      "execution_count": 0,
      "outputs": []
    },
    {
      "cell_type": "code",
      "metadata": {
        "id": "YVEKOnTWbwWL",
        "colab_type": "code",
        "colab": {},
        "outputId": "ba86be24-42e2-4de4-a4a3-fc2ee6e2bda1"
      },
      "source": [
        "df_train.head()"
      ],
      "execution_count": 0,
      "outputs": [
        {
          "output_type": "execute_result",
          "data": {
            "text/html": [
              "<div>\n",
              "<style scoped>\n",
              "    .dataframe tbody tr th:only-of-type {\n",
              "        vertical-align: middle;\n",
              "    }\n",
              "\n",
              "    .dataframe tbody tr th {\n",
              "        vertical-align: top;\n",
              "    }\n",
              "\n",
              "    .dataframe thead th {\n",
              "        text-align: right;\n",
              "    }\n",
              "</style>\n",
              "<table border=\"1\" class=\"dataframe\">\n",
              "  <thead>\n",
              "    <tr style=\"text-align: right;\">\n",
              "      <th></th>\n",
              "      <th>channelGrouping</th>\n",
              "      <th>date</th>\n",
              "      <th>fullVisitorId</th>\n",
              "      <th>socialEngagementType</th>\n",
              "      <th>visitId</th>\n",
              "      <th>visitNumber</th>\n",
              "      <th>visitStartTime</th>\n",
              "      <th>device.browser</th>\n",
              "      <th>device.browserVersion</th>\n",
              "      <th>device.browserSize</th>\n",
              "      <th>...</th>\n",
              "      <th>trafficSource.adwordsClickInfo.gclId</th>\n",
              "      <th>trafficSource.adwordsClickInfo.adNetworkType</th>\n",
              "      <th>trafficSource.adwordsClickInfo.isVideoAd</th>\n",
              "      <th>trafficSource.campaignCode</th>\n",
              "      <th>customDimension.index</th>\n",
              "      <th>customDimension.value</th>\n",
              "      <th>year</th>\n",
              "      <th>day</th>\n",
              "      <th>week</th>\n",
              "      <th>month</th>\n",
              "    </tr>\n",
              "  </thead>\n",
              "  <tbody>\n",
              "    <tr>\n",
              "      <th>0</th>\n",
              "      <td>Organic Search</td>\n",
              "      <td>2017-10-16</td>\n",
              "      <td>3162355547410993243</td>\n",
              "      <td>Not Socially Engaged</td>\n",
              "      <td>1508198450</td>\n",
              "      <td>1</td>\n",
              "      <td>1508198450</td>\n",
              "      <td>Firefox</td>\n",
              "      <td>not available in demo dataset</td>\n",
              "      <td>not available in demo dataset</td>\n",
              "      <td>...</td>\n",
              "      <td>NaN</td>\n",
              "      <td>NaN</td>\n",
              "      <td>NaN</td>\n",
              "      <td>NaN</td>\n",
              "      <td>4</td>\n",
              "      <td>EMEA</td>\n",
              "      <td>2017</td>\n",
              "      <td>Monday</td>\n",
              "      <td>42</td>\n",
              "      <td>October</td>\n",
              "    </tr>\n",
              "    <tr>\n",
              "      <th>1</th>\n",
              "      <td>Referral</td>\n",
              "      <td>2017-10-16</td>\n",
              "      <td>8934116514970143966</td>\n",
              "      <td>Not Socially Engaged</td>\n",
              "      <td>1508176307</td>\n",
              "      <td>6</td>\n",
              "      <td>1508176307</td>\n",
              "      <td>Chrome</td>\n",
              "      <td>not available in demo dataset</td>\n",
              "      <td>not available in demo dataset</td>\n",
              "      <td>...</td>\n",
              "      <td>NaN</td>\n",
              "      <td>NaN</td>\n",
              "      <td>NaN</td>\n",
              "      <td>NaN</td>\n",
              "      <td>4</td>\n",
              "      <td>North America</td>\n",
              "      <td>2017</td>\n",
              "      <td>Monday</td>\n",
              "      <td>42</td>\n",
              "      <td>October</td>\n",
              "    </tr>\n",
              "    <tr>\n",
              "      <th>2</th>\n",
              "      <td>Direct</td>\n",
              "      <td>2017-10-16</td>\n",
              "      <td>7992466427990357681</td>\n",
              "      <td>Not Socially Engaged</td>\n",
              "      <td>1508201613</td>\n",
              "      <td>1</td>\n",
              "      <td>1508201613</td>\n",
              "      <td>Chrome</td>\n",
              "      <td>not available in demo dataset</td>\n",
              "      <td>not available in demo dataset</td>\n",
              "      <td>...</td>\n",
              "      <td>NaN</td>\n",
              "      <td>NaN</td>\n",
              "      <td>NaN</td>\n",
              "      <td>NaN</td>\n",
              "      <td>4</td>\n",
              "      <td>North America</td>\n",
              "      <td>2017</td>\n",
              "      <td>Monday</td>\n",
              "      <td>42</td>\n",
              "      <td>October</td>\n",
              "    </tr>\n",
              "    <tr>\n",
              "      <th>3</th>\n",
              "      <td>Organic Search</td>\n",
              "      <td>2017-10-16</td>\n",
              "      <td>9075655783635761930</td>\n",
              "      <td>Not Socially Engaged</td>\n",
              "      <td>1508169851</td>\n",
              "      <td>1</td>\n",
              "      <td>1508169851</td>\n",
              "      <td>Chrome</td>\n",
              "      <td>not available in demo dataset</td>\n",
              "      <td>not available in demo dataset</td>\n",
              "      <td>...</td>\n",
              "      <td>NaN</td>\n",
              "      <td>NaN</td>\n",
              "      <td>NaN</td>\n",
              "      <td>NaN</td>\n",
              "      <td>4</td>\n",
              "      <td>EMEA</td>\n",
              "      <td>2017</td>\n",
              "      <td>Monday</td>\n",
              "      <td>42</td>\n",
              "      <td>October</td>\n",
              "    </tr>\n",
              "    <tr>\n",
              "      <th>4</th>\n",
              "      <td>Organic Search</td>\n",
              "      <td>2017-10-16</td>\n",
              "      <td>6960673291025684308</td>\n",
              "      <td>Not Socially Engaged</td>\n",
              "      <td>1508190552</td>\n",
              "      <td>1</td>\n",
              "      <td>1508190552</td>\n",
              "      <td>Chrome</td>\n",
              "      <td>not available in demo dataset</td>\n",
              "      <td>not available in demo dataset</td>\n",
              "      <td>...</td>\n",
              "      <td>NaN</td>\n",
              "      <td>NaN</td>\n",
              "      <td>NaN</td>\n",
              "      <td>NaN</td>\n",
              "      <td>4</td>\n",
              "      <td>Central America</td>\n",
              "      <td>2017</td>\n",
              "      <td>Monday</td>\n",
              "      <td>42</td>\n",
              "      <td>October</td>\n",
              "    </tr>\n",
              "  </tbody>\n",
              "</table>\n",
              "<p>5 rows × 64 columns</p>\n",
              "</div>"
            ],
            "text/plain": [
              "  channelGrouping       date        fullVisitorId  socialEngagementType  \\\n",
              "0  Organic Search 2017-10-16  3162355547410993243  Not Socially Engaged   \n",
              "1        Referral 2017-10-16  8934116514970143966  Not Socially Engaged   \n",
              "2          Direct 2017-10-16  7992466427990357681  Not Socially Engaged   \n",
              "3  Organic Search 2017-10-16  9075655783635761930  Not Socially Engaged   \n",
              "4  Organic Search 2017-10-16  6960673291025684308  Not Socially Engaged   \n",
              "\n",
              "      visitId  visitNumber  visitStartTime device.browser  \\\n",
              "0  1508198450            1      1508198450        Firefox   \n",
              "1  1508176307            6      1508176307         Chrome   \n",
              "2  1508201613            1      1508201613         Chrome   \n",
              "3  1508169851            1      1508169851         Chrome   \n",
              "4  1508190552            1      1508190552         Chrome   \n",
              "\n",
              "           device.browserVersion             device.browserSize  ...  \\\n",
              "0  not available in demo dataset  not available in demo dataset  ...   \n",
              "1  not available in demo dataset  not available in demo dataset  ...   \n",
              "2  not available in demo dataset  not available in demo dataset  ...   \n",
              "3  not available in demo dataset  not available in demo dataset  ...   \n",
              "4  not available in demo dataset  not available in demo dataset  ...   \n",
              "\n",
              "  trafficSource.adwordsClickInfo.gclId  \\\n",
              "0                                  NaN   \n",
              "1                                  NaN   \n",
              "2                                  NaN   \n",
              "3                                  NaN   \n",
              "4                                  NaN   \n",
              "\n",
              "  trafficSource.adwordsClickInfo.adNetworkType  \\\n",
              "0                                          NaN   \n",
              "1                                          NaN   \n",
              "2                                          NaN   \n",
              "3                                          NaN   \n",
              "4                                          NaN   \n",
              "\n",
              "   trafficSource.adwordsClickInfo.isVideoAd trafficSource.campaignCode  \\\n",
              "0                                       NaN                        NaN   \n",
              "1                                       NaN                        NaN   \n",
              "2                                       NaN                        NaN   \n",
              "3                                       NaN                        NaN   \n",
              "4                                       NaN                        NaN   \n",
              "\n",
              "  customDimension.index customDimension.value  year     day week    month  \n",
              "0                     4                  EMEA  2017  Monday   42  October  \n",
              "1                     4         North America  2017  Monday   42  October  \n",
              "2                     4         North America  2017  Monday   42  October  \n",
              "3                     4                  EMEA  2017  Monday   42  October  \n",
              "4                     4       Central America  2017  Monday   42  October  \n",
              "\n",
              "[5 rows x 64 columns]"
            ]
          },
          "metadata": {
            "tags": []
          },
          "execution_count": 5
        }
      ]
    },
    {
      "cell_type": "code",
      "metadata": {
        "id": "d7J-PN2QbwWO",
        "colab_type": "code",
        "colab": {}
      },
      "source": [
        "#cheak our data types"
      ],
      "execution_count": 0,
      "outputs": []
    },
    {
      "cell_type": "code",
      "metadata": {
        "scrolled": true,
        "id": "jHELr4u4bwWS",
        "colab_type": "code",
        "colab": {},
        "outputId": "91a3fabb-9007-404b-90fb-3a987aeae6e4"
      },
      "source": [
        "df_train.info()"
      ],
      "execution_count": 0,
      "outputs": [
        {
          "output_type": "stream",
          "text": [
            "<class 'pandas.core.frame.DataFrame'>\n",
            "RangeIndex: 1708337 entries, 0 to 1708336\n",
            "Data columns (total 60 columns):\n",
            " #   Column                                             Dtype         \n",
            "---  ------                                             -----         \n",
            " 0   channelGrouping                                    object        \n",
            " 1   date                                               datetime64[ns]\n",
            " 2   fullVisitorId                                      object        \n",
            " 3   socialEngagementType                               object        \n",
            " 4   visitId                                            int64         \n",
            " 5   visitNumber                                        int64         \n",
            " 6   visitStartTime                                     int64         \n",
            " 7   device.browser                                     object        \n",
            " 8   device.browserVersion                              object        \n",
            " 9   device.browserSize                                 object        \n",
            " 10  device.operatingSystem                             object        \n",
            " 11  device.operatingSystemVersion                      object        \n",
            " 12  device.isMobile                                    bool          \n",
            " 13  device.mobileDeviceBranding                        object        \n",
            " 14  device.mobileDeviceModel                           object        \n",
            " 15  device.mobileInputSelector                         object        \n",
            " 16  device.mobileDeviceInfo                            object        \n",
            " 17  device.mobileDeviceMarketingName                   object        \n",
            " 18  device.flashVersion                                object        \n",
            " 19  device.language                                    object        \n",
            " 20  device.screenColors                                object        \n",
            " 21  device.screenResolution                            object        \n",
            " 22  device.deviceCategory                              object        \n",
            " 23  geoNetwork.continent                               object        \n",
            " 24  geoNetwork.subContinent                            object        \n",
            " 25  geoNetwork.country                                 object        \n",
            " 26  geoNetwork.region                                  object        \n",
            " 27  geoNetwork.metro                                   object        \n",
            " 28  geoNetwork.city                                    object        \n",
            " 29  geoNetwork.cityId                                  object        \n",
            " 30  geoNetwork.networkDomain                           object        \n",
            " 31  geoNetwork.latitude                                object        \n",
            " 32  geoNetwork.longitude                               object        \n",
            " 33  geoNetwork.networkLocation                         object        \n",
            " 34  totals.visits                                      object        \n",
            " 35  totals.hits                                        object        \n",
            " 36  totals.pageviews                                   object        \n",
            " 37  totals.bounces                                     object        \n",
            " 38  totals.newVisits                                   object        \n",
            " 39  totals.sessionQualityDim                           object        \n",
            " 40  totals.timeOnSite                                  object        \n",
            " 41  totals.transactions                                object        \n",
            " 42  totals.transactionRevenue                          object        \n",
            " 43  totals.totalTransactionRevenue                     object        \n",
            " 44  trafficSource.campaign                             object        \n",
            " 45  trafficSource.source                               object        \n",
            " 46  trafficSource.medium                               object        \n",
            " 47  trafficSource.keyword                              object        \n",
            " 48  trafficSource.adwordsClickInfo.criteriaParameters  object        \n",
            " 49  trafficSource.referralPath                         object        \n",
            " 50  trafficSource.isTrueDirect                         object        \n",
            " 51  trafficSource.adContent                            object        \n",
            " 52  trafficSource.adwordsClickInfo.page                object        \n",
            " 53  trafficSource.adwordsClickInfo.slot                object        \n",
            " 54  trafficSource.adwordsClickInfo.gclId               object        \n",
            " 55  trafficSource.adwordsClickInfo.adNetworkType       object        \n",
            " 56  trafficSource.adwordsClickInfo.isVideoAd           object        \n",
            " 57  trafficSource.campaignCode                         object        \n",
            " 58  customDimension.index                              object        \n",
            " 59  customDimension.value                              object        \n",
            "dtypes: bool(1), datetime64[ns](1), int64(3), object(55)\n",
            "memory usage: 770.6+ MB\n"
          ],
          "name": "stdout"
        }
      ]
    },
    {
      "cell_type": "code",
      "metadata": {
        "id": "gKzpt6TWbwWW",
        "colab_type": "code",
        "colab": {}
      },
      "source": [
        "#we have bool(1), datetime64[ns](1), int64(3), object(55)"
      ],
      "execution_count": 0,
      "outputs": []
    },
    {
      "cell_type": "code",
      "metadata": {
        "id": "mUlzY5GKbwWb",
        "colab_type": "code",
        "colab": {}
      },
      "source": [
        "#sample anaylsis"
      ],
      "execution_count": 0,
      "outputs": []
    },
    {
      "cell_type": "code",
      "metadata": {
        "scrolled": false,
        "id": "60I7cK24bwWf",
        "colab_type": "code",
        "colab": {},
        "outputId": "d1af635c-9555-4ced-a1ed-7f7a2366ca86"
      },
      "source": [
        "df_train['device.browser']"
      ],
      "execution_count": 0,
      "outputs": [
        {
          "output_type": "execute_result",
          "data": {
            "text/plain": [
              "0                  Firefox\n",
              "1                   Chrome\n",
              "2                   Chrome\n",
              "3                   Chrome\n",
              "4                   Chrome\n",
              "                ...       \n",
              "1708332             Chrome\n",
              "1708333             Chrome\n",
              "1708334    Android Webview\n",
              "1708335             Chrome\n",
              "1708336             Chrome\n",
              "Name: device.browser, Length: 1708337, dtype: object"
            ]
          },
          "metadata": {
            "tags": []
          },
          "execution_count": 5
        }
      ]
    },
    {
      "cell_type": "code",
      "metadata": {
        "id": "q9n2V_d3bwWi",
        "colab_type": "code",
        "colab": {},
        "outputId": "1b69471c-3ecd-4686-d566-9c477277c9f9"
      },
      "source": [
        "df_train.isna().sum().sort_values(ascending = False)"
      ],
      "execution_count": 0,
      "outputs": [
        {
          "output_type": "execute_result",
          "data": {
            "text/plain": [
              "trafficSource.campaignCode        1708336\n",
              "totals.transactionRevenue         1689823\n",
              "totals.totalTransactionRevenue    1689823\n",
              "totals.transactions               1689778\n",
              "trafficSource.adContent           1643600\n",
              "                                   ...   \n",
              "geoNetwork.metro                        0\n",
              "geoNetwork.region                       0\n",
              "geoNetwork.country                      0\n",
              "geoNetwork.subContinent                 0\n",
              "channelGrouping                         0\n",
              "Length: 64, dtype: int64"
            ]
          },
          "metadata": {
            "tags": []
          },
          "execution_count": 21
        }
      ]
    },
    {
      "cell_type": "code",
      "metadata": {
        "scrolled": true,
        "id": "SX1VWBFhbwWm",
        "colab_type": "code",
        "colab": {},
        "outputId": "ccc0d87c-bdbe-43b8-c36d-482b39f61014"
      },
      "source": [
        "df_train['totals.transactionRevenue'].value_counts()"
      ],
      "execution_count": 0,
      "outputs": [
        {
          "output_type": "execute_result",
          "data": {
            "text/plain": [
              "16990000     308\n",
              "19990000     248\n",
              "39980000     220\n",
              "18990000     219\n",
              "21990000     211\n",
              "            ... \n",
              "171150000      1\n",
              "106660000      1\n",
              "242970000      1\n",
              "18450000       1\n",
              "824680000      1\n",
              "Name: totals.transactionRevenue, Length: 7251, dtype: int64"
            ]
          },
          "metadata": {
            "tags": []
          },
          "execution_count": 22
        }
      ]
    },
    {
      "cell_type": "code",
      "metadata": {
        "id": "sHh_FLOQbwWq",
        "colab_type": "code",
        "colab": {}
      },
      "source": [
        "df_train[\"totals.transactionRevenue\"] = df_train[\"totals.transactionRevenue\"].astype('float')"
      ],
      "execution_count": 0,
      "outputs": []
    },
    {
      "cell_type": "code",
      "metadata": {
        "id": "b4CROUbybwWu",
        "colab_type": "code",
        "colab": {},
        "outputId": "d902c0be-fcba-4223-cc37-c78d7ed45b6b"
      },
      "source": [
        "df_train[\"totals.transactionRevenue\"]"
      ],
      "execution_count": 0,
      "outputs": [
        {
          "output_type": "execute_result",
          "data": {
            "text/plain": [
              "0          0.0\n",
              "1          0.0\n",
              "2          0.0\n",
              "3          0.0\n",
              "4          0.0\n",
              "          ... \n",
              "1708332    0.0\n",
              "1708333    0.0\n",
              "1708334    0.0\n",
              "1708335    0.0\n",
              "1708336    0.0\n",
              "Name: totals.transactionRevenue, Length: 1708337, dtype: float64"
            ]
          },
          "metadata": {
            "tags": []
          },
          "execution_count": 10
        }
      ]
    },
    {
      "cell_type": "code",
      "metadata": {
        "id": "kxL3VcnUbwWy",
        "colab_type": "code",
        "colab": {}
      },
      "source": [
        "df_train[\"totals.transactionRevenue\"] = df_train[\"totals.transactionRevenue\"].fillna(0.0).astype(float)"
      ],
      "execution_count": 0,
      "outputs": []
    },
    {
      "cell_type": "code",
      "metadata": {
        "id": "7s0mxiiXbwW1",
        "colab_type": "code",
        "colab": {},
        "outputId": "33b51104-7d4c-4965-cbfa-702aa84ec742"
      },
      "source": [
        "df_train[\"totals.transactionRevenue\"].isna().sum()"
      ],
      "execution_count": 0,
      "outputs": [
        {
          "output_type": "execute_result",
          "data": {
            "text/plain": [
              "0"
            ]
          },
          "metadata": {
            "tags": []
          },
          "execution_count": 12
        }
      ]
    },
    {
      "cell_type": "code",
      "metadata": {
        "id": "FOZyqtAtbwW5",
        "colab_type": "code",
        "colab": {},
        "outputId": "f386cefb-06d6-4dbe-e42f-75c44b3bce2a"
      },
      "source": [
        "df_train[\"totals.transactionRevenue\"].isnull().sum()"
      ],
      "execution_count": 0,
      "outputs": [
        {
          "output_type": "execute_result",
          "data": {
            "text/plain": [
              "0"
            ]
          },
          "metadata": {
            "tags": []
          },
          "execution_count": 13
        }
      ]
    },
    {
      "cell_type": "code",
      "metadata": {
        "id": "JX1OHH78bwW8",
        "colab_type": "code",
        "colab": {},
        "outputId": "cb19db80-a75a-4312-9741-2bf2e5dd0354"
      },
      "source": [
        "print(\"Transaction Revenue Mean Value: \", df_train['totals.transactionRevenue'].mean())\n",
        "print(\"Transaction Revenue median Value: \", df_train['totals.transactionRevenue'].median())"
      ],
      "execution_count": 0,
      "outputs": [
        {
          "output_type": "stream",
          "text": [
            "Transaction Revenue Mean Value:  1355906.3463473541\n",
            "Transaction Revenue median Value:  0.0\n"
          ],
          "name": "stdout"
        }
      ]
    },
    {
      "cell_type": "code",
      "metadata": {
        "id": "5iwsE5ajbwW_",
        "colab_type": "code",
        "colab": {},
        "outputId": "81249c49-7073-420f-dc5b-ded015827b54"
      },
      "source": [
        "print(\"Transaction Revenue Mean Value: \", \n",
        "      df_train[df_train['totals.transactionRevenue'] > 0][\"totals.transactionRevenue\"].mean()) # mean value of above 0\n",
        "print(\"Transaction Revenue Median Value: \", \n",
        "      df_train[df_train['totals.transactionRevenue'] > 0][\"totals.transactionRevenue\"].median()) # median value of above 0"
      ],
      "execution_count": 0,
      "outputs": [
        {
          "output_type": "stream",
          "text": [
            "Transaction Revenue Mean Value:  125113156.53019337\n",
            "Transaction Revenue Median Value:  46060000.0\n"
          ],
          "name": "stdout"
        }
      ]
    },
    {
      "cell_type": "code",
      "metadata": {
        "id": "JmTTJjrObwXC",
        "colab_type": "code",
        "colab": {},
        "outputId": "aa0b0e9c-f8d2-41b7-b3f8-ad71407e7120"
      },
      "source": [
        "sns.boxplot(df_train[\"totals.transactionRevenue\"])"
      ],
      "execution_count": 0,
      "outputs": [
        {
          "output_type": "execute_result",
          "data": {
            "text/plain": [
              "<matplotlib.axes._subplots.AxesSubplot at 0x1d16f792848>"
            ]
          },
          "metadata": {
            "tags": []
          },
          "execution_count": 20
        },
        {
          "output_type": "display_data",
          "data": {
            "image/png": "[encoded data removed]",
            "text/plain": [
              "<Figure size 432x288 with 1 Axes>"
            ]
          },
          "metadata": {
            "tags": [],
            "needs_background": "light"
          }
        }
      ]
    },
    {
      "cell_type": "code",
      "metadata": {
        "id": "Zq30MsWzbwXF",
        "colab_type": "code",
        "colab": {},
        "outputId": "5dfaf49f-7426-4b61-f892-91c7b613d39f"
      },
      "source": [
        "df_train['device.browser'].value_counts() #users per device browser"
      ],
      "execution_count": 0,
      "outputs": [
        {
          "output_type": "execute_result",
          "data": {
            "text/plain": [
              "Chrome                                                  1173056\n",
              "Safari                                                   312165\n",
              "Firefox                                                   63845\n",
              "Internet Explorer                                         35474\n",
              "Android Webview                                           34266\n",
              "                                                         ...   \n",
              ";__CT_JOB_ID__:a24a8978-e5e8-4dc9-af66-c4ed89ea25d7;          1\n",
              "starmaker                                                     1\n",
              "wncrmxukofqljsgvzahiybpdet                                    1\n",
              ";__CT_JOB_ID__:7e575295-571e-4e82-9254-7f2c8bbb9183;          1\n",
              ";__CT_JOB_ID__:65da7e5f-0f05-4b5d-8d31-1f4d470a2b82;          1\n",
              "Name: device.browser, Length: 129, dtype: int64"
            ]
          },
          "metadata": {
            "tags": []
          },
          "execution_count": 22
        }
      ]
    },
    {
      "cell_type": "code",
      "metadata": {
        "id": "31EBsxWnbwXI",
        "colab_type": "code",
        "colab": {},
        "outputId": "50d03d8a-f90c-4e39-bc32-74ce9eaff6c1"
      },
      "source": [
        "df_train['device.browser'].value_counts()[:10] #users per device browser - Top 10"
      ],
      "execution_count": 0,
      "outputs": [
        {
          "output_type": "execute_result",
          "data": {
            "text/plain": [
              "Chrome               1173056\n",
              "Safari                312165\n",
              "Firefox                63845\n",
              "Internet Explorer      35474\n",
              "Android Webview        34266\n",
              "Edge                   20543\n",
              "Samsung Internet       15792\n",
              "Opera Mini             15018\n",
              "Safari (in-app)        14207\n",
              "Opera                   9585\n",
              "Name: device.browser, dtype: int64"
            ]
          },
          "metadata": {
            "tags": []
          },
          "execution_count": 23
        }
      ]
    },
    {
      "cell_type": "code",
      "metadata": {
        "id": "v9Yd4sz_bwXM",
        "colab_type": "code",
        "colab": {}
      },
      "source": [
        "browser_show = df_train['device.browser'].value_counts()[:10].reset_index()"
      ],
      "execution_count": 0,
      "outputs": []
    },
    {
      "cell_type": "code",
      "metadata": {
        "id": "Iv31hryTbwXQ",
        "colab_type": "code",
        "colab": {},
        "outputId": "34bf4563-79f5-45d4-8503-f0600cd86a1e"
      },
      "source": [
        "browser_show"
      ],
      "execution_count": 0,
      "outputs": [
        {
          "output_type": "execute_result",
          "data": {
            "text/html": [
              "<div>\n",
              "<style scoped>\n",
              "    .dataframe tbody tr th:only-of-type {\n",
              "        vertical-align: middle;\n",
              "    }\n",
              "\n",
              "    .dataframe tbody tr th {\n",
              "        vertical-align: top;\n",
              "    }\n",
              "\n",
              "    .dataframe thead th {\n",
              "        text-align: right;\n",
              "    }\n",
              "</style>\n",
              "<table border=\"1\" class=\"dataframe\">\n",
              "  <thead>\n",
              "    <tr style=\"text-align: right;\">\n",
              "      <th></th>\n",
              "      <th>index</th>\n",
              "      <th>device.browser</th>\n",
              "    </tr>\n",
              "  </thead>\n",
              "  <tbody>\n",
              "    <tr>\n",
              "      <th>0</th>\n",
              "      <td>Chrome</td>\n",
              "      <td>1173056</td>\n",
              "    </tr>\n",
              "    <tr>\n",
              "      <th>1</th>\n",
              "      <td>Safari</td>\n",
              "      <td>312165</td>\n",
              "    </tr>\n",
              "    <tr>\n",
              "      <th>2</th>\n",
              "      <td>Firefox</td>\n",
              "      <td>63845</td>\n",
              "    </tr>\n",
              "    <tr>\n",
              "      <th>3</th>\n",
              "      <td>Internet Explorer</td>\n",
              "      <td>35474</td>\n",
              "    </tr>\n",
              "    <tr>\n",
              "      <th>4</th>\n",
              "      <td>Android Webview</td>\n",
              "      <td>34266</td>\n",
              "    </tr>\n",
              "    <tr>\n",
              "      <th>5</th>\n",
              "      <td>Edge</td>\n",
              "      <td>20543</td>\n",
              "    </tr>\n",
              "    <tr>\n",
              "      <th>6</th>\n",
              "      <td>Samsung Internet</td>\n",
              "      <td>15792</td>\n",
              "    </tr>\n",
              "    <tr>\n",
              "      <th>7</th>\n",
              "      <td>Opera Mini</td>\n",
              "      <td>15018</td>\n",
              "    </tr>\n",
              "    <tr>\n",
              "      <th>8</th>\n",
              "      <td>Safari (in-app)</td>\n",
              "      <td>14207</td>\n",
              "    </tr>\n",
              "    <tr>\n",
              "      <th>9</th>\n",
              "      <td>Opera</td>\n",
              "      <td>9585</td>\n",
              "    </tr>\n",
              "  </tbody>\n",
              "</table>\n",
              "</div>"
            ],
            "text/plain": [
              "               index  device.browser\n",
              "0             Chrome         1173056\n",
              "1             Safari          312165\n",
              "2            Firefox           63845\n",
              "3  Internet Explorer           35474\n",
              "4    Android Webview           34266\n",
              "5               Edge           20543\n",
              "6   Samsung Internet           15792\n",
              "7         Opera Mini           15018\n",
              "8    Safari (in-app)           14207\n",
              "9              Opera            9585"
            ]
          },
          "metadata": {
            "tags": []
          },
          "execution_count": 40
        }
      ]
    },
    {
      "cell_type": "code",
      "metadata": {
        "id": "UkxZfc8HbwXT",
        "colab_type": "code",
        "colab": {},
        "outputId": "84b305d3-acfb-40d6-8a5e-0d3e1e95cb95"
      },
      "source": [
        "sns.barplot(x ='index', y= 'device.browser', data = browser_show)"
      ],
      "execution_count": 0,
      "outputs": [
        {
          "output_type": "execute_result",
          "data": {
            "text/plain": [
              "<matplotlib.axes._subplots.AxesSubplot at 0x1d1531cef48>"
            ]
          },
          "metadata": {
            "tags": []
          },
          "execution_count": 42
        },
        {
          "output_type": "display_data",
          "data": {
            "image/png": "[encoded data removed]",
            "text/plain": [
              "<Figure size 432x288 with 1 Axes>"
            ]
          },
          "metadata": {
            "tags": [],
            "needs_background": "light"
          }
        }
      ]
    },
    {
      "cell_type": "code",
      "metadata": {
        "scrolled": true,
        "id": "_PdWhaOGbwXW",
        "colab_type": "code",
        "colab": {},
        "outputId": "4fc99449-8188-4c30-b1b3-00774529c042"
      },
      "source": [
        "\n",
        "plt.figure(figsize=(14,6))\n",
        "\n",
        "# Let explore the browser used by users\n",
        "sns.countplot(df_train[df_train['device.browser']\\\n",
        "                       .isin(df_train['device.browser']\\\n",
        "                             .value_counts()[:10].index.values)]['device.browser'], palette=\"hls\") # It's a module to count the category's\n",
        "plt.title(\"TOP 10 Most Frequent Browsers\", fontsize=20) # Adding Title and seting the size\n",
        "plt.xlabel(\"Browser Names\", fontsize=16) # Adding x label and seting the size\n",
        "plt.ylabel(\"Count\", fontsize=16) # Adding y label and seting the size\n",
        "plt.xticks(rotation=45) # Adjust the xticks, rotating the labels\n",
        "\n",
        "plt.show() #use plt.show to render the graph that we did above"
      ],
      "execution_count": 0,
      "outputs": [
        {
          "output_type": "display_data",
          "data": {
            "image/png": "[encoded data removed]",
            "text/plain": [
              "<Figure size 1008x432 with 1 Axes>"
            ]
          },
          "metadata": {
            "tags": [],
            "needs_background": "light"
          }
        }
      ]
    },
    {
      "cell_type": "code",
      "metadata": {
        "id": "ZAGqabT3bwXa",
        "colab_type": "code",
        "colab": {},
        "outputId": "a6d4df34-ebd7-4610-933a-531f016289d0"
      },
      "source": [
        "by_day = df_train.groupby(['day'])['visitId'].count().reset_index()\n",
        "by_day"
      ],
      "execution_count": 0,
      "outputs": [
        {
          "output_type": "execute_result",
          "data": {
            "text/html": [
              "<div>\n",
              "<style scoped>\n",
              "    .dataframe tbody tr th:only-of-type {\n",
              "        vertical-align: middle;\n",
              "    }\n",
              "\n",
              "    .dataframe tbody tr th {\n",
              "        vertical-align: top;\n",
              "    }\n",
              "\n",
              "    .dataframe thead th {\n",
              "        text-align: right;\n",
              "    }\n",
              "</style>\n",
              "<table border=\"1\" class=\"dataframe\">\n",
              "  <thead>\n",
              "    <tr style=\"text-align: right;\">\n",
              "      <th></th>\n",
              "      <th>day</th>\n",
              "      <th>visitId</th>\n",
              "    </tr>\n",
              "  </thead>\n",
              "  <tbody>\n",
              "    <tr>\n",
              "      <th>0</th>\n",
              "      <td>Friday</td>\n",
              "      <td>239216</td>\n",
              "    </tr>\n",
              "    <tr>\n",
              "      <th>1</th>\n",
              "      <td>Monday</td>\n",
              "      <td>264168</td>\n",
              "    </tr>\n",
              "    <tr>\n",
              "      <th>2</th>\n",
              "      <td>Saturday</td>\n",
              "      <td>183999</td>\n",
              "    </tr>\n",
              "    <tr>\n",
              "      <th>3</th>\n",
              "      <td>Sunday</td>\n",
              "      <td>191115</td>\n",
              "    </tr>\n",
              "    <tr>\n",
              "      <th>4</th>\n",
              "      <td>Thursday</td>\n",
              "      <td>268463</td>\n",
              "    </tr>\n",
              "    <tr>\n",
              "      <th>5</th>\n",
              "      <td>Tuesday</td>\n",
              "      <td>279675</td>\n",
              "    </tr>\n",
              "    <tr>\n",
              "      <th>6</th>\n",
              "      <td>Wednesday</td>\n",
              "      <td>281701</td>\n",
              "    </tr>\n",
              "  </tbody>\n",
              "</table>\n",
              "</div>"
            ],
            "text/plain": [
              "         day  visitId\n",
              "0     Friday   239216\n",
              "1     Monday   264168\n",
              "2   Saturday   183999\n",
              "3     Sunday   191115\n",
              "4   Thursday   268463\n",
              "5    Tuesday   279675\n",
              "6  Wednesday   281701"
            ]
          },
          "metadata": {
            "tags": []
          },
          "execution_count": 67
        }
      ]
    },
    {
      "cell_type": "code",
      "metadata": {
        "id": "-ecKSEdCbwXc",
        "colab_type": "code",
        "colab": {},
        "outputId": "98a4e10f-3308-4cf4-ca60-f87dffc67539"
      },
      "source": [
        "by_month = df_train.groupby(['month'])['visitId'].count().reset_index()\n",
        "by_month"
      ],
      "execution_count": 0,
      "outputs": [
        {
          "output_type": "execute_result",
          "data": {
            "text/html": [
              "<div>\n",
              "<style scoped>\n",
              "    .dataframe tbody tr th:only-of-type {\n",
              "        vertical-align: middle;\n",
              "    }\n",
              "\n",
              "    .dataframe tbody tr th {\n",
              "        vertical-align: top;\n",
              "    }\n",
              "\n",
              "    .dataframe thead th {\n",
              "        text-align: right;\n",
              "    }\n",
              "</style>\n",
              "<table border=\"1\" class=\"dataframe\">\n",
              "  <thead>\n",
              "    <tr style=\"text-align: right;\">\n",
              "      <th></th>\n",
              "      <th>month</th>\n",
              "      <th>visitId</th>\n",
              "    </tr>\n",
              "  </thead>\n",
              "  <tbody>\n",
              "    <tr>\n",
              "      <th>0</th>\n",
              "      <td>April</td>\n",
              "      <td>149727</td>\n",
              "    </tr>\n",
              "    <tr>\n",
              "      <th>1</th>\n",
              "      <td>August</td>\n",
              "      <td>159561</td>\n",
              "    </tr>\n",
              "    <tr>\n",
              "      <th>2</th>\n",
              "      <td>December</td>\n",
              "      <td>176228</td>\n",
              "    </tr>\n",
              "    <tr>\n",
              "      <th>3</th>\n",
              "      <td>February</td>\n",
              "      <td>145196</td>\n",
              "    </tr>\n",
              "    <tr>\n",
              "      <th>4</th>\n",
              "      <td>January</td>\n",
              "      <td>148084</td>\n",
              "    </tr>\n",
              "    <tr>\n",
              "      <th>5</th>\n",
              "      <td>July</td>\n",
              "      <td>71812</td>\n",
              "    </tr>\n",
              "    <tr>\n",
              "      <th>6</th>\n",
              "      <td>June</td>\n",
              "      <td>63578</td>\n",
              "    </tr>\n",
              "    <tr>\n",
              "      <th>7</th>\n",
              "      <td>March</td>\n",
              "      <td>164020</td>\n",
              "    </tr>\n",
              "    <tr>\n",
              "      <th>8</th>\n",
              "      <td>May</td>\n",
              "      <td>65371</td>\n",
              "    </tr>\n",
              "    <tr>\n",
              "      <th>9</th>\n",
              "      <td>November</td>\n",
              "      <td>207661</td>\n",
              "    </tr>\n",
              "    <tr>\n",
              "      <th>10</th>\n",
              "      <td>October</td>\n",
              "      <td>198792</td>\n",
              "    </tr>\n",
              "    <tr>\n",
              "      <th>11</th>\n",
              "      <td>September</td>\n",
              "      <td>158307</td>\n",
              "    </tr>\n",
              "  </tbody>\n",
              "</table>\n",
              "</div>"
            ],
            "text/plain": [
              "        month  visitId\n",
              "0       April   149727\n",
              "1      August   159561\n",
              "2    December   176228\n",
              "3    February   145196\n",
              "4     January   148084\n",
              "5        July    71812\n",
              "6        June    63578\n",
              "7       March   164020\n",
              "8         May    65371\n",
              "9    November   207661\n",
              "10    October   198792\n",
              "11  September   158307"
            ]
          },
          "metadata": {
            "tags": []
          },
          "execution_count": 76
        }
      ]
    },
    {
      "cell_type": "code",
      "metadata": {
        "id": "QO-aDM0rbwXf",
        "colab_type": "code",
        "colab": {},
        "outputId": "bc3a2ff7-4bac-40ab-bd0e-1ae182e62ea3"
      },
      "source": [
        "by_week = df_train.groupby(['week'])['visitId'].count().sort_values(ascending = False)\n",
        "by_week\n",
        "by_week_top_10 = by_week.head(10).reset_index()\n",
        "by_week_top_10"
      ],
      "execution_count": 0,
      "outputs": [
        {
          "output_type": "execute_result",
          "data": {
            "text/html": [
              "<div>\n",
              "<style scoped>\n",
              "    .dataframe tbody tr th:only-of-type {\n",
              "        vertical-align: middle;\n",
              "    }\n",
              "\n",
              "    .dataframe tbody tr th {\n",
              "        vertical-align: top;\n",
              "    }\n",
              "\n",
              "    .dataframe thead th {\n",
              "        text-align: right;\n",
              "    }\n",
              "</style>\n",
              "<table border=\"1\" class=\"dataframe\">\n",
              "  <thead>\n",
              "    <tr style=\"text-align: right;\">\n",
              "      <th></th>\n",
              "      <th>week</th>\n",
              "      <th>visitId</th>\n",
              "    </tr>\n",
              "  </thead>\n",
              "  <tbody>\n",
              "    <tr>\n",
              "      <th>0</th>\n",
              "      <td>50</td>\n",
              "      <td>53842</td>\n",
              "    </tr>\n",
              "    <tr>\n",
              "      <th>1</th>\n",
              "      <td>48</td>\n",
              "      <td>50163</td>\n",
              "    </tr>\n",
              "    <tr>\n",
              "      <th>2</th>\n",
              "      <td>46</td>\n",
              "      <td>49175</td>\n",
              "    </tr>\n",
              "    <tr>\n",
              "      <th>3</th>\n",
              "      <td>45</td>\n",
              "      <td>48982</td>\n",
              "    </tr>\n",
              "    <tr>\n",
              "      <th>4</th>\n",
              "      <td>40</td>\n",
              "      <td>48555</td>\n",
              "    </tr>\n",
              "    <tr>\n",
              "      <th>5</th>\n",
              "      <td>43</td>\n",
              "      <td>47509</td>\n",
              "    </tr>\n",
              "    <tr>\n",
              "      <th>6</th>\n",
              "      <td>47</td>\n",
              "      <td>45931</td>\n",
              "    </tr>\n",
              "    <tr>\n",
              "      <th>7</th>\n",
              "      <td>42</td>\n",
              "      <td>45577</td>\n",
              "    </tr>\n",
              "    <tr>\n",
              "      <th>8</th>\n",
              "      <td>44</td>\n",
              "      <td>44981</td>\n",
              "    </tr>\n",
              "    <tr>\n",
              "      <th>9</th>\n",
              "      <td>49</td>\n",
              "      <td>41914</td>\n",
              "    </tr>\n",
              "  </tbody>\n",
              "</table>\n",
              "</div>"
            ],
            "text/plain": [
              "   week  visitId\n",
              "0    50    53842\n",
              "1    48    50163\n",
              "2    46    49175\n",
              "3    45    48982\n",
              "4    40    48555\n",
              "5    43    47509\n",
              "6    47    45931\n",
              "7    42    45577\n",
              "8    44    44981\n",
              "9    49    41914"
            ]
          },
          "metadata": {
            "tags": []
          },
          "execution_count": 70
        }
      ]
    },
    {
      "cell_type": "code",
      "metadata": {
        "id": "yPF84CzXbwXi",
        "colab_type": "code",
        "colab": {},
        "outputId": "f14cbd28-a263-41ac-960a-fd67038d7b73"
      },
      "source": [
        "by_year = df_train.groupby(['year'])['visitId'].count().reset_index()\n",
        "by_year"
      ],
      "execution_count": 0,
      "outputs": [
        {
          "output_type": "execute_result",
          "data": {
            "text/html": [
              "<div>\n",
              "<style scoped>\n",
              "    .dataframe tbody tr th:only-of-type {\n",
              "        vertical-align: middle;\n",
              "    }\n",
              "\n",
              "    .dataframe tbody tr th {\n",
              "        vertical-align: top;\n",
              "    }\n",
              "\n",
              "    .dataframe thead th {\n",
              "        text-align: right;\n",
              "    }\n",
              "</style>\n",
              "<table border=\"1\" class=\"dataframe\">\n",
              "  <thead>\n",
              "    <tr style=\"text-align: right;\">\n",
              "      <th></th>\n",
              "      <th>year</th>\n",
              "      <th>visitId</th>\n",
              "    </tr>\n",
              "  </thead>\n",
              "  <tbody>\n",
              "    <tr>\n",
              "      <th>0</th>\n",
              "      <td>2016</td>\n",
              "      <td>436393</td>\n",
              "    </tr>\n",
              "    <tr>\n",
              "      <th>1</th>\n",
              "      <td>2017</td>\n",
              "      <td>928860</td>\n",
              "    </tr>\n",
              "    <tr>\n",
              "      <th>2</th>\n",
              "      <td>2018</td>\n",
              "      <td>343084</td>\n",
              "    </tr>\n",
              "  </tbody>\n",
              "</table>\n",
              "</div>"
            ],
            "text/plain": [
              "   year  visitId\n",
              "0  2016   436393\n",
              "1  2017   928860\n",
              "2  2018   343084"
            ]
          },
          "metadata": {
            "tags": []
          },
          "execution_count": 78
        }
      ]
    },
    {
      "cell_type": "code",
      "metadata": {
        "id": "QcTcI8pKbwXl",
        "colab_type": "code",
        "colab": {},
        "outputId": "b3b16f7b-890c-4684-a2e2-43c4bd5af1ed"
      },
      "source": [
        "sns.barplot(x ='day', y= 'visitId', data = by_day)"
      ],
      "execution_count": 0,
      "outputs": [
        {
          "output_type": "execute_result",
          "data": {
            "text/plain": [
              "<matplotlib.axes._subplots.AxesSubplot at 0x1d15409d448>"
            ]
          },
          "metadata": {
            "tags": []
          },
          "execution_count": 72
        },
        {
          "output_type": "display_data",
          "data": {
            "image/png": "[encoded data removed]",
            "text/plain": [
              "<Figure size 432x288 with 1 Axes>"
            ]
          },
          "metadata": {
            "tags": [],
            "needs_background": "light"
          }
        }
      ]
    },
    {
      "cell_type": "code",
      "metadata": {
        "id": "WbSq6zgRbwXq",
        "colab_type": "code",
        "colab": {},
        "outputId": "3b701c0b-48f6-4794-a0f6-304f469258a8"
      },
      "source": [
        "sns.barplot(x ='week', y= 'visitId', data = by_week_top_10)"
      ],
      "execution_count": 0,
      "outputs": [
        {
          "output_type": "execute_result",
          "data": {
            "text/plain": [
              "<matplotlib.axes._subplots.AxesSubplot at 0x1d384a6cf08>"
            ]
          },
          "metadata": {
            "tags": []
          },
          "execution_count": 73
        },
        {
          "output_type": "display_data",
          "data": {
            "image/png": "[encoded data removed]",
            "text/plain": [
              "<Figure size 432x288 with 1 Axes>"
            ]
          },
          "metadata": {
            "tags": [],
            "needs_background": "light"
          }
        }
      ]
    },
    {
      "cell_type": "code",
      "metadata": {
        "id": "2kl_R718bwXu",
        "colab_type": "code",
        "colab": {},
        "outputId": "54dae927-882b-4824-ac95-86af318f7711"
      },
      "source": [
        "sns.barplot(x ='month', y= 'visitId', data = by_month)"
      ],
      "execution_count": 0,
      "outputs": [
        {
          "output_type": "execute_result",
          "data": {
            "text/plain": [
              "<matplotlib.axes._subplots.AxesSubplot at 0x1d384bfdfc8>"
            ]
          },
          "metadata": {
            "tags": []
          },
          "execution_count": 77
        },
        {
          "output_type": "display_data",
          "data": {
            "image/png": "[encoded data removed]",
            "text/plain": [
              "<Figure size 432x288 with 1 Axes>"
            ]
          },
          "metadata": {
            "tags": [],
            "needs_background": "light"
          }
        }
      ]
    },
    {
      "cell_type": "code",
      "metadata": {
        "id": "QZuD6rL6bwXx",
        "colab_type": "code",
        "colab": {},
        "outputId": "edda5949-aedf-408e-a327-58d1e4a95406"
      },
      "source": [
        "sns.barplot(x ='year', y= 'visitId', data = by_year)"
      ],
      "execution_count": 0,
      "outputs": [
        {
          "output_type": "execute_result",
          "data": {
            "text/plain": [
              "<matplotlib.axes._subplots.AxesSubplot at 0x1d384cf59c8>"
            ]
          },
          "metadata": {
            "tags": []
          },
          "execution_count": 79
        },
        {
          "output_type": "display_data",
          "data": {
            "image/png": "[encoded data removed]",
            "text/plain": [
              "<Figure size 432x288 with 1 Axes>"
            ]
          },
          "metadata": {
            "tags": [],
            "needs_background": "light"
          }
        }
      ]
    },
    {
      "cell_type": "code",
      "metadata": {
        "id": "X7VGXHkQbwX1",
        "colab_type": "code",
        "colab": {}
      },
      "source": [
        "# let me begin working on the whole data\n",
        "# better understanding of missing data\n",
        "# I define a function for it"
      ],
      "execution_count": 0,
      "outputs": []
    },
    {
      "cell_type": "code",
      "metadata": {
        "id": "BDuPjQXNbwX5",
        "colab_type": "code",
        "colab": {}
      },
      "source": [
        "def values_missing(check):\n",
        "    total = check.isnull().sum().sort_values(ascending = False) # getting the sum of null values and ordering\n",
        "    percent = (check.isnull().sum() / check.isnull().count() * 100 ).sort_values(ascending = False) #getting the percent and order of null\n",
        "    df_train = pd.concat([total, percent], axis=1, keys=['Total', 'Percent']) # Concatenating the total and percent\n",
        "    print(\"Total and percent of missing values: \")\n",
        "    print (df_train[~(df_train['Total'] == 0)]) # Returning values of nulls different of 0\n",
        "    \n",
        "    return"
      ],
      "execution_count": 0,
      "outputs": []
    },
    {
      "cell_type": "code",
      "metadata": {
        "id": "3ByqFMnCbwX9",
        "colab_type": "code",
        "colab": {}
      },
      "source": [
        "#input my dataset"
      ],
      "execution_count": 0,
      "outputs": []
    },
    {
      "cell_type": "code",
      "metadata": {
        "id": "03eDaJylbwYA",
        "colab_type": "code",
        "colab": {},
        "outputId": "b002ff66-e83e-4e2e-e879-7122e744e028"
      },
      "source": [
        "#values_missing(df_train)"
      ],
      "execution_count": 0,
      "outputs": [
        {
          "output_type": "stream",
          "text": [
            "Total and percent of missing values: \n",
            "                                                Total    Percent\n",
            "trafficSource.campaignCode                    1708336  99.999941\n",
            "totals.transactionRevenue                     1689823  98.916256\n",
            "totals.totalTransactionRevenue                1689823  98.916256\n",
            "totals.transactions                           1689778  98.913622\n",
            "trafficSource.adContent                       1643600  96.210525\n",
            "trafficSource.adwordsClickInfo.adNetworkType  1633063  95.593727\n",
            "trafficSource.adwordsClickInfo.page           1633063  95.593727\n",
            "trafficSource.adwordsClickInfo.slot           1633063  95.593727\n",
            "trafficSource.adwordsClickInfo.isVideoAd      1633063  95.593727\n",
            "trafficSource.adwordsClickInfo.gclId          1632914  95.585005\n",
            "trafficSource.isTrueDirect                    1173819  68.711209\n",
            "trafficSource.referralPath                    1142073  66.852910\n",
            "trafficSource.keyword                         1052780  61.626014\n",
            "totals.timeOnSite                              874294  51.178076\n",
            "totals.bounces                                 836759  48.980910\n",
            "totals.sessionQualityDim                       835274  48.893983\n",
            "totals.newVisits                               400907  23.467676\n",
            "customDimension.index                          333235  19.506397\n",
            "customDimension.value                          333235  19.506397\n",
            "totals.pageviews                                  239   0.013990\n"
          ],
          "name": "stdout"
        }
      ]
    },
    {
      "cell_type": "code",
      "metadata": {
        "id": "pCEburBQbwYD",
        "colab_type": "code",
        "colab": {},
        "outputId": "e9e0597e-2d5d-4191-e7c7-9190b423d683"
      },
      "source": [
        "df_train"
      ],
      "execution_count": 0,
      "outputs": [
        {
          "output_type": "execute_result",
          "data": {
            "text/html": [
              "<div>\n",
              "<style scoped>\n",
              "    .dataframe tbody tr th:only-of-type {\n",
              "        vertical-align: middle;\n",
              "    }\n",
              "\n",
              "    .dataframe tbody tr th {\n",
              "        vertical-align: top;\n",
              "    }\n",
              "\n",
              "    .dataframe thead th {\n",
              "        text-align: right;\n",
              "    }\n",
              "</style>\n",
              "<table border=\"1\" class=\"dataframe\">\n",
              "  <thead>\n",
              "    <tr style=\"text-align: right;\">\n",
              "      <th></th>\n",
              "      <th>channelGrouping</th>\n",
              "      <th>date</th>\n",
              "      <th>fullVisitorId</th>\n",
              "      <th>socialEngagementType</th>\n",
              "      <th>visitId</th>\n",
              "      <th>visitNumber</th>\n",
              "      <th>visitStartTime</th>\n",
              "      <th>device.browser</th>\n",
              "      <th>device.browserVersion</th>\n",
              "      <th>device.browserSize</th>\n",
              "      <th>...</th>\n",
              "      <th>trafficSource.adwordsClickInfo.gclId</th>\n",
              "      <th>trafficSource.adwordsClickInfo.adNetworkType</th>\n",
              "      <th>trafficSource.adwordsClickInfo.isVideoAd</th>\n",
              "      <th>trafficSource.campaignCode</th>\n",
              "      <th>customDimension.index</th>\n",
              "      <th>customDimension.value</th>\n",
              "      <th>year</th>\n",
              "      <th>day</th>\n",
              "      <th>week</th>\n",
              "      <th>month</th>\n",
              "    </tr>\n",
              "  </thead>\n",
              "  <tbody>\n",
              "    <tr>\n",
              "      <th>0</th>\n",
              "      <td>Organic Search</td>\n",
              "      <td>2017-10-16</td>\n",
              "      <td>3162355547410993243</td>\n",
              "      <td>Not Socially Engaged</td>\n",
              "      <td>1508198450</td>\n",
              "      <td>1</td>\n",
              "      <td>1508198450</td>\n",
              "      <td>Firefox</td>\n",
              "      <td>not available in demo dataset</td>\n",
              "      <td>not available in demo dataset</td>\n",
              "      <td>...</td>\n",
              "      <td>NaN</td>\n",
              "      <td>NaN</td>\n",
              "      <td>NaN</td>\n",
              "      <td>NaN</td>\n",
              "      <td>4</td>\n",
              "      <td>EMEA</td>\n",
              "      <td>2017</td>\n",
              "      <td>Monday</td>\n",
              "      <td>42</td>\n",
              "      <td>October</td>\n",
              "    </tr>\n",
              "    <tr>\n",
              "      <th>1</th>\n",
              "      <td>Referral</td>\n",
              "      <td>2017-10-16</td>\n",
              "      <td>8934116514970143966</td>\n",
              "      <td>Not Socially Engaged</td>\n",
              "      <td>1508176307</td>\n",
              "      <td>6</td>\n",
              "      <td>1508176307</td>\n",
              "      <td>Chrome</td>\n",
              "      <td>not available in demo dataset</td>\n",
              "      <td>not available in demo dataset</td>\n",
              "      <td>...</td>\n",
              "      <td>NaN</td>\n",
              "      <td>NaN</td>\n",
              "      <td>NaN</td>\n",
              "      <td>NaN</td>\n",
              "      <td>4</td>\n",
              "      <td>North America</td>\n",
              "      <td>2017</td>\n",
              "      <td>Monday</td>\n",
              "      <td>42</td>\n",
              "      <td>October</td>\n",
              "    </tr>\n",
              "    <tr>\n",
              "      <th>2</th>\n",
              "      <td>Direct</td>\n",
              "      <td>2017-10-16</td>\n",
              "      <td>7992466427990357681</td>\n",
              "      <td>Not Socially Engaged</td>\n",
              "      <td>1508201613</td>\n",
              "      <td>1</td>\n",
              "      <td>1508201613</td>\n",
              "      <td>Chrome</td>\n",
              "      <td>not available in demo dataset</td>\n",
              "      <td>not available in demo dataset</td>\n",
              "      <td>...</td>\n",
              "      <td>NaN</td>\n",
              "      <td>NaN</td>\n",
              "      <td>NaN</td>\n",
              "      <td>NaN</td>\n",
              "      <td>4</td>\n",
              "      <td>North America</td>\n",
              "      <td>2017</td>\n",
              "      <td>Monday</td>\n",
              "      <td>42</td>\n",
              "      <td>October</td>\n",
              "    </tr>\n",
              "    <tr>\n",
              "      <th>3</th>\n",
              "      <td>Organic Search</td>\n",
              "      <td>2017-10-16</td>\n",
              "      <td>9075655783635761930</td>\n",
              "      <td>Not Socially Engaged</td>\n",
              "      <td>1508169851</td>\n",
              "      <td>1</td>\n",
              "      <td>1508169851</td>\n",
              "      <td>Chrome</td>\n",
              "      <td>not available in demo dataset</td>\n",
              "      <td>not available in demo dataset</td>\n",
              "      <td>...</td>\n",
              "      <td>NaN</td>\n",
              "      <td>NaN</td>\n",
              "      <td>NaN</td>\n",
              "      <td>NaN</td>\n",
              "      <td>4</td>\n",
              "      <td>EMEA</td>\n",
              "      <td>2017</td>\n",
              "      <td>Monday</td>\n",
              "      <td>42</td>\n",
              "      <td>October</td>\n",
              "    </tr>\n",
              "    <tr>\n",
              "      <th>4</th>\n",
              "      <td>Organic Search</td>\n",
              "      <td>2017-10-16</td>\n",
              "      <td>6960673291025684308</td>\n",
              "      <td>Not Socially Engaged</td>\n",
              "      <td>1508190552</td>\n",
              "      <td>1</td>\n",
              "      <td>1508190552</td>\n",
              "      <td>Chrome</td>\n",
              "      <td>not available in demo dataset</td>\n",
              "      <td>not available in demo dataset</td>\n",
              "      <td>...</td>\n",
              "      <td>NaN</td>\n",
              "      <td>NaN</td>\n",
              "      <td>NaN</td>\n",
              "      <td>NaN</td>\n",
              "      <td>4</td>\n",
              "      <td>Central America</td>\n",
              "      <td>2017</td>\n",
              "      <td>Monday</td>\n",
              "      <td>42</td>\n",
              "      <td>October</td>\n",
              "    </tr>\n",
              "    <tr>\n",
              "      <th>...</th>\n",
              "      <td>...</td>\n",
              "      <td>...</td>\n",
              "      <td>...</td>\n",
              "      <td>...</td>\n",
              "      <td>...</td>\n",
              "      <td>...</td>\n",
              "      <td>...</td>\n",
              "      <td>...</td>\n",
              "      <td>...</td>\n",
              "      <td>...</td>\n",
              "      <td>...</td>\n",
              "      <td>...</td>\n",
              "      <td>...</td>\n",
              "      <td>...</td>\n",
              "      <td>...</td>\n",
              "      <td>...</td>\n",
              "      <td>...</td>\n",
              "      <td>...</td>\n",
              "      <td>...</td>\n",
              "      <td>...</td>\n",
              "      <td>...</td>\n",
              "    </tr>\n",
              "    <tr>\n",
              "      <th>1708332</th>\n",
              "      <td>Social</td>\n",
              "      <td>2017-01-04</td>\n",
              "      <td>5123779100307500332</td>\n",
              "      <td>Not Socially Engaged</td>\n",
              "      <td>1483554750</td>\n",
              "      <td>1</td>\n",
              "      <td>1483554750</td>\n",
              "      <td>Chrome</td>\n",
              "      <td>not available in demo dataset</td>\n",
              "      <td>not available in demo dataset</td>\n",
              "      <td>...</td>\n",
              "      <td>NaN</td>\n",
              "      <td>NaN</td>\n",
              "      <td>NaN</td>\n",
              "      <td>NaN</td>\n",
              "      <td>NaN</td>\n",
              "      <td>NaN</td>\n",
              "      <td>2017</td>\n",
              "      <td>Wednesday</td>\n",
              "      <td>1</td>\n",
              "      <td>January</td>\n",
              "    </tr>\n",
              "    <tr>\n",
              "      <th>1708333</th>\n",
              "      <td>Social</td>\n",
              "      <td>2017-01-04</td>\n",
              "      <td>7231728964973959842</td>\n",
              "      <td>Not Socially Engaged</td>\n",
              "      <td>1483543798</td>\n",
              "      <td>1</td>\n",
              "      <td>1483543798</td>\n",
              "      <td>Chrome</td>\n",
              "      <td>not available in demo dataset</td>\n",
              "      <td>not available in demo dataset</td>\n",
              "      <td>...</td>\n",
              "      <td>NaN</td>\n",
              "      <td>NaN</td>\n",
              "      <td>NaN</td>\n",
              "      <td>NaN</td>\n",
              "      <td>NaN</td>\n",
              "      <td>NaN</td>\n",
              "      <td>2017</td>\n",
              "      <td>Wednesday</td>\n",
              "      <td>1</td>\n",
              "      <td>January</td>\n",
              "    </tr>\n",
              "    <tr>\n",
              "      <th>1708334</th>\n",
              "      <td>Social</td>\n",
              "      <td>2017-01-04</td>\n",
              "      <td>5744576632396406899</td>\n",
              "      <td>Not Socially Engaged</td>\n",
              "      <td>1483526434</td>\n",
              "      <td>1</td>\n",
              "      <td>1483526434</td>\n",
              "      <td>Android Webview</td>\n",
              "      <td>not available in demo dataset</td>\n",
              "      <td>not available in demo dataset</td>\n",
              "      <td>...</td>\n",
              "      <td>NaN</td>\n",
              "      <td>NaN</td>\n",
              "      <td>NaN</td>\n",
              "      <td>NaN</td>\n",
              "      <td>NaN</td>\n",
              "      <td>NaN</td>\n",
              "      <td>2017</td>\n",
              "      <td>Wednesday</td>\n",
              "      <td>1</td>\n",
              "      <td>January</td>\n",
              "    </tr>\n",
              "    <tr>\n",
              "      <th>1708335</th>\n",
              "      <td>Social</td>\n",
              "      <td>2017-01-04</td>\n",
              "      <td>2709355455991750775</td>\n",
              "      <td>Not Socially Engaged</td>\n",
              "      <td>1483592857</td>\n",
              "      <td>1</td>\n",
              "      <td>1483592864</td>\n",
              "      <td>Chrome</td>\n",
              "      <td>not available in demo dataset</td>\n",
              "      <td>not available in demo dataset</td>\n",
              "      <td>...</td>\n",
              "      <td>NaN</td>\n",
              "      <td>NaN</td>\n",
              "      <td>NaN</td>\n",
              "      <td>NaN</td>\n",
              "      <td>4</td>\n",
              "      <td>APAC</td>\n",
              "      <td>2017</td>\n",
              "      <td>Wednesday</td>\n",
              "      <td>1</td>\n",
              "      <td>January</td>\n",
              "    </tr>\n",
              "    <tr>\n",
              "      <th>1708336</th>\n",
              "      <td>Social</td>\n",
              "      <td>2017-01-04</td>\n",
              "      <td>0814900163617805053</td>\n",
              "      <td>Not Socially Engaged</td>\n",
              "      <td>1483574474</td>\n",
              "      <td>1</td>\n",
              "      <td>1483574474</td>\n",
              "      <td>Chrome</td>\n",
              "      <td>not available in demo dataset</td>\n",
              "      <td>not available in demo dataset</td>\n",
              "      <td>...</td>\n",
              "      <td>NaN</td>\n",
              "      <td>NaN</td>\n",
              "      <td>NaN</td>\n",
              "      <td>NaN</td>\n",
              "      <td>4</td>\n",
              "      <td>Central America</td>\n",
              "      <td>2017</td>\n",
              "      <td>Wednesday</td>\n",
              "      <td>1</td>\n",
              "      <td>January</td>\n",
              "    </tr>\n",
              "  </tbody>\n",
              "</table>\n",
              "<p>1708337 rows × 64 columns</p>\n",
              "</div>"
            ],
            "text/plain": [
              "        channelGrouping       date        fullVisitorId  socialEngagementType  \\\n",
              "0        Organic Search 2017-10-16  3162355547410993243  Not Socially Engaged   \n",
              "1              Referral 2017-10-16  8934116514970143966  Not Socially Engaged   \n",
              "2                Direct 2017-10-16  7992466427990357681  Not Socially Engaged   \n",
              "3        Organic Search 2017-10-16  9075655783635761930  Not Socially Engaged   \n",
              "4        Organic Search 2017-10-16  6960673291025684308  Not Socially Engaged   \n",
              "...                 ...        ...                  ...                   ...   \n",
              "1708332          Social 2017-01-04  5123779100307500332  Not Socially Engaged   \n",
              "1708333          Social 2017-01-04  7231728964973959842  Not Socially Engaged   \n",
              "1708334          Social 2017-01-04  5744576632396406899  Not Socially Engaged   \n",
              "1708335          Social 2017-01-04  2709355455991750775  Not Socially Engaged   \n",
              "1708336          Social 2017-01-04  0814900163617805053  Not Socially Engaged   \n",
              "\n",
              "            visitId  visitNumber  visitStartTime   device.browser  \\\n",
              "0        1508198450            1      1508198450          Firefox   \n",
              "1        1508176307            6      1508176307           Chrome   \n",
              "2        1508201613            1      1508201613           Chrome   \n",
              "3        1508169851            1      1508169851           Chrome   \n",
              "4        1508190552            1      1508190552           Chrome   \n",
              "...             ...          ...             ...              ...   \n",
              "1708332  1483554750            1      1483554750           Chrome   \n",
              "1708333  1483543798            1      1483543798           Chrome   \n",
              "1708334  1483526434            1      1483526434  Android Webview   \n",
              "1708335  1483592857            1      1483592864           Chrome   \n",
              "1708336  1483574474            1      1483574474           Chrome   \n",
              "\n",
              "                 device.browserVersion             device.browserSize  ...  \\\n",
              "0        not available in demo dataset  not available in demo dataset  ...   \n",
              "1        not available in demo dataset  not available in demo dataset  ...   \n",
              "2        not available in demo dataset  not available in demo dataset  ...   \n",
              "3        not available in demo dataset  not available in demo dataset  ...   \n",
              "4        not available in demo dataset  not available in demo dataset  ...   \n",
              "...                                ...                            ...  ...   \n",
              "1708332  not available in demo dataset  not available in demo dataset  ...   \n",
              "1708333  not available in demo dataset  not available in demo dataset  ...   \n",
              "1708334  not available in demo dataset  not available in demo dataset  ...   \n",
              "1708335  not available in demo dataset  not available in demo dataset  ...   \n",
              "1708336  not available in demo dataset  not available in demo dataset  ...   \n",
              "\n",
              "        trafficSource.adwordsClickInfo.gclId  \\\n",
              "0                                        NaN   \n",
              "1                                        NaN   \n",
              "2                                        NaN   \n",
              "3                                        NaN   \n",
              "4                                        NaN   \n",
              "...                                      ...   \n",
              "1708332                                  NaN   \n",
              "1708333                                  NaN   \n",
              "1708334                                  NaN   \n",
              "1708335                                  NaN   \n",
              "1708336                                  NaN   \n",
              "\n",
              "        trafficSource.adwordsClickInfo.adNetworkType  \\\n",
              "0                                                NaN   \n",
              "1                                                NaN   \n",
              "2                                                NaN   \n",
              "3                                                NaN   \n",
              "4                                                NaN   \n",
              "...                                              ...   \n",
              "1708332                                          NaN   \n",
              "1708333                                          NaN   \n",
              "1708334                                          NaN   \n",
              "1708335                                          NaN   \n",
              "1708336                                          NaN   \n",
              "\n",
              "         trafficSource.adwordsClickInfo.isVideoAd trafficSource.campaignCode  \\\n",
              "0                                             NaN                        NaN   \n",
              "1                                             NaN                        NaN   \n",
              "2                                             NaN                        NaN   \n",
              "3                                             NaN                        NaN   \n",
              "4                                             NaN                        NaN   \n",
              "...                                           ...                        ...   \n",
              "1708332                                       NaN                        NaN   \n",
              "1708333                                       NaN                        NaN   \n",
              "1708334                                       NaN                        NaN   \n",
              "1708335                                       NaN                        NaN   \n",
              "1708336                                       NaN                        NaN   \n",
              "\n",
              "        customDimension.index customDimension.value  year        day week  \\\n",
              "0                           4                  EMEA  2017     Monday   42   \n",
              "1                           4         North America  2017     Monday   42   \n",
              "2                           4         North America  2017     Monday   42   \n",
              "3                           4                  EMEA  2017     Monday   42   \n",
              "4                           4       Central America  2017     Monday   42   \n",
              "...                       ...                   ...   ...        ...  ...   \n",
              "1708332                   NaN                   NaN  2017  Wednesday    1   \n",
              "1708333                   NaN                   NaN  2017  Wednesday    1   \n",
              "1708334                   NaN                   NaN  2017  Wednesday    1   \n",
              "1708335                     4                  APAC  2017  Wednesday    1   \n",
              "1708336                     4       Central America  2017  Wednesday    1   \n",
              "\n",
              "           month  \n",
              "0        October  \n",
              "1        October  \n",
              "2        October  \n",
              "3        October  \n",
              "4        October  \n",
              "...          ...  \n",
              "1708332  January  \n",
              "1708333  January  \n",
              "1708334  January  \n",
              "1708335  January  \n",
              "1708336  January  \n",
              "\n",
              "[1708337 rows x 64 columns]"
            ]
          },
          "metadata": {
            "tags": []
          },
          "execution_count": 18
        }
      ]
    },
    {
      "cell_type": "code",
      "metadata": {
        "id": "TFtyvVdwbwYG",
        "colab_type": "code",
        "colab": {}
      },
      "source": [
        "# before i fill the missing data, i will like to investigate the columns that have unique values. in my opinion these \n",
        "#these columns do not give use any useful information. to begin let see these columns"
      ],
      "execution_count": 0,
      "outputs": []
    },
    {
      "cell_type": "code",
      "metadata": {
        "id": "QFeQZMY3bwYJ",
        "colab_type": "code",
        "colab": {},
        "outputId": "7eafac93-1f55-43a9-ab62-5ec77877bd5c"
      },
      "source": [
        "unique_columns = [col for col in df_train.columns if df_train[col].nunique() == 1] #Columns with just one value\n",
        "\n",
        "# print these columns and the name of columns \n",
        "print(\"numbers of columns: \", len(unique_columns), \"columns with 1 value\")\n",
        "print(\"label of columns: \\n\", unique_columns)"
      ],
      "execution_count": 0,
      "outputs": [
        {
          "output_type": "stream",
          "text": [
            "numbers of columns:  25 columns with 1 value\n",
            "label of columns: \n",
            " ['socialEngagementType', 'device.browserVersion', 'device.browserSize', 'device.operatingSystemVersion', 'device.mobileDeviceBranding', 'device.mobileDeviceModel', 'device.mobileInputSelector', 'device.mobileDeviceInfo', 'device.mobileDeviceMarketingName', 'device.flashVersion', 'device.language', 'device.screenColors', 'device.screenResolution', 'geoNetwork.cityId', 'geoNetwork.latitude', 'geoNetwork.longitude', 'geoNetwork.networkLocation', 'totals.visits', 'totals.bounces', 'totals.newVisits', 'trafficSource.adwordsClickInfo.criteriaParameters', 'trafficSource.isTrueDirect', 'trafficSource.adwordsClickInfo.isVideoAd', 'trafficSource.campaignCode', 'customDimension.index']\n"
          ],
          "name": "stdout"
        }
      ]
    },
    {
      "cell_type": "code",
      "metadata": {
        "id": "JPGTDdXKbwYN",
        "colab_type": "code",
        "colab": {}
      },
      "source": [
        "#25 columns with 1 value, okay. lets see what is in these  columns before we decide if they are really useless or useless"
      ],
      "execution_count": 0,
      "outputs": []
    },
    {
      "cell_type": "code",
      "metadata": {
        "id": "ophRJyLKbwYR",
        "colab_type": "code",
        "colab": {}
      },
      "source": [
        "# i define a function to show the columns ans a sample of the data\n",
        "def see_data(data, data_type=object, limit=5): #seting the function with data,show 5 uniques if available \n",
        "    n = data.select_dtypes(include=data_type) #selecting the desired data type\n",
        "    for column in n.columns: #initializing the loop\n",
        "        print(\"______________________________________________________________\")\n",
        "        print(\"Name of column \", column, ': \\n', \"Uniques: \", data[column].unique()[:limit], \"\\n\",\n",
        "              \" | ## Total nulls: \", (round(data[column].isnull().sum() / len(data[column]) * 100,2)),\n",
        "              \" | ## Total unique values: \", df_train.nunique()[column]) #print the data and % of nulls)\n",
        "        print(\"_________________________________________________________\")\n",
        "        \n",
        "      "
      ],
      "execution_count": 0,
      "outputs": []
    },
    {
      "cell_type": "code",
      "metadata": {
        "id": "OQhjeAiwbwYV",
        "colab_type": "code",
        "colab": {},
        "outputId": "d93d1db3-e917-4d67-82e6-3403d1d198f5"
      },
      "source": [
        "#see_data(df_train)"
      ],
      "execution_count": 0,
      "outputs": [
        {
          "output_type": "stream",
          "text": [
            "______________________________________________________________\n",
            "Name of column  channelGrouping : \n",
            " Uniques:  ['Organic Search' 'Referral' 'Direct' 'Paid Search' 'Display'] \n",
            "  | ## Total nulls:  0.0  | ## Total unique values:  8\n",
            "_________________________________________________________\n",
            "______________________________________________________________\n",
            "Name of column  fullVisitorId : \n",
            " Uniques:  ['3162355547410993243' '8934116514970143966' '7992466427990357681'\n",
            " '9075655783635761930' '6960673291025684308'] \n",
            "  | ## Total nulls:  0.0  | ## Total unique values:  1323730\n",
            "_________________________________________________________\n",
            "______________________________________________________________\n",
            "Name of column  device.browser : \n",
            " Uniques:  ['Firefox' 'Chrome' 'Safari' 'UC Browser' 'Internet Explorer'] \n",
            "  | ## Total nulls:  0.0  | ## Total unique values:  129\n",
            "_________________________________________________________\n",
            "______________________________________________________________\n",
            "Name of column  device.operatingSystem : \n",
            " Uniques:  ['Windows' 'Chrome OS' 'Android' 'Macintosh' 'iOS'] \n",
            "  | ## Total nulls:  0.0  | ## Total unique values:  24\n",
            "_________________________________________________________\n",
            "______________________________________________________________\n",
            "Name of column  device.deviceCategory : \n",
            " Uniques:  ['desktop' 'mobile' 'tablet'] \n",
            "  | ## Total nulls:  0.0  | ## Total unique values:  3\n",
            "_________________________________________________________\n",
            "______________________________________________________________\n",
            "Name of column  geoNetwork.continent : \n",
            " Uniques:  ['Europe' 'Americas' 'Asia' 'Oceania' '(not set)'] \n",
            "  | ## Total nulls:  0.0  | ## Total unique values:  6\n",
            "_________________________________________________________\n",
            "______________________________________________________________\n",
            "Name of column  geoNetwork.subContinent : \n",
            " Uniques:  ['Western Europe' 'Northern America' 'Western Asia' 'Central America'\n",
            " 'Northern Europe'] \n",
            "  | ## Total nulls:  0.0  | ## Total unique values:  23\n",
            "_________________________________________________________\n",
            "______________________________________________________________\n",
            "Name of column  geoNetwork.country : \n",
            " Uniques:  ['Germany' 'United States' 'Turkey' 'Mexico' 'United Kingdom'] \n",
            "  | ## Total nulls:  0.0  | ## Total unique values:  228\n",
            "_________________________________________________________\n",
            "______________________________________________________________\n",
            "Name of column  geoNetwork.region : \n",
            " Uniques:  ['not available in demo dataset' 'California' 'England' 'Mexico City'\n",
            " 'Nevada'] \n",
            "  | ## Total nulls:  0.0  | ## Total unique values:  483\n",
            "_________________________________________________________\n",
            "______________________________________________________________\n",
            "Name of column  geoNetwork.metro : \n",
            " Uniques:  ['not available in demo dataset' 'San Francisco-Oakland-San Jose CA'\n",
            " 'London' '(not set)' 'JP_KANTO'] \n",
            "  | ## Total nulls:  0.0  | ## Total unique values:  123\n",
            "_________________________________________________________\n",
            "______________________________________________________________\n",
            "Name of column  geoNetwork.city : \n",
            " Uniques:  ['not available in demo dataset' 'Cupertino' 'San Francisco' 'London'\n",
            " 'Mexico City'] \n",
            "  | ## Total nulls:  0.0  | ## Total unique values:  956\n",
            "_________________________________________________________\n",
            "______________________________________________________________\n",
            "Name of column  geoNetwork.networkDomain : \n",
            " Uniques:  ['(not set)' 'windjammercable.net' 'unknown.unknown'\n",
            " 'prod-infinitum.com.mx' 'fullrate.ninja'] \n",
            "  | ## Total nulls:  0.0  | ## Total unique values:  41982\n",
            "_________________________________________________________\n",
            "______________________________________________________________\n",
            "Name of column  totals.visits : \n",
            " Uniques:  ['1'] \n",
            "  | ## Total nulls:  0.0  | ## Total unique values:  1\n",
            "_________________________________________________________\n",
            "______________________________________________________________\n",
            "Name of column  totals.hits : \n",
            " Uniques:  ['1' '2' '3' '4' '5'] \n",
            "  | ## Total nulls:  0.0  | ## Total unique values:  297\n",
            "_________________________________________________________\n",
            "______________________________________________________________\n",
            "Name of column  totals.pageviews : \n",
            " Uniques:  ['1' '2' '3' '4' '5'] \n",
            "  | ## Total nulls:  0.01  | ## Total unique values:  230\n",
            "_________________________________________________________\n",
            "______________________________________________________________\n",
            "Name of column  totals.bounces : \n",
            " Uniques:  ['1' nan] \n",
            "  | ## Total nulls:  48.98  | ## Total unique values:  1\n",
            "_________________________________________________________\n",
            "______________________________________________________________\n",
            "Name of column  totals.newVisits : \n",
            " Uniques:  ['1' nan] \n",
            "  | ## Total nulls:  23.47  | ## Total unique values:  1\n",
            "_________________________________________________________\n",
            "______________________________________________________________\n",
            "Name of column  totals.sessionQualityDim : \n",
            " Uniques:  ['1' '2' '3' '4' '6'] \n",
            "  | ## Total nulls:  48.89  | ## Total unique values:  100\n",
            "_________________________________________________________\n",
            "______________________________________________________________\n",
            "Name of column  totals.timeOnSite : \n",
            " Uniques:  [nan '28' '38' '1' '52'] \n",
            "  | ## Total nulls:  51.18  | ## Total unique values:  4774\n",
            "_________________________________________________________\n",
            "______________________________________________________________\n",
            "Name of column  totals.transactions : \n",
            " Uniques:  [nan '1' '2' '3' '4'] \n",
            "  | ## Total nulls:  98.91  | ## Total unique values:  13\n",
            "_________________________________________________________\n",
            "______________________________________________________________\n",
            "Name of column  totals.transactionRevenue : \n",
            " Uniques:  [nan '15190000' '8000000' '57300000' '18230000'] \n",
            "  | ## Total nulls:  98.92  | ## Total unique values:  7251\n",
            "_________________________________________________________\n",
            "______________________________________________________________\n",
            "Name of column  totals.totalTransactionRevenue : \n",
            " Uniques:  [nan '17190000' '13000000' '65300000' '25230000'] \n",
            "  | ## Total nulls:  98.92  | ## Total unique values:  8506\n",
            "_________________________________________________________\n",
            "______________________________________________________________\n",
            "Name of column  trafficSource.source : \n",
            " Uniques:  ['google' 'sites.google.com' '(direct)' 'analytics.google.com'\n",
            " 'blog.golang.org'] \n",
            "  | ## Total nulls:  0.0  | ## Total unique values:  345\n",
            "_________________________________________________________\n",
            "______________________________________________________________\n",
            "Name of column  trafficSource.medium : \n",
            " Uniques:  ['organic' 'referral' '(none)' 'cpc' 'affiliate'] \n",
            "  | ## Total nulls:  0.0  | ## Total unique values:  7\n",
            "_________________________________________________________\n",
            "______________________________________________________________\n",
            "Name of column  trafficSource.keyword : \n",
            " Uniques:  ['water bottle' nan '(not provided)' '(Remarketing/Content targeting)'\n",
            " '6qEhsCssdK0z36ri'] \n",
            "  | ## Total nulls:  61.63  | ## Total unique values:  4546\n",
            "_________________________________________________________\n",
            "______________________________________________________________\n",
            "Name of column  trafficSource.isTrueDirect : \n",
            " Uniques:  [nan True] \n",
            "  | ## Total nulls:  68.71  | ## Total unique values:  1\n",
            "_________________________________________________________\n",
            "______________________________________________________________\n",
            "Name of column  trafficSource.adwordsClickInfo.adNetworkType : \n",
            " Uniques:  [nan 'Google Search' 'Content' 'Search partners'] \n",
            "  | ## Total nulls:  95.59  | ## Total unique values:  3\n",
            "_________________________________________________________\n",
            "______________________________________________________________\n",
            "Name of column  trafficSource.adwordsClickInfo.isVideoAd : \n",
            " Uniques:  [nan False] \n",
            "  | ## Total nulls:  95.59  | ## Total unique values:  1\n",
            "_________________________________________________________\n",
            "______________________________________________________________\n",
            "Name of column  customDimension.value : \n",
            " Uniques:  ['EMEA' 'North America' 'Central America' nan 'APAC'] \n",
            "  | ## Total nulls:  19.51  | ## Total unique values:  5\n",
            "_________________________________________________________\n",
            "______________________________________________________________\n",
            "Name of column  day : \n",
            " Uniques:  ['Monday' 'Friday' 'Thursday' 'Sunday' 'Tuesday'] \n",
            "  | ## Total nulls:  0.0  | ## Total unique values:  7\n",
            "_________________________________________________________\n",
            "______________________________________________________________\n",
            "Name of column  month : \n",
            " Uniques:  ['October' 'September' 'November' 'January' 'June'] \n",
            "  | ## Total nulls:  0.0  | ## Total unique values:  12\n",
            "_________________________________________________________\n"
          ],
          "name": "stdout"
        }
      ]
    },
    {
      "cell_type": "markdown",
      "metadata": {
        "id": "YFvcpTMobwYa",
        "colab_type": "text"
      },
      "source": [
        "These are column are either not available in our dataset or the values are very unique\n",
        " - Name of column  socialEngagementType : \n",
        " Uniques:  ['Not Socially Engaged'] \n",
        " \n",
        "- device.browserVersion : \n",
        " Uniques:  ['not available in demo dataset']\n",
        "\n",
        "- device.operatingSystemVersion : \n",
        " Uniques:  ['not available in demo dataset']\n",
        " \n",
        "- Name of column  device.mobileDeviceBranding : \n",
        " Uniques:  ['not available in demo dataset']\n",
        " \n",
        "- Name of column  device.mobileDeviceBranding : \n",
        " Uniques:  ['not available in demo dataset']\n",
        " \n",
        "- Name of column  device.mobileDeviceModel : \n",
        " Uniques:  ['not available in demo dataset']\n",
        " \n",
        "- Name of column  device.mobileInputSelector : \n",
        " Uniques:  ['not available in demo dataset'] \n",
        " \n",
        "- Name of column  device.mobileDeviceInfo : \n",
        " Uniques:  ['not available in demo dataset'] \n",
        "\n",
        "- Name of column  device.mobileDeviceMarketingName : \n",
        " Uniques:  ['not available in demo dataset']\n",
        " \n",
        "- Name of column  device.flashVersion : \n",
        " Uniques:  ['not available in demo dataset']  \n",
        " \n",
        "- Name of column  device.language : \n",
        " Uniques:  ['not available in demo dataset'] \n",
        "\n",
        "- Name of column  device.screenColors : \n",
        " Uniques:  ['not available in demo dataset']\n",
        "\n",
        "- Name of column  device.screenResolution : \n",
        " Uniques:  ['not available in demo dataset']\n",
        " \n",
        "- Name of column  geoNetwork.cityId : \n",
        " Uniques:  ['not available in demo dataset'] \n",
        " \n",
        "- Name of column  geoNetwork.latitude : \n",
        " Uniques:  ['not available in demo dataset']  \n",
        "\n",
        "- Name of column  geoNetwork.longitude : \n",
        " Uniques:  ['not available in demo dataset'] \n",
        "\n",
        "- Name of column  geoNetwork.networkLocation : \n",
        " Uniques:  ['not available in demo dataset']\n",
        "\n",
        "- Name of column  totals.visits : \n",
        " Uniques:  ['1'] \n",
        " \n",
        "- Name of column  trafficSource.adwordsClickInfo.criteriaParameters : \n",
        " Uniques:  ['not available in demo dataset'] \n",
        " \n",
        " \n",
        " \n",
        "'''"
      ]
    },
    {
      "cell_type": "markdown",
      "metadata": {
        "id": "H63iownbbwYb",
        "colab_type": "text"
      },
      "source": [
        "'''\n",
        "other column that contain values that might not be useful are:\n",
        "- Name of column  trafficSource.adwordsClickInfo.gclId : \n",
        " Uniques:  [nan\n",
        " 'Cj0KCQjwsZHPBRClARIsAC-VMPBHdNF2oMOgh6Xp6YhjXWSk11sDu3eCo4De_u6l4xafqgrPVPSGYdkaArkiEALw_wcB'\n",
        " 'CODVoMjJ9tYCFUIvgQod_dsKEA'\n",
        " 'Cj0KCQjwsZHPBRClARIsAC-VMPA4CVJtDhu1lYkB0AR1hje1goUMHQZNJMrsSWD57pLnv1KE_L7pCEcaAunKEALw_wcB'\n",
        " 'Cj0KCQjwsZHPBRClARIsAC-VMPDlLD6kS4tmqFGZjMUqyerwe0WDaULaAKNkj-gwuvPnLSPRyf9TN7IaArICEALw_wcB'] \n",
        "- Name of column  trafficSource.adwordsClickInfo.page : \n",
        " Uniques:  [nan '1' '3' '2' '5']\n",
        "- Name of column  trafficSource.referralPath : \n",
        " Uniques:  [nan '/a/google.com/transportation/mtv-services/bikes/bike2workmay2016'\n",
        " '/offer/2145' '/a/google.com/nest-vision/dropcam-field-tester-program'\n",
        " '/analytics/web/'] \n",
        "- Name of column  trafficSource.campaign : \n",
        " Uniques:  ['(not set)' '\"google + redesign/Accessories March 17\" All Users'\n",
        " 'AW - Dynamic Search Ads Whole Site'\n",
        " '1000557 | GA | US | en | Hybrid | GDN Text+Banner | AS'\n",
        " 'Data Share Promo'] \n",
        "- Name of column  trafficSource.adwordsClickInfo.slot : \n",
        " Uniques:  [nan 'Top' 'RHS' 'Google Display Network']\n",
        " \n",
        "- Name of column  trafficSource.adContent : \n",
        " Uniques:  [nan 'Placement Accessories 300 x 250' 'Google Merchandise Store'\n",
        " 'Bags 300x250' 'Display Ad created 3/11/14']  \n",
        "- Name of column  trafficSource.campaignCode : \n",
        " Uniques:  [nan '11251kjhkvahf']   \n",
        "\n",
        "'''"
      ]
    },
    {
      "cell_type": "markdown",
      "metadata": {
        "id": "sEUTFizHbwYb",
        "colab_type": "text"
      },
      "source": [
        "After examining the values, i am choosing to drops the following:"
      ]
    },
    {
      "cell_type": "code",
      "metadata": {
        "id": "KmjEUPslbwYc",
        "colab_type": "code",
        "colab": {}
      },
      "source": [
        "drop_col_list = ['socialEngagementType', 'device.browserVersion', 'device.browserSize', 'device.operatingSystemVersion',\n",
        "                 'device.mobileDeviceBranding', 'device.mobileDeviceModel', 'device.mobileInputSelector', \n",
        "                 'device.mobileDeviceInfo', 'device.mobileDeviceMarketingName', 'device.flashVersion', 'device.language', \n",
        "                 'device.screenColors', 'device.screenResolution', 'geoNetwork.cityId', 'geoNetwork.latitude', \n",
        "                 'geoNetwork.longitude', 'geoNetwork.networkLocation', 'trafficSource.campaign', 'trafficSource.referralPath', \n",
        "                 'trafficSource.adwordsClickInfo.page','trafficSource.adwordsClickInfo.slot', \n",
        "                 'trafficSource.adwordsClickInfo.criteriaParameters', 'trafficSource.adContent', 'trafficSource.adwordsClickInfo.gclId', \n",
        "                 'trafficSource.campaignCode', 'customDimension.index']"
      ],
      "execution_count": 0,
      "outputs": []
    },
    {
      "cell_type": "code",
      "metadata": {
        "id": "wft7A3D9bwYf",
        "colab_type": "code",
        "colab": {}
      },
      "source": [
        "df_train.drop(drop_col_list, axis=1, inplace=True)  #to drop them"
      ],
      "execution_count": 0,
      "outputs": []
    },
    {
      "cell_type": "code",
      "metadata": {
        "id": "TW2x_9-dbwYj",
        "colab_type": "code",
        "colab": {},
        "outputId": "cde5356a-8b74-42c1-bdaf-edac6bb9681b"
      },
      "source": [
        "df_train.head()"
      ],
      "execution_count": 0,
      "outputs": [
        {
          "output_type": "execute_result",
          "data": {
            "text/html": [
              "<div>\n",
              "<style scoped>\n",
              "    .dataframe tbody tr th:only-of-type {\n",
              "        vertical-align: middle;\n",
              "    }\n",
              "\n",
              "    .dataframe tbody tr th {\n",
              "        vertical-align: top;\n",
              "    }\n",
              "\n",
              "    .dataframe thead th {\n",
              "        text-align: right;\n",
              "    }\n",
              "</style>\n",
              "<table border=\"1\" class=\"dataframe\">\n",
              "  <thead>\n",
              "    <tr style=\"text-align: right;\">\n",
              "      <th></th>\n",
              "      <th>channelGrouping</th>\n",
              "      <th>date</th>\n",
              "      <th>fullVisitorId</th>\n",
              "      <th>visitId</th>\n",
              "      <th>visitNumber</th>\n",
              "      <th>visitStartTime</th>\n",
              "      <th>device.browser</th>\n",
              "      <th>device.operatingSystem</th>\n",
              "      <th>device.isMobile</th>\n",
              "      <th>device.deviceCategory</th>\n",
              "      <th>...</th>\n",
              "      <th>trafficSource.medium</th>\n",
              "      <th>trafficSource.keyword</th>\n",
              "      <th>trafficSource.isTrueDirect</th>\n",
              "      <th>trafficSource.adwordsClickInfo.adNetworkType</th>\n",
              "      <th>trafficSource.adwordsClickInfo.isVideoAd</th>\n",
              "      <th>customDimension.value</th>\n",
              "      <th>year</th>\n",
              "      <th>day</th>\n",
              "      <th>week</th>\n",
              "      <th>month</th>\n",
              "    </tr>\n",
              "  </thead>\n",
              "  <tbody>\n",
              "    <tr>\n",
              "      <th>0</th>\n",
              "      <td>Organic Search</td>\n",
              "      <td>2017-10-16</td>\n",
              "      <td>3162355547410993243</td>\n",
              "      <td>1508198450</td>\n",
              "      <td>1</td>\n",
              "      <td>1508198450</td>\n",
              "      <td>Firefox</td>\n",
              "      <td>Windows</td>\n",
              "      <td>False</td>\n",
              "      <td>desktop</td>\n",
              "      <td>...</td>\n",
              "      <td>organic</td>\n",
              "      <td>water bottle</td>\n",
              "      <td>NaN</td>\n",
              "      <td>NaN</td>\n",
              "      <td>NaN</td>\n",
              "      <td>EMEA</td>\n",
              "      <td>2017</td>\n",
              "      <td>Monday</td>\n",
              "      <td>42</td>\n",
              "      <td>October</td>\n",
              "    </tr>\n",
              "    <tr>\n",
              "      <th>1</th>\n",
              "      <td>Referral</td>\n",
              "      <td>2017-10-16</td>\n",
              "      <td>8934116514970143966</td>\n",
              "      <td>1508176307</td>\n",
              "      <td>6</td>\n",
              "      <td>1508176307</td>\n",
              "      <td>Chrome</td>\n",
              "      <td>Chrome OS</td>\n",
              "      <td>False</td>\n",
              "      <td>desktop</td>\n",
              "      <td>...</td>\n",
              "      <td>referral</td>\n",
              "      <td>NaN</td>\n",
              "      <td>NaN</td>\n",
              "      <td>NaN</td>\n",
              "      <td>NaN</td>\n",
              "      <td>North America</td>\n",
              "      <td>2017</td>\n",
              "      <td>Monday</td>\n",
              "      <td>42</td>\n",
              "      <td>October</td>\n",
              "    </tr>\n",
              "    <tr>\n",
              "      <th>2</th>\n",
              "      <td>Direct</td>\n",
              "      <td>2017-10-16</td>\n",
              "      <td>7992466427990357681</td>\n",
              "      <td>1508201613</td>\n",
              "      <td>1</td>\n",
              "      <td>1508201613</td>\n",
              "      <td>Chrome</td>\n",
              "      <td>Android</td>\n",
              "      <td>True</td>\n",
              "      <td>mobile</td>\n",
              "      <td>...</td>\n",
              "      <td>(none)</td>\n",
              "      <td>NaN</td>\n",
              "      <td>True</td>\n",
              "      <td>NaN</td>\n",
              "      <td>NaN</td>\n",
              "      <td>North America</td>\n",
              "      <td>2017</td>\n",
              "      <td>Monday</td>\n",
              "      <td>42</td>\n",
              "      <td>October</td>\n",
              "    </tr>\n",
              "    <tr>\n",
              "      <th>3</th>\n",
              "      <td>Organic Search</td>\n",
              "      <td>2017-10-16</td>\n",
              "      <td>9075655783635761930</td>\n",
              "      <td>1508169851</td>\n",
              "      <td>1</td>\n",
              "      <td>1508169851</td>\n",
              "      <td>Chrome</td>\n",
              "      <td>Windows</td>\n",
              "      <td>False</td>\n",
              "      <td>desktop</td>\n",
              "      <td>...</td>\n",
              "      <td>organic</td>\n",
              "      <td>(not provided)</td>\n",
              "      <td>NaN</td>\n",
              "      <td>NaN</td>\n",
              "      <td>NaN</td>\n",
              "      <td>EMEA</td>\n",
              "      <td>2017</td>\n",
              "      <td>Monday</td>\n",
              "      <td>42</td>\n",
              "      <td>October</td>\n",
              "    </tr>\n",
              "    <tr>\n",
              "      <th>4</th>\n",
              "      <td>Organic Search</td>\n",
              "      <td>2017-10-16</td>\n",
              "      <td>6960673291025684308</td>\n",
              "      <td>1508190552</td>\n",
              "      <td>1</td>\n",
              "      <td>1508190552</td>\n",
              "      <td>Chrome</td>\n",
              "      <td>Windows</td>\n",
              "      <td>False</td>\n",
              "      <td>desktop</td>\n",
              "      <td>...</td>\n",
              "      <td>organic</td>\n",
              "      <td>(not provided)</td>\n",
              "      <td>NaN</td>\n",
              "      <td>NaN</td>\n",
              "      <td>NaN</td>\n",
              "      <td>Central America</td>\n",
              "      <td>2017</td>\n",
              "      <td>Monday</td>\n",
              "      <td>42</td>\n",
              "      <td>October</td>\n",
              "    </tr>\n",
              "  </tbody>\n",
              "</table>\n",
              "<p>5 rows × 38 columns</p>\n",
              "</div>"
            ],
            "text/plain": [
              "  channelGrouping       date        fullVisitorId     visitId  visitNumber  \\\n",
              "0  Organic Search 2017-10-16  3162355547410993243  1508198450            1   \n",
              "1        Referral 2017-10-16  8934116514970143966  1508176307            6   \n",
              "2          Direct 2017-10-16  7992466427990357681  1508201613            1   \n",
              "3  Organic Search 2017-10-16  9075655783635761930  1508169851            1   \n",
              "4  Organic Search 2017-10-16  6960673291025684308  1508190552            1   \n",
              "\n",
              "   visitStartTime device.browser device.operatingSystem  device.isMobile  \\\n",
              "0      1508198450        Firefox                Windows            False   \n",
              "1      1508176307         Chrome              Chrome OS            False   \n",
              "2      1508201613         Chrome                Android             True   \n",
              "3      1508169851         Chrome                Windows            False   \n",
              "4      1508190552         Chrome                Windows            False   \n",
              "\n",
              "  device.deviceCategory  ... trafficSource.medium trafficSource.keyword  \\\n",
              "0               desktop  ...              organic          water bottle   \n",
              "1               desktop  ...             referral                   NaN   \n",
              "2                mobile  ...               (none)                   NaN   \n",
              "3               desktop  ...              organic        (not provided)   \n",
              "4               desktop  ...              organic        (not provided)   \n",
              "\n",
              "  trafficSource.isTrueDirect trafficSource.adwordsClickInfo.adNetworkType  \\\n",
              "0                        NaN                                          NaN   \n",
              "1                        NaN                                          NaN   \n",
              "2                       True                                          NaN   \n",
              "3                        NaN                                          NaN   \n",
              "4                        NaN                                          NaN   \n",
              "\n",
              "  trafficSource.adwordsClickInfo.isVideoAd customDimension.value  year  \\\n",
              "0                                      NaN                  EMEA  2017   \n",
              "1                                      NaN         North America  2017   \n",
              "2                                      NaN         North America  2017   \n",
              "3                                      NaN                  EMEA  2017   \n",
              "4                                      NaN       Central America  2017   \n",
              "\n",
              "      day week    month  \n",
              "0  Monday   42  October  \n",
              "1  Monday   42  October  \n",
              "2  Monday   42  October  \n",
              "3  Monday   42  October  \n",
              "4  Monday   42  October  \n",
              "\n",
              "[5 rows x 38 columns]"
            ]
          },
          "metadata": {
            "tags": []
          },
          "execution_count": 32
        }
      ]
    },
    {
      "cell_type": "markdown",
      "metadata": {
        "id": "CVELkt2GbwYo",
        "colab_type": "text"
      },
      "source": [
        "Now we have 38 columns "
      ]
    },
    {
      "cell_type": "markdown",
      "metadata": {
        "id": "tr5OKnOabwYp",
        "colab_type": "text"
      },
      "source": [
        "lets see the unique value in the remaining dataset"
      ]
    },
    {
      "cell_type": "code",
      "metadata": {
        "id": "HWgsQ9mwbwYq",
        "colab_type": "code",
        "colab": {},
        "outputId": "ee3817e2-a167-4fdf-987d-f4acb727e69d"
      },
      "source": [
        "df_train.nunique()"
      ],
      "execution_count": 0,
      "outputs": [
        {
          "output_type": "execute_result",
          "data": {
            "text/plain": [
              "channelGrouping                                       8\n",
              "date                                                638\n",
              "fullVisitorId                                   1323730\n",
              "visitId                                         1665802\n",
              "visitNumber                                         457\n",
              "visitStartTime                                  1667423\n",
              "device.browser                                      129\n",
              "device.operatingSystem                               24\n",
              "device.isMobile                                       2\n",
              "device.deviceCategory                                 3\n",
              "geoNetwork.continent                                  6\n",
              "geoNetwork.subContinent                              23\n",
              "geoNetwork.country                                  228\n",
              "geoNetwork.region                                   483\n",
              "geoNetwork.metro                                    123\n",
              "geoNetwork.city                                     956\n",
              "geoNetwork.networkDomain                          41982\n",
              "totals.visits                                         1\n",
              "totals.hits                                         297\n",
              "totals.pageviews                                    230\n",
              "totals.bounces                                        1\n",
              "totals.newVisits                                      1\n",
              "totals.sessionQualityDim                            100\n",
              "totals.timeOnSite                                  4774\n",
              "totals.transactions                                  13\n",
              "totals.transactionRevenue                          7251\n",
              "totals.totalTransactionRevenue                     8506\n",
              "trafficSource.source                                345\n",
              "trafficSource.medium                                  7\n",
              "trafficSource.keyword                              4546\n",
              "trafficSource.isTrueDirect                            1\n",
              "trafficSource.adwordsClickInfo.adNetworkType          3\n",
              "trafficSource.adwordsClickInfo.isVideoAd              1\n",
              "customDimension.value                                 5\n",
              "year                                                  3\n",
              "day                                                   7\n",
              "week                                                 52\n",
              "month                                                12\n",
              "dtype: int64"
            ]
          },
          "metadata": {
            "tags": []
          },
          "execution_count": 42
        }
      ]
    },
    {
      "cell_type": "markdown",
      "metadata": {
        "id": "2gbRxzhsbwYv",
        "colab_type": "text"
      },
      "source": [
        "These have a unique value, but i feel they might be useful\n",
        "- totals.visits\n",
        "- totals.bounces\n",
        "- totals.newVisits\n",
        "- trafficSource.isTrueDirect\n",
        "- trafficSource.adwordsClickInfo.isVideoAd"
      ]
    },
    {
      "cell_type": "markdown",
      "metadata": {
        "id": "R3AtZSGQbwYw",
        "colab_type": "text"
      },
      "source": [
        "Now we start cleaning and filling missing data for the remaining dataset"
      ]
    },
    {
      "cell_type": "code",
      "metadata": {
        "id": "i6j_sTLfbwYy",
        "colab_type": "code",
        "colab": {},
        "outputId": "364728a9-94ae-4f75-d296-27a364ecbb94"
      },
      "source": [
        "#to check our data type again\n",
        "df_train.info()"
      ],
      "execution_count": 0,
      "outputs": [
        {
          "output_type": "stream",
          "text": [
            "<class 'pandas.core.frame.DataFrame'>\n",
            "RangeIndex: 1708337 entries, 0 to 1708336\n",
            "Data columns (total 38 columns):\n",
            " #   Column                                        Dtype         \n",
            "---  ------                                        -----         \n",
            " 0   channelGrouping                               object        \n",
            " 1   date                                          datetime64[ns]\n",
            " 2   fullVisitorId                                 object        \n",
            " 3   visitId                                       int64         \n",
            " 4   visitNumber                                   int64         \n",
            " 5   visitStartTime                                int64         \n",
            " 6   device.browser                                object        \n",
            " 7   device.operatingSystem                        object        \n",
            " 8   device.isMobile                               bool          \n",
            " 9   device.deviceCategory                         object        \n",
            " 10  geoNetwork.continent                          object        \n",
            " 11  geoNetwork.subContinent                       object        \n",
            " 12  geoNetwork.country                            object        \n",
            " 13  geoNetwork.region                             object        \n",
            " 14  geoNetwork.metro                              object        \n",
            " 15  geoNetwork.city                               object        \n",
            " 16  geoNetwork.networkDomain                      object        \n",
            " 17  totals.visits                                 object        \n",
            " 18  totals.hits                                   object        \n",
            " 19  totals.pageviews                              object        \n",
            " 20  totals.bounces                                object        \n",
            " 21  totals.newVisits                              object        \n",
            " 22  totals.sessionQualityDim                      object        \n",
            " 23  totals.timeOnSite                             object        \n",
            " 24  totals.transactions                           object        \n",
            " 25  totals.transactionRevenue                     object        \n",
            " 26  totals.totalTransactionRevenue                object        \n",
            " 27  trafficSource.source                          object        \n",
            " 28  trafficSource.medium                          object        \n",
            " 29  trafficSource.keyword                         object        \n",
            " 30  trafficSource.isTrueDirect                    object        \n",
            " 31  trafficSource.adwordsClickInfo.adNetworkType  object        \n",
            " 32  trafficSource.adwordsClickInfo.isVideoAd      object        \n",
            " 33  customDimension.value                         object        \n",
            " 34  year                                          int64         \n",
            " 35  day                                           object        \n",
            " 36  week                                          int64         \n",
            " 37  month                                         object        \n",
            "dtypes: bool(1), datetime64[ns](1), int64(5), object(31)\n",
            "memory usage: 483.9+ MB\n"
          ],
          "name": "stdout"
        }
      ]
    },
    {
      "cell_type": "code",
      "metadata": {
        "id": "A15Vq_7gbwY0",
        "colab_type": "code",
        "colab": {}
      },
      "source": [
        "#from the previous analysis, we see that columns number_value columns are in string. we need to convert them to numeric value\n",
        "# for our analysis and predictions."
      ],
      "execution_count": 0,
      "outputs": []
    },
    {
      "cell_type": "code",
      "metadata": {
        "id": "vxDM4jtZbwY3",
        "colab_type": "code",
        "colab": {}
      },
      "source": [
        "these columns are objects. \n",
        "totals.visits                                 object        \n",
        "totals.hits                                   object        \n",
        "totals.pageviews                              object        \n",
        "totals.bounces                                object        \n",
        "totals.newVisits                              object        \n",
        "totals.sessionQualityDim                      object        \n",
        "totals.timeOnSite                             object        \n",
        "totals.transactions                           object        \n",
        "totals.transactionRevenue                     object        \n",
        "totals.totalTransactionRevenue                object   \n",
        "\n"
      ],
      "execution_count": 0,
      "outputs": []
    },
    {
      "cell_type": "code",
      "metadata": {
        "id": "Cg0smCe4bwY7",
        "colab_type": "code",
        "colab": {}
      },
      "source": [
        "#but lets fill the nan values \n"
      ],
      "execution_count": 0,
      "outputs": []
    },
    {
      "cell_type": "code",
      "metadata": {
        "id": "C_HG3mffbwY-",
        "colab_type": "code",
        "colab": {}
      },
      "source": [
        "# I cannot inference on totals.sessionQualityDim,totals.timeOnSite while totals.transactions and totals.totalTransactionRevenue\n",
        "# can be infered from totals.transactionRevenue\n",
        "\n",
        "df_train['totals.pageviews'].fillna(1, inplace=True) #filling NA's with 1(since least for a visit to the site means 1 page seen)\n",
        "df_train['totals.newVisits'].fillna(0, inplace=True) #filling NA's with 0(0 is suitable for Nan here)\n",
        "df_train['totals.bounces'].fillna(0, inplace=True)   #filling NA's with 0(0 is suitable for Nan here)\n",
        "df_train[\"totals.transactionRevenue\"] = df_train[\"totals.transactionRevenue\"].fillna(0.0).astype(float) #filling NA with zero\n"
      ],
      "execution_count": 0,
      "outputs": []
    },
    {
      "cell_type": "code",
      "metadata": {
        "id": "prDQ6Mm_bwZA",
        "colab_type": "code",
        "colab": {}
      },
      "source": [
        "#To convert\n",
        "\n",
        "df_train['totals.pageviews'] = df_train['totals.pageviews'].astype(int) # setting numerical column as integer\n",
        "df_train['totals.newVisits'] = df_train['totals.newVisits'].astype(int) # setting numerical column as integer\n",
        "df_train['totals.bounces'] = df_train['totals.bounces'].astype(int)  # setting numerical column as integer\n",
        "df_train[\"totals.hits\"] = df_train[\"totals.hits\"].astype(float) # setting numerical to float\n",
        "df_train['totals.visits'] = df_train['totals.visits'].astype(int) # seting as int"
      ],
      "execution_count": 0,
      "outputs": []
    },
    {
      "cell_type": "code",
      "metadata": {
        "id": "c1YoMrCabwZD",
        "colab_type": "code",
        "colab": {},
        "outputId": "87cd081a-5fe7-4845-b297-8182c365c04f"
      },
      "source": [
        "#let recheck the data\n",
        "values_missing(df_train)"
      ],
      "execution_count": 0,
      "outputs": [
        {
          "output_type": "stream",
          "text": [
            "Total and percent of missing values: \n",
            "                                                Total    Percent\n",
            "totals.totalTransactionRevenue                1689823  98.916256\n",
            "totals.transactions                           1689778  98.913622\n",
            "trafficSource.adwordsClickInfo.isVideoAd      1633063  95.593727\n",
            "trafficSource.adwordsClickInfo.adNetworkType  1633063  95.593727\n",
            "trafficSource.isTrueDirect                    1173819  68.711209\n",
            "trafficSource.keyword                         1052780  61.626014\n",
            "totals.timeOnSite                              874294  51.178076\n",
            "totals.sessionQualityDim                       835274  48.893983\n",
            "customDimension.value                          333235  19.506397\n"
          ],
          "name": "stdout"
        }
      ]
    },
    {
      "cell_type": "markdown",
      "metadata": {
        "id": "CXZiCLXTbwZH",
        "colab_type": "text"
      },
      "source": [
        "I will leave them for now and revisit them if need be."
      ]
    },
    {
      "cell_type": "markdown",
      "metadata": {
        "id": "vM0N6P3mbwZH",
        "colab_type": "text"
      },
      "source": [
        "##### Now that we have cleaned up our dataset , we can now start with getting some insight.\n",
        "#### Let explore the companies sales against other variable."
      ]
    },
    {
      "cell_type": "code",
      "metadata": {
        "id": "5j8KbgpWbwZH",
        "colab_type": "code",
        "colab": {},
        "outputId": "c69f072e-6da8-4c76-8c80-cce8f00dc1af"
      },
      "source": [
        "print(\"Transaction Revenue Mean Value: \",df_train[df_train['totals.transactionRevenue'] > 0][\"totals.transactionRevenue\"].mean())"
      ],
      "execution_count": 0,
      "outputs": [
        {
          "output_type": "stream",
          "text": [
            "Transaction Revenue Mean Value:  125113156.53019337\n"
          ],
          "name": "stdout"
        }
      ]
    },
    {
      "cell_type": "markdown",
      "metadata": {
        "id": "0o3NI4--bwZJ",
        "colab_type": "text"
      },
      "source": [
        "Transaction Revenue Mean Value:  125113156.53019337. I had to look at the discription of the totals.transactionRevenue from\n",
        "the challange.As for the amount, it is simply in USD * 1000000 (to maintain precision), so the mean revenue is 125113156/1000000 or $125.11 (among those who ended up buying something). Of course if i include all users, these numbers fell drastically"
      ]
    },
    {
      "cell_type": "code",
      "metadata": {
        "id": "NBM0OjClbwZK",
        "colab_type": "code",
        "colab": {},
        "outputId": "02224f12-2a21-4904-c670-2c06b83c8fa5"
      },
      "source": [
        "print(\"Transaction Revenue Min Value: \", \n",
        "      (df_train[df_train['totals.transactionRevenue'] > 0][\"totals.transactionRevenue\"].min())/1000000) # printing the min value\n",
        "print(\"Transaction Revenue Mean Value: \", \n",
        "      (df_train[df_train['totals.transactionRevenue'] > 0][\"totals.transactionRevenue\"].mean())/1000000) # mean value\n",
        "print(\"Transaction Revenue Median Value: \", \n",
        "      (df_train[df_train['totals.transactionRevenue'] > 0][\"totals.transactionRevenue\"].median())/1000000) # median value\n",
        "print(\"Transaction Revenue Max Value: \", \n",
        "      (df_train[df_train['totals.transactionRevenue'] > 0][\"totals.transactionRevenue\"].max())/1000000) # the max value"
      ],
      "execution_count": 0,
      "outputs": [
        {
          "output_type": "stream",
          "text": [
            "Transaction Revenue Min Value:  0.01\n",
            "Transaction Revenue Mean Value:  125.11315653019338\n",
            "Transaction Revenue Median Value:  46.06\n",
            "Transaction Revenue Max Value:  23129.5\n"
          ],
          "name": "stdout"
        }
      ]
    },
    {
      "cell_type": "markdown",
      "metadata": {
        "id": "dQVw4C5sbwZM",
        "colab_type": "text"
      },
      "source": [
        "let me include all users."
      ]
    },
    {
      "cell_type": "code",
      "metadata": {
        "id": "ZZ_dcyb7bwZM",
        "colab_type": "code",
        "colab": {},
        "outputId": "23cd291f-987f-484e-aa2e-8c1bdabb9ed3"
      },
      "source": [
        "print(\"Transaction Revenue Mean Value: \", (df_train['totals.transactionRevenue'].mean()/1000000))\n",
        "print(\"Transaction Revenue median Value: \", (df_train['totals.transactionRevenue'].median()/1000000))\n",
        "print(\"Transaction Revenue Min Value: \", (df_train['totals.transactionRevenue'].min()/1000000))\n",
        "print(\"Transaction Revenue max Value: \", (df_train['totals.transactionRevenue'].max()/1000000))"
      ],
      "execution_count": 0,
      "outputs": [
        {
          "output_type": "stream",
          "text": [
            "Transaction Revenue Mean Value:  1.3559063463473542\n",
            "Transaction Revenue median Value:  0.0\n",
            "Transaction Revenue Min Value:  0.0\n",
            "Transaction Revenue max Value:  23129.5\n"
          ],
          "name": "stdout"
        }
      ]
    },
    {
      "cell_type": "markdown",
      "metadata": {
        "id": "gIlrwdXmbwZO",
        "colab_type": "text"
      },
      "source": [
        "The result is so because over 98% of theh values were filled with 0 to represent customers that didnt buy anything there making\n",
        "the real valued customer an outliers. as seen median and min is also 0."
      ]
    },
    {
      "cell_type": "markdown",
      "metadata": {
        "id": "i8J5tUiMbwZO",
        "colab_type": "text"
      },
      "source": [
        "We move to see the how the revenue distributes"
      ]
    },
    {
      "cell_type": "code",
      "metadata": {
        "id": "UKaHdYiMbwZP",
        "colab_type": "code",
        "colab": {},
        "outputId": "5c671fc6-faed-4ef2-be46-d9fc010da34e"
      },
      "source": [
        "sns.distplot(np.log(df_train[df_train['totals.transactionRevenue'] > 0][\"totals.transactionRevenue\"]), bins=40, kde=True)"
      ],
      "execution_count": 0,
      "outputs": [
        {
          "output_type": "execute_result",
          "data": {
            "text/plain": [
              "<matplotlib.axes._subplots.AxesSubplot at 0x1a80bc16ac8>"
            ]
          },
          "metadata": {
            "tags": []
          },
          "execution_count": 72
        },
        {
          "output_type": "display_data",
          "data": {
            "image/png": "[encoded data removed]",
            "text/plain": [
              "<Figure size 432x288 with 1 Axes>"
            ]
          },
          "metadata": {
            "tags": [],
            "needs_background": "light"
          }
        }
      ]
    },
    {
      "cell_type": "code",
      "metadata": {
        "id": "-_JHX4MnbwZR",
        "colab_type": "code",
        "colab": {},
        "outputId": "33103a86-766a-4643-855f-3e96b922e10b"
      },
      "source": [
        "plt.hist(np.log1p(df_train.loc[df_train['totals.transactionRevenue'].isna() == False, 'totals.transactionRevenue']));\n",
        "plt.title('Distribution of revenue');\n"
      ],
      "execution_count": 0,
      "outputs": [
        {
          "output_type": "display_data",
          "data": {
            "image/png": "[encoded data removed]",
            "text/plain": [
              "<Figure size 432x288 with 1 Axes>"
            ]
          },
          "metadata": {
            "tags": [],
            "needs_background": "light"
          }
        }
      ]
    },
    {
      "cell_type": "code",
      "metadata": {
        "id": "YoXBlEt5bwZU",
        "colab_type": "code",
        "colab": {},
        "outputId": "3fc4d428-eb22-46ae-bec7-8c3e4ea2b4a5"
      },
      "source": [
        "User_rev = df_train.groupby('fullVisitorId')['totals.transactionRevenue'].sum().reset_index()\n",
        "plt.hist(np.log(User_rev.loc[User_rev['totals.transactionRevenue'] > 0, 'totals.transactionRevenue']));\n",
        "plt.title('Distribution of total revenue per user');\n",
        "plt.xlabel('index', fontsize=12)\n",
        "plt.ylabel('TransactionRevenue', fontsize=12)\n",
        "plt.show()"
      ],
      "execution_count": 0,
      "outputs": [
        {
          "output_type": "display_data",
          "data": {
            "image/png": "[encoded data removed]",
            "text/plain": [
              "<Figure size 432x288 with 1 Axes>"
            ]
          },
          "metadata": {
            "tags": [],
            "needs_background": "light"
          }
        }
      ]
    },
    {
      "cell_type": "code",
      "metadata": {
        "id": "eufSh8BkbwZW",
        "colab_type": "code",
        "colab": {},
        "outputId": "17e8d720-2d7d-4bcd-9a93-2bfcd7a9d0fc"
      },
      "source": [
        "User_rev"
      ],
      "execution_count": 0,
      "outputs": [
        {
          "output_type": "execute_result",
          "data": {
            "text/html": [
              "<div>\n",
              "<style scoped>\n",
              "    .dataframe tbody tr th:only-of-type {\n",
              "        vertical-align: middle;\n",
              "    }\n",
              "\n",
              "    .dataframe tbody tr th {\n",
              "        vertical-align: top;\n",
              "    }\n",
              "\n",
              "    .dataframe thead th {\n",
              "        text-align: right;\n",
              "    }\n",
              "</style>\n",
              "<table border=\"1\" class=\"dataframe\">\n",
              "  <thead>\n",
              "    <tr style=\"text-align: right;\">\n",
              "      <th></th>\n",
              "      <th>fullVisitorId</th>\n",
              "      <th>totals.transactionRevenue</th>\n",
              "    </tr>\n",
              "  </thead>\n",
              "  <tbody>\n",
              "    <tr>\n",
              "      <th>0</th>\n",
              "      <td>0000000259678714014</td>\n",
              "      <td>0.0</td>\n",
              "    </tr>\n",
              "    <tr>\n",
              "      <th>1</th>\n",
              "      <td>0000010278554503158</td>\n",
              "      <td>0.0</td>\n",
              "    </tr>\n",
              "    <tr>\n",
              "      <th>2</th>\n",
              "      <td>0000020424342248747</td>\n",
              "      <td>0.0</td>\n",
              "    </tr>\n",
              "    <tr>\n",
              "      <th>3</th>\n",
              "      <td>0000027376579751715</td>\n",
              "      <td>0.0</td>\n",
              "    </tr>\n",
              "    <tr>\n",
              "      <th>4</th>\n",
              "      <td>0000039460501403861</td>\n",
              "      <td>0.0</td>\n",
              "    </tr>\n",
              "    <tr>\n",
              "      <th>...</th>\n",
              "      <td>...</td>\n",
              "      <td>...</td>\n",
              "    </tr>\n",
              "    <tr>\n",
              "      <th>1323725</th>\n",
              "      <td>999997550040396460</td>\n",
              "      <td>0.0</td>\n",
              "    </tr>\n",
              "    <tr>\n",
              "      <th>1323726</th>\n",
              "      <td>9999978264901065827</td>\n",
              "      <td>0.0</td>\n",
              "    </tr>\n",
              "    <tr>\n",
              "      <th>1323727</th>\n",
              "      <td>9999985820452794361</td>\n",
              "      <td>0.0</td>\n",
              "    </tr>\n",
              "    <tr>\n",
              "      <th>1323728</th>\n",
              "      <td>9999986437109498564</td>\n",
              "      <td>0.0</td>\n",
              "    </tr>\n",
              "    <tr>\n",
              "      <th>1323729</th>\n",
              "      <td>9999997304197521748</td>\n",
              "      <td>0.0</td>\n",
              "    </tr>\n",
              "  </tbody>\n",
              "</table>\n",
              "<p>1323730 rows × 2 columns</p>\n",
              "</div>"
            ],
            "text/plain": [
              "               fullVisitorId  totals.transactionRevenue\n",
              "0        0000000259678714014                        0.0\n",
              "1        0000010278554503158                        0.0\n",
              "2        0000020424342248747                        0.0\n",
              "3        0000027376579751715                        0.0\n",
              "4        0000039460501403861                        0.0\n",
              "...                      ...                        ...\n",
              "1323725   999997550040396460                        0.0\n",
              "1323726  9999978264901065827                        0.0\n",
              "1323727  9999985820452794361                        0.0\n",
              "1323728  9999986437109498564                        0.0\n",
              "1323729  9999997304197521748                        0.0\n",
              "\n",
              "[1323730 rows x 2 columns]"
            ]
          },
          "metadata": {
            "tags": []
          },
          "execution_count": 100
        }
      ]
    },
    {
      "cell_type": "code",
      "metadata": {
        "id": "jD8XaRCZbwZY",
        "colab_type": "code",
        "colab": {},
        "outputId": "a9b935a2-5566-4751-c7f8-3bfc9c8a54bb"
      },
      "source": [
        "plt.hist(df_train[df_train['totals.transactionRevenue'] > 0][\"totals.transactionRevenue\"])#, 'totals.transactionRevenue']);\n",
        "plt.title('Distribution of revenue');"
      ],
      "execution_count": 0,
      "outputs": [
        {
          "output_type": "display_data",
          "data": {
            "image/png": "[encoded data removed]",
            "text/plain": [
              "<Figure size 432x288 with 1 Axes>"
            ]
          },
          "metadata": {
            "tags": [],
            "needs_background": "light"
          }
        }
      ]
    },
    {
      "cell_type": "code",
      "metadata": {
        "id": "KjN8VlcPbwZa",
        "colab_type": "code",
        "colab": {},
        "outputId": "a4aa3947-12a9-4585-ab5e-e094713e7885"
      },
      "source": [
        "sns.distplot(np.log(df_train[df_train['totals.transactionRevenue'] > 0][\"totals.transactionRevenue\"]), kde=True)"
      ],
      "execution_count": 0,
      "outputs": [
        {
          "output_type": "execute_result",
          "data": {
            "text/plain": [
              "<matplotlib.axes._subplots.AxesSubplot at 0x1a80c4027c8>"
            ]
          },
          "metadata": {
            "tags": []
          },
          "execution_count": 90
        },
        {
          "output_type": "display_data",
          "data": {
            "image/png": "[encoded data removed]",
            "text/plain": [
              "<Figure size 432x288 with 1 Axes>"
            ]
          },
          "metadata": {
            "tags": [],
            "needs_background": "light"
          }
        }
      ]
    },
    {
      "cell_type": "code",
      "metadata": {
        "id": "P7sYejo6bwZe",
        "colab_type": "code",
        "colab": {},
        "outputId": "22ad3f62-eaf4-463d-dcb7-9fd3d2c5b476"
      },
      "source": [
        "best_users_count = df_train.groupby('fullVisitorId')['totals.transactionRevenue'].value_counts().sort_values(ascending=False).head(10)#.reset_index()\n",
        "#[df_train[df_train['totals.transactionRevenue'] > 0]].value_counts()\n",
        "best_users_count"
      ],
      "execution_count": 0,
      "outputs": [
        {
          "output_type": "execute_result",
          "data": {
            "text/plain": [
              "fullVisitorId        totals.transactionRevenue\n",
              "2811132188167803677  3500000                      5\n",
              "7813149961404844386  39990000                     5\n",
              "1659812380310464091  8790000                      3\n",
              "1581909009423007722  164320000                    3\n",
              "4647505914839180188  30390000                     3\n",
              "4085972867127024343  19190000                     3\n",
              "1596912606849218999  3500000                      3\n",
              "2411322974724385937  19190000                     3\n",
              "3641610323245291358  41590000                     3\n",
              "7813149961404844386  44790000                     2\n",
              "Name: totals.transactionRevenue, dtype: int64"
            ]
          },
          "metadata": {
            "tags": []
          },
          "execution_count": 8
        }
      ]
    },
    {
      "cell_type": "markdown",
      "metadata": {
        "id": "GPSyqpc-bwZg",
        "colab_type": "text"
      },
      "source": [
        "I paused here to focus on the ML pipeline. \n",
        "So far i have clean 80% of the dataset except for :\n",
        "Total and percent of missing values: \n",
        "                                                Total    Percent\n",
        "totals.totalTransactionRevenue                1689823  98.916256\n",
        "\n",
        "totals.transactions                           1689778  98.913622\n",
        "\n",
        "trafficSource.adwordsClickInfo.isVideoAd      1633063  95.593727\n",
        "\n",
        "trafficSource.adwordsClickInfo.adNetworkType  1633063  95.593727\n",
        "\n",
        "trafficSource.isTrueDirect                    1173819  68.711209\n",
        "\n",
        "trafficSource.keyword                         1052780  61.626014\n",
        "\n",
        "totals.timeOnSite                              874294  51.178076\n",
        "\n",
        "totals.sessionQualityDim                       835274  48.893983\n",
        "\n",
        "customDimension.value                          333235  19.506397\n",
        "\n",
        "I will convert and fill trafficSource.adwordsClickInfo.isVideoAd and trafficSource.isTrueDirect\n",
        " i will drop trafficSource.adwordsClickInfo.adNetworkType,totals.timeOnSite,totals.sessionQualityDim and customDimension.value\n",
        " becasue they i can find similar values on other columns or i simply can't find a use for them or what to fill them with\n",
        "\n",
        "\n",
        " "
      ]
    },
    {
      "cell_type": "code",
      "metadata": {
        "id": "MFe3nDQYbwZh",
        "colab_type": "code",
        "colab": {}
      },
      "source": [
        "    df_train['trafficSource.isTrueDirect'].fillna(False, inplace=True) # filling boolean with False is its NAn\n",
        "    df_train['trafficSource.adwordsClickInfo.isVideoAd'].fillna(True, inplace=True) # filling boolean is its NAn"
      ],
      "execution_count": 0,
      "outputs": []
    },
    {
      "cell_type": "code",
      "metadata": {
        "id": "BZCKKCR2bwZj",
        "colab_type": "code",
        "colab": {}
      },
      "source": [
        "new_drop_col_list = ['trafficSource.adwordsClickInfo.adNetworkType','totals.timeOnSite','totals.sessionQualityDim',\n",
        "                 'customDimension.value','trafficSource.keyword']"
      ],
      "execution_count": 0,
      "outputs": []
    },
    {
      "cell_type": "code",
      "metadata": {
        "id": "FNPZVXjDbwZl",
        "colab_type": "code",
        "colab": {}
      },
      "source": [
        "df_train.drop(new_drop_col_list, axis=1, inplace=True)  #to drop them"
      ],
      "execution_count": 0,
      "outputs": []
    },
    {
      "cell_type": "code",
      "metadata": {
        "id": "8mAgUExmbwZo",
        "colab_type": "code",
        "colab": {},
        "outputId": "3e475f55-a839-4337-8be7-d414604bd8fa"
      },
      "source": [
        "df_train.head()"
      ],
      "execution_count": 0,
      "outputs": [
        {
          "output_type": "execute_result",
          "data": {
            "text/html": [
              "<div>\n",
              "<style scoped>\n",
              "    .dataframe tbody tr th:only-of-type {\n",
              "        vertical-align: middle;\n",
              "    }\n",
              "\n",
              "    .dataframe tbody tr th {\n",
              "        vertical-align: top;\n",
              "    }\n",
              "\n",
              "    .dataframe thead th {\n",
              "        text-align: right;\n",
              "    }\n",
              "</style>\n",
              "<table border=\"1\" class=\"dataframe\">\n",
              "  <thead>\n",
              "    <tr style=\"text-align: right;\">\n",
              "      <th></th>\n",
              "      <th>channelGrouping</th>\n",
              "      <th>date</th>\n",
              "      <th>fullVisitorId</th>\n",
              "      <th>visitId</th>\n",
              "      <th>visitNumber</th>\n",
              "      <th>visitStartTime</th>\n",
              "      <th>device.browser</th>\n",
              "      <th>device.operatingSystem</th>\n",
              "      <th>device.isMobile</th>\n",
              "      <th>device.deviceCategory</th>\n",
              "      <th>...</th>\n",
              "      <th>totals.transactionRevenue</th>\n",
              "      <th>totals.totalTransactionRevenue</th>\n",
              "      <th>trafficSource.source</th>\n",
              "      <th>trafficSource.medium</th>\n",
              "      <th>trafficSource.isTrueDirect</th>\n",
              "      <th>trafficSource.adwordsClickInfo.isVideoAd</th>\n",
              "      <th>year</th>\n",
              "      <th>day</th>\n",
              "      <th>week</th>\n",
              "      <th>month</th>\n",
              "    </tr>\n",
              "  </thead>\n",
              "  <tbody>\n",
              "    <tr>\n",
              "      <th>0</th>\n",
              "      <td>Organic Search</td>\n",
              "      <td>2017-10-16</td>\n",
              "      <td>3162355547410993243</td>\n",
              "      <td>1508198450</td>\n",
              "      <td>1</td>\n",
              "      <td>1508198450</td>\n",
              "      <td>Firefox</td>\n",
              "      <td>Windows</td>\n",
              "      <td>False</td>\n",
              "      <td>desktop</td>\n",
              "      <td>...</td>\n",
              "      <td>0.0</td>\n",
              "      <td>NaN</td>\n",
              "      <td>google</td>\n",
              "      <td>organic</td>\n",
              "      <td>False</td>\n",
              "      <td>True</td>\n",
              "      <td>2017</td>\n",
              "      <td>Monday</td>\n",
              "      <td>42</td>\n",
              "      <td>October</td>\n",
              "    </tr>\n",
              "    <tr>\n",
              "      <th>1</th>\n",
              "      <td>Referral</td>\n",
              "      <td>2017-10-16</td>\n",
              "      <td>8934116514970143966</td>\n",
              "      <td>1508176307</td>\n",
              "      <td>6</td>\n",
              "      <td>1508176307</td>\n",
              "      <td>Chrome</td>\n",
              "      <td>Chrome OS</td>\n",
              "      <td>False</td>\n",
              "      <td>desktop</td>\n",
              "      <td>...</td>\n",
              "      <td>0.0</td>\n",
              "      <td>NaN</td>\n",
              "      <td>sites.google.com</td>\n",
              "      <td>referral</td>\n",
              "      <td>False</td>\n",
              "      <td>True</td>\n",
              "      <td>2017</td>\n",
              "      <td>Monday</td>\n",
              "      <td>42</td>\n",
              "      <td>October</td>\n",
              "    </tr>\n",
              "    <tr>\n",
              "      <th>2</th>\n",
              "      <td>Direct</td>\n",
              "      <td>2017-10-16</td>\n",
              "      <td>7992466427990357681</td>\n",
              "      <td>1508201613</td>\n",
              "      <td>1</td>\n",
              "      <td>1508201613</td>\n",
              "      <td>Chrome</td>\n",
              "      <td>Android</td>\n",
              "      <td>True</td>\n",
              "      <td>mobile</td>\n",
              "      <td>...</td>\n",
              "      <td>0.0</td>\n",
              "      <td>NaN</td>\n",
              "      <td>(direct)</td>\n",
              "      <td>(none)</td>\n",
              "      <td>True</td>\n",
              "      <td>True</td>\n",
              "      <td>2017</td>\n",
              "      <td>Monday</td>\n",
              "      <td>42</td>\n",
              "      <td>October</td>\n",
              "    </tr>\n",
              "    <tr>\n",
              "      <th>3</th>\n",
              "      <td>Organic Search</td>\n",
              "      <td>2017-10-16</td>\n",
              "      <td>9075655783635761930</td>\n",
              "      <td>1508169851</td>\n",
              "      <td>1</td>\n",
              "      <td>1508169851</td>\n",
              "      <td>Chrome</td>\n",
              "      <td>Windows</td>\n",
              "      <td>False</td>\n",
              "      <td>desktop</td>\n",
              "      <td>...</td>\n",
              "      <td>0.0</td>\n",
              "      <td>NaN</td>\n",
              "      <td>google</td>\n",
              "      <td>organic</td>\n",
              "      <td>False</td>\n",
              "      <td>True</td>\n",
              "      <td>2017</td>\n",
              "      <td>Monday</td>\n",
              "      <td>42</td>\n",
              "      <td>October</td>\n",
              "    </tr>\n",
              "    <tr>\n",
              "      <th>4</th>\n",
              "      <td>Organic Search</td>\n",
              "      <td>2017-10-16</td>\n",
              "      <td>6960673291025684308</td>\n",
              "      <td>1508190552</td>\n",
              "      <td>1</td>\n",
              "      <td>1508190552</td>\n",
              "      <td>Chrome</td>\n",
              "      <td>Windows</td>\n",
              "      <td>False</td>\n",
              "      <td>desktop</td>\n",
              "      <td>...</td>\n",
              "      <td>0.0</td>\n",
              "      <td>NaN</td>\n",
              "      <td>google</td>\n",
              "      <td>organic</td>\n",
              "      <td>False</td>\n",
              "      <td>True</td>\n",
              "      <td>2017</td>\n",
              "      <td>Monday</td>\n",
              "      <td>42</td>\n",
              "      <td>October</td>\n",
              "    </tr>\n",
              "  </tbody>\n",
              "</table>\n",
              "<p>5 rows × 33 columns</p>\n",
              "</div>"
            ],
            "text/plain": [
              "  channelGrouping       date        fullVisitorId     visitId  visitNumber  \\\n",
              "0  Organic Search 2017-10-16  3162355547410993243  1508198450            1   \n",
              "1        Referral 2017-10-16  8934116514970143966  1508176307            6   \n",
              "2          Direct 2017-10-16  7992466427990357681  1508201613            1   \n",
              "3  Organic Search 2017-10-16  9075655783635761930  1508169851            1   \n",
              "4  Organic Search 2017-10-16  6960673291025684308  1508190552            1   \n",
              "\n",
              "   visitStartTime device.browser device.operatingSystem  device.isMobile  \\\n",
              "0      1508198450        Firefox                Windows            False   \n",
              "1      1508176307         Chrome              Chrome OS            False   \n",
              "2      1508201613         Chrome                Android             True   \n",
              "3      1508169851         Chrome                Windows            False   \n",
              "4      1508190552         Chrome                Windows            False   \n",
              "\n",
              "  device.deviceCategory  ... totals.transactionRevenue  \\\n",
              "0               desktop  ...                       0.0   \n",
              "1               desktop  ...                       0.0   \n",
              "2                mobile  ...                       0.0   \n",
              "3               desktop  ...                       0.0   \n",
              "4               desktop  ...                       0.0   \n",
              "\n",
              "  totals.totalTransactionRevenue trafficSource.source trafficSource.medium  \\\n",
              "0                            NaN               google              organic   \n",
              "1                            NaN     sites.google.com             referral   \n",
              "2                            NaN             (direct)               (none)   \n",
              "3                            NaN               google              organic   \n",
              "4                            NaN               google              organic   \n",
              "\n",
              "  trafficSource.isTrueDirect trafficSource.adwordsClickInfo.isVideoAd  year  \\\n",
              "0                      False                                     True  2017   \n",
              "1                      False                                     True  2017   \n",
              "2                       True                                     True  2017   \n",
              "3                      False                                     True  2017   \n",
              "4                      False                                     True  2017   \n",
              "\n",
              "      day  week    month  \n",
              "0  Monday    42  October  \n",
              "1  Monday    42  October  \n",
              "2  Monday    42  October  \n",
              "3  Monday    42  October  \n",
              "4  Monday    42  October  \n",
              "\n",
              "[5 rows x 33 columns]"
            ]
          },
          "metadata": {
            "tags": []
          },
          "execution_count": 20
        }
      ]
    },
    {
      "cell_type": "code",
      "metadata": {
        "id": "zTu_dfrGbwZq",
        "colab_type": "code",
        "colab": {},
        "outputId": "a6c4a6d0-e91e-4bb1-ca87-491ff2a933a2"
      },
      "source": [
        "values_missing(df_train)"
      ],
      "execution_count": 0,
      "outputs": [
        {
          "output_type": "stream",
          "text": [
            "Total and percent of missing values: \n",
            "                                  Total    Percent\n",
            "totals.totalTransactionRevenue  1689823  98.916256\n",
            "totals.transactions             1689778  98.913622\n"
          ],
          "name": "stdout"
        }
      ]
    },
    {
      "cell_type": "markdown",
      "metadata": {
        "id": "sycH2ITZbwZs",
        "colab_type": "text"
      },
      "source": [
        "I still cannot decide on this 2 columns, what do i do with them. I know the totals.totalTransactionRevenue seems same with the target , i think ii will remove it to aviod overfitiing\n",
        "I aslo think i will fill totals.transactions with bcos if there was a value the number would have been available."
      ]
    },
    {
      "cell_type": "code",
      "metadata": {
        "id": "ukFu5maJbwZs",
        "colab_type": "code",
        "colab": {}
      },
      "source": [
        "df_train[\"totals.transactions\"] = df_train[\"totals.transactions\"].fillna(0).astype(int)"
      ],
      "execution_count": 0,
      "outputs": []
    },
    {
      "cell_type": "code",
      "metadata": {
        "id": "HheH94r8bwZu",
        "colab_type": "code",
        "colab": {}
      },
      "source": [
        "df_train.drop('totals.totalTransactionRevenue',axis=1, inplace=True)"
      ],
      "execution_count": 0,
      "outputs": []
    },
    {
      "cell_type": "code",
      "metadata": {
        "id": "PqkeEa4AbwZx",
        "colab_type": "code",
        "colab": {},
        "outputId": "bdca278f-3c89-4c00-aebe-50f7950c36eb"
      },
      "source": [
        "df_train.isna().sum()"
      ],
      "execution_count": 0,
      "outputs": [
        {
          "output_type": "execute_result",
          "data": {
            "text/plain": [
              "channelGrouping                             0\n",
              "date                                        0\n",
              "fullVisitorId                               0\n",
              "visitId                                     0\n",
              "visitNumber                                 0\n",
              "visitStartTime                              0\n",
              "device.browser                              0\n",
              "device.operatingSystem                      0\n",
              "device.isMobile                             0\n",
              "device.deviceCategory                       0\n",
              "geoNetwork.continent                        0\n",
              "geoNetwork.subContinent                     0\n",
              "geoNetwork.country                          0\n",
              "geoNetwork.region                           0\n",
              "geoNetwork.metro                            0\n",
              "geoNetwork.city                             0\n",
              "geoNetwork.networkDomain                    0\n",
              "totals.visits                               0\n",
              "totals.hits                                 0\n",
              "totals.pageviews                            0\n",
              "totals.bounces                              0\n",
              "totals.newVisits                            0\n",
              "totals.transactions                         0\n",
              "totals.transactionRevenue                   0\n",
              "trafficSource.source                        0\n",
              "trafficSource.medium                        0\n",
              "trafficSource.isTrueDirect                  0\n",
              "trafficSource.adwordsClickInfo.isVideoAd    0\n",
              "year                                        0\n",
              "day                                         0\n",
              "week                                        0\n",
              "month                                       0\n",
              "dtype: int64"
            ]
          },
          "metadata": {
            "tags": []
          },
          "execution_count": 24
        }
      ]
    },
    {
      "cell_type": "code",
      "metadata": {
        "id": "O3QNtNdxbwZy",
        "colab_type": "code",
        "colab": {},
        "outputId": "286d209a-ef0c-4063-989c-85cbf0ca5df8"
      },
      "source": [
        "df_train.isnull().sum()"
      ],
      "execution_count": 0,
      "outputs": [
        {
          "output_type": "execute_result",
          "data": {
            "text/plain": [
              "channelGrouping                             0\n",
              "date                                        0\n",
              "fullVisitorId                               0\n",
              "visitId                                     0\n",
              "visitNumber                                 0\n",
              "visitStartTime                              0\n",
              "device.browser                              0\n",
              "device.operatingSystem                      0\n",
              "device.isMobile                             0\n",
              "device.deviceCategory                       0\n",
              "geoNetwork.continent                        0\n",
              "geoNetwork.subContinent                     0\n",
              "geoNetwork.country                          0\n",
              "geoNetwork.region                           0\n",
              "geoNetwork.metro                            0\n",
              "geoNetwork.city                             0\n",
              "geoNetwork.networkDomain                    0\n",
              "totals.visits                               0\n",
              "totals.hits                                 0\n",
              "totals.pageviews                            0\n",
              "totals.bounces                              0\n",
              "totals.newVisits                            0\n",
              "totals.transactions                         0\n",
              "totals.transactionRevenue                   0\n",
              "trafficSource.source                        0\n",
              "trafficSource.medium                        0\n",
              "trafficSource.isTrueDirect                  0\n",
              "trafficSource.adwordsClickInfo.isVideoAd    0\n",
              "year                                        0\n",
              "day                                         0\n",
              "week                                        0\n",
              "month                                       0\n",
              "dtype: int64"
            ]
          },
          "metadata": {
            "tags": []
          },
          "execution_count": 25
        }
      ]
    },
    {
      "cell_type": "markdown",
      "metadata": {
        "id": "weLhDokrbwZ1",
        "colab_type": "text"
      },
      "source": [
        "OK now my data is clean. i will save the data set before i process with feature selection."
      ]
    },
    {
      "cell_type": "code",
      "metadata": {
        "id": "Vnelf_MsbwZ2",
        "colab_type": "code",
        "colab": {}
      },
      "source": [
        "Cleaned_train = df_train"
      ],
      "execution_count": 0,
      "outputs": []
    },
    {
      "cell_type": "code",
      "metadata": {
        "id": "syArAZvLbwZ4",
        "colab_type": "code",
        "colab": {},
        "outputId": "110147f7-a057-462a-eb57-4dda0028a023"
      },
      "source": [
        "Cleaned_train.head()"
      ],
      "execution_count": 0,
      "outputs": [
        {
          "output_type": "execute_result",
          "data": {
            "text/html": [
              "<div>\n",
              "<style scoped>\n",
              "    .dataframe tbody tr th:only-of-type {\n",
              "        vertical-align: middle;\n",
              "    }\n",
              "\n",
              "    .dataframe tbody tr th {\n",
              "        vertical-align: top;\n",
              "    }\n",
              "\n",
              "    .dataframe thead th {\n",
              "        text-align: right;\n",
              "    }\n",
              "</style>\n",
              "<table border=\"1\" class=\"dataframe\">\n",
              "  <thead>\n",
              "    <tr style=\"text-align: right;\">\n",
              "      <th></th>\n",
              "      <th>channelGrouping</th>\n",
              "      <th>date</th>\n",
              "      <th>fullVisitorId</th>\n",
              "      <th>visitId</th>\n",
              "      <th>visitNumber</th>\n",
              "      <th>visitStartTime</th>\n",
              "      <th>device.browser</th>\n",
              "      <th>device.operatingSystem</th>\n",
              "      <th>device.isMobile</th>\n",
              "      <th>device.deviceCategory</th>\n",
              "      <th>...</th>\n",
              "      <th>totals.transactions</th>\n",
              "      <th>totals.transactionRevenue</th>\n",
              "      <th>trafficSource.source</th>\n",
              "      <th>trafficSource.medium</th>\n",
              "      <th>trafficSource.isTrueDirect</th>\n",
              "      <th>trafficSource.adwordsClickInfo.isVideoAd</th>\n",
              "      <th>year</th>\n",
              "      <th>day</th>\n",
              "      <th>week</th>\n",
              "      <th>month</th>\n",
              "    </tr>\n",
              "  </thead>\n",
              "  <tbody>\n",
              "    <tr>\n",
              "      <th>0</th>\n",
              "      <td>Organic Search</td>\n",
              "      <td>2017-10-16</td>\n",
              "      <td>3162355547410993243</td>\n",
              "      <td>1508198450</td>\n",
              "      <td>1</td>\n",
              "      <td>1508198450</td>\n",
              "      <td>Firefox</td>\n",
              "      <td>Windows</td>\n",
              "      <td>False</td>\n",
              "      <td>desktop</td>\n",
              "      <td>...</td>\n",
              "      <td>0</td>\n",
              "      <td>0.0</td>\n",
              "      <td>google</td>\n",
              "      <td>organic</td>\n",
              "      <td>False</td>\n",
              "      <td>True</td>\n",
              "      <td>2017</td>\n",
              "      <td>Monday</td>\n",
              "      <td>42</td>\n",
              "      <td>October</td>\n",
              "    </tr>\n",
              "    <tr>\n",
              "      <th>1</th>\n",
              "      <td>Referral</td>\n",
              "      <td>2017-10-16</td>\n",
              "      <td>8934116514970143966</td>\n",
              "      <td>1508176307</td>\n",
              "      <td>6</td>\n",
              "      <td>1508176307</td>\n",
              "      <td>Chrome</td>\n",
              "      <td>Chrome OS</td>\n",
              "      <td>False</td>\n",
              "      <td>desktop</td>\n",
              "      <td>...</td>\n",
              "      <td>0</td>\n",
              "      <td>0.0</td>\n",
              "      <td>sites.google.com</td>\n",
              "      <td>referral</td>\n",
              "      <td>False</td>\n",
              "      <td>True</td>\n",
              "      <td>2017</td>\n",
              "      <td>Monday</td>\n",
              "      <td>42</td>\n",
              "      <td>October</td>\n",
              "    </tr>\n",
              "    <tr>\n",
              "      <th>2</th>\n",
              "      <td>Direct</td>\n",
              "      <td>2017-10-16</td>\n",
              "      <td>7992466427990357681</td>\n",
              "      <td>1508201613</td>\n",
              "      <td>1</td>\n",
              "      <td>1508201613</td>\n",
              "      <td>Chrome</td>\n",
              "      <td>Android</td>\n",
              "      <td>True</td>\n",
              "      <td>mobile</td>\n",
              "      <td>...</td>\n",
              "      <td>0</td>\n",
              "      <td>0.0</td>\n",
              "      <td>(direct)</td>\n",
              "      <td>(none)</td>\n",
              "      <td>True</td>\n",
              "      <td>True</td>\n",
              "      <td>2017</td>\n",
              "      <td>Monday</td>\n",
              "      <td>42</td>\n",
              "      <td>October</td>\n",
              "    </tr>\n",
              "    <tr>\n",
              "      <th>3</th>\n",
              "      <td>Organic Search</td>\n",
              "      <td>2017-10-16</td>\n",
              "      <td>9075655783635761930</td>\n",
              "      <td>1508169851</td>\n",
              "      <td>1</td>\n",
              "      <td>1508169851</td>\n",
              "      <td>Chrome</td>\n",
              "      <td>Windows</td>\n",
              "      <td>False</td>\n",
              "      <td>desktop</td>\n",
              "      <td>...</td>\n",
              "      <td>0</td>\n",
              "      <td>0.0</td>\n",
              "      <td>google</td>\n",
              "      <td>organic</td>\n",
              "      <td>False</td>\n",
              "      <td>True</td>\n",
              "      <td>2017</td>\n",
              "      <td>Monday</td>\n",
              "      <td>42</td>\n",
              "      <td>October</td>\n",
              "    </tr>\n",
              "    <tr>\n",
              "      <th>4</th>\n",
              "      <td>Organic Search</td>\n",
              "      <td>2017-10-16</td>\n",
              "      <td>6960673291025684308</td>\n",
              "      <td>1508190552</td>\n",
              "      <td>1</td>\n",
              "      <td>1508190552</td>\n",
              "      <td>Chrome</td>\n",
              "      <td>Windows</td>\n",
              "      <td>False</td>\n",
              "      <td>desktop</td>\n",
              "      <td>...</td>\n",
              "      <td>0</td>\n",
              "      <td>0.0</td>\n",
              "      <td>google</td>\n",
              "      <td>organic</td>\n",
              "      <td>False</td>\n",
              "      <td>True</td>\n",
              "      <td>2017</td>\n",
              "      <td>Monday</td>\n",
              "      <td>42</td>\n",
              "      <td>October</td>\n",
              "    </tr>\n",
              "  </tbody>\n",
              "</table>\n",
              "<p>5 rows × 32 columns</p>\n",
              "</div>"
            ],
            "text/plain": [
              "  channelGrouping       date        fullVisitorId     visitId  visitNumber  \\\n",
              "0  Organic Search 2017-10-16  3162355547410993243  1508198450            1   \n",
              "1        Referral 2017-10-16  8934116514970143966  1508176307            6   \n",
              "2          Direct 2017-10-16  7992466427990357681  1508201613            1   \n",
              "3  Organic Search 2017-10-16  9075655783635761930  1508169851            1   \n",
              "4  Organic Search 2017-10-16  6960673291025684308  1508190552            1   \n",
              "\n",
              "   visitStartTime device.browser device.operatingSystem  device.isMobile  \\\n",
              "0      1508198450        Firefox                Windows            False   \n",
              "1      1508176307         Chrome              Chrome OS            False   \n",
              "2      1508201613         Chrome                Android             True   \n",
              "3      1508169851         Chrome                Windows            False   \n",
              "4      1508190552         Chrome                Windows            False   \n",
              "\n",
              "  device.deviceCategory  ... totals.transactions totals.transactionRevenue  \\\n",
              "0               desktop  ...                   0                       0.0   \n",
              "1               desktop  ...                   0                       0.0   \n",
              "2                mobile  ...                   0                       0.0   \n",
              "3               desktop  ...                   0                       0.0   \n",
              "4               desktop  ...                   0                       0.0   \n",
              "\n",
              "  trafficSource.source trafficSource.medium trafficSource.isTrueDirect  \\\n",
              "0               google              organic                      False   \n",
              "1     sites.google.com             referral                      False   \n",
              "2             (direct)               (none)                       True   \n",
              "3               google              organic                      False   \n",
              "4               google              organic                      False   \n",
              "\n",
              "  trafficSource.adwordsClickInfo.isVideoAd  year     day  week    month  \n",
              "0                                     True  2017  Monday    42  October  \n",
              "1                                     True  2017  Monday    42  October  \n",
              "2                                     True  2017  Monday    42  October  \n",
              "3                                     True  2017  Monday    42  October  \n",
              "4                                     True  2017  Monday    42  October  \n",
              "\n",
              "[5 rows x 32 columns]"
            ]
          },
          "metadata": {
            "tags": []
          },
          "execution_count": 27
        }
      ]
    },
    {
      "cell_type": "code",
      "metadata": {
        "id": "nTE968JcbwZ8",
        "colab_type": "code",
        "colab": {},
        "outputId": "650c85b9-ebf3-4f09-84a8-e94d2440c65d"
      },
      "source": [
        "Cleaned_train.info()"
      ],
      "execution_count": 0,
      "outputs": [
        {
          "output_type": "stream",
          "text": [
            "<class 'pandas.core.frame.DataFrame'>\n",
            "RangeIndex: 1708337 entries, 0 to 1708336\n",
            "Data columns (total 32 columns):\n",
            " #   Column                                    Dtype         \n",
            "---  ------                                    -----         \n",
            " 0   channelGrouping                           object        \n",
            " 1   date                                      datetime64[ns]\n",
            " 2   fullVisitorId                             object        \n",
            " 3   visitId                                   int64         \n",
            " 4   visitNumber                               int64         \n",
            " 5   visitStartTime                            int64         \n",
            " 6   device.browser                            object        \n",
            " 7   device.operatingSystem                    object        \n",
            " 8   device.isMobile                           bool          \n",
            " 9   device.deviceCategory                     object        \n",
            " 10  geoNetwork.continent                      object        \n",
            " 11  geoNetwork.subContinent                   object        \n",
            " 12  geoNetwork.country                        object        \n",
            " 13  geoNetwork.region                         object        \n",
            " 14  geoNetwork.metro                          object        \n",
            " 15  geoNetwork.city                           object        \n",
            " 16  geoNetwork.networkDomain                  object        \n",
            " 17  totals.visits                             int32         \n",
            " 18  totals.hits                               float64       \n",
            " 19  totals.pageviews                          int32         \n",
            " 20  totals.bounces                            int32         \n",
            " 21  totals.newVisits                          int32         \n",
            " 22  totals.transactions                       int32         \n",
            " 23  totals.transactionRevenue                 float64       \n",
            " 24  trafficSource.source                      object        \n",
            " 25  trafficSource.medium                      object        \n",
            " 26  trafficSource.isTrueDirect                bool          \n",
            " 27  trafficSource.adwordsClickInfo.isVideoAd  bool          \n",
            " 28  year                                      int64         \n",
            " 29  day                                       object        \n",
            " 30  week                                      int64         \n",
            " 31  month                                     object        \n",
            "dtypes: bool(3), datetime64[ns](1), float64(2), int32(5), int64(5), object(16)\n",
            "memory usage: 350.3+ MB\n"
          ],
          "name": "stdout"
        }
      ]
    },
    {
      "cell_type": "code",
      "metadata": {
        "id": "Nd_KTk9cbwZ-",
        "colab_type": "code",
        "colab": {}
      },
      "source": [
        "Cleaned_train.to_csv('/Users/chris/Desktop/chris_files.csv/Cleaned_train.csv',index=False)"
      ],
      "execution_count": 0,
      "outputs": []
    },
    {
      "cell_type": "markdown",
      "metadata": {
        "id": "0WuARz1BbwaA",
        "colab_type": "text"
      },
      "source": [
        "NOW TO FEATURES SELECTION::::"
      ]
    },
    {
      "cell_type": "markdown",
      "metadata": {
        "id": "s_5bJ_DqbwaB",
        "colab_type": "text"
      },
      "source": [
        "using corellation matrix- heatmap"
      ]
    },
    {
      "cell_type": "code",
      "metadata": {
        "id": "bZ8gceX2bwaB",
        "colab_type": "code",
        "colab": {},
        "outputId": "4a7af33e-72b6-4c4b-a489-ece1c08f1621"
      },
      "source": [
        "corrmat = Cleaned_train.corr()\n",
        "top_corr_feature = corrmat.index\n",
        "\n",
        "plt.figure(figsize = (20,20))\n",
        "#plot heatmap\n",
        "\n",
        "sns.heatmap(df_train[top_corr_feature].corr(),annot =True,cmap='CMRmap')\n"
      ],
      "execution_count": 0,
      "outputs": [
        {
          "output_type": "execute_result",
          "data": {
            "text/plain": [
              "<matplotlib.axes._subplots.AxesSubplot at 0x16ba721c7c8>"
            ]
          },
          "metadata": {
            "tags": []
          },
          "execution_count": 31
        },
        {
          "output_type": "display_data",
          "data": {
            "image/png": "[encoded data removed]",
            "text/plain": [
              "<Figure size 1440x1440 with 2 Axes>"
            ]
          },
          "metadata": {
            "tags": [],
            "needs_background": "light"
          }
        }
      ]
    },
    {
      "cell_type": "markdown",
      "metadata": {
        "id": "Icgcx3BBbwaD",
        "colab_type": "text"
      },
      "source": [
        "please interprete........................................."
      ]
    },
    {
      "cell_type": "code",
      "metadata": {
        "id": "Z0Aee2EXbwaE",
        "colab_type": "code",
        "colab": {}
      },
      "source": [
        ""
      ],
      "execution_count": 0,
      "outputs": []
    }
  ]
}