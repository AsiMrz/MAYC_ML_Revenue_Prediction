{
  "nbformat": 4,
  "nbformat_minor": 0,
  "metadata": {
    "kernelspec": {
      "display_name": "Python 3",
      "language": "python",
      "name": "python3"
    },
    "toc": {
      "base_numbering": 1,
      "nav_menu": {},
      "number_sections": true,
      "sideBar": true,
      "skip_h1_title": false,
      "title_cell": "Table of Contents",
      "title_sidebar": "Contents",
      "toc_cell": false,
      "toc_position": {},
      "toc_section_display": true,
      "toc_window_display": false
    },
    "colab": {
      "name": "ML_GACRP_PIPELINE.ipynb",
      "provenance": [],
      "toc_visible": true,
      "include_colab_link": true
    }
  },
  "cells": [
    {
      "cell_type": "markdown",
      "metadata": {
        "id": "view-in-github",
        "colab_type": "text"
      },
      "source": [
        "<a href=\"https://colab.research.google.com/github/yeialgov/MAYC_ML_Revenue_Prediction/blob/patch-1/Classification%20and%20Regression.ipynb\" target=\"_parent\"><img src=\"https://colab.research.google.com/assets/colab-badge.svg\" alt=\"Open In Colab\"/></a>"
      ]
    },
    {
      "cell_type": "code",
      "metadata": {
        "id": "Q7NUxl3iMn1H",
        "colab_type": "code",
        "colab": {}
      },
      "source": [
        "# download the libraries\n",
        "import pandas as pd\n",
        "from pandas import Series,DataFrame\n",
        "import warnings\n",
        "from copy import deepcopy\n",
        "import os\n",
        "warnings.filterwarnings('ignore')\n",
        "import numpy as np\n",
        "import matplotlib.pyplot as plt\n",
        "import seaborn as sns\n",
        "from datetime import datetime\n",
        "from sklearn.preprocessing import LabelEncoder\n",
        "import random\n",
        "%matplotlib inline"
      ],
      "execution_count": 0,
      "outputs": []
    },
    {
      "cell_type": "code",
      "metadata": {
        "id": "ARFvfk1yzZkv",
        "colab_type": "code",
        "colab": {}
      },
      "source": [
        "from sklearn.preprocessing import LabelEncoder"
      ],
      "execution_count": 0,
      "outputs": []
    },
    {
      "cell_type": "markdown",
      "metadata": {
        "id": "C_rtWx5Y7qVw",
        "colab_type": "text"
      },
      "source": [
        "# Getting the data"
      ]
    },
    {
      "cell_type": "code",
      "metadata": {
        "id": "odFQDYPTNLMc",
        "colab_type": "code",
        "outputId": "c0409307-632f-4655-b245-97ef3a4ded3e",
        "colab": {
          "base_uri": "https://localhost:8080/",
          "height": 122
        }
      },
      "source": [
        "from google.colab import drive\n",
        "drive.mount('/content/gdrive')"
      ],
      "execution_count": 7,
      "outputs": [
        {
          "output_type": "stream",
          "text": [
            "Go to this URL in a browser: https://accounts.google.com/o/oauth2/auth?client_id=947318989803-6bn6qk8qdgf4n4g3pfee6491hc0brc4i.apps.googleusercontent.com&redirect_uri=urn%3aietf%3awg%3aoauth%3a2.0%3aoob&response_type=code&scope=email%20https%3a%2f%2fwww.googleapis.com%2fauth%2fdocs.test%20https%3a%2f%2fwww.googleapis.com%2fauth%2fdrive%20https%3a%2f%2fwww.googleapis.com%2fauth%2fdrive.photos.readonly%20https%3a%2f%2fwww.googleapis.com%2fauth%2fpeopleapi.readonly\n",
            "\n",
            "Enter your authorization code:\n",
            "··········\n",
            "Mounted at /content/gdrive\n"
          ],
          "name": "stdout"
        }
      ]
    },
    {
      "cell_type": "code",
      "metadata": {
        "id": "1meGr2fGNX0J",
        "colab_type": "code",
        "outputId": "5995c657-688e-42f4-a391-c47b66ffdaa2",
        "colab": {
          "base_uri": "https://localhost:8080/",
          "height": 34
        }
      },
      "source": [
        "cd '/content/gdrive/My Drive/ReDi_DA_Project/Datasets_Clean/'"
      ],
      "execution_count": 8,
      "outputs": [
        {
          "output_type": "stream",
          "text": [
            "/content/gdrive/My Drive/ReDi_DA_Project/Datasets_Clean\n"
          ],
          "name": "stdout"
        }
      ]
    },
    {
      "cell_type": "code",
      "metadata": {
        "id": "bpHQzAS3uTLQ",
        "colab_type": "code",
        "colab": {}
      },
      "source": [
        "all_data = pd.read_pickle('all_data.pkl')\n"
      ],
      "execution_count": 0,
      "outputs": []
    },
    {
      "cell_type": "code",
      "metadata": {
        "id": "TdBiwu7sMn4o",
        "colab_type": "code",
        "outputId": "bc0ffab0-f306-416b-ab43-518cff851d4c",
        "colab": {
          "base_uri": "https://localhost:8080/",
          "height": 34
        }
      },
      "source": [
        "all_data.isnull().sum().sum()"
      ],
      "execution_count": 7,
      "outputs": [
        {
          "output_type": "execute_result",
          "data": {
            "text/plain": [
              "0"
            ]
          },
          "metadata": {
            "tags": []
          },
          "execution_count": 7
        }
      ]
    },
    {
      "cell_type": "code",
      "metadata": {
        "id": "L3uwVOjkSDK_",
        "colab_type": "code",
        "outputId": "ec811408-3bc1-4ee3-ce2d-9486f296b541",
        "colab": {
          "base_uri": "https://localhost:8080/",
          "height": 680
        }
      },
      "source": [
        "all_data.info()"
      ],
      "execution_count": 0,
      "outputs": [
        {
          "output_type": "stream",
          "text": [
            "<class 'pandas.core.frame.DataFrame'>\n",
            "Int64Index: 2109926 entries, 0 to 401588\n",
            "Data columns (total 32 columns):\n",
            " #   Column                                        Dtype         \n",
            "---  ------                                        -----         \n",
            " 0   totals.sessionQualityDim                      int64         \n",
            " 1   totals.totalTransactionRevenue                float64       \n",
            " 2   device.deviceCategory                         object        \n",
            " 3   totals.timeOnSite                             int64         \n",
            " 4   totals.bounces                                int64         \n",
            " 5   geoNetwork.country                            object        \n",
            " 6   visitStartTime                                int64         \n",
            " 7   totals.transactions                           int64         \n",
            " 8   totals.pageviews                              int64         \n",
            " 9   date                                          datetime64[ns]\n",
            " 10  customDimension.value                         object        \n",
            " 11  dataset                                       object        \n",
            " 12  totals.newVisits                              int64         \n",
            " 13  visitNumber                                   int64         \n",
            " 14  trafficSource.isTrueDirect                    bool          \n",
            " 15  visitId                                       int64         \n",
            " 16  geoNetwork.metro                              object        \n",
            " 17  geoNetwork.continent                          object        \n",
            " 18  trafficSource.medium                          object        \n",
            " 19  device.operatingSystem                        object        \n",
            " 20  geoNetwork.networkDomain                      object        \n",
            " 21  device.isMobile                               bool          \n",
            " 22  channelGrouping                               object        \n",
            " 23  trafficSource.adwordsClickInfo.adNetworkType  object        \n",
            " 24  device.browser                                object        \n",
            " 25  geoNetwork.subContinent                       object        \n",
            " 26  geoNetwork.region                             object        \n",
            " 27  trafficSource.source                          object        \n",
            " 28  geoNetwork.city                               object        \n",
            " 29  totals.hits                                   float64       \n",
            " 30  trafficSource.adwordsClickInfo.isVideoAd      bool          \n",
            " 31  fullVisitorId                                 object        \n",
            "dtypes: bool(3), datetime64[ns](1), float64(2), int64(9), object(17)\n",
            "memory usage: 489.0+ MB\n"
          ],
          "name": "stdout"
        }
      ]
    },
    {
      "cell_type": "code",
      "metadata": {
        "id": "RZHqyCiEMn5E",
        "colab_type": "code",
        "colab": {}
      },
      "source": [
        "'''\n",
        "columns to hotcode\n",
        "\n",
        "channelGrouping                               object  unique values:  8\n",
        "date                                          int64  - convert to date time\n",
        "fullVisitorId                                 object - organisers insist to be left as str\n",
        "device.browser                                object - unique values:  129\n",
        "device.operatingSystem                        object - unique values:  24\n",
        "device.isMobile                               bool   - unique values:  2\n",
        "device.deviceCategory                         object - unique values:  3\n",
        "geoNetwork.continent                          object - unique values:  6\n",
        "geoNetwork.subContinent                       object - unique values:  23\n",
        "geoNetwork.country                            object - unique values:  228\n",
        "geoNetwork.region                             object - unique values:  284\n",
        "geoNetwork.metro                              object - unique values:  123\n",
        "geoNetwork.city                               object - unique values:  956\n",
        "geoNetwork.networkDomain                      object - unique values:  41982\n",
        "totals.sessionQualityDim                      object - convert to interger\n",
        "totals.timeOnSite                             object - convert to interger\n",
        "trafficSource.source                          object - unique values:  345\n",
        "trafficSource.medium                          object - unique values:  7\n",
        "trafficSource.isTrueDirect                    bool   - unique values:  2 \n",
        "trafficSource.adwordsClickInfo.adNetworkType  object - unique values:  3\n",
        "trafficSource.adwordsClickInfo.isVideoAd      bool   - unique values:  2 \n",
        "customDimension.value                         object - unique values:  5\n",
        "'''"
      ],
      "execution_count": 0,
      "outputs": []
    },
    {
      "cell_type": "markdown",
      "metadata": {
        "id": "IX-_z2KKTzdX",
        "colab_type": "text"
      },
      "source": [
        "# Model to search the visitors who made transactions"
      ]
    },
    {
      "cell_type": "markdown",
      "metadata": {
        "id": "hkfsY1lCndsI",
        "colab_type": "text"
      },
      "source": [
        "## Function to define Target Column"
      ]
    },
    {
      "cell_type": "code",
      "metadata": {
        "id": "ZvuMz0A4Vaa_",
        "colab_type": "code",
        "colab": {}
      },
      "source": [
        "def is_transaction(n):\n",
        "  if n == 0    :    return 0\n",
        "  else         :    return 1\n",
        "\n",
        "all_data['is_transaction']=all_data['totals.transactions'].apply(is_transaction)"
      ],
      "execution_count": 0,
      "outputs": []
    },
    {
      "cell_type": "code",
      "metadata": {
        "id": "eS1z0ILdXM2m",
        "colab_type": "code",
        "outputId": "bac3faff-fcbd-4c16-b1cf-736c412875b1",
        "colab": {
          "base_uri": "https://localhost:8080/",
          "height": 68
        }
      },
      "source": [
        "all_data['is_transaction'].value_counts()"
      ],
      "execution_count": 9,
      "outputs": [
        {
          "output_type": "execute_result",
          "data": {
            "text/plain": [
              "0    2085062\n",
              "1      24864\n",
              "Name: is_transaction, dtype: int64"
            ]
          },
          "metadata": {
            "tags": []
          },
          "execution_count": 9
        }
      ]
    },
    {
      "cell_type": "markdown",
      "metadata": {
        "id": "P8-K3JmAoLzB",
        "colab_type": "text"
      },
      "source": [
        "## Encoding Categorical Values"
      ]
    },
    {
      "cell_type": "code",
      "metadata": {
        "id": "iEYlXnzRPzJ-",
        "colab_type": "code",
        "colab": {}
      },
      "source": [
        "TARGET = 'is_transaction'\n",
        "CAT_COLS = all_data.columns[all_data.dtypes == object].tolist()\n",
        "CONT_COLS = [c for c in all_data.columns if c not in CAT_COLS and c != TARGET]\n"
      ],
      "execution_count": 0,
      "outputs": []
    },
    {
      "cell_type": "code",
      "metadata": {
        "id": "TGhChyUCvssN",
        "colab_type": "code",
        "outputId": "7fa8f533-a644-4659-e6fa-bdf92a156c61",
        "colab": {
          "base_uri": "https://localhost:8080/",
          "height": 289
        }
      },
      "source": [
        "CAT_COLS.remove('fullVisitorId')\n",
        "CAT_COLS"
      ],
      "execution_count": 11,
      "outputs": [
        {
          "output_type": "execute_result",
          "data": {
            "text/plain": [
              "['device.deviceCategory',\n",
              " 'geoNetwork.country',\n",
              " 'customDimension.value',\n",
              " 'dataset',\n",
              " 'geoNetwork.metro',\n",
              " 'geoNetwork.continent',\n",
              " 'trafficSource.medium',\n",
              " 'device.operatingSystem',\n",
              " 'geoNetwork.networkDomain',\n",
              " 'channelGrouping',\n",
              " 'trafficSource.adwordsClickInfo.adNetworkType',\n",
              " 'device.browser',\n",
              " 'geoNetwork.subContinent',\n",
              " 'geoNetwork.region',\n",
              " 'trafficSource.source',\n",
              " 'geoNetwork.city']"
            ]
          },
          "metadata": {
            "tags": []
          },
          "execution_count": 11
        }
      ]
    },
    {
      "cell_type": "code",
      "metadata": {
        "id": "-L-jBN-zP-xW",
        "colab_type": "code",
        "colab": {}
      },
      "source": [
        "CONT_COLS.remove('date')"
      ],
      "execution_count": 0,
      "outputs": []
    },
    {
      "cell_type": "code",
      "metadata": {
        "id": "9Qh6ZwLQgG8B",
        "colab_type": "code",
        "outputId": "c6d986b3-cb47-4778-fa36-41a832acbc02",
        "colab": {
          "base_uri": "https://localhost:8080/",
          "height": 221
        }
      },
      "source": [
        "CONT_COLS.remove('totals.transactions')\n",
        "CONT_COLS.remove('totals.totalTransactionRevenue')\n",
        "CONT_COLS"
      ],
      "execution_count": 13,
      "outputs": [
        {
          "output_type": "execute_result",
          "data": {
            "text/plain": [
              "['totals.sessionQualityDim',\n",
              " 'totals.timeOnSite',\n",
              " 'totals.bounces',\n",
              " 'visitStartTime',\n",
              " 'totals.pageviews',\n",
              " 'totals.newVisits',\n",
              " 'visitNumber',\n",
              " 'trafficSource.isTrueDirect',\n",
              " 'visitId',\n",
              " 'device.isMobile',\n",
              " 'totals.hits',\n",
              " 'trafficSource.adwordsClickInfo.isVideoAd']"
            ]
          },
          "metadata": {
            "tags": []
          },
          "execution_count": 13
        }
      ]
    },
    {
      "cell_type": "code",
      "metadata": {
        "id": "nFiAD5oqgUkz",
        "colab_type": "code",
        "outputId": "038f7ed4-1f32-426d-b4d5-8ccc7bc6ecbf",
        "colab": {
          "base_uri": "https://localhost:8080/",
          "height": 646
        }
      },
      "source": [
        "M1_data = deepcopy(all_data[CAT_COLS + CONT_COLS + [TARGET]+ [ 'fullVisitorId']])\n",
        "\n",
        "M1_data.info()"
      ],
      "execution_count": 14,
      "outputs": [
        {
          "output_type": "stream",
          "text": [
            "<class 'pandas.core.frame.DataFrame'>\n",
            "Int64Index: 2109926 entries, 0 to 401588\n",
            "Data columns (total 30 columns):\n",
            " #   Column                                        Dtype  \n",
            "---  ------                                        -----  \n",
            " 0   device.deviceCategory                         object \n",
            " 1   geoNetwork.country                            object \n",
            " 2   customDimension.value                         object \n",
            " 3   dataset                                       object \n",
            " 4   geoNetwork.metro                              object \n",
            " 5   geoNetwork.continent                          object \n",
            " 6   trafficSource.medium                          object \n",
            " 7   device.operatingSystem                        object \n",
            " 8   geoNetwork.networkDomain                      object \n",
            " 9   channelGrouping                               object \n",
            " 10  trafficSource.adwordsClickInfo.adNetworkType  object \n",
            " 11  device.browser                                object \n",
            " 12  geoNetwork.subContinent                       object \n",
            " 13  geoNetwork.region                             object \n",
            " 14  trafficSource.source                          object \n",
            " 15  geoNetwork.city                               object \n",
            " 16  totals.sessionQualityDim                      int64  \n",
            " 17  totals.timeOnSite                             int64  \n",
            " 18  totals.bounces                                int64  \n",
            " 19  visitStartTime                                int64  \n",
            " 20  totals.pageviews                              int64  \n",
            " 21  totals.newVisits                              int64  \n",
            " 22  visitNumber                                   int64  \n",
            " 23  trafficSource.isTrueDirect                    bool   \n",
            " 24  visitId                                       int64  \n",
            " 25  device.isMobile                               bool   \n",
            " 26  totals.hits                                   float64\n",
            " 27  trafficSource.adwordsClickInfo.isVideoAd      bool   \n",
            " 28  is_transaction                                int64  \n",
            " 29  fullVisitorId                                 object \n",
            "dtypes: bool(3), float64(1), int64(9), object(17)\n",
            "memory usage: 456.8+ MB\n"
          ],
          "name": "stdout"
        }
      ]
    },
    {
      "cell_type": "code",
      "metadata": {
        "id": "sWWEfZa_Mn58",
        "colab_type": "code",
        "colab": {}
      },
      "source": [
        "leb = LabelEncoder()\n",
        "for col in CAT_COLS:\n",
        "    M1_data[col] = leb.fit_transform(M1_data[col])"
      ],
      "execution_count": 0,
      "outputs": []
    },
    {
      "cell_type": "markdown",
      "metadata": {
        "id": "2vNmbVBGn3rO",
        "colab_type": "text"
      },
      "source": [
        "## Split Train and Test"
      ]
    },
    {
      "cell_type": "code",
      "metadata": {
        "id": "pLdu3ej6Mn6E",
        "colab_type": "code",
        "outputId": "1920a4a7-406f-46c8-c632-d8192c353b76",
        "colab": {
          "base_uri": "https://localhost:8080/",
          "height": 68
        }
      },
      "source": [
        "M1_data['dataset'].value_counts()"
      ],
      "execution_count": 16,
      "outputs": [
        {
          "output_type": "execute_result",
          "data": {
            "text/plain": [
              "1    1708337\n",
              "0     401589\n",
              "Name: dataset, dtype: int64"
            ]
          },
          "metadata": {
            "tags": []
          },
          "execution_count": 16
        }
      ]
    },
    {
      "cell_type": "code",
      "metadata": {
        "id": "l639Tc9E-eDh",
        "colab_type": "code",
        "colab": {}
      },
      "source": [
        "train = M1_data[M1_data['dataset']==1]\n",
        "test = M1_data[M1_data['dataset']==0]\n",
        "train.drop('dataset',axis=1,inplace=True)\n",
        "test.drop('dataset',axis=1, inplace=True)"
      ],
      "execution_count": 0,
      "outputs": []
    },
    {
      "cell_type": "code",
      "metadata": {
        "id": "HWtn8jIC46q0",
        "colab_type": "code",
        "colab": {}
      },
      "source": [
        "CAT_COLS.remove('dataset')"
      ],
      "execution_count": 0,
      "outputs": []
    },
    {
      "cell_type": "code",
      "metadata": {
        "id": "Q-nPE_jO3f8f",
        "colab_type": "code",
        "outputId": "29047dc3-627d-4c25-abb9-069cac202c98",
        "colab": {
          "base_uri": "https://localhost:8080/",
          "height": 34
        }
      },
      "source": [
        "train.shape, test.shape"
      ],
      "execution_count": 19,
      "outputs": [
        {
          "output_type": "execute_result",
          "data": {
            "text/plain": [
              "((1708337, 29), (401589, 29))"
            ]
          },
          "metadata": {
            "tags": []
          },
          "execution_count": 19
        }
      ]
    },
    {
      "cell_type": "markdown",
      "metadata": {
        "id": "uy2r19xmnNnU",
        "colab_type": "text"
      },
      "source": [
        "## Model"
      ]
    },
    {
      "cell_type": "code",
      "metadata": {
        "id": "caB2qeZSMn6N",
        "colab_type": "code",
        "colab": {}
      },
      "source": [
        "\n",
        "from sklearn.model_selection import train_test_split\n",
        "from sklearn.ensemble import RandomForestRegressor\n",
        "from sklearn.ensemble import RandomForestClassifier, GradientBoostingClassifier\n",
        "from sklearn.metrics import accuracy_score as accuracy\n",
        "from sklearn.metrics import r2_score as r2\n",
        "from sklearn.metrics import mean_squared_error as mse\n",
        "from sklearn.metrics import mean_absolute_error as mae\n",
        "rmse = lambda true, pred: mse(true, pred) ** 0.5"
      ],
      "execution_count": 0,
      "outputs": []
    },
    {
      "cell_type": "code",
      "metadata": {
        "id": "6OeFnTYlfRou",
        "colab_type": "code",
        "colab": {}
      },
      "source": [
        "x_train = train[CAT_COLS + CONT_COLS]\n",
        "x_test = test[CAT_COLS + CONT_COLS]\n",
        "y_train = train[[TARGET]]\n",
        "y_test = test[[TARGET]]"
      ],
      "execution_count": 0,
      "outputs": []
    },
    {
      "cell_type": "code",
      "metadata": {
        "id": "jipCBJ2-CvHo",
        "colab_type": "code",
        "outputId": "a47870f0-85ac-4687-b87c-ace66b0c5be1",
        "colab": {
          "base_uri": "https://localhost:8080/",
          "height": 34
        }
      },
      "source": [
        "x_train.shape, x_test.shape, y_train.shape, y_test.shape"
      ],
      "execution_count": 65,
      "outputs": [
        {
          "output_type": "execute_result",
          "data": {
            "text/plain": [
              "((1708337, 27), (401589, 27), (1708337, 1), (401589, 1))"
            ]
          },
          "metadata": {
            "tags": []
          },
          "execution_count": 65
        }
      ]
    },
    {
      "cell_type": "code",
      "metadata": {
        "id": "neGovCrOPZiv",
        "colab_type": "code",
        "outputId": "a85f5bb7-7d9b-48d7-ff1c-ea71bfd9ac0f",
        "colab": {
          "base_uri": "https://localhost:8080/",
          "height": 204
        }
      },
      "source": [
        "x_train.columns"
      ],
      "execution_count": 66,
      "outputs": [
        {
          "output_type": "execute_result",
          "data": {
            "text/plain": [
              "Index(['device.deviceCategory', 'geoNetwork.country', 'customDimension.value',\n",
              "       'geoNetwork.metro', 'geoNetwork.continent', 'trafficSource.medium',\n",
              "       'device.operatingSystem', 'geoNetwork.networkDomain', 'channelGrouping',\n",
              "       'trafficSource.adwordsClickInfo.adNetworkType', 'device.browser',\n",
              "       'geoNetwork.subContinent', 'geoNetwork.region', 'trafficSource.source',\n",
              "       'geoNetwork.city', 'totals.sessionQualityDim', 'totals.timeOnSite',\n",
              "       'totals.bounces', 'visitStartTime', 'totals.pageviews',\n",
              "       'totals.newVisits', 'visitNumber', 'trafficSource.isTrueDirect',\n",
              "       'visitId', 'device.isMobile', 'totals.hits',\n",
              "       'trafficSource.adwordsClickInfo.isVideoAd'],\n",
              "      dtype='object')"
            ]
          },
          "metadata": {
            "tags": []
          },
          "execution_count": 66
        }
      ]
    },
    {
      "cell_type": "code",
      "metadata": {
        "id": "I0kxo3dqHmx2",
        "colab_type": "code",
        "colab": {
          "base_uri": "https://localhost:8080/",
          "height": 68
        },
        "outputId": "5d4e411c-dd96-4f37-d589-5f56821efbda"
      },
      "source": [
        "y_train.is_transaction.value_counts()"
      ],
      "execution_count": 69,
      "outputs": [
        {
          "output_type": "execute_result",
          "data": {
            "text/plain": [
              "0    1689778\n",
              "1      18559\n",
              "Name: is_transaction, dtype: int64"
            ]
          },
          "metadata": {
            "tags": []
          },
          "execution_count": 69
        }
      ]
    },
    {
      "cell_type": "code",
      "metadata": {
        "id": "LaoEumImH42t",
        "colab_type": "code",
        "colab": {}
      },
      "source": [
        "# options for balancing classes\n",
        "# - upsampling: resampling minority class until it is same quantity of majority class\n",
        "# - downsampling: removing samples (randomly) from majority class unitl quantity same as minority\n",
        "# - synthetic (smote): similar to upsampling, algorithmically create new minority samples\n",
        "\n",
        "# choose a better metric for inbalanced classes:\n",
        "# - f score\n",
        "\n",
        "# ensembling methods:\n",
        "# - classification model: make predictions about whether they made purchase (on test set)\n",
        "# - regression model: predicted on dataset with no zeros\n",
        "\n",
        "# options from there:\n",
        "#  - just use these predictions\n",
        "# - average out the results from regression model on all data and regression classification combo"
      ],
      "execution_count": 0,
      "outputs": []
    },
    {
      "cell_type": "code",
      "metadata": {
        "id": "2-Z--Rp7H4k2",
        "colab_type": "code",
        "colab": {}
      },
      "source": [
        "class 1: 51000\n",
        "class 2: 48000"
      ],
      "execution_count": 0,
      "outputs": []
    },
    {
      "cell_type": "code",
      "metadata": {
        "id": "3kZfqOv6LArM",
        "colab_type": "code",
        "colab": {}
      },
      "source": [
        "from sklearn.metrics import f1_score"
      ],
      "execution_count": 0,
      "outputs": []
    },
    {
      "cell_type": "markdown",
      "metadata": {
        "id": "VFLfI1k0LMBG",
        "colab_type": "text"
      },
      "source": [
        ""
      ]
    },
    {
      "cell_type": "code",
      "metadata": {
        "id": "JEeG3gCSMn6l",
        "colab_type": "code",
        "colab": {}
      },
      "source": [
        "model = RandomForestClassifier( \n",
        "    n_estimators=100, # Hyperparameter 1\n",
        "    max_depth=10,      # Hyperparameter 2\n",
        "    random_state=0\n",
        ")"
      ],
      "execution_count": 0,
      "outputs": []
    },
    {
      "cell_type": "code",
      "metadata": {
        "id": "1upqCb_YDz3S",
        "colab_type": "code",
        "colab": {}
      },
      "source": [
        "trained_model = model.fit(x_train, y_train)"
      ],
      "execution_count": 0,
      "outputs": []
    },
    {
      "cell_type": "code",
      "metadata": {
        "id": "azVfGsAvElRD",
        "colab_type": "code",
        "colab": {}
      },
      "source": [
        "def get_error(pred, true):\n",
        "    print(f'RMSE:       {rmse(true, pred)}')\n",
        "    print(f'MAE:        {mae(true, pred)}')\n",
        "    print(f'r2:         {r2(true, pred)}')\n",
        "    print(f'accuracy:   {accuracy(true, pred)}')"
      ],
      "execution_count": 0,
      "outputs": []
    },
    {
      "cell_type": "code",
      "metadata": {
        "id": "V3ljtR_BFD0m",
        "colab_type": "code",
        "outputId": "e80ffad2-2f17-493c-e231-4e9688dcdb37",
        "colab": {
          "base_uri": "https://localhost:8080/",
          "height": 85
        }
      },
      "source": [
        "get_error(pred = trained_model.predict(x_test),\n",
        "          true = y_test)"
      ],
      "execution_count": 27,
      "outputs": [
        {
          "output_type": "stream",
          "text": [
            "RMSE:       0.12464262552462539\n",
            "MAE:        0.015535784097671998\n",
            "r2:         -0.005315705875684307\n",
            "accuracy:   0.984464215902328\n"
          ],
          "name": "stdout"
        }
      ]
    },
    {
      "cell_type": "markdown",
      "metadata": {
        "id": "H9LcznXoVuH5",
        "colab_type": "text"
      },
      "source": [
        "## Submission M1"
      ]
    },
    {
      "cell_type": "code",
      "metadata": {
        "id": "z6lnrKtNZhLE",
        "colab_type": "code",
        "outputId": "5d05b368-a6f4-4adb-e181-23c7952382de",
        "colab": {
          "base_uri": "https://localhost:8080/",
          "height": 34
        }
      },
      "source": [
        "pred_M1 = trained_model.predict(x_test)\n",
        "pred_M1.shape"
      ],
      "execution_count": 28,
      "outputs": [
        {
          "output_type": "execute_result",
          "data": {
            "text/plain": [
              "(401589,)"
            ]
          },
          "metadata": {
            "tags": []
          },
          "execution_count": 28
        }
      ]
    },
    {
      "cell_type": "code",
      "metadata": {
        "id": "IxRNa4dhbfPu",
        "colab_type": "code",
        "outputId": "ea1335ad-f19a-4aa5-f797-6344cc97a926",
        "colab": {
          "base_uri": "https://localhost:8080/",
          "height": 34
        }
      },
      "source": [
        "mylist = list(set(pred_M1))\n",
        "mylist"
      ],
      "execution_count": 29,
      "outputs": [
        {
          "output_type": "execute_result",
          "data": {
            "text/plain": [
              "[0, 1]"
            ]
          },
          "metadata": {
            "tags": []
          },
          "execution_count": 29
        }
      ]
    },
    {
      "cell_type": "code",
      "metadata": {
        "id": "ngonomkTal1L",
        "colab_type": "code",
        "outputId": "b1b4538f-a9a4-4905-c321-18cf8ab278bd",
        "colab": {
          "base_uri": "https://localhost:8080/",
          "height": 34
        }
      },
      "source": [
        "T_predicted = pred_M1[pred_M1!=0]\n",
        "T_predicted.shape"
      ],
      "execution_count": 30,
      "outputs": [
        {
          "output_type": "execute_result",
          "data": {
            "text/plain": [
              "(616,)"
            ]
          },
          "metadata": {
            "tags": []
          },
          "execution_count": 30
        }
      ]
    },
    {
      "cell_type": "code",
      "metadata": {
        "colab_type": "code",
        "id": "lNWP5cDRfxpg",
        "colab": {}
      },
      "source": [
        "#train_id = train[\"fullVisitorId\"].values\n",
        "test_id = test[\"fullVisitorId\"].values"
      ],
      "execution_count": 0,
      "outputs": []
    },
    {
      "cell_type": "code",
      "metadata": {
        "id": "0Dqo1-fjWLH8",
        "colab_type": "code",
        "outputId": "59b5ac6d-de5d-45b3-bc86-e5755547d1ef",
        "colab": {
          "base_uri": "https://localhost:8080/",
          "height": 204
        }
      },
      "source": [
        "sub_M1 = pd.DataFrame({\"fullVisitorId\":test_id})\n",
        "sub_M1['PredictedLogRevenue']= pred_M1\n",
        "sub_M1.head()"
      ],
      "execution_count": 32,
      "outputs": [
        {
          "output_type": "execute_result",
          "data": {
            "text/html": [
              "<div>\n",
              "<style scoped>\n",
              "    .dataframe tbody tr th:only-of-type {\n",
              "        vertical-align: middle;\n",
              "    }\n",
              "\n",
              "    .dataframe tbody tr th {\n",
              "        vertical-align: top;\n",
              "    }\n",
              "\n",
              "    .dataframe thead th {\n",
              "        text-align: right;\n",
              "    }\n",
              "</style>\n",
              "<table border=\"1\" class=\"dataframe\">\n",
              "  <thead>\n",
              "    <tr style=\"text-align: right;\">\n",
              "      <th></th>\n",
              "      <th>fullVisitorId</th>\n",
              "      <th>PredictedLogRevenue</th>\n",
              "    </tr>\n",
              "  </thead>\n",
              "  <tbody>\n",
              "    <tr>\n",
              "      <th>0</th>\n",
              "      <td>7460955084541987166</td>\n",
              "      <td>0</td>\n",
              "    </tr>\n",
              "    <tr>\n",
              "      <th>1</th>\n",
              "      <td>460252456180441002</td>\n",
              "      <td>0</td>\n",
              "    </tr>\n",
              "    <tr>\n",
              "      <th>2</th>\n",
              "      <td>3461808543879602873</td>\n",
              "      <td>0</td>\n",
              "    </tr>\n",
              "    <tr>\n",
              "      <th>3</th>\n",
              "      <td>975129477712150630</td>\n",
              "      <td>0</td>\n",
              "    </tr>\n",
              "    <tr>\n",
              "      <th>4</th>\n",
              "      <td>8381672768065729990</td>\n",
              "      <td>0</td>\n",
              "    </tr>\n",
              "  </tbody>\n",
              "</table>\n",
              "</div>"
            ],
            "text/plain": [
              "         fullVisitorId  PredictedLogRevenue\n",
              "0  7460955084541987166                    0\n",
              "1   460252456180441002                    0\n",
              "2  3461808543879602873                    0\n",
              "3   975129477712150630                    0\n",
              "4  8381672768065729990                    0"
            ]
          },
          "metadata": {
            "tags": []
          },
          "execution_count": 32
        }
      ]
    },
    {
      "cell_type": "code",
      "metadata": {
        "id": "Jr3Doc6-HQTr",
        "colab_type": "code",
        "colab": {}
      },
      "source": [
        "sub_M2.append(sub_M1).drop_duplicates('fullVisitorId')"
      ],
      "execution_count": 0,
      "outputs": []
    },
    {
      "cell_type": "code",
      "metadata": {
        "id": "WtL5Wy_dll0K",
        "colab_type": "code",
        "outputId": "b9b3db2a-f645-4f4a-c98f-38218e4de913",
        "colab": {
          "base_uri": "https://localhost:8080/",
          "height": 34
        }
      },
      "source": [
        "sub_M1.shape"
      ],
      "execution_count": 33,
      "outputs": [
        {
          "output_type": "execute_result",
          "data": {
            "text/plain": [
              "(401589, 2)"
            ]
          },
          "metadata": {
            "tags": []
          },
          "execution_count": 33
        }
      ]
    },
    {
      "cell_type": "code",
      "metadata": {
        "id": "M8jX5htwYZqG",
        "colab_type": "code",
        "outputId": "3363d784-7974-45e2-a418-9a6292a84f0e",
        "colab": {
          "base_uri": "https://localhost:8080/",
          "height": 34
        }
      },
      "source": [
        "Cus_Pre = sub_M1[sub_M1['PredictedLogRevenue']==1]\n",
        "test_id_M2 = Cus_Pre['fullVisitorId']\n",
        "len(test_id_M2)"
      ],
      "execution_count": 34,
      "outputs": [
        {
          "output_type": "execute_result",
          "data": {
            "text/plain": [
              "616"
            ]
          },
          "metadata": {
            "tags": []
          },
          "execution_count": 34
        }
      ]
    },
    {
      "cell_type": "markdown",
      "metadata": {
        "id": "P8S-dtAUJV3b",
        "colab_type": "text"
      },
      "source": [
        "# Model to calculate transaction Revenue"
      ]
    },
    {
      "cell_type": "markdown",
      "metadata": {
        "id": "O19cIcK6WKm2",
        "colab_type": "text"
      },
      "source": [
        "## Encoding Categorical Values - M2"
      ]
    },
    {
      "cell_type": "code",
      "metadata": {
        "colab_type": "code",
        "id": "mx-MBMOwK8Vz",
        "colab": {}
      },
      "source": [
        "TARGET_M2 = 'totals.totalTransactionRevenue'\n",
        "CAT_COLS_M2 = all_data.columns[all_data.dtypes == object].tolist()\n",
        "CONT_COLS_M2 = [c for c in all_data.columns if c not in CAT_COLS_M2 and c != TARGET_M2]\n"
      ],
      "execution_count": 0,
      "outputs": []
    },
    {
      "cell_type": "code",
      "metadata": {
        "colab_type": "code",
        "id": "8-ub0nhQK8WV",
        "colab": {
          "base_uri": "https://localhost:8080/",
          "height": 289
        },
        "outputId": "e18b1284-1a09-4b8c-b346-0ca3aae0804a"
      },
      "source": [
        "CAT_COLS_M2.remove('fullVisitorId')\n",
        "CAT_COLS_M2"
      ],
      "execution_count": 36,
      "outputs": [
        {
          "output_type": "execute_result",
          "data": {
            "text/plain": [
              "['device.deviceCategory',\n",
              " 'geoNetwork.country',\n",
              " 'customDimension.value',\n",
              " 'dataset',\n",
              " 'geoNetwork.metro',\n",
              " 'geoNetwork.continent',\n",
              " 'trafficSource.medium',\n",
              " 'device.operatingSystem',\n",
              " 'geoNetwork.networkDomain',\n",
              " 'channelGrouping',\n",
              " 'trafficSource.adwordsClickInfo.adNetworkType',\n",
              " 'device.browser',\n",
              " 'geoNetwork.subContinent',\n",
              " 'geoNetwork.region',\n",
              " 'trafficSource.source',\n",
              " 'geoNetwork.city']"
            ]
          },
          "metadata": {
            "tags": []
          },
          "execution_count": 36
        }
      ]
    },
    {
      "cell_type": "code",
      "metadata": {
        "colab_type": "code",
        "outputId": "eb1078bf-8ec9-48ee-cfd4-f3853d02c011",
        "id": "IFNsMWXCK8We",
        "colab": {
          "base_uri": "https://localhost:8080/",
          "height": 272
        }
      },
      "source": [
        "#CONT_COLS.remove('totals.transactions')\n",
        "#CONT_COLS.remove('totals.totalTransactionRevenue')\n",
        "CONT_COLS_M2"
      ],
      "execution_count": 37,
      "outputs": [
        {
          "output_type": "execute_result",
          "data": {
            "text/plain": [
              "['totals.sessionQualityDim',\n",
              " 'totals.timeOnSite',\n",
              " 'totals.bounces',\n",
              " 'visitStartTime',\n",
              " 'totals.transactions',\n",
              " 'totals.pageviews',\n",
              " 'date',\n",
              " 'totals.newVisits',\n",
              " 'visitNumber',\n",
              " 'trafficSource.isTrueDirect',\n",
              " 'visitId',\n",
              " 'device.isMobile',\n",
              " 'totals.hits',\n",
              " 'trafficSource.adwordsClickInfo.isVideoAd',\n",
              " 'is_transaction']"
            ]
          },
          "metadata": {
            "tags": []
          },
          "execution_count": 37
        }
      ]
    },
    {
      "cell_type": "code",
      "metadata": {
        "id": "XbI-eThkJkAI",
        "colab_type": "code",
        "outputId": "0fe98fad-32e4-4fc1-8f2c-93b317273bcb",
        "colab": {
          "base_uri": "https://localhost:8080/",
          "height": 697
        }
      },
      "source": [
        "\n",
        "M2_data = deepcopy(all_data[CAT_COLS_M2 + CONT_COLS_M2 + [TARGET_M2]+['fullVisitorId']])\n",
        "\n",
        "M2_data.info()"
      ],
      "execution_count": 38,
      "outputs": [
        {
          "output_type": "stream",
          "text": [
            "<class 'pandas.core.frame.DataFrame'>\n",
            "Int64Index: 2109926 entries, 0 to 401588\n",
            "Data columns (total 33 columns):\n",
            " #   Column                                        Dtype         \n",
            "---  ------                                        -----         \n",
            " 0   device.deviceCategory                         object        \n",
            " 1   geoNetwork.country                            object        \n",
            " 2   customDimension.value                         object        \n",
            " 3   dataset                                       object        \n",
            " 4   geoNetwork.metro                              object        \n",
            " 5   geoNetwork.continent                          object        \n",
            " 6   trafficSource.medium                          object        \n",
            " 7   device.operatingSystem                        object        \n",
            " 8   geoNetwork.networkDomain                      object        \n",
            " 9   channelGrouping                               object        \n",
            " 10  trafficSource.adwordsClickInfo.adNetworkType  object        \n",
            " 11  device.browser                                object        \n",
            " 12  geoNetwork.subContinent                       object        \n",
            " 13  geoNetwork.region                             object        \n",
            " 14  trafficSource.source                          object        \n",
            " 15  geoNetwork.city                               object        \n",
            " 16  totals.sessionQualityDim                      int64         \n",
            " 17  totals.timeOnSite                             int64         \n",
            " 18  totals.bounces                                int64         \n",
            " 19  visitStartTime                                int64         \n",
            " 20  totals.transactions                           int64         \n",
            " 21  totals.pageviews                              int64         \n",
            " 22  date                                          datetime64[ns]\n",
            " 23  totals.newVisits                              int64         \n",
            " 24  visitNumber                                   int64         \n",
            " 25  trafficSource.isTrueDirect                    bool          \n",
            " 26  visitId                                       int64         \n",
            " 27  device.isMobile                               bool          \n",
            " 28  totals.hits                                   float64       \n",
            " 29  trafficSource.adwordsClickInfo.isVideoAd      bool          \n",
            " 30  is_transaction                                int64         \n",
            " 31  totals.totalTransactionRevenue                float64       \n",
            " 32  fullVisitorId                                 object        \n",
            "dtypes: bool(3), datetime64[ns](1), float64(2), int64(10), object(17)\n",
            "memory usage: 505.1+ MB\n"
          ],
          "name": "stdout"
        }
      ]
    },
    {
      "cell_type": "code",
      "metadata": {
        "colab_type": "code",
        "id": "p028rr4dK8Wx",
        "colab": {}
      },
      "source": [
        "leb = LabelEncoder()\n",
        "for col in CAT_COLS_M2:\n",
        "    M2_data[col] = leb.fit_transform(M2_data[col])"
      ],
      "execution_count": 0,
      "outputs": []
    },
    {
      "cell_type": "markdown",
      "metadata": {
        "id": "uZdB5mI6T11X",
        "colab_type": "text"
      },
      "source": [
        "## Split Train and Test - M2"
      ]
    },
    {
      "cell_type": "code",
      "metadata": {
        "colab_type": "code",
        "id": "sqzEJHEzT8NF",
        "colab": {}
      },
      "source": [
        "train_M2 = M2_data[M2_data['dataset']==1]\n",
        "test_M2 = M2_data[M2_data['dataset']==0]\n",
        "train_M2.drop('dataset',axis=1,inplace=True)\n",
        "test_M2.drop('dataset',axis=1, inplace=True)"
      ],
      "execution_count": 0,
      "outputs": []
    },
    {
      "cell_type": "code",
      "metadata": {
        "colab_type": "code",
        "id": "MtXR7NP5T8NN",
        "colab": {}
      },
      "source": [
        "CAT_COLS_M2.remove('dataset')"
      ],
      "execution_count": 0,
      "outputs": []
    },
    {
      "cell_type": "code",
      "metadata": {
        "colab_type": "code",
        "outputId": "f097ea86-d966-49b5-ef5f-6b53ed2f9aac",
        "id": "kHlLMr-gT8NU",
        "colab": {
          "base_uri": "https://localhost:8080/",
          "height": 34
        }
      },
      "source": [
        "train_M2.shape, test_M2.shape"
      ],
      "execution_count": 42,
      "outputs": [
        {
          "output_type": "execute_result",
          "data": {
            "text/plain": [
              "((1708337, 32), (401589, 32))"
            ]
          },
          "metadata": {
            "tags": []
          },
          "execution_count": 42
        }
      ]
    },
    {
      "cell_type": "code",
      "metadata": {
        "id": "MO4H1cmAm2EL",
        "colab_type": "code",
        "colab": {}
      },
      "source": [
        "#df[df['A'].isin([3, 6])]"
      ],
      "execution_count": 0,
      "outputs": []
    },
    {
      "cell_type": "code",
      "metadata": {
        "id": "sK6b5rOsl-ik",
        "colab_type": "code",
        "outputId": "5c50ebf0-2bb3-44b2-a098-cb6b2d3e02a8",
        "colab": {
          "base_uri": "https://localhost:8080/",
          "height": 34
        }
      },
      "source": [
        "P_test_M2 = test_M2[test_M2['fullVisitorId'].isin(test_id_M2)]\n",
        "P_test_M2.drop('is_transaction',axis=1,inplace=True)\n",
        "P_test_M2.shape"
      ],
      "execution_count": 44,
      "outputs": [
        {
          "output_type": "execute_result",
          "data": {
            "text/plain": [
              "(2896, 31)"
            ]
          },
          "metadata": {
            "tags": []
          },
          "execution_count": 44
        }
      ]
    },
    {
      "cell_type": "code",
      "metadata": {
        "id": "pkjf_Q81dEps",
        "colab_type": "code",
        "outputId": "63c487c8-f91c-4bce-a702-354ffe936625",
        "colab": {
          "base_uri": "https://localhost:8080/",
          "height": 221
        }
      },
      "source": [
        "P_test_M2.columns"
      ],
      "execution_count": 45,
      "outputs": [
        {
          "output_type": "execute_result",
          "data": {
            "text/plain": [
              "Index(['device.deviceCategory', 'geoNetwork.country', 'customDimension.value',\n",
              "       'geoNetwork.metro', 'geoNetwork.continent', 'trafficSource.medium',\n",
              "       'device.operatingSystem', 'geoNetwork.networkDomain', 'channelGrouping',\n",
              "       'trafficSource.adwordsClickInfo.adNetworkType', 'device.browser',\n",
              "       'geoNetwork.subContinent', 'geoNetwork.region', 'trafficSource.source',\n",
              "       'geoNetwork.city', 'totals.sessionQualityDim', 'totals.timeOnSite',\n",
              "       'totals.bounces', 'visitStartTime', 'totals.transactions',\n",
              "       'totals.pageviews', 'date', 'totals.newVisits', 'visitNumber',\n",
              "       'trafficSource.isTrueDirect', 'visitId', 'device.isMobile',\n",
              "       'totals.hits', 'trafficSource.adwordsClickInfo.isVideoAd',\n",
              "       'totals.totalTransactionRevenue', 'fullVisitorId'],\n",
              "      dtype='object')"
            ]
          },
          "metadata": {
            "tags": []
          },
          "execution_count": 45
        }
      ]
    },
    {
      "cell_type": "markdown",
      "metadata": {
        "id": "rmdBCA8rUpPV",
        "colab_type": "text"
      },
      "source": [
        "But the training of the transaction revenue is made just with the data from visitors that made at least one transaction"
      ]
    },
    {
      "cell_type": "code",
      "metadata": {
        "colab_type": "code",
        "id": "2df3AG5IYyo8",
        "colab": {}
      },
      "source": [
        "T_train_M2 = train_M2[train_M2['is_transaction']==1]\n",
        "#T_test_M2 = test_M2[test_M2['is_transaction']==1]\n",
        "T_train_M2.drop('is_transaction',axis=1,inplace=True)\n",
        "#T_test_M2.drop('is_transaction',axis=1, inplace=True)"
      ],
      "execution_count": 0,
      "outputs": []
    },
    {
      "cell_type": "code",
      "metadata": {
        "id": "bzXpHFxst1AI",
        "colab_type": "code",
        "outputId": "751945ef-557d-4b90-eb65-485fa9c7de8d",
        "colab": {
          "base_uri": "https://localhost:8080/",
          "height": 272
        }
      },
      "source": [
        "CAT_COLS_M2"
      ],
      "execution_count": 47,
      "outputs": [
        {
          "output_type": "execute_result",
          "data": {
            "text/plain": [
              "['device.deviceCategory',\n",
              " 'geoNetwork.country',\n",
              " 'customDimension.value',\n",
              " 'geoNetwork.metro',\n",
              " 'geoNetwork.continent',\n",
              " 'trafficSource.medium',\n",
              " 'device.operatingSystem',\n",
              " 'geoNetwork.networkDomain',\n",
              " 'channelGrouping',\n",
              " 'trafficSource.adwordsClickInfo.adNetworkType',\n",
              " 'device.browser',\n",
              " 'geoNetwork.subContinent',\n",
              " 'geoNetwork.region',\n",
              " 'trafficSource.source',\n",
              " 'geoNetwork.city']"
            ]
          },
          "metadata": {
            "tags": []
          },
          "execution_count": 47
        }
      ]
    },
    {
      "cell_type": "code",
      "metadata": {
        "id": "KRSTz9I1bh7m",
        "colab_type": "code",
        "colab": {}
      },
      "source": [
        "CONT_COLS_M2.remove('date')\n",
        "CONT_COLS_M2.remove('is_transaction')"
      ],
      "execution_count": 0,
      "outputs": []
    },
    {
      "cell_type": "code",
      "metadata": {
        "id": "zBZi3V3IYyVh",
        "colab_type": "code",
        "outputId": "b452fd59-9d43-4734-adc7-5ec340cbb66c",
        "colab": {
          "base_uri": "https://localhost:8080/",
          "height": 34
        }
      },
      "source": [
        "T_train_M2.shape, P_test_M2.shape"
      ],
      "execution_count": 49,
      "outputs": [
        {
          "output_type": "execute_result",
          "data": {
            "text/plain": [
              "((18559, 31), (2896, 31))"
            ]
          },
          "metadata": {
            "tags": []
          },
          "execution_count": 49
        }
      ]
    },
    {
      "cell_type": "markdown",
      "metadata": {
        "id": "6RJh7DvMaaR3",
        "colab_type": "text"
      },
      "source": [
        "## Model - M2"
      ]
    },
    {
      "cell_type": "code",
      "metadata": {
        "colab_type": "code",
        "id": "Y_iFI2-MaeG5",
        "colab": {}
      },
      "source": [
        "x_train_M2 = T_train_M2[CAT_COLS_M2 + CONT_COLS_M2]\n",
        "x_test_M2 = P_test_M2[CAT_COLS_M2 + CONT_COLS_M2]\n",
        "y_train_M2 = T_train_M2[[TARGET_M2]]\n",
        "y_test_M2 = P_test_M2[[TARGET_M2]]"
      ],
      "execution_count": 0,
      "outputs": []
    },
    {
      "cell_type": "code",
      "metadata": {
        "colab_type": "code",
        "outputId": "21643e2e-37d2-4987-b8fb-604f568a9e30",
        "id": "8ux3VUjAaeHL",
        "colab": {
          "base_uri": "https://localhost:8080/",
          "height": 34
        }
      },
      "source": [
        "x_train_M2.shape, x_test_M2.shape, y_train_M2.shape, y_test_M2.shape"
      ],
      "execution_count": 51,
      "outputs": [
        {
          "output_type": "execute_result",
          "data": {
            "text/plain": [
              "((18559, 28), (2896, 28), (18559, 1), (2896, 1))"
            ]
          },
          "metadata": {
            "tags": []
          },
          "execution_count": 51
        }
      ]
    },
    {
      "cell_type": "code",
      "metadata": {
        "id": "3jj4Tph_TQ3P",
        "colab_type": "code",
        "outputId": "8886e289-6e98-420c-9eb6-878641d29b82",
        "colab": {
          "base_uri": "https://localhost:8080/",
          "height": 224
        }
      },
      "source": [
        "x_test_M2.head(5)"
      ],
      "execution_count": 52,
      "outputs": [
        {
          "output_type": "execute_result",
          "data": {
            "text/html": [
              "<div>\n",
              "<style scoped>\n",
              "    .dataframe tbody tr th:only-of-type {\n",
              "        vertical-align: middle;\n",
              "    }\n",
              "\n",
              "    .dataframe tbody tr th {\n",
              "        vertical-align: top;\n",
              "    }\n",
              "\n",
              "    .dataframe thead th {\n",
              "        text-align: right;\n",
              "    }\n",
              "</style>\n",
              "<table border=\"1\" class=\"dataframe\">\n",
              "  <thead>\n",
              "    <tr style=\"text-align: right;\">\n",
              "      <th></th>\n",
              "      <th>device.deviceCategory</th>\n",
              "      <th>geoNetwork.country</th>\n",
              "      <th>customDimension.value</th>\n",
              "      <th>geoNetwork.metro</th>\n",
              "      <th>geoNetwork.continent</th>\n",
              "      <th>trafficSource.medium</th>\n",
              "      <th>device.operatingSystem</th>\n",
              "      <th>geoNetwork.networkDomain</th>\n",
              "      <th>channelGrouping</th>\n",
              "      <th>trafficSource.adwordsClickInfo.adNetworkType</th>\n",
              "      <th>device.browser</th>\n",
              "      <th>geoNetwork.subContinent</th>\n",
              "      <th>geoNetwork.region</th>\n",
              "      <th>trafficSource.source</th>\n",
              "      <th>geoNetwork.city</th>\n",
              "      <th>totals.sessionQualityDim</th>\n",
              "      <th>totals.timeOnSite</th>\n",
              "      <th>totals.bounces</th>\n",
              "      <th>visitStartTime</th>\n",
              "      <th>totals.transactions</th>\n",
              "      <th>totals.pageviews</th>\n",
              "      <th>totals.newVisits</th>\n",
              "      <th>visitNumber</th>\n",
              "      <th>trafficSource.isTrueDirect</th>\n",
              "      <th>visitId</th>\n",
              "      <th>device.isMobile</th>\n",
              "      <th>totals.hits</th>\n",
              "      <th>trafficSource.adwordsClickInfo.isVideoAd</th>\n",
              "    </tr>\n",
              "  </thead>\n",
              "  <tbody>\n",
              "    <tr>\n",
              "      <th>268</th>\n",
              "      <td>0</td>\n",
              "      <td>219</td>\n",
              "      <td>4</td>\n",
              "      <td>129</td>\n",
              "      <td>2</td>\n",
              "      <td>0</td>\n",
              "      <td>3</td>\n",
              "      <td>36034</td>\n",
              "      <td>2</td>\n",
              "      <td>0</td>\n",
              "      <td>55</td>\n",
              "      <td>12</td>\n",
              "      <td>517</td>\n",
              "      <td>0</td>\n",
              "      <td>1096</td>\n",
              "      <td>53</td>\n",
              "      <td>302</td>\n",
              "      <td>0</td>\n",
              "      <td>1526043913</td>\n",
              "      <td>1</td>\n",
              "      <td>10</td>\n",
              "      <td>1</td>\n",
              "      <td>1</td>\n",
              "      <td>True</td>\n",
              "      <td>1526043913</td>\n",
              "      <td>False</td>\n",
              "      <td>11.0</td>\n",
              "      <td>True</td>\n",
              "    </tr>\n",
              "    <tr>\n",
              "      <th>465</th>\n",
              "      <td>0</td>\n",
              "      <td>219</td>\n",
              "      <td>4</td>\n",
              "      <td>78</td>\n",
              "      <td>2</td>\n",
              "      <td>0</td>\n",
              "      <td>7</td>\n",
              "      <td>45519</td>\n",
              "      <td>6</td>\n",
              "      <td>0</td>\n",
              "      <td>55</td>\n",
              "      <td>12</td>\n",
              "      <td>304</td>\n",
              "      <td>0</td>\n",
              "      <td>664</td>\n",
              "      <td>89</td>\n",
              "      <td>720</td>\n",
              "      <td>0</td>\n",
              "      <td>1526068670</td>\n",
              "      <td>1</td>\n",
              "      <td>22</td>\n",
              "      <td>0</td>\n",
              "      <td>8</td>\n",
              "      <td>True</td>\n",
              "      <td>1526068670</td>\n",
              "      <td>False</td>\n",
              "      <td>24.0</td>\n",
              "      <td>True</td>\n",
              "    </tr>\n",
              "    <tr>\n",
              "      <th>523</th>\n",
              "      <td>0</td>\n",
              "      <td>219</td>\n",
              "      <td>4</td>\n",
              "      <td>21</td>\n",
              "      <td>2</td>\n",
              "      <td>0</td>\n",
              "      <td>7</td>\n",
              "      <td>0</td>\n",
              "      <td>6</td>\n",
              "      <td>0</td>\n",
              "      <td>55</td>\n",
              "      <td>12</td>\n",
              "      <td>205</td>\n",
              "      <td>0</td>\n",
              "      <td>212</td>\n",
              "      <td>86</td>\n",
              "      <td>1183</td>\n",
              "      <td>0</td>\n",
              "      <td>1526065013</td>\n",
              "      <td>1</td>\n",
              "      <td>31</td>\n",
              "      <td>1</td>\n",
              "      <td>1</td>\n",
              "      <td>False</td>\n",
              "      <td>1526065013</td>\n",
              "      <td>False</td>\n",
              "      <td>41.0</td>\n",
              "      <td>True</td>\n",
              "    </tr>\n",
              "    <tr>\n",
              "      <th>524</th>\n",
              "      <td>0</td>\n",
              "      <td>219</td>\n",
              "      <td>4</td>\n",
              "      <td>104</td>\n",
              "      <td>2</td>\n",
              "      <td>5</td>\n",
              "      <td>7</td>\n",
              "      <td>0</td>\n",
              "      <td>4</td>\n",
              "      <td>0</td>\n",
              "      <td>55</td>\n",
              "      <td>12</td>\n",
              "      <td>74</td>\n",
              "      <td>117</td>\n",
              "      <td>858</td>\n",
              "      <td>93</td>\n",
              "      <td>1051</td>\n",
              "      <td>0</td>\n",
              "      <td>1526066944</td>\n",
              "      <td>0</td>\n",
              "      <td>33</td>\n",
              "      <td>0</td>\n",
              "      <td>4</td>\n",
              "      <td>True</td>\n",
              "      <td>1526066944</td>\n",
              "      <td>False</td>\n",
              "      <td>41.0</td>\n",
              "      <td>True</td>\n",
              "    </tr>\n",
              "    <tr>\n",
              "      <th>537</th>\n",
              "      <td>0</td>\n",
              "      <td>219</td>\n",
              "      <td>4</td>\n",
              "      <td>104</td>\n",
              "      <td>2</td>\n",
              "      <td>5</td>\n",
              "      <td>3</td>\n",
              "      <td>0</td>\n",
              "      <td>4</td>\n",
              "      <td>0</td>\n",
              "      <td>55</td>\n",
              "      <td>12</td>\n",
              "      <td>74</td>\n",
              "      <td>117</td>\n",
              "      <td>950</td>\n",
              "      <td>84</td>\n",
              "      <td>1917</td>\n",
              "      <td>0</td>\n",
              "      <td>1526079483</td>\n",
              "      <td>0</td>\n",
              "      <td>42</td>\n",
              "      <td>0</td>\n",
              "      <td>33</td>\n",
              "      <td>True</td>\n",
              "      <td>1526079483</td>\n",
              "      <td>False</td>\n",
              "      <td>59.0</td>\n",
              "      <td>True</td>\n",
              "    </tr>\n",
              "  </tbody>\n",
              "</table>\n",
              "</div>"
            ],
            "text/plain": [
              "     device.deviceCategory  ...  trafficSource.adwordsClickInfo.isVideoAd\n",
              "268                      0  ...                                      True\n",
              "465                      0  ...                                      True\n",
              "523                      0  ...                                      True\n",
              "524                      0  ...                                      True\n",
              "537                      0  ...                                      True\n",
              "\n",
              "[5 rows x 28 columns]"
            ]
          },
          "metadata": {
            "tags": []
          },
          "execution_count": 52
        }
      ]
    },
    {
      "cell_type": "code",
      "metadata": {
        "id": "L2NhN2hTTDib",
        "colab_type": "code",
        "outputId": "d48887c4-600c-4933-b872-297bb39e87cc",
        "colab": {
          "base_uri": "https://localhost:8080/",
          "height": 204
        }
      },
      "source": [
        "y_train_M2.head(5)"
      ],
      "execution_count": 53,
      "outputs": [
        {
          "output_type": "execute_result",
          "data": {
            "text/html": [
              "<div>\n",
              "<style scoped>\n",
              "    .dataframe tbody tr th:only-of-type {\n",
              "        vertical-align: middle;\n",
              "    }\n",
              "\n",
              "    .dataframe tbody tr th {\n",
              "        vertical-align: top;\n",
              "    }\n",
              "\n",
              "    .dataframe thead th {\n",
              "        text-align: right;\n",
              "    }\n",
              "</style>\n",
              "<table border=\"1\" class=\"dataframe\">\n",
              "  <thead>\n",
              "    <tr style=\"text-align: right;\">\n",
              "      <th></th>\n",
              "      <th>totals.totalTransactionRevenue</th>\n",
              "    </tr>\n",
              "  </thead>\n",
              "  <tbody>\n",
              "    <tr>\n",
              "      <th>433</th>\n",
              "      <td>17190000.0</td>\n",
              "    </tr>\n",
              "    <tr>\n",
              "      <th>550</th>\n",
              "      <td>13000000.0</td>\n",
              "    </tr>\n",
              "    <tr>\n",
              "      <th>555</th>\n",
              "      <td>65300000.0</td>\n",
              "    </tr>\n",
              "    <tr>\n",
              "      <th>597</th>\n",
              "      <td>25230000.0</td>\n",
              "    </tr>\n",
              "    <tr>\n",
              "      <th>619</th>\n",
              "      <td>16310000.0</td>\n",
              "    </tr>\n",
              "  </tbody>\n",
              "</table>\n",
              "</div>"
            ],
            "text/plain": [
              "     totals.totalTransactionRevenue\n",
              "433                      17190000.0\n",
              "550                      13000000.0\n",
              "555                      65300000.0\n",
              "597                      25230000.0\n",
              "619                      16310000.0"
            ]
          },
          "metadata": {
            "tags": []
          },
          "execution_count": 53
        }
      ]
    },
    {
      "cell_type": "code",
      "metadata": {
        "colab_type": "code",
        "id": "tgzCAmIgaeHU",
        "colab": {}
      },
      "source": [
        "model_M2 = RandomForestRegressor( \n",
        "    n_estimators=100, # Hyperparameter 1\n",
        "    max_depth=10,      # Hyperparameter 2\n",
        "    random_state=0\n",
        ")"
      ],
      "execution_count": 0,
      "outputs": []
    },
    {
      "cell_type": "code",
      "metadata": {
        "colab_type": "code",
        "id": "sgvenKaoaeHc",
        "colab": {}
      },
      "source": [
        "trained_model_M2 = model_M2.fit(x_train_M2, y_train_M2)"
      ],
      "execution_count": 0,
      "outputs": []
    },
    {
      "cell_type": "code",
      "metadata": {
        "id": "EPg2IvWTc4TM",
        "colab_type": "code",
        "colab": {}
      },
      "source": [
        "def get_error_regression(pred, true):\n",
        "    print(f'RMSE:       {rmse(true, pred)}')\n",
        "    print(f'MAE:        {mae(true, pred)}')\n",
        "    print(f'r2:         {r2(true, pred)}')"
      ],
      "execution_count": 0,
      "outputs": []
    },
    {
      "cell_type": "code",
      "metadata": {
        "colab_type": "code",
        "outputId": "a35b98de-19ba-4aab-9f44-5b3b7f57fac7",
        "id": "ug6PJQ4QaeHq",
        "colab": {
          "base_uri": "https://localhost:8080/",
          "height": 68
        }
      },
      "source": [
        "get_error_regression(pred = trained_model_M2.predict(x_test_M2),\n",
        "          true = y_test_M2)"
      ],
      "execution_count": 59,
      "outputs": [
        {
          "output_type": "stream",
          "text": [
            "RMSE:       320211992.27924687\n",
            "MAE:        192988131.79212126\n",
            "r2:         -0.7206165704002387\n"
          ],
          "name": "stdout"
        }
      ]
    },
    {
      "cell_type": "code",
      "metadata": {
        "id": "D8Cdd5-QU3VV",
        "colab_type": "code",
        "outputId": "4aa672f1-b160-486c-bcad-9bb47f0e3a3d",
        "colab": {
          "base_uri": "https://localhost:8080/",
          "height": 34
        }
      },
      "source": [
        "pred_M2 = trained_model_M2.predict(x_test_M2)\n",
        "pred_M2.shape"
      ],
      "execution_count": 61,
      "outputs": [
        {
          "output_type": "execute_result",
          "data": {
            "text/plain": [
              "(2896,)"
            ]
          },
          "metadata": {
            "tags": []
          },
          "execution_count": 61
        }
      ]
    },
    {
      "cell_type": "code",
      "metadata": {
        "id": "Ex7rrB26zKjU",
        "colab_type": "code",
        "outputId": "891bd129-3774-4f33-f1ea-84cc06ac47cb",
        "colab": {
          "base_uri": "https://localhost:8080/",
          "height": 34
        }
      },
      "source": [
        "test_id_M2 = P_test_M2[\"fullVisitorId\"].values\n",
        "len(test_id_M2) #2896"
      ],
      "execution_count": 62,
      "outputs": [
        {
          "output_type": "execute_result",
          "data": {
            "text/plain": [
              "2896"
            ]
          },
          "metadata": {
            "tags": []
          },
          "execution_count": 62
        }
      ]
    },
    {
      "cell_type": "code",
      "metadata": {
        "id": "BEEBzkP0yMVO",
        "colab_type": "code",
        "outputId": "db469225-4baf-45d7-9fde-5f4fac52da91",
        "colab": {
          "base_uri": "https://localhost:8080/",
          "height": 419
        }
      },
      "source": [
        "sub_M2 = pd.DataFrame({'fullVisitorId':test_id_M2})\n",
        "sub_M2['PredictedLogRevenue']= pred_M2\n",
        "sub_M2"
      ],
      "execution_count": 63,
      "outputs": [
        {
          "output_type": "execute_result",
          "data": {
            "text/html": [
              "<div>\n",
              "<style scoped>\n",
              "    .dataframe tbody tr th:only-of-type {\n",
              "        vertical-align: middle;\n",
              "    }\n",
              "\n",
              "    .dataframe tbody tr th {\n",
              "        vertical-align: top;\n",
              "    }\n",
              "\n",
              "    .dataframe thead th {\n",
              "        text-align: right;\n",
              "    }\n",
              "</style>\n",
              "<table border=\"1\" class=\"dataframe\">\n",
              "  <thead>\n",
              "    <tr style=\"text-align: right;\">\n",
              "      <th></th>\n",
              "      <th>fullVisitorId</th>\n",
              "      <th>PredictedLogRevenue</th>\n",
              "    </tr>\n",
              "  </thead>\n",
              "  <tbody>\n",
              "    <tr>\n",
              "      <th>0</th>\n",
              "      <td>0567632072087918290</td>\n",
              "      <td>1.021014e+08</td>\n",
              "    </tr>\n",
              "    <tr>\n",
              "      <th>1</th>\n",
              "      <td>6533935296546803942</td>\n",
              "      <td>1.701716e+08</td>\n",
              "    </tr>\n",
              "    <tr>\n",
              "      <th>2</th>\n",
              "      <td>6915727589933825896</td>\n",
              "      <td>1.787653e+08</td>\n",
              "    </tr>\n",
              "    <tr>\n",
              "      <th>3</th>\n",
              "      <td>7026569611903775237</td>\n",
              "      <td>2.844919e+08</td>\n",
              "    </tr>\n",
              "    <tr>\n",
              "      <th>4</th>\n",
              "      <td>9086750370904150473</td>\n",
              "      <td>7.715089e+08</td>\n",
              "    </tr>\n",
              "    <tr>\n",
              "      <th>...</th>\n",
              "      <td>...</td>\n",
              "      <td>...</td>\n",
              "    </tr>\n",
              "    <tr>\n",
              "      <th>2891</th>\n",
              "      <td>1910386618397093241</td>\n",
              "      <td>1.441706e+08</td>\n",
              "    </tr>\n",
              "    <tr>\n",
              "      <th>2892</th>\n",
              "      <td>337985019851056231</td>\n",
              "      <td>2.571307e+08</td>\n",
              "    </tr>\n",
              "    <tr>\n",
              "      <th>2893</th>\n",
              "      <td>682936834982435280</td>\n",
              "      <td>9.443450e+07</td>\n",
              "    </tr>\n",
              "    <tr>\n",
              "      <th>2894</th>\n",
              "      <td>7366352801264971447</td>\n",
              "      <td>5.109276e+08</td>\n",
              "    </tr>\n",
              "    <tr>\n",
              "      <th>2895</th>\n",
              "      <td>8665078014499866389</td>\n",
              "      <td>3.179087e+08</td>\n",
              "    </tr>\n",
              "  </tbody>\n",
              "</table>\n",
              "<p>2896 rows × 2 columns</p>\n",
              "</div>"
            ],
            "text/plain": [
              "            fullVisitorId  PredictedLogRevenue\n",
              "0     0567632072087918290         1.021014e+08\n",
              "1     6533935296546803942         1.701716e+08\n",
              "2     6915727589933825896         1.787653e+08\n",
              "3     7026569611903775237         2.844919e+08\n",
              "4     9086750370904150473         7.715089e+08\n",
              "...                   ...                  ...\n",
              "2891  1910386618397093241         1.441706e+08\n",
              "2892   337985019851056231         2.571307e+08\n",
              "2893   682936834982435280         9.443450e+07\n",
              "2894  7366352801264971447         5.109276e+08\n",
              "2895  8665078014499866389         3.179087e+08\n",
              "\n",
              "[2896 rows x 2 columns]"
            ]
          },
          "metadata": {
            "tags": []
          },
          "execution_count": 63
        }
      ]
    },
    {
      "cell_type": "markdown",
      "metadata": {
        "id": "AOB1bxSAWjrT",
        "colab_type": "text"
      },
      "source": [
        "# build a submission file"
      ]
    },
    {
      "cell_type": "code",
      "metadata": {
        "id": "5trncfZoWh2h",
        "colab_type": "code",
        "colab": {}
      },
      "source": [
        "\n",
        "test_id = test[\"fullVisitorId\"].values"
      ],
      "execution_count": 0,
      "outputs": []
    },
    {
      "cell_type": "code",
      "metadata": {
        "id": "cwPA6ZsGY68k",
        "colab_type": "code",
        "colab": {}
      },
      "source": [
        "sub_df = pd.DataFrame({\"fullVisitorId\":test_id})\n",
        "pred_M2[pred_M2<0] = 0\n",
        "#pred_test[pred_test<0] = 0\n",
        "#sub_df[\"PredictedLogRevenue\"] = np.expm1(pred_test)\n",
        "#sub_df = sub_df.groupby(\"fullVisitorId\")[\"PredictedLogRevenue\"].sum().reset_index()\n",
        "#sub_df.columns = [\"fullVisitorId\", \"PredictedLogRevenue\"]\n",
        "#sub_df[\"PredictedLogRevenue\"] = np.log1p(sub_df[\"PredictedLogRevenue\"])\n",
        "#sub_df.to_csv(\"baseline_lgb.csv\", index=False)"
      ],
      "execution_count": 0,
      "outputs": []
    },
    {
      "cell_type": "code",
      "metadata": {
        "id": "CT29Z3IyZt9C",
        "colab_type": "code",
        "outputId": "555c68b4-9b7d-4b43-eebc-5e38075b9e3f",
        "colab": {
          "base_uri": "https://localhost:8080/",
          "height": 34
        }
      },
      "source": [
        "pred_M1.shape, pred_M2.shape"
      ],
      "execution_count": 0,
      "outputs": [
        {
          "output_type": "execute_result",
          "data": {
            "text/plain": [
              "((401589,), (6305,))"
            ]
          },
          "metadata": {
            "tags": []
          },
          "execution_count": 104
        }
      ]
    },
    {
      "cell_type": "code",
      "metadata": {
        "id": "bJ4kkFpJaMnP",
        "colab_type": "code",
        "colab": {}
      },
      "source": [
        ""
      ],
      "execution_count": 0,
      "outputs": []
    },
    {
      "cell_type": "code",
      "metadata": {
        "id": "rqb9-avzZVGC",
        "colab_type": "code",
        "outputId": "62e299e4-b2ea-4323-8717-2916a41f9ff4",
        "colab": {
          "base_uri": "https://localhost:8080/",
          "height": 34
        }
      },
      "source": [
        "sub_df.shape"
      ],
      "execution_count": 0,
      "outputs": [
        {
          "output_type": "execute_result",
          "data": {
            "text/plain": [
              "(401589, 1)"
            ]
          },
          "metadata": {
            "tags": []
          },
          "execution_count": 101
        }
      ]
    }
  ]
}