{
  "nbformat": 4,
  "nbformat_minor": 0,
  "metadata": {
    "kernelspec": {
      "display_name": "Python 3",
      "language": "python",
      "name": "python3"
    },
    "toc": {
      "base_numbering": 1,
      "nav_menu": {},
      "number_sections": true,
      "sideBar": true,
      "skip_h1_title": false,
      "title_cell": "Table of Contents",
      "title_sidebar": "Contents",
      "toc_cell": false,
      "toc_position": {},
      "toc_section_display": true,
      "toc_window_display": false
    },
    "colab": {
      "name": "ML_GACRP_PIPELINE.ipynb",
      "provenance": [],
      "toc_visible": true,
      "include_colab_link": true
    }
  },
  "cells": [
    {
      "cell_type": "markdown",
      "metadata": {
        "id": "view-in-github",
        "colab_type": "text"
      },
      "source": [
        "<a href=\"https://colab.research.google.com/github/yeialgov/MAYC_ML_Revenue_Prediction/blob/patch-1/Classification%20and%20Regression.ipynb\" target=\"_parent\"><img src=\"https://colab.research.google.com/assets/colab-badge.svg\" alt=\"Open In Colab\"/></a>"
      ]
    },
    {
      "cell_type": "code",
      "metadata": {
        "id": "Q7NUxl3iMn1H",
        "colab_type": "code",
        "colab": {}
      },
      "source": [
        "# download the libraries\n",
        "import pandas as pd\n",
        "from pandas import Series,DataFrame\n",
        "import warnings\n",
        "from copy import deepcopy\n",
        "import os\n",
        "warnings.filterwarnings('ignore')\n",
        "import numpy as np\n",
        "import matplotlib.pyplot as plt\n",
        "import seaborn as sns\n",
        "from datetime import datetime\n",
        "from sklearn.preprocessing import LabelEncoder\n",
        "import random\n",
        "%matplotlib inline"
      ],
      "execution_count": 0,
      "outputs": []
    },
    {
      "cell_type": "code",
      "metadata": {
        "id": "ARFvfk1yzZkv",
        "colab_type": "code",
        "colab": {}
      },
      "source": [
        "from sklearn.preprocessing import LabelEncoder"
      ],
      "execution_count": 0,
      "outputs": []
    },
    {
      "cell_type": "markdown",
      "metadata": {
        "id": "C_rtWx5Y7qVw",
        "colab_type": "text"
      },
      "source": [
        "# Getting the data"
      ]
    },
    {
      "cell_type": "code",
      "metadata": {
        "id": "odFQDYPTNLMc",
        "colab_type": "code",
        "outputId": "1872d963-d4c4-4027-d0af-e44229a700a3",
        "colab": {
          "base_uri": "https://localhost:8080/",
          "height": 122
        }
      },
      "source": [
        "from google.colab import drive\n",
        "drive.mount('/content/gdrive')"
      ],
      "execution_count": 4,
      "outputs": [
        {
          "output_type": "stream",
          "text": [
            "Go to this URL in a browser: https://accounts.google.com/o/oauth2/auth?client_id=947318989803-6bn6qk8qdgf4n4g3pfee6491hc0brc4i.apps.googleusercontent.com&redirect_uri=urn%3aietf%3awg%3aoauth%3a2.0%3aoob&response_type=code&scope=email%20https%3a%2f%2fwww.googleapis.com%2fauth%2fdocs.test%20https%3a%2f%2fwww.googleapis.com%2fauth%2fdrive%20https%3a%2f%2fwww.googleapis.com%2fauth%2fdrive.photos.readonly%20https%3a%2f%2fwww.googleapis.com%2fauth%2fpeopleapi.readonly\n",
            "\n",
            "Enter your authorization code:\n",
            "··········\n",
            "Mounted at /content/gdrive\n"
          ],
          "name": "stdout"
        }
      ]
    },
    {
      "cell_type": "code",
      "metadata": {
        "id": "1meGr2fGNX0J",
        "colab_type": "code",
        "outputId": "c88c0b79-e0c3-49e0-b487-707dc7495558",
        "colab": {
          "base_uri": "https://localhost:8080/",
          "height": 34
        }
      },
      "source": [
        "cd '/content/gdrive/My Drive/ReDi_DA_Project/Datasets_Clean/'"
      ],
      "execution_count": 5,
      "outputs": [
        {
          "output_type": "stream",
          "text": [
            "/content/gdrive/My Drive/ReDi_DA_Project/Datasets_Clean\n"
          ],
          "name": "stdout"
        }
      ]
    },
    {
      "cell_type": "code",
      "metadata": {
        "id": "bpHQzAS3uTLQ",
        "colab_type": "code",
        "colab": {}
      },
      "source": [
        "all_data = pd.read_csv('all_data.csv')\n"
      ],
      "execution_count": 0,
      "outputs": []
    },
    {
      "cell_type": "code",
      "metadata": {
        "id": "TdBiwu7sMn4o",
        "colab_type": "code",
        "outputId": "878ca56f-7ad8-4b0d-d7b8-a50df8f6cfa3",
        "colab": {
          "base_uri": "https://localhost:8080/",
          "height": 34
        }
      },
      "source": [
        "all_data.isnull().sum().sum()"
      ],
      "execution_count": 55,
      "outputs": [
        {
          "output_type": "execute_result",
          "data": {
            "text/plain": [
              "0"
            ]
          },
          "metadata": {
            "tags": []
          },
          "execution_count": 55
        }
      ]
    },
    {
      "cell_type": "code",
      "metadata": {
        "id": "L3uwVOjkSDK_",
        "colab_type": "code",
        "outputId": "4251f02c-a325-4b55-c522-cfbb218d654f",
        "colab": {
          "base_uri": "https://localhost:8080/",
          "height": 697
        }
      },
      "source": [
        "all_data.info()"
      ],
      "execution_count": 8,
      "outputs": [
        {
          "output_type": "stream",
          "text": [
            "<class 'pandas.core.frame.DataFrame'>\n",
            "RangeIndex: 2109926 entries, 0 to 2109925\n",
            "Data columns (total 33 columns):\n",
            " #   Column                                        Dtype  \n",
            "---  ------                                        -----  \n",
            " 0   geoNetwork.subContinent                       object \n",
            " 1   customDimension.value                         object \n",
            " 2   totals.transactionRevenue                     float64\n",
            " 3   fullVisitorId                                 object \n",
            " 4   totals.bounces                                int64  \n",
            " 5   geoNetwork.region                             object \n",
            " 6   date                                          object \n",
            " 7   visitStartTime                                int64  \n",
            " 8   totals.sessionQualityDim                      int64  \n",
            " 9   trafficSource.adwordsClickInfo.isVideoAd      bool   \n",
            " 10  totals.timeOnSite                             int64  \n",
            " 11  device.deviceCategory                         object \n",
            " 12  geoNetwork.city                               object \n",
            " 13  trafficSource.source                          object \n",
            " 14  device.operatingSystem                        object \n",
            " 15  totals.transactions                           int64  \n",
            " 16  visitNumber                                   int64  \n",
            " 17  geoNetwork.metro                              object \n",
            " 18  totals.hits                                   float64\n",
            " 19  totals.newVisits                              int64  \n",
            " 20  trafficSource.isTrueDirect                    bool   \n",
            " 21  trafficSource.adwordsClickInfo.adNetworkType  object \n",
            " 22  trafficSource.medium                          object \n",
            " 23  totals.totalTransactionRevenue                float64\n",
            " 24  channelGrouping                               object \n",
            " 25  device.isMobile                               bool   \n",
            " 26  geoNetwork.continent                          object \n",
            " 27  geoNetwork.country                            object \n",
            " 28  visitId                                       int64  \n",
            " 29  device.browser                                object \n",
            " 30  dataset                                       object \n",
            " 31  geoNetwork.networkDomain                      object \n",
            " 32  totals.pageviews                              int64  \n",
            "dtypes: bool(3), float64(3), int64(9), object(18)\n",
            "memory usage: 489.0+ MB\n"
          ],
          "name": "stdout"
        }
      ]
    },
    {
      "cell_type": "code",
      "metadata": {
        "id": "RZHqyCiEMn5E",
        "colab_type": "code",
        "colab": {}
      },
      "source": [
        "'''\n",
        "columns to hotcode\n",
        "\n",
        "channelGrouping                               object  unique values:  8\n",
        "date                                          int64  - convert to date time\n",
        "fullVisitorId                                 object - organisers insist to be left as str\n",
        "device.browser                                object - unique values:  129\n",
        "device.operatingSystem                        object - unique values:  24\n",
        "device.isMobile                               bool   - unique values:  2\n",
        "device.deviceCategory                         object - unique values:  3\n",
        "geoNetwork.continent                          object - unique values:  6\n",
        "geoNetwork.subContinent                       object - unique values:  23\n",
        "geoNetwork.country                            object - unique values:  228\n",
        "geoNetwork.region                             object - unique values:  284\n",
        "geoNetwork.metro                              object - unique values:  123\n",
        "geoNetwork.city                               object - unique values:  956\n",
        "geoNetwork.networkDomain                      object - unique values:  41982\n",
        "totals.sessionQualityDim                      object - convert to interger\n",
        "totals.timeOnSite                             object - convert to interger\n",
        "trafficSource.source                          object - unique values:  345\n",
        "trafficSource.medium                          object - unique values:  7\n",
        "trafficSource.isTrueDirect                    bool   - unique values:  2 \n",
        "trafficSource.adwordsClickInfo.adNetworkType  object - unique values:  3\n",
        "trafficSource.adwordsClickInfo.isVideoAd      bool   - unique values:  2 \n",
        "customDimension.value                         object - unique values:  5\n",
        "'''"
      ],
      "execution_count": 0,
      "outputs": []
    },
    {
      "cell_type": "markdown",
      "metadata": {
        "id": "IX-_z2KKTzdX",
        "colab_type": "text"
      },
      "source": [
        "# Model to search the visitors who made transactions"
      ]
    },
    {
      "cell_type": "markdown",
      "metadata": {
        "id": "hkfsY1lCndsI",
        "colab_type": "text"
      },
      "source": [
        "## Function to define Target Column"
      ]
    },
    {
      "cell_type": "code",
      "metadata": {
        "id": "ZvuMz0A4Vaa_",
        "colab_type": "code",
        "colab": {}
      },
      "source": [
        "def is_transaction(n):\n",
        "  if n == 0    :    return 0\n",
        "  else         :    return 1\n",
        "\n",
        "all_data['is_transaction']=all_data['totals.transactions'].apply(is_transaction)"
      ],
      "execution_count": 0,
      "outputs": []
    },
    {
      "cell_type": "code",
      "metadata": {
        "id": "eS1z0ILdXM2m",
        "colab_type": "code",
        "outputId": "f8c2565a-e5ff-465c-87bd-2e9e83fd623f",
        "colab": {
          "base_uri": "https://localhost:8080/",
          "height": 68
        }
      },
      "source": [
        "all_data['is_transaction'].value_counts()\n"
      ],
      "execution_count": 10,
      "outputs": [
        {
          "output_type": "execute_result",
          "data": {
            "text/plain": [
              "0    2085062\n",
              "1      24864\n",
              "Name: is_transaction, dtype: int64"
            ]
          },
          "metadata": {
            "tags": []
          },
          "execution_count": 10
        }
      ]
    },
    {
      "cell_type": "markdown",
      "metadata": {
        "id": "P8-K3JmAoLzB",
        "colab_type": "text"
      },
      "source": [
        "## Encoding Categorical Values"
      ]
    },
    {
      "cell_type": "code",
      "metadata": {
        "id": "iEYlXnzRPzJ-",
        "colab_type": "code",
        "colab": {}
      },
      "source": [
        "TARGET = 'is_transaction'\n",
        "CAT_COLS = all_data.columns[all_data.dtypes == object].tolist()\n",
        "CONT_COLS = [c for c in all_data.columns if c not in CAT_COLS and c != TARGET]\n"
      ],
      "execution_count": 0,
      "outputs": []
    },
    {
      "cell_type": "code",
      "metadata": {
        "id": "TGhChyUCvssN",
        "colab_type": "code",
        "colab": {}
      },
      "source": [
        "CAT_COLS.remove('date')\n",
        "CAT_COLS.remove('fullVisitorId')\n",
        "CAT_COLS"
      ],
      "execution_count": 0,
      "outputs": []
    },
    {
      "cell_type": "code",
      "metadata": {
        "id": "9Qh6ZwLQgG8B",
        "colab_type": "code",
        "colab": {
          "base_uri": "https://localhost:8080/",
          "height": 255
        },
        "outputId": "992fa8cc-0e04-4c55-ade1-b4f68892a052"
      },
      "source": [
        "CONT_COLS.remove('totals.transactions')\n",
        "CONT_COLS.remove('totals.transactionRevenue')\n",
        "CONT_COLS.remove('totals.totalTransactionRevenue')\n",
        "CONT_COLS"
      ],
      "execution_count": 25,
      "outputs": [
        {
          "output_type": "execute_result",
          "data": {
            "text/plain": [
              "['geoNetwork.subContinent',\n",
              " 'customDimension.value',\n",
              " 'totals.bounces',\n",
              " 'visitStartTime',\n",
              " 'totals.sessionQualityDim',\n",
              " 'trafficSource.adwordsClickInfo.isVideoAd',\n",
              " 'totals.timeOnSite',\n",
              " 'visitNumber',\n",
              " 'totals.hits',\n",
              " 'totals.newVisits',\n",
              " 'trafficSource.isTrueDirect',\n",
              " 'device.isMobile',\n",
              " 'visitId',\n",
              " 'totals.pageviews']"
            ]
          },
          "metadata": {
            "tags": []
          },
          "execution_count": 25
        }
      ]
    },
    {
      "cell_type": "code",
      "metadata": {
        "id": "nFiAD5oqgUkz",
        "colab_type": "code",
        "outputId": "bd5a81a0-e235-42e3-f418-83d3c3c053ba",
        "colab": {
          "base_uri": "https://localhost:8080/",
          "height": 391
        }
      },
      "source": [
        "M1_data = deepcopy(all_data[CAT_COLS + CONT_COLS + [TARGET]])\n",
        "\n",
        "M1_data[CAT_COLS].info()"
      ],
      "execution_count": 34,
      "outputs": [
        {
          "output_type": "stream",
          "text": [
            "<class 'pandas.core.frame.DataFrame'>\n",
            "RangeIndex: 2109926 entries, 0 to 2109925\n",
            "Data columns (total 15 columns):\n",
            " #   Column                                        Dtype \n",
            "---  ------                                        ----- \n",
            " 0   fullVisitorId                                 object\n",
            " 1   geoNetwork.region                             object\n",
            " 2   device.deviceCategory                         object\n",
            " 3   geoNetwork.city                               object\n",
            " 4   trafficSource.source                          object\n",
            " 5   device.operatingSystem                        object\n",
            " 6   geoNetwork.metro                              object\n",
            " 7   trafficSource.adwordsClickInfo.adNetworkType  object\n",
            " 8   trafficSource.medium                          object\n",
            " 9   channelGrouping                               object\n",
            " 10  geoNetwork.continent                          object\n",
            " 11  geoNetwork.country                            object\n",
            " 12  device.browser                                object\n",
            " 13  dataset                                       object\n",
            " 14  geoNetwork.networkDomain                      object\n",
            "dtypes: object(15)\n",
            "memory usage: 241.5+ MB\n"
          ],
          "name": "stdout"
        }
      ]
    },
    {
      "cell_type": "code",
      "metadata": {
        "id": "sWWEfZa_Mn58",
        "colab_type": "code",
        "colab": {}
      },
      "source": [
        "#leb = LabelEncoder()\n",
        "for col in CAT_COLS:\n",
        "    M1_data[col] = LabelEncoder().fit_transform(M1_data[col])"
      ],
      "execution_count": 0,
      "outputs": []
    },
    {
      "cell_type": "markdown",
      "metadata": {
        "id": "2vNmbVBGn3rO",
        "colab_type": "text"
      },
      "source": [
        "## Split Train and Test"
      ]
    },
    {
      "cell_type": "code",
      "metadata": {
        "id": "pLdu3ej6Mn6E",
        "colab_type": "code",
        "outputId": "be366af6-67db-4601-c13f-f169aa1c95ca",
        "colab": {
          "base_uri": "https://localhost:8080/",
          "height": 68
        }
      },
      "source": [
        "M1_data['dataset'].value_counts()"
      ],
      "execution_count": 41,
      "outputs": [
        {
          "output_type": "execute_result",
          "data": {
            "text/plain": [
              "1    1708337\n",
              "0     401589\n",
              "Name: dataset, dtype: int64"
            ]
          },
          "metadata": {
            "tags": []
          },
          "execution_count": 41
        }
      ]
    },
    {
      "cell_type": "code",
      "metadata": {
        "id": "l639Tc9E-eDh",
        "colab_type": "code",
        "colab": {}
      },
      "source": [
        "train = M1_data[M1_data['dataset']==1]\n",
        "test = M1_data[M1_data['dataset']==0]\n",
        "train.drop('dataset',axis=1,inplace=True)\n",
        "test.drop('dataset',axis=1, inplace=True)"
      ],
      "execution_count": 0,
      "outputs": []
    },
    {
      "cell_type": "code",
      "metadata": {
        "id": "HWtn8jIC46q0",
        "colab_type": "code",
        "colab": {}
      },
      "source": [
        "CAT_COLS.remove('dataset')"
      ],
      "execution_count": 0,
      "outputs": []
    },
    {
      "cell_type": "code",
      "metadata": {
        "id": "Q-nPE_jO3f8f",
        "colab_type": "code",
        "colab": {
          "base_uri": "https://localhost:8080/",
          "height": 34
        },
        "outputId": "ef10f1ed-a0e4-4055-9665-1c497399002c"
      },
      "source": [
        "train.shape, test.shape"
      ],
      "execution_count": 47,
      "outputs": [
        {
          "output_type": "execute_result",
          "data": {
            "text/plain": [
              "((1708337, 29), (401589, 29))"
            ]
          },
          "metadata": {
            "tags": []
          },
          "execution_count": 47
        }
      ]
    },
    {
      "cell_type": "markdown",
      "metadata": {
        "id": "uy2r19xmnNnU",
        "colab_type": "text"
      },
      "source": [
        "## Model"
      ]
    },
    {
      "cell_type": "code",
      "metadata": {
        "id": "caB2qeZSMn6N",
        "colab_type": "code",
        "colab": {}
      },
      "source": [
        "\n",
        "from sklearn.model_selection import train_test_split\n",
        "from sklearn.ensemble import RandomForestRegressor\n",
        "from sklearn.ensemble import RandomForestClassifier, GradientBoostingClassifier\n",
        "from sklearn.metrics import accuracy_score as accuracy\n",
        "from sklearn.metrics import r2_score as r2\n",
        "from sklearn.metrics import mean_squared_error as mse\n",
        "from sklearn.metrics import mean_absolute_error as mae\n",
        "rmse = lambda true, pred: mse(true, pred) ** 0.5"
      ],
      "execution_count": 0,
      "outputs": []
    },
    {
      "cell_type": "code",
      "metadata": {
        "id": "6OeFnTYlfRou",
        "colab_type": "code",
        "colab": {}
      },
      "source": [
        "x_train = train[CAT_COLS + CONT_COLS]\n",
        "x_test = test[CAT_COLS + CONT_COLS]\n",
        "y_train = train[[TARGET]]\n",
        "y_test = test[[TARGET]]"
      ],
      "execution_count": 0,
      "outputs": []
    },
    {
      "cell_type": "code",
      "metadata": {
        "id": "gLXc9-lrqQ69",
        "colab_type": "code",
        "colab": {
          "base_uri": "https://localhost:8080/",
          "height": 163
        },
        "outputId": "409bb5c7-4820-4c15-d8bf-a4d3e553cb96"
      },
      "source": [
        "#train.shape"
      ],
      "execution_count": 1,
      "outputs": [
        {
          "output_type": "error",
          "ename": "NameError",
          "evalue": "ignored",
          "traceback": [
            "\u001b[0;31m---------------------------------------------------------------------------\u001b[0m",
            "\u001b[0;31mNameError\u001b[0m                                 Traceback (most recent call last)",
            "\u001b[0;32m<ipython-input-1-5e6a15ce28a5>\u001b[0m in \u001b[0;36m<module>\u001b[0;34m()\u001b[0m\n\u001b[0;32m----> 1\u001b[0;31m \u001b[0mtrain\u001b[0m\u001b[0;34m.\u001b[0m\u001b[0mshape\u001b[0m\u001b[0;34m\u001b[0m\u001b[0;34m\u001b[0m\u001b[0m\n\u001b[0m",
            "\u001b[0;31mNameError\u001b[0m: name 'train' is not defined"
          ]
        }
      ]
    },
    {
      "cell_type": "code",
      "metadata": {
        "id": "jipCBJ2-CvHo",
        "colab_type": "code",
        "outputId": "7c0755bb-1d4c-4cdb-adee-542b880a6ea2",
        "colab": {
          "base_uri": "https://localhost:8080/",
          "height": 34
        }
      },
      "source": [
        "x_train.shape, x_test.shape, y_train.shape, y_test.shape"
      ],
      "execution_count": 49,
      "outputs": [
        {
          "output_type": "execute_result",
          "data": {
            "text/plain": [
              "((1708337, 27), (401589, 27), (1708337, 1), (401589, 1))"
            ]
          },
          "metadata": {
            "tags": []
          },
          "execution_count": 49
        }
      ]
    },
    {
      "cell_type": "code",
      "metadata": {
        "id": "JEeG3gCSMn6l",
        "colab_type": "code",
        "colab": {}
      },
      "source": [
        "model = RandomForestClassifier( \n",
        "    n_estimators=50, # Hyperparameter 1\n",
        "    max_depth=2,      # Hyperparameter 2\n",
        "    random_state=0\n",
        ")"
      ],
      "execution_count": 0,
      "outputs": []
    },
    {
      "cell_type": "code",
      "metadata": {
        "id": "1upqCb_YDz3S",
        "colab_type": "code",
        "colab": {}
      },
      "source": [
        "trained_model = model.fit(x_train, y_train)"
      ],
      "execution_count": 0,
      "outputs": []
    },
    {
      "cell_type": "code",
      "metadata": {
        "id": "azVfGsAvElRD",
        "colab_type": "code",
        "colab": {}
      },
      "source": [
        "def get_error(pred, true):\n",
        "    print(f'RMSE:       {rmse(true, pred)}')\n",
        "    print(f'MAE:        {mae(true, pred)}')\n",
        "    print(f'r2:         {r2(true, pred)}')\n",
        "    print(f'accuracy:   {accuracy(true, pred)}')"
      ],
      "execution_count": 0,
      "outputs": []
    },
    {
      "cell_type": "code",
      "metadata": {
        "id": "V3ljtR_BFD0m",
        "colab_type": "code",
        "outputId": "1d53439d-b854-484c-95da-61d766472ea5",
        "colab": {
          "base_uri": "https://localhost:8080/",
          "height": 85
        }
      },
      "source": [
        "get_error(pred = trained_model.predict(x_test),\n",
        "          true = y_test)"
      ],
      "execution_count": 56,
      "outputs": [
        {
          "output_type": "stream",
          "text": [
            "RMSE:       0.12530016451982023\n",
            "MAE:        0.015700131228694014\n",
            "r2:         -0.015950557067829774\n",
            "accuracy:   0.984299868771306\n"
          ],
          "name": "stdout"
        }
      ]
    }
  ]
}