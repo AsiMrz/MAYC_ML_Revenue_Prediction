{
  "nbformat": 4,
  "nbformat_minor": 0,
  "metadata": {
    "kernelspec": {
      "display_name": "Python 3",
      "language": "python",
      "name": "python3"
    },
    "toc": {
      "base_numbering": 1,
      "nav_menu": {},
      "number_sections": true,
      "sideBar": true,
      "skip_h1_title": false,
      "title_cell": "Table of Contents",
      "title_sidebar": "Contents",
      "toc_cell": false,
      "toc_position": {},
      "toc_section_display": true,
      "toc_window_display": false
    },
    "colab": {
      "name": "ML_GACRP_PIPELINE.ipynb",
      "provenance": [],
      "toc_visible": true,
      "include_colab_link": true
    }
  },
  "cells": [
    {
      "cell_type": "markdown",
      "metadata": {
        "id": "view-in-github",
        "colab_type": "text"
      },
      "source": [
        "<a href=\"https://colab.research.google.com/github/yeialgov/MAYC_ML_Revenue_Prediction/blob/patch-1/Classification%20and%20Regression.ipynb\" target=\"_parent\"><img src=\"https://colab.research.google.com/assets/colab-badge.svg\" alt=\"Open In Colab\"/></a>"
      ]
    },
    {
      "cell_type": "code",
      "metadata": {
        "id": "Q7NUxl3iMn1H",
        "colab_type": "code",
        "colab": {}
      },
      "source": [
        "# download the libraries\n",
        "import pandas as pd\n",
        "from pandas import Series,DataFrame\n",
        "import warnings\n",
        "from copy import deepcopy\n",
        "import os\n",
        "warnings.filterwarnings('ignore')\n",
        "import numpy as np\n",
        "import matplotlib.pyplot as plt\n",
        "import seaborn as sns\n",
        "from datetime import datetime\n",
        "from sklearn.preprocessing import LabelEncoder\n",
        "import random\n",
        "%matplotlib inline"
      ],
      "execution_count": 0,
      "outputs": []
    },
    {
      "cell_type": "markdown",
      "metadata": {
        "id": "C_rtWx5Y7qVw",
        "colab_type": "text"
      },
      "source": [
        "# Getting the data"
      ]
    },
    {
      "cell_type": "code",
      "metadata": {
        "id": "odFQDYPTNLMc",
        "colab_type": "code",
        "outputId": "5a947326-42dc-435f-c669-416ebb48519a",
        "colab": {
          "base_uri": "https://localhost:8080/",
          "height": 54
        }
      },
      "source": [
        "from google.colab import drive\n",
        "drive.mount('/content/gdrive')"
      ],
      "execution_count": 25,
      "outputs": [
        {
          "output_type": "stream",
          "text": [
            "Drive already mounted at /content/gdrive; to attempt to forcibly remount, call drive.mount(\"/content/gdrive\", force_remount=True).\n"
          ],
          "name": "stdout"
        }
      ]
    },
    {
      "cell_type": "code",
      "metadata": {
        "id": "1meGr2fGNX0J",
        "colab_type": "code",
        "outputId": "ca40e28f-9b92-41c4-95c4-157052100d1d",
        "colab": {
          "base_uri": "https://localhost:8080/",
          "height": 34
        }
      },
      "source": [
        "cd '/content/gdrive/My Drive/ReDi_DA_Project/Datasets_Clean/'"
      ],
      "execution_count": 72,
      "outputs": [
        {
          "output_type": "stream",
          "text": [
            "/content/gdrive/My Drive/ReDi_DA_Project/Datasets_Clean\n"
          ],
          "name": "stdout"
        }
      ]
    },
    {
      "cell_type": "code",
      "metadata": {
        "id": "bpHQzAS3uTLQ",
        "colab_type": "code",
        "colab": {}
      },
      "source": [
        "all_data = pd.read_pickle('cleaned_data.pkl')"
      ],
      "execution_count": 0,
      "outputs": []
    },
    {
      "cell_type": "markdown",
      "metadata": {
        "id": "IX-_z2KKTzdX",
        "colab_type": "text"
      },
      "source": [
        "# Model to search the visitors who made transactions"
      ]
    },
    {
      "cell_type": "markdown",
      "metadata": {
        "id": "hkfsY1lCndsI",
        "colab_type": "text"
      },
      "source": [
        "## Function to define Target Column"
      ]
    },
    {
      "cell_type": "code",
      "metadata": {
        "id": "ZvuMz0A4Vaa_",
        "colab_type": "code",
        "colab": {}
      },
      "source": [
        "def is_transaction(n):\n",
        "  if n == 0    :    return 0\n",
        "  else         :    return 1\n",
        "\n",
        "all_data['is_transaction']=all_data['totals.transactions'].apply(is_transaction)"
      ],
      "execution_count": 0,
      "outputs": []
    },
    {
      "cell_type": "code",
      "metadata": {
        "id": "eS1z0ILdXM2m",
        "colab_type": "code",
        "outputId": "b5fd50c7-0e64-492d-cd95-39ea145c481c",
        "colab": {
          "base_uri": "https://localhost:8080/",
          "height": 68
        }
      },
      "source": [
        "all_data['is_transaction'].value_counts()"
      ],
      "execution_count": 75,
      "outputs": [
        {
          "output_type": "execute_result",
          "data": {
            "text/plain": [
              "0    2085062\n",
              "1      24864\n",
              "Name: is_transaction, dtype: int64"
            ]
          },
          "metadata": {
            "tags": []
          },
          "execution_count": 75
        }
      ]
    },
    {
      "cell_type": "markdown",
      "metadata": {
        "id": "P8-K3JmAoLzB",
        "colab_type": "text"
      },
      "source": [
        "## Encoding Categorical Values"
      ]
    },
    {
      "cell_type": "code",
      "metadata": {
        "id": "iEYlXnzRPzJ-",
        "colab_type": "code",
        "colab": {}
      },
      "source": [
        "TARGET = 'is_transaction'\n",
        "CAT_COLS = all_data.columns[all_data.dtypes == object].tolist()\n",
        "CONT_COLS = [c for c in all_data.columns if c not in CAT_COLS and c != TARGET]"
      ],
      "execution_count": 0,
      "outputs": []
    },
    {
      "cell_type": "code",
      "metadata": {
        "id": "TGhChyUCvssN",
        "colab_type": "code",
        "outputId": "65cb00dc-dfd1-47b8-ec0b-cc221ceefc86",
        "colab": {
          "base_uri": "https://localhost:8080/",
          "height": 357
        }
      },
      "source": [
        "#Columns remove because of problems with the encoder\n",
        "CAT_COLS.remove('trafficSource.isTrueDirect')\n",
        "CAT_COLS.remove('trafficSource.adwordsClickInfo.isVideoAd')\n",
        "#Keep ID out of encoding\n",
        "CAT_COLS.remove('fullVisitorId')\n",
        "CAT_COLS"
      ],
      "execution_count": 78,
      "outputs": [
        {
          "output_type": "execute_result",
          "data": {
            "text/plain": [
              "['channelGrouping',\n",
              " 'customDimension.value',\n",
              " 'geoNetwork.region',\n",
              " 'geoNetwork.city',\n",
              " 'dataset',\n",
              " 'trafficSource.source',\n",
              " 'geoNetwork.metro',\n",
              " 'device.operatingSystem',\n",
              " 'totals.visits',\n",
              " 'trafficSource.medium',\n",
              " 'trafficSource.keyword',\n",
              " 'device.browser',\n",
              " 'geoNetwork.country',\n",
              " 'geoNetwork.subContinent',\n",
              " 'geoNetwork.networkDomain',\n",
              " 'geoNetwork.continent',\n",
              " 'trafficSource.adwordsClickInfo.adNetworkType',\n",
              " 'device.deviceCategory',\n",
              " 'day',\n",
              " 'month']"
            ]
          },
          "metadata": {
            "tags": []
          },
          "execution_count": 78
        }
      ]
    },
    {
      "cell_type": "code",
      "metadata": {
        "id": "9Qh6ZwLQgG8B",
        "colab_type": "code",
        "outputId": "217e6dd0-67fd-43d9-c4aa-b3ce8c988ac5",
        "colab": {
          "base_uri": "https://localhost:8080/",
          "height": 221
        }
      },
      "source": [
        "CONT_COLS.remove('date')\n",
        "CONT_COLS.remove('totals.transactions')\n",
        "CONT_COLS.remove('totals.totalTransactionRevenue')\n",
        "CONT_COLS"
      ],
      "execution_count": 79,
      "outputs": [
        {
          "output_type": "execute_result",
          "data": {
            "text/plain": [
              "['visitNumber',\n",
              " 'visitId',\n",
              " 'totals.newVisits',\n",
              " 'totals.sessionQualityDim',\n",
              " 'totals.timeOnSite',\n",
              " 'device.isMobile',\n",
              " 'totals.hits',\n",
              " 'visitStartTime',\n",
              " 'totals.bounces',\n",
              " 'totals.pageviews',\n",
              " 'year',\n",
              " 'week']"
            ]
          },
          "metadata": {
            "tags": []
          },
          "execution_count": 79
        }
      ]
    },
    {
      "cell_type": "code",
      "metadata": {
        "id": "nFiAD5oqgUkz",
        "colab_type": "code",
        "outputId": "7ce9ea3f-d22d-4e09-fb33-d4f209e51ad8",
        "colab": {
          "base_uri": "https://localhost:8080/",
          "height": 714
        }
      },
      "source": [
        "M1_data = deepcopy(all_data[CAT_COLS + CONT_COLS + [TARGET]+ [ 'fullVisitorId']])\n",
        "\n",
        "M1_data.info()"
      ],
      "execution_count": 80,
      "outputs": [
        {
          "output_type": "stream",
          "text": [
            "<class 'pandas.core.frame.DataFrame'>\n",
            "Int64Index: 2109926 entries, 0 to 401588\n",
            "Data columns (total 34 columns):\n",
            " #   Column                                        Dtype  \n",
            "---  ------                                        -----  \n",
            " 0   channelGrouping                               object \n",
            " 1   customDimension.value                         object \n",
            " 2   geoNetwork.region                             object \n",
            " 3   geoNetwork.city                               object \n",
            " 4   dataset                                       object \n",
            " 5   trafficSource.source                          object \n",
            " 6   geoNetwork.metro                              object \n",
            " 7   device.operatingSystem                        object \n",
            " 8   totals.visits                                 object \n",
            " 9   trafficSource.medium                          object \n",
            " 10  trafficSource.keyword                         object \n",
            " 11  device.browser                                object \n",
            " 12  geoNetwork.country                            object \n",
            " 13  geoNetwork.subContinent                       object \n",
            " 14  geoNetwork.networkDomain                      object \n",
            " 15  geoNetwork.continent                          object \n",
            " 16  trafficSource.adwordsClickInfo.adNetworkType  object \n",
            " 17  device.deviceCategory                         object \n",
            " 18  day                                           object \n",
            " 19  month                                         object \n",
            " 20  visitNumber                                   int64  \n",
            " 21  visitId                                       int64  \n",
            " 22  totals.newVisits                              int64  \n",
            " 23  totals.sessionQualityDim                      float64\n",
            " 24  totals.timeOnSite                             int64  \n",
            " 25  device.isMobile                               bool   \n",
            " 26  totals.hits                                   float64\n",
            " 27  visitStartTime                                int64  \n",
            " 28  totals.bounces                                int64  \n",
            " 29  totals.pageviews                              int64  \n",
            " 30  year                                          int64  \n",
            " 31  week                                          int64  \n",
            " 32  is_transaction                                int64  \n",
            " 33  fullVisitorId                                 object \n",
            "dtypes: bool(1), float64(2), int64(10), object(21)\n",
            "memory usage: 549.3+ MB\n"
          ],
          "name": "stdout"
        }
      ]
    },
    {
      "cell_type": "code",
      "metadata": {
        "id": "sWWEfZa_Mn58",
        "colab_type": "code",
        "colab": {}
      },
      "source": [
        "leb = LabelEncoder()\n",
        "for col in CAT_COLS:\n",
        "    M1_data[col] = leb.fit_transform(M1_data[col])"
      ],
      "execution_count": 0,
      "outputs": []
    },
    {
      "cell_type": "markdown",
      "metadata": {
        "id": "2vNmbVBGn3rO",
        "colab_type": "text"
      },
      "source": [
        "## Split Train and Test"
      ]
    },
    {
      "cell_type": "code",
      "metadata": {
        "id": "pLdu3ej6Mn6E",
        "colab_type": "code",
        "outputId": "ad056e89-67d0-46b8-f99c-22540d418714",
        "colab": {
          "base_uri": "https://localhost:8080/",
          "height": 68
        }
      },
      "source": [
        "M1_data['dataset'].value_counts()"
      ],
      "execution_count": 141,
      "outputs": [
        {
          "output_type": "execute_result",
          "data": {
            "text/plain": [
              "1    1708337\n",
              "0     401589\n",
              "Name: dataset, dtype: int64"
            ]
          },
          "metadata": {
            "tags": []
          },
          "execution_count": 141
        }
      ]
    },
    {
      "cell_type": "code",
      "metadata": {
        "id": "l639Tc9E-eDh",
        "colab_type": "code",
        "colab": {
          "base_uri": "https://localhost:8080/",
          "height": 34
        },
        "outputId": "e9feac94-c766-452c-b21b-c3eb418e710b"
      },
      "source": [
        "train = M1_data[M1_data['dataset']==1]\n",
        "test = M1_data[M1_data['dataset']==0]\n",
        "train.drop('dataset',axis=1,inplace=True)\n",
        "test.drop('dataset',axis=1, inplace=True)\n",
        "#remove dataset from the model\n",
        "CAT_COLS.remove('dataset')\n",
        "train.shape, test.shape"
      ],
      "execution_count": 143,
      "outputs": [
        {
          "output_type": "execute_result",
          "data": {
            "text/plain": [
              "((1708337, 33), (401589, 33))"
            ]
          },
          "metadata": {
            "tags": []
          },
          "execution_count": 143
        }
      ]
    },
    {
      "cell_type": "markdown",
      "metadata": {
        "id": "uy2r19xmnNnU",
        "colab_type": "text"
      },
      "source": [
        "## Model"
      ]
    },
    {
      "cell_type": "code",
      "metadata": {
        "id": "caB2qeZSMn6N",
        "colab_type": "code",
        "colab": {}
      },
      "source": [
        "from sklearn.model_selection import train_test_split\n",
        "from sklearn.ensemble import RandomForestRegressor\n",
        "from sklearn.ensemble import RandomForestClassifier, GradientBoostingClassifier\n",
        "from sklearn.metrics import accuracy_score as accuracy\n",
        "from sklearn.metrics import r2_score as r2\n",
        "from sklearn.metrics import mean_squared_error as mse\n",
        "from sklearn.metrics import mean_absolute_error as mae\n",
        "from sklearn.metrics import f1_score as f1\n",
        "rmse = lambda true, pred: mse(true, pred) ** 0.5"
      ],
      "execution_count": 0,
      "outputs": []
    },
    {
      "cell_type": "code",
      "metadata": {
        "id": "6OeFnTYlfRou",
        "colab_type": "code",
        "colab": {
          "base_uri": "https://localhost:8080/",
          "height": 34
        },
        "outputId": "c055365f-ce03-47ec-a746-67a8fdadf2fc"
      },
      "source": [
        "x_train = train[CAT_COLS + CONT_COLS]\n",
        "x_test = test[CAT_COLS + CONT_COLS]\n",
        "y_train = train[[TARGET]]\n",
        "y_test = test[[TARGET]]\n",
        "x_train.shape, x_test.shape, y_train.shape, y_test.shape"
      ],
      "execution_count": 86,
      "outputs": [
        {
          "output_type": "execute_result",
          "data": {
            "text/plain": [
              "((1708337, 31), (401589, 31), (1708337, 1), (401589, 1))"
            ]
          },
          "metadata": {
            "tags": []
          },
          "execution_count": 86
        }
      ]
    },
    {
      "cell_type": "code",
      "metadata": {
        "id": "JEeG3gCSMn6l",
        "colab_type": "code",
        "colab": {}
      },
      "source": [
        "model = RandomForestClassifier( \n",
        "    n_estimators=100, # Hyperparameter 1\n",
        "    max_depth=10,      # Hyperparameter 2\n",
        "    random_state=0\n",
        ")"
      ],
      "execution_count": 0,
      "outputs": []
    },
    {
      "cell_type": "code",
      "metadata": {
        "id": "1upqCb_YDz3S",
        "colab_type": "code",
        "colab": {}
      },
      "source": [
        "trained_model = model.fit(x_train, y_train)"
      ],
      "execution_count": 0,
      "outputs": []
    },
    {
      "cell_type": "code",
      "metadata": {
        "id": "azVfGsAvElRD",
        "colab_type": "code",
        "outputId": "e2eee779-ac29-4c3a-c5cb-07f652fead28",
        "colab": {
          "base_uri": "https://localhost:8080/",
          "height": 51
        }
      },
      "source": [
        "def get_error(pred, true):\n",
        "    print(f'f-score:         {f1(true, pred)}')\n",
        "    print(f'accuracy:        {accuracy(true, pred)}')\n",
        "\n",
        "get_error(pred = trained_model.predict(x_test),\n",
        "          true = y_test)"
      ],
      "execution_count": 88,
      "outputs": [
        {
          "output_type": "stream",
          "text": [
            "f-score:         0.1028587846573768\n",
            "accuracy:        0.9844492752540532\n"
          ],
          "name": "stdout"
        }
      ]
    },
    {
      "cell_type": "markdown",
      "metadata": {
        "id": "H9LcznXoVuH5",
        "colab_type": "text"
      },
      "source": [
        "## Submission M1"
      ]
    },
    {
      "cell_type": "code",
      "metadata": {
        "id": "z6lnrKtNZhLE",
        "colab_type": "code",
        "outputId": "3eaa38e0-d99f-4603-f591-653db76d9841",
        "colab": {
          "base_uri": "https://localhost:8080/",
          "height": 34
        }
      },
      "source": [
        "pred_M1 = trained_model.predict(x_test)\n",
        "pred_M1.shape"
      ],
      "execution_count": 89,
      "outputs": [
        {
          "output_type": "execute_result",
          "data": {
            "text/plain": [
              "(401589,)"
            ]
          },
          "metadata": {
            "tags": []
          },
          "execution_count": 89
        }
      ]
    },
    {
      "cell_type": "code",
      "metadata": {
        "id": "ngonomkTal1L",
        "colab_type": "code",
        "outputId": "ebade0a5-1ec2-4f78-d09b-a42256b36fff",
        "colab": {
          "base_uri": "https://localhost:8080/",
          "height": 34
        }
      },
      "source": [
        "T_predicted = pred_M1[pred_M1!=0]\n",
        "T_predicted.shape"
      ],
      "execution_count": 90,
      "outputs": [
        {
          "output_type": "execute_result",
          "data": {
            "text/plain": [
              "(656,)"
            ]
          },
          "metadata": {
            "tags": []
          },
          "execution_count": 90
        }
      ]
    },
    {
      "cell_type": "code",
      "metadata": {
        "id": "0Dqo1-fjWLH8",
        "colab_type": "code",
        "outputId": "929a434f-3c1c-42cd-d98f-9a0abfb0d5cd",
        "colab": {
          "base_uri": "https://localhost:8080/",
          "height": 34
        }
      },
      "source": [
        "test_id = test[\"fullVisitorId\"].values\n",
        "sub_M1 = pd.DataFrame({\"fullVisitorId\":test_id})\n",
        "sub_M1['PredictedLogRevenue']= pred_M1\n",
        "sub_M1.shape"
      ],
      "execution_count": 99,
      "outputs": [
        {
          "output_type": "execute_result",
          "data": {
            "text/plain": [
              "(401589, 2)"
            ]
          },
          "metadata": {
            "tags": []
          },
          "execution_count": 99
        }
      ]
    },
    {
      "cell_type": "code",
      "metadata": {
        "id": "n5nrFINeU2xl",
        "colab_type": "code",
        "colab": {
          "base_uri": "https://localhost:8080/",
          "height": 34
        },
        "outputId": "8d2bc489-b19b-4ba0-87f1-d8fbebefe04a"
      },
      "source": [
        "# Create a list of the predicted visitors' index\n",
        "Vis_Pre = sub_M1[sub_M1['PredictedLogRevenue']==0]\n",
        "test_id_Z = list(Vis_Pre.index)\n",
        "len(test_id_Z)"
      ],
      "execution_count": 101,
      "outputs": [
        {
          "output_type": "execute_result",
          "data": {
            "text/plain": [
              "400933"
            ]
          },
          "metadata": {
            "tags": []
          },
          "execution_count": 101
        }
      ]
    },
    {
      "cell_type": "code",
      "metadata": {
        "id": "M8jX5htwYZqG",
        "colab_type": "code",
        "outputId": "a4d92d33-eaff-4f37-e53d-04146e80bfff",
        "colab": {
          "base_uri": "https://localhost:8080/",
          "height": 34
        }
      },
      "source": [
        "# Create a list of the predicted visitors' index\n",
        "Cus_Pre = sub_M1[sub_M1['PredictedLogRevenue']==1]\n",
        "test_id_M2 = list(Cus_Pre.index)\n",
        "len(test_id_M2)"
      ],
      "execution_count": 100,
      "outputs": [
        {
          "output_type": "execute_result",
          "data": {
            "text/plain": [
              "656"
            ]
          },
          "metadata": {
            "tags": []
          },
          "execution_count": 100
        }
      ]
    },
    {
      "cell_type": "code",
      "metadata": {
        "id": "J3v1xYjTJdzO",
        "colab_type": "code",
        "outputId": "e29ce0aa-c028-4e3a-deb2-91e17c70ea79",
        "colab": {
          "base_uri": "https://localhost:8080/",
          "height": 34
        }
      },
      "source": [
        "sub_M1.drop(test_id_M2,axis=0,inplace=True)\n",
        "sub_M1.shape"
      ],
      "execution_count": 102,
      "outputs": [
        {
          "output_type": "execute_result",
          "data": {
            "text/plain": [
              "(400933, 2)"
            ]
          },
          "metadata": {
            "tags": []
          },
          "execution_count": 102
        }
      ]
    },
    {
      "cell_type": "code",
      "metadata": {
        "id": "xmXf-L_6l0kb",
        "colab_type": "code",
        "outputId": "9b9830fd-dfbe-4bf6-8817-fe596ac51e1a",
        "colab": {
          "base_uri": "https://localhost:8080/",
          "height": 51
        }
      },
      "source": [
        "sub_M1['PredictedLogRevenue'].value_counts()"
      ],
      "execution_count": 103,
      "outputs": [
        {
          "output_type": "execute_result",
          "data": {
            "text/plain": [
              "0    400933\n",
              "Name: PredictedLogRevenue, dtype: int64"
            ]
          },
          "metadata": {
            "tags": []
          },
          "execution_count": 103
        }
      ]
    },
    {
      "cell_type": "markdown",
      "metadata": {
        "id": "P8S-dtAUJV3b",
        "colab_type": "text"
      },
      "source": [
        "# Model to calculate transaction Revenue"
      ]
    },
    {
      "cell_type": "markdown",
      "metadata": {
        "id": "O19cIcK6WKm2",
        "colab_type": "text"
      },
      "source": [
        "## Encoding Categorical Values - M2"
      ]
    },
    {
      "cell_type": "code",
      "metadata": {
        "colab_type": "code",
        "id": "mx-MBMOwK8Vz",
        "colab": {}
      },
      "source": [
        "TARGET_M2 = 'totals.totalTransactionRevenue'\n",
        "CAT_COLS_M2 = all_data.columns[all_data.dtypes == object].tolist()\n",
        "CONT_COLS_M2 = [c for c in all_data.columns if c not in CAT_COLS_M2 and c != TARGET_M2]\n",
        "CAT_COLS_M2.remove('fullVisitorId')"
      ],
      "execution_count": 0,
      "outputs": []
    },
    {
      "cell_type": "code",
      "metadata": {
        "id": "TJP7ETaKuh9Q",
        "colab_type": "code",
        "colab": {}
      },
      "source": [
        "#Columns remove because of problems with the encoder\n",
        "CAT_COLS_M2.remove('trafficSource.isTrueDirect')\n",
        "CAT_COLS_M2.remove('trafficSource.adwordsClickInfo.isVideoAd')"
      ],
      "execution_count": 0,
      "outputs": []
    },
    {
      "cell_type": "code",
      "metadata": {
        "id": "XbI-eThkJkAI",
        "colab_type": "code",
        "outputId": "66fa1782-6cda-482a-85d1-528a40cae737",
        "colab": {
          "base_uri": "https://localhost:8080/",
          "height": 765
        }
      },
      "source": [
        "M2_data = deepcopy(all_data[CAT_COLS_M2 + CONT_COLS_M2 + [TARGET_M2]+['fullVisitorId']])\n",
        "M2_data.info()"
      ],
      "execution_count": 106,
      "outputs": [
        {
          "output_type": "stream",
          "text": [
            "<class 'pandas.core.frame.DataFrame'>\n",
            "Int64Index: 2109926 entries, 0 to 401588\n",
            "Data columns (total 37 columns):\n",
            " #   Column                                        Dtype         \n",
            "---  ------                                        -----         \n",
            " 0   channelGrouping                               object        \n",
            " 1   customDimension.value                         object        \n",
            " 2   geoNetwork.region                             object        \n",
            " 3   geoNetwork.city                               object        \n",
            " 4   dataset                                       object        \n",
            " 5   trafficSource.source                          object        \n",
            " 6   geoNetwork.metro                              object        \n",
            " 7   device.operatingSystem                        object        \n",
            " 8   totals.visits                                 object        \n",
            " 9   trafficSource.medium                          object        \n",
            " 10  trafficSource.keyword                         object        \n",
            " 11  device.browser                                object        \n",
            " 12  geoNetwork.country                            object        \n",
            " 13  geoNetwork.subContinent                       object        \n",
            " 14  geoNetwork.networkDomain                      object        \n",
            " 15  geoNetwork.continent                          object        \n",
            " 16  trafficSource.adwordsClickInfo.adNetworkType  object        \n",
            " 17  device.deviceCategory                         object        \n",
            " 18  day                                           object        \n",
            " 19  month                                         object        \n",
            " 20  visitNumber                                   int64         \n",
            " 21  visitId                                       int64         \n",
            " 22  totals.newVisits                              int64         \n",
            " 23  totals.sessionQualityDim                      float64       \n",
            " 24  totals.timeOnSite                             int64         \n",
            " 25  totals.transactions                           int64         \n",
            " 26  device.isMobile                               bool          \n",
            " 27  totals.hits                                   float64       \n",
            " 28  visitStartTime                                int64         \n",
            " 29  totals.bounces                                int64         \n",
            " 30  totals.pageviews                              int64         \n",
            " 31  date                                          datetime64[ns]\n",
            " 32  year                                          int64         \n",
            " 33  week                                          int64         \n",
            " 34  is_transaction                                int64         \n",
            " 35  totals.totalTransactionRevenue                float64       \n",
            " 36  fullVisitorId                                 object        \n",
            "dtypes: bool(1), datetime64[ns](1), float64(3), int64(11), object(21)\n",
            "memory usage: 597.6+ MB\n"
          ],
          "name": "stdout"
        }
      ]
    },
    {
      "cell_type": "code",
      "metadata": {
        "colab_type": "code",
        "id": "p028rr4dK8Wx",
        "colab": {}
      },
      "source": [
        "#leb = LabelEncoder()\n",
        "for col in CAT_COLS_M2:\n",
        "    M2_data[col] = leb.fit_transform(M2_data[col])"
      ],
      "execution_count": 0,
      "outputs": []
    },
    {
      "cell_type": "markdown",
      "metadata": {
        "id": "uZdB5mI6T11X",
        "colab_type": "text"
      },
      "source": [
        "## Split Train and Test - M2"
      ]
    },
    {
      "cell_type": "code",
      "metadata": {
        "colab_type": "code",
        "id": "sqzEJHEzT8NF",
        "outputId": "0c569c9c-e8da-4f0b-d1b8-4c27d133ccc7",
        "colab": {
          "base_uri": "https://localhost:8080/",
          "height": 34
        }
      },
      "source": [
        "train_M2 = M2_data[M2_data['dataset']==1]\n",
        "test_M2 = M2_data[M2_data['dataset']==0]\n",
        "train_M2.drop('dataset',axis=1,inplace=True)\n",
        "test_M2.drop('dataset',axis=1, inplace=True)\n",
        "CAT_COLS_M2.remove('dataset')\n",
        "train_M2.shape, test_M2.shape"
      ],
      "execution_count": 108,
      "outputs": [
        {
          "output_type": "execute_result",
          "data": {
            "text/plain": [
              "((1708337, 36), (401589, 36))"
            ]
          },
          "metadata": {
            "tags": []
          },
          "execution_count": 108
        }
      ]
    },
    {
      "cell_type": "code",
      "metadata": {
        "id": "sK6b5rOsl-ik",
        "colab_type": "code",
        "outputId": "cea6d6f4-310e-43bc-c896-9ad726413f63",
        "colab": {
          "base_uri": "https://localhost:8080/",
          "height": 34
        }
      },
      "source": [
        "P_test_M2 = test_M2[test_M2.index.isin(test_id_M2)]\n",
        "P_test_M2.drop('is_transaction',axis=1,inplace=True)\n",
        "P_test_M2.shape"
      ],
      "execution_count": 109,
      "outputs": [
        {
          "output_type": "execute_result",
          "data": {
            "text/plain": [
              "(656, 35)"
            ]
          },
          "metadata": {
            "tags": []
          },
          "execution_count": 109
        }
      ]
    },
    {
      "cell_type": "code",
      "metadata": {
        "id": "UtY_UTfDNRF9",
        "colab_type": "code",
        "colab": {
          "base_uri": "https://localhost:8080/",
          "height": 34
        },
        "outputId": "bfd0dd18-3ae5-423f-912d-f108779ba5ec"
      },
      "source": [
        "Z_test_M2 = test_M2[test_M2.index.isin(test_id_Z)]\n",
        "Z_test_M2.drop('is_transaction',axis=1,inplace=True)\n",
        "Z_test_M2.shape"
      ],
      "execution_count": 110,
      "outputs": [
        {
          "output_type": "execute_result",
          "data": {
            "text/plain": [
              "(400933, 35)"
            ]
          },
          "metadata": {
            "tags": []
          },
          "execution_count": 110
        }
      ]
    },
    {
      "cell_type": "code",
      "metadata": {
        "id": "pkjf_Q81dEps",
        "colab_type": "code",
        "outputId": "d49ab9bd-6aa8-4a81-94aa-bf207293e44e",
        "colab": {
          "base_uri": "https://localhost:8080/",
          "height": 221
        }
      },
      "source": [
        "P_test_M2['fullVisitorId'].value_counts()"
      ],
      "execution_count": 112,
      "outputs": [
        {
          "output_type": "execute_result",
          "data": {
            "text/plain": [
              "4608218212556854907    4\n",
              "4099631678878053818    4\n",
              "2521245176378446368    3\n",
              "1759300791264456713    3\n",
              "6677155273630458378    3\n",
              "                      ..\n",
              "6337635283520240987    1\n",
              "171474523819862579     1\n",
              "9140341952513458454    1\n",
              "0435311168229925475    1\n",
              "3354215803152916975    1\n",
              "Name: fullVisitorId, Length: 588, dtype: int64"
            ]
          },
          "metadata": {
            "tags": []
          },
          "execution_count": 112
        }
      ]
    },
    {
      "cell_type": "markdown",
      "metadata": {
        "id": "rmdBCA8rUpPV",
        "colab_type": "text"
      },
      "source": [
        "But the training of the transaction revenue is made just with the data from visitors that made at least one transaction"
      ]
    },
    {
      "cell_type": "code",
      "metadata": {
        "colab_type": "code",
        "id": "2df3AG5IYyo8",
        "outputId": "a431e3d0-5b46-4744-b50b-541fb218f61b",
        "colab": {
          "base_uri": "https://localhost:8080/",
          "height": 34
        }
      },
      "source": [
        "T_train_M2 = train_M2[train_M2['is_transaction']==1]\n",
        "T_train_M2.drop('is_transaction',axis=1,inplace=True)\n",
        "CONT_COLS_M2.remove('date')\n",
        "CONT_COLS_M2.remove('is_transaction')\n",
        "T_train_M2.shape, P_test_M2.shape"
      ],
      "execution_count": 113,
      "outputs": [
        {
          "output_type": "execute_result",
          "data": {
            "text/plain": [
              "((18559, 35), (656, 35))"
            ]
          },
          "metadata": {
            "tags": []
          },
          "execution_count": 113
        }
      ]
    },
    {
      "cell_type": "markdown",
      "metadata": {
        "id": "6RJh7DvMaaR3",
        "colab_type": "text"
      },
      "source": [
        "## Model - M2"
      ]
    },
    {
      "cell_type": "code",
      "metadata": {
        "colab_type": "code",
        "id": "Y_iFI2-MaeG5",
        "outputId": "a491cc5c-f54e-4846-c0d8-be2548749749",
        "colab": {
          "base_uri": "https://localhost:8080/",
          "height": 34
        }
      },
      "source": [
        "x_train_M2 = T_train_M2[CAT_COLS_M2 + CONT_COLS_M2]\n",
        "x_test_M2 = P_test_M2[CAT_COLS_M2 + CONT_COLS_M2]\n",
        "y_train_M2 = T_train_M2[[TARGET_M2]]\n",
        "y_test_M2 = P_test_M2[[TARGET_M2]]\n",
        "y_test_Z = Z_test_M2[[TARGET_M2]]\n",
        "x_train_M2.shape, x_test_M2.shape, y_train_M2.shape, y_test_M2.shape, y_test_Z.shape"
      ],
      "execution_count": 114,
      "outputs": [
        {
          "output_type": "execute_result",
          "data": {
            "text/plain": [
              "((18559, 32), (656, 32), (18559, 1), (656, 1), (400933, 1))"
            ]
          },
          "metadata": {
            "tags": []
          },
          "execution_count": 114
        }
      ]
    },
    {
      "cell_type": "code",
      "metadata": {
        "colab_type": "code",
        "id": "tgzCAmIgaeHU",
        "colab": {}
      },
      "source": [
        "model_M2 = RandomForestRegressor( \n",
        "    n_estimators=100, # Hyperparameter 1\n",
        "    max_depth=10,      # Hyperparameter 2\n",
        "    random_state=0\n",
        ")"
      ],
      "execution_count": 0,
      "outputs": []
    },
    {
      "cell_type": "code",
      "metadata": {
        "colab_type": "code",
        "id": "sgvenKaoaeHc",
        "colab": {}
      },
      "source": [
        "trained_model_M2 = model_M2.fit(x_train_M2, y_train_M2)"
      ],
      "execution_count": 0,
      "outputs": []
    },
    {
      "cell_type": "code",
      "metadata": {
        "id": "EPg2IvWTc4TM",
        "colab_type": "code",
        "outputId": "bfd1748e-476e-4b10-e58f-e0a092baf797",
        "colab": {
          "base_uri": "https://localhost:8080/",
          "height": 51
        }
      },
      "source": [
        "def get_error_regression(pred, true):\n",
        "    print(f'RMSE:       {rmse(true, pred)}')\n",
        "    print(f'MAE:        {mae(true, pred)}')\n",
        "    \n",
        "get_error_regression(pred = trained_model_M2.predict(x_test_M2),\n",
        "          true = y_test_M2)"
      ],
      "execution_count": 140,
      "outputs": [
        {
          "output_type": "stream",
          "text": [
            "RMSE:       12.245244617251508\n",
            "MAE:        8.793990778025604\n"
          ],
          "name": "stdout"
        }
      ]
    },
    {
      "cell_type": "code",
      "metadata": {
        "id": "D8Cdd5-QU3VV",
        "colab_type": "code",
        "outputId": "3e3c0a19-ef57-4362-b89c-7f59fed87f3c",
        "colab": {
          "base_uri": "https://localhost:8080/",
          "height": 34
        }
      },
      "source": [
        "pred_M2 = trained_model_M2.predict(x_test_M2)\n",
        "pred_M2.shape"
      ],
      "execution_count": 119,
      "outputs": [
        {
          "output_type": "execute_result",
          "data": {
            "text/plain": [
              "(656,)"
            ]
          },
          "metadata": {
            "tags": []
          },
          "execution_count": 119
        }
      ]
    },
    {
      "cell_type": "code",
      "metadata": {
        "id": "Ex7rrB26zKjU",
        "colab_type": "code",
        "outputId": "587f140c-f668-4336-9a0a-22e219f97f23",
        "colab": {
          "base_uri": "https://localhost:8080/",
          "height": 34
        }
      },
      "source": [
        "test_id_M2 = P_test_M2[\"fullVisitorId\"].values\n",
        "len(test_id_M2) #2896"
      ],
      "execution_count": 120,
      "outputs": [
        {
          "output_type": "execute_result",
          "data": {
            "text/plain": [
              "656"
            ]
          },
          "metadata": {
            "tags": []
          },
          "execution_count": 120
        }
      ]
    },
    {
      "cell_type": "code",
      "metadata": {
        "id": "BEEBzkP0yMVO",
        "colab_type": "code",
        "outputId": "50b02cf1-7701-4e27-8c9e-7f7e09cb6706",
        "colab": {
          "base_uri": "https://localhost:8080/",
          "height": 419
        }
      },
      "source": [
        "sub_M2 = pd.DataFrame({'fullVisitorId':test_id_M2})\n",
        "sub_M2['PredictedLogRevenue']= pred_M2\n",
        "sub_M2"
      ],
      "execution_count": 121,
      "outputs": [
        {
          "output_type": "execute_result",
          "data": {
            "text/html": [
              "<div>\n",
              "<style scoped>\n",
              "    .dataframe tbody tr th:only-of-type {\n",
              "        vertical-align: middle;\n",
              "    }\n",
              "\n",
              "    .dataframe tbody tr th {\n",
              "        vertical-align: top;\n",
              "    }\n",
              "\n",
              "    .dataframe thead th {\n",
              "        text-align: right;\n",
              "    }\n",
              "</style>\n",
              "<table border=\"1\" class=\"dataframe\">\n",
              "  <thead>\n",
              "    <tr style=\"text-align: right;\">\n",
              "      <th></th>\n",
              "      <th>fullVisitorId</th>\n",
              "      <th>PredictedLogRevenue</th>\n",
              "    </tr>\n",
              "  </thead>\n",
              "  <tbody>\n",
              "    <tr>\n",
              "      <th>0</th>\n",
              "      <td>6533935296546803942</td>\n",
              "      <td>18.194830</td>\n",
              "    </tr>\n",
              "    <tr>\n",
              "      <th>1</th>\n",
              "      <td>0855759862361326378</td>\n",
              "      <td>18.029948</td>\n",
              "    </tr>\n",
              "    <tr>\n",
              "      <th>2</th>\n",
              "      <td>6915727589933825896</td>\n",
              "      <td>18.353324</td>\n",
              "    </tr>\n",
              "    <tr>\n",
              "      <th>3</th>\n",
              "      <td>1180281062741658705</td>\n",
              "      <td>18.375450</td>\n",
              "    </tr>\n",
              "    <tr>\n",
              "      <th>4</th>\n",
              "      <td>2721569904173965057</td>\n",
              "      <td>18.330612</td>\n",
              "    </tr>\n",
              "    <tr>\n",
              "      <th>...</th>\n",
              "      <td>...</td>\n",
              "      <td>...</td>\n",
              "    </tr>\n",
              "    <tr>\n",
              "      <th>651</th>\n",
              "      <td>199211073374659585</td>\n",
              "      <td>18.618384</td>\n",
              "    </tr>\n",
              "    <tr>\n",
              "      <th>652</th>\n",
              "      <td>6485327521360234229</td>\n",
              "      <td>18.679087</td>\n",
              "    </tr>\n",
              "    <tr>\n",
              "      <th>653</th>\n",
              "      <td>482249714706656154</td>\n",
              "      <td>17.888075</td>\n",
              "    </tr>\n",
              "    <tr>\n",
              "      <th>654</th>\n",
              "      <td>9536260586427681418</td>\n",
              "      <td>18.096771</td>\n",
              "    </tr>\n",
              "    <tr>\n",
              "      <th>655</th>\n",
              "      <td>0517554446459588001</td>\n",
              "      <td>17.923830</td>\n",
              "    </tr>\n",
              "  </tbody>\n",
              "</table>\n",
              "<p>656 rows × 2 columns</p>\n",
              "</div>"
            ],
            "text/plain": [
              "           fullVisitorId  PredictedLogRevenue\n",
              "0    6533935296546803942            18.194830\n",
              "1    0855759862361326378            18.029948\n",
              "2    6915727589933825896            18.353324\n",
              "3    1180281062741658705            18.375450\n",
              "4    2721569904173965057            18.330612\n",
              "..                   ...                  ...\n",
              "651   199211073374659585            18.618384\n",
              "652  6485327521360234229            18.679087\n",
              "653   482249714706656154            17.888075\n",
              "654  9536260586427681418            18.096771\n",
              "655  0517554446459588001            17.923830\n",
              "\n",
              "[656 rows x 2 columns]"
            ]
          },
          "metadata": {
            "tags": []
          },
          "execution_count": 121
        }
      ]
    },
    {
      "cell_type": "code",
      "metadata": {
        "colab_type": "code",
        "id": "RgI0vIiU_Z0W",
        "colab": {}
      },
      "source": [
        "#joining the results for the regression and classifiation model\n",
        "sub_Tot=sub_M2.append(sub_M1)"
      ],
      "execution_count": 0,
      "outputs": []
    },
    {
      "cell_type": "code",
      "metadata": {
        "id": "h3C2peuTa6kZ",
        "colab_type": "code",
        "colab": {
          "base_uri": "https://localhost:8080/",
          "height": 221
        },
        "outputId": "a1de99d3-5449-44bb-f10c-a76509acaf29"
      },
      "source": [
        "T_pred = sub_Tot['PredictedLogRevenue']\n",
        "T_pred.describe()"
      ],
      "execution_count": 132,
      "outputs": [
        {
          "output_type": "execute_result",
          "data": {
            "text/plain": [
              "0         18.194830\n",
              "1         18.029948\n",
              "2         18.353324\n",
              "3         18.375450\n",
              "4         18.330612\n",
              "            ...    \n",
              "401584     0.000000\n",
              "401585     0.000000\n",
              "401586     0.000000\n",
              "401587     0.000000\n",
              "401588     0.000000\n",
              "Name: PredictedLogRevenue, Length: 401589, dtype: float64"
            ]
          },
          "metadata": {
            "tags": []
          },
          "execution_count": 132
        }
      ]
    },
    {
      "cell_type": "code",
      "metadata": {
        "id": "s2LGOlIgRAWt",
        "colab_type": "code",
        "colab": {
          "base_uri": "https://localhost:8080/",
          "height": 297
        },
        "outputId": "5e4ec1b9-02a9-46a0-b21f-2efa10f09ef1"
      },
      "source": [
        "T_test = y_test_M2.append(y_test_Z, ignore_index = True)\n",
        "T_test.describe()"
      ],
      "execution_count": 133,
      "outputs": [
        {
          "output_type": "execute_result",
          "data": {
            "text/html": [
              "<div>\n",
              "<style scoped>\n",
              "    .dataframe tbody tr th:only-of-type {\n",
              "        vertical-align: middle;\n",
              "    }\n",
              "\n",
              "    .dataframe tbody tr th {\n",
              "        vertical-align: top;\n",
              "    }\n",
              "\n",
              "    .dataframe thead th {\n",
              "        text-align: right;\n",
              "    }\n",
              "</style>\n",
              "<table border=\"1\" class=\"dataframe\">\n",
              "  <thead>\n",
              "    <tr style=\"text-align: right;\">\n",
              "      <th></th>\n",
              "      <th>totals.totalTransactionRevenue</th>\n",
              "    </tr>\n",
              "  </thead>\n",
              "  <tbody>\n",
              "    <tr>\n",
              "      <th>count</th>\n",
              "      <td>401589.000000</td>\n",
              "    </tr>\n",
              "    <tr>\n",
              "      <th>mean</th>\n",
              "      <td>0.205160</td>\n",
              "    </tr>\n",
              "    <tr>\n",
              "      <th>std</th>\n",
              "      <td>1.910293</td>\n",
              "    </tr>\n",
              "    <tr>\n",
              "      <th>min</th>\n",
              "      <td>0.000000</td>\n",
              "    </tr>\n",
              "    <tr>\n",
              "      <th>25%</th>\n",
              "      <td>0.000000</td>\n",
              "    </tr>\n",
              "    <tr>\n",
              "      <th>50%</th>\n",
              "      <td>0.000000</td>\n",
              "    </tr>\n",
              "    <tr>\n",
              "      <th>75%</th>\n",
              "      <td>0.000000</td>\n",
              "    </tr>\n",
              "    <tr>\n",
              "      <th>max</th>\n",
              "      <td>24.130278</td>\n",
              "    </tr>\n",
              "  </tbody>\n",
              "</table>\n",
              "</div>"
            ],
            "text/plain": [
              "       totals.totalTransactionRevenue\n",
              "count                   401589.000000\n",
              "mean                         0.205160\n",
              "std                          1.910293\n",
              "min                          0.000000\n",
              "25%                          0.000000\n",
              "50%                          0.000000\n",
              "75%                          0.000000\n",
              "max                         24.130278"
            ]
          },
          "metadata": {
            "tags": []
          },
          "execution_count": 133
        }
      ]
    },
    {
      "cell_type": "code",
      "metadata": {
        "id": "GUbbAMbEaUO-",
        "colab_type": "code",
        "colab": {
          "base_uri": "https://localhost:8080/",
          "height": 68
        },
        "outputId": "8c2b0d2b-bff9-4d17-8f37-9bd49f11c88d"
      },
      "source": [
        "get_error_regression(pred = T_pred,\n",
        "          true = T_test)"
      ],
      "execution_count": 135,
      "outputs": [
        {
          "output_type": "stream",
          "text": [
            "RMSE:       1.905716875486604\n",
            "MAE:        0.20312252171609932\n",
            "r2:         0.004782339268940228\n"
          ],
          "name": "stdout"
        }
      ]
    },
    {
      "cell_type": "markdown",
      "metadata": {
        "id": "AOB1bxSAWjrT",
        "colab_type": "text"
      },
      "source": [
        "# build a submission file"
      ]
    },
    {
      "cell_type": "code",
      "metadata": {
        "colab_type": "code",
        "id": "f29arRtaOrmN",
        "colab": {}
      },
      "source": [
        "sub_Tot[\"PredictedLogRevenue\"] = np.expm1(sub_Tot[\"PredictedLogRevenue\"])\n",
        "sub_Tot = sub_Tot.groupby(\"fullVisitorId\")[\"PredictedLogRevenue\"].sum().reset_index()\n",
        "sub_Tot.columns = [\"fullVisitorId\", \"PredictedLogRevenue\"]\n",
        "sub_Tot[\"PredictedLogRevenue\"] = np.log1p(sub_Tot[\"PredictedLogRevenue\"])\n",
        "sub_Tot.to_csv(\"submission.csv\", index=False)"
      ],
      "execution_count": 0,
      "outputs": []
    },
    {
      "cell_type": "code",
      "metadata": {
        "id": "x2fm5Z_VQVmD",
        "colab_type": "code",
        "outputId": "29700a44-5da1-4f13-9306-8fbb95ae7b64",
        "colab": {
          "base_uri": "https://localhost:8080/",
          "height": 34
        }
      },
      "source": [
        "sub_Tot.shape"
      ],
      "execution_count": 0,
      "outputs": [
        {
          "output_type": "execute_result",
          "data": {
            "text/plain": [
              "(296530, 2)"
            ]
          },
          "metadata": {
            "tags": []
          },
          "execution_count": 113
        }
      ]
    },
    {
      "cell_type": "code",
      "metadata": {
        "id": "bsTzQJZqTQ-s",
        "colab_type": "code",
        "outputId": "c1c17383-f726-42a8-c6fb-25f353f2fb03",
        "colab": {
          "base_uri": "https://localhost:8080/",
          "height": 419
        }
      },
      "source": [
        "sub_Tot[sub_Tot['PredictedLogRevenue']>0]"
      ],
      "execution_count": 139,
      "outputs": [
        {
          "output_type": "execute_result",
          "data": {
            "text/html": [
              "<div>\n",
              "<style scoped>\n",
              "    .dataframe tbody tr th:only-of-type {\n",
              "        vertical-align: middle;\n",
              "    }\n",
              "\n",
              "    .dataframe tbody tr th {\n",
              "        vertical-align: top;\n",
              "    }\n",
              "\n",
              "    .dataframe thead th {\n",
              "        text-align: right;\n",
              "    }\n",
              "</style>\n",
              "<table border=\"1\" class=\"dataframe\">\n",
              "  <thead>\n",
              "    <tr style=\"text-align: right;\">\n",
              "      <th></th>\n",
              "      <th>fullVisitorId</th>\n",
              "      <th>PredictedLogRevenue</th>\n",
              "    </tr>\n",
              "  </thead>\n",
              "  <tbody>\n",
              "    <tr>\n",
              "      <th>0</th>\n",
              "      <td>6533935296546803942</td>\n",
              "      <td>18.194830</td>\n",
              "    </tr>\n",
              "    <tr>\n",
              "      <th>1</th>\n",
              "      <td>0855759862361326378</td>\n",
              "      <td>18.029948</td>\n",
              "    </tr>\n",
              "    <tr>\n",
              "      <th>2</th>\n",
              "      <td>6915727589933825896</td>\n",
              "      <td>18.353324</td>\n",
              "    </tr>\n",
              "    <tr>\n",
              "      <th>3</th>\n",
              "      <td>1180281062741658705</td>\n",
              "      <td>18.375450</td>\n",
              "    </tr>\n",
              "    <tr>\n",
              "      <th>4</th>\n",
              "      <td>2721569904173965057</td>\n",
              "      <td>18.330612</td>\n",
              "    </tr>\n",
              "    <tr>\n",
              "      <th>...</th>\n",
              "      <td>...</td>\n",
              "      <td>...</td>\n",
              "    </tr>\n",
              "    <tr>\n",
              "      <th>651</th>\n",
              "      <td>199211073374659585</td>\n",
              "      <td>18.618384</td>\n",
              "    </tr>\n",
              "    <tr>\n",
              "      <th>652</th>\n",
              "      <td>6485327521360234229</td>\n",
              "      <td>18.679087</td>\n",
              "    </tr>\n",
              "    <tr>\n",
              "      <th>653</th>\n",
              "      <td>482249714706656154</td>\n",
              "      <td>17.888075</td>\n",
              "    </tr>\n",
              "    <tr>\n",
              "      <th>654</th>\n",
              "      <td>9536260586427681418</td>\n",
              "      <td>18.096771</td>\n",
              "    </tr>\n",
              "    <tr>\n",
              "      <th>655</th>\n",
              "      <td>0517554446459588001</td>\n",
              "      <td>17.923830</td>\n",
              "    </tr>\n",
              "  </tbody>\n",
              "</table>\n",
              "<p>656 rows × 2 columns</p>\n",
              "</div>"
            ],
            "text/plain": [
              "           fullVisitorId  PredictedLogRevenue\n",
              "0    6533935296546803942            18.194830\n",
              "1    0855759862361326378            18.029948\n",
              "2    6915727589933825896            18.353324\n",
              "3    1180281062741658705            18.375450\n",
              "4    2721569904173965057            18.330612\n",
              "..                   ...                  ...\n",
              "651   199211073374659585            18.618384\n",
              "652  6485327521360234229            18.679087\n",
              "653   482249714706656154            17.888075\n",
              "654  9536260586427681418            18.096771\n",
              "655  0517554446459588001            17.923830\n",
              "\n",
              "[656 rows x 2 columns]"
            ]
          },
          "metadata": {
            "tags": []
          },
          "execution_count": 139
        }
      ]
    },
    {
      "cell_type": "code",
      "metadata": {
        "id": "LaoEumImH42t",
        "colab_type": "code",
        "colab": {}
      },
      "source": [
        "# options for balancing classes\n",
        "# - upsampling: resampling minority class until it is same quantity of majority class\n",
        "# - downsampling: removing samples (randomly) from majority class unitl quantity same as minority\n",
        "# - synthetic (smote): similar to upsampling, algorithmically create new minority samples\n",
        "\n",
        "# choose a better metric for inbalanced classes:\n",
        "# - f score\n",
        "\n",
        "# ensembling methods:\n",
        "# - classification model: make predictions about whether they made purchase (on test set)\n",
        "# - regression model: predicted on dataset with no zeros\n",
        "\n",
        "# options from there:\n",
        "#  - just use these predictions\n",
        "# - average out the results from regression model on all data and regression classification combo"
      ],
      "execution_count": 0,
      "outputs": []
    },
    {
      "cell_type": "code",
      "metadata": {
        "id": "3kZfqOv6LArM",
        "colab_type": "code",
        "colab": {}
      },
      "source": [
        "from sklearn.metrics import f1_score"
      ],
      "execution_count": 0,
      "outputs": []
    },
    {
      "cell_type": "markdown",
      "metadata": {
        "id": "VFLfI1k0LMBG",
        "colab_type": "text"
      },
      "source": [
        ""
      ]
    }
  ]
}