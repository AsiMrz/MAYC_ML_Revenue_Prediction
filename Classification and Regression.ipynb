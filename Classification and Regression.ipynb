{
  "nbformat": 4,
  "nbformat_minor": 0,
  "metadata": {
    "kernelspec": {
      "display_name": "Python 3",
      "language": "python",
      "name": "python3"
    },
    "toc": {
      "base_numbering": 1,
      "nav_menu": {},
      "number_sections": true,
      "sideBar": true,
      "skip_h1_title": false,
      "title_cell": "Table of Contents",
      "title_sidebar": "Contents",
      "toc_cell": false,
      "toc_position": {},
      "toc_section_display": true,
      "toc_window_display": false
    },
    "colab": {
      "name": "ML_GACRP_PIPELINE.ipynb",
      "provenance": [],
      "toc_visible": true,
      "include_colab_link": true
    }
  },
  "cells": [
    {
      "cell_type": "markdown",
      "metadata": {
        "id": "view-in-github",
        "colab_type": "text"
      },
      "source": [
        "<a href=\"https://colab.research.google.com/github/yeialgov/MAYC_ML_Revenue_Prediction/blob/patch-1/Classification%20and%20Regression.ipynb\" target=\"_parent\"><img src=\"https://colab.research.google.com/assets/colab-badge.svg\" alt=\"Open In Colab\"/></a>"
      ]
    },
    {
      "cell_type": "code",
      "metadata": {
        "id": "Q7NUxl3iMn1H",
        "colab_type": "code",
        "colab": {}
      },
      "source": [
        "# download the libraries\n",
        "import pandas as pd\n",
        "from pandas import Series,DataFrame\n",
        "import warnings\n",
        "from copy import deepcopy\n",
        "import os\n",
        "warnings.filterwarnings('ignore')\n",
        "import numpy as np\n",
        "import matplotlib.pyplot as plt\n",
        "import seaborn as sns\n",
        "from datetime import datetime\n",
        "from sklearn.preprocessing import LabelEncoder\n",
        "import random\n",
        "%matplotlib inline"
      ],
      "execution_count": 0,
      "outputs": []
    },
    {
      "cell_type": "markdown",
      "metadata": {
        "id": "C_rtWx5Y7qVw",
        "colab_type": "text"
      },
      "source": [
        "# Getting the data"
      ]
    },
    {
      "cell_type": "code",
      "metadata": {
        "id": "odFQDYPTNLMc",
        "colab_type": "code",
        "outputId": "268f2018-7753-4dec-a712-a668b73f1d0e",
        "colab": {
          "base_uri": "https://localhost:8080/",
          "height": 54
        }
      },
      "source": [
        "from google.colab import drive\n",
        "drive.mount('/content/gdrive')"
      ],
      "execution_count": 48,
      "outputs": [
        {
          "output_type": "stream",
          "text": [
            "Drive already mounted at /content/gdrive; to attempt to forcibly remount, call drive.mount(\"/content/gdrive\", force_remount=True).\n"
          ],
          "name": "stdout"
        }
      ]
    },
    {
      "cell_type": "code",
      "metadata": {
        "id": "1meGr2fGNX0J",
        "colab_type": "code",
        "outputId": "130bb76a-7ff0-437a-addf-6b18a1bf49ed",
        "colab": {
          "base_uri": "https://localhost:8080/",
          "height": 34
        }
      },
      "source": [
        "cd '/content/gdrive/My Drive/ReDi_DA_Project/Datasets_Clean/'"
      ],
      "execution_count": 49,
      "outputs": [
        {
          "output_type": "stream",
          "text": [
            "/content/gdrive/My Drive/ReDi_DA_Project/Datasets_Clean\n"
          ],
          "name": "stdout"
        }
      ]
    },
    {
      "cell_type": "code",
      "metadata": {
        "id": "bpHQzAS3uTLQ",
        "colab_type": "code",
        "colab": {}
      },
      "source": [
        "all_data = pd.read_pickle('cleaned_data.pkl')\n"
      ],
      "execution_count": 0,
      "outputs": []
    },
    {
      "cell_type": "markdown",
      "metadata": {
        "id": "IX-_z2KKTzdX",
        "colab_type": "text"
      },
      "source": [
        "# Model to search the visitors who made transactions"
      ]
    },
    {
      "cell_type": "markdown",
      "metadata": {
        "id": "hkfsY1lCndsI",
        "colab_type": "text"
      },
      "source": [
        "## Function to define Target Column"
      ]
    },
    {
      "cell_type": "code",
      "metadata": {
        "id": "ZvuMz0A4Vaa_",
        "colab_type": "code",
        "colab": {}
      },
      "source": [
        "def is_transaction(n):\n",
        "  if n == 0    :    return 0\n",
        "  else         :    return 1\n",
        "\n",
        "all_data['is_transaction']=all_data['totals.transactions'].apply(is_transaction)"
      ],
      "execution_count": 0,
      "outputs": []
    },
    {
      "cell_type": "code",
      "metadata": {
        "id": "eS1z0ILdXM2m",
        "colab_type": "code",
        "outputId": "581fe098-3350-487e-cafb-2da2f79e6f74",
        "colab": {
          "base_uri": "https://localhost:8080/",
          "height": 68
        }
      },
      "source": [
        "all_data['is_transaction'].value_counts()"
      ],
      "execution_count": 52,
      "outputs": [
        {
          "output_type": "execute_result",
          "data": {
            "text/plain": [
              "0    2085062\n",
              "1      24864\n",
              "Name: is_transaction, dtype: int64"
            ]
          },
          "metadata": {
            "tags": []
          },
          "execution_count": 52
        }
      ]
    },
    {
      "cell_type": "markdown",
      "metadata": {
        "id": "P8-K3JmAoLzB",
        "colab_type": "text"
      },
      "source": [
        "## Encoding Categorical Values"
      ]
    },
    {
      "cell_type": "code",
      "metadata": {
        "id": "iEYlXnzRPzJ-",
        "colab_type": "code",
        "colab": {}
      },
      "source": [
        "TARGET = 'is_transaction'\n",
        "CAT_COLS = all_data.columns[all_data.dtypes == object].tolist()\n",
        "CONT_COLS = [c for c in all_data.columns if c not in CAT_COLS and c != TARGET]\n"
      ],
      "execution_count": 0,
      "outputs": []
    },
    {
      "cell_type": "code",
      "metadata": {
        "id": "p_dhzqSUrQBF",
        "colab_type": "code",
        "colab": {}
      },
      "source": [
        "#Columns remove because of problems with the encoder\n",
        "CAT_COLS.remove('trafficSource.isTrueDirect')\n",
        "CAT_COLS.remove('trafficSource.adwordsClickInfo.isVideoAd')"
      ],
      "execution_count": 0,
      "outputs": []
    },
    {
      "cell_type": "code",
      "metadata": {
        "id": "TGhChyUCvssN",
        "colab_type": "code",
        "outputId": "3d049815-9b04-4bdd-ca3b-568c3bf39e2a",
        "colab": {
          "base_uri": "https://localhost:8080/",
          "height": 391
        }
      },
      "source": [
        "CAT_COLS.remove('fullVisitorId')\n",
        "CAT_COLS"
      ],
      "execution_count": 54,
      "outputs": [
        {
          "output_type": "execute_result",
          "data": {
            "text/plain": [
              "['channelGrouping',\n",
              " 'customDimension.value',\n",
              " 'trafficSource.isTrueDirect',\n",
              " 'geoNetwork.region',\n",
              " 'trafficSource.adwordsClickInfo.isVideoAd',\n",
              " 'geoNetwork.city',\n",
              " 'dataset',\n",
              " 'trafficSource.source',\n",
              " 'geoNetwork.metro',\n",
              " 'device.operatingSystem',\n",
              " 'totals.visits',\n",
              " 'trafficSource.medium',\n",
              " 'trafficSource.keyword',\n",
              " 'device.browser',\n",
              " 'geoNetwork.country',\n",
              " 'geoNetwork.subContinent',\n",
              " 'geoNetwork.networkDomain',\n",
              " 'geoNetwork.continent',\n",
              " 'trafficSource.adwordsClickInfo.adNetworkType',\n",
              " 'device.deviceCategory',\n",
              " 'day',\n",
              " 'month']"
            ]
          },
          "metadata": {
            "tags": []
          },
          "execution_count": 54
        }
      ]
    },
    {
      "cell_type": "code",
      "metadata": {
        "id": "9Qh6ZwLQgG8B",
        "colab_type": "code",
        "outputId": "c903f80e-8d1d-4ceb-81f9-cf89dad9e48d",
        "colab": {
          "base_uri": "https://localhost:8080/",
          "height": 221
        }
      },
      "source": [
        "CONT_COLS.remove('date')\n",
        "CONT_COLS.remove('totals.transactions')\n",
        "CONT_COLS.remove('totals.totalTransactionRevenue')\n",
        "CONT_COLS"
      ],
      "execution_count": 56,
      "outputs": [
        {
          "output_type": "execute_result",
          "data": {
            "text/plain": [
              "['visitNumber',\n",
              " 'visitId',\n",
              " 'totals.newVisits',\n",
              " 'totals.sessionQualityDim',\n",
              " 'totals.timeOnSite',\n",
              " 'device.isMobile',\n",
              " 'totals.hits',\n",
              " 'visitStartTime',\n",
              " 'totals.bounces',\n",
              " 'totals.pageviews',\n",
              " 'year',\n",
              " 'week']"
            ]
          },
          "metadata": {
            "tags": []
          },
          "execution_count": 56
        }
      ]
    },
    {
      "cell_type": "code",
      "metadata": {
        "id": "nFiAD5oqgUkz",
        "colab_type": "code",
        "outputId": "40005e35-48a1-472a-8ca1-51968bfd495f",
        "colab": {
          "base_uri": "https://localhost:8080/",
          "height": 748
        }
      },
      "source": [
        "M1_data = deepcopy(all_data[CAT_COLS + CONT_COLS + [TARGET]+ [ 'fullVisitorId']])\n",
        "\n",
        "M1_data.info()"
      ],
      "execution_count": 57,
      "outputs": [
        {
          "output_type": "stream",
          "text": [
            "<class 'pandas.core.frame.DataFrame'>\n",
            "Int64Index: 2109926 entries, 0 to 401588\n",
            "Data columns (total 36 columns):\n",
            " #   Column                                        Dtype  \n",
            "---  ------                                        -----  \n",
            " 0   channelGrouping                               object \n",
            " 1   customDimension.value                         object \n",
            " 2   trafficSource.isTrueDirect                    object \n",
            " 3   geoNetwork.region                             object \n",
            " 4   trafficSource.adwordsClickInfo.isVideoAd      object \n",
            " 5   geoNetwork.city                               object \n",
            " 6   dataset                                       object \n",
            " 7   trafficSource.source                          object \n",
            " 8   geoNetwork.metro                              object \n",
            " 9   device.operatingSystem                        object \n",
            " 10  totals.visits                                 object \n",
            " 11  trafficSource.medium                          object \n",
            " 12  trafficSource.keyword                         object \n",
            " 13  device.browser                                object \n",
            " 14  geoNetwork.country                            object \n",
            " 15  geoNetwork.subContinent                       object \n",
            " 16  geoNetwork.networkDomain                      object \n",
            " 17  geoNetwork.continent                          object \n",
            " 18  trafficSource.adwordsClickInfo.adNetworkType  object \n",
            " 19  device.deviceCategory                         object \n",
            " 20  day                                           object \n",
            " 21  month                                         object \n",
            " 22  visitNumber                                   int64  \n",
            " 23  visitId                                       int64  \n",
            " 24  totals.newVisits                              int64  \n",
            " 25  totals.sessionQualityDim                      float64\n",
            " 26  totals.timeOnSite                             int64  \n",
            " 27  device.isMobile                               bool   \n",
            " 28  totals.hits                                   float64\n",
            " 29  visitStartTime                                int64  \n",
            " 30  totals.bounces                                int64  \n",
            " 31  totals.pageviews                              int64  \n",
            " 32  year                                          int64  \n",
            " 33  week                                          int64  \n",
            " 34  is_transaction                                int64  \n",
            " 35  fullVisitorId                                 object \n",
            "dtypes: bool(1), float64(2), int64(10), object(23)\n",
            "memory usage: 581.5+ MB\n"
          ],
          "name": "stdout"
        }
      ]
    },
    {
      "cell_type": "code",
      "metadata": {
        "id": "sWWEfZa_Mn58",
        "colab_type": "code",
        "colab": {
          "base_uri": "https://localhost:8080/",
          "height": 357
        },
        "outputId": "c8b3d299-6476-4020-fc84-0f7c10b07201"
      },
      "source": [
        "leb = LabelEncoder()\n",
        "for col in CAT_COLS:\n",
        "    print(col)\n",
        "    M1_data[col] = leb.fit_transform(M1_data[col])"
      ],
      "execution_count": 67,
      "outputs": [
        {
          "output_type": "stream",
          "text": [
            "channelGrouping\n",
            "customDimension.value\n",
            "geoNetwork.region\n",
            "geoNetwork.city\n",
            "dataset\n",
            "trafficSource.source\n",
            "geoNetwork.metro\n",
            "device.operatingSystem\n",
            "totals.visits\n",
            "trafficSource.medium\n",
            "trafficSource.keyword\n",
            "device.browser\n",
            "geoNetwork.country\n",
            "geoNetwork.subContinent\n",
            "geoNetwork.networkDomain\n",
            "geoNetwork.continent\n",
            "trafficSource.adwordsClickInfo.adNetworkType\n",
            "device.deviceCategory\n",
            "day\n",
            "month\n"
          ],
          "name": "stdout"
        }
      ]
    },
    {
      "cell_type": "markdown",
      "metadata": {
        "id": "2vNmbVBGn3rO",
        "colab_type": "text"
      },
      "source": [
        "## Split Train and Test"
      ]
    },
    {
      "cell_type": "code",
      "metadata": {
        "id": "pLdu3ej6Mn6E",
        "colab_type": "code",
        "outputId": "9ddb08d0-e342-41a8-f5ed-a10066980557",
        "colab": {
          "base_uri": "https://localhost:8080/",
          "height": 68
        }
      },
      "source": [
        "M1_data['dataset'].value_counts()"
      ],
      "execution_count": 68,
      "outputs": [
        {
          "output_type": "execute_result",
          "data": {
            "text/plain": [
              "1    1708337\n",
              "0     401589\n",
              "Name: dataset, dtype: int64"
            ]
          },
          "metadata": {
            "tags": []
          },
          "execution_count": 68
        }
      ]
    },
    {
      "cell_type": "code",
      "metadata": {
        "id": "l639Tc9E-eDh",
        "colab_type": "code",
        "colab": {}
      },
      "source": [
        "train = M1_data[M1_data['dataset']==1]\n",
        "test = M1_data[M1_data['dataset']==0]\n",
        "train.drop('dataset',axis=1,inplace=True)\n",
        "test.drop('dataset',axis=1, inplace=True)\n",
        "#remove dataset from the model\n",
        "CAT_COLS.remove('dataset')"
      ],
      "execution_count": 0,
      "outputs": []
    },
    {
      "cell_type": "code",
      "metadata": {
        "id": "Q-nPE_jO3f8f",
        "colab_type": "code",
        "colab": {}
      },
      "source": [
        "train.shape, test.shape"
      ],
      "execution_count": 0,
      "outputs": []
    },
    {
      "cell_type": "markdown",
      "metadata": {
        "id": "uy2r19xmnNnU",
        "colab_type": "text"
      },
      "source": [
        "## Model"
      ]
    },
    {
      "cell_type": "code",
      "metadata": {
        "id": "caB2qeZSMn6N",
        "colab_type": "code",
        "colab": {}
      },
      "source": [
        "from sklearn.model_selection import train_test_split\n",
        "from sklearn.ensemble import RandomForestRegressor\n",
        "from sklearn.ensemble import RandomForestClassifier, GradientBoostingClassifier\n",
        "from sklearn.metrics import accuracy_score as accuracy\n",
        "from sklearn.metrics import r2_score as r2\n",
        "from sklearn.metrics import mean_squared_error as mse\n",
        "from sklearn.metrics import mean_absolute_error as mae\n",
        "from sklearn.metrics import f1_score as f1\n",
        "rmse = lambda true, pred: mse(true, pred) ** 0.5"
      ],
      "execution_count": 0,
      "outputs": []
    },
    {
      "cell_type": "code",
      "metadata": {
        "id": "6OeFnTYlfRou",
        "colab_type": "code",
        "colab": {}
      },
      "source": [
        "x_train = train[CAT_COLS + CONT_COLS]\n",
        "x_test = test[CAT_COLS + CONT_COLS]\n",
        "y_train = train[[TARGET]]\n",
        "y_test = test[[TARGET]]"
      ],
      "execution_count": 0,
      "outputs": []
    },
    {
      "cell_type": "code",
      "metadata": {
        "id": "jipCBJ2-CvHo",
        "colab_type": "code",
        "outputId": "fbbe8c97-a293-4536-8666-299cb6886574",
        "colab": {
          "base_uri": "https://localhost:8080/",
          "height": 34
        }
      },
      "source": [
        "x_train.shape, x_test.shape, y_train.shape, y_test.shape"
      ],
      "execution_count": 72,
      "outputs": [
        {
          "output_type": "execute_result",
          "data": {
            "text/plain": [
              "((1708337, 31), (401589, 31), (1708337, 1), (401589, 1))"
            ]
          },
          "metadata": {
            "tags": []
          },
          "execution_count": 72
        }
      ]
    },
    {
      "cell_type": "code",
      "metadata": {
        "id": "neGovCrOPZiv",
        "colab_type": "code",
        "outputId": "ea525791-b36b-4bcb-91fb-05e7beda010a",
        "colab": {
          "base_uri": "https://localhost:8080/",
          "height": 204
        }
      },
      "source": [
        "x_train.columns"
      ],
      "execution_count": 73,
      "outputs": [
        {
          "output_type": "execute_result",
          "data": {
            "text/plain": [
              "Index(['channelGrouping', 'customDimension.value', 'geoNetwork.region',\n",
              "       'geoNetwork.city', 'trafficSource.source', 'geoNetwork.metro',\n",
              "       'device.operatingSystem', 'totals.visits', 'trafficSource.medium',\n",
              "       'trafficSource.keyword', 'device.browser', 'geoNetwork.country',\n",
              "       'geoNetwork.subContinent', 'geoNetwork.networkDomain',\n",
              "       'geoNetwork.continent', 'trafficSource.adwordsClickInfo.adNetworkType',\n",
              "       'device.deviceCategory', 'day', 'month', 'visitNumber', 'visitId',\n",
              "       'totals.newVisits', 'totals.sessionQualityDim', 'totals.timeOnSite',\n",
              "       'device.isMobile', 'totals.hits', 'visitStartTime', 'totals.bounces',\n",
              "       'totals.pageviews', 'year', 'week'],\n",
              "      dtype='object')"
            ]
          },
          "metadata": {
            "tags": []
          },
          "execution_count": 73
        }
      ]
    },
    {
      "cell_type": "code",
      "metadata": {
        "id": "JEeG3gCSMn6l",
        "colab_type": "code",
        "colab": {}
      },
      "source": [
        "model = RandomForestClassifier( \n",
        "    n_estimators=100, # Hyperparameter 1\n",
        "    max_depth=10,      # Hyperparameter 2\n",
        "    random_state=0\n",
        ")"
      ],
      "execution_count": 0,
      "outputs": []
    },
    {
      "cell_type": "code",
      "metadata": {
        "id": "1upqCb_YDz3S",
        "colab_type": "code",
        "colab": {}
      },
      "source": [
        "trained_model = model.fit(x_train, y_train)"
      ],
      "execution_count": 0,
      "outputs": []
    },
    {
      "cell_type": "code",
      "metadata": {
        "id": "azVfGsAvElRD",
        "colab_type": "code",
        "colab": {
          "base_uri": "https://localhost:8080/",
          "height": 51
        },
        "outputId": "b6829361-1fbe-4c02-cf49-18cb37ff85e2"
      },
      "source": [
        "def get_error(pred, true):\n",
        "    print(f'f-score:         {f1(true, pred)}')\n",
        "    print(f'accuracy:        {accuracy(true, pred)}')\n",
        "\n",
        "get_error(pred = trained_model.predict(x_test),\n",
        "          true = y_test)"
      ],
      "execution_count": 76,
      "outputs": [
        {
          "output_type": "stream",
          "text": [
            "f-score:         0.1028587846573768\n",
            "accuracy:        0.9844492752540532\n"
          ],
          "name": "stdout"
        }
      ]
    },
    {
      "cell_type": "markdown",
      "metadata": {
        "id": "H9LcznXoVuH5",
        "colab_type": "text"
      },
      "source": [
        "## Submission M1"
      ]
    },
    {
      "cell_type": "code",
      "metadata": {
        "id": "z6lnrKtNZhLE",
        "colab_type": "code",
        "outputId": "ae520fda-7887-45b3-d097-3d317affb2c7",
        "colab": {
          "base_uri": "https://localhost:8080/",
          "height": 34
        }
      },
      "source": [
        "pred_M1 = trained_model.predict(x_test)\n",
        "pred_M1.shape"
      ],
      "execution_count": 77,
      "outputs": [
        {
          "output_type": "execute_result",
          "data": {
            "text/plain": [
              "(401589,)"
            ]
          },
          "metadata": {
            "tags": []
          },
          "execution_count": 77
        }
      ]
    },
    {
      "cell_type": "code",
      "metadata": {
        "id": "ngonomkTal1L",
        "colab_type": "code",
        "outputId": "ef7a417b-f5ae-48b0-8dae-5dbd5f0a8c45",
        "colab": {
          "base_uri": "https://localhost:8080/",
          "height": 34
        }
      },
      "source": [
        "T_predicted = pred_M1[pred_M1!=0]\n",
        "T_predicted.shape"
      ],
      "execution_count": 78,
      "outputs": [
        {
          "output_type": "execute_result",
          "data": {
            "text/plain": [
              "(656,)"
            ]
          },
          "metadata": {
            "tags": []
          },
          "execution_count": 78
        }
      ]
    },
    {
      "cell_type": "code",
      "metadata": {
        "colab_type": "code",
        "id": "lNWP5cDRfxpg",
        "colab": {}
      },
      "source": [
        "#train_id = train[\"fullVisitorId\"].values\n",
        "test_id = test[\"fullVisitorId\"].values"
      ],
      "execution_count": 0,
      "outputs": []
    },
    {
      "cell_type": "code",
      "metadata": {
        "id": "0Dqo1-fjWLH8",
        "colab_type": "code",
        "outputId": "a1ac6aab-22af-4399-f80f-a0f9ba2205a5",
        "colab": {
          "base_uri": "https://localhost:8080/",
          "height": 34
        }
      },
      "source": [
        "sub_M1 = pd.DataFrame({\"fullVisitorId\":test_id})\n",
        "sub_M1['PredictedLogRevenue']= pred_M1\n",
        "sub_M1.shape"
      ],
      "execution_count": 80,
      "outputs": [
        {
          "output_type": "execute_result",
          "data": {
            "text/plain": [
              "(401589, 2)"
            ]
          },
          "metadata": {
            "tags": []
          },
          "execution_count": 80
        }
      ]
    },
    {
      "cell_type": "code",
      "metadata": {
        "id": "Jr3Doc6-HQTr",
        "colab_type": "code",
        "colab": {}
      },
      "source": [
        "#sub_M2.append(sub_M1).drop_duplicates('fullVisitorId')"
      ],
      "execution_count": 0,
      "outputs": []
    },
    {
      "cell_type": "code",
      "metadata": {
        "id": "M8jX5htwYZqG",
        "colab_type": "code",
        "outputId": "dc0e6b51-3763-4241-b789-0b388ebe4eb1",
        "colab": {
          "base_uri": "https://localhost:8080/",
          "height": 34
        }
      },
      "source": [
        "Cus_Pre = sub_M1[sub_M1['PredictedLogRevenue']==1]\n",
        "test_id_M2 = list(Cus_Pre.index)\n",
        "len(test_id_M2)"
      ],
      "execution_count": 81,
      "outputs": [
        {
          "output_type": "execute_result",
          "data": {
            "text/plain": [
              "656"
            ]
          },
          "metadata": {
            "tags": []
          },
          "execution_count": 81
        }
      ]
    },
    {
      "cell_type": "code",
      "metadata": {
        "id": "J3v1xYjTJdzO",
        "colab_type": "code",
        "colab": {
          "base_uri": "https://localhost:8080/",
          "height": 34
        },
        "outputId": "c315cac5-0539-479b-df3c-31d8083dce65"
      },
      "source": [
        "sub_M1.drop(test_id_M2,axis=0,inplace=True)\n",
        "sub_M1.shape"
      ],
      "execution_count": 82,
      "outputs": [
        {
          "output_type": "execute_result",
          "data": {
            "text/plain": [
              "(400933, 2)"
            ]
          },
          "metadata": {
            "tags": []
          },
          "execution_count": 82
        }
      ]
    },
    {
      "cell_type": "code",
      "metadata": {
        "id": "xmXf-L_6l0kb",
        "colab_type": "code",
        "colab": {
          "base_uri": "https://localhost:8080/",
          "height": 51
        },
        "outputId": "9c01a1dc-7d05-4664-f49c-0afd8c5b938f"
      },
      "source": [
        "sub_M1['PredictedLogRevenue'].value_counts()"
      ],
      "execution_count": 83,
      "outputs": [
        {
          "output_type": "execute_result",
          "data": {
            "text/plain": [
              "0    400933\n",
              "Name: PredictedLogRevenue, dtype: int64"
            ]
          },
          "metadata": {
            "tags": []
          },
          "execution_count": 83
        }
      ]
    },
    {
      "cell_type": "markdown",
      "metadata": {
        "id": "P8S-dtAUJV3b",
        "colab_type": "text"
      },
      "source": [
        "# Model to calculate transaction Revenue"
      ]
    },
    {
      "cell_type": "markdown",
      "metadata": {
        "id": "O19cIcK6WKm2",
        "colab_type": "text"
      },
      "source": [
        "## Encoding Categorical Values - M2"
      ]
    },
    {
      "cell_type": "code",
      "metadata": {
        "colab_type": "code",
        "id": "mx-MBMOwK8Vz",
        "colab": {}
      },
      "source": [
        "TARGET_M2 = 'totals.totalTransactionRevenue'\n",
        "CAT_COLS_M2 = all_data.columns[all_data.dtypes == object].tolist()\n",
        "CONT_COLS_M2 = [c for c in all_data.columns if c not in CAT_COLS_M2 and c != TARGET_M2]\n",
        "CAT_COLS_M2.remove('fullVisitorId')"
      ],
      "execution_count": 0,
      "outputs": []
    },
    {
      "cell_type": "code",
      "metadata": {
        "id": "TJP7ETaKuh9Q",
        "colab_type": "code",
        "colab": {}
      },
      "source": [
        "#Columns remove because of problems with the encoder\n",
        "CAT_COLS_M2.remove('trafficSource.isTrueDirect')\n",
        "CAT_COLS_M2.remove('trafficSource.adwordsClickInfo.isVideoAd')"
      ],
      "execution_count": 0,
      "outputs": []
    },
    {
      "cell_type": "code",
      "metadata": {
        "id": "XbI-eThkJkAI",
        "colab_type": "code",
        "outputId": "c9d85cf0-082b-4110-c142-ed59cf081cad",
        "colab": {
          "base_uri": "https://localhost:8080/",
          "height": 799
        }
      },
      "source": [
        "M2_data = deepcopy(all_data[CAT_COLS_M2 + CONT_COLS_M2 + [TARGET_M2]+['fullVisitorId']])\n",
        "M2_data.info()"
      ],
      "execution_count": 85,
      "outputs": [
        {
          "output_type": "stream",
          "text": [
            "<class 'pandas.core.frame.DataFrame'>\n",
            "Int64Index: 2109926 entries, 0 to 401588\n",
            "Data columns (total 39 columns):\n",
            " #   Column                                        Dtype         \n",
            "---  ------                                        -----         \n",
            " 0   channelGrouping                               object        \n",
            " 1   customDimension.value                         object        \n",
            " 2   trafficSource.isTrueDirect                    object        \n",
            " 3   geoNetwork.region                             object        \n",
            " 4   trafficSource.adwordsClickInfo.isVideoAd      object        \n",
            " 5   geoNetwork.city                               object        \n",
            " 6   dataset                                       object        \n",
            " 7   trafficSource.source                          object        \n",
            " 8   geoNetwork.metro                              object        \n",
            " 9   device.operatingSystem                        object        \n",
            " 10  totals.visits                                 object        \n",
            " 11  trafficSource.medium                          object        \n",
            " 12  trafficSource.keyword                         object        \n",
            " 13  device.browser                                object        \n",
            " 14  geoNetwork.country                            object        \n",
            " 15  geoNetwork.subContinent                       object        \n",
            " 16  geoNetwork.networkDomain                      object        \n",
            " 17  geoNetwork.continent                          object        \n",
            " 18  trafficSource.adwordsClickInfo.adNetworkType  object        \n",
            " 19  device.deviceCategory                         object        \n",
            " 20  day                                           object        \n",
            " 21  month                                         object        \n",
            " 22  visitNumber                                   int64         \n",
            " 23  visitId                                       int64         \n",
            " 24  totals.newVisits                              int64         \n",
            " 25  totals.sessionQualityDim                      float64       \n",
            " 26  totals.timeOnSite                             int64         \n",
            " 27  totals.transactions                           int64         \n",
            " 28  device.isMobile                               bool          \n",
            " 29  totals.hits                                   float64       \n",
            " 30  visitStartTime                                int64         \n",
            " 31  totals.bounces                                int64         \n",
            " 32  totals.pageviews                              int64         \n",
            " 33  date                                          datetime64[ns]\n",
            " 34  year                                          int64         \n",
            " 35  week                                          int64         \n",
            " 36  is_transaction                                int64         \n",
            " 37  totals.totalTransactionRevenue                float64       \n",
            " 38  fullVisitorId                                 object        \n",
            "dtypes: bool(1), datetime64[ns](1), float64(3), int64(11), object(23)\n",
            "memory usage: 629.8+ MB\n"
          ],
          "name": "stdout"
        }
      ]
    },
    {
      "cell_type": "code",
      "metadata": {
        "colab_type": "code",
        "id": "p028rr4dK8Wx",
        "colab": {}
      },
      "source": [
        "#leb = LabelEncoder()\n",
        "for col in CAT_COLS_M2:\n",
        "    M2_data[col] = leb.fit_transform(M2_data[col])"
      ],
      "execution_count": 0,
      "outputs": []
    },
    {
      "cell_type": "markdown",
      "metadata": {
        "id": "uZdB5mI6T11X",
        "colab_type": "text"
      },
      "source": [
        "## Split Train and Test - M2"
      ]
    },
    {
      "cell_type": "code",
      "metadata": {
        "colab_type": "code",
        "id": "sqzEJHEzT8NF",
        "colab": {
          "base_uri": "https://localhost:8080/",
          "height": 34
        },
        "outputId": "fb721d25-cef6-4ae5-cc6b-081e61995ca8"
      },
      "source": [
        "train_M2 = M2_data[M2_data['dataset']==1]\n",
        "test_M2 = M2_data[M2_data['dataset']==0]\n",
        "train_M2.drop('dataset',axis=1,inplace=True)\n",
        "test_M2.drop('dataset',axis=1, inplace=True)\n",
        "CAT_COLS_M2.remove('dataset')\n",
        "train_M2.shape, test_M2.shape"
      ],
      "execution_count": 91,
      "outputs": [
        {
          "output_type": "execute_result",
          "data": {
            "text/plain": [
              "((1708337, 38), (401589, 38))"
            ]
          },
          "metadata": {
            "tags": []
          },
          "execution_count": 91
        }
      ]
    },
    {
      "cell_type": "code",
      "metadata": {
        "id": "sK6b5rOsl-ik",
        "colab_type": "code",
        "outputId": "593800b0-ea55-4f53-bf7a-ea25505086fe",
        "colab": {
          "base_uri": "https://localhost:8080/",
          "height": 34
        }
      },
      "source": [
        "P_test_M2 = test_M2[test_M2.index.isin(test_id_M2)]\n",
        "P_test_M2.drop('is_transaction',axis=1,inplace=True)\n",
        "P_test_M2.shape"
      ],
      "execution_count": 92,
      "outputs": [
        {
          "output_type": "execute_result",
          "data": {
            "text/plain": [
              "(656, 37)"
            ]
          },
          "metadata": {
            "tags": []
          },
          "execution_count": 92
        }
      ]
    },
    {
      "cell_type": "code",
      "metadata": {
        "id": "pkjf_Q81dEps",
        "colab_type": "code",
        "outputId": "3cbbf3e9-4573-47e3-8303-213a4bae7fd8",
        "colab": {
          "base_uri": "https://localhost:8080/",
          "height": 221
        }
      },
      "source": [
        "P_test_M2['fullVisitorId'].value_counts()"
      ],
      "execution_count": 93,
      "outputs": [
        {
          "output_type": "execute_result",
          "data": {
            "text/plain": [
              "4099631678878053818    4\n",
              "4608218212556854907    4\n",
              "1759300791264456713    3\n",
              "2521245176378446368    3\n",
              "9598295196867795955    3\n",
              "                      ..\n",
              "7654971282597163377    1\n",
              "9287412777972824538    1\n",
              "8006616338750252752    1\n",
              "7323088264424028056    1\n",
              "7733537325503662581    1\n",
              "Name: fullVisitorId, Length: 588, dtype: int64"
            ]
          },
          "metadata": {
            "tags": []
          },
          "execution_count": 93
        }
      ]
    },
    {
      "cell_type": "markdown",
      "metadata": {
        "id": "rmdBCA8rUpPV",
        "colab_type": "text"
      },
      "source": [
        "But the training of the transaction revenue is made just with the data from visitors that made at least one transaction"
      ]
    },
    {
      "cell_type": "code",
      "metadata": {
        "colab_type": "code",
        "id": "2df3AG5IYyo8",
        "colab": {
          "base_uri": "https://localhost:8080/",
          "height": 34
        },
        "outputId": "173cacd9-8afd-49c1-afd8-84869fce46db"
      },
      "source": [
        "T_train_M2 = train_M2[train_M2['is_transaction']==1]\n",
        "T_train_M2.drop('is_transaction',axis=1,inplace=True)\n",
        "CONT_COLS_M2.remove('date')\n",
        "CONT_COLS_M2.remove('is_transaction')\n",
        "T_train_M2.shape, P_test_M2.shape"
      ],
      "execution_count": 94,
      "outputs": [
        {
          "output_type": "execute_result",
          "data": {
            "text/plain": [
              "((18559, 37), (656, 37))"
            ]
          },
          "metadata": {
            "tags": []
          },
          "execution_count": 94
        }
      ]
    },
    {
      "cell_type": "markdown",
      "metadata": {
        "id": "6RJh7DvMaaR3",
        "colab_type": "text"
      },
      "source": [
        "## Model - M2"
      ]
    },
    {
      "cell_type": "code",
      "metadata": {
        "colab_type": "code",
        "id": "Y_iFI2-MaeG5",
        "colab": {
          "base_uri": "https://localhost:8080/",
          "height": 34
        },
        "outputId": "9e181a29-f805-4225-9d81-22787e3364b9"
      },
      "source": [
        "x_train_M2 = T_train_M2[CAT_COLS_M2 + CONT_COLS_M2]\n",
        "x_test_M2 = P_test_M2[CAT_COLS_M2 + CONT_COLS_M2]\n",
        "y_train_M2 = T_train_M2[[TARGET_M2]]\n",
        "y_test_M2 = P_test_M2[[TARGET_M2]]\n",
        "x_train_M2.shape, x_test_M2.shape, y_train_M2.shape, y_test_M2.shape"
      ],
      "execution_count": 97,
      "outputs": [
        {
          "output_type": "execute_result",
          "data": {
            "text/plain": [
              "((18559, 32), (656, 32), (18559, 1), (656, 1))"
            ]
          },
          "metadata": {
            "tags": []
          },
          "execution_count": 97
        }
      ]
    },
    {
      "cell_type": "code",
      "metadata": {
        "id": "L2NhN2hTTDib",
        "colab_type": "code",
        "outputId": "ad244d38-00f2-49e6-befc-da25e35e4586",
        "colab": {
          "base_uri": "https://localhost:8080/",
          "height": 297
        }
      },
      "source": [
        "y_train_M2.describe()"
      ],
      "execution_count": 102,
      "outputs": [
        {
          "output_type": "execute_result",
          "data": {
            "text/html": [
              "<div>\n",
              "<style scoped>\n",
              "    .dataframe tbody tr th:only-of-type {\n",
              "        vertical-align: middle;\n",
              "    }\n",
              "\n",
              "    .dataframe tbody tr th {\n",
              "        vertical-align: top;\n",
              "    }\n",
              "\n",
              "    .dataframe thead th {\n",
              "        text-align: right;\n",
              "    }\n",
              "</style>\n",
              "<table border=\"1\" class=\"dataframe\">\n",
              "  <thead>\n",
              "    <tr style=\"text-align: right;\">\n",
              "      <th></th>\n",
              "      <th>totals.totalTransactionRevenue</th>\n",
              "    </tr>\n",
              "  </thead>\n",
              "  <tbody>\n",
              "    <tr>\n",
              "      <th>count</th>\n",
              "      <td>18559.000000</td>\n",
              "    </tr>\n",
              "    <tr>\n",
              "      <th>mean</th>\n",
              "      <td>17.897679</td>\n",
              "    </tr>\n",
              "    <tr>\n",
              "      <th>std</th>\n",
              "      <td>1.395750</td>\n",
              "    </tr>\n",
              "    <tr>\n",
              "      <th>min</th>\n",
              "      <td>0.000000</td>\n",
              "    </tr>\n",
              "    <tr>\n",
              "      <th>25%</th>\n",
              "      <td>17.173452</td>\n",
              "    </tr>\n",
              "    <tr>\n",
              "      <th>50%</th>\n",
              "      <td>17.781264</td>\n",
              "    </tr>\n",
              "    <tr>\n",
              "      <th>75%</th>\n",
              "      <td>18.504608</td>\n",
              "    </tr>\n",
              "    <tr>\n",
              "      <th>max</th>\n",
              "      <td>24.575158</td>\n",
              "    </tr>\n",
              "  </tbody>\n",
              "</table>\n",
              "</div>"
            ],
            "text/plain": [
              "       totals.totalTransactionRevenue\n",
              "count                    18559.000000\n",
              "mean                        17.897679\n",
              "std                          1.395750\n",
              "min                          0.000000\n",
              "25%                         17.173452\n",
              "50%                         17.781264\n",
              "75%                         18.504608\n",
              "max                         24.575158"
            ]
          },
          "metadata": {
            "tags": []
          },
          "execution_count": 102
        }
      ]
    },
    {
      "cell_type": "code",
      "metadata": {
        "colab_type": "code",
        "id": "tgzCAmIgaeHU",
        "colab": {}
      },
      "source": [
        "model_M2 = RandomForestRegressor( \n",
        "    n_estimators=100, # Hyperparameter 1\n",
        "    max_depth=10,      # Hyperparameter 2\n",
        "    random_state=0\n",
        ")"
      ],
      "execution_count": 0,
      "outputs": []
    },
    {
      "cell_type": "code",
      "metadata": {
        "colab_type": "code",
        "id": "sgvenKaoaeHc",
        "colab": {}
      },
      "source": [
        "trained_model_M2 = model_M2.fit(x_train_M2, y_train_M2)"
      ],
      "execution_count": 0,
      "outputs": []
    },
    {
      "cell_type": "code",
      "metadata": {
        "id": "EPg2IvWTc4TM",
        "colab_type": "code",
        "colab": {
          "base_uri": "https://localhost:8080/",
          "height": 68
        },
        "outputId": "e6a89416-d0fa-4b33-d2dc-9eec89553ecd"
      },
      "source": [
        "def get_error_regression(pred, true):\n",
        "    print(f'RMSE:       {rmse(true, pred)}')\n",
        "    print(f'MAE:        {mae(true, pred)}')\n",
        "    print(f'r2:         {r2(true, pred)}')\n",
        "\n",
        "get_error_regression(pred = trained_model_M2.predict(x_test_M2),\n",
        "          true = y_test_M2)"
      ],
      "execution_count": 104,
      "outputs": [
        {
          "output_type": "stream",
          "text": [
            "RMSE:       12.245244617251508\n",
            "MAE:        8.793990778025604\n",
            "r2:         -0.7524523523524744\n"
          ],
          "name": "stdout"
        }
      ]
    },
    {
      "cell_type": "code",
      "metadata": {
        "id": "D8Cdd5-QU3VV",
        "colab_type": "code",
        "outputId": "85788e7a-0b04-4e5d-f25c-aac9c1040c0b",
        "colab": {
          "base_uri": "https://localhost:8080/",
          "height": 34
        }
      },
      "source": [
        "pred_M2 = trained_model_M2.predict(x_test_M2)\n",
        "pred_M2.shape"
      ],
      "execution_count": 105,
      "outputs": [
        {
          "output_type": "execute_result",
          "data": {
            "text/plain": [
              "(656,)"
            ]
          },
          "metadata": {
            "tags": []
          },
          "execution_count": 105
        }
      ]
    },
    {
      "cell_type": "code",
      "metadata": {
        "id": "Ex7rrB26zKjU",
        "colab_type": "code",
        "outputId": "035dface-16fd-42b5-ae73-9e743ebcd686",
        "colab": {
          "base_uri": "https://localhost:8080/",
          "height": 34
        }
      },
      "source": [
        "test_id_M2 = P_test_M2[\"fullVisitorId\"].values\n",
        "len(test_id_M2) #2896"
      ],
      "execution_count": 106,
      "outputs": [
        {
          "output_type": "execute_result",
          "data": {
            "text/plain": [
              "656"
            ]
          },
          "metadata": {
            "tags": []
          },
          "execution_count": 106
        }
      ]
    },
    {
      "cell_type": "code",
      "metadata": {
        "id": "BEEBzkP0yMVO",
        "colab_type": "code",
        "outputId": "ff81ddef-98c6-4db5-babf-c3c9bfb1efde",
        "colab": {
          "base_uri": "https://localhost:8080/",
          "height": 419
        }
      },
      "source": [
        "sub_M2 = pd.DataFrame({'fullVisitorId':test_id_M2})\n",
        "sub_M2['PredictedLogRevenue']= pred_M2\n",
        "sub_M2"
      ],
      "execution_count": 107,
      "outputs": [
        {
          "output_type": "execute_result",
          "data": {
            "text/html": [
              "<div>\n",
              "<style scoped>\n",
              "    .dataframe tbody tr th:only-of-type {\n",
              "        vertical-align: middle;\n",
              "    }\n",
              "\n",
              "    .dataframe tbody tr th {\n",
              "        vertical-align: top;\n",
              "    }\n",
              "\n",
              "    .dataframe thead th {\n",
              "        text-align: right;\n",
              "    }\n",
              "</style>\n",
              "<table border=\"1\" class=\"dataframe\">\n",
              "  <thead>\n",
              "    <tr style=\"text-align: right;\">\n",
              "      <th></th>\n",
              "      <th>fullVisitorId</th>\n",
              "      <th>PredictedLogRevenue</th>\n",
              "    </tr>\n",
              "  </thead>\n",
              "  <tbody>\n",
              "    <tr>\n",
              "      <th>0</th>\n",
              "      <td>6533935296546803942</td>\n",
              "      <td>18.194830</td>\n",
              "    </tr>\n",
              "    <tr>\n",
              "      <th>1</th>\n",
              "      <td>0855759862361326378</td>\n",
              "      <td>18.029948</td>\n",
              "    </tr>\n",
              "    <tr>\n",
              "      <th>2</th>\n",
              "      <td>6915727589933825896</td>\n",
              "      <td>18.353324</td>\n",
              "    </tr>\n",
              "    <tr>\n",
              "      <th>3</th>\n",
              "      <td>1180281062741658705</td>\n",
              "      <td>18.375450</td>\n",
              "    </tr>\n",
              "    <tr>\n",
              "      <th>4</th>\n",
              "      <td>2721569904173965057</td>\n",
              "      <td>18.330612</td>\n",
              "    </tr>\n",
              "    <tr>\n",
              "      <th>...</th>\n",
              "      <td>...</td>\n",
              "      <td>...</td>\n",
              "    </tr>\n",
              "    <tr>\n",
              "      <th>651</th>\n",
              "      <td>199211073374659585</td>\n",
              "      <td>18.618384</td>\n",
              "    </tr>\n",
              "    <tr>\n",
              "      <th>652</th>\n",
              "      <td>6485327521360234229</td>\n",
              "      <td>18.679087</td>\n",
              "    </tr>\n",
              "    <tr>\n",
              "      <th>653</th>\n",
              "      <td>482249714706656154</td>\n",
              "      <td>17.888075</td>\n",
              "    </tr>\n",
              "    <tr>\n",
              "      <th>654</th>\n",
              "      <td>9536260586427681418</td>\n",
              "      <td>18.096771</td>\n",
              "    </tr>\n",
              "    <tr>\n",
              "      <th>655</th>\n",
              "      <td>0517554446459588001</td>\n",
              "      <td>17.923830</td>\n",
              "    </tr>\n",
              "  </tbody>\n",
              "</table>\n",
              "<p>656 rows × 2 columns</p>\n",
              "</div>"
            ],
            "text/plain": [
              "           fullVisitorId  PredictedLogRevenue\n",
              "0    6533935296546803942            18.194830\n",
              "1    0855759862361326378            18.029948\n",
              "2    6915727589933825896            18.353324\n",
              "3    1180281062741658705            18.375450\n",
              "4    2721569904173965057            18.330612\n",
              "..                   ...                  ...\n",
              "651   199211073374659585            18.618384\n",
              "652  6485327521360234229            18.679087\n",
              "653   482249714706656154            17.888075\n",
              "654  9536260586427681418            18.096771\n",
              "655  0517554446459588001            17.923830\n",
              "\n",
              "[656 rows x 2 columns]"
            ]
          },
          "metadata": {
            "tags": []
          },
          "execution_count": 107
        }
      ]
    },
    {
      "cell_type": "code",
      "metadata": {
        "colab_type": "code",
        "id": "RgI0vIiU_Z0W",
        "outputId": "aa75d406-be65-43b1-a3bb-710753d5a6c6",
        "colab": {
          "base_uri": "https://localhost:8080/",
          "height": 419
        }
      },
      "source": [
        "sub_Tot=sub_M2.append(sub_M1)\n",
        "sub_Tot"
      ],
      "execution_count": 108,
      "outputs": [
        {
          "output_type": "execute_result",
          "data": {
            "text/html": [
              "<div>\n",
              "<style scoped>\n",
              "    .dataframe tbody tr th:only-of-type {\n",
              "        vertical-align: middle;\n",
              "    }\n",
              "\n",
              "    .dataframe tbody tr th {\n",
              "        vertical-align: top;\n",
              "    }\n",
              "\n",
              "    .dataframe thead th {\n",
              "        text-align: right;\n",
              "    }\n",
              "</style>\n",
              "<table border=\"1\" class=\"dataframe\">\n",
              "  <thead>\n",
              "    <tr style=\"text-align: right;\">\n",
              "      <th></th>\n",
              "      <th>fullVisitorId</th>\n",
              "      <th>PredictedLogRevenue</th>\n",
              "    </tr>\n",
              "  </thead>\n",
              "  <tbody>\n",
              "    <tr>\n",
              "      <th>0</th>\n",
              "      <td>6533935296546803942</td>\n",
              "      <td>18.194830</td>\n",
              "    </tr>\n",
              "    <tr>\n",
              "      <th>1</th>\n",
              "      <td>0855759862361326378</td>\n",
              "      <td>18.029948</td>\n",
              "    </tr>\n",
              "    <tr>\n",
              "      <th>2</th>\n",
              "      <td>6915727589933825896</td>\n",
              "      <td>18.353324</td>\n",
              "    </tr>\n",
              "    <tr>\n",
              "      <th>3</th>\n",
              "      <td>1180281062741658705</td>\n",
              "      <td>18.375450</td>\n",
              "    </tr>\n",
              "    <tr>\n",
              "      <th>4</th>\n",
              "      <td>2721569904173965057</td>\n",
              "      <td>18.330612</td>\n",
              "    </tr>\n",
              "    <tr>\n",
              "      <th>...</th>\n",
              "      <td>...</td>\n",
              "      <td>...</td>\n",
              "    </tr>\n",
              "    <tr>\n",
              "      <th>401584</th>\n",
              "      <td>6701149525099562370</td>\n",
              "      <td>0.000000</td>\n",
              "    </tr>\n",
              "    <tr>\n",
              "      <th>401585</th>\n",
              "      <td>6154541330147351453</td>\n",
              "      <td>0.000000</td>\n",
              "    </tr>\n",
              "    <tr>\n",
              "      <th>401586</th>\n",
              "      <td>6013469762773705448</td>\n",
              "      <td>0.000000</td>\n",
              "    </tr>\n",
              "    <tr>\n",
              "      <th>401587</th>\n",
              "      <td>4565378823441900999</td>\n",
              "      <td>0.000000</td>\n",
              "    </tr>\n",
              "    <tr>\n",
              "      <th>401588</th>\n",
              "      <td>3875690118293601911</td>\n",
              "      <td>0.000000</td>\n",
              "    </tr>\n",
              "  </tbody>\n",
              "</table>\n",
              "<p>401589 rows × 2 columns</p>\n",
              "</div>"
            ],
            "text/plain": [
              "              fullVisitorId  PredictedLogRevenue\n",
              "0       6533935296546803942            18.194830\n",
              "1       0855759862361326378            18.029948\n",
              "2       6915727589933825896            18.353324\n",
              "3       1180281062741658705            18.375450\n",
              "4       2721569904173965057            18.330612\n",
              "...                     ...                  ...\n",
              "401584  6701149525099562370             0.000000\n",
              "401585  6154541330147351453             0.000000\n",
              "401586  6013469762773705448             0.000000\n",
              "401587  4565378823441900999             0.000000\n",
              "401588  3875690118293601911             0.000000\n",
              "\n",
              "[401589 rows x 2 columns]"
            ]
          },
          "metadata": {
            "tags": []
          },
          "execution_count": 108
        }
      ]
    },
    {
      "cell_type": "markdown",
      "metadata": {
        "id": "AOB1bxSAWjrT",
        "colab_type": "text"
      },
      "source": [
        "# build a submission file"
      ]
    },
    {
      "cell_type": "code",
      "metadata": {
        "colab_type": "code",
        "id": "f29arRtaOrmN",
        "colab": {}
      },
      "source": [
        "sub_Tot[\"PredictedLogRevenue\"] = np.expm1(sub_Tot[\"PredictedLogRevenue\"])\n",
        "sub_Tot = sub_Tot.groupby(\"fullVisitorId\")[\"PredictedLogRevenue\"].sum().reset_index()\n",
        "sub_Tot.columns = [\"fullVisitorId\", \"PredictedLogRevenue\"]\n",
        "sub_Tot[\"PredictedLogRevenue\"] = np.log1p(sub_Tot[\"PredictedLogRevenue\"])\n",
        "sub_Tot.to_csv(\"submission.csv\", index=False)"
      ],
      "execution_count": 0,
      "outputs": []
    },
    {
      "cell_type": "code",
      "metadata": {
        "id": "x2fm5Z_VQVmD",
        "colab_type": "code",
        "outputId": "29700a44-5da1-4f13-9306-8fbb95ae7b64",
        "colab": {
          "base_uri": "https://localhost:8080/",
          "height": 34
        }
      },
      "source": [
        "sub_Tot.shape"
      ],
      "execution_count": 0,
      "outputs": [
        {
          "output_type": "execute_result",
          "data": {
            "text/plain": [
              "(296530, 2)"
            ]
          },
          "metadata": {
            "tags": []
          },
          "execution_count": 113
        }
      ]
    },
    {
      "cell_type": "code",
      "metadata": {
        "id": "bsTzQJZqTQ-s",
        "colab_type": "code",
        "outputId": "43578c12-444b-4e0a-dccd-f615eab427b0",
        "colab": {
          "base_uri": "https://localhost:8080/",
          "height": 419
        }
      },
      "source": [
        "sub_Tot[sub_Tot['PredictedLogRevenue']==0]"
      ],
      "execution_count": 0,
      "outputs": [
        {
          "output_type": "execute_result",
          "data": {
            "text/html": [
              "<div>\n",
              "<style scoped>\n",
              "    .dataframe tbody tr th:only-of-type {\n",
              "        vertical-align: middle;\n",
              "    }\n",
              "\n",
              "    .dataframe tbody tr th {\n",
              "        vertical-align: top;\n",
              "    }\n",
              "\n",
              "    .dataframe thead th {\n",
              "        text-align: right;\n",
              "    }\n",
              "</style>\n",
              "<table border=\"1\" class=\"dataframe\">\n",
              "  <thead>\n",
              "    <tr style=\"text-align: right;\">\n",
              "      <th></th>\n",
              "      <th>fullVisitorId</th>\n",
              "      <th>PredictedLogRevenue</th>\n",
              "    </tr>\n",
              "  </thead>\n",
              "  <tbody>\n",
              "    <tr>\n",
              "      <th>0</th>\n",
              "      <td>0000018966949534117</td>\n",
              "      <td>0.0</td>\n",
              "    </tr>\n",
              "    <tr>\n",
              "      <th>1</th>\n",
              "      <td>0000039738481224681</td>\n",
              "      <td>0.0</td>\n",
              "    </tr>\n",
              "    <tr>\n",
              "      <th>2</th>\n",
              "      <td>0000073585230191399</td>\n",
              "      <td>0.0</td>\n",
              "    </tr>\n",
              "    <tr>\n",
              "      <th>3</th>\n",
              "      <td>0000087588448856385</td>\n",
              "      <td>0.0</td>\n",
              "    </tr>\n",
              "    <tr>\n",
              "      <th>4</th>\n",
              "      <td>0000149787903119437</td>\n",
              "      <td>0.0</td>\n",
              "    </tr>\n",
              "    <tr>\n",
              "      <th>...</th>\n",
              "      <td>...</td>\n",
              "      <td>...</td>\n",
              "    </tr>\n",
              "    <tr>\n",
              "      <th>296525</th>\n",
              "      <td>9999862054614696520</td>\n",
              "      <td>0.0</td>\n",
              "    </tr>\n",
              "    <tr>\n",
              "      <th>296526</th>\n",
              "      <td>9999898168621645223</td>\n",
              "      <td>0.0</td>\n",
              "    </tr>\n",
              "    <tr>\n",
              "      <th>296527</th>\n",
              "      <td>999990167740728398</td>\n",
              "      <td>0.0</td>\n",
              "    </tr>\n",
              "    <tr>\n",
              "      <th>296528</th>\n",
              "      <td>9999915620249883537</td>\n",
              "      <td>0.0</td>\n",
              "    </tr>\n",
              "    <tr>\n",
              "      <th>296529</th>\n",
              "      <td>9999947552481876143</td>\n",
              "      <td>0.0</td>\n",
              "    </tr>\n",
              "  </tbody>\n",
              "</table>\n",
              "<p>295985 rows × 2 columns</p>\n",
              "</div>"
            ],
            "text/plain": [
              "              fullVisitorId  PredictedLogRevenue\n",
              "0       0000018966949534117                  0.0\n",
              "1       0000039738481224681                  0.0\n",
              "2       0000073585230191399                  0.0\n",
              "3       0000087588448856385                  0.0\n",
              "4       0000149787903119437                  0.0\n",
              "...                     ...                  ...\n",
              "296525  9999862054614696520                  0.0\n",
              "296526  9999898168621645223                  0.0\n",
              "296527   999990167740728398                  0.0\n",
              "296528  9999915620249883537                  0.0\n",
              "296529  9999947552481876143                  0.0\n",
              "\n",
              "[295985 rows x 2 columns]"
            ]
          },
          "metadata": {
            "tags": []
          },
          "execution_count": 128
        }
      ]
    },
    {
      "cell_type": "code",
      "metadata": {
        "id": "LaoEumImH42t",
        "colab_type": "code",
        "colab": {}
      },
      "source": [
        "# options for balancing classes\n",
        "# - upsampling: resampling minority class until it is same quantity of majority class\n",
        "# - downsampling: removing samples (randomly) from majority class unitl quantity same as minority\n",
        "# - synthetic (smote): similar to upsampling, algorithmically create new minority samples\n",
        "\n",
        "# choose a better metric for inbalanced classes:\n",
        "# - f score\n",
        "\n",
        "# ensembling methods:\n",
        "# - classification model: make predictions about whether they made purchase (on test set)\n",
        "# - regression model: predicted on dataset with no zeros\n",
        "\n",
        "# options from there:\n",
        "#  - just use these predictions\n",
        "# - average out the results from regression model on all data and regression classification combo"
      ],
      "execution_count": 0,
      "outputs": []
    },
    {
      "cell_type": "code",
      "metadata": {
        "id": "3kZfqOv6LArM",
        "colab_type": "code",
        "colab": {}
      },
      "source": [
        "from sklearn.metrics import f1_score"
      ],
      "execution_count": 0,
      "outputs": []
    },
    {
      "cell_type": "markdown",
      "metadata": {
        "id": "VFLfI1k0LMBG",
        "colab_type": "text"
      },
      "source": [
        ""
      ]
    }
  ]
}