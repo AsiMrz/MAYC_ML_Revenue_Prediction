{
  "nbformat": 4,
  "nbformat_minor": 0,
  "metadata": {
    "kernelspec": {
      "display_name": "Python 3",
      "language": "python",
      "name": "python3"
    },
    "toc": {
      "base_numbering": 1,
      "nav_menu": {},
      "number_sections": true,
      "sideBar": true,
      "skip_h1_title": false,
      "title_cell": "Table of Contents",
      "title_sidebar": "Contents",
      "toc_cell": false,
      "toc_position": {},
      "toc_section_display": true,
      "toc_window_display": false
    },
    "colab": {
      "name": "ML_GACRP_PIPELINE.ipynb",
      "provenance": [],
      "toc_visible": true,
      "include_colab_link": true
    }
  },
  "cells": [
    {
      "cell_type": "markdown",
      "metadata": {
        "id": "view-in-github",
        "colab_type": "text"
      },
      "source": [
        "<a href=\"https://colab.research.google.com/github/yeialgov/MAYC_ML_Revenue_Prediction/blob/patch-1/Classification%20and%20Regression.ipynb\" target=\"_parent\"><img src=\"https://colab.research.google.com/assets/colab-badge.svg\" alt=\"Open In Colab\"/></a>"
      ]
    },
    {
      "cell_type": "code",
      "metadata": {
        "id": "Q7NUxl3iMn1H",
        "colab_type": "code",
        "colab": {}
      },
      "source": [
        "# download the libraries\n",
        "import pandas as pd\n",
        "from pandas import Series,DataFrame\n",
        "import warnings\n",
        "from copy import deepcopy\n",
        "import os\n",
        "warnings.filterwarnings('ignore')\n",
        "import numpy as np\n",
        "import matplotlib.pyplot as plt\n",
        "import seaborn as sns\n",
        "from datetime import datetime\n",
        "from sklearn.preprocessing import LabelEncoder\n",
        "import random\n",
        "%matplotlib inline"
      ],
      "execution_count": 0,
      "outputs": []
    },
    {
      "cell_type": "code",
      "metadata": {
        "id": "ARFvfk1yzZkv",
        "colab_type": "code",
        "colab": {}
      },
      "source": [
        "from sklearn.preprocessing import LabelEncoder"
      ],
      "execution_count": 0,
      "outputs": []
    },
    {
      "cell_type": "markdown",
      "metadata": {
        "id": "C_rtWx5Y7qVw",
        "colab_type": "text"
      },
      "source": [
        "# Getting the data"
      ]
    },
    {
      "cell_type": "code",
      "metadata": {
        "id": "odFQDYPTNLMc",
        "colab_type": "code",
        "outputId": "8ebb673e-9d1b-4603-8ab5-401d02336ca1",
        "colab": {
          "base_uri": "https://localhost:8080/",
          "height": 122
        }
      },
      "source": [
        "from google.colab import drive\n",
        "drive.mount('/content/gdrive')"
      ],
      "execution_count": 3,
      "outputs": [
        {
          "output_type": "stream",
          "text": [
            "Go to this URL in a browser: https://accounts.google.com/o/oauth2/auth?client_id=947318989803-6bn6qk8qdgf4n4g3pfee6491hc0brc4i.apps.googleusercontent.com&redirect_uri=urn%3aietf%3awg%3aoauth%3a2.0%3aoob&response_type=code&scope=email%20https%3a%2f%2fwww.googleapis.com%2fauth%2fdocs.test%20https%3a%2f%2fwww.googleapis.com%2fauth%2fdrive%20https%3a%2f%2fwww.googleapis.com%2fauth%2fdrive.photos.readonly%20https%3a%2f%2fwww.googleapis.com%2fauth%2fpeopleapi.readonly\n",
            "\n",
            "Enter your authorization code:\n",
            "··········\n",
            "Mounted at /content/gdrive\n"
          ],
          "name": "stdout"
        }
      ]
    },
    {
      "cell_type": "code",
      "metadata": {
        "id": "1meGr2fGNX0J",
        "colab_type": "code",
        "outputId": "14a7db26-7d34-4ba7-9c09-c9c90678d92c",
        "colab": {
          "base_uri": "https://localhost:8080/",
          "height": 34
        }
      },
      "source": [
        "cd '/content/gdrive/My Drive/ReDi_DA_Project/Datasets_Clean/'"
      ],
      "execution_count": 4,
      "outputs": [
        {
          "output_type": "stream",
          "text": [
            "/content/gdrive/My Drive/ReDi_DA_Project/Datasets_Clean\n"
          ],
          "name": "stdout"
        }
      ]
    },
    {
      "cell_type": "code",
      "metadata": {
        "id": "bpHQzAS3uTLQ",
        "colab_type": "code",
        "colab": {}
      },
      "source": [
        "all_data = pd.read_pickle('all_data.pkl')\n"
      ],
      "execution_count": 0,
      "outputs": []
    },
    {
      "cell_type": "code",
      "metadata": {
        "id": "TdBiwu7sMn4o",
        "colab_type": "code",
        "outputId": "c263bf2e-829e-4f12-b17e-3d3d743e6d04",
        "colab": {
          "base_uri": "https://localhost:8080/",
          "height": 34
        }
      },
      "source": [
        "all_data.isnull().sum().sum()"
      ],
      "execution_count": 6,
      "outputs": [
        {
          "output_type": "execute_result",
          "data": {
            "text/plain": [
              "0"
            ]
          },
          "metadata": {
            "tags": []
          },
          "execution_count": 6
        }
      ]
    },
    {
      "cell_type": "code",
      "metadata": {
        "id": "L3uwVOjkSDK_",
        "colab_type": "code",
        "outputId": "ec811408-3bc1-4ee3-ce2d-9486f296b541",
        "colab": {
          "base_uri": "https://localhost:8080/",
          "height": 680
        }
      },
      "source": [
        "all_data.info()"
      ],
      "execution_count": 7,
      "outputs": [
        {
          "output_type": "stream",
          "text": [
            "<class 'pandas.core.frame.DataFrame'>\n",
            "Int64Index: 2109926 entries, 0 to 401588\n",
            "Data columns (total 32 columns):\n",
            " #   Column                                        Dtype         \n",
            "---  ------                                        -----         \n",
            " 0   totals.sessionQualityDim                      int64         \n",
            " 1   totals.totalTransactionRevenue                float64       \n",
            " 2   device.deviceCategory                         object        \n",
            " 3   totals.timeOnSite                             int64         \n",
            " 4   totals.bounces                                int64         \n",
            " 5   geoNetwork.country                            object        \n",
            " 6   visitStartTime                                int64         \n",
            " 7   totals.transactions                           int64         \n",
            " 8   totals.pageviews                              int64         \n",
            " 9   date                                          datetime64[ns]\n",
            " 10  customDimension.value                         object        \n",
            " 11  dataset                                       object        \n",
            " 12  totals.newVisits                              int64         \n",
            " 13  visitNumber                                   int64         \n",
            " 14  trafficSource.isTrueDirect                    bool          \n",
            " 15  visitId                                       int64         \n",
            " 16  geoNetwork.metro                              object        \n",
            " 17  geoNetwork.continent                          object        \n",
            " 18  trafficSource.medium                          object        \n",
            " 19  device.operatingSystem                        object        \n",
            " 20  geoNetwork.networkDomain                      object        \n",
            " 21  device.isMobile                               bool          \n",
            " 22  channelGrouping                               object        \n",
            " 23  trafficSource.adwordsClickInfo.adNetworkType  object        \n",
            " 24  device.browser                                object        \n",
            " 25  geoNetwork.subContinent                       object        \n",
            " 26  geoNetwork.region                             object        \n",
            " 27  trafficSource.source                          object        \n",
            " 28  geoNetwork.city                               object        \n",
            " 29  totals.hits                                   float64       \n",
            " 30  trafficSource.adwordsClickInfo.isVideoAd      bool          \n",
            " 31  fullVisitorId                                 object        \n",
            "dtypes: bool(3), datetime64[ns](1), float64(2), int64(9), object(17)\n",
            "memory usage: 489.0+ MB\n"
          ],
          "name": "stdout"
        }
      ]
    },
    {
      "cell_type": "code",
      "metadata": {
        "id": "RZHqyCiEMn5E",
        "colab_type": "code",
        "colab": {}
      },
      "source": [
        "'''\n",
        "columns to hotcode\n",
        "\n",
        "channelGrouping                               object  unique values:  8\n",
        "date                                          int64  - convert to date time\n",
        "fullVisitorId                                 object - organisers insist to be left as str\n",
        "device.browser                                object - unique values:  129\n",
        "device.operatingSystem                        object - unique values:  24\n",
        "device.isMobile                               bool   - unique values:  2\n",
        "device.deviceCategory                         object - unique values:  3\n",
        "geoNetwork.continent                          object - unique values:  6\n",
        "geoNetwork.subContinent                       object - unique values:  23\n",
        "geoNetwork.country                            object - unique values:  228\n",
        "geoNetwork.region                             object - unique values:  284\n",
        "geoNetwork.metro                              object - unique values:  123\n",
        "geoNetwork.city                               object - unique values:  956\n",
        "geoNetwork.networkDomain                      object - unique values:  41982\n",
        "totals.sessionQualityDim                      object - convert to interger\n",
        "totals.timeOnSite                             object - convert to interger\n",
        "trafficSource.source                          object - unique values:  345\n",
        "trafficSource.medium                          object - unique values:  7\n",
        "trafficSource.isTrueDirect                    bool   - unique values:  2 \n",
        "trafficSource.adwordsClickInfo.adNetworkType  object - unique values:  3\n",
        "trafficSource.adwordsClickInfo.isVideoAd      bool   - unique values:  2 \n",
        "customDimension.value                         object - unique values:  5\n",
        "'''"
      ],
      "execution_count": 0,
      "outputs": []
    },
    {
      "cell_type": "markdown",
      "metadata": {
        "id": "IX-_z2KKTzdX",
        "colab_type": "text"
      },
      "source": [
        "# Model to search the visitors who made transactions"
      ]
    },
    {
      "cell_type": "markdown",
      "metadata": {
        "id": "hkfsY1lCndsI",
        "colab_type": "text"
      },
      "source": [
        "## Function to define Target Column"
      ]
    },
    {
      "cell_type": "code",
      "metadata": {
        "id": "ZvuMz0A4Vaa_",
        "colab_type": "code",
        "colab": {}
      },
      "source": [
        "def is_transaction(n):\n",
        "  if n == 0    :    return 0\n",
        "  else         :    return 1\n",
        "\n",
        "all_data['is_transaction']=all_data['totals.transactions'].apply(is_transaction)"
      ],
      "execution_count": 0,
      "outputs": []
    },
    {
      "cell_type": "code",
      "metadata": {
        "id": "eS1z0ILdXM2m",
        "colab_type": "code",
        "outputId": "5f201450-5317-4069-b276-5041e70eb878",
        "colab": {
          "base_uri": "https://localhost:8080/",
          "height": 68
        }
      },
      "source": [
        "all_data['is_transaction'].value_counts()"
      ],
      "execution_count": 9,
      "outputs": [
        {
          "output_type": "execute_result",
          "data": {
            "text/plain": [
              "0    2085062\n",
              "1      24864\n",
              "Name: is_transaction, dtype: int64"
            ]
          },
          "metadata": {
            "tags": []
          },
          "execution_count": 9
        }
      ]
    },
    {
      "cell_type": "markdown",
      "metadata": {
        "id": "P8-K3JmAoLzB",
        "colab_type": "text"
      },
      "source": [
        "## Encoding Categorical Values"
      ]
    },
    {
      "cell_type": "code",
      "metadata": {
        "id": "iEYlXnzRPzJ-",
        "colab_type": "code",
        "colab": {}
      },
      "source": [
        "TARGET = 'is_transaction'\n",
        "CAT_COLS = all_data.columns[all_data.dtypes == object].tolist()\n",
        "CONT_COLS = [c for c in all_data.columns if c not in CAT_COLS and c != TARGET]\n"
      ],
      "execution_count": 0,
      "outputs": []
    },
    {
      "cell_type": "code",
      "metadata": {
        "id": "TGhChyUCvssN",
        "colab_type": "code",
        "colab": {}
      },
      "source": [
        "CAT_COLS.remove('date')\n",
        "CAT_COLS.remove('fullVisitorId')\n",
        "CAT_COLS"
      ],
      "execution_count": 0,
      "outputs": []
    },
    {
      "cell_type": "code",
      "metadata": {
        "id": "-L-jBN-zP-xW",
        "colab_type": "code",
        "colab": {}
      },
      "source": [
        "CONT_COLS.remove('date')"
      ],
      "execution_count": 0,
      "outputs": []
    },
    {
      "cell_type": "code",
      "metadata": {
        "id": "9Qh6ZwLQgG8B",
        "colab_type": "code",
        "outputId": "94ca346a-718b-4791-8d7a-8f4c2310d826",
        "colab": {
          "base_uri": "https://localhost:8080/",
          "height": 238
        }
      },
      "source": [
        "CONT_COLS.remove('totals.transactions')\n",
        "CONT_COLS.remove('totals.totalTransactionRevenue')\n",
        "CONT_COLS"
      ],
      "execution_count": 13,
      "outputs": [
        {
          "output_type": "execute_result",
          "data": {
            "text/plain": [
              "['totals.sessionQualityDim',\n",
              " 'totals.timeOnSite',\n",
              " 'totals.bounces',\n",
              " 'visitStartTime',\n",
              " 'totals.pageviews',\n",
              " 'date',\n",
              " 'totals.newVisits',\n",
              " 'visitNumber',\n",
              " 'trafficSource.isTrueDirect',\n",
              " 'visitId',\n",
              " 'device.isMobile',\n",
              " 'totals.hits',\n",
              " 'trafficSource.adwordsClickInfo.isVideoAd']"
            ]
          },
          "metadata": {
            "tags": []
          },
          "execution_count": 13
        }
      ]
    },
    {
      "cell_type": "code",
      "metadata": {
        "id": "nFiAD5oqgUkz",
        "colab_type": "code",
        "outputId": "d3460aa7-ce45-44f2-b918-f15c0f56d942",
        "colab": {
          "base_uri": "https://localhost:8080/",
          "height": 663
        }
      },
      "source": [
        "M1_data = deepcopy(all_data[CAT_COLS + CONT_COLS + [TARGET]])\n",
        "\n",
        "M1_data.info()"
      ],
      "execution_count": 15,
      "outputs": [
        {
          "output_type": "stream",
          "text": [
            "<class 'pandas.core.frame.DataFrame'>\n",
            "Int64Index: 2109926 entries, 0 to 401588\n",
            "Data columns (total 31 columns):\n",
            " #   Column                                        Dtype         \n",
            "---  ------                                        -----         \n",
            " 0   device.deviceCategory                         object        \n",
            " 1   geoNetwork.country                            object        \n",
            " 2   customDimension.value                         object        \n",
            " 3   dataset                                       object        \n",
            " 4   geoNetwork.metro                              object        \n",
            " 5   geoNetwork.continent                          object        \n",
            " 6   trafficSource.medium                          object        \n",
            " 7   device.operatingSystem                        object        \n",
            " 8   geoNetwork.networkDomain                      object        \n",
            " 9   channelGrouping                               object        \n",
            " 10  trafficSource.adwordsClickInfo.adNetworkType  object        \n",
            " 11  device.browser                                object        \n",
            " 12  geoNetwork.subContinent                       object        \n",
            " 13  geoNetwork.region                             object        \n",
            " 14  trafficSource.source                          object        \n",
            " 15  geoNetwork.city                               object        \n",
            " 16  fullVisitorId                                 object        \n",
            " 17  totals.sessionQualityDim                      int64         \n",
            " 18  totals.timeOnSite                             int64         \n",
            " 19  totals.bounces                                int64         \n",
            " 20  visitStartTime                                int64         \n",
            " 21  totals.pageviews                              int64         \n",
            " 22  date                                          datetime64[ns]\n",
            " 23  totals.newVisits                              int64         \n",
            " 24  visitNumber                                   int64         \n",
            " 25  trafficSource.isTrueDirect                    bool          \n",
            " 26  visitId                                       int64         \n",
            " 27  device.isMobile                               bool          \n",
            " 28  totals.hits                                   float64       \n",
            " 29  trafficSource.adwordsClickInfo.isVideoAd      bool          \n",
            " 30  is_transaction                                int64         \n",
            "dtypes: bool(3), datetime64[ns](1), float64(1), int64(9), object(17)\n",
            "memory usage: 472.9+ MB\n"
          ],
          "name": "stdout"
        }
      ]
    },
    {
      "cell_type": "code",
      "metadata": {
        "id": "sWWEfZa_Mn58",
        "colab_type": "code",
        "colab": {}
      },
      "source": [
        "leb = LabelEncoder()\n",
        "for col in CAT_COLS:\n",
        "    M1_data[col] = leb.fit_transform(M1_data[col])"
      ],
      "execution_count": 0,
      "outputs": []
    },
    {
      "cell_type": "code",
      "metadata": {
        "id": "Rl78q2YZRIHy",
        "colab_type": "code",
        "outputId": "79839a08-45c2-465c-c583-9d7a5a9af5d8",
        "colab": {
          "base_uri": "https://localhost:8080/",
          "height": 34
        }
      },
      "source": [
        "M1_data['visitId'].size"
      ],
      "execution_count": 23,
      "outputs": [
        {
          "output_type": "execute_result",
          "data": {
            "text/plain": [
              "2109926"
            ]
          },
          "metadata": {
            "tags": []
          },
          "execution_count": 23
        }
      ]
    },
    {
      "cell_type": "code",
      "metadata": {
        "id": "tFDHJHHaN19D",
        "colab_type": "code",
        "colab": {
          "base_uri": "https://localhost:8080/",
          "height": 34
        },
        "outputId": "fd205211-8675-4f39-f6dd-f60e0f350f2f"
      },
      "source": [
        "M1_data['visitId'].nunique()"
      ],
      "execution_count": 24,
      "outputs": [
        {
          "output_type": "execute_result",
          "data": {
            "text/plain": [
              "2058981"
            ]
          },
          "metadata": {
            "tags": []
          },
          "execution_count": 24
        }
      ]
    },
    {
      "cell_type": "markdown",
      "metadata": {
        "id": "2vNmbVBGn3rO",
        "colab_type": "text"
      },
      "source": [
        "## Split Train and Test"
      ]
    },
    {
      "cell_type": "code",
      "metadata": {
        "id": "pLdu3ej6Mn6E",
        "colab_type": "code",
        "outputId": "d57eb273-f423-4a9c-db77-b35563c936a0",
        "colab": {
          "base_uri": "https://localhost:8080/",
          "height": 68
        }
      },
      "source": [
        "M1_data['dataset'].value_counts()"
      ],
      "execution_count": 25,
      "outputs": [
        {
          "output_type": "execute_result",
          "data": {
            "text/plain": [
              "1    1708337\n",
              "0     401589\n",
              "Name: dataset, dtype: int64"
            ]
          },
          "metadata": {
            "tags": []
          },
          "execution_count": 25
        }
      ]
    },
    {
      "cell_type": "code",
      "metadata": {
        "id": "l639Tc9E-eDh",
        "colab_type": "code",
        "colab": {}
      },
      "source": [
        "train = M1_data[M1_data['dataset']==1]\n",
        "test = M1_data[M1_data['dataset']==0]\n",
        "train.drop('dataset',axis=1,inplace=True)\n",
        "test.drop('dataset',axis=1, inplace=True)"
      ],
      "execution_count": 0,
      "outputs": []
    },
    {
      "cell_type": "code",
      "metadata": {
        "id": "HWtn8jIC46q0",
        "colab_type": "code",
        "colab": {}
      },
      "source": [
        "CAT_COLS.remove('dataset')"
      ],
      "execution_count": 0,
      "outputs": []
    },
    {
      "cell_type": "code",
      "metadata": {
        "id": "Q-nPE_jO3f8f",
        "colab_type": "code",
        "outputId": "b9db9796-b383-41c4-902f-83a50f4742c9",
        "colab": {
          "base_uri": "https://localhost:8080/",
          "height": 34
        }
      },
      "source": [
        "train.shape, test.shape"
      ],
      "execution_count": 28,
      "outputs": [
        {
          "output_type": "execute_result",
          "data": {
            "text/plain": [
              "((1708337, 30), (401589, 30))"
            ]
          },
          "metadata": {
            "tags": []
          },
          "execution_count": 28
        }
      ]
    },
    {
      "cell_type": "markdown",
      "metadata": {
        "id": "uy2r19xmnNnU",
        "colab_type": "text"
      },
      "source": [
        "## Model"
      ]
    },
    {
      "cell_type": "code",
      "metadata": {
        "id": "caB2qeZSMn6N",
        "colab_type": "code",
        "colab": {}
      },
      "source": [
        "\n",
        "from sklearn.model_selection import train_test_split\n",
        "from sklearn.ensemble import RandomForestRegressor\n",
        "from sklearn.ensemble import RandomForestClassifier, GradientBoostingClassifier\n",
        "from sklearn.metrics import accuracy_score as accuracy\n",
        "from sklearn.metrics import r2_score as r2\n",
        "from sklearn.metrics import mean_squared_error as mse\n",
        "from sklearn.metrics import mean_absolute_error as mae\n",
        "rmse = lambda true, pred: mse(true, pred) ** 0.5"
      ],
      "execution_count": 0,
      "outputs": []
    },
    {
      "cell_type": "code",
      "metadata": {
        "id": "6OeFnTYlfRou",
        "colab_type": "code",
        "colab": {}
      },
      "source": [
        "x_train = train[CAT_COLS + CONT_COLS]\n",
        "x_test = test[CAT_COLS + CONT_COLS]\n",
        "y_train = train[[TARGET]]\n",
        "y_test = test[[TARGET]]"
      ],
      "execution_count": 0,
      "outputs": []
    },
    {
      "cell_type": "code",
      "metadata": {
        "id": "jipCBJ2-CvHo",
        "colab_type": "code",
        "outputId": "9a182ad4-f749-4879-c5ea-bc1eeed57682",
        "colab": {
          "base_uri": "https://localhost:8080/",
          "height": 34
        }
      },
      "source": [
        "x_train.shape, x_test.shape, y_train.shape, y_test.shape"
      ],
      "execution_count": 42,
      "outputs": [
        {
          "output_type": "execute_result",
          "data": {
            "text/plain": [
              "((1708337, 28), (401589, 28), (1708337, 1), (401589, 1))"
            ]
          },
          "metadata": {
            "tags": []
          },
          "execution_count": 42
        }
      ]
    },
    {
      "cell_type": "code",
      "metadata": {
        "id": "neGovCrOPZiv",
        "colab_type": "code",
        "colab": {
          "base_uri": "https://localhost:8080/",
          "height": 204
        },
        "outputId": "91950ee7-7474-4424-8399-fc534a3f3d70"
      },
      "source": [
        "x_train.columns"
      ],
      "execution_count": 43,
      "outputs": [
        {
          "output_type": "execute_result",
          "data": {
            "text/plain": [
              "Index(['device.deviceCategory', 'geoNetwork.country', 'customDimension.value',\n",
              "       'geoNetwork.metro', 'geoNetwork.continent', 'trafficSource.medium',\n",
              "       'device.operatingSystem', 'geoNetwork.networkDomain', 'channelGrouping',\n",
              "       'trafficSource.adwordsClickInfo.adNetworkType', 'device.browser',\n",
              "       'geoNetwork.subContinent', 'geoNetwork.region', 'trafficSource.source',\n",
              "       'geoNetwork.city', 'fullVisitorId', 'totals.sessionQualityDim',\n",
              "       'totals.timeOnSite', 'totals.bounces', 'visitStartTime',\n",
              "       'totals.pageviews', 'totals.newVisits', 'visitNumber',\n",
              "       'trafficSource.isTrueDirect', 'visitId', 'device.isMobile',\n",
              "       'totals.hits', 'trafficSource.adwordsClickInfo.isVideoAd'],\n",
              "      dtype='object')"
            ]
          },
          "metadata": {
            "tags": []
          },
          "execution_count": 43
        }
      ]
    },
    {
      "cell_type": "code",
      "metadata": {
        "id": "JEeG3gCSMn6l",
        "colab_type": "code",
        "colab": {}
      },
      "source": [
        "model = RandomForestClassifier( \n",
        "    n_estimators=100, # Hyperparameter 1\n",
        "    max_depth=10,      # Hyperparameter 2\n",
        "    random_state=0\n",
        ")"
      ],
      "execution_count": 0,
      "outputs": []
    },
    {
      "cell_type": "code",
      "metadata": {
        "id": "1upqCb_YDz3S",
        "colab_type": "code",
        "colab": {}
      },
      "source": [
        "trained_model = model.fit(x_train, y_train)"
      ],
      "execution_count": 0,
      "outputs": []
    },
    {
      "cell_type": "code",
      "metadata": {
        "id": "azVfGsAvElRD",
        "colab_type": "code",
        "colab": {}
      },
      "source": [
        "def get_error(pred, true):\n",
        "    print(f'RMSE:       {rmse(true, pred)}')\n",
        "    print(f'MAE:        {mae(true, pred)}')\n",
        "    print(f'r2:         {r2(true, pred)}')\n",
        "    print(f'accuracy:   {accuracy(true, pred)}')"
      ],
      "execution_count": 0,
      "outputs": []
    },
    {
      "cell_type": "code",
      "metadata": {
        "id": "V3ljtR_BFD0m",
        "colab_type": "code",
        "outputId": "3c18a672-3f77-41be-b57a-44deb051a7cd",
        "colab": {
          "base_uri": "https://localhost:8080/",
          "height": 85
        }
      },
      "source": [
        "get_error(pred = trained_model.predict(x_test),\n",
        "          true = y_test)"
      ],
      "execution_count": 120,
      "outputs": [
        {
          "output_type": "stream",
          "text": [
            "RMSE:       0.12455269216383845\n",
            "MAE:        0.015513373125259905\n",
            "r2:         -0.003865498894937147\n",
            "accuracy:   0.9844866268747401\n"
          ],
          "name": "stdout"
        }
      ]
    },
    {
      "cell_type": "code",
      "metadata": {
        "id": "z6lnrKtNZhLE",
        "colab_type": "code",
        "colab": {}
      },
      "source": [
        "pred_M1 = trained_model.predict(x_test)\n"
      ],
      "execution_count": 0,
      "outputs": []
    },
    {
      "cell_type": "code",
      "metadata": {
        "id": "IxRNa4dhbfPu",
        "colab_type": "code",
        "colab": {
          "base_uri": "https://localhost:8080/",
          "height": 34
        },
        "outputId": "26035929-1402-47be-ffd1-292d29570b38"
      },
      "source": [
        "mylist = list(set(pred_M1))\n",
        "mylist"
      ],
      "execution_count": 122,
      "outputs": [
        {
          "output_type": "execute_result",
          "data": {
            "text/plain": [
              "[0, 1]"
            ]
          },
          "metadata": {
            "tags": []
          },
          "execution_count": 122
        }
      ]
    },
    {
      "cell_type": "code",
      "metadata": {
        "id": "ngonomkTal1L",
        "colab_type": "code",
        "colab": {
          "base_uri": "https://localhost:8080/",
          "height": 34
        },
        "outputId": "4c8964bb-a937-4fd8-e2d3-7dc235f6ce47"
      },
      "source": [
        "T_predicted = pred_M1[pred_M1!=0]\n",
        "T_predicted.shape"
      ],
      "execution_count": 124,
      "outputs": [
        {
          "output_type": "execute_result",
          "data": {
            "text/plain": [
              "(745,)"
            ]
          },
          "metadata": {
            "tags": []
          },
          "execution_count": 124
        }
      ]
    },
    {
      "cell_type": "code",
      "metadata": {
        "colab_type": "code",
        "id": "lNWP5cDRfxpg",
        "colab": {}
      },
      "source": [
        "train_id = train[\"fullVisitorId\"].values\n",
        "test_id = test[\"fullVisitorId\"].values"
      ],
      "execution_count": 0,
      "outputs": []
    },
    {
      "cell_type": "markdown",
      "metadata": {
        "id": "P8S-dtAUJV3b",
        "colab_type": "text"
      },
      "source": [
        "# Model to calculate transaction Revenue"
      ]
    },
    {
      "cell_type": "markdown",
      "metadata": {
        "id": "O19cIcK6WKm2",
        "colab_type": "text"
      },
      "source": [
        "## Encoding Categorical Values - M2"
      ]
    },
    {
      "cell_type": "code",
      "metadata": {
        "colab_type": "code",
        "id": "mx-MBMOwK8Vz",
        "colab": {}
      },
      "source": [
        "TARGET_M2 = 'totals.totalTransactionRevenue'\n",
        "CAT_COLS_M2 = all_data.columns[all_data.dtypes == object].tolist()\n",
        "CONT_COLS_M2 = [c for c in all_data.columns if c not in CAT_COLS_M2 and c != TARGET_M2]\n"
      ],
      "execution_count": 0,
      "outputs": []
    },
    {
      "cell_type": "code",
      "metadata": {
        "colab_type": "code",
        "id": "8-ub0nhQK8WV",
        "outputId": "1e235594-d633-4f3e-eac1-7a7c1087d052",
        "colab": {
          "base_uri": "https://localhost:8080/",
          "height": 306
        }
      },
      "source": [
        "#CAT_COLS_M2.remove('date')\n",
        "#CAT_COLS_M2.remove('fullVisitorId')\n",
        "CAT_COLS_M2"
      ],
      "execution_count": 49,
      "outputs": [
        {
          "output_type": "execute_result",
          "data": {
            "text/plain": [
              "['device.deviceCategory',\n",
              " 'geoNetwork.country',\n",
              " 'customDimension.value',\n",
              " 'dataset',\n",
              " 'geoNetwork.metro',\n",
              " 'geoNetwork.continent',\n",
              " 'trafficSource.medium',\n",
              " 'device.operatingSystem',\n",
              " 'geoNetwork.networkDomain',\n",
              " 'channelGrouping',\n",
              " 'trafficSource.adwordsClickInfo.adNetworkType',\n",
              " 'device.browser',\n",
              " 'geoNetwork.subContinent',\n",
              " 'geoNetwork.region',\n",
              " 'trafficSource.source',\n",
              " 'geoNetwork.city',\n",
              " 'fullVisitorId']"
            ]
          },
          "metadata": {
            "tags": []
          },
          "execution_count": 49
        }
      ]
    },
    {
      "cell_type": "code",
      "metadata": {
        "colab_type": "code",
        "outputId": "070662cb-fcb5-4f42-f0b3-23dca699aefa",
        "id": "IFNsMWXCK8We",
        "colab": {
          "base_uri": "https://localhost:8080/",
          "height": 272
        }
      },
      "source": [
        "#CONT_COLS.remove('totals.transactions')\n",
        "#CONT_COLS.remove('totals.transactionRevenue')\n",
        "#CONT_COLS.remove('totals.totalTransactionRevenue')\n",
        "CONT_COLS_M2"
      ],
      "execution_count": 50,
      "outputs": [
        {
          "output_type": "execute_result",
          "data": {
            "text/plain": [
              "['totals.sessionQualityDim',\n",
              " 'totals.timeOnSite',\n",
              " 'totals.bounces',\n",
              " 'visitStartTime',\n",
              " 'totals.transactions',\n",
              " 'totals.pageviews',\n",
              " 'date',\n",
              " 'totals.newVisits',\n",
              " 'visitNumber',\n",
              " 'trafficSource.isTrueDirect',\n",
              " 'visitId',\n",
              " 'device.isMobile',\n",
              " 'totals.hits',\n",
              " 'trafficSource.adwordsClickInfo.isVideoAd',\n",
              " 'is_transaction']"
            ]
          },
          "metadata": {
            "tags": []
          },
          "execution_count": 50
        }
      ]
    },
    {
      "cell_type": "code",
      "metadata": {
        "id": "XbI-eThkJkAI",
        "colab_type": "code",
        "outputId": "62ca4365-855f-4a20-c9c5-7ff803446590",
        "colab": {
          "base_uri": "https://localhost:8080/",
          "height": 34
        }
      },
      "source": [
        "M2_data = deepcopy(all_data[CAT_COLS_M2 + CONT_COLS_M2 + [TARGET_M2]])\n",
        "\n",
        "M2_data.shape"
      ],
      "execution_count": 51,
      "outputs": [
        {
          "output_type": "execute_result",
          "data": {
            "text/plain": [
              "(2109926, 33)"
            ]
          },
          "metadata": {
            "tags": []
          },
          "execution_count": 51
        }
      ]
    },
    {
      "cell_type": "code",
      "metadata": {
        "colab_type": "code",
        "id": "p028rr4dK8Wx",
        "colab": {}
      },
      "source": [
        "leb = LabelEncoder()\n",
        "for col in CAT_COLS_M2:\n",
        "    M2_data[col] = leb.fit_transform(M2_data[col])"
      ],
      "execution_count": 0,
      "outputs": []
    },
    {
      "cell_type": "markdown",
      "metadata": {
        "id": "uZdB5mI6T11X",
        "colab_type": "text"
      },
      "source": [
        "## Split Train and Test - M2"
      ]
    },
    {
      "cell_type": "code",
      "metadata": {
        "colab_type": "code",
        "id": "sqzEJHEzT8NF",
        "colab": {}
      },
      "source": [
        "train_M2 = M2_data[M2_data['dataset']==1]\n",
        "test_M2 = M2_data[M2_data['dataset']==0]\n",
        "train_M2.drop('dataset',axis=1,inplace=True)\n",
        "test_M2.drop('dataset',axis=1, inplace=True)"
      ],
      "execution_count": 0,
      "outputs": []
    },
    {
      "cell_type": "code",
      "metadata": {
        "colab_type": "code",
        "id": "MtXR7NP5T8NN",
        "colab": {}
      },
      "source": [
        "CAT_COLS_M2.remove('dataset')"
      ],
      "execution_count": 0,
      "outputs": []
    },
    {
      "cell_type": "code",
      "metadata": {
        "colab_type": "code",
        "outputId": "cc5cf3a1-baaa-48dc-a16a-256b4913becb",
        "id": "kHlLMr-gT8NU",
        "colab": {
          "base_uri": "https://localhost:8080/",
          "height": 34
        }
      },
      "source": [
        "train_M2.shape, test_M2.shape"
      ],
      "execution_count": 56,
      "outputs": [
        {
          "output_type": "execute_result",
          "data": {
            "text/plain": [
              "((1708337, 32), (401589, 32))"
            ]
          },
          "metadata": {
            "tags": []
          },
          "execution_count": 56
        }
      ]
    },
    {
      "cell_type": "markdown",
      "metadata": {
        "id": "rmdBCA8rUpPV",
        "colab_type": "text"
      },
      "source": [
        "But the training of the transaction revenue is made just with the data from visitors that made at least one transaction"
      ]
    },
    {
      "cell_type": "code",
      "metadata": {
        "colab_type": "code",
        "id": "2df3AG5IYyo8",
        "colab": {}
      },
      "source": [
        "T_train_M2 = train_M2[train_M2['is_transaction']==1]\n",
        "T_test_M2 = test_M2[test_M2['is_transaction']==1]\n",
        "T_train_M2.drop('is_transaction',axis=1,inplace=True)\n",
        "T_test_M2.drop('is_transaction',axis=1, inplace=True)"
      ],
      "execution_count": 0,
      "outputs": []
    },
    {
      "cell_type": "code",
      "metadata": {
        "id": "KRSTz9I1bh7m",
        "colab_type": "code",
        "colab": {}
      },
      "source": [
        "CONT_COLS_M2.remove('date')\n",
        "CONT_COLS_M2.remove('is_transaction')"
      ],
      "execution_count": 0,
      "outputs": []
    },
    {
      "cell_type": "code",
      "metadata": {
        "id": "zBZi3V3IYyVh",
        "colab_type": "code",
        "outputId": "c4ddca21-e93b-4fcc-9258-d634a68abf65",
        "colab": {
          "base_uri": "https://localhost:8080/",
          "height": 34
        }
      },
      "source": [
        "T_train_M2.shape, T_test_M2.shape"
      ],
      "execution_count": 59,
      "outputs": [
        {
          "output_type": "execute_result",
          "data": {
            "text/plain": [
              "((18559, 31), (6305, 31))"
            ]
          },
          "metadata": {
            "tags": []
          },
          "execution_count": 59
        }
      ]
    },
    {
      "cell_type": "code",
      "metadata": {
        "id": "EqgTornKSFrh",
        "colab_type": "code",
        "colab": {
          "base_uri": "https://localhost:8080/",
          "height": 85
        },
        "outputId": "4d1de9bd-6d23-4818-f857-4fc2054e8a10"
      },
      "source": [
        "T_train_M2.columns == T_test_M2.columns"
      ],
      "execution_count": 61,
      "outputs": [
        {
          "output_type": "execute_result",
          "data": {
            "text/plain": [
              "array([ True,  True,  True,  True,  True,  True,  True,  True,  True,\n",
              "        True,  True,  True,  True,  True,  True,  True,  True,  True,\n",
              "        True,  True,  True,  True,  True,  True,  True,  True,  True,\n",
              "        True,  True,  True,  True])"
            ]
          },
          "metadata": {
            "tags": []
          },
          "execution_count": 61
        }
      ]
    },
    {
      "cell_type": "code",
      "metadata": {
        "id": "cIw8upCqSq1P",
        "colab_type": "code",
        "colab": {
          "base_uri": "https://localhost:8080/",
          "height": 238
        },
        "outputId": "31bb3d70-6e5c-43d4-ba7e-08c9cc6af3a0"
      },
      "source": [
        "T_test_M2.columns"
      ],
      "execution_count": 71,
      "outputs": [
        {
          "output_type": "execute_result",
          "data": {
            "text/plain": [
              "Index(['device.deviceCategory', 'geoNetwork.country', 'customDimension.value',\n",
              "       'geoNetwork.metro', 'geoNetwork.continent', 'trafficSource.medium',\n",
              "       'device.operatingSystem', 'geoNetwork.networkDomain', 'channelGrouping',\n",
              "       'trafficSource.adwordsClickInfo.adNetworkType', 'device.browser',\n",
              "       'geoNetwork.subContinent', 'geoNetwork.region', 'trafficSource.source',\n",
              "       'geoNetwork.city', 'fullVisitorId', 'totals.sessionQualityDim',\n",
              "       'totals.timeOnSite', 'totals.bounces', 'visitStartTime',\n",
              "       'totals.transactions', 'totals.pageviews', 'date', 'totals.newVisits',\n",
              "       'visitNumber', 'trafficSource.isTrueDirect', 'visitId',\n",
              "       'device.isMobile', 'totals.hits',\n",
              "       'trafficSource.adwordsClickInfo.isVideoAd',\n",
              "       'totals.totalTransactionRevenue'],\n",
              "      dtype='object')"
            ]
          },
          "metadata": {
            "tags": []
          },
          "execution_count": 71
        }
      ]
    },
    {
      "cell_type": "markdown",
      "metadata": {
        "id": "6RJh7DvMaaR3",
        "colab_type": "text"
      },
      "source": [
        "## Model - M2"
      ]
    },
    {
      "cell_type": "code",
      "metadata": {
        "colab_type": "code",
        "id": "Y_iFI2-MaeG5",
        "colab": {}
      },
      "source": [
        "x_train_M2 = T_train_M2[CAT_COLS_M2 + CONT_COLS_M2]\n",
        "x_test_M2 = T_test_M2[CAT_COLS_M2 + CONT_COLS_M2]\n",
        "y_train_M2 = T_train_M2[[TARGET_M2]]\n",
        "y_test_M2 = T_test_M2[[TARGET_M2]]"
      ],
      "execution_count": 0,
      "outputs": []
    },
    {
      "cell_type": "code",
      "metadata": {
        "colab_type": "code",
        "outputId": "bb319a48-d096-4077-e995-9f41702cfd38",
        "id": "8ux3VUjAaeHL",
        "colab": {
          "base_uri": "https://localhost:8080/",
          "height": 34
        }
      },
      "source": [
        "x_train_M2.shape, x_test_M2.shape, y_train_M2.shape, y_test_M2.shape"
      ],
      "execution_count": 73,
      "outputs": [
        {
          "output_type": "execute_result",
          "data": {
            "text/plain": [
              "((18559, 29), (6305, 29), (18559, 1), (6305, 1))"
            ]
          },
          "metadata": {
            "tags": []
          },
          "execution_count": 73
        }
      ]
    },
    {
      "cell_type": "code",
      "metadata": {
        "id": "3jj4Tph_TQ3P",
        "colab_type": "code",
        "colab": {
          "base_uri": "https://localhost:8080/",
          "height": 309
        },
        "outputId": "7b70287f-fafe-4080-e652-66f99bc99d01"
      },
      "source": [
        "x_train_M2.head(5)"
      ],
      "execution_count": 66,
      "outputs": [
        {
          "output_type": "execute_result",
          "data": {
            "text/html": [
              "<div>\n",
              "<style scoped>\n",
              "    .dataframe tbody tr th:only-of-type {\n",
              "        vertical-align: middle;\n",
              "    }\n",
              "\n",
              "    .dataframe tbody tr th {\n",
              "        vertical-align: top;\n",
              "    }\n",
              "\n",
              "    .dataframe thead th {\n",
              "        text-align: right;\n",
              "    }\n",
              "</style>\n",
              "<table border=\"1\" class=\"dataframe\">\n",
              "  <thead>\n",
              "    <tr style=\"text-align: right;\">\n",
              "      <th></th>\n",
              "      <th>device.deviceCategory</th>\n",
              "      <th>geoNetwork.country</th>\n",
              "      <th>customDimension.value</th>\n",
              "      <th>geoNetwork.metro</th>\n",
              "      <th>geoNetwork.continent</th>\n",
              "      <th>trafficSource.medium</th>\n",
              "      <th>device.operatingSystem</th>\n",
              "      <th>geoNetwork.networkDomain</th>\n",
              "      <th>channelGrouping</th>\n",
              "      <th>trafficSource.adwordsClickInfo.adNetworkType</th>\n",
              "      <th>device.browser</th>\n",
              "      <th>geoNetwork.subContinent</th>\n",
              "      <th>geoNetwork.region</th>\n",
              "      <th>trafficSource.source</th>\n",
              "      <th>geoNetwork.city</th>\n",
              "      <th>fullVisitorId</th>\n",
              "      <th>totals.sessionQualityDim</th>\n",
              "      <th>totals.timeOnSite</th>\n",
              "      <th>totals.bounces</th>\n",
              "      <th>visitStartTime</th>\n",
              "      <th>totals.transactions</th>\n",
              "      <th>totals.pageviews</th>\n",
              "      <th>date</th>\n",
              "      <th>totals.newVisits</th>\n",
              "      <th>visitNumber</th>\n",
              "      <th>trafficSource.isTrueDirect</th>\n",
              "      <th>visitId</th>\n",
              "      <th>device.isMobile</th>\n",
              "      <th>totals.hits</th>\n",
              "      <th>trafficSource.adwordsClickInfo.isVideoAd</th>\n",
              "    </tr>\n",
              "  </thead>\n",
              "  <tbody>\n",
              "    <tr>\n",
              "      <th>433</th>\n",
              "      <td>0</td>\n",
              "      <td>219</td>\n",
              "      <td>4</td>\n",
              "      <td>78</td>\n",
              "      <td>2</td>\n",
              "      <td>5</td>\n",
              "      <td>7</td>\n",
              "      <td>0</td>\n",
              "      <td>4</td>\n",
              "      <td>0</td>\n",
              "      <td>55</td>\n",
              "      <td>12</td>\n",
              "      <td>304</td>\n",
              "      <td>117</td>\n",
              "      <td>664</td>\n",
              "      <td>1544852</td>\n",
              "      <td>13</td>\n",
              "      <td>261</td>\n",
              "      <td>0</td>\n",
              "      <td>1508200705</td>\n",
              "      <td>1</td>\n",
              "      <td>9</td>\n",
              "      <td>2017-10-16</td>\n",
              "      <td>0</td>\n",
              "      <td>4</td>\n",
              "      <td>True</td>\n",
              "      <td>1508200705</td>\n",
              "      <td>False</td>\n",
              "      <td>9.0</td>\n",
              "      <td>True</td>\n",
              "    </tr>\n",
              "    <tr>\n",
              "      <th>550</th>\n",
              "      <td>0</td>\n",
              "      <td>219</td>\n",
              "      <td>4</td>\n",
              "      <td>64</td>\n",
              "      <td>2</td>\n",
              "      <td>0</td>\n",
              "      <td>22</td>\n",
              "      <td>0</td>\n",
              "      <td>6</td>\n",
              "      <td>0</td>\n",
              "      <td>55</td>\n",
              "      <td>12</td>\n",
              "      <td>74</td>\n",
              "      <td>0</td>\n",
              "      <td>432</td>\n",
              "      <td>598266</td>\n",
              "      <td>38</td>\n",
              "      <td>285</td>\n",
              "      <td>0</td>\n",
              "      <td>1508192636</td>\n",
              "      <td>1</td>\n",
              "      <td>12</td>\n",
              "      <td>2017-10-16</td>\n",
              "      <td>0</td>\n",
              "      <td>11</td>\n",
              "      <td>False</td>\n",
              "      <td>1508192636</td>\n",
              "      <td>False</td>\n",
              "      <td>15.0</td>\n",
              "      <td>True</td>\n",
              "    </tr>\n",
              "    <tr>\n",
              "      <th>555</th>\n",
              "      <td>1</td>\n",
              "      <td>219</td>\n",
              "      <td>4</td>\n",
              "      <td>104</td>\n",
              "      <td>2</td>\n",
              "      <td>5</td>\n",
              "      <td>25</td>\n",
              "      <td>34258</td>\n",
              "      <td>4</td>\n",
              "      <td>0</td>\n",
              "      <td>102</td>\n",
              "      <td>12</td>\n",
              "      <td>74</td>\n",
              "      <td>117</td>\n",
              "      <td>621</td>\n",
              "      <td>253734</td>\n",
              "      <td>42</td>\n",
              "      <td>1044</td>\n",
              "      <td>0</td>\n",
              "      <td>1508162218</td>\n",
              "      <td>1</td>\n",
              "      <td>15</td>\n",
              "      <td>2017-10-16</td>\n",
              "      <td>0</td>\n",
              "      <td>6</td>\n",
              "      <td>True</td>\n",
              "      <td>1508162218</td>\n",
              "      <td>True</td>\n",
              "      <td>15.0</td>\n",
              "      <td>True</td>\n",
              "    </tr>\n",
              "    <tr>\n",
              "      <th>597</th>\n",
              "      <td>0</td>\n",
              "      <td>219</td>\n",
              "      <td>4</td>\n",
              "      <td>104</td>\n",
              "      <td>2</td>\n",
              "      <td>0</td>\n",
              "      <td>7</td>\n",
              "      <td>0</td>\n",
              "      <td>6</td>\n",
              "      <td>0</td>\n",
              "      <td>55</td>\n",
              "      <td>12</td>\n",
              "      <td>74</td>\n",
              "      <td>0</td>\n",
              "      <td>621</td>\n",
              "      <td>1162248</td>\n",
              "      <td>77</td>\n",
              "      <td>514</td>\n",
              "      <td>0</td>\n",
              "      <td>1508189401</td>\n",
              "      <td>1</td>\n",
              "      <td>16</td>\n",
              "      <td>2017-10-16</td>\n",
              "      <td>0</td>\n",
              "      <td>17</td>\n",
              "      <td>True</td>\n",
              "      <td>1508189401</td>\n",
              "      <td>False</td>\n",
              "      <td>18.0</td>\n",
              "      <td>True</td>\n",
              "    </tr>\n",
              "    <tr>\n",
              "      <th>619</th>\n",
              "      <td>0</td>\n",
              "      <td>219</td>\n",
              "      <td>4</td>\n",
              "      <td>78</td>\n",
              "      <td>2</td>\n",
              "      <td>0</td>\n",
              "      <td>7</td>\n",
              "      <td>0</td>\n",
              "      <td>6</td>\n",
              "      <td>0</td>\n",
              "      <td>55</td>\n",
              "      <td>12</td>\n",
              "      <td>304</td>\n",
              "      <td>0</td>\n",
              "      <td>664</td>\n",
              "      <td>1276019</td>\n",
              "      <td>62</td>\n",
              "      <td>487</td>\n",
              "      <td>0</td>\n",
              "      <td>1508190484</td>\n",
              "      <td>1</td>\n",
              "      <td>20</td>\n",
              "      <td>2017-10-16</td>\n",
              "      <td>1</td>\n",
              "      <td>1</td>\n",
              "      <td>False</td>\n",
              "      <td>1508190484</td>\n",
              "      <td>False</td>\n",
              "      <td>21.0</td>\n",
              "      <td>True</td>\n",
              "    </tr>\n",
              "  </tbody>\n",
              "</table>\n",
              "</div>"
            ],
            "text/plain": [
              "     device.deviceCategory  ...  trafficSource.adwordsClickInfo.isVideoAd\n",
              "433                      0  ...                                      True\n",
              "550                      0  ...                                      True\n",
              "555                      1  ...                                      True\n",
              "597                      0  ...                                      True\n",
              "619                      0  ...                                      True\n",
              "\n",
              "[5 rows x 30 columns]"
            ]
          },
          "metadata": {
            "tags": []
          },
          "execution_count": 66
        }
      ]
    },
    {
      "cell_type": "code",
      "metadata": {
        "id": "L2NhN2hTTDib",
        "colab_type": "code",
        "colab": {
          "base_uri": "https://localhost:8080/",
          "height": 204
        },
        "outputId": "8a7bdf24-cbc3-432b-8813-5fa47c0b02ec"
      },
      "source": [
        "y_train_M2.head(5)"
      ],
      "execution_count": 67,
      "outputs": [
        {
          "output_type": "execute_result",
          "data": {
            "text/html": [
              "<div>\n",
              "<style scoped>\n",
              "    .dataframe tbody tr th:only-of-type {\n",
              "        vertical-align: middle;\n",
              "    }\n",
              "\n",
              "    .dataframe tbody tr th {\n",
              "        vertical-align: top;\n",
              "    }\n",
              "\n",
              "    .dataframe thead th {\n",
              "        text-align: right;\n",
              "    }\n",
              "</style>\n",
              "<table border=\"1\" class=\"dataframe\">\n",
              "  <thead>\n",
              "    <tr style=\"text-align: right;\">\n",
              "      <th></th>\n",
              "      <th>totals.totalTransactionRevenue</th>\n",
              "    </tr>\n",
              "  </thead>\n",
              "  <tbody>\n",
              "    <tr>\n",
              "      <th>433</th>\n",
              "      <td>17190000.0</td>\n",
              "    </tr>\n",
              "    <tr>\n",
              "      <th>550</th>\n",
              "      <td>13000000.0</td>\n",
              "    </tr>\n",
              "    <tr>\n",
              "      <th>555</th>\n",
              "      <td>65300000.0</td>\n",
              "    </tr>\n",
              "    <tr>\n",
              "      <th>597</th>\n",
              "      <td>25230000.0</td>\n",
              "    </tr>\n",
              "    <tr>\n",
              "      <th>619</th>\n",
              "      <td>16310000.0</td>\n",
              "    </tr>\n",
              "  </tbody>\n",
              "</table>\n",
              "</div>"
            ],
            "text/plain": [
              "     totals.totalTransactionRevenue\n",
              "433                      17190000.0\n",
              "550                      13000000.0\n",
              "555                      65300000.0\n",
              "597                      25230000.0\n",
              "619                      16310000.0"
            ]
          },
          "metadata": {
            "tags": []
          },
          "execution_count": 67
        }
      ]
    },
    {
      "cell_type": "code",
      "metadata": {
        "colab_type": "code",
        "id": "tgzCAmIgaeHU",
        "colab": {}
      },
      "source": [
        "model_M2 = RandomForestRegressor( \n",
        "    n_estimators=25, # Hyperparameter 1\n",
        "    max_depth=2,      # Hyperparameter 2\n",
        "    random_state=0\n",
        ")"
      ],
      "execution_count": 0,
      "outputs": []
    },
    {
      "cell_type": "code",
      "metadata": {
        "colab_type": "code",
        "id": "sgvenKaoaeHc",
        "colab": {}
      },
      "source": [
        "trained_model_M2 = model_M2.fit(x_train_M2, y_train_M2)"
      ],
      "execution_count": 0,
      "outputs": []
    },
    {
      "cell_type": "code",
      "metadata": {
        "id": "EPg2IvWTc4TM",
        "colab_type": "code",
        "colab": {}
      },
      "source": [
        "def get_error_regression(pred, true):\n",
        "    print(f'RMSE:       {rmse(true, pred)}')\n",
        "    print(f'MAE:        {mae(true, pred)}')\n",
        "    print(f'r2:         {r2(true, pred)}')"
      ],
      "execution_count": 0,
      "outputs": []
    },
    {
      "cell_type": "code",
      "metadata": {
        "colab_type": "code",
        "outputId": "6932b49f-426a-4517-fc80-96b4019b9125",
        "id": "ug6PJQ4QaeHq",
        "colab": {
          "base_uri": "https://localhost:8080/",
          "height": 68
        }
      },
      "source": [
        "get_error_regression(pred = trained_model_M2.predict(x_test_M2),\n",
        "          true = y_test_M2)"
      ],
      "execution_count": 87,
      "outputs": [
        {
          "output_type": "stream",
          "text": [
            "RMSE:       505274468.6432537\n",
            "MAE:        134320421.89680147\n",
            "r2:         0.06662577370784417\n"
          ],
          "name": "stdout"
        }
      ]
    },
    {
      "cell_type": "code",
      "metadata": {
        "id": "D8Cdd5-QU3VV",
        "colab_type": "code",
        "colab": {
          "base_uri": "https://localhost:8080/",
          "height": 34
        },
        "outputId": "33a5e9e0-6b6c-4d35-846e-a4d57c450a0a"
      },
      "source": [
        "pred_M2 = trained_model_M2.predict(x_test_M2)\n",
        "pred_M2.shape"
      ],
      "execution_count": 99,
      "outputs": [
        {
          "output_type": "execute_result",
          "data": {
            "text/plain": [
              "(6305,)"
            ]
          },
          "metadata": {
            "tags": []
          },
          "execution_count": 99
        }
      ]
    },
    {
      "cell_type": "markdown",
      "metadata": {
        "id": "AOB1bxSAWjrT",
        "colab_type": "text"
      },
      "source": [
        "# build a submission file"
      ]
    },
    {
      "cell_type": "code",
      "metadata": {
        "id": "5trncfZoWh2h",
        "colab_type": "code",
        "colab": {}
      },
      "source": [
        "train_id = train[\"fullVisitorId\"].values\n",
        "test_id = test[\"fullVisitorId\"].values"
      ],
      "execution_count": 0,
      "outputs": []
    },
    {
      "cell_type": "code",
      "metadata": {
        "id": "cwPA6ZsGY68k",
        "colab_type": "code",
        "colab": {}
      },
      "source": [
        "sub_df = pd.DataFrame({\"fullVisitorId\":test_id})\n",
        "pred_M2[pred_M2<0] = 0\n",
        "#pred_test[pred_test<0] = 0\n",
        "#sub_df[\"PredictedLogRevenue\"] = np.expm1(pred_test)\n",
        "#sub_df = sub_df.groupby(\"fullVisitorId\")[\"PredictedLogRevenue\"].sum().reset_index()\n",
        "#sub_df.columns = [\"fullVisitorId\", \"PredictedLogRevenue\"]\n",
        "#sub_df[\"PredictedLogRevenue\"] = np.log1p(sub_df[\"PredictedLogRevenue\"])\n",
        "#sub_df.to_csv(\"baseline_lgb.csv\", index=False)"
      ],
      "execution_count": 0,
      "outputs": []
    },
    {
      "cell_type": "code",
      "metadata": {
        "id": "CT29Z3IyZt9C",
        "colab_type": "code",
        "colab": {
          "base_uri": "https://localhost:8080/",
          "height": 34
        },
        "outputId": "555c68b4-9b7d-4b43-eebc-5e38075b9e3f"
      },
      "source": [
        "pred_M1.shape, pred_M2.shape"
      ],
      "execution_count": 104,
      "outputs": [
        {
          "output_type": "execute_result",
          "data": {
            "text/plain": [
              "((401589,), (6305,))"
            ]
          },
          "metadata": {
            "tags": []
          },
          "execution_count": 104
        }
      ]
    },
    {
      "cell_type": "code",
      "metadata": {
        "id": "bJ4kkFpJaMnP",
        "colab_type": "code",
        "colab": {}
      },
      "source": [
        ""
      ],
      "execution_count": 0,
      "outputs": []
    },
    {
      "cell_type": "code",
      "metadata": {
        "id": "rqb9-avzZVGC",
        "colab_type": "code",
        "colab": {
          "base_uri": "https://localhost:8080/",
          "height": 34
        },
        "outputId": "62e299e4-b2ea-4323-8717-2916a41f9ff4"
      },
      "source": [
        "sub_df.shape"
      ],
      "execution_count": 101,
      "outputs": [
        {
          "output_type": "execute_result",
          "data": {
            "text/plain": [
              "(401589, 1)"
            ]
          },
          "metadata": {
            "tags": []
          },
          "execution_count": 101
        }
      ]
    }
  ]
}