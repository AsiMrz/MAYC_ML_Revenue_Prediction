{
  "nbformat": 4,
  "nbformat_minor": 0,
  "metadata": {
    "kernelspec": {
      "display_name": "Python 3",
      "language": "python",
      "name": "python3"
    },
    "toc": {
      "base_numbering": 1,
      "nav_menu": {},
      "number_sections": true,
      "sideBar": true,
      "skip_h1_title": false,
      "title_cell": "Table of Contents",
      "title_sidebar": "Contents",
      "toc_cell": false,
      "toc_position": {},
      "toc_section_display": true,
      "toc_window_display": false
    },
    "colab": {
      "name": "ML_GACRP_PIPELINE.ipynb",
      "provenance": [],
      "toc_visible": true,
      "include_colab_link": true
    }
  },
  "cells": [
    {
      "cell_type": "markdown",
      "metadata": {
        "id": "view-in-github",
        "colab_type": "text"
      },
      "source": [
        "<a href=\"https://colab.research.google.com/github/yeialgov/MAYC_ML_Revenue_Prediction/blob/patch-1/Classification%20and%20Regression.ipynb\" target=\"_parent\"><img src=\"https://colab.research.google.com/assets/colab-badge.svg\" alt=\"Open In Colab\"/></a>"
      ]
    },
    {
      "cell_type": "code",
      "metadata": {
        "id": "Q7NUxl3iMn1H",
        "colab_type": "code",
        "colab": {}
      },
      "source": [
        "# download the libraries\n",
        "import pandas as pd\n",
        "from pandas import Series,DataFrame\n",
        "import warnings\n",
        "from copy import deepcopy\n",
        "import os\n",
        "warnings.filterwarnings('ignore')\n",
        "import numpy as np\n",
        "import matplotlib.pyplot as plt\n",
        "import seaborn as sns\n",
        "from datetime import datetime\n",
        "from sklearn.preprocessing import LabelEncoder\n",
        "import random\n",
        "%matplotlib inline"
      ],
      "execution_count": 0,
      "outputs": []
    },
    {
      "cell_type": "code",
      "metadata": {
        "id": "ARFvfk1yzZkv",
        "colab_type": "code",
        "colab": {}
      },
      "source": [
        "from sklearn.preprocessing import LabelEncoder"
      ],
      "execution_count": 0,
      "outputs": []
    },
    {
      "cell_type": "markdown",
      "metadata": {
        "id": "C_rtWx5Y7qVw",
        "colab_type": "text"
      },
      "source": [
        "# Getting the data"
      ]
    },
    {
      "cell_type": "code",
      "metadata": {
        "id": "odFQDYPTNLMc",
        "colab_type": "code",
        "outputId": "c0409307-632f-4655-b245-97ef3a4ded3e",
        "colab": {
          "base_uri": "https://localhost:8080/",
          "height": 122
        }
      },
      "source": [
        "from google.colab import drive\n",
        "drive.mount('/content/gdrive')"
      ],
      "execution_count": 7,
      "outputs": [
        {
          "output_type": "stream",
          "text": [
            "Go to this URL in a browser: https://accounts.google.com/o/oauth2/auth?client_id=947318989803-6bn6qk8qdgf4n4g3pfee6491hc0brc4i.apps.googleusercontent.com&redirect_uri=urn%3aietf%3awg%3aoauth%3a2.0%3aoob&response_type=code&scope=email%20https%3a%2f%2fwww.googleapis.com%2fauth%2fdocs.test%20https%3a%2f%2fwww.googleapis.com%2fauth%2fdrive%20https%3a%2f%2fwww.googleapis.com%2fauth%2fdrive.photos.readonly%20https%3a%2f%2fwww.googleapis.com%2fauth%2fpeopleapi.readonly\n",
            "\n",
            "Enter your authorization code:\n",
            "··········\n",
            "Mounted at /content/gdrive\n"
          ],
          "name": "stdout"
        }
      ]
    },
    {
      "cell_type": "code",
      "metadata": {
        "id": "1meGr2fGNX0J",
        "colab_type": "code",
        "outputId": "5995c657-688e-42f4-a391-c47b66ffdaa2",
        "colab": {
          "base_uri": "https://localhost:8080/",
          "height": 34
        }
      },
      "source": [
        "cd '/content/gdrive/My Drive/ReDi_DA_Project/Datasets_Clean/'"
      ],
      "execution_count": 8,
      "outputs": [
        {
          "output_type": "stream",
          "text": [
            "/content/gdrive/My Drive/ReDi_DA_Project/Datasets_Clean\n"
          ],
          "name": "stdout"
        }
      ]
    },
    {
      "cell_type": "code",
      "metadata": {
        "id": "bpHQzAS3uTLQ",
        "colab_type": "code",
        "colab": {}
      },
      "source": [
        "all_data = pd.read_pickle('all_data.pkl')\n"
      ],
      "execution_count": 0,
      "outputs": []
    },
    {
      "cell_type": "markdown",
      "metadata": {
        "id": "IX-_z2KKTzdX",
        "colab_type": "text"
      },
      "source": [
        "# Model to search the visitors who made transactions"
      ]
    },
    {
      "cell_type": "markdown",
      "metadata": {
        "id": "hkfsY1lCndsI",
        "colab_type": "text"
      },
      "source": [
        "## Function to define Target Column"
      ]
    },
    {
      "cell_type": "code",
      "metadata": {
        "id": "ZvuMz0A4Vaa_",
        "colab_type": "code",
        "colab": {}
      },
      "source": [
        "def is_transaction(n):\n",
        "  if n == 0    :    return 0\n",
        "  else         :    return 1\n",
        "\n",
        "all_data['is_transaction']=all_data['totals.transactions'].apply(is_transaction)"
      ],
      "execution_count": 0,
      "outputs": []
    },
    {
      "cell_type": "code",
      "metadata": {
        "id": "eS1z0ILdXM2m",
        "colab_type": "code",
        "outputId": "bac3faff-fcbd-4c16-b1cf-736c412875b1",
        "colab": {
          "base_uri": "https://localhost:8080/",
          "height": 68
        }
      },
      "source": [
        "all_data['is_transaction'].value_counts()"
      ],
      "execution_count": 9,
      "outputs": [
        {
          "output_type": "execute_result",
          "data": {
            "text/plain": [
              "0    2085062\n",
              "1      24864\n",
              "Name: is_transaction, dtype: int64"
            ]
          },
          "metadata": {
            "tags": []
          },
          "execution_count": 9
        }
      ]
    },
    {
      "cell_type": "markdown",
      "metadata": {
        "id": "P8-K3JmAoLzB",
        "colab_type": "text"
      },
      "source": [
        "## Encoding Categorical Values"
      ]
    },
    {
      "cell_type": "code",
      "metadata": {
        "id": "iEYlXnzRPzJ-",
        "colab_type": "code",
        "colab": {}
      },
      "source": [
        "TARGET = 'is_transaction'\n",
        "CAT_COLS = all_data.columns[all_data.dtypes == object].tolist()\n",
        "CONT_COLS = [c for c in all_data.columns if c not in CAT_COLS and c != TARGET]\n"
      ],
      "execution_count": 0,
      "outputs": []
    },
    {
      "cell_type": "code",
      "metadata": {
        "id": "TGhChyUCvssN",
        "colab_type": "code",
        "outputId": "ff9b3951-f536-403a-cb8d-50c3cc3812c6",
        "colab": {
          "base_uri": "https://localhost:8080/",
          "height": 289
        }
      },
      "source": [
        "CAT_COLS.remove('fullVisitorId')\n",
        "CAT_COLS"
      ],
      "execution_count": 13,
      "outputs": [
        {
          "output_type": "execute_result",
          "data": {
            "text/plain": [
              "['device.deviceCategory',\n",
              " 'geoNetwork.country',\n",
              " 'customDimension.value',\n",
              " 'dataset',\n",
              " 'geoNetwork.metro',\n",
              " 'geoNetwork.continent',\n",
              " 'trafficSource.medium',\n",
              " 'device.operatingSystem',\n",
              " 'geoNetwork.networkDomain',\n",
              " 'channelGrouping',\n",
              " 'trafficSource.adwordsClickInfo.adNetworkType',\n",
              " 'device.browser',\n",
              " 'geoNetwork.subContinent',\n",
              " 'geoNetwork.region',\n",
              " 'trafficSource.source',\n",
              " 'geoNetwork.city']"
            ]
          },
          "metadata": {
            "tags": []
          },
          "execution_count": 13
        }
      ]
    },
    {
      "cell_type": "code",
      "metadata": {
        "id": "-L-jBN-zP-xW",
        "colab_type": "code",
        "colab": {}
      },
      "source": [
        "CONT_COLS.remove('date')"
      ],
      "execution_count": 0,
      "outputs": []
    },
    {
      "cell_type": "code",
      "metadata": {
        "id": "9Qh6ZwLQgG8B",
        "colab_type": "code",
        "outputId": "0d7f106a-52cb-46bc-f949-ae5348134ce1",
        "colab": {
          "base_uri": "https://localhost:8080/",
          "height": 221
        }
      },
      "source": [
        "CONT_COLS.remove('totals.transactions')\n",
        "CONT_COLS.remove('totals.totalTransactionRevenue')\n",
        "CONT_COLS"
      ],
      "execution_count": 15,
      "outputs": [
        {
          "output_type": "execute_result",
          "data": {
            "text/plain": [
              "['totals.sessionQualityDim',\n",
              " 'totals.timeOnSite',\n",
              " 'totals.bounces',\n",
              " 'visitStartTime',\n",
              " 'totals.pageviews',\n",
              " 'totals.newVisits',\n",
              " 'visitNumber',\n",
              " 'trafficSource.isTrueDirect',\n",
              " 'visitId',\n",
              " 'device.isMobile',\n",
              " 'totals.hits',\n",
              " 'trafficSource.adwordsClickInfo.isVideoAd']"
            ]
          },
          "metadata": {
            "tags": []
          },
          "execution_count": 15
        }
      ]
    },
    {
      "cell_type": "code",
      "metadata": {
        "id": "nFiAD5oqgUkz",
        "colab_type": "code",
        "outputId": "e4590a2a-d3aa-44e2-cc1b-d1139203fb1f",
        "colab": {
          "base_uri": "https://localhost:8080/",
          "height": 646
        }
      },
      "source": [
        "M1_data = deepcopy(all_data[CAT_COLS + CONT_COLS + [TARGET]+ [ 'fullVisitorId']])\n",
        "\n",
        "M1_data.info()"
      ],
      "execution_count": 16,
      "outputs": [
        {
          "output_type": "stream",
          "text": [
            "<class 'pandas.core.frame.DataFrame'>\n",
            "Int64Index: 2109926 entries, 0 to 401588\n",
            "Data columns (total 30 columns):\n",
            " #   Column                                        Dtype  \n",
            "---  ------                                        -----  \n",
            " 0   device.deviceCategory                         object \n",
            " 1   geoNetwork.country                            object \n",
            " 2   customDimension.value                         object \n",
            " 3   dataset                                       object \n",
            " 4   geoNetwork.metro                              object \n",
            " 5   geoNetwork.continent                          object \n",
            " 6   trafficSource.medium                          object \n",
            " 7   device.operatingSystem                        object \n",
            " 8   geoNetwork.networkDomain                      object \n",
            " 9   channelGrouping                               object \n",
            " 10  trafficSource.adwordsClickInfo.adNetworkType  object \n",
            " 11  device.browser                                object \n",
            " 12  geoNetwork.subContinent                       object \n",
            " 13  geoNetwork.region                             object \n",
            " 14  trafficSource.source                          object \n",
            " 15  geoNetwork.city                               object \n",
            " 16  totals.sessionQualityDim                      int64  \n",
            " 17  totals.timeOnSite                             int64  \n",
            " 18  totals.bounces                                int64  \n",
            " 19  visitStartTime                                int64  \n",
            " 20  totals.pageviews                              int64  \n",
            " 21  totals.newVisits                              int64  \n",
            " 22  visitNumber                                   int64  \n",
            " 23  trafficSource.isTrueDirect                    bool   \n",
            " 24  visitId                                       int64  \n",
            " 25  device.isMobile                               bool   \n",
            " 26  totals.hits                                   float64\n",
            " 27  trafficSource.adwordsClickInfo.isVideoAd      bool   \n",
            " 28  is_transaction                                int64  \n",
            " 29  fullVisitorId                                 object \n",
            "dtypes: bool(3), float64(1), int64(9), object(17)\n",
            "memory usage: 456.8+ MB\n"
          ],
          "name": "stdout"
        }
      ]
    },
    {
      "cell_type": "code",
      "metadata": {
        "id": "sWWEfZa_Mn58",
        "colab_type": "code",
        "colab": {}
      },
      "source": [
        "leb = LabelEncoder()\n",
        "for col in CAT_COLS:\n",
        "    M1_data[col] = leb.fit_transform(M1_data[col])"
      ],
      "execution_count": 0,
      "outputs": []
    },
    {
      "cell_type": "markdown",
      "metadata": {
        "id": "2vNmbVBGn3rO",
        "colab_type": "text"
      },
      "source": [
        "## Split Train and Test"
      ]
    },
    {
      "cell_type": "code",
      "metadata": {
        "id": "pLdu3ej6Mn6E",
        "colab_type": "code",
        "outputId": "1920a4a7-406f-46c8-c632-d8192c353b76",
        "colab": {
          "base_uri": "https://localhost:8080/",
          "height": 68
        }
      },
      "source": [
        "M1_data['dataset'].value_counts()"
      ],
      "execution_count": 16,
      "outputs": [
        {
          "output_type": "execute_result",
          "data": {
            "text/plain": [
              "1    1708337\n",
              "0     401589\n",
              "Name: dataset, dtype: int64"
            ]
          },
          "metadata": {
            "tags": []
          },
          "execution_count": 16
        }
      ]
    },
    {
      "cell_type": "code",
      "metadata": {
        "id": "l639Tc9E-eDh",
        "colab_type": "code",
        "colab": {}
      },
      "source": [
        "train = M1_data[M1_data['dataset']==1]\n",
        "test = M1_data[M1_data['dataset']==0]\n",
        "train.drop('dataset',axis=1,inplace=True)\n",
        "test.drop('dataset',axis=1, inplace=True)"
      ],
      "execution_count": 0,
      "outputs": []
    },
    {
      "cell_type": "code",
      "metadata": {
        "id": "HWtn8jIC46q0",
        "colab_type": "code",
        "colab": {}
      },
      "source": [
        "CAT_COLS.remove('dataset')"
      ],
      "execution_count": 0,
      "outputs": []
    },
    {
      "cell_type": "code",
      "metadata": {
        "id": "Q-nPE_jO3f8f",
        "colab_type": "code",
        "outputId": "02f143de-651b-405e-f02b-ff2be889a243",
        "colab": {
          "base_uri": "https://localhost:8080/",
          "height": 34
        }
      },
      "source": [
        "train.shape, test.shape"
      ],
      "execution_count": 20,
      "outputs": [
        {
          "output_type": "execute_result",
          "data": {
            "text/plain": [
              "((1708337, 29), (401589, 29))"
            ]
          },
          "metadata": {
            "tags": []
          },
          "execution_count": 20
        }
      ]
    },
    {
      "cell_type": "markdown",
      "metadata": {
        "id": "uy2r19xmnNnU",
        "colab_type": "text"
      },
      "source": [
        "## Model"
      ]
    },
    {
      "cell_type": "code",
      "metadata": {
        "id": "caB2qeZSMn6N",
        "colab_type": "code",
        "colab": {}
      },
      "source": [
        "\n",
        "from sklearn.model_selection import train_test_split\n",
        "from sklearn.ensemble import RandomForestRegressor\n",
        "from sklearn.ensemble import RandomForestClassifier, GradientBoostingClassifier\n",
        "from sklearn.metrics import accuracy_score as accuracy\n",
        "from sklearn.metrics import r2_score as r2\n",
        "from sklearn.metrics import mean_squared_error as mse\n",
        "from sklearn.metrics import mean_absolute_error as mae\n",
        "from sklearn.metrics import f1_score as f1\n",
        "rmse = lambda true, pred: mse(true, pred) ** 0.5"
      ],
      "execution_count": 0,
      "outputs": []
    },
    {
      "cell_type": "code",
      "metadata": {
        "id": "6OeFnTYlfRou",
        "colab_type": "code",
        "colab": {}
      },
      "source": [
        "x_train = train[CAT_COLS + CONT_COLS]\n",
        "x_test = test[CAT_COLS + CONT_COLS]\n",
        "y_train = train[[TARGET]]\n",
        "y_test = test[[TARGET]]"
      ],
      "execution_count": 0,
      "outputs": []
    },
    {
      "cell_type": "code",
      "metadata": {
        "id": "jipCBJ2-CvHo",
        "colab_type": "code",
        "outputId": "af7ace37-0e0d-4370-feb8-b6996f4a8d12",
        "colab": {
          "base_uri": "https://localhost:8080/",
          "height": 34
        }
      },
      "source": [
        "x_train.shape, x_test.shape, y_train.shape, y_test.shape"
      ],
      "execution_count": 26,
      "outputs": [
        {
          "output_type": "execute_result",
          "data": {
            "text/plain": [
              "((1708337, 27), (401589, 27), (1708337, 1), (401589, 1))"
            ]
          },
          "metadata": {
            "tags": []
          },
          "execution_count": 26
        }
      ]
    },
    {
      "cell_type": "code",
      "metadata": {
        "id": "neGovCrOPZiv",
        "colab_type": "code",
        "outputId": "a85f5bb7-7d9b-48d7-ff1c-ea71bfd9ac0f",
        "colab": {
          "base_uri": "https://localhost:8080/",
          "height": 204
        }
      },
      "source": [
        "x_train.columns"
      ],
      "execution_count": 66,
      "outputs": [
        {
          "output_type": "execute_result",
          "data": {
            "text/plain": [
              "Index(['device.deviceCategory', 'geoNetwork.country', 'customDimension.value',\n",
              "       'geoNetwork.metro', 'geoNetwork.continent', 'trafficSource.medium',\n",
              "       'device.operatingSystem', 'geoNetwork.networkDomain', 'channelGrouping',\n",
              "       'trafficSource.adwordsClickInfo.adNetworkType', 'device.browser',\n",
              "       'geoNetwork.subContinent', 'geoNetwork.region', 'trafficSource.source',\n",
              "       'geoNetwork.city', 'totals.sessionQualityDim', 'totals.timeOnSite',\n",
              "       'totals.bounces', 'visitStartTime', 'totals.pageviews',\n",
              "       'totals.newVisits', 'visitNumber', 'trafficSource.isTrueDirect',\n",
              "       'visitId', 'device.isMobile', 'totals.hits',\n",
              "       'trafficSource.adwordsClickInfo.isVideoAd'],\n",
              "      dtype='object')"
            ]
          },
          "metadata": {
            "tags": []
          },
          "execution_count": 66
        }
      ]
    },
    {
      "cell_type": "code",
      "metadata": {
        "id": "JEeG3gCSMn6l",
        "colab_type": "code",
        "colab": {}
      },
      "source": [
        "model = RandomForestClassifier( \n",
        "    n_estimators=100, # Hyperparameter 1\n",
        "    max_depth=10,      # Hyperparameter 2\n",
        "    random_state=0\n",
        ")"
      ],
      "execution_count": 0,
      "outputs": []
    },
    {
      "cell_type": "code",
      "metadata": {
        "id": "1upqCb_YDz3S",
        "colab_type": "code",
        "colab": {}
      },
      "source": [
        "trained_model = model.fit(x_train, y_train)"
      ],
      "execution_count": 0,
      "outputs": []
    },
    {
      "cell_type": "code",
      "metadata": {
        "id": "azVfGsAvElRD",
        "colab_type": "code",
        "colab": {}
      },
      "source": [
        "def get_error(pred, true):\n",
        "    print(f'f-score:         {f1(true, pred)}')\n",
        "    print(f'accuracy:        {accuracy(true, pred)}')"
      ],
      "execution_count": 0,
      "outputs": []
    },
    {
      "cell_type": "code",
      "metadata": {
        "id": "V3ljtR_BFD0m",
        "colab_type": "code",
        "outputId": "4ad3b2da-5ee0-439d-bb69-7a1dca81f564",
        "colab": {
          "base_uri": "https://localhost:8080/",
          "height": 51
        }
      },
      "source": [
        "get_error(pred = trained_model.predict(x_test),\n",
        "          true = y_test)"
      ],
      "execution_count": 31,
      "outputs": [
        {
          "output_type": "stream",
          "text": [
            "f-score:         0.09854067331310504\n",
            "accuracy:   0.984464215902328\n"
          ],
          "name": "stdout"
        }
      ]
    },
    {
      "cell_type": "markdown",
      "metadata": {
        "id": "H9LcznXoVuH5",
        "colab_type": "text"
      },
      "source": [
        "## Submission M1"
      ]
    },
    {
      "cell_type": "code",
      "metadata": {
        "id": "z6lnrKtNZhLE",
        "colab_type": "code",
        "outputId": "8662cc06-4ff4-4d71-b361-77674d4af12a",
        "colab": {
          "base_uri": "https://localhost:8080/",
          "height": 34
        }
      },
      "source": [
        "pred_M1 = trained_model.predict(x_test)\n",
        "pred_M1.shape"
      ],
      "execution_count": 32,
      "outputs": [
        {
          "output_type": "execute_result",
          "data": {
            "text/plain": [
              "(401589,)"
            ]
          },
          "metadata": {
            "tags": []
          },
          "execution_count": 32
        }
      ]
    },
    {
      "cell_type": "code",
      "metadata": {
        "id": "IxRNa4dhbfPu",
        "colab_type": "code",
        "outputId": "5759399b-5f10-431b-ecc7-5987d4637d3f",
        "colab": {
          "base_uri": "https://localhost:8080/",
          "height": 34
        }
      },
      "source": [
        "mylist = list(set(pred_M1))\n",
        "mylist"
      ],
      "execution_count": 33,
      "outputs": [
        {
          "output_type": "execute_result",
          "data": {
            "text/plain": [
              "[0, 1]"
            ]
          },
          "metadata": {
            "tags": []
          },
          "execution_count": 33
        }
      ]
    },
    {
      "cell_type": "code",
      "metadata": {
        "id": "ngonomkTal1L",
        "colab_type": "code",
        "outputId": "28cfa06e-e997-4d9f-afb5-6d5fa8f3c38a",
        "colab": {
          "base_uri": "https://localhost:8080/",
          "height": 34
        }
      },
      "source": [
        "T_predicted = pred_M1[pred_M1!=0]\n",
        "T_predicted.shape"
      ],
      "execution_count": 34,
      "outputs": [
        {
          "output_type": "execute_result",
          "data": {
            "text/plain": [
              "(616,)"
            ]
          },
          "metadata": {
            "tags": []
          },
          "execution_count": 34
        }
      ]
    },
    {
      "cell_type": "code",
      "metadata": {
        "colab_type": "code",
        "id": "lNWP5cDRfxpg",
        "colab": {}
      },
      "source": [
        "#train_id = train[\"fullVisitorId\"].values\n",
        "test_id = test[\"fullVisitorId\"].values"
      ],
      "execution_count": 0,
      "outputs": []
    },
    {
      "cell_type": "code",
      "metadata": {
        "id": "0Dqo1-fjWLH8",
        "colab_type": "code",
        "outputId": "669ea7af-bb17-4da1-b1ac-2f13ad29008b",
        "colab": {
          "base_uri": "https://localhost:8080/",
          "height": 34
        }
      },
      "source": [
        "sub_M1 = pd.DataFrame({\"fullVisitorId\":test_id})\n",
        "sub_M1['PredictedLogRevenue']= pred_M1\n",
        "sub_M1.shape"
      ],
      "execution_count": 106,
      "outputs": [
        {
          "output_type": "execute_result",
          "data": {
            "text/plain": [
              "(401589, 2)"
            ]
          },
          "metadata": {
            "tags": []
          },
          "execution_count": 106
        }
      ]
    },
    {
      "cell_type": "code",
      "metadata": {
        "id": "Jr3Doc6-HQTr",
        "colab_type": "code",
        "colab": {}
      },
      "source": [
        "#sub_M2.append(sub_M1).drop_duplicates('fullVisitorId')"
      ],
      "execution_count": 0,
      "outputs": []
    },
    {
      "cell_type": "code",
      "metadata": {
        "id": "M8jX5htwYZqG",
        "colab_type": "code",
        "outputId": "73ae4282-5c02-4cce-912d-0fb0427356d2",
        "colab": {
          "base_uri": "https://localhost:8080/",
          "height": 34
        }
      },
      "source": [
        "Cus_Pre = sub_M1[sub_M1['PredictedLogRevenue']==1]\n",
        "test_id_M2 = list(Cus_Pre.index)\n",
        "len(test_id_M2)"
      ],
      "execution_count": 107,
      "outputs": [
        {
          "output_type": "execute_result",
          "data": {
            "text/plain": [
              "616"
            ]
          },
          "metadata": {
            "tags": []
          },
          "execution_count": 107
        }
      ]
    },
    {
      "cell_type": "code",
      "metadata": {
        "id": "J3v1xYjTJdzO",
        "colab_type": "code",
        "colab": {}
      },
      "source": [
        "sub_M1.drop(test_id_M2,axis=0,inplace=True)\n",
        "sub_M1.shape"
      ],
      "execution_count": 0,
      "outputs": []
    },
    {
      "cell_type": "markdown",
      "metadata": {
        "id": "P8S-dtAUJV3b",
        "colab_type": "text"
      },
      "source": [
        "# Model to calculate transaction Revenue"
      ]
    },
    {
      "cell_type": "markdown",
      "metadata": {
        "id": "O19cIcK6WKm2",
        "colab_type": "text"
      },
      "source": [
        "## Encoding Categorical Values - M2"
      ]
    },
    {
      "cell_type": "code",
      "metadata": {
        "colab_type": "code",
        "id": "mx-MBMOwK8Vz",
        "colab": {}
      },
      "source": [
        "TARGET_M2 = 'totals.totalTransactionRevenue'\n",
        "CAT_COLS_M2 = all_data.columns[all_data.dtypes == object].tolist()\n",
        "CONT_COLS_M2 = [c for c in all_data.columns if c not in CAT_COLS_M2 and c != TARGET_M2]\n"
      ],
      "execution_count": 0,
      "outputs": []
    },
    {
      "cell_type": "code",
      "metadata": {
        "colab_type": "code",
        "id": "8-ub0nhQK8WV",
        "colab": {
          "base_uri": "https://localhost:8080/",
          "height": 289
        },
        "outputId": "83ba0e18-f6fd-4b0d-bf41-66d059d42774"
      },
      "source": [
        "CAT_COLS_M2.remove('fullVisitorId')\n",
        "CAT_COLS_M2"
      ],
      "execution_count": 41,
      "outputs": [
        {
          "output_type": "execute_result",
          "data": {
            "text/plain": [
              "['device.deviceCategory',\n",
              " 'geoNetwork.country',\n",
              " 'customDimension.value',\n",
              " 'dataset',\n",
              " 'geoNetwork.metro',\n",
              " 'geoNetwork.continent',\n",
              " 'trafficSource.medium',\n",
              " 'device.operatingSystem',\n",
              " 'geoNetwork.networkDomain',\n",
              " 'channelGrouping',\n",
              " 'trafficSource.adwordsClickInfo.adNetworkType',\n",
              " 'device.browser',\n",
              " 'geoNetwork.subContinent',\n",
              " 'geoNetwork.region',\n",
              " 'trafficSource.source',\n",
              " 'geoNetwork.city']"
            ]
          },
          "metadata": {
            "tags": []
          },
          "execution_count": 41
        }
      ]
    },
    {
      "cell_type": "code",
      "metadata": {
        "colab_type": "code",
        "outputId": "e639b67a-a47f-4e06-c551-ec471768b3a7",
        "id": "IFNsMWXCK8We",
        "colab": {
          "base_uri": "https://localhost:8080/",
          "height": 272
        }
      },
      "source": [
        "#CONT_COLS.remove('totals.transactions')\n",
        "#CONT_COLS.remove('totals.totalTransactionRevenue')\n",
        "CONT_COLS_M2"
      ],
      "execution_count": 42,
      "outputs": [
        {
          "output_type": "execute_result",
          "data": {
            "text/plain": [
              "['totals.sessionQualityDim',\n",
              " 'totals.timeOnSite',\n",
              " 'totals.bounces',\n",
              " 'visitStartTime',\n",
              " 'totals.transactions',\n",
              " 'totals.pageviews',\n",
              " 'date',\n",
              " 'totals.newVisits',\n",
              " 'visitNumber',\n",
              " 'trafficSource.isTrueDirect',\n",
              " 'visitId',\n",
              " 'device.isMobile',\n",
              " 'totals.hits',\n",
              " 'trafficSource.adwordsClickInfo.isVideoAd',\n",
              " 'is_transaction']"
            ]
          },
          "metadata": {
            "tags": []
          },
          "execution_count": 42
        }
      ]
    },
    {
      "cell_type": "code",
      "metadata": {
        "id": "XbI-eThkJkAI",
        "colab_type": "code",
        "outputId": "72675ee4-0d5b-4917-c0f4-91c761286afd",
        "colab": {
          "base_uri": "https://localhost:8080/",
          "height": 697
        }
      },
      "source": [
        "M2_data = deepcopy(all_data[CAT_COLS_M2 + CONT_COLS_M2 + [TARGET_M2]+['fullVisitorId']])\n",
        "\n",
        "M2_data.info()"
      ],
      "execution_count": 43,
      "outputs": [
        {
          "output_type": "stream",
          "text": [
            "<class 'pandas.core.frame.DataFrame'>\n",
            "Int64Index: 2109926 entries, 0 to 401588\n",
            "Data columns (total 33 columns):\n",
            " #   Column                                        Dtype         \n",
            "---  ------                                        -----         \n",
            " 0   device.deviceCategory                         object        \n",
            " 1   geoNetwork.country                            object        \n",
            " 2   customDimension.value                         object        \n",
            " 3   dataset                                       object        \n",
            " 4   geoNetwork.metro                              object        \n",
            " 5   geoNetwork.continent                          object        \n",
            " 6   trafficSource.medium                          object        \n",
            " 7   device.operatingSystem                        object        \n",
            " 8   geoNetwork.networkDomain                      object        \n",
            " 9   channelGrouping                               object        \n",
            " 10  trafficSource.adwordsClickInfo.adNetworkType  object        \n",
            " 11  device.browser                                object        \n",
            " 12  geoNetwork.subContinent                       object        \n",
            " 13  geoNetwork.region                             object        \n",
            " 14  trafficSource.source                          object        \n",
            " 15  geoNetwork.city                               object        \n",
            " 16  totals.sessionQualityDim                      int64         \n",
            " 17  totals.timeOnSite                             int64         \n",
            " 18  totals.bounces                                int64         \n",
            " 19  visitStartTime                                int64         \n",
            " 20  totals.transactions                           int64         \n",
            " 21  totals.pageviews                              int64         \n",
            " 22  date                                          datetime64[ns]\n",
            " 23  totals.newVisits                              int64         \n",
            " 24  visitNumber                                   int64         \n",
            " 25  trafficSource.isTrueDirect                    bool          \n",
            " 26  visitId                                       int64         \n",
            " 27  device.isMobile                               bool          \n",
            " 28  totals.hits                                   float64       \n",
            " 29  trafficSource.adwordsClickInfo.isVideoAd      bool          \n",
            " 30  is_transaction                                int64         \n",
            " 31  totals.totalTransactionRevenue                float64       \n",
            " 32  fullVisitorId                                 object        \n",
            "dtypes: bool(3), datetime64[ns](1), float64(2), int64(10), object(17)\n",
            "memory usage: 505.1+ MB\n"
          ],
          "name": "stdout"
        }
      ]
    },
    {
      "cell_type": "code",
      "metadata": {
        "colab_type": "code",
        "id": "p028rr4dK8Wx",
        "colab": {}
      },
      "source": [
        "leb = LabelEncoder()\n",
        "for col in CAT_COLS_M2:\n",
        "    M2_data[col] = leb.fit_transform(M2_data[col])"
      ],
      "execution_count": 0,
      "outputs": []
    },
    {
      "cell_type": "markdown",
      "metadata": {
        "id": "uZdB5mI6T11X",
        "colab_type": "text"
      },
      "source": [
        "## Split Train and Test - M2"
      ]
    },
    {
      "cell_type": "code",
      "metadata": {
        "colab_type": "code",
        "id": "sqzEJHEzT8NF",
        "colab": {}
      },
      "source": [
        "train_M2 = M2_data[M2_data['dataset']==1]\n",
        "test_M2 = M2_data[M2_data['dataset']==0]\n",
        "train_M2.drop('dataset',axis=1,inplace=True)\n",
        "test_M2.drop('dataset',axis=1, inplace=True)"
      ],
      "execution_count": 0,
      "outputs": []
    },
    {
      "cell_type": "code",
      "metadata": {
        "colab_type": "code",
        "id": "MtXR7NP5T8NN",
        "colab": {}
      },
      "source": [
        "CAT_COLS_M2.remove('dataset')"
      ],
      "execution_count": 0,
      "outputs": []
    },
    {
      "cell_type": "code",
      "metadata": {
        "colab_type": "code",
        "outputId": "3d4aa5db-0c27-4bae-ba85-bdba848696fe",
        "id": "kHlLMr-gT8NU",
        "colab": {
          "base_uri": "https://localhost:8080/",
          "height": 34
        }
      },
      "source": [
        "train_M2.shape, test_M2.shape"
      ],
      "execution_count": 48,
      "outputs": [
        {
          "output_type": "execute_result",
          "data": {
            "text/plain": [
              "((1708337, 32), (401589, 32))"
            ]
          },
          "metadata": {
            "tags": []
          },
          "execution_count": 48
        }
      ]
    },
    {
      "cell_type": "code",
      "metadata": {
        "id": "MO4H1cmAm2EL",
        "colab_type": "code",
        "colab": {}
      },
      "source": [
        "#df[df['A'].isin([3, 6])]"
      ],
      "execution_count": 0,
      "outputs": []
    },
    {
      "cell_type": "code",
      "metadata": {
        "id": "sK6b5rOsl-ik",
        "colab_type": "code",
        "outputId": "9e728dd1-18e4-4769-9d3c-dbcaaf5e2c64",
        "colab": {
          "base_uri": "https://localhost:8080/",
          "height": 34
        }
      },
      "source": [
        "P_test_M2 = test_M2[test_M2.index.isin(test_id_M2)]\n",
        "P_test_M2.drop('is_transaction',axis=1,inplace=True)\n",
        "P_test_M2.shape"
      ],
      "execution_count": 68,
      "outputs": [
        {
          "output_type": "execute_result",
          "data": {
            "text/plain": [
              "(616, 31)"
            ]
          },
          "metadata": {
            "tags": []
          },
          "execution_count": 68
        }
      ]
    },
    {
      "cell_type": "code",
      "metadata": {
        "id": "pkjf_Q81dEps",
        "colab_type": "code",
        "outputId": "c983f575-2f71-4f65-eb1a-7880700cc489",
        "colab": {
          "base_uri": "https://localhost:8080/",
          "height": 221
        }
      },
      "source": [
        "P_test_M2['fullVisitorId'].value_counts()"
      ],
      "execution_count": 69,
      "outputs": [
        {
          "output_type": "execute_result",
          "data": {
            "text/plain": [
              "4099631678878053818    6\n",
              "4608218212556854907    4\n",
              "2239826195536738512    3\n",
              "4428739076160836883    3\n",
              "9249130983722228273    3\n",
              "                      ..\n",
              "7384784242167555295    1\n",
              "6110416034079037629    1\n",
              "6138331234857026828    1\n",
              "9786595211770586469    1\n",
              "8348476995025336130    1\n",
              "Name: fullVisitorId, Length: 545, dtype: int64"
            ]
          },
          "metadata": {
            "tags": []
          },
          "execution_count": 69
        }
      ]
    },
    {
      "cell_type": "markdown",
      "metadata": {
        "id": "rmdBCA8rUpPV",
        "colab_type": "text"
      },
      "source": [
        "But the training of the transaction revenue is made just with the data from visitors that made at least one transaction"
      ]
    },
    {
      "cell_type": "code",
      "metadata": {
        "colab_type": "code",
        "id": "2df3AG5IYyo8",
        "colab": {}
      },
      "source": [
        "T_train_M2 = train_M2[train_M2['is_transaction']==1]\n",
        "#T_test_M2 = test_M2[test_M2['is_transaction']==1]\n",
        "T_train_M2.drop('is_transaction',axis=1,inplace=True)\n",
        "#T_test_M2.drop('is_transaction',axis=1, inplace=True)"
      ],
      "execution_count": 0,
      "outputs": []
    },
    {
      "cell_type": "code",
      "metadata": {
        "id": "bzXpHFxst1AI",
        "colab_type": "code",
        "outputId": "edfd9f18-1790-4a8f-cf3f-00219718bfaf",
        "colab": {
          "base_uri": "https://localhost:8080/",
          "height": 272
        }
      },
      "source": [
        "CAT_COLS_M2"
      ],
      "execution_count": 72,
      "outputs": [
        {
          "output_type": "execute_result",
          "data": {
            "text/plain": [
              "['device.deviceCategory',\n",
              " 'geoNetwork.country',\n",
              " 'customDimension.value',\n",
              " 'geoNetwork.metro',\n",
              " 'geoNetwork.continent',\n",
              " 'trafficSource.medium',\n",
              " 'device.operatingSystem',\n",
              " 'geoNetwork.networkDomain',\n",
              " 'channelGrouping',\n",
              " 'trafficSource.adwordsClickInfo.adNetworkType',\n",
              " 'device.browser',\n",
              " 'geoNetwork.subContinent',\n",
              " 'geoNetwork.region',\n",
              " 'trafficSource.source',\n",
              " 'geoNetwork.city']"
            ]
          },
          "metadata": {
            "tags": []
          },
          "execution_count": 72
        }
      ]
    },
    {
      "cell_type": "code",
      "metadata": {
        "id": "KRSTz9I1bh7m",
        "colab_type": "code",
        "colab": {}
      },
      "source": [
        "CONT_COLS_M2.remove('date')\n",
        "CONT_COLS_M2.remove('is_transaction')"
      ],
      "execution_count": 0,
      "outputs": []
    },
    {
      "cell_type": "code",
      "metadata": {
        "id": "zBZi3V3IYyVh",
        "colab_type": "code",
        "outputId": "bd703ce7-1f2f-45b1-93c7-a9adfc78fae8",
        "colab": {
          "base_uri": "https://localhost:8080/",
          "height": 34
        }
      },
      "source": [
        "T_train_M2.shape, P_test_M2.shape"
      ],
      "execution_count": 74,
      "outputs": [
        {
          "output_type": "execute_result",
          "data": {
            "text/plain": [
              "((18559, 31), (616, 31))"
            ]
          },
          "metadata": {
            "tags": []
          },
          "execution_count": 74
        }
      ]
    },
    {
      "cell_type": "markdown",
      "metadata": {
        "id": "6RJh7DvMaaR3",
        "colab_type": "text"
      },
      "source": [
        "## Model - M2"
      ]
    },
    {
      "cell_type": "code",
      "metadata": {
        "colab_type": "code",
        "id": "Y_iFI2-MaeG5",
        "colab": {}
      },
      "source": [
        "x_train_M2 = T_train_M2[CAT_COLS_M2 + CONT_COLS_M2]\n",
        "x_test_M2 = P_test_M2[CAT_COLS_M2 + CONT_COLS_M2]\n",
        "y_train_M2 = T_train_M2[[TARGET_M2]]\n",
        "y_test_M2 = P_test_M2[[TARGET_M2]]"
      ],
      "execution_count": 0,
      "outputs": []
    },
    {
      "cell_type": "code",
      "metadata": {
        "colab_type": "code",
        "outputId": "f0ba799e-4c78-4b75-b07a-d4b1cb28ddc3",
        "id": "8ux3VUjAaeHL",
        "colab": {
          "base_uri": "https://localhost:8080/",
          "height": 34
        }
      },
      "source": [
        "x_train_M2.shape, x_test_M2.shape, y_train_M2.shape, y_test_M2.shape"
      ],
      "execution_count": 76,
      "outputs": [
        {
          "output_type": "execute_result",
          "data": {
            "text/plain": [
              "((18559, 28), (616, 28), (18559, 1), (616, 1))"
            ]
          },
          "metadata": {
            "tags": []
          },
          "execution_count": 76
        }
      ]
    },
    {
      "cell_type": "code",
      "metadata": {
        "id": "L2NhN2hTTDib",
        "colab_type": "code",
        "outputId": "149dd2c3-2d4d-4a94-9160-246545b701e3",
        "colab": {
          "base_uri": "https://localhost:8080/",
          "height": 297
        }
      },
      "source": [
        "y_test_M2.describe()"
      ],
      "execution_count": 78,
      "outputs": [
        {
          "output_type": "execute_result",
          "data": {
            "text/html": [
              "<div>\n",
              "<style scoped>\n",
              "    .dataframe tbody tr th:only-of-type {\n",
              "        vertical-align: middle;\n",
              "    }\n",
              "\n",
              "    .dataframe tbody tr th {\n",
              "        vertical-align: top;\n",
              "    }\n",
              "\n",
              "    .dataframe thead th {\n",
              "        text-align: right;\n",
              "    }\n",
              "</style>\n",
              "<table border=\"1\" class=\"dataframe\">\n",
              "  <thead>\n",
              "    <tr style=\"text-align: right;\">\n",
              "      <th></th>\n",
              "      <th>totals.totalTransactionRevenue</th>\n",
              "    </tr>\n",
              "  </thead>\n",
              "  <tbody>\n",
              "    <tr>\n",
              "      <th>count</th>\n",
              "      <td>6.160000e+02</td>\n",
              "    </tr>\n",
              "    <tr>\n",
              "      <th>mean</th>\n",
              "      <td>1.264561e+08</td>\n",
              "    </tr>\n",
              "    <tr>\n",
              "      <th>std</th>\n",
              "      <td>4.001648e+08</td>\n",
              "    </tr>\n",
              "    <tr>\n",
              "      <th>min</th>\n",
              "      <td>0.000000e+00</td>\n",
              "    </tr>\n",
              "    <tr>\n",
              "      <th>25%</th>\n",
              "      <td>0.000000e+00</td>\n",
              "    </tr>\n",
              "    <tr>\n",
              "      <th>50%</th>\n",
              "      <td>2.609000e+07</td>\n",
              "    </tr>\n",
              "    <tr>\n",
              "      <th>75%</th>\n",
              "      <td>1.219900e+08</td>\n",
              "    </tr>\n",
              "    <tr>\n",
              "      <th>max</th>\n",
              "      <td>7.642380e+09</td>\n",
              "    </tr>\n",
              "  </tbody>\n",
              "</table>\n",
              "</div>"
            ],
            "text/plain": [
              "       totals.totalTransactionRevenue\n",
              "count                    6.160000e+02\n",
              "mean                     1.264561e+08\n",
              "std                      4.001648e+08\n",
              "min                      0.000000e+00\n",
              "25%                      0.000000e+00\n",
              "50%                      2.609000e+07\n",
              "75%                      1.219900e+08\n",
              "max                      7.642380e+09"
            ]
          },
          "metadata": {
            "tags": []
          },
          "execution_count": 78
        }
      ]
    },
    {
      "cell_type": "code",
      "metadata": {
        "colab_type": "code",
        "id": "tgzCAmIgaeHU",
        "colab": {}
      },
      "source": [
        "model_M2 = RandomForestRegressor( \n",
        "    n_estimators=100, # Hyperparameter 1\n",
        "    max_depth=10,      # Hyperparameter 2\n",
        "    random_state=0\n",
        ")"
      ],
      "execution_count": 0,
      "outputs": []
    },
    {
      "cell_type": "code",
      "metadata": {
        "colab_type": "code",
        "id": "sgvenKaoaeHc",
        "colab": {}
      },
      "source": [
        "trained_model_M2 = model_M2.fit(x_train_M2, y_train_M2)"
      ],
      "execution_count": 0,
      "outputs": []
    },
    {
      "cell_type": "code",
      "metadata": {
        "id": "EPg2IvWTc4TM",
        "colab_type": "code",
        "colab": {}
      },
      "source": [
        "def get_error_regression(pred, true):\n",
        "    print(f'RMSE:       {rmse(true, pred)}')\n",
        "    print(f'MAE:        {mae(true, pred)}')\n",
        "    print(f'r2:         {r2(true, pred)}')"
      ],
      "execution_count": 0,
      "outputs": []
    },
    {
      "cell_type": "code",
      "metadata": {
        "colab_type": "code",
        "outputId": "ce0b48fc-2c7f-4f74-81aa-e301165a7bf0",
        "id": "ug6PJQ4QaeHq",
        "colab": {
          "base_uri": "https://localhost:8080/",
          "height": 68
        }
      },
      "source": [
        "get_error_regression(pred = trained_model_M2.predict(x_test_M2),\n",
        "          true = y_test_M2)"
      ],
      "execution_count": 82,
      "outputs": [
        {
          "output_type": "stream",
          "text": [
            "RMSE:       471239550.3231417\n",
            "MAE:        272812695.0264385\n",
            "r2:         -0.3890292790826513\n"
          ],
          "name": "stdout"
        }
      ]
    },
    {
      "cell_type": "code",
      "metadata": {
        "id": "D8Cdd5-QU3VV",
        "colab_type": "code",
        "outputId": "d23084a4-3d03-4af6-ba85-cd9b94445ae9",
        "colab": {
          "base_uri": "https://localhost:8080/",
          "height": 34
        }
      },
      "source": [
        "pred_M2 = trained_model_M2.predict(x_test_M2)\n",
        "pred_M2.shape"
      ],
      "execution_count": 83,
      "outputs": [
        {
          "output_type": "execute_result",
          "data": {
            "text/plain": [
              "(616,)"
            ]
          },
          "metadata": {
            "tags": []
          },
          "execution_count": 83
        }
      ]
    },
    {
      "cell_type": "code",
      "metadata": {
        "id": "Ex7rrB26zKjU",
        "colab_type": "code",
        "outputId": "cd215f7f-e931-423e-e259-d99d6b71cd33",
        "colab": {
          "base_uri": "https://localhost:8080/",
          "height": 34
        }
      },
      "source": [
        "test_id_M2 = P_test_M2[\"fullVisitorId\"].values\n",
        "len(test_id_M2) #2896"
      ],
      "execution_count": 84,
      "outputs": [
        {
          "output_type": "execute_result",
          "data": {
            "text/plain": [
              "616"
            ]
          },
          "metadata": {
            "tags": []
          },
          "execution_count": 84
        }
      ]
    },
    {
      "cell_type": "code",
      "metadata": {
        "id": "BEEBzkP0yMVO",
        "colab_type": "code",
        "outputId": "6646750b-659a-4cb4-c9f6-674db357c484",
        "colab": {
          "base_uri": "https://localhost:8080/",
          "height": 419
        }
      },
      "source": [
        "sub_M2 = pd.DataFrame({'fullVisitorId':test_id_M2})\n",
        "sub_M2['PredictedLogRevenue']= pred_M2\n",
        "sub_M2"
      ],
      "execution_count": 85,
      "outputs": [
        {
          "output_type": "execute_result",
          "data": {
            "text/html": [
              "<div>\n",
              "<style scoped>\n",
              "    .dataframe tbody tr th:only-of-type {\n",
              "        vertical-align: middle;\n",
              "    }\n",
              "\n",
              "    .dataframe tbody tr th {\n",
              "        vertical-align: top;\n",
              "    }\n",
              "\n",
              "    .dataframe thead th {\n",
              "        text-align: right;\n",
              "    }\n",
              "</style>\n",
              "<table border=\"1\" class=\"dataframe\">\n",
              "  <thead>\n",
              "    <tr style=\"text-align: right;\">\n",
              "      <th></th>\n",
              "      <th>fullVisitorId</th>\n",
              "      <th>PredictedLogRevenue</th>\n",
              "    </tr>\n",
              "  </thead>\n",
              "  <tbody>\n",
              "    <tr>\n",
              "      <th>0</th>\n",
              "      <td>6533935296546803942</td>\n",
              "      <td>1.701716e+08</td>\n",
              "    </tr>\n",
              "    <tr>\n",
              "      <th>1</th>\n",
              "      <td>6915727589933825896</td>\n",
              "      <td>1.787653e+08</td>\n",
              "    </tr>\n",
              "    <tr>\n",
              "      <th>2</th>\n",
              "      <td>7026569611903775237</td>\n",
              "      <td>2.844919e+08</td>\n",
              "    </tr>\n",
              "    <tr>\n",
              "      <th>3</th>\n",
              "      <td>9086750370904150473</td>\n",
              "      <td>7.715089e+08</td>\n",
              "    </tr>\n",
              "    <tr>\n",
              "      <th>4</th>\n",
              "      <td>1517219381826577219</td>\n",
              "      <td>1.716856e+08</td>\n",
              "    </tr>\n",
              "    <tr>\n",
              "      <th>...</th>\n",
              "      <td>...</td>\n",
              "      <td>...</td>\n",
              "    </tr>\n",
              "    <tr>\n",
              "      <th>611</th>\n",
              "      <td>7911200327522123962</td>\n",
              "      <td>3.823872e+08</td>\n",
              "    </tr>\n",
              "    <tr>\n",
              "      <th>612</th>\n",
              "      <td>199211073374659585</td>\n",
              "      <td>2.836649e+08</td>\n",
              "    </tr>\n",
              "    <tr>\n",
              "      <th>613</th>\n",
              "      <td>6485327521360234229</td>\n",
              "      <td>3.670148e+08</td>\n",
              "    </tr>\n",
              "    <tr>\n",
              "      <th>614</th>\n",
              "      <td>9536260586427681418</td>\n",
              "      <td>5.096339e+08</td>\n",
              "    </tr>\n",
              "    <tr>\n",
              "      <th>615</th>\n",
              "      <td>0517554446459588001</td>\n",
              "      <td>4.106266e+08</td>\n",
              "    </tr>\n",
              "  </tbody>\n",
              "</table>\n",
              "<p>616 rows × 2 columns</p>\n",
              "</div>"
            ],
            "text/plain": [
              "           fullVisitorId  PredictedLogRevenue\n",
              "0    6533935296546803942         1.701716e+08\n",
              "1    6915727589933825896         1.787653e+08\n",
              "2    7026569611903775237         2.844919e+08\n",
              "3    9086750370904150473         7.715089e+08\n",
              "4    1517219381826577219         1.716856e+08\n",
              "..                   ...                  ...\n",
              "611  7911200327522123962         3.823872e+08\n",
              "612   199211073374659585         2.836649e+08\n",
              "613  6485327521360234229         3.670148e+08\n",
              "614  9536260586427681418         5.096339e+08\n",
              "615  0517554446459588001         4.106266e+08\n",
              "\n",
              "[616 rows x 2 columns]"
            ]
          },
          "metadata": {
            "tags": []
          },
          "execution_count": 85
        }
      ]
    },
    {
      "cell_type": "code",
      "metadata": {
        "colab_type": "code",
        "id": "RgI0vIiU_Z0W",
        "colab": {
          "base_uri": "https://localhost:8080/",
          "height": 419
        },
        "outputId": "c2351079-99c0-47ae-9f25-8dff4e910f3e"
      },
      "source": [
        "sub_Tot=sub_M2.append(sub_M1)\n",
        "sub_Tot"
      ],
      "execution_count": 110,
      "outputs": [
        {
          "output_type": "execute_result",
          "data": {
            "text/html": [
              "<div>\n",
              "<style scoped>\n",
              "    .dataframe tbody tr th:only-of-type {\n",
              "        vertical-align: middle;\n",
              "    }\n",
              "\n",
              "    .dataframe tbody tr th {\n",
              "        vertical-align: top;\n",
              "    }\n",
              "\n",
              "    .dataframe thead th {\n",
              "        text-align: right;\n",
              "    }\n",
              "</style>\n",
              "<table border=\"1\" class=\"dataframe\">\n",
              "  <thead>\n",
              "    <tr style=\"text-align: right;\">\n",
              "      <th></th>\n",
              "      <th>fullVisitorId</th>\n",
              "      <th>PredictedLogRevenue</th>\n",
              "    </tr>\n",
              "  </thead>\n",
              "  <tbody>\n",
              "    <tr>\n",
              "      <th>0</th>\n",
              "      <td>6533935296546803942</td>\n",
              "      <td>1.701716e+08</td>\n",
              "    </tr>\n",
              "    <tr>\n",
              "      <th>1</th>\n",
              "      <td>6915727589933825896</td>\n",
              "      <td>1.787653e+08</td>\n",
              "    </tr>\n",
              "    <tr>\n",
              "      <th>2</th>\n",
              "      <td>7026569611903775237</td>\n",
              "      <td>2.844919e+08</td>\n",
              "    </tr>\n",
              "    <tr>\n",
              "      <th>3</th>\n",
              "      <td>9086750370904150473</td>\n",
              "      <td>7.715089e+08</td>\n",
              "    </tr>\n",
              "    <tr>\n",
              "      <th>4</th>\n",
              "      <td>1517219381826577219</td>\n",
              "      <td>1.716856e+08</td>\n",
              "    </tr>\n",
              "    <tr>\n",
              "      <th>...</th>\n",
              "      <td>...</td>\n",
              "      <td>...</td>\n",
              "    </tr>\n",
              "    <tr>\n",
              "      <th>401584</th>\n",
              "      <td>6701149525099562370</td>\n",
              "      <td>0.000000e+00</td>\n",
              "    </tr>\n",
              "    <tr>\n",
              "      <th>401585</th>\n",
              "      <td>6154541330147351453</td>\n",
              "      <td>0.000000e+00</td>\n",
              "    </tr>\n",
              "    <tr>\n",
              "      <th>401586</th>\n",
              "      <td>6013469762773705448</td>\n",
              "      <td>0.000000e+00</td>\n",
              "    </tr>\n",
              "    <tr>\n",
              "      <th>401587</th>\n",
              "      <td>4565378823441900999</td>\n",
              "      <td>0.000000e+00</td>\n",
              "    </tr>\n",
              "    <tr>\n",
              "      <th>401588</th>\n",
              "      <td>3875690118293601911</td>\n",
              "      <td>0.000000e+00</td>\n",
              "    </tr>\n",
              "  </tbody>\n",
              "</table>\n",
              "<p>401589 rows × 2 columns</p>\n",
              "</div>"
            ],
            "text/plain": [
              "              fullVisitorId  PredictedLogRevenue\n",
              "0       6533935296546803942         1.701716e+08\n",
              "1       6915727589933825896         1.787653e+08\n",
              "2       7026569611903775237         2.844919e+08\n",
              "3       9086750370904150473         7.715089e+08\n",
              "4       1517219381826577219         1.716856e+08\n",
              "...                     ...                  ...\n",
              "401584  6701149525099562370         0.000000e+00\n",
              "401585  6154541330147351453         0.000000e+00\n",
              "401586  6013469762773705448         0.000000e+00\n",
              "401587  4565378823441900999         0.000000e+00\n",
              "401588  3875690118293601911         0.000000e+00\n",
              "\n",
              "[401589 rows x 2 columns]"
            ]
          },
          "metadata": {
            "tags": []
          },
          "execution_count": 110
        }
      ]
    },
    {
      "cell_type": "markdown",
      "metadata": {
        "id": "AOB1bxSAWjrT",
        "colab_type": "text"
      },
      "source": [
        "# build a submission file"
      ]
    },
    {
      "cell_type": "code",
      "metadata": {
        "colab_type": "code",
        "id": "f29arRtaOrmN",
        "colab": {}
      },
      "source": [
        "sub_Tot[\"PredictedLogRevenue\"] = np.expm1(sub_Tot[\"PredictedLogRevenue\"])\n",
        "sub_Tot = sub_Tot.groupby(\"fullVisitorId\")[\"PredictedLogRevenue\"].sum().reset_index()\n",
        "sub_Tot.columns = [\"fullVisitorId\", \"PredictedLogRevenue\"]\n",
        "sub_Tot[\"PredictedLogRevenue\"] = np.log1p(sub_Tot[\"PredictedLogRevenue\"])\n",
        "sub_Tot.to_csv(\"submission.csv\", index=False)"
      ],
      "execution_count": 0,
      "outputs": []
    },
    {
      "cell_type": "code",
      "metadata": {
        "id": "x2fm5Z_VQVmD",
        "colab_type": "code",
        "colab": {
          "base_uri": "https://localhost:8080/",
          "height": 34
        },
        "outputId": "29700a44-5da1-4f13-9306-8fbb95ae7b64"
      },
      "source": [
        "sub_Tot.shape"
      ],
      "execution_count": 113,
      "outputs": [
        {
          "output_type": "execute_result",
          "data": {
            "text/plain": [
              "(296530, 2)"
            ]
          },
          "metadata": {
            "tags": []
          },
          "execution_count": 113
        }
      ]
    },
    {
      "cell_type": "code",
      "metadata": {
        "id": "bsTzQJZqTQ-s",
        "colab_type": "code",
        "colab": {
          "base_uri": "https://localhost:8080/",
          "height": 419
        },
        "outputId": "43578c12-444b-4e0a-dccd-f615eab427b0"
      },
      "source": [
        "sub_Tot[sub_Tot['PredictedLogRevenue']==0]"
      ],
      "execution_count": 128,
      "outputs": [
        {
          "output_type": "execute_result",
          "data": {
            "text/html": [
              "<div>\n",
              "<style scoped>\n",
              "    .dataframe tbody tr th:only-of-type {\n",
              "        vertical-align: middle;\n",
              "    }\n",
              "\n",
              "    .dataframe tbody tr th {\n",
              "        vertical-align: top;\n",
              "    }\n",
              "\n",
              "    .dataframe thead th {\n",
              "        text-align: right;\n",
              "    }\n",
              "</style>\n",
              "<table border=\"1\" class=\"dataframe\">\n",
              "  <thead>\n",
              "    <tr style=\"text-align: right;\">\n",
              "      <th></th>\n",
              "      <th>fullVisitorId</th>\n",
              "      <th>PredictedLogRevenue</th>\n",
              "    </tr>\n",
              "  </thead>\n",
              "  <tbody>\n",
              "    <tr>\n",
              "      <th>0</th>\n",
              "      <td>0000018966949534117</td>\n",
              "      <td>0.0</td>\n",
              "    </tr>\n",
              "    <tr>\n",
              "      <th>1</th>\n",
              "      <td>0000039738481224681</td>\n",
              "      <td>0.0</td>\n",
              "    </tr>\n",
              "    <tr>\n",
              "      <th>2</th>\n",
              "      <td>0000073585230191399</td>\n",
              "      <td>0.0</td>\n",
              "    </tr>\n",
              "    <tr>\n",
              "      <th>3</th>\n",
              "      <td>0000087588448856385</td>\n",
              "      <td>0.0</td>\n",
              "    </tr>\n",
              "    <tr>\n",
              "      <th>4</th>\n",
              "      <td>0000149787903119437</td>\n",
              "      <td>0.0</td>\n",
              "    </tr>\n",
              "    <tr>\n",
              "      <th>...</th>\n",
              "      <td>...</td>\n",
              "      <td>...</td>\n",
              "    </tr>\n",
              "    <tr>\n",
              "      <th>296525</th>\n",
              "      <td>9999862054614696520</td>\n",
              "      <td>0.0</td>\n",
              "    </tr>\n",
              "    <tr>\n",
              "      <th>296526</th>\n",
              "      <td>9999898168621645223</td>\n",
              "      <td>0.0</td>\n",
              "    </tr>\n",
              "    <tr>\n",
              "      <th>296527</th>\n",
              "      <td>999990167740728398</td>\n",
              "      <td>0.0</td>\n",
              "    </tr>\n",
              "    <tr>\n",
              "      <th>296528</th>\n",
              "      <td>9999915620249883537</td>\n",
              "      <td>0.0</td>\n",
              "    </tr>\n",
              "    <tr>\n",
              "      <th>296529</th>\n",
              "      <td>9999947552481876143</td>\n",
              "      <td>0.0</td>\n",
              "    </tr>\n",
              "  </tbody>\n",
              "</table>\n",
              "<p>295985 rows × 2 columns</p>\n",
              "</div>"
            ],
            "text/plain": [
              "              fullVisitorId  PredictedLogRevenue\n",
              "0       0000018966949534117                  0.0\n",
              "1       0000039738481224681                  0.0\n",
              "2       0000073585230191399                  0.0\n",
              "3       0000087588448856385                  0.0\n",
              "4       0000149787903119437                  0.0\n",
              "...                     ...                  ...\n",
              "296525  9999862054614696520                  0.0\n",
              "296526  9999898168621645223                  0.0\n",
              "296527   999990167740728398                  0.0\n",
              "296528  9999915620249883537                  0.0\n",
              "296529  9999947552481876143                  0.0\n",
              "\n",
              "[295985 rows x 2 columns]"
            ]
          },
          "metadata": {
            "tags": []
          },
          "execution_count": 128
        }
      ]
    },
    {
      "cell_type": "code",
      "metadata": {
        "id": "LaoEumImH42t",
        "colab_type": "code",
        "colab": {}
      },
      "source": [
        "# options for balancing classes\n",
        "# - upsampling: resampling minority class until it is same quantity of majority class\n",
        "# - downsampling: removing samples (randomly) from majority class unitl quantity same as minority\n",
        "# - synthetic (smote): similar to upsampling, algorithmically create new minority samples\n",
        "\n",
        "# choose a better metric for inbalanced classes:\n",
        "# - f score\n",
        "\n",
        "# ensembling methods:\n",
        "# - classification model: make predictions about whether they made purchase (on test set)\n",
        "# - regression model: predicted on dataset with no zeros\n",
        "\n",
        "# options from there:\n",
        "#  - just use these predictions\n",
        "# - average out the results from regression model on all data and regression classification combo"
      ],
      "execution_count": 0,
      "outputs": []
    },
    {
      "cell_type": "code",
      "metadata": {
        "id": "3kZfqOv6LArM",
        "colab_type": "code",
        "colab": {}
      },
      "source": [
        "from sklearn.metrics import f1_score"
      ],
      "execution_count": 0,
      "outputs": []
    },
    {
      "cell_type": "markdown",
      "metadata": {
        "id": "VFLfI1k0LMBG",
        "colab_type": "text"
      },
      "source": [
        ""
      ]
    }
  ]
}