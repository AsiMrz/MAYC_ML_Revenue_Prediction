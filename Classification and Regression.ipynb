{
  "nbformat": 4,
  "nbformat_minor": 0,
  "metadata": {
    "kernelspec": {
      "display_name": "Python 3",
      "language": "python",
      "name": "python3"
    },
    "toc": {
      "base_numbering": 1,
      "nav_menu": {},
      "number_sections": true,
      "sideBar": true,
      "skip_h1_title": false,
      "title_cell": "Table of Contents",
      "title_sidebar": "Contents",
      "toc_cell": false,
      "toc_position": {},
      "toc_section_display": true,
      "toc_window_display": false
    },
    "colab": {
      "name": "ML_GACRP_PIPELINE.ipynb",
      "provenance": [],
      "toc_visible": true,
      "include_colab_link": true
    }
  },
  "cells": [
    {
      "cell_type": "markdown",
      "metadata": {
        "id": "view-in-github",
        "colab_type": "text"
      },
      "source": [
        "<a href=\"https://colab.research.google.com/github/yeialgov/MAYC_ML_Revenue_Prediction/blob/patch-1/Classification%20and%20Regression.ipynb\" target=\"_parent\"><img src=\"https://colab.research.google.com/assets/colab-badge.svg\" alt=\"Open In Colab\"/></a>"
      ]
    },
    {
      "cell_type": "code",
      "metadata": {
        "id": "Q7NUxl3iMn1H",
        "colab_type": "code",
        "colab": {}
      },
      "source": [
        "# download the libraries\n",
        "import pandas as pd\n",
        "from pandas import Series,DataFrame\n",
        "import warnings\n",
        "from copy import deepcopy\n",
        "import os\n",
        "warnings.filterwarnings('ignore')\n",
        "import numpy as np\n",
        "import matplotlib.pyplot as plt\n",
        "import seaborn as sns\n",
        "from datetime import datetime\n",
        "from sklearn.preprocessing import LabelEncoder\n",
        "import random\n",
        "%matplotlib inline"
      ],
      "execution_count": 0,
      "outputs": []
    },
    {
      "cell_type": "code",
      "metadata": {
        "id": "ARFvfk1yzZkv",
        "colab_type": "code",
        "colab": {}
      },
      "source": [
        "from sklearn.preprocessing import LabelEncoder"
      ],
      "execution_count": 0,
      "outputs": []
    },
    {
      "cell_type": "markdown",
      "metadata": {
        "id": "C_rtWx5Y7qVw",
        "colab_type": "text"
      },
      "source": [
        "# Getting the data"
      ]
    },
    {
      "cell_type": "code",
      "metadata": {
        "id": "odFQDYPTNLMc",
        "colab_type": "code",
        "outputId": "1872d963-d4c4-4027-d0af-e44229a700a3",
        "colab": {
          "base_uri": "https://localhost:8080/",
          "height": 122
        }
      },
      "source": [
        "from google.colab import drive\n",
        "drive.mount('/content/gdrive')"
      ],
      "execution_count": 4,
      "outputs": [
        {
          "output_type": "stream",
          "text": [
            "Go to this URL in a browser: https://accounts.google.com/o/oauth2/auth?client_id=947318989803-6bn6qk8qdgf4n4g3pfee6491hc0brc4i.apps.googleusercontent.com&redirect_uri=urn%3aietf%3awg%3aoauth%3a2.0%3aoob&response_type=code&scope=email%20https%3a%2f%2fwww.googleapis.com%2fauth%2fdocs.test%20https%3a%2f%2fwww.googleapis.com%2fauth%2fdrive%20https%3a%2f%2fwww.googleapis.com%2fauth%2fdrive.photos.readonly%20https%3a%2f%2fwww.googleapis.com%2fauth%2fpeopleapi.readonly\n",
            "\n",
            "Enter your authorization code:\n",
            "··········\n",
            "Mounted at /content/gdrive\n"
          ],
          "name": "stdout"
        }
      ]
    },
    {
      "cell_type": "code",
      "metadata": {
        "id": "1meGr2fGNX0J",
        "colab_type": "code",
        "outputId": "c88c0b79-e0c3-49e0-b487-707dc7495558",
        "colab": {
          "base_uri": "https://localhost:8080/",
          "height": 34
        }
      },
      "source": [
        "cd '/content/gdrive/My Drive/ReDi_DA_Project/Datasets_Clean/'"
      ],
      "execution_count": 5,
      "outputs": [
        {
          "output_type": "stream",
          "text": [
            "/content/gdrive/My Drive/ReDi_DA_Project/Datasets_Clean\n"
          ],
          "name": "stdout"
        }
      ]
    },
    {
      "cell_type": "code",
      "metadata": {
        "id": "bpHQzAS3uTLQ",
        "colab_type": "code",
        "colab": {}
      },
      "source": [
        "all_data = pd.read_csv('all_data.csv')\n"
      ],
      "execution_count": 0,
      "outputs": []
    },
    {
      "cell_type": "code",
      "metadata": {
        "id": "TdBiwu7sMn4o",
        "colab_type": "code",
        "outputId": "878ca56f-7ad8-4b0d-d7b8-a50df8f6cfa3",
        "colab": {
          "base_uri": "https://localhost:8080/",
          "height": 34
        }
      },
      "source": [
        "all_data.isnull().sum().sum()"
      ],
      "execution_count": 55,
      "outputs": [
        {
          "output_type": "execute_result",
          "data": {
            "text/plain": [
              "0"
            ]
          },
          "metadata": {
            "tags": []
          },
          "execution_count": 55
        }
      ]
    },
    {
      "cell_type": "code",
      "metadata": {
        "id": "L3uwVOjkSDK_",
        "colab_type": "code",
        "outputId": "4251f02c-a325-4b55-c522-cfbb218d654f",
        "colab": {
          "base_uri": "https://localhost:8080/",
          "height": 697
        }
      },
      "source": [
        "all_data.info()"
      ],
      "execution_count": 8,
      "outputs": [
        {
          "output_type": "stream",
          "text": [
            "<class 'pandas.core.frame.DataFrame'>\n",
            "RangeIndex: 2109926 entries, 0 to 2109925\n",
            "Data columns (total 33 columns):\n",
            " #   Column                                        Dtype  \n",
            "---  ------                                        -----  \n",
            " 0   geoNetwork.subContinent                       object \n",
            " 1   customDimension.value                         object \n",
            " 2   totals.transactionRevenue                     float64\n",
            " 3   fullVisitorId                                 object \n",
            " 4   totals.bounces                                int64  \n",
            " 5   geoNetwork.region                             object \n",
            " 6   date                                          object \n",
            " 7   visitStartTime                                int64  \n",
            " 8   totals.sessionQualityDim                      int64  \n",
            " 9   trafficSource.adwordsClickInfo.isVideoAd      bool   \n",
            " 10  totals.timeOnSite                             int64  \n",
            " 11  device.deviceCategory                         object \n",
            " 12  geoNetwork.city                               object \n",
            " 13  trafficSource.source                          object \n",
            " 14  device.operatingSystem                        object \n",
            " 15  totals.transactions                           int64  \n",
            " 16  visitNumber                                   int64  \n",
            " 17  geoNetwork.metro                              object \n",
            " 18  totals.hits                                   float64\n",
            " 19  totals.newVisits                              int64  \n",
            " 20  trafficSource.isTrueDirect                    bool   \n",
            " 21  trafficSource.adwordsClickInfo.adNetworkType  object \n",
            " 22  trafficSource.medium                          object \n",
            " 23  totals.totalTransactionRevenue                float64\n",
            " 24  channelGrouping                               object \n",
            " 25  device.isMobile                               bool   \n",
            " 26  geoNetwork.continent                          object \n",
            " 27  geoNetwork.country                            object \n",
            " 28  visitId                                       int64  \n",
            " 29  device.browser                                object \n",
            " 30  dataset                                       object \n",
            " 31  geoNetwork.networkDomain                      object \n",
            " 32  totals.pageviews                              int64  \n",
            "dtypes: bool(3), float64(3), int64(9), object(18)\n",
            "memory usage: 489.0+ MB\n"
          ],
          "name": "stdout"
        }
      ]
    },
    {
      "cell_type": "code",
      "metadata": {
        "id": "RZHqyCiEMn5E",
        "colab_type": "code",
        "colab": {}
      },
      "source": [
        "'''\n",
        "columns to hotcode\n",
        "\n",
        "channelGrouping                               object  unique values:  8\n",
        "date                                          int64  - convert to date time\n",
        "fullVisitorId                                 object - organisers insist to be left as str\n",
        "device.browser                                object - unique values:  129\n",
        "device.operatingSystem                        object - unique values:  24\n",
        "device.isMobile                               bool   - unique values:  2\n",
        "device.deviceCategory                         object - unique values:  3\n",
        "geoNetwork.continent                          object - unique values:  6\n",
        "geoNetwork.subContinent                       object - unique values:  23\n",
        "geoNetwork.country                            object - unique values:  228\n",
        "geoNetwork.region                             object - unique values:  284\n",
        "geoNetwork.metro                              object - unique values:  123\n",
        "geoNetwork.city                               object - unique values:  956\n",
        "geoNetwork.networkDomain                      object - unique values:  41982\n",
        "totals.sessionQualityDim                      object - convert to interger\n",
        "totals.timeOnSite                             object - convert to interger\n",
        "trafficSource.source                          object - unique values:  345\n",
        "trafficSource.medium                          object - unique values:  7\n",
        "trafficSource.isTrueDirect                    bool   - unique values:  2 \n",
        "trafficSource.adwordsClickInfo.adNetworkType  object - unique values:  3\n",
        "trafficSource.adwordsClickInfo.isVideoAd      bool   - unique values:  2 \n",
        "customDimension.value                         object - unique values:  5\n",
        "'''"
      ],
      "execution_count": 0,
      "outputs": []
    },
    {
      "cell_type": "markdown",
      "metadata": {
        "id": "IX-_z2KKTzdX",
        "colab_type": "text"
      },
      "source": [
        "# Model to search the visitors who made transactions"
      ]
    },
    {
      "cell_type": "markdown",
      "metadata": {
        "id": "hkfsY1lCndsI",
        "colab_type": "text"
      },
      "source": [
        "## Function to define Target Column"
      ]
    },
    {
      "cell_type": "code",
      "metadata": {
        "id": "ZvuMz0A4Vaa_",
        "colab_type": "code",
        "colab": {}
      },
      "source": [
        "def is_transaction(n):\n",
        "  if n == 0    :    return 0\n",
        "  else         :    return 1\n",
        "\n",
        "all_data['is_transaction']=all_data['totals.transactions'].apply(is_transaction)"
      ],
      "execution_count": 0,
      "outputs": []
    },
    {
      "cell_type": "code",
      "metadata": {
        "id": "eS1z0ILdXM2m",
        "colab_type": "code",
        "outputId": "3623c6a4-d690-4701-96d5-49190ad63395",
        "colab": {
          "base_uri": "https://localhost:8080/",
          "height": 68
        }
      },
      "source": [
        "all_data['is_transaction'].value_counts()"
      ],
      "execution_count": 89,
      "outputs": [
        {
          "output_type": "execute_result",
          "data": {
            "text/plain": [
              "0    2085062\n",
              "1      24864\n",
              "Name: is_transaction, dtype: int64"
            ]
          },
          "metadata": {
            "tags": []
          },
          "execution_count": 89
        }
      ]
    },
    {
      "cell_type": "markdown",
      "metadata": {
        "id": "P8-K3JmAoLzB",
        "colab_type": "text"
      },
      "source": [
        "## Encoding Categorical Values"
      ]
    },
    {
      "cell_type": "code",
      "metadata": {
        "id": "iEYlXnzRPzJ-",
        "colab_type": "code",
        "colab": {}
      },
      "source": [
        "TARGET = 'is_transaction'\n",
        "CAT_COLS = all_data.columns[all_data.dtypes == object].tolist()\n",
        "CONT_COLS = [c for c in all_data.columns if c not in CAT_COLS and c != TARGET]\n"
      ],
      "execution_count": 0,
      "outputs": []
    },
    {
      "cell_type": "code",
      "metadata": {
        "id": "TGhChyUCvssN",
        "colab_type": "code",
        "colab": {}
      },
      "source": [
        "CAT_COLS.remove('date')\n",
        "CAT_COLS.remove('fullVisitorId')\n",
        "CAT_COLS"
      ],
      "execution_count": 0,
      "outputs": []
    },
    {
      "cell_type": "code",
      "metadata": {
        "id": "9Qh6ZwLQgG8B",
        "colab_type": "code",
        "colab": {
          "base_uri": "https://localhost:8080/",
          "height": 255
        },
        "outputId": "992fa8cc-0e04-4c55-ade1-b4f68892a052"
      },
      "source": [
        "CONT_COLS.remove('totals.transactions')\n",
        "CONT_COLS.remove('totals.transactionRevenue')\n",
        "CONT_COLS.remove('totals.totalTransactionRevenue')\n",
        "CONT_COLS"
      ],
      "execution_count": 25,
      "outputs": [
        {
          "output_type": "execute_result",
          "data": {
            "text/plain": [
              "['geoNetwork.subContinent',\n",
              " 'customDimension.value',\n",
              " 'totals.bounces',\n",
              " 'visitStartTime',\n",
              " 'totals.sessionQualityDim',\n",
              " 'trafficSource.adwordsClickInfo.isVideoAd',\n",
              " 'totals.timeOnSite',\n",
              " 'visitNumber',\n",
              " 'totals.hits',\n",
              " 'totals.newVisits',\n",
              " 'trafficSource.isTrueDirect',\n",
              " 'device.isMobile',\n",
              " 'visitId',\n",
              " 'totals.pageviews']"
            ]
          },
          "metadata": {
            "tags": []
          },
          "execution_count": 25
        }
      ]
    },
    {
      "cell_type": "code",
      "metadata": {
        "id": "nFiAD5oqgUkz",
        "colab_type": "code",
        "outputId": "bd5a81a0-e235-42e3-f418-83d3c3c053ba",
        "colab": {
          "base_uri": "https://localhost:8080/",
          "height": 391
        }
      },
      "source": [
        "M1_data = deepcopy(all_data[CAT_COLS + CONT_COLS + [TARGET]])\n",
        "\n",
        "M1_data[CAT_COLS].info()"
      ],
      "execution_count": 34,
      "outputs": [
        {
          "output_type": "stream",
          "text": [
            "<class 'pandas.core.frame.DataFrame'>\n",
            "RangeIndex: 2109926 entries, 0 to 2109925\n",
            "Data columns (total 15 columns):\n",
            " #   Column                                        Dtype \n",
            "---  ------                                        ----- \n",
            " 0   fullVisitorId                                 object\n",
            " 1   geoNetwork.region                             object\n",
            " 2   device.deviceCategory                         object\n",
            " 3   geoNetwork.city                               object\n",
            " 4   trafficSource.source                          object\n",
            " 5   device.operatingSystem                        object\n",
            " 6   geoNetwork.metro                              object\n",
            " 7   trafficSource.adwordsClickInfo.adNetworkType  object\n",
            " 8   trafficSource.medium                          object\n",
            " 9   channelGrouping                               object\n",
            " 10  geoNetwork.continent                          object\n",
            " 11  geoNetwork.country                            object\n",
            " 12  device.browser                                object\n",
            " 13  dataset                                       object\n",
            " 14  geoNetwork.networkDomain                      object\n",
            "dtypes: object(15)\n",
            "memory usage: 241.5+ MB\n"
          ],
          "name": "stdout"
        }
      ]
    },
    {
      "cell_type": "code",
      "metadata": {
        "id": "sWWEfZa_Mn58",
        "colab_type": "code",
        "colab": {}
      },
      "source": [
        "leb = LabelEncoder()\n",
        "for col in CAT_COLS:\n",
        "    M1_data[col] = leb.fit_transform(M1_data[col])"
      ],
      "execution_count": 0,
      "outputs": []
    },
    {
      "cell_type": "code",
      "metadata": {
        "id": "Rl78q2YZRIHy",
        "colab_type": "code",
        "colab": {
          "base_uri": "https://localhost:8080/",
          "height": 34
        },
        "outputId": "029ce4f4-bdee-4b66-dc5c-d835309e7053"
      },
      "source": [
        "M1_data.shape"
      ],
      "execution_count": 80,
      "outputs": [
        {
          "output_type": "execute_result",
          "data": {
            "text/plain": [
              "(2109926, 30)"
            ]
          },
          "metadata": {
            "tags": []
          },
          "execution_count": 80
        }
      ]
    },
    {
      "cell_type": "markdown",
      "metadata": {
        "id": "2vNmbVBGn3rO",
        "colab_type": "text"
      },
      "source": [
        "## Split Train and Test"
      ]
    },
    {
      "cell_type": "code",
      "metadata": {
        "id": "pLdu3ej6Mn6E",
        "colab_type": "code",
        "outputId": "be366af6-67db-4601-c13f-f169aa1c95ca",
        "colab": {
          "base_uri": "https://localhost:8080/",
          "height": 68
        }
      },
      "source": [
        "M1_data['dataset'].value_counts()"
      ],
      "execution_count": 41,
      "outputs": [
        {
          "output_type": "execute_result",
          "data": {
            "text/plain": [
              "1    1708337\n",
              "0     401589\n",
              "Name: dataset, dtype: int64"
            ]
          },
          "metadata": {
            "tags": []
          },
          "execution_count": 41
        }
      ]
    },
    {
      "cell_type": "code",
      "metadata": {
        "id": "l639Tc9E-eDh",
        "colab_type": "code",
        "colab": {}
      },
      "source": [
        "train = M1_data[M1_data['dataset']==1]\n",
        "test = M1_data[M1_data['dataset']==0]\n",
        "train.drop('dataset',axis=1,inplace=True)\n",
        "test.drop('dataset',axis=1, inplace=True)"
      ],
      "execution_count": 0,
      "outputs": []
    },
    {
      "cell_type": "code",
      "metadata": {
        "id": "HWtn8jIC46q0",
        "colab_type": "code",
        "colab": {}
      },
      "source": [
        "CAT_COLS.remove('dataset')"
      ],
      "execution_count": 0,
      "outputs": []
    },
    {
      "cell_type": "code",
      "metadata": {
        "id": "Q-nPE_jO3f8f",
        "colab_type": "code",
        "colab": {
          "base_uri": "https://localhost:8080/",
          "height": 34
        },
        "outputId": "ef10f1ed-a0e4-4055-9665-1c497399002c"
      },
      "source": [
        "train.shape, test.shape"
      ],
      "execution_count": 47,
      "outputs": [
        {
          "output_type": "execute_result",
          "data": {
            "text/plain": [
              "((1708337, 29), (401589, 29))"
            ]
          },
          "metadata": {
            "tags": []
          },
          "execution_count": 47
        }
      ]
    },
    {
      "cell_type": "markdown",
      "metadata": {
        "id": "uy2r19xmnNnU",
        "colab_type": "text"
      },
      "source": [
        "## Model"
      ]
    },
    {
      "cell_type": "code",
      "metadata": {
        "id": "caB2qeZSMn6N",
        "colab_type": "code",
        "colab": {}
      },
      "source": [
        "\n",
        "from sklearn.model_selection import train_test_split\n",
        "from sklearn.ensemble import RandomForestRegressor\n",
        "from sklearn.ensemble import RandomForestClassifier, GradientBoostingClassifier\n",
        "from sklearn.metrics import accuracy_score as accuracy\n",
        "from sklearn.metrics import r2_score as r2\n",
        "from sklearn.metrics import mean_squared_error as mse\n",
        "from sklearn.metrics import mean_absolute_error as mae\n",
        "rmse = lambda true, pred: mse(true, pred) ** 0.5"
      ],
      "execution_count": 0,
      "outputs": []
    },
    {
      "cell_type": "code",
      "metadata": {
        "id": "6OeFnTYlfRou",
        "colab_type": "code",
        "colab": {}
      },
      "source": [
        "x_train = train[CAT_COLS + CONT_COLS]\n",
        "x_test = test[CAT_COLS + CONT_COLS]\n",
        "y_train = train[[TARGET]]\n",
        "y_test = test[[TARGET]]"
      ],
      "execution_count": 0,
      "outputs": []
    },
    {
      "cell_type": "code",
      "metadata": {
        "id": "jipCBJ2-CvHo",
        "colab_type": "code",
        "outputId": "7c0755bb-1d4c-4cdb-adee-542b880a6ea2",
        "colab": {
          "base_uri": "https://localhost:8080/",
          "height": 34
        }
      },
      "source": [
        "x_train.shape, x_test.shape, y_train.shape, y_test.shape"
      ],
      "execution_count": 49,
      "outputs": [
        {
          "output_type": "execute_result",
          "data": {
            "text/plain": [
              "((1708337, 27), (401589, 27), (1708337, 1), (401589, 1))"
            ]
          },
          "metadata": {
            "tags": []
          },
          "execution_count": 49
        }
      ]
    },
    {
      "cell_type": "code",
      "metadata": {
        "id": "JEeG3gCSMn6l",
        "colab_type": "code",
        "colab": {}
      },
      "source": [
        "model = RandomForestClassifier( \n",
        "    n_estimators=50, # Hyperparameter 1\n",
        "    max_depth=2,      # Hyperparameter 2\n",
        "    random_state=0\n",
        ")"
      ],
      "execution_count": 0,
      "outputs": []
    },
    {
      "cell_type": "code",
      "metadata": {
        "id": "1upqCb_YDz3S",
        "colab_type": "code",
        "colab": {}
      },
      "source": [
        "trained_model = model.fit(x_train, y_train)"
      ],
      "execution_count": 0,
      "outputs": []
    },
    {
      "cell_type": "code",
      "metadata": {
        "id": "azVfGsAvElRD",
        "colab_type": "code",
        "colab": {}
      },
      "source": [
        "def get_error(pred, true):\n",
        "    print(f'RMSE:       {rmse(true, pred)}')\n",
        "    print(f'MAE:        {mae(true, pred)}')\n",
        "    print(f'r2:         {r2(true, pred)}')\n",
        "    print(f'accuracy:   {accuracy(true, pred)}')"
      ],
      "execution_count": 0,
      "outputs": []
    },
    {
      "cell_type": "code",
      "metadata": {
        "id": "V3ljtR_BFD0m",
        "colab_type": "code",
        "outputId": "1d53439d-b854-484c-95da-61d766472ea5",
        "colab": {
          "base_uri": "https://localhost:8080/",
          "height": 85
        }
      },
      "source": [
        "get_error(pred = trained_model.predict(x_test),\n",
        "          true = y_test)"
      ],
      "execution_count": 56,
      "outputs": [
        {
          "output_type": "stream",
          "text": [
            "RMSE:       0.12530016451982023\n",
            "MAE:        0.015700131228694014\n",
            "r2:         -0.015950557067829774\n",
            "accuracy:   0.984299868771306\n"
          ],
          "name": "stdout"
        }
      ]
    },
    {
      "cell_type": "markdown",
      "metadata": {
        "id": "P8S-dtAUJV3b",
        "colab_type": "text"
      },
      "source": [
        "# Model to calculate transaction Revenue"
      ]
    },
    {
      "cell_type": "markdown",
      "metadata": {
        "id": "O19cIcK6WKm2",
        "colab_type": "text"
      },
      "source": [
        "## Encoding Categorical Values - M2"
      ]
    },
    {
      "cell_type": "code",
      "metadata": {
        "id": "JcA3fwPCXkxi",
        "colab_type": "code",
        "colab": {
          "base_uri": "https://localhost:8080/",
          "height": 221
        },
        "outputId": "cb244180-75ee-41e9-be51-c22f2c608012"
      },
      "source": [
        "all_data['is_transaction']"
      ],
      "execution_count": 90,
      "outputs": [
        {
          "output_type": "execute_result",
          "data": {
            "text/plain": [
              "0          0\n",
              "1          0\n",
              "2          0\n",
              "3          0\n",
              "4          0\n",
              "          ..\n",
              "2109921    0\n",
              "2109922    0\n",
              "2109923    0\n",
              "2109924    0\n",
              "2109925    0\n",
              "Name: is_transaction, Length: 2109926, dtype: int64"
            ]
          },
          "metadata": {
            "tags": []
          },
          "execution_count": 90
        }
      ]
    },
    {
      "cell_type": "code",
      "metadata": {
        "colab_type": "code",
        "id": "mx-MBMOwK8Vz",
        "colab": {}
      },
      "source": [
        "TARGET_M2 = 'totals.totalTransactionRevenue'\n",
        "CAT_COLS_M2 = all_data.columns[all_data.dtypes == object].tolist()\n",
        "CONT_COLS_M2 = [c for c in all_data.columns if c not in CAT_COLS_M2 and c != TARGET_M2]\n"
      ],
      "execution_count": 0,
      "outputs": []
    },
    {
      "cell_type": "code",
      "metadata": {
        "colab_type": "code",
        "id": "8-ub0nhQK8WV",
        "colab": {
          "base_uri": "https://localhost:8080/",
          "height": 289
        },
        "outputId": "9fbc02e0-b71c-4b20-a5dc-a08a654ef0ef"
      },
      "source": [
        "CAT_COLS_M2.remove('date')\n",
        "CAT_COLS_M2.remove('fullVisitorId')\n",
        "CAT_COLS_M2"
      ],
      "execution_count": 92,
      "outputs": [
        {
          "output_type": "execute_result",
          "data": {
            "text/plain": [
              "['geoNetwork.subContinent',\n",
              " 'customDimension.value',\n",
              " 'geoNetwork.region',\n",
              " 'device.deviceCategory',\n",
              " 'geoNetwork.city',\n",
              " 'trafficSource.source',\n",
              " 'device.operatingSystem',\n",
              " 'geoNetwork.metro',\n",
              " 'trafficSource.adwordsClickInfo.adNetworkType',\n",
              " 'trafficSource.medium',\n",
              " 'channelGrouping',\n",
              " 'geoNetwork.continent',\n",
              " 'geoNetwork.country',\n",
              " 'device.browser',\n",
              " 'dataset',\n",
              " 'geoNetwork.networkDomain']"
            ]
          },
          "metadata": {
            "tags": []
          },
          "execution_count": 92
        }
      ]
    },
    {
      "cell_type": "code",
      "metadata": {
        "colab_type": "code",
        "outputId": "240199a6-105a-46d4-ee1d-87aacf3b8ddb",
        "id": "IFNsMWXCK8We",
        "colab": {
          "base_uri": "https://localhost:8080/",
          "height": 272
        }
      },
      "source": [
        "#CONT_COLS.remove('totals.transactions')\n",
        "#CONT_COLS.remove('totals.transactionRevenue')\n",
        "#CONT_COLS.remove('totals.totalTransactionRevenue')\n",
        "CONT_COLS_M2"
      ],
      "execution_count": 93,
      "outputs": [
        {
          "output_type": "execute_result",
          "data": {
            "text/plain": [
              "['totals.transactionRevenue',\n",
              " 'totals.bounces',\n",
              " 'visitStartTime',\n",
              " 'totals.sessionQualityDim',\n",
              " 'trafficSource.adwordsClickInfo.isVideoAd',\n",
              " 'totals.timeOnSite',\n",
              " 'totals.transactions',\n",
              " 'visitNumber',\n",
              " 'totals.hits',\n",
              " 'totals.newVisits',\n",
              " 'trafficSource.isTrueDirect',\n",
              " 'device.isMobile',\n",
              " 'visitId',\n",
              " 'totals.pageviews',\n",
              " 'is_transaction']"
            ]
          },
          "metadata": {
            "tags": []
          },
          "execution_count": 93
        }
      ]
    },
    {
      "cell_type": "code",
      "metadata": {
        "id": "XbI-eThkJkAI",
        "colab_type": "code",
        "colab": {
          "base_uri": "https://localhost:8080/",
          "height": 34
        },
        "outputId": "52af2583-0a77-4fb2-9bb4-1fb609222d2b"
      },
      "source": [
        "M2_data = deepcopy(all_data[CAT_COLS_M2 + CONT_COLS_M2 + [TARGET_M2]])\n",
        "\n",
        "M2_data.shape"
      ],
      "execution_count": 94,
      "outputs": [
        {
          "output_type": "execute_result",
          "data": {
            "text/plain": [
              "(2109926, 32)"
            ]
          },
          "metadata": {
            "tags": []
          },
          "execution_count": 94
        }
      ]
    },
    {
      "cell_type": "code",
      "metadata": {
        "colab_type": "code",
        "id": "p028rr4dK8Wx",
        "colab": {}
      },
      "source": [
        "leb = LabelEncoder()\n",
        "for col in CAT_COLS_M2:\n",
        "    M2_data[col] = leb.fit_transform(M2_data[col])"
      ],
      "execution_count": 0,
      "outputs": []
    },
    {
      "cell_type": "markdown",
      "metadata": {
        "id": "uZdB5mI6T11X",
        "colab_type": "text"
      },
      "source": [
        "## Split Train and Test - M2"
      ]
    },
    {
      "cell_type": "code",
      "metadata": {
        "colab_type": "code",
        "outputId": "cfc38ce3-bcb4-4fad-d596-f7cd4ab8b638",
        "id": "dMqFbkUDT8M2",
        "colab": {
          "base_uri": "https://localhost:8080/",
          "height": 68
        }
      },
      "source": [
        "M2_data['dataset'].value_counts()"
      ],
      "execution_count": 96,
      "outputs": [
        {
          "output_type": "execute_result",
          "data": {
            "text/plain": [
              "1    1708337\n",
              "0     401589\n",
              "Name: dataset, dtype: int64"
            ]
          },
          "metadata": {
            "tags": []
          },
          "execution_count": 96
        }
      ]
    },
    {
      "cell_type": "code",
      "metadata": {
        "colab_type": "code",
        "id": "sqzEJHEzT8NF",
        "colab": {}
      },
      "source": [
        "train_M2 = M2_data[M2_data['dataset']==1]\n",
        "test_M2 = M2_data[M2_data['dataset']==0]\n",
        "train_M2.drop('dataset',axis=1,inplace=True)\n",
        "test_M2.drop('dataset',axis=1, inplace=True)"
      ],
      "execution_count": 0,
      "outputs": []
    },
    {
      "cell_type": "code",
      "metadata": {
        "colab_type": "code",
        "id": "MtXR7NP5T8NN",
        "colab": {}
      },
      "source": [
        "CAT_COLS_M2.remove('dataset')"
      ],
      "execution_count": 0,
      "outputs": []
    },
    {
      "cell_type": "code",
      "metadata": {
        "colab_type": "code",
        "outputId": "7eff92ae-d8d8-4c27-f0ee-b6ec8569f3ec",
        "id": "kHlLMr-gT8NU",
        "colab": {
          "base_uri": "https://localhost:8080/",
          "height": 34
        }
      },
      "source": [
        "train_M2.shape, test_M2.shape"
      ],
      "execution_count": 99,
      "outputs": [
        {
          "output_type": "execute_result",
          "data": {
            "text/plain": [
              "((1708337, 31), (401589, 31))"
            ]
          },
          "metadata": {
            "tags": []
          },
          "execution_count": 99
        }
      ]
    },
    {
      "cell_type": "markdown",
      "metadata": {
        "id": "rmdBCA8rUpPV",
        "colab_type": "text"
      },
      "source": [
        "But the training of the transaction revenue is made just with the data from visitors that made at least one transaction"
      ]
    },
    {
      "cell_type": "code",
      "metadata": {
        "colab_type": "code",
        "id": "2df3AG5IYyo8",
        "colab": {}
      },
      "source": [
        "T_train_M2 = train_M2[train_M2['is_transaction']==1]\n",
        "T_test_M2 = test_M2[test_M2['is_transaction']==1]\n",
        "T_train_M2.drop('is_transaction',axis=1,inplace=True)\n",
        "T_test_M2.drop('is_transaction',axis=1, inplace=True)"
      ],
      "execution_count": 0,
      "outputs": []
    },
    {
      "cell_type": "code",
      "metadata": {
        "id": "KRSTz9I1bh7m",
        "colab_type": "code",
        "colab": {}
      },
      "source": [
        "CONT_COLS_M2.remove('is_transaction')"
      ],
      "execution_count": 0,
      "outputs": []
    },
    {
      "cell_type": "code",
      "metadata": {
        "id": "zBZi3V3IYyVh",
        "colab_type": "code",
        "colab": {
          "base_uri": "https://localhost:8080/",
          "height": 34
        },
        "outputId": "71811d8d-4a4d-4dfb-c2e1-b085346acfb7"
      },
      "source": [
        "T_train_M2.shape, T_test_M2.shape"
      ],
      "execution_count": 101,
      "outputs": [
        {
          "output_type": "execute_result",
          "data": {
            "text/plain": [
              "((18559, 30), (6305, 30))"
            ]
          },
          "metadata": {
            "tags": []
          },
          "execution_count": 101
        }
      ]
    },
    {
      "cell_type": "markdown",
      "metadata": {
        "id": "6RJh7DvMaaR3",
        "colab_type": "text"
      },
      "source": [
        "## Model - M2"
      ]
    },
    {
      "cell_type": "code",
      "metadata": {
        "colab_type": "code",
        "id": "Y_iFI2-MaeG5",
        "colab": {}
      },
      "source": [
        "x_train_M2 = T_train_M2[CAT_COLS_M2 + CONT_COLS_M2]\n",
        "x_test_M2 = T_test_M2[CAT_COLS_M2 + CONT_COLS_M2]\n",
        "y_train_M2 = T_train_M2[[TARGET_M2]]\n",
        "y_test_M2 = T_test_M2[[TARGET_M2]]"
      ],
      "execution_count": 0,
      "outputs": []
    },
    {
      "cell_type": "code",
      "metadata": {
        "colab_type": "code",
        "outputId": "e3984e93-8922-498b-d631-bf70595a47d6",
        "id": "8ux3VUjAaeHL",
        "colab": {
          "base_uri": "https://localhost:8080/",
          "height": 34
        }
      },
      "source": [
        "x_train_M2.shape, x_test_M2.shape, y_train_M2.shape, y_test_M2.shape"
      ],
      "execution_count": 105,
      "outputs": [
        {
          "output_type": "execute_result",
          "data": {
            "text/plain": [
              "((18559, 29), (6305, 29), (18559, 1), (6305, 1))"
            ]
          },
          "metadata": {
            "tags": []
          },
          "execution_count": 105
        }
      ]
    },
    {
      "cell_type": "code",
      "metadata": {
        "colab_type": "code",
        "id": "tgzCAmIgaeHU",
        "colab": {}
      },
      "source": [
        "model_M2 = RandomForestRegressor( \n",
        "    n_estimators=50, # Hyperparameter 1\n",
        "    max_depth=2,      # Hyperparameter 2\n",
        "    random_state=0\n",
        ")"
      ],
      "execution_count": 0,
      "outputs": []
    },
    {
      "cell_type": "code",
      "metadata": {
        "colab_type": "code",
        "id": "sgvenKaoaeHc",
        "colab": {}
      },
      "source": [
        "trained_model_M2 = model_M2.fit(x_train_M2, y_train_M2)"
      ],
      "execution_count": 0,
      "outputs": []
    },
    {
      "cell_type": "code",
      "metadata": {
        "id": "EPg2IvWTc4TM",
        "colab_type": "code",
        "colab": {}
      },
      "source": [
        "def get_error_regression(pred, true):\n",
        "    print(f'RMSE:       {rmse(true, pred)}')\n",
        "    print(f'MAE:        {mae(true, pred)}')\n",
        "    print(f'r2:         {r2(true, pred)}')"
      ],
      "execution_count": 0,
      "outputs": []
    },
    {
      "cell_type": "code",
      "metadata": {
        "colab_type": "code",
        "outputId": "7892b07b-2c9f-4491-8bef-392c709cd602",
        "id": "ug6PJQ4QaeHq",
        "colab": {
          "base_uri": "https://localhost:8080/",
          "height": 68
        }
      },
      "source": [
        "get_error_regression(pred = trained_model_M2.predict(x_test_M2),\n",
        "          true = y_test_M2)"
      ],
      "execution_count": 111,
      "outputs": [
        {
          "output_type": "stream",
          "text": [
            "RMSE:       173396295.01979896\n",
            "MAE:        87426318.10021143\n",
            "r2:         0.8900789866367204\n"
          ],
          "name": "stdout"
        }
      ]
    }
  ]
}