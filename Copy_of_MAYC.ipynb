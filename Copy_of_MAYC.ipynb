{
  "nbformat": 4,
  "nbformat_minor": 0,
  "metadata": {
    "colab": {
      "name": "Copy of MAYC.ipynb",
      "provenance": [],
      "collapsed_sections": [],
      "include_colab_link": true
    },
    "kernelspec": {
      "name": "python3",
      "display_name": "Python 3"
    }
  },
  "cells": [
    {
      "cell_type": "markdown",
      "metadata": {
        "id": "view-in-github",
        "colab_type": "text"
      },
      "source": [
        "<a href=\"https://colab.research.google.com/github/AsiMrz/MAYC_ML_Revenue_Prediction/blob/EDA/Copy_of_MAYC.ipynb\" target=\"_parent\"><img src=\"https://colab.research.google.com/assets/colab-badge.svg\" alt=\"Open In Colab\"/></a>"
      ]
    },
    {
      "cell_type": "markdown",
      "metadata": {
        "id": "aMJBVgfZE2C2",
        "colab_type": "text"
      },
      "source": [
        "### Importing kaggle data "
      ]
    },
    {
      "cell_type": "code",
      "metadata": {
        "id": "cXKq7JcL7z1T",
        "colab_type": "code",
        "outputId": "e6066f82-bdd2-4539-efbc-420a87431bf1",
        "colab": {
          "base_uri": "https://localhost:8080/",
          "height": 122
        }
      },
      "source": [
        "#Mount the Google Drive to Google Colab\n",
        "#1. get the library\n",
        "from google.colab import drive\n",
        "drive.mount('/content/gdrive')"
      ],
      "execution_count": 0,
      "outputs": [
        {
          "output_type": "stream",
          "text": [
            "Go to this URL in a browser: https://accounts.google.com/o/oauth2/auth?client_id=947318989803-6bn6qk8qdgf4n4g3pfee6491hc0brc4i.apps.googleusercontent.com&redirect_uri=urn%3aietf%3awg%3aoauth%3a2.0%3aoob&response_type=code&scope=email%20https%3a%2f%2fwww.googleapis.com%2fauth%2fdocs.test%20https%3a%2f%2fwww.googleapis.com%2fauth%2fdrive%20https%3a%2f%2fwww.googleapis.com%2fauth%2fdrive.photos.readonly%20https%3a%2f%2fwww.googleapis.com%2fauth%2fpeopleapi.readonly\n",
            "\n",
            "Enter your authorization code:\n",
            "··········\n",
            "Mounted at /content/gdrive\n"
          ],
          "name": "stdout"
        }
      ]
    },
    {
      "cell_type": "code",
      "metadata": {
        "id": "vsW-sJ5HB7Cd",
        "colab_type": "code",
        "colab": {}
      },
      "source": [
        "root_path = '/content/gdrive/My Drive/DA-Data'"
      ],
      "execution_count": 0,
      "outputs": []
    },
    {
      "cell_type": "code",
      "metadata": {
        "id": "oMGWjCqNHtBC",
        "colab_type": "code",
        "outputId": "db034f5f-4367-47f5-c33f-b99e2194bfb8",
        "colab": {
          "base_uri": "https://localhost:8080/",
          "height": 34
        }
      },
      "source": [
        "cd '/content/gdrive/My Drive/DA-Data'"
      ],
      "execution_count": 0,
      "outputs": [
        {
          "output_type": "stream",
          "text": [
            "/content/gdrive/My Drive/DA-Data\n"
          ],
          "name": "stdout"
        }
      ]
    },
    {
      "cell_type": "code",
      "metadata": {
        "id": "glmgJxUmGknv",
        "colab_type": "code",
        "outputId": "c1e99490-e0a2-4634-aa55-c29e4adcef43",
        "colab": {
          "base_uri": "https://localhost:8080/",
          "height": 68
        }
      },
      "source": [
        "#for checking the Data\n",
        "ls -alFh"
      ],
      "execution_count": 0,
      "outputs": [
        {
          "output_type": "stream",
          "text": [
            "total 1.4G\n",
            "-rw------- 1 root root 1.3G May  7 11:44 Kaggel_test.csv\n",
            "-r-------- 1 root root  98M May  4 09:14 preprocessed_ga_revenue_data.zip\n"
          ],
          "name": "stdout"
        }
      ]
    },
    {
      "cell_type": "code",
      "metadata": {
        "id": "pG-J76beHTPm",
        "colab_type": "code",
        "outputId": "6424438c-ab7e-4471-8815-ae819f96c318",
        "colab": {
          "base_uri": "https://localhost:8080/",
          "height": 187
        }
      },
      "source": [
        "#! unzip train.csv.zip\n",
        "! unzip preprocessed_ga_revenue_data.zip"
      ],
      "execution_count": 0,
      "outputs": [
        {
          "output_type": "stream",
          "text": [
            "Archive:  preprocessed_ga_revenue_data.zip\n",
            "   creating: preprocessed_ga_revenue_data/\n",
            "  inflating: preprocessed_ga_revenue_data/train_flat_no_hits.pkl  \n",
            "  inflating: __MACOSX/preprocessed_ga_revenue_data/._train_flat_no_hits.pkl  \n",
            "  inflating: preprocessed_ga_revenue_data/test_flat_no_hits.pkl  \n",
            "  inflating: __MACOSX/preprocessed_ga_revenue_data/._test_flat_no_hits.pkl  \n",
            "  inflating: preprocessed_ga_revenue_data/train_hits_flat.pkl  \n",
            "  inflating: __MACOSX/preprocessed_ga_revenue_data/._train_hits_flat.pkl  \n",
            "  inflating: preprocessed_ga_revenue_data/test_hits_flat.pkl  \n",
            "  inflating: __MACOSX/preprocessed_ga_revenue_data/._test_hits_flat.pkl  \n"
          ],
          "name": "stdout"
        }
      ]
    },
    {
      "cell_type": "code",
      "metadata": {
        "id": "Gco0XcXuI1O3",
        "colab_type": "code",
        "outputId": "5f09391e-35db-41c0-a3f5-af32e35a7012",
        "colab": {
          "base_uri": "https://localhost:8080/",
          "height": 51
        }
      },
      "source": [
        "ls"
      ],
      "execution_count": 0,
      "outputs": [
        {
          "output_type": "stream",
          "text": [
            "Kaggel_test.csv  \u001b[0m\u001b[01;34mpreprocessed_ga_revenue_data\u001b[0m/\n",
            "\u001b[01;34m__MACOSX\u001b[0m/        preprocessed_ga_revenue_data.zip\n"
          ],
          "name": "stdout"
        }
      ]
    },
    {
      "cell_type": "code",
      "metadata": {
        "id": "83zb5iTdKonJ",
        "colab_type": "code",
        "outputId": "7d22a0d8-4674-4250-eb80-9a3ccd4eb882",
        "colab": {
          "base_uri": "https://localhost:8080/",
          "height": 34
        }
      },
      "source": [
        "cd preprocessed_ga_revenue_data"
      ],
      "execution_count": 0,
      "outputs": [
        {
          "output_type": "stream",
          "text": [
            "/content/gdrive/My Drive/DA-Data/preprocessed_ga_revenue_data\n"
          ],
          "name": "stdout"
        }
      ]
    },
    {
      "cell_type": "code",
      "metadata": {
        "id": "D1Y71P-cKvQe",
        "colab_type": "code",
        "outputId": "f9c4aacf-83f0-4fbc-b858-6093bf960b05",
        "colab": {
          "base_uri": "https://localhost:8080/",
          "height": 51
        }
      },
      "source": [
        "ls"
      ],
      "execution_count": 0,
      "outputs": [
        {
          "output_type": "stream",
          "text": [
            "test_flat_no_hits.pkl  train_flat_no_hits.pkl\n",
            "test_hits_flat.pkl     train_hits_flat.pkl\n"
          ],
          "name": "stdout"
        }
      ]
    },
    {
      "cell_type": "markdown",
      "metadata": {
        "id": "qIY8bJlm7fBf",
        "colab_type": "text"
      },
      "source": [
        "# Creating dfs"
      ]
    },
    {
      "cell_type": "code",
      "metadata": {
        "id": "57CymKKY46KP",
        "colab_type": "code",
        "colab": {}
      },
      "source": [
        "# download the libraries\n",
        "import pandas as pd\n",
        "import warnings\n",
        "warnings.filterwarnings('ignore')\n",
        "#!pip3 install --upgrade seaborn cufflinks plotly\n",
        "import numpy as np\n",
        "import matplotlib.pyplot as plt\n",
        "import seaborn as sns\n",
        "from datetime import datetime\n",
        "%matplotlib inline\n",
        "#?\n",
        "import requests"
      ],
      "execution_count": 0,
      "outputs": []
    },
    {
      "cell_type": "code",
      "metadata": {
        "id": "ey73bHcIj6Mw",
        "colab_type": "code",
        "colab": {}
      },
      "source": [
        "# load training data set info a df\n",
        "#df_train=pd.read_csv(filepath_or_buffer='/content/gdrive/My Drive/DA-Data/Kaggel_test.csv')\n",
        "df_train = pd.read_pickle('train_flat_no_hits.pkl')\n",
        "#df_test = pd.read_pickle('test_flat_no_hits.pkl')"
      ],
      "execution_count": 0,
      "outputs": []
    },
    {
      "cell_type": "code",
      "metadata": {
        "id": "ecNVxuXI4rz5",
        "colab_type": "code",
        "outputId": "3e9ea2d2-ec4f-46db-a5ce-899e23e52b55",
        "colab": {
          "base_uri": "https://localhost:8080/",
          "height": 1000
        }
      },
      "source": [
        "df_train.info()"
      ],
      "execution_count": 0,
      "outputs": [
        {
          "output_type": "stream",
          "text": [
            "<class 'pandas.core.frame.DataFrame'>\n",
            "RangeIndex: 1708337 entries, 0 to 1708336\n",
            "Data columns (total 60 columns):\n",
            " #   Column                                             Dtype \n",
            "---  ------                                             ----- \n",
            " 0   channelGrouping                                    object\n",
            " 1   date                                               int64 \n",
            " 2   fullVisitorId                                      object\n",
            " 3   socialEngagementType                               object\n",
            " 4   visitId                                            int64 \n",
            " 5   visitNumber                                        int64 \n",
            " 6   visitStartTime                                     int64 \n",
            " 7   device.browser                                     object\n",
            " 8   device.browserVersion                              object\n",
            " 9   device.browserSize                                 object\n",
            " 10  device.operatingSystem                             object\n",
            " 11  device.operatingSystemVersion                      object\n",
            " 12  device.isMobile                                    bool  \n",
            " 13  device.mobileDeviceBranding                        object\n",
            " 14  device.mobileDeviceModel                           object\n",
            " 15  device.mobileInputSelector                         object\n",
            " 16  device.mobileDeviceInfo                            object\n",
            " 17  device.mobileDeviceMarketingName                   object\n",
            " 18  device.flashVersion                                object\n",
            " 19  device.language                                    object\n",
            " 20  device.screenColors                                object\n",
            " 21  device.screenResolution                            object\n",
            " 22  device.deviceCategory                              object\n",
            " 23  geoNetwork.continent                               object\n",
            " 24  geoNetwork.subContinent                            object\n",
            " 25  geoNetwork.country                                 object\n",
            " 26  geoNetwork.region                                  object\n",
            " 27  geoNetwork.metro                                   object\n",
            " 28  geoNetwork.city                                    object\n",
            " 29  geoNetwork.cityId                                  object\n",
            " 30  geoNetwork.networkDomain                           object\n",
            " 31  geoNetwork.latitude                                object\n",
            " 32  geoNetwork.longitude                               object\n",
            " 33  geoNetwork.networkLocation                         object\n",
            " 34  totals.visits                                      object\n",
            " 35  totals.hits                                        object\n",
            " 36  totals.pageviews                                   object\n",
            " 37  totals.bounces                                     object\n",
            " 38  totals.newVisits                                   object\n",
            " 39  totals.sessionQualityDim                           object\n",
            " 40  totals.timeOnSite                                  object\n",
            " 41  totals.transactions                                object\n",
            " 42  totals.transactionRevenue                          object\n",
            " 43  totals.totalTransactionRevenue                     object\n",
            " 44  trafficSource.campaign                             object\n",
            " 45  trafficSource.source                               object\n",
            " 46  trafficSource.medium                               object\n",
            " 47  trafficSource.keyword                              object\n",
            " 48  trafficSource.adwordsClickInfo.criteriaParameters  object\n",
            " 49  trafficSource.referralPath                         object\n",
            " 50  trafficSource.isTrueDirect                         object\n",
            " 51  trafficSource.adContent                            object\n",
            " 52  trafficSource.adwordsClickInfo.page                object\n",
            " 53  trafficSource.adwordsClickInfo.slot                object\n",
            " 54  trafficSource.adwordsClickInfo.gclId               object\n",
            " 55  trafficSource.adwordsClickInfo.adNetworkType       object\n",
            " 56  trafficSource.adwordsClickInfo.isVideoAd           object\n",
            " 57  trafficSource.campaignCode                         object\n",
            " 58  customDimension.index                              object\n",
            " 59  customDimension.value                              object\n",
            "dtypes: bool(1), int64(4), object(55)\n",
            "memory usage: 770.6+ MB\n"
          ],
          "name": "stdout"
        }
      ]
    },
    {
      "cell_type": "code",
      "metadata": {
        "id": "w_Ttlzio6gwn",
        "colab_type": "code",
        "outputId": "6abe34d5-bf13-4df0-e15b-d79d813eb0ab",
        "colab": {
          "base_uri": "https://localhost:8080/",
          "height": 326
        }
      },
      "source": [
        "df_train.head(5)"
      ],
      "execution_count": 0,
      "outputs": [
        {
          "output_type": "execute_result",
          "data": {
            "text/html": [
              "<div>\n",
              "<style scoped>\n",
              "    .dataframe tbody tr th:only-of-type {\n",
              "        vertical-align: middle;\n",
              "    }\n",
              "\n",
              "    .dataframe tbody tr th {\n",
              "        vertical-align: top;\n",
              "    }\n",
              "\n",
              "    .dataframe thead th {\n",
              "        text-align: right;\n",
              "    }\n",
              "</style>\n",
              "<table border=\"1\" class=\"dataframe\">\n",
              "  <thead>\n",
              "    <tr style=\"text-align: right;\">\n",
              "      <th></th>\n",
              "      <th>channelGrouping</th>\n",
              "      <th>date</th>\n",
              "      <th>fullVisitorId</th>\n",
              "      <th>socialEngagementType</th>\n",
              "      <th>visitId</th>\n",
              "      <th>visitNumber</th>\n",
              "      <th>visitStartTime</th>\n",
              "      <th>device.browser</th>\n",
              "      <th>device.browserVersion</th>\n",
              "      <th>device.browserSize</th>\n",
              "      <th>device.operatingSystem</th>\n",
              "      <th>device.operatingSystemVersion</th>\n",
              "      <th>device.isMobile</th>\n",
              "      <th>device.mobileDeviceBranding</th>\n",
              "      <th>device.mobileDeviceModel</th>\n",
              "      <th>device.mobileInputSelector</th>\n",
              "      <th>device.mobileDeviceInfo</th>\n",
              "      <th>device.mobileDeviceMarketingName</th>\n",
              "      <th>device.flashVersion</th>\n",
              "      <th>device.language</th>\n",
              "      <th>device.screenColors</th>\n",
              "      <th>device.screenResolution</th>\n",
              "      <th>device.deviceCategory</th>\n",
              "      <th>geoNetwork.continent</th>\n",
              "      <th>geoNetwork.subContinent</th>\n",
              "      <th>geoNetwork.country</th>\n",
              "      <th>geoNetwork.region</th>\n",
              "      <th>geoNetwork.metro</th>\n",
              "      <th>geoNetwork.city</th>\n",
              "      <th>geoNetwork.cityId</th>\n",
              "      <th>geoNetwork.networkDomain</th>\n",
              "      <th>geoNetwork.latitude</th>\n",
              "      <th>geoNetwork.longitude</th>\n",
              "      <th>geoNetwork.networkLocation</th>\n",
              "      <th>totals.visits</th>\n",
              "      <th>totals.hits</th>\n",
              "      <th>totals.pageviews</th>\n",
              "      <th>totals.bounces</th>\n",
              "      <th>totals.newVisits</th>\n",
              "      <th>totals.sessionQualityDim</th>\n",
              "      <th>totals.timeOnSite</th>\n",
              "      <th>totals.transactions</th>\n",
              "      <th>totals.transactionRevenue</th>\n",
              "      <th>totals.totalTransactionRevenue</th>\n",
              "      <th>trafficSource.campaign</th>\n",
              "      <th>trafficSource.source</th>\n",
              "      <th>trafficSource.medium</th>\n",
              "      <th>trafficSource.keyword</th>\n",
              "      <th>trafficSource.adwordsClickInfo.criteriaParameters</th>\n",
              "      <th>trafficSource.referralPath</th>\n",
              "      <th>trafficSource.isTrueDirect</th>\n",
              "      <th>trafficSource.adContent</th>\n",
              "      <th>trafficSource.adwordsClickInfo.page</th>\n",
              "      <th>trafficSource.adwordsClickInfo.slot</th>\n",
              "      <th>trafficSource.adwordsClickInfo.gclId</th>\n",
              "      <th>trafficSource.adwordsClickInfo.adNetworkType</th>\n",
              "      <th>trafficSource.adwordsClickInfo.isVideoAd</th>\n",
              "      <th>trafficSource.campaignCode</th>\n",
              "      <th>customDimension.index</th>\n",
              "      <th>customDimension.value</th>\n",
              "    </tr>\n",
              "  </thead>\n",
              "  <tbody>\n",
              "    <tr>\n",
              "      <th>0</th>\n",
              "      <td>Organic Search</td>\n",
              "      <td>20171016</td>\n",
              "      <td>3162355547410993243</td>\n",
              "      <td>Not Socially Engaged</td>\n",
              "      <td>1508198450</td>\n",
              "      <td>1</td>\n",
              "      <td>1508198450</td>\n",
              "      <td>Firefox</td>\n",
              "      <td>not available in demo dataset</td>\n",
              "      <td>not available in demo dataset</td>\n",
              "      <td>Windows</td>\n",
              "      <td>not available in demo dataset</td>\n",
              "      <td>False</td>\n",
              "      <td>not available in demo dataset</td>\n",
              "      <td>not available in demo dataset</td>\n",
              "      <td>not available in demo dataset</td>\n",
              "      <td>not available in demo dataset</td>\n",
              "      <td>not available in demo dataset</td>\n",
              "      <td>not available in demo dataset</td>\n",
              "      <td>not available in demo dataset</td>\n",
              "      <td>not available in demo dataset</td>\n",
              "      <td>not available in demo dataset</td>\n",
              "      <td>desktop</td>\n",
              "      <td>Europe</td>\n",
              "      <td>Western Europe</td>\n",
              "      <td>Germany</td>\n",
              "      <td>not available in demo dataset</td>\n",
              "      <td>not available in demo dataset</td>\n",
              "      <td>not available in demo dataset</td>\n",
              "      <td>not available in demo dataset</td>\n",
              "      <td>(not set)</td>\n",
              "      <td>not available in demo dataset</td>\n",
              "      <td>not available in demo dataset</td>\n",
              "      <td>not available in demo dataset</td>\n",
              "      <td>1</td>\n",
              "      <td>1</td>\n",
              "      <td>1</td>\n",
              "      <td>1</td>\n",
              "      <td>1</td>\n",
              "      <td>1</td>\n",
              "      <td>NaN</td>\n",
              "      <td>NaN</td>\n",
              "      <td>NaN</td>\n",
              "      <td>NaN</td>\n",
              "      <td>(not set)</td>\n",
              "      <td>google</td>\n",
              "      <td>organic</td>\n",
              "      <td>water bottle</td>\n",
              "      <td>not available in demo dataset</td>\n",
              "      <td>NaN</td>\n",
              "      <td>NaN</td>\n",
              "      <td>NaN</td>\n",
              "      <td>NaN</td>\n",
              "      <td>NaN</td>\n",
              "      <td>NaN</td>\n",
              "      <td>NaN</td>\n",
              "      <td>NaN</td>\n",
              "      <td>NaN</td>\n",
              "      <td>4</td>\n",
              "      <td>EMEA</td>\n",
              "    </tr>\n",
              "    <tr>\n",
              "      <th>1</th>\n",
              "      <td>Referral</td>\n",
              "      <td>20171016</td>\n",
              "      <td>8934116514970143966</td>\n",
              "      <td>Not Socially Engaged</td>\n",
              "      <td>1508176307</td>\n",
              "      <td>6</td>\n",
              "      <td>1508176307</td>\n",
              "      <td>Chrome</td>\n",
              "      <td>not available in demo dataset</td>\n",
              "      <td>not available in demo dataset</td>\n",
              "      <td>Chrome OS</td>\n",
              "      <td>not available in demo dataset</td>\n",
              "      <td>False</td>\n",
              "      <td>not available in demo dataset</td>\n",
              "      <td>not available in demo dataset</td>\n",
              "      <td>not available in demo dataset</td>\n",
              "      <td>not available in demo dataset</td>\n",
              "      <td>not available in demo dataset</td>\n",
              "      <td>not available in demo dataset</td>\n",
              "      <td>not available in demo dataset</td>\n",
              "      <td>not available in demo dataset</td>\n",
              "      <td>not available in demo dataset</td>\n",
              "      <td>desktop</td>\n",
              "      <td>Americas</td>\n",
              "      <td>Northern America</td>\n",
              "      <td>United States</td>\n",
              "      <td>California</td>\n",
              "      <td>San Francisco-Oakland-San Jose CA</td>\n",
              "      <td>Cupertino</td>\n",
              "      <td>not available in demo dataset</td>\n",
              "      <td>(not set)</td>\n",
              "      <td>not available in demo dataset</td>\n",
              "      <td>not available in demo dataset</td>\n",
              "      <td>not available in demo dataset</td>\n",
              "      <td>1</td>\n",
              "      <td>2</td>\n",
              "      <td>2</td>\n",
              "      <td>NaN</td>\n",
              "      <td>NaN</td>\n",
              "      <td>2</td>\n",
              "      <td>28</td>\n",
              "      <td>NaN</td>\n",
              "      <td>NaN</td>\n",
              "      <td>NaN</td>\n",
              "      <td>(not set)</td>\n",
              "      <td>sites.google.com</td>\n",
              "      <td>referral</td>\n",
              "      <td>NaN</td>\n",
              "      <td>not available in demo dataset</td>\n",
              "      <td>/a/google.com/transportation/mtv-services/bike...</td>\n",
              "      <td>NaN</td>\n",
              "      <td>NaN</td>\n",
              "      <td>NaN</td>\n",
              "      <td>NaN</td>\n",
              "      <td>NaN</td>\n",
              "      <td>NaN</td>\n",
              "      <td>NaN</td>\n",
              "      <td>NaN</td>\n",
              "      <td>4</td>\n",
              "      <td>North America</td>\n",
              "    </tr>\n",
              "    <tr>\n",
              "      <th>2</th>\n",
              "      <td>Direct</td>\n",
              "      <td>20171016</td>\n",
              "      <td>7992466427990357681</td>\n",
              "      <td>Not Socially Engaged</td>\n",
              "      <td>1508201613</td>\n",
              "      <td>1</td>\n",
              "      <td>1508201613</td>\n",
              "      <td>Chrome</td>\n",
              "      <td>not available in demo dataset</td>\n",
              "      <td>not available in demo dataset</td>\n",
              "      <td>Android</td>\n",
              "      <td>not available in demo dataset</td>\n",
              "      <td>True</td>\n",
              "      <td>not available in demo dataset</td>\n",
              "      <td>not available in demo dataset</td>\n",
              "      <td>not available in demo dataset</td>\n",
              "      <td>not available in demo dataset</td>\n",
              "      <td>not available in demo dataset</td>\n",
              "      <td>not available in demo dataset</td>\n",
              "      <td>not available in demo dataset</td>\n",
              "      <td>not available in demo dataset</td>\n",
              "      <td>not available in demo dataset</td>\n",
              "      <td>mobile</td>\n",
              "      <td>Americas</td>\n",
              "      <td>Northern America</td>\n",
              "      <td>United States</td>\n",
              "      <td>not available in demo dataset</td>\n",
              "      <td>not available in demo dataset</td>\n",
              "      <td>not available in demo dataset</td>\n",
              "      <td>not available in demo dataset</td>\n",
              "      <td>windjammercable.net</td>\n",
              "      <td>not available in demo dataset</td>\n",
              "      <td>not available in demo dataset</td>\n",
              "      <td>not available in demo dataset</td>\n",
              "      <td>1</td>\n",
              "      <td>2</td>\n",
              "      <td>2</td>\n",
              "      <td>NaN</td>\n",
              "      <td>1</td>\n",
              "      <td>1</td>\n",
              "      <td>38</td>\n",
              "      <td>NaN</td>\n",
              "      <td>NaN</td>\n",
              "      <td>NaN</td>\n",
              "      <td>(not set)</td>\n",
              "      <td>(direct)</td>\n",
              "      <td>(none)</td>\n",
              "      <td>NaN</td>\n",
              "      <td>not available in demo dataset</td>\n",
              "      <td>NaN</td>\n",
              "      <td>True</td>\n",
              "      <td>NaN</td>\n",
              "      <td>NaN</td>\n",
              "      <td>NaN</td>\n",
              "      <td>NaN</td>\n",
              "      <td>NaN</td>\n",
              "      <td>NaN</td>\n",
              "      <td>NaN</td>\n",
              "      <td>4</td>\n",
              "      <td>North America</td>\n",
              "    </tr>\n",
              "    <tr>\n",
              "      <th>3</th>\n",
              "      <td>Organic Search</td>\n",
              "      <td>20171016</td>\n",
              "      <td>9075655783635761930</td>\n",
              "      <td>Not Socially Engaged</td>\n",
              "      <td>1508169851</td>\n",
              "      <td>1</td>\n",
              "      <td>1508169851</td>\n",
              "      <td>Chrome</td>\n",
              "      <td>not available in demo dataset</td>\n",
              "      <td>not available in demo dataset</td>\n",
              "      <td>Windows</td>\n",
              "      <td>not available in demo dataset</td>\n",
              "      <td>False</td>\n",
              "      <td>not available in demo dataset</td>\n",
              "      <td>not available in demo dataset</td>\n",
              "      <td>not available in demo dataset</td>\n",
              "      <td>not available in demo dataset</td>\n",
              "      <td>not available in demo dataset</td>\n",
              "      <td>not available in demo dataset</td>\n",
              "      <td>not available in demo dataset</td>\n",
              "      <td>not available in demo dataset</td>\n",
              "      <td>not available in demo dataset</td>\n",
              "      <td>desktop</td>\n",
              "      <td>Asia</td>\n",
              "      <td>Western Asia</td>\n",
              "      <td>Turkey</td>\n",
              "      <td>not available in demo dataset</td>\n",
              "      <td>not available in demo dataset</td>\n",
              "      <td>not available in demo dataset</td>\n",
              "      <td>not available in demo dataset</td>\n",
              "      <td>unknown.unknown</td>\n",
              "      <td>not available in demo dataset</td>\n",
              "      <td>not available in demo dataset</td>\n",
              "      <td>not available in demo dataset</td>\n",
              "      <td>1</td>\n",
              "      <td>2</td>\n",
              "      <td>2</td>\n",
              "      <td>NaN</td>\n",
              "      <td>1</td>\n",
              "      <td>1</td>\n",
              "      <td>1</td>\n",
              "      <td>NaN</td>\n",
              "      <td>NaN</td>\n",
              "      <td>NaN</td>\n",
              "      <td>(not set)</td>\n",
              "      <td>google</td>\n",
              "      <td>organic</td>\n",
              "      <td>(not provided)</td>\n",
              "      <td>not available in demo dataset</td>\n",
              "      <td>NaN</td>\n",
              "      <td>NaN</td>\n",
              "      <td>NaN</td>\n",
              "      <td>NaN</td>\n",
              "      <td>NaN</td>\n",
              "      <td>NaN</td>\n",
              "      <td>NaN</td>\n",
              "      <td>NaN</td>\n",
              "      <td>NaN</td>\n",
              "      <td>4</td>\n",
              "      <td>EMEA</td>\n",
              "    </tr>\n",
              "    <tr>\n",
              "      <th>4</th>\n",
              "      <td>Organic Search</td>\n",
              "      <td>20171016</td>\n",
              "      <td>6960673291025684308</td>\n",
              "      <td>Not Socially Engaged</td>\n",
              "      <td>1508190552</td>\n",
              "      <td>1</td>\n",
              "      <td>1508190552</td>\n",
              "      <td>Chrome</td>\n",
              "      <td>not available in demo dataset</td>\n",
              "      <td>not available in demo dataset</td>\n",
              "      <td>Windows</td>\n",
              "      <td>not available in demo dataset</td>\n",
              "      <td>False</td>\n",
              "      <td>not available in demo dataset</td>\n",
              "      <td>not available in demo dataset</td>\n",
              "      <td>not available in demo dataset</td>\n",
              "      <td>not available in demo dataset</td>\n",
              "      <td>not available in demo dataset</td>\n",
              "      <td>not available in demo dataset</td>\n",
              "      <td>not available in demo dataset</td>\n",
              "      <td>not available in demo dataset</td>\n",
              "      <td>not available in demo dataset</td>\n",
              "      <td>desktop</td>\n",
              "      <td>Americas</td>\n",
              "      <td>Central America</td>\n",
              "      <td>Mexico</td>\n",
              "      <td>not available in demo dataset</td>\n",
              "      <td>not available in demo dataset</td>\n",
              "      <td>not available in demo dataset</td>\n",
              "      <td>not available in demo dataset</td>\n",
              "      <td>prod-infinitum.com.mx</td>\n",
              "      <td>not available in demo dataset</td>\n",
              "      <td>not available in demo dataset</td>\n",
              "      <td>not available in demo dataset</td>\n",
              "      <td>1</td>\n",
              "      <td>2</td>\n",
              "      <td>2</td>\n",
              "      <td>NaN</td>\n",
              "      <td>1</td>\n",
              "      <td>1</td>\n",
              "      <td>52</td>\n",
              "      <td>NaN</td>\n",
              "      <td>NaN</td>\n",
              "      <td>NaN</td>\n",
              "      <td>(not set)</td>\n",
              "      <td>google</td>\n",
              "      <td>organic</td>\n",
              "      <td>(not provided)</td>\n",
              "      <td>not available in demo dataset</td>\n",
              "      <td>NaN</td>\n",
              "      <td>NaN</td>\n",
              "      <td>NaN</td>\n",
              "      <td>NaN</td>\n",
              "      <td>NaN</td>\n",
              "      <td>NaN</td>\n",
              "      <td>NaN</td>\n",
              "      <td>NaN</td>\n",
              "      <td>NaN</td>\n",
              "      <td>4</td>\n",
              "      <td>Central America</td>\n",
              "    </tr>\n",
              "  </tbody>\n",
              "</table>\n",
              "</div>"
            ],
            "text/plain": [
              "  channelGrouping      date  ... customDimension.index customDimension.value\n",
              "0  Organic Search  20171016  ...                     4                  EMEA\n",
              "1        Referral  20171016  ...                     4         North America\n",
              "2          Direct  20171016  ...                     4         North America\n",
              "3  Organic Search  20171016  ...                     4                  EMEA\n",
              "4  Organic Search  20171016  ...                     4       Central America\n",
              "\n",
              "[5 rows x 60 columns]"
            ]
          },
          "metadata": {
            "tags": []
          },
          "execution_count": 48
        }
      ]
    },
    {
      "cell_type": "code",
      "metadata": {
        "id": "iH6iEn3bNt29",
        "colab_type": "code",
        "outputId": "f2224005-55ef-48cd-9c41-180ca7144fe5",
        "colab": {
          "base_uri": "https://localhost:8080/",
          "height": 221
        }
      },
      "source": [
        "df_train['totals.transactionRevenue'].value_counts()"
      ],
      "execution_count": 0,
      "outputs": [
        {
          "output_type": "execute_result",
          "data": {
            "text/plain": [
              "16990000      308\n",
              "19990000      248\n",
              "39980000      220\n",
              "18990000      219\n",
              "21990000      211\n",
              "             ... \n",
              "1199840000      1\n",
              "20290000        1\n",
              "333340000       1\n",
              "827100000       1\n",
              "300060000       1\n",
              "Name: totals.transactionRevenue, Length: 7251, dtype: int64"
            ]
          },
          "metadata": {
            "tags": []
          },
          "execution_count": 55
        }
      ]
    },
    {
      "cell_type": "code",
      "metadata": {
        "id": "MA2DPQQ-NElP",
        "colab_type": "code",
        "outputId": "0dc43bec-f1e3-4cc3-c8ba-0a6d115534cd",
        "colab": {
          "base_uri": "https://localhost:8080/",
          "height": 51
        }
      },
      "source": [
        "df_train.channelGrouping.unique()"
      ],
      "execution_count": 0,
      "outputs": [
        {
          "output_type": "execute_result",
          "data": {
            "text/plain": [
              "array(['Organic Search', 'Referral', 'Direct', 'Paid Search', 'Display',\n",
              "       'Affiliates', 'Social', '(Other)'], dtype=object)"
            ]
          },
          "metadata": {
            "tags": []
          },
          "execution_count": 49
        }
      ]
    },
    {
      "cell_type": "markdown",
      "metadata": {
        "id": "7l8hXtRH-KuX",
        "colab_type": "text"
      },
      "source": [
        "**fullVisitorId**- A unique identifier for each user of the Google Merchandise Store.\n",
        "**channelGrouping **- The channel via which the user came to the Store.\n",
        "\n",
        "\n",
        "**geoNetwork** - This section contains information about the geography of the user.\n",
        "**socialEngagementType** - Engagement type, either \"Socially Engaged\" or \"Not Socially Engaged\".\n",
        "\n",
        "\n",
        "visitId - An identifier for this session. This is part of the value usually stored as the _utmb cookie. This is only unique to the user. *For a completely unique ID, you should use a combination of fullVisitorId and visitId*.\n",
        "visitNumber - The session number for this user. If this is the first session, then this is set to 1.\n",
        "visitStartTime - The timestamp (expressed as POSIX time).\n",
        "\n",
        "\n",
        "totals - This set of columns mostly includes high-level aggregate data."
      ]
    },
    {
      "cell_type": "code",
      "metadata": {
        "id": "n9Dm9zaW_cXD",
        "colab_type": "code",
        "outputId": "da94c229-a33e-488e-9b67-3af98fbf16a8",
        "colab": {
          "base_uri": "https://localhost:8080/",
          "height": 1000
        }
      },
      "source": [
        "df_train.info()"
      ],
      "execution_count": 0,
      "outputs": [
        {
          "output_type": "stream",
          "text": [
            "<class 'pandas.core.frame.DataFrame'>\n",
            "RangeIndex: 1708337 entries, 0 to 1708336\n",
            "Data columns (total 60 columns):\n",
            " #   Column                                             Dtype \n",
            "---  ------                                             ----- \n",
            " 0   channelGrouping                                    object\n",
            " 1   date                                               int64 \n",
            " 2   fullVisitorId                                      object\n",
            " 3   socialEngagementType                               object\n",
            " 4   visitId                                            int64 \n",
            " 5   visitNumber                                        int64 \n",
            " 6   visitStartTime                                     int64 \n",
            " 7   device.browser                                     object\n",
            " 8   device.browserVersion                              object\n",
            " 9   device.browserSize                                 object\n",
            " 10  device.operatingSystem                             object\n",
            " 11  device.operatingSystemVersion                      object\n",
            " 12  device.isMobile                                    bool  \n",
            " 13  device.mobileDeviceBranding                        object\n",
            " 14  device.mobileDeviceModel                           object\n",
            " 15  device.mobileInputSelector                         object\n",
            " 16  device.mobileDeviceInfo                            object\n",
            " 17  device.mobileDeviceMarketingName                   object\n",
            " 18  device.flashVersion                                object\n",
            " 19  device.language                                    object\n",
            " 20  device.screenColors                                object\n",
            " 21  device.screenResolution                            object\n",
            " 22  device.deviceCategory                              object\n",
            " 23  geoNetwork.continent                               object\n",
            " 24  geoNetwork.subContinent                            object\n",
            " 25  geoNetwork.country                                 object\n",
            " 26  geoNetwork.region                                  object\n",
            " 27  geoNetwork.metro                                   object\n",
            " 28  geoNetwork.city                                    object\n",
            " 29  geoNetwork.cityId                                  object\n",
            " 30  geoNetwork.networkDomain                           object\n",
            " 31  geoNetwork.latitude                                object\n",
            " 32  geoNetwork.longitude                               object\n",
            " 33  geoNetwork.networkLocation                         object\n",
            " 34  totals.visits                                      object\n",
            " 35  totals.hits                                        object\n",
            " 36  totals.pageviews                                   object\n",
            " 37  totals.bounces                                     object\n",
            " 38  totals.newVisits                                   object\n",
            " 39  totals.sessionQualityDim                           object\n",
            " 40  totals.timeOnSite                                  object\n",
            " 41  totals.transactions                                object\n",
            " 42  totals.transactionRevenue                          object\n",
            " 43  totals.totalTransactionRevenue                     object\n",
            " 44  trafficSource.campaign                             object\n",
            " 45  trafficSource.source                               object\n",
            " 46  trafficSource.medium                               object\n",
            " 47  trafficSource.keyword                              object\n",
            " 48  trafficSource.adwordsClickInfo.criteriaParameters  object\n",
            " 49  trafficSource.referralPath                         object\n",
            " 50  trafficSource.isTrueDirect                         object\n",
            " 51  trafficSource.adContent                            object\n",
            " 52  trafficSource.adwordsClickInfo.page                object\n",
            " 53  trafficSource.adwordsClickInfo.slot                object\n",
            " 54  trafficSource.adwordsClickInfo.gclId               object\n",
            " 55  trafficSource.adwordsClickInfo.adNetworkType       object\n",
            " 56  trafficSource.adwordsClickInfo.isVideoAd           object\n",
            " 57  trafficSource.campaignCode                         object\n",
            " 58  customDimension.index                              object\n",
            " 59  customDimension.value                              object\n",
            "dtypes: bool(1), int64(4), object(55)\n",
            "memory usage: 770.6+ MB\n"
          ],
          "name": "stdout"
        }
      ]
    },
    {
      "cell_type": "markdown",
      "metadata": {
        "id": "uKym2llYAZEB",
        "colab_type": "text"
      },
      "source": [
        "# Question:\n",
        "not available in demo dataset?"
      ]
    },
    {
      "cell_type": "code",
      "metadata": {
        "id": "9NeoZELw_zKA",
        "colab_type": "code",
        "outputId": "8af8c046-d5fa-4ba4-ff2d-15ea718c2ee0",
        "colab": {
          "base_uri": "https://localhost:8080/",
          "height": 139
        }
      },
      "source": [
        "#**device **- The specifications for the device used to access the Store.\n",
        "df_train.device[:10].unique()"
      ],
      "execution_count": 0,
      "outputs": [
        {
          "output_type": "execute_result",
          "data": {
            "text/plain": [
              "array(['{\"browser\": \"Chrome\", \"browserVersion\": \"not available in demo dataset\", \"browserSize\": \"not available in demo dataset\", \"operatingSystem\": \"Macintosh\", \"operatingSystemVersion\": \"not available in demo dataset\", \"isMobile\": false, \"mobileDeviceBranding\": \"not available in demo dataset\", \"mobileDeviceModel\": \"not available in demo dataset\", \"mobileInputSelector\": \"not available in demo dataset\", \"mobileDeviceInfo\": \"not available in demo dataset\", \"mobileDeviceMarketingName\": \"not available in demo dataset\", \"flashVersion\": \"not available in demo dataset\", \"language\": \"not available in demo dataset\", \"screenColors\": \"not available in demo dataset\", \"screenResolution\": \"not available in demo dataset\", \"deviceCategory\": \"desktop\"}',\n",
              "       '{\"browser\": \"Chrome\", \"browserVersion\": \"not available in demo dataset\", \"browserSize\": \"not available in demo dataset\", \"operatingSystem\": \"Windows\", \"operatingSystemVersion\": \"not available in demo dataset\", \"isMobile\": false, \"mobileDeviceBranding\": \"not available in demo dataset\", \"mobileDeviceModel\": \"not available in demo dataset\", \"mobileInputSelector\": \"not available in demo dataset\", \"mobileDeviceInfo\": \"not available in demo dataset\", \"mobileDeviceMarketingName\": \"not available in demo dataset\", \"flashVersion\": \"not available in demo dataset\", \"language\": \"not available in demo dataset\", \"screenColors\": \"not available in demo dataset\", \"screenResolution\": \"not available in demo dataset\", \"deviceCategory\": \"desktop\"}',\n",
              "       '{\"browser\": \"Safari\", \"browserVersion\": \"not available in demo dataset\", \"browserSize\": \"not available in demo dataset\", \"operatingSystem\": \"iOS\", \"operatingSystemVersion\": \"not available in demo dataset\", \"isMobile\": true, \"mobileDeviceBranding\": \"not available in demo dataset\", \"mobileDeviceModel\": \"not available in demo dataset\", \"mobileInputSelector\": \"not available in demo dataset\", \"mobileDeviceInfo\": \"not available in demo dataset\", \"mobileDeviceMarketingName\": \"not available in demo dataset\", \"flashVersion\": \"not available in demo dataset\", \"language\": \"not available in demo dataset\", \"screenColors\": \"not available in demo dataset\", \"screenResolution\": \"not available in demo dataset\", \"deviceCategory\": \"mobile\"}',\n",
              "       '{\"browser\": \"Safari\", \"browserVersion\": \"not available in demo dataset\", \"browserSize\": \"not available in demo dataset\", \"operatingSystem\": \"Macintosh\", \"operatingSystemVersion\": \"not available in demo dataset\", \"isMobile\": false, \"mobileDeviceBranding\": \"not available in demo dataset\", \"mobileDeviceModel\": \"not available in demo dataset\", \"mobileInputSelector\": \"not available in demo dataset\", \"mobileDeviceInfo\": \"not available in demo dataset\", \"mobileDeviceMarketingName\": \"not available in demo dataset\", \"flashVersion\": \"not available in demo dataset\", \"language\": \"not available in demo dataset\", \"screenColors\": \"not available in demo dataset\", \"screenResolution\": \"not available in demo dataset\", \"deviceCategory\": \"desktop\"}',\n",
              "       '{\"browser\": \"Chrome\", \"browserVersion\": \"not available in demo dataset\", \"browserSize\": \"not available in demo dataset\", \"operatingSystem\": \"Linux\", \"operatingSystemVersion\": \"not available in demo dataset\", \"isMobile\": false, \"mobileDeviceBranding\": \"not available in demo dataset\", \"mobileDeviceModel\": \"not available in demo dataset\", \"mobileInputSelector\": \"not available in demo dataset\", \"mobileDeviceInfo\": \"not available in demo dataset\", \"mobileDeviceMarketingName\": \"not available in demo dataset\", \"flashVersion\": \"not available in demo dataset\", \"language\": \"not available in demo dataset\", \"screenColors\": \"not available in demo dataset\", \"screenResolution\": \"not available in demo dataset\", \"deviceCategory\": \"desktop\"}'],\n",
              "      dtype=object)"
            ]
          },
          "metadata": {
            "tags": []
          },
          "execution_count": 27
        }
      ]
    },
    {
      "cell_type": "markdown",
      "metadata": {
        "id": "iC5xYW9uAoPA",
        "colab_type": "text"
      },
      "source": [
        "# Question:\n",
        "meaning of each?"
      ]
    },
    {
      "cell_type": "code",
      "metadata": {
        "id": "gw5F6CaaAFev",
        "colab_type": "code",
        "outputId": "e7cc1693-e762-4345-fe35-0b4765624c70",
        "colab": {
          "base_uri": "https://localhost:8080/",
          "height": 282
        }
      },
      "source": [
        "#**totals** - This section contains aggregate values across the session.\n",
        "df_train.totals[:10].unique()"
      ],
      "execution_count": 0,
      "outputs": [
        {
          "output_type": "error",
          "ename": "AttributeError",
          "evalue": "ignored",
          "traceback": [
            "\u001b[0;31m---------------------------------------------------------------------------\u001b[0m",
            "\u001b[0;31mAttributeError\u001b[0m                            Traceback (most recent call last)",
            "\u001b[0;32m<ipython-input-57-2e8b104d3ad0>\u001b[0m in \u001b[0;36m<module>\u001b[0;34m()\u001b[0m\n\u001b[0;32m----> 1\u001b[0;31m \u001b[0mdf_train\u001b[0m\u001b[0;34m.\u001b[0m\u001b[0mtotals\u001b[0m\u001b[0;34m[\u001b[0m\u001b[0;34m:\u001b[0m\u001b[0;36m10\u001b[0m\u001b[0;34m]\u001b[0m\u001b[0;34m.\u001b[0m\u001b[0munique\u001b[0m\u001b[0;34m(\u001b[0m\u001b[0;34m)\u001b[0m\u001b[0;34m\u001b[0m\u001b[0;34m\u001b[0m\u001b[0m\n\u001b[0m",
            "\u001b[0;32m/usr/local/lib/python3.6/dist-packages/pandas/core/generic.py\u001b[0m in \u001b[0;36m__getattr__\u001b[0;34m(self, name)\u001b[0m\n\u001b[1;32m   5272\u001b[0m             \u001b[0;32mif\u001b[0m \u001b[0mself\u001b[0m\u001b[0;34m.\u001b[0m\u001b[0m_info_axis\u001b[0m\u001b[0;34m.\u001b[0m\u001b[0m_can_hold_identifiers_and_holds_name\u001b[0m\u001b[0;34m(\u001b[0m\u001b[0mname\u001b[0m\u001b[0;34m)\u001b[0m\u001b[0;34m:\u001b[0m\u001b[0;34m\u001b[0m\u001b[0;34m\u001b[0m\u001b[0m\n\u001b[1;32m   5273\u001b[0m                 \u001b[0;32mreturn\u001b[0m \u001b[0mself\u001b[0m\u001b[0;34m[\u001b[0m\u001b[0mname\u001b[0m\u001b[0;34m]\u001b[0m\u001b[0;34m\u001b[0m\u001b[0;34m\u001b[0m\u001b[0m\n\u001b[0;32m-> 5274\u001b[0;31m             \u001b[0;32mreturn\u001b[0m \u001b[0mobject\u001b[0m\u001b[0;34m.\u001b[0m\u001b[0m__getattribute__\u001b[0m\u001b[0;34m(\u001b[0m\u001b[0mself\u001b[0m\u001b[0;34m,\u001b[0m \u001b[0mname\u001b[0m\u001b[0;34m)\u001b[0m\u001b[0;34m\u001b[0m\u001b[0;34m\u001b[0m\u001b[0m\n\u001b[0m\u001b[1;32m   5275\u001b[0m \u001b[0;34m\u001b[0m\u001b[0m\n\u001b[1;32m   5276\u001b[0m     \u001b[0;32mdef\u001b[0m \u001b[0m__setattr__\u001b[0m\u001b[0;34m(\u001b[0m\u001b[0mself\u001b[0m\u001b[0;34m,\u001b[0m \u001b[0mname\u001b[0m\u001b[0;34m:\u001b[0m \u001b[0mstr\u001b[0m\u001b[0;34m,\u001b[0m \u001b[0mvalue\u001b[0m\u001b[0;34m)\u001b[0m \u001b[0;34m->\u001b[0m \u001b[0;32mNone\u001b[0m\u001b[0;34m:\u001b[0m\u001b[0;34m\u001b[0m\u001b[0;34m\u001b[0m\u001b[0m\n",
            "\u001b[0;31mAttributeError\u001b[0m: 'DataFrame' object has no attribute 'totals'"
          ]
        }
      ]
    },
    {
      "cell_type": "code",
      "metadata": {
        "id": "hecvqQK4BDCL",
        "colab_type": "code",
        "outputId": "23ec6c9e-bd63-44ef-ece7-51eaeb3099f4",
        "colab": {
          "base_uri": "https://localhost:8080/",
          "height": 282
        }
      },
      "source": [
        "df_train.geoNetwork[:10].unique()"
      ],
      "execution_count": 0,
      "outputs": [
        {
          "output_type": "error",
          "ename": "AttributeError",
          "evalue": "ignored",
          "traceback": [
            "\u001b[0;31m---------------------------------------------------------------------------\u001b[0m",
            "\u001b[0;31mAttributeError\u001b[0m                            Traceback (most recent call last)",
            "\u001b[0;32m<ipython-input-58-40023f5fbd5e>\u001b[0m in \u001b[0;36m<module>\u001b[0;34m()\u001b[0m\n\u001b[0;32m----> 1\u001b[0;31m \u001b[0mdf_train\u001b[0m\u001b[0;34m.\u001b[0m\u001b[0mgeoNetwork\u001b[0m\u001b[0;34m[\u001b[0m\u001b[0;34m:\u001b[0m\u001b[0;36m10\u001b[0m\u001b[0;34m]\u001b[0m\u001b[0;34m.\u001b[0m\u001b[0munique\u001b[0m\u001b[0;34m(\u001b[0m\u001b[0;34m)\u001b[0m\u001b[0;34m\u001b[0m\u001b[0;34m\u001b[0m\u001b[0m\n\u001b[0m",
            "\u001b[0;32m/usr/local/lib/python3.6/dist-packages/pandas/core/generic.py\u001b[0m in \u001b[0;36m__getattr__\u001b[0;34m(self, name)\u001b[0m\n\u001b[1;32m   5272\u001b[0m             \u001b[0;32mif\u001b[0m \u001b[0mself\u001b[0m\u001b[0;34m.\u001b[0m\u001b[0m_info_axis\u001b[0m\u001b[0;34m.\u001b[0m\u001b[0m_can_hold_identifiers_and_holds_name\u001b[0m\u001b[0;34m(\u001b[0m\u001b[0mname\u001b[0m\u001b[0;34m)\u001b[0m\u001b[0;34m:\u001b[0m\u001b[0;34m\u001b[0m\u001b[0;34m\u001b[0m\u001b[0m\n\u001b[1;32m   5273\u001b[0m                 \u001b[0;32mreturn\u001b[0m \u001b[0mself\u001b[0m\u001b[0;34m[\u001b[0m\u001b[0mname\u001b[0m\u001b[0;34m]\u001b[0m\u001b[0;34m\u001b[0m\u001b[0;34m\u001b[0m\u001b[0m\n\u001b[0;32m-> 5274\u001b[0;31m             \u001b[0;32mreturn\u001b[0m \u001b[0mobject\u001b[0m\u001b[0;34m.\u001b[0m\u001b[0m__getattribute__\u001b[0m\u001b[0;34m(\u001b[0m\u001b[0mself\u001b[0m\u001b[0;34m,\u001b[0m \u001b[0mname\u001b[0m\u001b[0;34m)\u001b[0m\u001b[0;34m\u001b[0m\u001b[0;34m\u001b[0m\u001b[0m\n\u001b[0m\u001b[1;32m   5275\u001b[0m \u001b[0;34m\u001b[0m\u001b[0m\n\u001b[1;32m   5276\u001b[0m     \u001b[0;32mdef\u001b[0m \u001b[0m__setattr__\u001b[0m\u001b[0;34m(\u001b[0m\u001b[0mself\u001b[0m\u001b[0;34m,\u001b[0m \u001b[0mname\u001b[0m\u001b[0;34m:\u001b[0m \u001b[0mstr\u001b[0m\u001b[0;34m,\u001b[0m \u001b[0mvalue\u001b[0m\u001b[0;34m)\u001b[0m \u001b[0;34m->\u001b[0m \u001b[0;32mNone\u001b[0m\u001b[0;34m:\u001b[0m\u001b[0;34m\u001b[0m\u001b[0;34m\u001b[0m\u001b[0m\n",
            "\u001b[0;31mAttributeError\u001b[0m: 'DataFrame' object has no attribute 'geoNetwork'"
          ]
        }
      ]
    },
    {
      "cell_type": "code",
      "metadata": {
        "id": "Fww5O-wMB6ne",
        "colab_type": "code",
        "outputId": "7a6667ef-ecb4-4377-ea00-4fd446d257b2",
        "colab": {
          "base_uri": "https://localhost:8080/",
          "height": 34
        }
      },
      "source": [
        "df_train.socialEngagementType.unique()"
      ],
      "execution_count": 0,
      "outputs": [
        {
          "output_type": "execute_result",
          "data": {
            "text/plain": [
              "array(['Not Socially Engaged'], dtype=object)"
            ]
          },
          "metadata": {
            "tags": []
          },
          "execution_count": 31
        }
      ]
    },
    {
      "cell_type": "markdown",
      "metadata": {
        "id": "n4TfSZzDCbto",
        "colab_type": "text"
      },
      "source": [
        "# Qusetion:\n",
        "How can I use it?"
      ]
    },
    {
      "cell_type": "code",
      "metadata": {
        "id": "iYfjnJWLCPad",
        "colab_type": "code",
        "outputId": "10983c35-5bcc-46c6-b4cc-d10f5d7c9780",
        "colab": {
          "base_uri": "https://localhost:8080/",
          "height": 88
        }
      },
      "source": [
        "#trafficSource - This section contains information about the Traffic Source from which the session originated.\n",
        "df_train.trafficSource[:10].unique()\n"
      ],
      "execution_count": 0,
      "outputs": [
        {
          "output_type": "execute_result",
          "data": {
            "text/plain": [
              "array(['{\"campaign\": \"(not set)\", \"source\": \"google\", \"medium\": \"organic\", \"keyword\": \"(not provided)\", \"adwordsClickInfo\": {\"criteriaParameters\": \"not available in demo dataset\"}, \"isTrueDirect\": true}',\n",
              "       '{\"campaign\": \"(not set)\", \"source\": \"google\", \"medium\": \"organic\", \"keyword\": \"(not provided)\", \"adwordsClickInfo\": {\"criteriaParameters\": \"not available in demo dataset\"}}'],\n",
              "      dtype=object)"
            ]
          },
          "metadata": {
            "tags": []
          },
          "execution_count": 32
        }
      ]
    },
    {
      "cell_type": "code",
      "metadata": {
        "id": "-KyI1CglDDWu",
        "colab_type": "code",
        "colab": {}
      },
      "source": [
        "#hits - This row and nested fields are populated for any and all types of hits. Provides a record of all page visits.\n",
        "df_train.hits[:10].unique()"
      ],
      "execution_count": 0,
      "outputs": []
    },
    {
      "cell_type": "code",
      "metadata": {
        "id": "qVNwJ082DE00",
        "colab_type": "code",
        "colab": {}
      },
      "source": [
        "#customDimensions - This section contains any user-level or session-level custom dimensions that are set for a session. This is a repeated field and has an entry for each dimension that is set.\n"
      ],
      "execution_count": 0,
      "outputs": []
    },
    {
      "cell_type": "markdown",
      "metadata": {
        "id": "9bkaHdUuEy49",
        "colab_type": "text"
      },
      "source": [
        "# Question:"
      ]
    },
    {
      "cell_type": "code",
      "metadata": {
        "id": "cPZVByD9EO_N",
        "colab_type": "code",
        "outputId": "79f06dd9-aa27-4157-e40a-730bfa566710",
        "colab": {
          "base_uri": "https://localhost:8080/",
          "height": 163
        }
      },
      "source": [
        "#**date** - The date on which the user visited the Store.\n",
        "date_aggregated.describe()"
      ],
      "execution_count": 0,
      "outputs": [
        {
          "output_type": "error",
          "ename": "NameError",
          "evalue": "ignored",
          "traceback": [
            "\u001b[0;31m---------------------------------------------------------------------------\u001b[0m",
            "\u001b[0;31mNameError\u001b[0m                                 Traceback (most recent call last)",
            "\u001b[0;32m<ipython-input-38-056c30690b7f>\u001b[0m in \u001b[0;36m<module>\u001b[0;34m()\u001b[0m\n\u001b[0;32m----> 1\u001b[0;31m \u001b[0mdate_aggregated\u001b[0m\u001b[0;34m.\u001b[0m\u001b[0mdescribe\u001b[0m\u001b[0;34m(\u001b[0m\u001b[0;34m)\u001b[0m\u001b[0;34m\u001b[0m\u001b[0;34m\u001b[0m\u001b[0m\n\u001b[0m",
            "\u001b[0;31mNameError\u001b[0m: name 'date_aggregated' is not defined"
          ]
        }
      ]
    },
    {
      "cell_type": "code",
      "metadata": {
        "id": "85Ah_adg-7ql",
        "colab_type": "code",
        "colab": {}
      },
      "source": [
        "#which are the popular channels the user came to the Store with?"
      ],
      "execution_count": 0,
      "outputs": []
    },
    {
      "cell_type": "markdown",
      "metadata": {
        "id": "y0b7mBpZAmOK",
        "colab_type": "text"
      },
      "source": [
        "# What the columns mean"
      ]
    },
    {
      "cell_type": "markdown",
      "metadata": {
        "id": "jypnD-j5AtwW",
        "colab_type": "text"
      },
      "source": [
        "Each row in the dataset is one visit to the store. \n",
        "We are predicting the log of the total revenue per user.\n",
        "Be aware that not all rows in test.csv will correspond to a row in the submission, but all unique fullVisitorIds will correspond to a row in the submission."
      ]
    },
    {
      "cell_type": "markdown",
      "metadata": {
        "id": "Zt_cFgHbNnw1",
        "colab_type": "text"
      },
      "source": [
        "# Separating JSON written columns"
      ]
    },
    {
      "cell_type": "code",
      "metadata": {
        "id": "dDq5WjWu8mTz",
        "colab_type": "code",
        "colab": {}
      },
      "source": [
        "TODO rewrite it \n",
        "# j_columns = ['device', 'geoNetwork', 'totals', 'trafficSource'] # Columns that have json format\n",
        "# #Code to transform the json format columns in table\n",
        "# def json_to_load(data_Ml):\n",
        "#     data_Ml = pd.read_csv('trainML.csv',converters={column: json.loads for column in j_columns})\n",
        "#     for column in j_columns:\n",
        "#         df_j_columns = json_normalize(data_Ml[column])\n",
        "#         # here will be set the name using the category and subcategory of json columns\n",
        "#         df_j_columns.columns = [f\"{column}.{subcolumn}\" for subcolumn in df_j_columns.columns]\n",
        "#         #let drop the original columns\n",
        "#         data_Ml = data_Ml.drop(column, axis=1).merge(df_j_columns,right_index=True, left_index=True)\n",
        "#     return data_Ml"
      ],
      "execution_count": 0,
      "outputs": []
    }
  ]
}